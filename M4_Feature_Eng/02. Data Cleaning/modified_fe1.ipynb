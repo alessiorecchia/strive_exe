{
 "cells": [
  {
   "cell_type": "markdown",
   "metadata": {},
   "source": [
    "## Imports"
   ]
  },
  {
   "cell_type": "code",
   "execution_count": null,
   "metadata": {},
   "outputs": [],
   "source": [
    "# pip install --upgrade scikit-learn"
   ]
  },
  {
   "cell_type": "code",
   "execution_count": 1,
   "metadata": {
    "colab": {},
    "colab_type": "code",
    "id": "mjnuJ19dJV7v"
   },
   "outputs": [
    {
     "output_type": "stream",
     "name": "stdout",
     "text": [
      "Pandas   1.2.4\nSklearn  0.24.1\nPython 3.8.8\n"
     ]
    }
   ],
   "source": [
    "import time\n",
    "from IPython.display import clear_output\n",
    "import numpy    as np\n",
    "import pandas   as pd\n",
    "import seaborn  as sb\n",
    "import matplotlib.pyplot as plt\n",
    "import sklearn  as skl\n",
    "from platform import python_version\n",
    "\n",
    "from sklearn import pipeline      # Pipeline\n",
    "from sklearn import preprocessing # OrdinalEncoder, LabelEncoder\n",
    "from sklearn import impute\n",
    "from sklearn import compose\n",
    "from sklearn import model_selection # train_test_split\n",
    "from sklearn import metrics         # accuracy_score, balanced_accuracy_score, plot_confusion_matrix\n",
    "from sklearn import set_config\n",
    "\n",
    "\n",
    "set_config(display='diagram') # Useful for display the pipeline\n",
    "\n",
    "print(\"Pandas  \", pd.__version__)\n",
    "print(\"Sklearn \", skl.__version__) # Try to use 0.24\n",
    "print(\"Python\", python_version())"
   ]
  },
  {
   "cell_type": "markdown",
   "metadata": {},
   "source": [
    "## Get the dataset\n",
    "- **CLOUD = True**: Download dataset from Kaggle. Necesary for cloud enviroments like COLAB. **Specify your [kaggle credentials](https://www.kaggle.com/docs/api)**.\n",
    "- **CLOUD = False**: Get the dataset from your local machine. **Specify the data path**."
   ]
  },
  {
   "cell_type": "code",
   "execution_count": 2,
   "metadata": {},
   "outputs": [],
   "source": [
    "CLOUD = False\n",
    "\n",
    "if CLOUD:\n",
    "    import os\n",
    "    os.environ['KAGGLE_USERNAME'] = \"your_kaggle_username\"\n",
    "    os.environ['KAGGLE_KEY']      = \"your_kaggle_api_key\"  # See https://www.kaggle.com/docs/api\n",
    "    !pip install --upgrade kaggle\n",
    "    !kaggle competitions download -c titanic\n",
    "    DATA_PATH = \"./\"\n",
    "\n",
    "else:\n",
    "    DATA_PATH = \"../../Datasets/Tabular/titanic/\""
   ]
  },
  {
   "cell_type": "markdown",
   "metadata": {},
   "source": [
    "## Load data"
   ]
  },
  {
   "cell_type": "code",
   "execution_count": 3,
   "metadata": {
    "colab": {},
    "colab_type": "code",
    "id": "wAy8TnVPJV8S"
   },
   "outputs": [
    {
     "output_type": "stream",
     "name": "stdout",
     "text": [
      "Train DataFrame: (891, 11)\nTest DataFrame:  (418, 10)\n"
     ]
    }
   ],
   "source": [
    "df      = pd.read_csv(DATA_PATH + \"train.csv\", index_col='PassengerId')\n",
    "df_test = pd.read_csv(DATA_PATH + \"test.csv\",  index_col='PassengerId')\n",
    "\n",
    "print(\"Train DataFrame:\", df.shape)\n",
    "print(\"Test DataFrame: \", df_test.shape)"
   ]
  },
  {
   "cell_type": "code",
   "execution_count": 4,
   "metadata": {},
   "outputs": [
    {
     "output_type": "execute_result",
     "data": {
      "text/plain": [
       "             Survived  Pclass  \\\n",
       "PassengerId                     \n",
       "1                   0       3   \n",
       "2                   1       1   \n",
       "3                   1       3   \n",
       "4                   1       1   \n",
       "5                   0       3   \n",
       "\n",
       "                                                          Name     Sex   Age  \\\n",
       "PassengerId                                                                    \n",
       "1                                      Braund, Mr. Owen Harris    male  22.0   \n",
       "2            Cumings, Mrs. John Bradley (Florence Briggs Th...  female  38.0   \n",
       "3                                       Heikkinen, Miss. Laina  female  26.0   \n",
       "4                 Futrelle, Mrs. Jacques Heath (Lily May Peel)  female  35.0   \n",
       "5                                     Allen, Mr. William Henry    male  35.0   \n",
       "\n",
       "             SibSp  Parch            Ticket     Fare Cabin Embarked  \n",
       "PassengerId                                                          \n",
       "1                1      0         A/5 21171   7.2500   NaN        S  \n",
       "2                1      0          PC 17599  71.2833   C85        C  \n",
       "3                0      0  STON/O2. 3101282   7.9250   NaN        S  \n",
       "4                1      0            113803  53.1000  C123        S  \n",
       "5                0      0            373450   8.0500   NaN        S  "
      ],
      "text/html": "<div>\n<style scoped>\n    .dataframe tbody tr th:only-of-type {\n        vertical-align: middle;\n    }\n\n    .dataframe tbody tr th {\n        vertical-align: top;\n    }\n\n    .dataframe thead th {\n        text-align: right;\n    }\n</style>\n<table border=\"1\" class=\"dataframe\">\n  <thead>\n    <tr style=\"text-align: right;\">\n      <th></th>\n      <th>Survived</th>\n      <th>Pclass</th>\n      <th>Name</th>\n      <th>Sex</th>\n      <th>Age</th>\n      <th>SibSp</th>\n      <th>Parch</th>\n      <th>Ticket</th>\n      <th>Fare</th>\n      <th>Cabin</th>\n      <th>Embarked</th>\n    </tr>\n    <tr>\n      <th>PassengerId</th>\n      <th></th>\n      <th></th>\n      <th></th>\n      <th></th>\n      <th></th>\n      <th></th>\n      <th></th>\n      <th></th>\n      <th></th>\n      <th></th>\n      <th></th>\n    </tr>\n  </thead>\n  <tbody>\n    <tr>\n      <th>1</th>\n      <td>0</td>\n      <td>3</td>\n      <td>Braund, Mr. Owen Harris</td>\n      <td>male</td>\n      <td>22.0</td>\n      <td>1</td>\n      <td>0</td>\n      <td>A/5 21171</td>\n      <td>7.2500</td>\n      <td>NaN</td>\n      <td>S</td>\n    </tr>\n    <tr>\n      <th>2</th>\n      <td>1</td>\n      <td>1</td>\n      <td>Cumings, Mrs. John Bradley (Florence Briggs Th...</td>\n      <td>female</td>\n      <td>38.0</td>\n      <td>1</td>\n      <td>0</td>\n      <td>PC 17599</td>\n      <td>71.2833</td>\n      <td>C85</td>\n      <td>C</td>\n    </tr>\n    <tr>\n      <th>3</th>\n      <td>1</td>\n      <td>3</td>\n      <td>Heikkinen, Miss. Laina</td>\n      <td>female</td>\n      <td>26.0</td>\n      <td>0</td>\n      <td>0</td>\n      <td>STON/O2. 3101282</td>\n      <td>7.9250</td>\n      <td>NaN</td>\n      <td>S</td>\n    </tr>\n    <tr>\n      <th>4</th>\n      <td>1</td>\n      <td>1</td>\n      <td>Futrelle, Mrs. Jacques Heath (Lily May Peel)</td>\n      <td>female</td>\n      <td>35.0</td>\n      <td>1</td>\n      <td>0</td>\n      <td>113803</td>\n      <td>53.1000</td>\n      <td>C123</td>\n      <td>S</td>\n    </tr>\n    <tr>\n      <th>5</th>\n      <td>0</td>\n      <td>3</td>\n      <td>Allen, Mr. William Henry</td>\n      <td>male</td>\n      <td>35.0</td>\n      <td>0</td>\n      <td>0</td>\n      <td>373450</td>\n      <td>8.0500</td>\n      <td>NaN</td>\n      <td>S</td>\n    </tr>\n  </tbody>\n</table>\n</div>"
     },
     "metadata": {},
     "execution_count": 4
    }
   ],
   "source": [
    "df.head()"
   ]
  },
  {
   "cell_type": "markdown",
   "metadata": {},
   "source": [
    "## Check missings"
   ]
  },
  {
   "cell_type": "code",
   "execution_count": 5,
   "metadata": {},
   "outputs": [
    {
     "output_type": "execute_result",
     "data": {
      "text/plain": [
       "Survived      0\n",
       "Pclass        0\n",
       "Name          0\n",
       "Sex           0\n",
       "Age         177\n",
       "SibSp         0\n",
       "Parch         0\n",
       "Ticket        0\n",
       "Fare          0\n",
       "Cabin       687\n",
       "Embarked      2\n",
       "dtype: int64"
      ]
     },
     "metadata": {},
     "execution_count": 5
    }
   ],
   "source": [
    "df.isnull().sum()"
   ]
  },
  {
   "cell_type": "code",
   "execution_count": 6,
   "metadata": {},
   "outputs": [
    {
     "output_type": "execute_result",
     "data": {
      "text/plain": [
       "Pclass        0\n",
       "Name          0\n",
       "Sex           0\n",
       "Age          86\n",
       "SibSp         0\n",
       "Parch         0\n",
       "Ticket        0\n",
       "Fare          1\n",
       "Cabin       327\n",
       "Embarked      0\n",
       "dtype: int64"
      ]
     },
     "metadata": {},
     "execution_count": 6
    }
   ],
   "source": [
    "df_test.isnull().sum()"
   ]
  },
  {
   "cell_type": "markdown",
   "metadata": {},
   "source": [
    "# Exercise 1 (2pts):\n",
    "Extract the title (Mr, Mrs, ... ) from the \"Name\" column.\n",
    "\n",
    "Tips:\n",
    "- split(',')[1] to get the 2nd part, and remove the surnamename\n",
    "- split('.')[0] to get the 1str part, and remove the name"
   ]
  },
  {
   "cell_type": "code",
   "execution_count": 7,
   "metadata": {
    "deletable": false,
    "nbgrader": {
     "cell_type": "code",
     "checksum": "cac1de4ed2d966fcdf707a8bfd131fba",
     "grade": false,
     "grade_id": "cell-d56107842f0f54d2",
     "locked": false,
     "schema_version": 3,
     "solution": true,
     "task": false
    }
   },
   "outputs": [],
   "source": [
    "# CODE HERE get_Title_from_Name funtion\n",
    "# Create this function using lambda (not def)\n",
    "\n",
    "get_Title_from_Name = None\n",
    "\n",
    "# YOUR CODE HERE\n",
    "get_Title_from_Name = lambda name: name.split(',')[1].split('.')[0].strip()\n",
    "\n",
    "df['Title']      = df['Name'].map(get_Title_from_Name)\n",
    "df_test['Title'] = df_test['Name'].map(get_Title_from_Name)"
   ]
  },
  {
   "cell_type": "code",
   "execution_count": 8,
   "metadata": {
    "deletable": false,
    "editable": false,
    "nbgrader": {
     "cell_type": "code",
     "checksum": "f23c4d567e5fb4f4b69a001df14c6f7c",
     "grade": true,
     "grade_id": "cell-f3d989a17018344b",
     "locked": true,
     "points": 2,
     "schema_version": 3,
     "solution": false,
     "task": false
    }
   },
   "outputs": [],
   "source": [
    "assert df['Title'].values[0] == \"Mr\"\n",
    "assert df['Title'].values[1] == \"Mrs\"\n",
    "assert df['Title'].values[2] == \"Miss\"\n",
    "\n",
    "assert df_test['Title'].values[0] == \"Mr\"\n",
    "assert df_test['Title'].values[1] == \"Mrs\"\n",
    "assert df_test['Title'].values[414] == \"Dona\""
   ]
  },
  {
   "cell_type": "markdown",
   "metadata": {},
   "source": [
    "# Exercise 2 (1pts):\n",
    "Apply the title_dictionary to get a better information about the title. You have to overwrite the Title variable."
   ]
  },
  {
   "cell_type": "code",
   "execution_count": 9,
   "metadata": {},
   "outputs": [],
   "source": [
    "title_dictionary = {\n",
    "    \"Capt\": \"Officer\",\n",
    "    \"Col\": \"Officer\",\n",
    "    \"Major\": \"Officer\",\n",
    "    \"Jonkheer\": \"Royalty\",\n",
    "    \"Don\": \"Royalty\",\n",
    "    \"Sir\" : \"Royalty\",\n",
    "    \"Dr\": \"Officer\",\n",
    "    \"Rev\": \"Officer\",\n",
    "    \"the Countess\":\"Royalty\",\n",
    "    \"Mme\": \"Mrs\",\n",
    "    \"Mlle\": \"Miss\",\n",
    "    \"Ms\": \"Mrs\",\n",
    "    \"Mr\" : \"Mr\",\n",
    "    \"Mrs\" : \"Mrs\",\n",
    "    \"Miss\" : \"Miss\",\n",
    "    \"Master\" : \"Master\",\n",
    "    \"Lady\" : \"Royalty\"\n",
    "}"
   ]
  },
  {
   "cell_type": "code",
   "execution_count": 10,
   "metadata": {
    "deletable": false,
    "nbgrader": {
     "cell_type": "code",
     "checksum": "da7233548e7218eded680b5edb7963de",
     "grade": false,
     "grade_id": "cell-5c6a842c812fafda",
     "locked": false,
     "schema_version": 3,
     "solution": true,
     "task": false
    }
   },
   "outputs": [],
   "source": [
    "# Use map to apply the prevous dict\n",
    "\n",
    "# df[\"Title\"] =  \n",
    "# df_test[\"Title\"] =\n",
    "\n",
    "# YOUR CODE HERE\n",
    "df['Title'] = df['Title'].map(title_dictionary)\n",
    "df_test['Title'] = df_test['Title'].map(title_dictionary)"
   ]
  },
  {
   "cell_type": "code",
   "execution_count": 11,
   "metadata": {
    "deletable": false,
    "editable": false,
    "nbgrader": {
     "cell_type": "code",
     "checksum": "96a09f1cde63b704ff2f391309c30690",
     "grade": true,
     "grade_id": "cell-669f5a637e57e835",
     "locked": true,
     "points": 1,
     "schema_version": 3,
     "solution": false,
     "task": false
    }
   },
   "outputs": [],
   "source": [
    "assert df['Title'].values[886] == \"Officer\"\n",
    "assert df_test['Title'].values[417] == \"Master\""
   ]
  },
  {
   "cell_type": "markdown",
   "metadata": {},
   "source": [
    "# Exercise OPTINAL (0pts):\n",
    "Try to extract some information from the feature **Ticket**. Search on Internet if that colum has some kind of information."
   ]
  },
  {
   "cell_type": "code",
   "execution_count": 12,
   "metadata": {},
   "outputs": [
    {
     "output_type": "execute_result",
     "data": {
      "text/plain": [
       "PassengerId\n",
       "892                 330911\n",
       "893                 363272\n",
       "894                 240276\n",
       "895                 315154\n",
       "896                3101298\n",
       "               ...        \n",
       "1305             A.5. 3236\n",
       "1306              PC 17758\n",
       "1307    SOTON/O.Q. 3101262\n",
       "1308                359309\n",
       "1309                  2668\n",
       "Name: Ticket, Length: 418, dtype: object"
      ]
     },
     "metadata": {},
     "execution_count": 12
    }
   ],
   "source": [
    "df_test['Ticket']"
   ]
  },
  {
   "cell_type": "markdown",
   "metadata": {},
   "source": [
    "# Exercise OPTIONAL (0pts):\n",
    "Try to extract some information from the feature **Cabin**. Search on Internet if that colum has some kind of information."
   ]
  },
  {
   "cell_type": "code",
   "execution_count": 13,
   "metadata": {},
   "outputs": [],
   "source": [
    "df['Cabin'] = df['Cabin'].notna().astype(int)\n",
    "df_test['Cabin'] = df_test['Cabin'].notna().astype(int)"
   ]
  },
  {
   "cell_type": "code",
   "execution_count": 14,
   "metadata": {},
   "outputs": [
    {
     "output_type": "execute_result",
     "data": {
      "text/plain": [
       "(             Survived  Pclass  \\\n",
       " PassengerId                     \n",
       " 1                   0       3   \n",
       " 2                   1       1   \n",
       " 3                   1       3   \n",
       " 4                   1       1   \n",
       " 5                   0       3   \n",
       " ...               ...     ...   \n",
       " 887                 0       2   \n",
       " 888                 1       1   \n",
       " 889                 0       3   \n",
       " 890                 1       1   \n",
       " 891                 0       3   \n",
       " \n",
       "                                                           Name     Sex   Age  \\\n",
       " PassengerId                                                                    \n",
       " 1                                      Braund, Mr. Owen Harris    male  22.0   \n",
       " 2            Cumings, Mrs. John Bradley (Florence Briggs Th...  female  38.0   \n",
       " 3                                       Heikkinen, Miss. Laina  female  26.0   \n",
       " 4                 Futrelle, Mrs. Jacques Heath (Lily May Peel)  female  35.0   \n",
       " 5                                     Allen, Mr. William Henry    male  35.0   \n",
       " ...                                                        ...     ...   ...   \n",
       " 887                                      Montvila, Rev. Juozas    male  27.0   \n",
       " 888                               Graham, Miss. Margaret Edith  female  19.0   \n",
       " 889                   Johnston, Miss. Catherine Helen \"Carrie\"  female   NaN   \n",
       " 890                                      Behr, Mr. Karl Howell    male  26.0   \n",
       " 891                                        Dooley, Mr. Patrick    male  32.0   \n",
       " \n",
       "              SibSp  Parch            Ticket     Fare  Cabin Embarked    Title  \n",
       " PassengerId                                                                    \n",
       " 1                1      0         A/5 21171   7.2500      0        S       Mr  \n",
       " 2                1      0          PC 17599  71.2833      1        C      Mrs  \n",
       " 3                0      0  STON/O2. 3101282   7.9250      0        S     Miss  \n",
       " 4                1      0            113803  53.1000      1        S      Mrs  \n",
       " 5                0      0            373450   8.0500      0        S       Mr  \n",
       " ...            ...    ...               ...      ...    ...      ...      ...  \n",
       " 887              0      0            211536  13.0000      0        S  Officer  \n",
       " 888              0      0            112053  30.0000      1        S     Miss  \n",
       " 889              1      2        W./C. 6607  23.4500      0        S     Miss  \n",
       " 890              0      0            111369  30.0000      1        C       Mr  \n",
       " 891              0      0            370376   7.7500      0        Q       Mr  \n",
       " \n",
       " [891 rows x 12 columns],\n",
       "              Pclass                                          Name     Sex  \\\n",
       " PassengerId                                                                 \n",
       " 892               3                              Kelly, Mr. James    male   \n",
       " 893               3              Wilkes, Mrs. James (Ellen Needs)  female   \n",
       " 894               2                     Myles, Mr. Thomas Francis    male   \n",
       " 895               3                              Wirz, Mr. Albert    male   \n",
       " 896               3  Hirvonen, Mrs. Alexander (Helga E Lindqvist)  female   \n",
       " ...             ...                                           ...     ...   \n",
       " 1305              3                            Spector, Mr. Woolf    male   \n",
       " 1306              1                  Oliva y Ocana, Dona. Fermina  female   \n",
       " 1307              3                  Saether, Mr. Simon Sivertsen    male   \n",
       " 1308              3                           Ware, Mr. Frederick    male   \n",
       " 1309              3                      Peter, Master. Michael J    male   \n",
       " \n",
       "               Age  SibSp  Parch              Ticket      Fare  Cabin Embarked  \\\n",
       " PassengerId                                                                     \n",
       " 892          34.5      0      0              330911    7.8292      0        Q   \n",
       " 893          47.0      1      0              363272    7.0000      0        S   \n",
       " 894          62.0      0      0              240276    9.6875      0        Q   \n",
       " 895          27.0      0      0              315154    8.6625      0        S   \n",
       " 896          22.0      1      1             3101298   12.2875      0        S   \n",
       " ...           ...    ...    ...                 ...       ...    ...      ...   \n",
       " 1305          NaN      0      0           A.5. 3236    8.0500      0        S   \n",
       " 1306         39.0      0      0            PC 17758  108.9000      1        C   \n",
       " 1307         38.5      0      0  SOTON/O.Q. 3101262    7.2500      0        S   \n",
       " 1308          NaN      0      0              359309    8.0500      0        S   \n",
       " 1309          NaN      1      1                2668   22.3583      0        C   \n",
       " \n",
       "               Title  \n",
       " PassengerId          \n",
       " 892              Mr  \n",
       " 893             Mrs  \n",
       " 894              Mr  \n",
       " 895              Mr  \n",
       " 896             Mrs  \n",
       " ...             ...  \n",
       " 1305             Mr  \n",
       " 1306            NaN  \n",
       " 1307             Mr  \n",
       " 1308             Mr  \n",
       " 1309         Master  \n",
       " \n",
       " [418 rows x 11 columns])"
      ]
     },
     "metadata": {},
     "execution_count": 14
    }
   ],
   "source": [
    "df, df_test"
   ]
  },
  {
   "cell_type": "markdown",
   "metadata": {},
   "source": [
    "# Preprocessing\n",
    "For X data, notice that...\n",
    "- We drop Survived because is the target variable\n",
    "- We drop Name because we have extracted the Title: Mr, Mrs, ...\n",
    "- We drop Ticket because it has no information -> see df.Ticket.nunique()\n",
    "- We drop Cabin because it has a lot of missings (77% are missings)\n",
    "\n",
    "Then, we identify **numerical** variables and **categorical** variables,"
   ]
  },
  {
   "cell_type": "code",
   "execution_count": 15,
   "metadata": {},
   "outputs": [],
   "source": [
    "x = df.drop(columns=[\"Survived\", 'Name', 'Ticket']) # X DATA (WILL BE TRAIN+VALID DATA)\n",
    "y = df[\"Survived\"] # 0 = No, 1 = Yes\n",
    "\n",
    "x_test = df_test.drop(columns=['Name', 'Ticket']) # # X_TEST DATA (NEW DATA)"
   ]
  },
  {
   "cell_type": "code",
   "execution_count": 16,
   "metadata": {},
   "outputs": [
    {
     "output_type": "execute_result",
     "data": {
      "text/plain": [
       "Pclass        0\n",
       "Sex           0\n",
       "Age         177\n",
       "SibSp         0\n",
       "Parch         0\n",
       "Fare          0\n",
       "Cabin         0\n",
       "Embarked      2\n",
       "Title         0\n",
       "dtype: int64"
      ]
     },
     "metadata": {},
     "execution_count": 16
    }
   ],
   "source": [
    "x.isna().sum()"
   ]
  },
  {
   "cell_type": "code",
   "execution_count": 17,
   "metadata": {},
   "outputs": [
    {
     "output_type": "stream",
     "name": "stdout",
     "text": [
      "\nNumerical features:\n ['Pclass', 'SibSp', 'Parch', 'Fare', 'Age', 'Cabin']\n\nCategorical features:\n ['Sex', 'Embarked', 'Title']\n"
     ]
    }
   ],
   "source": [
    "cat_vars  = ['Sex', 'Embarked', 'Title']         # x.select_dtypes(include=[object]).columns.values.tolist()\n",
    "num_vars  = ['Pclass', 'SibSp', 'Parch', 'Fare', 'Age', 'Cabin'] # x.select_dtypes(exclude=[object]).columns.values.tolist()\n",
    "\n",
    "print(\"\\nNumerical features:\\n\", num_vars)\n",
    "print(\"\\nCategorical features:\\n\", cat_vars)"
   ]
  },
  {
   "cell_type": "markdown",
   "metadata": {},
   "source": [
    "# Exercise 3 (2pts):\n",
    "Create a **ColumnTransformer for Tree Models**. You need to create 2 pipelines (one for numerical and other for categories). Remember:\n",
    "- Categorical pipeline: Some SimpleImputer -> Some Encoder\n",
    "- Numerical pipeline: Some SimpleImputer -> NO Encoder"
   ]
  },
  {
   "cell_type": "code",
   "execution_count": 55,
   "metadata": {
    "deletable": false,
    "nbgrader": {
     "cell_type": "code",
     "checksum": "4a99fc5ecc693dc549b0e1560c568eea",
     "grade": false,
     "grade_id": "cell-c607e75fb38ea248",
     "locked": false,
     "schema_version": 3,
     "solution": true,
     "task": false
    }
   },
   "outputs": [],
   "source": [
    "\"\"\"\n",
    "num_preprocessing = pipeline.Pipeline(steps=[\n",
    "  # Some SimpleImputer here\n",
    "])\n",
    "\n",
    "cat_preporcessing = pipeline.Pipeline(steps=[\n",
    "  # Some SimpleImputer here\n",
    "  # Some Encoder here. Remember to handle_unknown\n",
    "])\n",
    "\n",
    "tree_prepro = compose.ColumnTransformer(transformers=[\n",
    "    ('num', num_preprocessing, num_vars),\n",
    "    ('cat', cat_preporcessing, cat_vars),\n",
    "], remainder='drop') # Drop other vars not specified in num_vars or cat_vars\n",
    "\n",
    "tree_prepro\n",
    "\"\"\";\n",
    "\n",
    "# YOUR CODE HERE\n",
    "from sklearn.experimental import enable_iterative_imputer\n",
    "\n",
    "num_4_treeModels = pipeline.Pipeline(steps=[\n",
    "  # Some SimpleImputer here\n",
    "  ('imputer', impute.SimpleImputer(strategy='mean', add_indicator=True)), # mean, median\n",
    "])\n",
    "\n",
    "cat_4_treeModels = pipeline.Pipeline(steps=[  \n",
    "  # Some SimpleImputer here\n",
    "  ('imputer', impute.SimpleImputer(strategy='constant', fill_value='missing', add_indicator=True)),\n",
    "  # Some Encoder here. Remember to handle_unknown\n",
    "  ('ordinal', preprocessing.OrdinalEncoder(categories='auto', handle_unknown='use_encoded_value', unknown_value=-9999))\n",
    "  # ('ordinal', preprocessing.OrdinalEncoder(categories='auto', handle_unknown='ignore'))\n",
    "])\n",
    "\n",
    "num_4_multModels = pipeline.Pipeline(steps=[\n",
    "  # Some SimpleImputer here\n",
    "  # ('imputer', impute.SimpleImputer(strategy='mean', add_indicator=False)), # mean, median\n",
    "  ('imputer', impute.KNNImputer(n_neighbors=10, add_indicator=True)), # mean, median\n",
    "  ('quant', preprocessing.QuantileTransformer(output_distribution='normal', random_state=73)),\n",
    "  ('norm', preprocessing.Normalizer()),\n",
    "])\n",
    "\n",
    "cat_4_multModels = pipeline.Pipeline(steps=[\n",
    "  # Some SimpleImputer here\n",
    "  ('imputer', impute.SimpleImputer(strategy='constant', fill_value='missing', add_indicator=True)),\n",
    "  # Some Encoder here. Remember to handle_unknown\n",
    "  ('onehot', preprocessing.OneHotEncoder(categories='auto', handle_unknown='ignore')),\n",
    "])\n",
    "\n",
    "tree_prepro = compose.ColumnTransformer(transformers=[\n",
    "    ('num_t', num_4_treeModels, num_vars),\n",
    "    ('cat_t', cat_4_treeModels, cat_vars),\n",
    "], remainder='drop') # Drop other vars not specified in num_vars or cat_vars\n",
    "\n",
    "mult_prepro = compose.ColumnTransformer(transformers=[\n",
    "    ('num_m', num_4_multModels, num_vars),\n",
    "    ('cat_m', cat_4_multModels, cat_vars),\n",
    "], remainder='drop') # Drop other vars not specified in num_vars or cat_vars\n",
    "\n"
   ]
  },
  {
   "cell_type": "code",
   "execution_count": 56,
   "metadata": {},
   "outputs": [
    {
     "output_type": "execute_result",
     "data": {
      "text/plain": [
       "ColumnTransformer(transformers=[('num_m',\n",
       "                                 Pipeline(steps=[('imputer',\n",
       "                                                  KNNImputer(add_indicator=True,\n",
       "                                                             n_neighbors=10)),\n",
       "                                                 ('quant',\n",
       "                                                  QuantileTransformer(output_distribution='normal',\n",
       "                                                                      random_state=73))]),\n",
       "                                 ['Pclass', 'SibSp', 'Parch', 'Fare', 'Age',\n",
       "                                  'Cabin']),\n",
       "                                ('cat_m',\n",
       "                                 Pipeline(steps=[('imputer',\n",
       "                                                  SimpleImputer(add_indicator=True,\n",
       "                                                                fill_value='missing',\n",
       "                                                                strategy='constant')),\n",
       "                                                 ('onehot',\n",
       "                                                  OneHotEncoder(handle_unknown='ignore'))]),\n",
       "                                 ['Sex', 'Embarked', 'Title'])])"
      ],
      "text/html": "<style>div.sk-top-container {color: black;background-color: white;}div.sk-toggleable {background-color: white;}label.sk-toggleable__label {cursor: pointer;display: block;width: 100%;margin-bottom: 0;padding: 0.2em 0.3em;box-sizing: border-box;text-align: center;}div.sk-toggleable__content {max-height: 0;max-width: 0;overflow: hidden;text-align: left;background-color: #f0f8ff;}div.sk-toggleable__content pre {margin: 0.2em;color: black;border-radius: 0.25em;background-color: #f0f8ff;}input.sk-toggleable__control:checked~div.sk-toggleable__content {max-height: 200px;max-width: 100%;overflow: auto;}div.sk-estimator input.sk-toggleable__control:checked~label.sk-toggleable__label {background-color: #d4ebff;}div.sk-label input.sk-toggleable__control:checked~label.sk-toggleable__label {background-color: #d4ebff;}input.sk-hidden--visually {border: 0;clip: rect(1px 1px 1px 1px);clip: rect(1px, 1px, 1px, 1px);height: 1px;margin: -1px;overflow: hidden;padding: 0;position: absolute;width: 1px;}div.sk-estimator {font-family: monospace;background-color: #f0f8ff;margin: 0.25em 0.25em;border: 1px dotted black;border-radius: 0.25em;box-sizing: border-box;}div.sk-estimator:hover {background-color: #d4ebff;}div.sk-parallel-item::after {content: \"\";width: 100%;border-bottom: 1px solid gray;flex-grow: 1;}div.sk-label:hover label.sk-toggleable__label {background-color: #d4ebff;}div.sk-serial::before {content: \"\";position: absolute;border-left: 1px solid gray;box-sizing: border-box;top: 2em;bottom: 0;left: 50%;}div.sk-serial {display: flex;flex-direction: column;align-items: center;background-color: white;}div.sk-item {z-index: 1;}div.sk-parallel {display: flex;align-items: stretch;justify-content: center;background-color: white;}div.sk-parallel-item {display: flex;flex-direction: column;position: relative;background-color: white;}div.sk-parallel-item:first-child::after {align-self: flex-end;width: 50%;}div.sk-parallel-item:last-child::after {align-self: flex-start;width: 50%;}div.sk-parallel-item:only-child::after {width: 0;}div.sk-dashed-wrapped {border: 1px dashed gray;margin: 0.2em;box-sizing: border-box;padding-bottom: 0.1em;background-color: white;position: relative;}div.sk-label label {font-family: monospace;font-weight: bold;background-color: white;display: inline-block;line-height: 1.2em;}div.sk-label-container {position: relative;z-index: 2;text-align: center;}div.sk-container {display: inline-block;position: relative;}</style><div class=\"sk-top-container\"><div class=\"sk-container\"><div class=\"sk-item sk-dashed-wrapped\"><div class=\"sk-label-container\"><div class=\"sk-label sk-toggleable\"><input class=\"sk-toggleable__control sk-hidden--visually\" id=\"c6dc0a67-dccf-4fdc-a08d-f9d96e6c5f20\" type=\"checkbox\" ><label class=\"sk-toggleable__label\" for=\"c6dc0a67-dccf-4fdc-a08d-f9d96e6c5f20\">ColumnTransformer</label><div class=\"sk-toggleable__content\"><pre>ColumnTransformer(transformers=[('num_m',\n                                 Pipeline(steps=[('imputer',\n                                                  KNNImputer(add_indicator=True,\n                                                             n_neighbors=10)),\n                                                 ('quant',\n                                                  QuantileTransformer(output_distribution='normal',\n                                                                      random_state=73))]),\n                                 ['Pclass', 'SibSp', 'Parch', 'Fare', 'Age',\n                                  'Cabin']),\n                                ('cat_m',\n                                 Pipeline(steps=[('imputer',\n                                                  SimpleImputer(add_indicator=True,\n                                                                fill_value='missing',\n                                                                strategy='constant')),\n                                                 ('onehot',\n                                                  OneHotEncoder(handle_unknown='ignore'))]),\n                                 ['Sex', 'Embarked', 'Title'])])</pre></div></div></div><div class=\"sk-parallel\"><div class=\"sk-parallel-item\"><div class=\"sk-item\"><div class=\"sk-label-container\"><div class=\"sk-label sk-toggleable\"><input class=\"sk-toggleable__control sk-hidden--visually\" id=\"d769f66b-2724-442a-ad47-93cb9fadfb99\" type=\"checkbox\" ><label class=\"sk-toggleable__label\" for=\"d769f66b-2724-442a-ad47-93cb9fadfb99\">num_m</label><div class=\"sk-toggleable__content\"><pre>['Pclass', 'SibSp', 'Parch', 'Fare', 'Age', 'Cabin']</pre></div></div></div><div class=\"sk-serial\"><div class=\"sk-item\"><div class=\"sk-serial\"><div class=\"sk-item\"><div class=\"sk-estimator sk-toggleable\"><input class=\"sk-toggleable__control sk-hidden--visually\" id=\"d4036957-b590-444b-8efc-291fd5063b32\" type=\"checkbox\" ><label class=\"sk-toggleable__label\" for=\"d4036957-b590-444b-8efc-291fd5063b32\">KNNImputer</label><div class=\"sk-toggleable__content\"><pre>KNNImputer(add_indicator=True, n_neighbors=10)</pre></div></div></div><div class=\"sk-item\"><div class=\"sk-estimator sk-toggleable\"><input class=\"sk-toggleable__control sk-hidden--visually\" id=\"5c7814f6-fe37-4452-887f-70fa7674455a\" type=\"checkbox\" ><label class=\"sk-toggleable__label\" for=\"5c7814f6-fe37-4452-887f-70fa7674455a\">QuantileTransformer</label><div class=\"sk-toggleable__content\"><pre>QuantileTransformer(output_distribution='normal', random_state=73)</pre></div></div></div></div></div></div></div></div><div class=\"sk-parallel-item\"><div class=\"sk-item\"><div class=\"sk-label-container\"><div class=\"sk-label sk-toggleable\"><input class=\"sk-toggleable__control sk-hidden--visually\" id=\"3e4bce63-fa97-4e31-aa04-7bf9e6bdb8f4\" type=\"checkbox\" ><label class=\"sk-toggleable__label\" for=\"3e4bce63-fa97-4e31-aa04-7bf9e6bdb8f4\">cat_m</label><div class=\"sk-toggleable__content\"><pre>['Sex', 'Embarked', 'Title']</pre></div></div></div><div class=\"sk-serial\"><div class=\"sk-item\"><div class=\"sk-serial\"><div class=\"sk-item\"><div class=\"sk-estimator sk-toggleable\"><input class=\"sk-toggleable__control sk-hidden--visually\" id=\"b47f7b6b-9260-4936-92af-25d154f11159\" type=\"checkbox\" ><label class=\"sk-toggleable__label\" for=\"b47f7b6b-9260-4936-92af-25d154f11159\">SimpleImputer</label><div class=\"sk-toggleable__content\"><pre>SimpleImputer(add_indicator=True, fill_value='missing', strategy='constant')</pre></div></div></div><div class=\"sk-item\"><div class=\"sk-estimator sk-toggleable\"><input class=\"sk-toggleable__control sk-hidden--visually\" id=\"c496ea63-92da-42bf-90fa-02099f3a261d\" type=\"checkbox\" ><label class=\"sk-toggleable__label\" for=\"c496ea63-92da-42bf-90fa-02099f3a261d\">OneHotEncoder</label><div class=\"sk-toggleable__content\"><pre>OneHotEncoder(handle_unknown='ignore')</pre></div></div></div></div></div></div></div></div></div></div></div></div>"
     },
     "metadata": {},
     "execution_count": 56
    }
   ],
   "source": [
    "mult_prepro"
   ]
  },
  {
   "cell_type": "code",
   "execution_count": 57,
   "metadata": {
    "deletable": false,
    "editable": false,
    "nbgrader": {
     "cell_type": "code",
     "checksum": "00bde840843413a4f57c4480f8930ef0",
     "grade": true,
     "grade_id": "cell-e636558135fb5975",
     "locked": true,
     "points": 2,
     "schema_version": 3,
     "solution": false,
     "task": false
    }
   },
   "outputs": [],
   "source": [
    "assert type(tree_prepro)      is compose._column_transformer.ColumnTransformer\n",
    "assert type(num_4_treeModels) is pipeline.Pipeline\n",
    "assert type(cat_4_treeModels) is pipeline.Pipeline\n",
    "assert len(num_4_treeModels) == 1\n",
    "assert len(cat_4_treeModels) == 2"
   ]
  },
  {
   "cell_type": "markdown",
   "metadata": {},
   "source": [
    "# Exercise 4 (1pts):\n",
    "1. Complete the diccionary with some Tree Models.\n",
    "2. Then we put each model in a Pipeline where:\n",
    "   - first is the prepocessing with the column Transformer\n",
    "   - Then is the Tree model\n",
    "3. Display the fullpipeline of the LGBMClassifier"
   ]
  },
  {
   "cell_type": "code",
   "execution_count": 58,
   "metadata": {},
   "outputs": [],
   "source": [
    "from sklearn.tree           import DecisionTreeClassifier\n",
    "from sklearn.ensemble       import RandomForestClassifier\n",
    "from sklearn.ensemble       import ExtraTreesClassifier\n",
    "from sklearn.ensemble       import AdaBoostClassifier\n",
    "from sklearn.ensemble       import GradientBoostingClassifier\n",
    "from sklearn.experimental   import enable_hist_gradient_boosting # Necesary for HistGradientBoostingClassifier\n",
    "from sklearn.ensemble       import HistGradientBoostingClassifier\n",
    "from xgboost                import XGBClassifier\n",
    "from lightgbm               import LGBMClassifier\n",
    "from catboost               import CatBoostClassifier\n",
    "\n",
    "from sklearn.svm            import SVC\n",
    "from sklearn.linear_model   import LogisticRegression\n",
    "from sklearn.neural_network import MLPClassifier\n",
    "from sklearn.neighbors      import KNeighborsClassifier\n",
    "from sklearn.naive_bayes    import CategoricalNB\n",
    "\n",
    "\n"
   ]
  },
  {
   "cell_type": "code",
   "execution_count": 59,
   "metadata": {
    "deletable": false,
    "nbgrader": {
     "cell_type": "code",
     "checksum": "f23af11f3af791efa5687477c0a4c9d6",
     "grade": false,
     "grade_id": "cell-76a3be8223730c5a",
     "locked": false,
     "schema_version": 3,
     "solution": true,
     "task": false
    }
   },
   "outputs": [
    {
     "output_type": "execute_result",
     "data": {
      "text/plain": [
       "Pipeline(steps=[('columntransformer',\n",
       "                 ColumnTransformer(transformers=[('num_m',\n",
       "                                                  Pipeline(steps=[('imputer',\n",
       "                                                                   KNNImputer(add_indicator=True,\n",
       "                                                                              n_neighbors=10)),\n",
       "                                                                  ('quant',\n",
       "                                                                   QuantileTransformer(output_distribution='normal',\n",
       "                                                                                       random_state=73))]),\n",
       "                                                  ['Pclass', 'SibSp', 'Parch',\n",
       "                                                   'Fare', 'Age', 'Cabin']),\n",
       "                                                 ('cat_m',\n",
       "                                                  Pipeline(steps=[('imputer',\n",
       "                                                                   SimpleImputer(add_indicator=True,\n",
       "                                                                                 fill_value='missing',\n",
       "                                                                                 strategy='constant')),\n",
       "                                                                  ('onehot',\n",
       "                                                                   OneHotEncoder(handle_unknown='ignore'))]),\n",
       "                                                  ['Sex', 'Embarked',\n",
       "                                                   'Title'])])),\n",
       "                ('mlpclassifier', MLPClassifier())])"
      ],
      "text/html": "<style>div.sk-top-container {color: black;background-color: white;}div.sk-toggleable {background-color: white;}label.sk-toggleable__label {cursor: pointer;display: block;width: 100%;margin-bottom: 0;padding: 0.2em 0.3em;box-sizing: border-box;text-align: center;}div.sk-toggleable__content {max-height: 0;max-width: 0;overflow: hidden;text-align: left;background-color: #f0f8ff;}div.sk-toggleable__content pre {margin: 0.2em;color: black;border-radius: 0.25em;background-color: #f0f8ff;}input.sk-toggleable__control:checked~div.sk-toggleable__content {max-height: 200px;max-width: 100%;overflow: auto;}div.sk-estimator input.sk-toggleable__control:checked~label.sk-toggleable__label {background-color: #d4ebff;}div.sk-label input.sk-toggleable__control:checked~label.sk-toggleable__label {background-color: #d4ebff;}input.sk-hidden--visually {border: 0;clip: rect(1px 1px 1px 1px);clip: rect(1px, 1px, 1px, 1px);height: 1px;margin: -1px;overflow: hidden;padding: 0;position: absolute;width: 1px;}div.sk-estimator {font-family: monospace;background-color: #f0f8ff;margin: 0.25em 0.25em;border: 1px dotted black;border-radius: 0.25em;box-sizing: border-box;}div.sk-estimator:hover {background-color: #d4ebff;}div.sk-parallel-item::after {content: \"\";width: 100%;border-bottom: 1px solid gray;flex-grow: 1;}div.sk-label:hover label.sk-toggleable__label {background-color: #d4ebff;}div.sk-serial::before {content: \"\";position: absolute;border-left: 1px solid gray;box-sizing: border-box;top: 2em;bottom: 0;left: 50%;}div.sk-serial {display: flex;flex-direction: column;align-items: center;background-color: white;}div.sk-item {z-index: 1;}div.sk-parallel {display: flex;align-items: stretch;justify-content: center;background-color: white;}div.sk-parallel-item {display: flex;flex-direction: column;position: relative;background-color: white;}div.sk-parallel-item:first-child::after {align-self: flex-end;width: 50%;}div.sk-parallel-item:last-child::after {align-self: flex-start;width: 50%;}div.sk-parallel-item:only-child::after {width: 0;}div.sk-dashed-wrapped {border: 1px dashed gray;margin: 0.2em;box-sizing: border-box;padding-bottom: 0.1em;background-color: white;position: relative;}div.sk-label label {font-family: monospace;font-weight: bold;background-color: white;display: inline-block;line-height: 1.2em;}div.sk-label-container {position: relative;z-index: 2;text-align: center;}div.sk-container {display: inline-block;position: relative;}</style><div class=\"sk-top-container\"><div class=\"sk-container\"><div class=\"sk-item sk-dashed-wrapped\"><div class=\"sk-label-container\"><div class=\"sk-label sk-toggleable\"><input class=\"sk-toggleable__control sk-hidden--visually\" id=\"84bc71ff-d028-4139-b193-9fef40fcc501\" type=\"checkbox\" ><label class=\"sk-toggleable__label\" for=\"84bc71ff-d028-4139-b193-9fef40fcc501\">Pipeline</label><div class=\"sk-toggleable__content\"><pre>Pipeline(steps=[('columntransformer',\n                 ColumnTransformer(transformers=[('num_m',\n                                                  Pipeline(steps=[('imputer',\n                                                                   KNNImputer(add_indicator=True,\n                                                                              n_neighbors=10)),\n                                                                  ('quant',\n                                                                   QuantileTransformer(output_distribution='normal',\n                                                                                       random_state=73))]),\n                                                  ['Pclass', 'SibSp', 'Parch',\n                                                   'Fare', 'Age', 'Cabin']),\n                                                 ('cat_m',\n                                                  Pipeline(steps=[('imputer',\n                                                                   SimpleImputer(add_indicator=True,\n                                                                                 fill_value='missing',\n                                                                                 strategy='constant')),\n                                                                  ('onehot',\n                                                                   OneHotEncoder(handle_unknown='ignore'))]),\n                                                  ['Sex', 'Embarked',\n                                                   'Title'])])),\n                ('mlpclassifier', MLPClassifier())])</pre></div></div></div><div class=\"sk-serial\"><div class=\"sk-item sk-dashed-wrapped\"><div class=\"sk-label-container\"><div class=\"sk-label sk-toggleable\"><input class=\"sk-toggleable__control sk-hidden--visually\" id=\"f39e1c6c-13d5-426e-94fa-793b107c915f\" type=\"checkbox\" ><label class=\"sk-toggleable__label\" for=\"f39e1c6c-13d5-426e-94fa-793b107c915f\">columntransformer: ColumnTransformer</label><div class=\"sk-toggleable__content\"><pre>ColumnTransformer(transformers=[('num_m',\n                                 Pipeline(steps=[('imputer',\n                                                  KNNImputer(add_indicator=True,\n                                                             n_neighbors=10)),\n                                                 ('quant',\n                                                  QuantileTransformer(output_distribution='normal',\n                                                                      random_state=73))]),\n                                 ['Pclass', 'SibSp', 'Parch', 'Fare', 'Age',\n                                  'Cabin']),\n                                ('cat_m',\n                                 Pipeline(steps=[('imputer',\n                                                  SimpleImputer(add_indicator=True,\n                                                                fill_value='missing',\n                                                                strategy='constant')),\n                                                 ('onehot',\n                                                  OneHotEncoder(handle_unknown='ignore'))]),\n                                 ['Sex', 'Embarked', 'Title'])])</pre></div></div></div><div class=\"sk-parallel\"><div class=\"sk-parallel-item\"><div class=\"sk-item\"><div class=\"sk-label-container\"><div class=\"sk-label sk-toggleable\"><input class=\"sk-toggleable__control sk-hidden--visually\" id=\"8e7f3032-0ffa-4b58-97d6-bfdeb4122b04\" type=\"checkbox\" ><label class=\"sk-toggleable__label\" for=\"8e7f3032-0ffa-4b58-97d6-bfdeb4122b04\">num_m</label><div class=\"sk-toggleable__content\"><pre>['Pclass', 'SibSp', 'Parch', 'Fare', 'Age', 'Cabin']</pre></div></div></div><div class=\"sk-serial\"><div class=\"sk-item\"><div class=\"sk-serial\"><div class=\"sk-item\"><div class=\"sk-estimator sk-toggleable\"><input class=\"sk-toggleable__control sk-hidden--visually\" id=\"e544b7b6-e73c-4802-a806-67c7d7dacbda\" type=\"checkbox\" ><label class=\"sk-toggleable__label\" for=\"e544b7b6-e73c-4802-a806-67c7d7dacbda\">KNNImputer</label><div class=\"sk-toggleable__content\"><pre>KNNImputer(add_indicator=True, n_neighbors=10)</pre></div></div></div><div class=\"sk-item\"><div class=\"sk-estimator sk-toggleable\"><input class=\"sk-toggleable__control sk-hidden--visually\" id=\"9cf2f760-3480-4d2d-b219-d6f24da398e2\" type=\"checkbox\" ><label class=\"sk-toggleable__label\" for=\"9cf2f760-3480-4d2d-b219-d6f24da398e2\">QuantileTransformer</label><div class=\"sk-toggleable__content\"><pre>QuantileTransformer(output_distribution='normal', random_state=73)</pre></div></div></div></div></div></div></div></div><div class=\"sk-parallel-item\"><div class=\"sk-item\"><div class=\"sk-label-container\"><div class=\"sk-label sk-toggleable\"><input class=\"sk-toggleable__control sk-hidden--visually\" id=\"1c250647-ac8e-481e-86e2-921a840ab8c7\" type=\"checkbox\" ><label class=\"sk-toggleable__label\" for=\"1c250647-ac8e-481e-86e2-921a840ab8c7\">cat_m</label><div class=\"sk-toggleable__content\"><pre>['Sex', 'Embarked', 'Title']</pre></div></div></div><div class=\"sk-serial\"><div class=\"sk-item\"><div class=\"sk-serial\"><div class=\"sk-item\"><div class=\"sk-estimator sk-toggleable\"><input class=\"sk-toggleable__control sk-hidden--visually\" id=\"01a8d9ba-4c6c-4bcc-ad3b-4b7490f3af45\" type=\"checkbox\" ><label class=\"sk-toggleable__label\" for=\"01a8d9ba-4c6c-4bcc-ad3b-4b7490f3af45\">SimpleImputer</label><div class=\"sk-toggleable__content\"><pre>SimpleImputer(add_indicator=True, fill_value='missing', strategy='constant')</pre></div></div></div><div class=\"sk-item\"><div class=\"sk-estimator sk-toggleable\"><input class=\"sk-toggleable__control sk-hidden--visually\" id=\"b338098d-2071-423e-9fb8-82d6ea268fa6\" type=\"checkbox\" ><label class=\"sk-toggleable__label\" for=\"b338098d-2071-423e-9fb8-82d6ea268fa6\">OneHotEncoder</label><div class=\"sk-toggleable__content\"><pre>OneHotEncoder(handle_unknown='ignore')</pre></div></div></div></div></div></div></div></div></div></div><div class=\"sk-item\"><div class=\"sk-estimator sk-toggleable\"><input class=\"sk-toggleable__control sk-hidden--visually\" id=\"159773dc-15e9-4e2b-9cd2-a9d41f47e258\" type=\"checkbox\" ><label class=\"sk-toggleable__label\" for=\"159773dc-15e9-4e2b-9cd2-a9d41f47e258\">MLPClassifier</label><div class=\"sk-toggleable__content\"><pre>MLPClassifier()</pre></div></div></div></div></div></div></div>"
     },
     "metadata": {},
     "execution_count": 59
    }
   ],
   "source": [
    "\"\"\"\n",
    "tree_classifiers = {\n",
    "  \"Decision Tree\": DecisionTreeClassifier(),\n",
    "  \"Extra Trees\":\n",
    "  \"Random Forest\":\n",
    "  \"AdaBoost\":\n",
    "  \"Skl GBM\":\n",
    "  \"Skl HistGBM\":\n",
    "  \"XGBoost\":\n",
    "  \"LightGBM\":\n",
    "  \"CatBoost\":\n",
    "tree_classifiers = {name: pipeline.make_pipeline(tree_prepro, model) for name, model in tree_classifiers.items()}\n",
    "tree_classifiers[\"LightGBM\"]\n",
    "\"\"\";\n",
    "\n",
    "\n",
    "# YOUR CODE HERE\n",
    "\n",
    "tree_classifiers = {\n",
    "  \"Decision Tree\": DecisionTreeClassifier(random_state=0),\n",
    "  \"Extra Trees\": ExtraTreesClassifier(n_estimators=200),\n",
    "  \"Random Forest\": RandomForestClassifier(n_estimators=200),\n",
    "  \"AdaBoost\": AdaBoostClassifier(n_estimators=200),\n",
    "  \"Skl GBM\": GradientBoostingClassifier(n_estimators=200),\n",
    "  \"Skl HistGBM\": HistGradientBoostingClassifier(random_state=0),\n",
    "  \"XGBoost\": XGBClassifier(random_state=0),\n",
    "  \"LightGBM\": LGBMClassifier(random_state=0),\n",
    "  \"CatBoost\":CatBoostClassifier(random_state=0),\n",
    "  }\n",
    "\n",
    "mult_classifiers = {\n",
    "  \"SVC\": SVC(random_state=0),\n",
    "  \"Logistic\": LogisticRegression(random_state=0),\n",
    "  \"Neural\": MLPClassifier(),\n",
    "  \"KNN\": KNeighborsClassifier(n_neighbors=10),\n",
    "  \"Naive Bayes\": CategoricalNB()\n",
    "}\n",
    "\n",
    "\n",
    "tree_classifiers = {name: pipeline.make_pipeline(tree_prepro, model) for name, model in tree_classifiers.items()}\n",
    "\n",
    "mult_classifiers = {name: pipeline.make_pipeline(mult_prepro, model) for name, model in mult_classifiers.items()}\n",
    "\n",
    "mult_classifiers[\"Neural\"]\n",
    "\n"
   ]
  },
  {
   "cell_type": "code",
   "execution_count": 60,
   "metadata": {},
   "outputs": [
    {
     "output_type": "execute_result",
     "data": {
      "text/plain": [
       "Pipeline(steps=[('columntransformer',\n",
       "                 ColumnTransformer(transformers=[('num_m',\n",
       "                                                  Pipeline(steps=[('imputer',\n",
       "                                                                   KNNImputer(add_indicator=True,\n",
       "                                                                              n_neighbors=10)),\n",
       "                                                                  ('quant',\n",
       "                                                                   QuantileTransformer(output_distribution='normal',\n",
       "                                                                                       random_state=73))]),\n",
       "                                                  ['Pclass', 'SibSp', 'Parch',\n",
       "                                                   'Fare', 'Age', 'Cabin']),\n",
       "                                                 ('cat_m',\n",
       "                                                  Pipeline(steps=[('imputer',\n",
       "                                                                   SimpleImputer(add_indicator=True,\n",
       "                                                                                 fill_value='missing',\n",
       "                                                                                 strategy='constant')),\n",
       "                                                                  ('onehot',\n",
       "                                                                   OneHotEncoder(handle_unknown='ignore'))]),\n",
       "                                                  ['Sex', 'Embarked',\n",
       "                                                   'Title'])])),\n",
       "                ('mlpclassifier', MLPClassifier())])"
      ],
      "text/html": "<style>div.sk-top-container {color: black;background-color: white;}div.sk-toggleable {background-color: white;}label.sk-toggleable__label {cursor: pointer;display: block;width: 100%;margin-bottom: 0;padding: 0.2em 0.3em;box-sizing: border-box;text-align: center;}div.sk-toggleable__content {max-height: 0;max-width: 0;overflow: hidden;text-align: left;background-color: #f0f8ff;}div.sk-toggleable__content pre {margin: 0.2em;color: black;border-radius: 0.25em;background-color: #f0f8ff;}input.sk-toggleable__control:checked~div.sk-toggleable__content {max-height: 200px;max-width: 100%;overflow: auto;}div.sk-estimator input.sk-toggleable__control:checked~label.sk-toggleable__label {background-color: #d4ebff;}div.sk-label input.sk-toggleable__control:checked~label.sk-toggleable__label {background-color: #d4ebff;}input.sk-hidden--visually {border: 0;clip: rect(1px 1px 1px 1px);clip: rect(1px, 1px, 1px, 1px);height: 1px;margin: -1px;overflow: hidden;padding: 0;position: absolute;width: 1px;}div.sk-estimator {font-family: monospace;background-color: #f0f8ff;margin: 0.25em 0.25em;border: 1px dotted black;border-radius: 0.25em;box-sizing: border-box;}div.sk-estimator:hover {background-color: #d4ebff;}div.sk-parallel-item::after {content: \"\";width: 100%;border-bottom: 1px solid gray;flex-grow: 1;}div.sk-label:hover label.sk-toggleable__label {background-color: #d4ebff;}div.sk-serial::before {content: \"\";position: absolute;border-left: 1px solid gray;box-sizing: border-box;top: 2em;bottom: 0;left: 50%;}div.sk-serial {display: flex;flex-direction: column;align-items: center;background-color: white;}div.sk-item {z-index: 1;}div.sk-parallel {display: flex;align-items: stretch;justify-content: center;background-color: white;}div.sk-parallel-item {display: flex;flex-direction: column;position: relative;background-color: white;}div.sk-parallel-item:first-child::after {align-self: flex-end;width: 50%;}div.sk-parallel-item:last-child::after {align-self: flex-start;width: 50%;}div.sk-parallel-item:only-child::after {width: 0;}div.sk-dashed-wrapped {border: 1px dashed gray;margin: 0.2em;box-sizing: border-box;padding-bottom: 0.1em;background-color: white;position: relative;}div.sk-label label {font-family: monospace;font-weight: bold;background-color: white;display: inline-block;line-height: 1.2em;}div.sk-label-container {position: relative;z-index: 2;text-align: center;}div.sk-container {display: inline-block;position: relative;}</style><div class=\"sk-top-container\"><div class=\"sk-container\"><div class=\"sk-item sk-dashed-wrapped\"><div class=\"sk-label-container\"><div class=\"sk-label sk-toggleable\"><input class=\"sk-toggleable__control sk-hidden--visually\" id=\"771b3e27-e747-467c-8638-91416cc4075e\" type=\"checkbox\" ><label class=\"sk-toggleable__label\" for=\"771b3e27-e747-467c-8638-91416cc4075e\">Pipeline</label><div class=\"sk-toggleable__content\"><pre>Pipeline(steps=[('columntransformer',\n                 ColumnTransformer(transformers=[('num_m',\n                                                  Pipeline(steps=[('imputer',\n                                                                   KNNImputer(add_indicator=True,\n                                                                              n_neighbors=10)),\n                                                                  ('quant',\n                                                                   QuantileTransformer(output_distribution='normal',\n                                                                                       random_state=73))]),\n                                                  ['Pclass', 'SibSp', 'Parch',\n                                                   'Fare', 'Age', 'Cabin']),\n                                                 ('cat_m',\n                                                  Pipeline(steps=[('imputer',\n                                                                   SimpleImputer(add_indicator=True,\n                                                                                 fill_value='missing',\n                                                                                 strategy='constant')),\n                                                                  ('onehot',\n                                                                   OneHotEncoder(handle_unknown='ignore'))]),\n                                                  ['Sex', 'Embarked',\n                                                   'Title'])])),\n                ('mlpclassifier', MLPClassifier())])</pre></div></div></div><div class=\"sk-serial\"><div class=\"sk-item sk-dashed-wrapped\"><div class=\"sk-label-container\"><div class=\"sk-label sk-toggleable\"><input class=\"sk-toggleable__control sk-hidden--visually\" id=\"80ec46d0-d70f-4c3b-ac4c-26bf5ba1c9f2\" type=\"checkbox\" ><label class=\"sk-toggleable__label\" for=\"80ec46d0-d70f-4c3b-ac4c-26bf5ba1c9f2\">columntransformer: ColumnTransformer</label><div class=\"sk-toggleable__content\"><pre>ColumnTransformer(transformers=[('num_m',\n                                 Pipeline(steps=[('imputer',\n                                                  KNNImputer(add_indicator=True,\n                                                             n_neighbors=10)),\n                                                 ('quant',\n                                                  QuantileTransformer(output_distribution='normal',\n                                                                      random_state=73))]),\n                                 ['Pclass', 'SibSp', 'Parch', 'Fare', 'Age',\n                                  'Cabin']),\n                                ('cat_m',\n                                 Pipeline(steps=[('imputer',\n                                                  SimpleImputer(add_indicator=True,\n                                                                fill_value='missing',\n                                                                strategy='constant')),\n                                                 ('onehot',\n                                                  OneHotEncoder(handle_unknown='ignore'))]),\n                                 ['Sex', 'Embarked', 'Title'])])</pre></div></div></div><div class=\"sk-parallel\"><div class=\"sk-parallel-item\"><div class=\"sk-item\"><div class=\"sk-label-container\"><div class=\"sk-label sk-toggleable\"><input class=\"sk-toggleable__control sk-hidden--visually\" id=\"c546fa55-6c44-40d3-a705-0450e1c770d3\" type=\"checkbox\" ><label class=\"sk-toggleable__label\" for=\"c546fa55-6c44-40d3-a705-0450e1c770d3\">num_m</label><div class=\"sk-toggleable__content\"><pre>['Pclass', 'SibSp', 'Parch', 'Fare', 'Age', 'Cabin']</pre></div></div></div><div class=\"sk-serial\"><div class=\"sk-item\"><div class=\"sk-serial\"><div class=\"sk-item\"><div class=\"sk-estimator sk-toggleable\"><input class=\"sk-toggleable__control sk-hidden--visually\" id=\"954910a5-f289-45ee-b08d-f745bbd3f79a\" type=\"checkbox\" ><label class=\"sk-toggleable__label\" for=\"954910a5-f289-45ee-b08d-f745bbd3f79a\">KNNImputer</label><div class=\"sk-toggleable__content\"><pre>KNNImputer(add_indicator=True, n_neighbors=10)</pre></div></div></div><div class=\"sk-item\"><div class=\"sk-estimator sk-toggleable\"><input class=\"sk-toggleable__control sk-hidden--visually\" id=\"ddca6ca5-d902-4d90-b324-e54bf56b3f9e\" type=\"checkbox\" ><label class=\"sk-toggleable__label\" for=\"ddca6ca5-d902-4d90-b324-e54bf56b3f9e\">QuantileTransformer</label><div class=\"sk-toggleable__content\"><pre>QuantileTransformer(output_distribution='normal', random_state=73)</pre></div></div></div></div></div></div></div></div><div class=\"sk-parallel-item\"><div class=\"sk-item\"><div class=\"sk-label-container\"><div class=\"sk-label sk-toggleable\"><input class=\"sk-toggleable__control sk-hidden--visually\" id=\"9db3b209-5812-431b-bef2-8f801be44540\" type=\"checkbox\" ><label class=\"sk-toggleable__label\" for=\"9db3b209-5812-431b-bef2-8f801be44540\">cat_m</label><div class=\"sk-toggleable__content\"><pre>['Sex', 'Embarked', 'Title']</pre></div></div></div><div class=\"sk-serial\"><div class=\"sk-item\"><div class=\"sk-serial\"><div class=\"sk-item\"><div class=\"sk-estimator sk-toggleable\"><input class=\"sk-toggleable__control sk-hidden--visually\" id=\"8f005e84-36df-42a8-aee0-7f6f242d4ef2\" type=\"checkbox\" ><label class=\"sk-toggleable__label\" for=\"8f005e84-36df-42a8-aee0-7f6f242d4ef2\">SimpleImputer</label><div class=\"sk-toggleable__content\"><pre>SimpleImputer(add_indicator=True, fill_value='missing', strategy='constant')</pre></div></div></div><div class=\"sk-item\"><div class=\"sk-estimator sk-toggleable\"><input class=\"sk-toggleable__control sk-hidden--visually\" id=\"0b27e61b-65b1-4d09-8a08-8170e545abc7\" type=\"checkbox\" ><label class=\"sk-toggleable__label\" for=\"0b27e61b-65b1-4d09-8a08-8170e545abc7\">OneHotEncoder</label><div class=\"sk-toggleable__content\"><pre>OneHotEncoder(handle_unknown='ignore')</pre></div></div></div></div></div></div></div></div></div></div><div class=\"sk-item\"><div class=\"sk-estimator sk-toggleable\"><input class=\"sk-toggleable__control sk-hidden--visually\" id=\"0860edf1-5d57-4f9c-a42a-d0e83faa53d4\" type=\"checkbox\" ><label class=\"sk-toggleable__label\" for=\"0860edf1-5d57-4f9c-a42a-d0e83faa53d4\">MLPClassifier</label><div class=\"sk-toggleable__content\"><pre>MLPClassifier()</pre></div></div></div></div></div></div></div>"
     },
     "metadata": {},
     "execution_count": 60
    }
   ],
   "source": [
    "classifiers = {**tree_classifiers, **mult_classifiers}\n",
    "\n",
    "classifiers['Neural']"
   ]
  },
  {
   "cell_type": "code",
   "execution_count": 61,
   "metadata": {
    "deletable": false,
    "editable": false,
    "nbgrader": {
     "cell_type": "code",
     "checksum": "2355552b3ce823e44fdaea06394e054c",
     "grade": true,
     "grade_id": "cell-d4744022b37e2e9b",
     "locked": true,
     "points": 1,
     "schema_version": 3,
     "solution": false,
     "task": false
    }
   },
   "outputs": [],
   "source": [
    "for pipe in tree_classifiers.values():\n",
    "    assert type(pipe) is pipeline.Pipeline"
   ]
  },
  {
   "cell_type": "markdown",
   "metadata": {},
   "source": [
    "# Exercise 5 (3pts):\n",
    "Define a simple split validation strategy with:\n",
    "- 80% for train\n",
    "- 20% for validation\n",
    "- With stratification\n",
    "- random_state=0\n",
    "\n",
    "And train all the models in a for loop"
   ]
  },
  {
   "cell_type": "code",
   "execution_count": 62,
   "metadata": {
    "colab": {
     "base_uri": "https://localhost:8080/",
     "height": 173
    },
    "colab_type": "code",
    "deletable": false,
    "id": "kY1uWk6-OcLw",
    "nbgrader": {
     "cell_type": "code",
     "checksum": "e48597a78f468a95abf116052e9f68e6",
     "grade": false,
     "grade_id": "cell-64f17e0d448bca7e",
     "locked": false,
     "schema_version": 3,
     "solution": true,
     "task": false
    },
    "outputId": "3562463f-3197-424c-dc82-b07ad579e9cc",
    "tags": [
     "outputPrepend"
    ]
   },
   "outputs": [
    {
     "output_type": "stream",
     "name": "stderr",
     "text": [
      "61:\tlearn: 0.2936297\ttotal: 662ms\tremaining: 338ms\n",
      "662:\tlearn: 0.2935220\ttotal: 663ms\tremaining: 337ms\n",
      "663:\tlearn: 0.2934123\ttotal: 664ms\tremaining: 336ms\n",
      "664:\tlearn: 0.2933400\ttotal: 665ms\tremaining: 335ms\n",
      "665:\tlearn: 0.2932735\ttotal: 666ms\tremaining: 334ms\n",
      "666:\tlearn: 0.2930786\ttotal: 667ms\tremaining: 333ms\n",
      "667:\tlearn: 0.2930100\ttotal: 668ms\tremaining: 332ms\n",
      "668:\tlearn: 0.2928777\ttotal: 669ms\tremaining: 331ms\n",
      "669:\tlearn: 0.2928637\ttotal: 669ms\tremaining: 330ms\n",
      "670:\tlearn: 0.2928177\ttotal: 670ms\tremaining: 329ms\n",
      "671:\tlearn: 0.2928019\ttotal: 671ms\tremaining: 328ms\n",
      "672:\tlearn: 0.2926375\ttotal: 672ms\tremaining: 327ms\n",
      "673:\tlearn: 0.2925081\ttotal: 673ms\tremaining: 326ms\n",
      "674:\tlearn: 0.2923896\ttotal: 674ms\tremaining: 324ms\n",
      "675:\tlearn: 0.2922942\ttotal: 675ms\tremaining: 323ms\n",
      "676:\tlearn: 0.2922625\ttotal: 676ms\tremaining: 322ms\n",
      "677:\tlearn: 0.2921641\ttotal: 677ms\tremaining: 321ms\n",
      "678:\tlearn: 0.2920876\ttotal: 678ms\tremaining: 320ms\n",
      "679:\tlearn: 0.2920191\ttotal: 679ms\tremaining: 319ms\n",
      "680:\tlearn: 0.2919048\ttotal: 681ms\tremaining: 319ms\n",
      "681:\tlearn: 0.2918468\ttotal: 682ms\tremaining: 318ms\n",
      "682:\tlearn: 0.2917016\ttotal: 683ms\tremaining: 317ms\n",
      "683:\tlearn: 0.2916538\ttotal: 684ms\tremaining: 316ms\n",
      "684:\tlearn: 0.2915528\ttotal: 685ms\tremaining: 315ms\n",
      "685:\tlearn: 0.2914105\ttotal: 686ms\tremaining: 314ms\n",
      "686:\tlearn: 0.2912664\ttotal: 687ms\tremaining: 313ms\n",
      "687:\tlearn: 0.2911553\ttotal: 687ms\tremaining: 312ms\n",
      "688:\tlearn: 0.2910670\ttotal: 688ms\tremaining: 311ms\n",
      "689:\tlearn: 0.2909500\ttotal: 689ms\tremaining: 310ms\n",
      "690:\tlearn: 0.2907719\ttotal: 690ms\tremaining: 309ms\n",
      "691:\tlearn: 0.2906245\ttotal: 691ms\tremaining: 308ms\n",
      "692:\tlearn: 0.2905639\ttotal: 692ms\tremaining: 307ms\n",
      "693:\tlearn: 0.2904722\ttotal: 693ms\tremaining: 305ms\n",
      "694:\tlearn: 0.2903502\ttotal: 694ms\tremaining: 304ms\n",
      "695:\tlearn: 0.2902946\ttotal: 694ms\tremaining: 303ms\n",
      "696:\tlearn: 0.2902093\ttotal: 695ms\tremaining: 302ms\n",
      "697:\tlearn: 0.2900968\ttotal: 696ms\tremaining: 301ms\n",
      "698:\tlearn: 0.2900161\ttotal: 697ms\tremaining: 300ms\n",
      "699:\tlearn: 0.2898914\ttotal: 698ms\tremaining: 299ms\n",
      "700:\tlearn: 0.2895836\ttotal: 699ms\tremaining: 298ms\n",
      "701:\tlearn: 0.2894708\ttotal: 700ms\tremaining: 297ms\n",
      "702:\tlearn: 0.2894621\ttotal: 701ms\tremaining: 296ms\n",
      "703:\tlearn: 0.2894313\ttotal: 702ms\tremaining: 295ms\n",
      "704:\tlearn: 0.2893744\ttotal: 703ms\tremaining: 294ms\n",
      "705:\tlearn: 0.2893680\ttotal: 704ms\tremaining: 293ms\n",
      "706:\tlearn: 0.2892283\ttotal: 705ms\tremaining: 292ms\n",
      "707:\tlearn: 0.2891787\ttotal: 706ms\tremaining: 291ms\n",
      "708:\tlearn: 0.2890810\ttotal: 707ms\tremaining: 290ms\n",
      "709:\tlearn: 0.2889596\ttotal: 708ms\tremaining: 289ms\n",
      "710:\tlearn: 0.2888684\ttotal: 709ms\tremaining: 288ms\n",
      "711:\tlearn: 0.2887209\ttotal: 710ms\tremaining: 287ms\n",
      "712:\tlearn: 0.2883757\ttotal: 711ms\tremaining: 286ms\n",
      "713:\tlearn: 0.2882276\ttotal: 712ms\tremaining: 285ms\n",
      "714:\tlearn: 0.2880878\ttotal: 712ms\tremaining: 284ms\n",
      "715:\tlearn: 0.2878851\ttotal: 713ms\tremaining: 283ms\n",
      "716:\tlearn: 0.2878580\ttotal: 714ms\tremaining: 282ms\n",
      "717:\tlearn: 0.2877583\ttotal: 715ms\tremaining: 281ms\n",
      "718:\tlearn: 0.2875243\ttotal: 716ms\tremaining: 280ms\n",
      "719:\tlearn: 0.2872614\ttotal: 717ms\tremaining: 279ms\n",
      "720:\tlearn: 0.2870413\ttotal: 718ms\tremaining: 278ms\n",
      "721:\tlearn: 0.2867917\ttotal: 719ms\tremaining: 277ms\n",
      "722:\tlearn: 0.2866413\ttotal: 722ms\tremaining: 277ms\n",
      "723:\tlearn: 0.2864909\ttotal: 723ms\tremaining: 276ms\n",
      "724:\tlearn: 0.2862740\ttotal: 724ms\tremaining: 275ms\n",
      "725:\tlearn: 0.2862301\ttotal: 725ms\tremaining: 274ms\n",
      "726:\tlearn: 0.2861913\ttotal: 726ms\tremaining: 273ms\n",
      "727:\tlearn: 0.2859022\ttotal: 727ms\tremaining: 272ms\n",
      "728:\tlearn: 0.2856978\ttotal: 728ms\tremaining: 270ms\n",
      "729:\tlearn: 0.2855487\ttotal: 728ms\tremaining: 269ms\n",
      "730:\tlearn: 0.2854143\ttotal: 731ms\tremaining: 269ms\n",
      "731:\tlearn: 0.2853221\ttotal: 732ms\tremaining: 268ms\n",
      "732:\tlearn: 0.2852201\ttotal: 733ms\tremaining: 267ms\n",
      "733:\tlearn: 0.2851340\ttotal: 734ms\tremaining: 266ms\n",
      "734:\tlearn: 0.2850608\ttotal: 734ms\tremaining: 265ms\n",
      "735:\tlearn: 0.2849093\ttotal: 735ms\tremaining: 264ms\n",
      "736:\tlearn: 0.2848327\ttotal: 736ms\tremaining: 263ms\n",
      "737:\tlearn: 0.2847070\ttotal: 736ms\tremaining: 261ms\n",
      "738:\tlearn: 0.2846630\ttotal: 737ms\tremaining: 260ms\n",
      "739:\tlearn: 0.2846230\ttotal: 738ms\tremaining: 259ms\n",
      "740:\tlearn: 0.2845358\ttotal: 738ms\tremaining: 258ms\n",
      "741:\tlearn: 0.2844119\ttotal: 739ms\tremaining: 257ms\n",
      "742:\tlearn: 0.2843716\ttotal: 740ms\tremaining: 256ms\n",
      "743:\tlearn: 0.2843312\ttotal: 741ms\tremaining: 255ms\n",
      "744:\tlearn: 0.2842157\ttotal: 742ms\tremaining: 254ms\n",
      "745:\tlearn: 0.2840442\ttotal: 743ms\tremaining: 253ms\n",
      "746:\tlearn: 0.2838548\ttotal: 743ms\tremaining: 252ms\n",
      "747:\tlearn: 0.2837233\ttotal: 744ms\tremaining: 251ms\n",
      "748:\tlearn: 0.2836548\ttotal: 745ms\tremaining: 250ms\n",
      "749:\tlearn: 0.2833813\ttotal: 746ms\tremaining: 249ms\n",
      "750:\tlearn: 0.2833452\ttotal: 746ms\tremaining: 247ms\n",
      "751:\tlearn: 0.2832049\ttotal: 747ms\tremaining: 246ms\n",
      "752:\tlearn: 0.2831900\ttotal: 748ms\tremaining: 245ms\n",
      "753:\tlearn: 0.2830886\ttotal: 749ms\tremaining: 244ms\n",
      "754:\tlearn: 0.2828224\ttotal: 749ms\tremaining: 243ms\n",
      "755:\tlearn: 0.2827237\ttotal: 750ms\tremaining: 242ms\n",
      "756:\tlearn: 0.2826594\ttotal: 751ms\tremaining: 241ms\n",
      "757:\tlearn: 0.2824890\ttotal: 752ms\tremaining: 240ms\n",
      "758:\tlearn: 0.2824090\ttotal: 753ms\tremaining: 239ms\n",
      "759:\tlearn: 0.2822181\ttotal: 753ms\tremaining: 238ms\n",
      "760:\tlearn: 0.2821430\ttotal: 754ms\tremaining: 237ms\n",
      "761:\tlearn: 0.2820175\ttotal: 755ms\tremaining: 236ms\n",
      "762:\tlearn: 0.2818396\ttotal: 756ms\tremaining: 235ms\n",
      "763:\tlearn: 0.2816855\ttotal: 757ms\tremaining: 234ms\n",
      "764:\tlearn: 0.2815160\ttotal: 758ms\tremaining: 233ms\n",
      "765:\tlearn: 0.2813503\ttotal: 759ms\tremaining: 232ms\n",
      "766:\tlearn: 0.2812818\ttotal: 759ms\tremaining: 231ms\n",
      "767:\tlearn: 0.2810521\ttotal: 760ms\tremaining: 230ms\n",
      "768:\tlearn: 0.2810346\ttotal: 761ms\tremaining: 229ms\n",
      "769:\tlearn: 0.2808756\ttotal: 761ms\tremaining: 227ms\n",
      "770:\tlearn: 0.2808413\ttotal: 762ms\tremaining: 226ms\n",
      "771:\tlearn: 0.2806733\ttotal: 763ms\tremaining: 225ms\n",
      "772:\tlearn: 0.2805528\ttotal: 764ms\tremaining: 224ms\n",
      "773:\tlearn: 0.2804970\ttotal: 765ms\tremaining: 223ms\n",
      "774:\tlearn: 0.2803223\ttotal: 766ms\tremaining: 222ms\n",
      "775:\tlearn: 0.2802629\ttotal: 767ms\tremaining: 221ms\n",
      "776:\tlearn: 0.2802270\ttotal: 768ms\tremaining: 220ms\n",
      "777:\tlearn: 0.2800599\ttotal: 769ms\tremaining: 219ms\n",
      "778:\tlearn: 0.2800215\ttotal: 769ms\tremaining: 218ms\n",
      "779:\tlearn: 0.2799126\ttotal: 770ms\tremaining: 217ms\n",
      "780:\tlearn: 0.2798877\ttotal: 771ms\tremaining: 216ms\n",
      "781:\tlearn: 0.2796882\ttotal: 771ms\tremaining: 215ms\n",
      "782:\tlearn: 0.2796487\ttotal: 772ms\tremaining: 214ms\n",
      "783:\tlearn: 0.2795068\ttotal: 773ms\tremaining: 213ms\n",
      "784:\tlearn: 0.2794520\ttotal: 774ms\tremaining: 212ms\n",
      "785:\tlearn: 0.2792681\ttotal: 774ms\tremaining: 211ms\n",
      "786:\tlearn: 0.2791664\ttotal: 775ms\tremaining: 210ms\n",
      "787:\tlearn: 0.2791602\ttotal: 776ms\tremaining: 209ms\n",
      "788:\tlearn: 0.2790669\ttotal: 777ms\tremaining: 208ms\n",
      "789:\tlearn: 0.2788928\ttotal: 778ms\tremaining: 207ms\n",
      "790:\tlearn: 0.2788100\ttotal: 778ms\tremaining: 206ms\n",
      "791:\tlearn: 0.2786089\ttotal: 779ms\tremaining: 205ms\n",
      "792:\tlearn: 0.2784224\ttotal: 780ms\tremaining: 204ms\n",
      "793:\tlearn: 0.2783376\ttotal: 781ms\tremaining: 203ms\n",
      "794:\tlearn: 0.2783053\ttotal: 782ms\tremaining: 202ms\n",
      "795:\tlearn: 0.2781915\ttotal: 783ms\tremaining: 201ms\n",
      "796:\tlearn: 0.2779792\ttotal: 784ms\tremaining: 200ms\n",
      "797:\tlearn: 0.2778949\ttotal: 786ms\tremaining: 199ms\n",
      "798:\tlearn: 0.2778637\ttotal: 787ms\tremaining: 198ms\n",
      "799:\tlearn: 0.2778403\ttotal: 788ms\tremaining: 197ms\n",
      "800:\tlearn: 0.2777260\ttotal: 788ms\tremaining: 196ms\n",
      "801:\tlearn: 0.2776870\ttotal: 789ms\tremaining: 195ms\n",
      "802:\tlearn: 0.2776455\ttotal: 790ms\tremaining: 194ms\n",
      "803:\tlearn: 0.2775578\ttotal: 791ms\tremaining: 193ms\n",
      "804:\tlearn: 0.2774878\ttotal: 792ms\tremaining: 192ms\n",
      "805:\tlearn: 0.2774327\ttotal: 793ms\tremaining: 191ms\n",
      "806:\tlearn: 0.2772797\ttotal: 794ms\tremaining: 190ms\n",
      "807:\tlearn: 0.2771337\ttotal: 795ms\tremaining: 189ms\n",
      "808:\tlearn: 0.2770680\ttotal: 796ms\tremaining: 188ms\n",
      "809:\tlearn: 0.2769584\ttotal: 797ms\tremaining: 187ms\n",
      "810:\tlearn: 0.2768841\ttotal: 798ms\tremaining: 186ms\n",
      "811:\tlearn: 0.2768229\ttotal: 799ms\tremaining: 185ms\n",
      "812:\tlearn: 0.2766409\ttotal: 799ms\tremaining: 184ms\n",
      "813:\tlearn: 0.2765254\ttotal: 800ms\tremaining: 183ms\n",
      "814:\tlearn: 0.2763714\ttotal: 801ms\tremaining: 182ms\n",
      "815:\tlearn: 0.2762921\ttotal: 803ms\tremaining: 181ms\n",
      "816:\tlearn: 0.2762050\ttotal: 804ms\tremaining: 180ms\n",
      "817:\tlearn: 0.2759369\ttotal: 805ms\tremaining: 179ms\n",
      "818:\tlearn: 0.2757635\ttotal: 805ms\tremaining: 178ms\n",
      "819:\tlearn: 0.2757001\ttotal: 806ms\tremaining: 177ms\n",
      "820:\tlearn: 0.2756352\ttotal: 807ms\tremaining: 176ms\n",
      "821:\tlearn: 0.2755605\ttotal: 808ms\tremaining: 175ms\n",
      "822:\tlearn: 0.2753831\ttotal: 809ms\tremaining: 174ms\n",
      "823:\tlearn: 0.2753393\ttotal: 809ms\tremaining: 173ms\n",
      "824:\tlearn: 0.2752382\ttotal: 810ms\tremaining: 172ms\n",
      "825:\tlearn: 0.2751189\ttotal: 811ms\tremaining: 171ms\n",
      "826:\tlearn: 0.2749574\ttotal: 812ms\tremaining: 170ms\n",
      "827:\tlearn: 0.2748226\ttotal: 813ms\tremaining: 169ms\n",
      "828:\tlearn: 0.2747907\ttotal: 814ms\tremaining: 168ms\n",
      "829:\tlearn: 0.2747361\ttotal: 815ms\tremaining: 167ms\n",
      "830:\tlearn: 0.2746387\ttotal: 816ms\tremaining: 166ms\n",
      "831:\tlearn: 0.2745795\ttotal: 817ms\tremaining: 165ms\n",
      "832:\tlearn: 0.2745505\ttotal: 818ms\tremaining: 164ms\n",
      "833:\tlearn: 0.2745099\ttotal: 819ms\tremaining: 163ms\n",
      "834:\tlearn: 0.2744658\ttotal: 819ms\tremaining: 162ms\n",
      "835:\tlearn: 0.2743111\ttotal: 820ms\tremaining: 161ms\n",
      "836:\tlearn: 0.2742874\ttotal: 821ms\tremaining: 160ms\n",
      "837:\tlearn: 0.2741605\ttotal: 822ms\tremaining: 159ms\n",
      "838:\tlearn: 0.2739942\ttotal: 823ms\tremaining: 158ms\n",
      "839:\tlearn: 0.2738285\ttotal: 824ms\tremaining: 157ms\n",
      "840:\tlearn: 0.2737499\ttotal: 825ms\tremaining: 156ms\n",
      "841:\tlearn: 0.2736347\ttotal: 826ms\tremaining: 155ms\n",
      "842:\tlearn: 0.2735312\ttotal: 827ms\tremaining: 154ms\n",
      "843:\tlearn: 0.2734739\ttotal: 827ms\tremaining: 153ms\n",
      "844:\tlearn: 0.2733757\ttotal: 828ms\tremaining: 152ms\n",
      "845:\tlearn: 0.2732584\ttotal: 829ms\tremaining: 151ms\n",
      "846:\tlearn: 0.2731968\ttotal: 830ms\tremaining: 150ms\n",
      "847:\tlearn: 0.2731110\ttotal: 831ms\tremaining: 149ms\n",
      "848:\tlearn: 0.2729892\ttotal: 832ms\tremaining: 148ms\n",
      "849:\tlearn: 0.2729385\ttotal: 833ms\tremaining: 147ms\n",
      "850:\tlearn: 0.2728794\ttotal: 833ms\tremaining: 146ms\n",
      "851:\tlearn: 0.2725611\ttotal: 834ms\tremaining: 145ms\n",
      "852:\tlearn: 0.2724945\ttotal: 835ms\tremaining: 144ms\n",
      "853:\tlearn: 0.2723724\ttotal: 837ms\tremaining: 143ms\n",
      "854:\tlearn: 0.2722964\ttotal: 838ms\tremaining: 142ms\n",
      "855:\tlearn: 0.2722211\ttotal: 838ms\tremaining: 141ms\n",
      "856:\tlearn: 0.2720730\ttotal: 839ms\tremaining: 140ms\n",
      "857:\tlearn: 0.2717821\ttotal: 840ms\tremaining: 139ms\n",
      "858:\tlearn: 0.2717508\ttotal: 841ms\tremaining: 138ms\n",
      "859:\tlearn: 0.2717250\ttotal: 842ms\tremaining: 137ms\n",
      "860:\tlearn: 0.2716277\ttotal: 843ms\tremaining: 136ms\n",
      "861:\tlearn: 0.2716050\ttotal: 844ms\tremaining: 135ms\n",
      "862:\tlearn: 0.2715639\ttotal: 844ms\tremaining: 134ms\n",
      "863:\tlearn: 0.2715411\ttotal: 845ms\tremaining: 133ms\n",
      "864:\tlearn: 0.2714958\ttotal: 846ms\tremaining: 132ms\n",
      "865:\tlearn: 0.2713455\ttotal: 847ms\tremaining: 131ms\n",
      "866:\tlearn: 0.2712556\ttotal: 847ms\tremaining: 130ms\n",
      "867:\tlearn: 0.2710973\ttotal: 848ms\tremaining: 129ms\n",
      "868:\tlearn: 0.2710224\ttotal: 849ms\tremaining: 128ms\n",
      "869:\tlearn: 0.2709347\ttotal: 850ms\tremaining: 127ms\n",
      "870:\tlearn: 0.2709309\ttotal: 850ms\tremaining: 126ms\n",
      "871:\tlearn: 0.2708042\ttotal: 851ms\tremaining: 125ms\n",
      "872:\tlearn: 0.2706380\ttotal: 852ms\tremaining: 124ms\n",
      "873:\tlearn: 0.2705242\ttotal: 853ms\tremaining: 123ms\n",
      "874:\tlearn: 0.2704333\ttotal: 853ms\tremaining: 122ms\n",
      "875:\tlearn: 0.2703330\ttotal: 855ms\tremaining: 121ms\n",
      "876:\tlearn: 0.2700486\ttotal: 855ms\tremaining: 120ms\n",
      "877:\tlearn: 0.2699667\ttotal: 856ms\tremaining: 119ms\n",
      "878:\tlearn: 0.2697711\ttotal: 857ms\tremaining: 118ms\n",
      "879:\tlearn: 0.2697570\ttotal: 858ms\tremaining: 117ms\n",
      "880:\tlearn: 0.2696916\ttotal: 859ms\tremaining: 116ms\n",
      "881:\tlearn: 0.2696451\ttotal: 860ms\tremaining: 115ms\n",
      "882:\tlearn: 0.2695873\ttotal: 861ms\tremaining: 114ms\n",
      "883:\tlearn: 0.2695011\ttotal: 861ms\tremaining: 113ms\n",
      "884:\tlearn: 0.2694023\ttotal: 862ms\tremaining: 112ms\n",
      "885:\tlearn: 0.2693416\ttotal: 863ms\tremaining: 111ms\n",
      "886:\tlearn: 0.2692621\ttotal: 864ms\tremaining: 110ms\n",
      "887:\tlearn: 0.2692137\ttotal: 865ms\tremaining: 109ms\n",
      "888:\tlearn: 0.2690746\ttotal: 866ms\tremaining: 108ms\n",
      "889:\tlearn: 0.2690431\ttotal: 867ms\tremaining: 107ms\n",
      "890:\tlearn: 0.2689206\ttotal: 867ms\tremaining: 106ms\n",
      "891:\tlearn: 0.2688030\ttotal: 868ms\tremaining: 105ms\n",
      "892:\tlearn: 0.2687774\ttotal: 869ms\tremaining: 104ms\n",
      "893:\tlearn: 0.2686019\ttotal: 870ms\tremaining: 103ms\n",
      "894:\tlearn: 0.2685755\ttotal: 870ms\tremaining: 102ms\n",
      "895:\tlearn: 0.2681578\ttotal: 872ms\tremaining: 101ms\n",
      "896:\tlearn: 0.2679425\ttotal: 873ms\tremaining: 100ms\n",
      "897:\tlearn: 0.2678978\ttotal: 874ms\tremaining: 99.3ms\n",
      "898:\tlearn: 0.2678527\ttotal: 876ms\tremaining: 98.4ms\n",
      "899:\tlearn: 0.2677622\ttotal: 877ms\tremaining: 97.5ms\n",
      "900:\tlearn: 0.2675347\ttotal: 878ms\tremaining: 96.5ms\n",
      "901:\tlearn: 0.2672787\ttotal: 879ms\tremaining: 95.5ms\n",
      "902:\tlearn: 0.2672752\ttotal: 879ms\tremaining: 94.4ms\n",
      "903:\tlearn: 0.2671980\ttotal: 880ms\tremaining: 93.4ms\n",
      "904:\tlearn: 0.2671348\ttotal: 881ms\tremaining: 92.5ms\n",
      "905:\tlearn: 0.2669940\ttotal: 881ms\tremaining: 91.5ms\n",
      "906:\tlearn: 0.2669515\ttotal: 882ms\tremaining: 90.5ms\n",
      "907:\tlearn: 0.2668397\ttotal: 883ms\tremaining: 89.5ms\n",
      "908:\tlearn: 0.2666858\ttotal: 884ms\tremaining: 88.5ms\n",
      "909:\tlearn: 0.2665822\ttotal: 884ms\tremaining: 87.5ms\n",
      "910:\tlearn: 0.2664360\ttotal: 885ms\tremaining: 86.5ms\n",
      "911:\tlearn: 0.2662181\ttotal: 886ms\tremaining: 85.5ms\n",
      "912:\tlearn: 0.2661712\ttotal: 887ms\tremaining: 84.5ms\n",
      "913:\tlearn: 0.2660753\ttotal: 887ms\tremaining: 83.5ms\n",
      "914:\tlearn: 0.2660011\ttotal: 888ms\tremaining: 82.5ms\n",
      "915:\tlearn: 0.2657800\ttotal: 889ms\tremaining: 81.5ms\n",
      "916:\tlearn: 0.2657091\ttotal: 890ms\tremaining: 80.5ms\n",
      "917:\tlearn: 0.2653919\ttotal: 890ms\tremaining: 79.5ms\n",
      "918:\tlearn: 0.2652948\ttotal: 891ms\tremaining: 78.5ms\n",
      "919:\tlearn: 0.2652537\ttotal: 892ms\tremaining: 77.5ms\n",
      "920:\tlearn: 0.2652122\ttotal: 893ms\tremaining: 76.6ms\n",
      "921:\tlearn: 0.2651610\ttotal: 893ms\tremaining: 75.6ms\n",
      "922:\tlearn: 0.2651129\ttotal: 894ms\tremaining: 74.6ms\n",
      "923:\tlearn: 0.2650860\ttotal: 895ms\tremaining: 73.6ms\n",
      "924:\tlearn: 0.2650209\ttotal: 896ms\tremaining: 72.6ms\n",
      "925:\tlearn: 0.2649754\ttotal: 896ms\tremaining: 71.6ms\n",
      "926:\tlearn: 0.2648159\ttotal: 897ms\tremaining: 70.7ms\n",
      "927:\tlearn: 0.2645816\ttotal: 898ms\tremaining: 69.7ms\n",
      "928:\tlearn: 0.2642426\ttotal: 899ms\tremaining: 68.7ms\n",
      "929:\tlearn: 0.2641277\ttotal: 901ms\tremaining: 67.8ms\n",
      "930:\tlearn: 0.2641021\ttotal: 901ms\tremaining: 66.8ms\n",
      "931:\tlearn: 0.2640818\ttotal: 902ms\tremaining: 65.8ms\n",
      "932:\tlearn: 0.2640120\ttotal: 903ms\tremaining: 64.8ms\n",
      "933:\tlearn: 0.2639725\ttotal: 904ms\tremaining: 63.9ms\n",
      "934:\tlearn: 0.2636715\ttotal: 905ms\tremaining: 62.9ms\n",
      "935:\tlearn: 0.2636357\ttotal: 905ms\tremaining: 61.9ms\n",
      "936:\tlearn: 0.2636159\ttotal: 906ms\tremaining: 60.9ms\n",
      "937:\tlearn: 0.2634156\ttotal: 907ms\tremaining: 59.9ms\n",
      "938:\tlearn: 0.2633116\ttotal: 908ms\tremaining: 59ms\n",
      "939:\tlearn: 0.2631914\ttotal: 908ms\tremaining: 58ms\n",
      "940:\tlearn: 0.2631502\ttotal: 909ms\tremaining: 57ms\n",
      "941:\tlearn: 0.2630592\ttotal: 910ms\tremaining: 56ms\n",
      "942:\tlearn: 0.2629668\ttotal: 911ms\tremaining: 55.1ms\n",
      "943:\tlearn: 0.2628624\ttotal: 912ms\tremaining: 54.1ms\n",
      "944:\tlearn: 0.2628036\ttotal: 913ms\tremaining: 53.1ms\n",
      "945:\tlearn: 0.2627430\ttotal: 914ms\tremaining: 52.2ms\n",
      "946:\tlearn: 0.2624591\ttotal: 915ms\tremaining: 51.2ms\n",
      "947:\tlearn: 0.2623619\ttotal: 916ms\tremaining: 50.2ms\n",
      "948:\tlearn: 0.2623339\ttotal: 917ms\tremaining: 49.3ms\n",
      "949:\tlearn: 0.2620716\ttotal: 918ms\tremaining: 48.3ms\n",
      "950:\tlearn: 0.2620252\ttotal: 919ms\tremaining: 47.4ms\n",
      "951:\tlearn: 0.2618937\ttotal: 920ms\tremaining: 46.4ms\n",
      "952:\tlearn: 0.2618342\ttotal: 921ms\tremaining: 45.4ms\n",
      "953:\tlearn: 0.2618165\ttotal: 921ms\tremaining: 44.4ms\n",
      "954:\tlearn: 0.2617411\ttotal: 922ms\tremaining: 43.5ms\n",
      "955:\tlearn: 0.2617038\ttotal: 923ms\tremaining: 42.5ms\n",
      "956:\tlearn: 0.2616430\ttotal: 924ms\tremaining: 41.5ms\n",
      "957:\tlearn: 0.2615912\ttotal: 924ms\tremaining: 40.5ms\n",
      "958:\tlearn: 0.2615777\ttotal: 925ms\tremaining: 39.5ms\n",
      "959:\tlearn: 0.2614823\ttotal: 926ms\tremaining: 38.6ms\n",
      "960:\tlearn: 0.2614065\ttotal: 926ms\tremaining: 37.6ms\n",
      "961:\tlearn: 0.2612032\ttotal: 927ms\tremaining: 36.6ms\n",
      "962:\tlearn: 0.2611836\ttotal: 928ms\tremaining: 35.6ms\n",
      "963:\tlearn: 0.2610637\ttotal: 928ms\tremaining: 34.7ms\n",
      "964:\tlearn: 0.2609864\ttotal: 929ms\tremaining: 33.7ms\n",
      "965:\tlearn: 0.2609002\ttotal: 930ms\tremaining: 32.7ms\n",
      "966:\tlearn: 0.2608953\ttotal: 931ms\tremaining: 31.8ms\n",
      "967:\tlearn: 0.2607780\ttotal: 932ms\tremaining: 30.8ms\n",
      "968:\tlearn: 0.2607341\ttotal: 932ms\tremaining: 29.8ms\n",
      "969:\tlearn: 0.2605435\ttotal: 933ms\tremaining: 28.9ms\n",
      "970:\tlearn: 0.2603522\ttotal: 934ms\tremaining: 27.9ms\n",
      "971:\tlearn: 0.2603146\ttotal: 935ms\tremaining: 26.9ms\n",
      "972:\tlearn: 0.2602761\ttotal: 936ms\tremaining: 26ms\n",
      "973:\tlearn: 0.2602319\ttotal: 936ms\tremaining: 25ms\n",
      "974:\tlearn: 0.2601949\ttotal: 937ms\tremaining: 24ms\n",
      "975:\tlearn: 0.2601445\ttotal: 938ms\tremaining: 23.1ms\n",
      "976:\tlearn: 0.2599167\ttotal: 939ms\tremaining: 22.1ms\n",
      "977:\tlearn: 0.2597676\ttotal: 939ms\tremaining: 21.1ms\n",
      "978:\tlearn: 0.2596588\ttotal: 940ms\tremaining: 20.2ms\n",
      "979:\tlearn: 0.2595569\ttotal: 941ms\tremaining: 19.2ms\n",
      "980:\tlearn: 0.2595165\ttotal: 942ms\tremaining: 18.2ms\n",
      "981:\tlearn: 0.2592923\ttotal: 942ms\tremaining: 17.3ms\n",
      "982:\tlearn: 0.2592723\ttotal: 943ms\tremaining: 16.3ms\n",
      "983:\tlearn: 0.2592363\ttotal: 944ms\tremaining: 15.3ms\n",
      "984:\tlearn: 0.2592169\ttotal: 945ms\tremaining: 14.4ms\n",
      "985:\tlearn: 0.2590498\ttotal: 945ms\tremaining: 13.4ms\n",
      "986:\tlearn: 0.2588322\ttotal: 946ms\tremaining: 12.5ms\n",
      "987:\tlearn: 0.2586066\ttotal: 947ms\tremaining: 11.5ms\n",
      "988:\tlearn: 0.2583478\ttotal: 948ms\tremaining: 10.5ms\n",
      "989:\tlearn: 0.2582490\ttotal: 949ms\tremaining: 9.59ms\n",
      "990:\tlearn: 0.2582322\ttotal: 950ms\tremaining: 8.63ms\n",
      "991:\tlearn: 0.2581395\ttotal: 951ms\tremaining: 7.67ms\n",
      "992:\tlearn: 0.2580482\ttotal: 952ms\tremaining: 6.71ms\n",
      "993:\tlearn: 0.2579196\ttotal: 952ms\tremaining: 5.75ms\n",
      "994:\tlearn: 0.2576371\ttotal: 953ms\tremaining: 4.79ms\n",
      "995:\tlearn: 0.2576002\ttotal: 954ms\tremaining: 3.83ms\n",
      "996:\tlearn: 0.2575507\ttotal: 955ms\tremaining: 2.87ms\n",
      "997:\tlearn: 0.2575144\ttotal: 956ms\tremaining: 1.91ms\n",
      "998:\tlearn: 0.2573919\ttotal: 956ms\tremaining: 957us\n",
      "999:\tlearn: 0.2573244\ttotal: 957ms\tremaining: 0us\n",
      "/home/alessio/anaconda3/envs/machine_learning/lib/python3.8/site-packages/sklearn/preprocessing/_data.py:2612: UserWarning: n_quantiles (1000) is greater than the total number of samples (712). n_quantiles is set to n_samples.\n",
      "  warnings.warn(\"n_quantiles (%s) is greater than the total number \"\n",
      "/home/alessio/anaconda3/envs/machine_learning/lib/python3.8/site-packages/sklearn/preprocessing/_data.py:2612: UserWarning: n_quantiles (1000) is greater than the total number of samples (712). n_quantiles is set to n_samples.\n",
      "  warnings.warn(\"n_quantiles (%s) is greater than the total number \"\n",
      "/home/alessio/anaconda3/envs/machine_learning/lib/python3.8/site-packages/sklearn/linear_model/_logistic.py:763: ConvergenceWarning: lbfgs failed to converge (status=1):\n",
      "STOP: TOTAL NO. of ITERATIONS REACHED LIMIT.\n",
      "\n",
      "Increase the number of iterations (max_iter) or scale the data as shown in:\n",
      "    https://scikit-learn.org/stable/modules/preprocessing.html\n",
      "Please also refer to the documentation for alternative solver options:\n",
      "    https://scikit-learn.org/stable/modules/linear_model.html#logistic-regression\n",
      "  n_iter_i = _check_optimize_result(\n",
      "/home/alessio/anaconda3/envs/machine_learning/lib/python3.8/site-packages/sklearn/preprocessing/_data.py:2612: UserWarning: n_quantiles (1000) is greater than the total number of samples (712). n_quantiles is set to n_samples.\n",
      "  warnings.warn(\"n_quantiles (%s) is greater than the total number \"\n",
      "/home/alessio/anaconda3/envs/machine_learning/lib/python3.8/site-packages/sklearn/neural_network/_multilayer_perceptron.py:614: ConvergenceWarning: Stochastic Optimizer: Maximum iterations (200) reached and the optimization hasn't converged yet.\n",
      "  warnings.warn(\n",
      "/home/alessio/anaconda3/envs/machine_learning/lib/python3.8/site-packages/sklearn/preprocessing/_data.py:2612: UserWarning: n_quantiles (1000) is greater than the total number of samples (712). n_quantiles is set to n_samples.\n",
      "  warnings.warn(\"n_quantiles (%s) is greater than the total number \"\n",
      "/home/alessio/anaconda3/envs/machine_learning/lib/python3.8/site-packages/sklearn/preprocessing/_data.py:2612: UserWarning: n_quantiles (1000) is greater than the total number of samples (712). n_quantiles is set to n_samples.\n",
      "  warnings.warn(\"n_quantiles (%s) is greater than the total number \"\n"
     ]
    },
    {
     "output_type": "error",
     "ename": "ValueError",
     "evalue": "Negative values in data passed to CategoricalNB (input X)",
     "traceback": [
      "\u001b[0;31m---------------------------------------------------------------------------\u001b[0m",
      "\u001b[0;31mValueError\u001b[0m                                Traceback (most recent call last)",
      "\u001b[0;32m<ipython-input-62-1533e4282ce8>\u001b[0m in \u001b[0;36m<module>\u001b[0;34m\u001b[0m\n\u001b[1;32m     43\u001b[0m     \u001b[0mstart_time\u001b[0m \u001b[0;34m=\u001b[0m \u001b[0mtime\u001b[0m\u001b[0;34m.\u001b[0m\u001b[0mtime\u001b[0m\u001b[0;34m(\u001b[0m\u001b[0;34m)\u001b[0m\u001b[0;34m\u001b[0m\u001b[0;34m\u001b[0m\u001b[0m\n\u001b[1;32m     44\u001b[0m \u001b[0;34m\u001b[0m\u001b[0m\n\u001b[0;32m---> 45\u001b[0;31m     \u001b[0mmodel\u001b[0m\u001b[0;34m.\u001b[0m\u001b[0mfit\u001b[0m\u001b[0;34m(\u001b[0m\u001b[0mx_train\u001b[0m\u001b[0;34m,\u001b[0m \u001b[0my_train\u001b[0m\u001b[0;34m)\u001b[0m\u001b[0;34m\u001b[0m\u001b[0;34m\u001b[0m\u001b[0m\n\u001b[0m\u001b[1;32m     46\u001b[0m \u001b[0;34m\u001b[0m\u001b[0m\n\u001b[1;32m     47\u001b[0m     \u001b[0mpred\u001b[0m \u001b[0;34m=\u001b[0m \u001b[0mmodel\u001b[0m\u001b[0;34m.\u001b[0m\u001b[0mpredict\u001b[0m\u001b[0;34m(\u001b[0m\u001b[0mx_val\u001b[0m\u001b[0;34m)\u001b[0m\u001b[0;34m\u001b[0m\u001b[0;34m\u001b[0m\u001b[0m\n",
      "\u001b[0;32m~/anaconda3/envs/machine_learning/lib/python3.8/site-packages/sklearn/pipeline.py\u001b[0m in \u001b[0;36mfit\u001b[0;34m(self, X, y, **fit_params)\u001b[0m\n\u001b[1;32m    344\u001b[0m             \u001b[0;32mif\u001b[0m \u001b[0mself\u001b[0m\u001b[0;34m.\u001b[0m\u001b[0m_final_estimator\u001b[0m \u001b[0;34m!=\u001b[0m \u001b[0;34m'passthrough'\u001b[0m\u001b[0;34m:\u001b[0m\u001b[0;34m\u001b[0m\u001b[0;34m\u001b[0m\u001b[0m\n\u001b[1;32m    345\u001b[0m                 \u001b[0mfit_params_last_step\u001b[0m \u001b[0;34m=\u001b[0m \u001b[0mfit_params_steps\u001b[0m\u001b[0;34m[\u001b[0m\u001b[0mself\u001b[0m\u001b[0;34m.\u001b[0m\u001b[0msteps\u001b[0m\u001b[0;34m[\u001b[0m\u001b[0;34m-\u001b[0m\u001b[0;36m1\u001b[0m\u001b[0;34m]\u001b[0m\u001b[0;34m[\u001b[0m\u001b[0;36m0\u001b[0m\u001b[0;34m]\u001b[0m\u001b[0;34m]\u001b[0m\u001b[0;34m\u001b[0m\u001b[0;34m\u001b[0m\u001b[0m\n\u001b[0;32m--> 346\u001b[0;31m                 \u001b[0mself\u001b[0m\u001b[0;34m.\u001b[0m\u001b[0m_final_estimator\u001b[0m\u001b[0;34m.\u001b[0m\u001b[0mfit\u001b[0m\u001b[0;34m(\u001b[0m\u001b[0mXt\u001b[0m\u001b[0;34m,\u001b[0m \u001b[0my\u001b[0m\u001b[0;34m,\u001b[0m \u001b[0;34m**\u001b[0m\u001b[0mfit_params_last_step\u001b[0m\u001b[0;34m)\u001b[0m\u001b[0;34m\u001b[0m\u001b[0;34m\u001b[0m\u001b[0m\n\u001b[0m\u001b[1;32m    347\u001b[0m \u001b[0;34m\u001b[0m\u001b[0m\n\u001b[1;32m    348\u001b[0m         \u001b[0;32mreturn\u001b[0m \u001b[0mself\u001b[0m\u001b[0;34m\u001b[0m\u001b[0;34m\u001b[0m\u001b[0m\n",
      "\u001b[0;32m~/anaconda3/envs/machine_learning/lib/python3.8/site-packages/sklearn/naive_bayes.py\u001b[0m in \u001b[0;36mfit\u001b[0;34m(self, X, y, sample_weight)\u001b[0m\n\u001b[1;32m   1164\u001b[0m         \u001b[0mself\u001b[0m \u001b[0;34m:\u001b[0m \u001b[0mobject\u001b[0m\u001b[0;34m\u001b[0m\u001b[0;34m\u001b[0m\u001b[0m\n\u001b[1;32m   1165\u001b[0m         \"\"\"\n\u001b[0;32m-> 1166\u001b[0;31m         \u001b[0;32mreturn\u001b[0m \u001b[0msuper\u001b[0m\u001b[0;34m(\u001b[0m\u001b[0;34m)\u001b[0m\u001b[0;34m.\u001b[0m\u001b[0mfit\u001b[0m\u001b[0;34m(\u001b[0m\u001b[0mX\u001b[0m\u001b[0;34m,\u001b[0m \u001b[0my\u001b[0m\u001b[0;34m,\u001b[0m \u001b[0msample_weight\u001b[0m\u001b[0;34m=\u001b[0m\u001b[0msample_weight\u001b[0m\u001b[0;34m)\u001b[0m\u001b[0;34m\u001b[0m\u001b[0;34m\u001b[0m\u001b[0m\n\u001b[0m\u001b[1;32m   1167\u001b[0m \u001b[0;34m\u001b[0m\u001b[0m\n\u001b[1;32m   1168\u001b[0m     \u001b[0;32mdef\u001b[0m \u001b[0mpartial_fit\u001b[0m\u001b[0;34m(\u001b[0m\u001b[0mself\u001b[0m\u001b[0;34m,\u001b[0m \u001b[0mX\u001b[0m\u001b[0;34m,\u001b[0m \u001b[0my\u001b[0m\u001b[0;34m,\u001b[0m \u001b[0mclasses\u001b[0m\u001b[0;34m=\u001b[0m\u001b[0;32mNone\u001b[0m\u001b[0;34m,\u001b[0m \u001b[0msample_weight\u001b[0m\u001b[0;34m=\u001b[0m\u001b[0;32mNone\u001b[0m\u001b[0;34m)\u001b[0m\u001b[0;34m:\u001b[0m\u001b[0;34m\u001b[0m\u001b[0;34m\u001b[0m\u001b[0m\n",
      "\u001b[0;32m~/anaconda3/envs/machine_learning/lib/python3.8/site-packages/sklearn/naive_bayes.py\u001b[0m in \u001b[0;36mfit\u001b[0;34m(self, X, y, sample_weight)\u001b[0m\n\u001b[1;32m    610\u001b[0m         \u001b[0mself\u001b[0m \u001b[0;34m:\u001b[0m \u001b[0mobject\u001b[0m\u001b[0;34m\u001b[0m\u001b[0;34m\u001b[0m\u001b[0m\n\u001b[1;32m    611\u001b[0m         \"\"\"\n\u001b[0;32m--> 612\u001b[0;31m         \u001b[0mX\u001b[0m\u001b[0;34m,\u001b[0m \u001b[0my\u001b[0m \u001b[0;34m=\u001b[0m \u001b[0mself\u001b[0m\u001b[0;34m.\u001b[0m\u001b[0m_check_X_y\u001b[0m\u001b[0;34m(\u001b[0m\u001b[0mX\u001b[0m\u001b[0;34m,\u001b[0m \u001b[0my\u001b[0m\u001b[0;34m)\u001b[0m\u001b[0;34m\u001b[0m\u001b[0;34m\u001b[0m\u001b[0m\n\u001b[0m\u001b[1;32m    613\u001b[0m         \u001b[0m_\u001b[0m\u001b[0;34m,\u001b[0m \u001b[0mn_features\u001b[0m \u001b[0;34m=\u001b[0m \u001b[0mX\u001b[0m\u001b[0;34m.\u001b[0m\u001b[0mshape\u001b[0m\u001b[0;34m\u001b[0m\u001b[0;34m\u001b[0m\u001b[0m\n\u001b[1;32m    614\u001b[0m         \u001b[0mself\u001b[0m\u001b[0;34m.\u001b[0m\u001b[0mn_features_\u001b[0m \u001b[0;34m=\u001b[0m \u001b[0mn_features\u001b[0m\u001b[0;34m\u001b[0m\u001b[0;34m\u001b[0m\u001b[0m\n",
      "\u001b[0;32m~/anaconda3/envs/machine_learning/lib/python3.8/site-packages/sklearn/naive_bayes.py\u001b[0m in \u001b[0;36m_check_X_y\u001b[0;34m(self, X, y)\u001b[0m\n\u001b[1;32m   1222\u001b[0m         X, y = self._validate_data(X, y, dtype='int', accept_sparse=False,\n\u001b[1;32m   1223\u001b[0m                                    force_all_finite=True)\n\u001b[0;32m-> 1224\u001b[0;31m         \u001b[0mcheck_non_negative\u001b[0m\u001b[0;34m(\u001b[0m\u001b[0mX\u001b[0m\u001b[0;34m,\u001b[0m \u001b[0;34m\"CategoricalNB (input X)\"\u001b[0m\u001b[0;34m)\u001b[0m\u001b[0;34m\u001b[0m\u001b[0;34m\u001b[0m\u001b[0m\n\u001b[0m\u001b[1;32m   1225\u001b[0m         \u001b[0;32mreturn\u001b[0m \u001b[0mX\u001b[0m\u001b[0;34m,\u001b[0m \u001b[0my\u001b[0m\u001b[0;34m\u001b[0m\u001b[0;34m\u001b[0m\u001b[0m\n\u001b[1;32m   1226\u001b[0m \u001b[0;34m\u001b[0m\u001b[0m\n",
      "\u001b[0;32m~/anaconda3/envs/machine_learning/lib/python3.8/site-packages/sklearn/utils/validation.py\u001b[0m in \u001b[0;36mcheck_non_negative\u001b[0;34m(X, whom)\u001b[0m\n\u001b[1;32m   1066\u001b[0m \u001b[0;34m\u001b[0m\u001b[0m\n\u001b[1;32m   1067\u001b[0m     \u001b[0;32mif\u001b[0m \u001b[0mX_min\u001b[0m \u001b[0;34m<\u001b[0m \u001b[0;36m0\u001b[0m\u001b[0;34m:\u001b[0m\u001b[0;34m\u001b[0m\u001b[0;34m\u001b[0m\u001b[0m\n\u001b[0;32m-> 1068\u001b[0;31m         \u001b[0;32mraise\u001b[0m \u001b[0mValueError\u001b[0m\u001b[0;34m(\u001b[0m\u001b[0;34m\"Negative values in data passed to %s\"\u001b[0m \u001b[0;34m%\u001b[0m \u001b[0mwhom\u001b[0m\u001b[0;34m)\u001b[0m\u001b[0;34m\u001b[0m\u001b[0;34m\u001b[0m\u001b[0m\n\u001b[0m\u001b[1;32m   1069\u001b[0m \u001b[0;34m\u001b[0m\u001b[0m\n\u001b[1;32m   1070\u001b[0m \u001b[0;34m\u001b[0m\u001b[0m\n",
      "\u001b[0;31mValueError\u001b[0m: Negative values in data passed to CategoricalNB (input X)"
     ]
    }
   ],
   "source": [
    "\"\"\"\n",
    "x_train, x_val, y_train, y_val = model_selection.train_test_split(\n",
    "    # CODE HERE\n",
    ")\n",
    "\"\"\"\n",
    "# YOUR CODE HERE\n",
    "x_train, x_val, y_train, y_val = model_selection.train_test_split(\n",
    "    x, y,\n",
    "    train_size=0.8,\n",
    "    stratify=y,\n",
    "    random_state=0\n",
    ")\n",
    "\n",
    "# x_train = x_train.values\n",
    "# x_val = x_val.values\n",
    "# y_train = y_train.values\n",
    "# y_val = y_val.values\n",
    "\n",
    "results = pd.DataFrame({'Model': [], 'Accuracy': [], 'Bal Acc.': [], 'Time': []})\n",
    "\n",
    "\"\"\"\n",
    "for model_name, model in tree_classifiers.items():\n",
    "    start_time = time.time()\n",
    "    \n",
    "    # FOR EVERY PIPELINE (PREPRO + MODEL) -> TRAIN WITH TRAIN DATA (x_train)\n",
    "    \n",
    "    # GET PREDICTIONS USING x_val\n",
    "    pred = # CODE HERE\n",
    "\n",
    "    total_time = time.time() - start_time\n",
    "\n",
    "    results = results.append({\"Model\":    model_name,\n",
    "                              \"Accuracy\": metrics.accuracy_score(y_val, pred)*100,\n",
    "                              \"Bal Acc.\": metrics.balanced_accuracy_score(y_val, pred)*100,\n",
    "                              \"Time\":     total_time},\n",
    "                              ignore_index=True)\n",
    "                              \n",
    "                              \n",
    "\"\"\"\n",
    "\n",
    "# YOUR CODE HERE\n",
    "for model_name, model in classifiers.items():\n",
    "    start_time = time.time()\n",
    "\n",
    "    model.fit(x_train, y_train)\n",
    "\n",
    "    pred = model.predict(x_val)\n",
    "\n",
    "    total_time = time.time() - start_time\n",
    "\n",
    "    results = results.append({\"Model\":    model_name,\n",
    "                              \"Accuracy\": metrics.accuracy_score(y_val, pred)*100,\n",
    "                              \"Bal Acc.\": metrics.balanced_accuracy_score(y_val, pred)*100,\n",
    "                              \"Time\":     total_time},\n",
    "                              ignore_index=True)\n",
    "\n",
    "\n",
    "\n",
    "\n",
    "results_ord = results.sort_values(by=['Accuracy'], ascending=False, ignore_index=True)\n",
    "results_ord.index += 1 \n",
    "results_ord.style.bar(subset=['Accuracy', 'Bal Acc.'], vmin=0, vmax=100, color='#5fba7d')"
   ]
  },
  {
   "cell_type": "code",
   "execution_count": null,
   "metadata": {
    "deletable": false,
    "editable": false,
    "nbgrader": {
     "cell_type": "code",
     "checksum": "dde6f91a6185745a813882e0c1f997bc",
     "grade": true,
     "grade_id": "cell-af27b33fe88ad384",
     "locked": true,
     "points": 3,
     "schema_version": 3,
     "solution": false,
     "task": false
    }
   },
   "outputs": [],
   "source": [
    "assert results_ord[\"Accuracy\"].min() > 75\n",
    "assert results_ord[\"Bal Acc.\"].min() > 75\n",
    "assert len(results_ord) >= 9"
   ]
  },
  {
   "cell_type": "markdown",
   "metadata": {},
   "source": [
    "# Exercise 6 (3pts):\n",
    "Define a 10 Fold cross validation strategy with:\n",
    "- With stratification\n",
    "- shuffle=True\n",
    "- random_state=0\n",
    "\n",
    "And train all the models in a for loop.\n",
    "\n",
    "Tip you can use **[cross_val_predict](https://scikit-learn.org/stable/modules/generated/sklearn.model_selection.cross_val_predict.html)** for both training and predict with "
   ]
  },
  {
   "cell_type": "code",
   "execution_count": 28,
   "metadata": {
    "deletable": false,
    "nbgrader": {
     "cell_type": "code",
     "checksum": "b9238f7916249fc81179a78b5492e5d4",
     "grade": false,
     "grade_id": "cell-37bf16dc25b43732",
     "locked": false,
     "schema_version": 3,
     "solution": true,
     "task": false
    },
    "tags": [
     "outputPrepend"
    ]
   },
   "outputs": [
    {
     "output_type": "stream",
     "name": "stderr",
     "text": [
      "tal: 633ms\tremaining: 68.8ms\n",
      "902:\tlearn: 0.2777468\ttotal: 634ms\tremaining: 68.1ms\n",
      "903:\tlearn: 0.2776871\ttotal: 634ms\tremaining: 67.4ms\n",
      "904:\tlearn: 0.2776584\ttotal: 635ms\tremaining: 66.7ms\n",
      "905:\tlearn: 0.2775982\ttotal: 636ms\tremaining: 66ms\n",
      "906:\tlearn: 0.2775220\ttotal: 637ms\tremaining: 65.3ms\n",
      "907:\tlearn: 0.2774252\ttotal: 637ms\tremaining: 64.6ms\n",
      "908:\tlearn: 0.2773652\ttotal: 638ms\tremaining: 63.9ms\n",
      "909:\tlearn: 0.2772933\ttotal: 639ms\tremaining: 63.2ms\n",
      "910:\tlearn: 0.2772232\ttotal: 640ms\tremaining: 62.5ms\n",
      "911:\tlearn: 0.2771706\ttotal: 640ms\tremaining: 61.8ms\n",
      "912:\tlearn: 0.2771071\ttotal: 641ms\tremaining: 61.1ms\n",
      "913:\tlearn: 0.2769870\ttotal: 642ms\tremaining: 60.4ms\n",
      "914:\tlearn: 0.2769105\ttotal: 642ms\tremaining: 59.7ms\n",
      "915:\tlearn: 0.2767064\ttotal: 643ms\tremaining: 59ms\n",
      "916:\tlearn: 0.2766743\ttotal: 648ms\tremaining: 58.6ms\n",
      "917:\tlearn: 0.2765823\ttotal: 649ms\tremaining: 58ms\n",
      "918:\tlearn: 0.2765224\ttotal: 650ms\tremaining: 57.3ms\n",
      "919:\tlearn: 0.2764303\ttotal: 650ms\tremaining: 56.6ms\n",
      "920:\tlearn: 0.2763395\ttotal: 651ms\tremaining: 55.9ms\n",
      "921:\tlearn: 0.2760705\ttotal: 652ms\tremaining: 55.2ms\n",
      "922:\tlearn: 0.2760494\ttotal: 653ms\tremaining: 54.5ms\n",
      "923:\tlearn: 0.2759973\ttotal: 654ms\tremaining: 53.8ms\n",
      "924:\tlearn: 0.2759403\ttotal: 654ms\tremaining: 53.1ms\n",
      "925:\tlearn: 0.2758996\ttotal: 655ms\tremaining: 52.4ms\n",
      "926:\tlearn: 0.2758432\ttotal: 656ms\tremaining: 51.7ms\n",
      "927:\tlearn: 0.2757698\ttotal: 657ms\tremaining: 51ms\n",
      "928:\tlearn: 0.2757248\ttotal: 657ms\tremaining: 50.2ms\n",
      "929:\tlearn: 0.2756732\ttotal: 658ms\tremaining: 49.5ms\n",
      "930:\tlearn: 0.2755978\ttotal: 659ms\tremaining: 48.8ms\n",
      "931:\tlearn: 0.2755492\ttotal: 660ms\tremaining: 48.1ms\n",
      "932:\tlearn: 0.2754882\ttotal: 660ms\tremaining: 47.4ms\n",
      "933:\tlearn: 0.2754322\ttotal: 661ms\tremaining: 46.7ms\n",
      "934:\tlearn: 0.2753333\ttotal: 662ms\tremaining: 46ms\n",
      "935:\tlearn: 0.2752616\ttotal: 662ms\tremaining: 45.3ms\n",
      "936:\tlearn: 0.2751995\ttotal: 663ms\tremaining: 44.6ms\n",
      "937:\tlearn: 0.2751553\ttotal: 664ms\tremaining: 43.9ms\n",
      "938:\tlearn: 0.2750818\ttotal: 665ms\tremaining: 43.2ms\n",
      "939:\tlearn: 0.2750358\ttotal: 665ms\tremaining: 42.5ms\n",
      "940:\tlearn: 0.2749729\ttotal: 666ms\tremaining: 41.8ms\n",
      "941:\tlearn: 0.2748853\ttotal: 667ms\tremaining: 41.1ms\n",
      "942:\tlearn: 0.2748486\ttotal: 668ms\tremaining: 40.4ms\n",
      "943:\tlearn: 0.2746041\ttotal: 668ms\tremaining: 39.6ms\n",
      "944:\tlearn: 0.2745368\ttotal: 669ms\tremaining: 38.9ms\n",
      "945:\tlearn: 0.2744618\ttotal: 670ms\tremaining: 38.3ms\n",
      "946:\tlearn: 0.2743867\ttotal: 671ms\tremaining: 37.5ms\n",
      "947:\tlearn: 0.2742972\ttotal: 672ms\tremaining: 36.8ms\n",
      "948:\tlearn: 0.2742096\ttotal: 672ms\tremaining: 36.1ms\n",
      "949:\tlearn: 0.2741597\ttotal: 673ms\tremaining: 35.4ms\n",
      "950:\tlearn: 0.2741085\ttotal: 674ms\tremaining: 34.7ms\n",
      "951:\tlearn: 0.2739466\ttotal: 674ms\tremaining: 34ms\n",
      "952:\tlearn: 0.2738758\ttotal: 675ms\tremaining: 33.3ms\n",
      "953:\tlearn: 0.2738003\ttotal: 676ms\tremaining: 32.6ms\n",
      "954:\tlearn: 0.2737329\ttotal: 677ms\tremaining: 31.9ms\n",
      "955:\tlearn: 0.2736665\ttotal: 678ms\tremaining: 31.2ms\n",
      "956:\tlearn: 0.2735394\ttotal: 678ms\tremaining: 30.5ms\n",
      "957:\tlearn: 0.2734746\ttotal: 679ms\tremaining: 29.8ms\n",
      "958:\tlearn: 0.2733852\ttotal: 680ms\tremaining: 29.1ms\n",
      "959:\tlearn: 0.2733247\ttotal: 681ms\tremaining: 28.4ms\n",
      "960:\tlearn: 0.2731828\ttotal: 682ms\tremaining: 27.7ms\n",
      "961:\tlearn: 0.2731194\ttotal: 682ms\tremaining: 27ms\n",
      "962:\tlearn: 0.2730475\ttotal: 683ms\tremaining: 26.2ms\n",
      "963:\tlearn: 0.2729890\ttotal: 684ms\tremaining: 25.5ms\n",
      "964:\tlearn: 0.2729256\ttotal: 685ms\tremaining: 24.8ms\n",
      "965:\tlearn: 0.2728795\ttotal: 685ms\tremaining: 24.1ms\n",
      "966:\tlearn: 0.2728481\ttotal: 686ms\tremaining: 23.4ms\n",
      "967:\tlearn: 0.2727078\ttotal: 687ms\tremaining: 22.7ms\n",
      "968:\tlearn: 0.2726239\ttotal: 688ms\tremaining: 22ms\n",
      "969:\tlearn: 0.2724207\ttotal: 688ms\tremaining: 21.3ms\n",
      "970:\tlearn: 0.2723412\ttotal: 689ms\tremaining: 20.6ms\n",
      "971:\tlearn: 0.2722936\ttotal: 690ms\tremaining: 19.9ms\n",
      "972:\tlearn: 0.2722005\ttotal: 690ms\tremaining: 19.2ms\n",
      "973:\tlearn: 0.2721692\ttotal: 691ms\tremaining: 18.5ms\n",
      "974:\tlearn: 0.2720985\ttotal: 692ms\tremaining: 17.7ms\n",
      "975:\tlearn: 0.2720136\ttotal: 693ms\tremaining: 17ms\n",
      "976:\tlearn: 0.2719508\ttotal: 694ms\tremaining: 16.3ms\n",
      "977:\tlearn: 0.2718207\ttotal: 695ms\tremaining: 15.6ms\n",
      "978:\tlearn: 0.2717568\ttotal: 695ms\tremaining: 14.9ms\n",
      "979:\tlearn: 0.2716952\ttotal: 696ms\tremaining: 14.2ms\n",
      "980:\tlearn: 0.2715325\ttotal: 697ms\tremaining: 13.5ms\n",
      "981:\tlearn: 0.2714234\ttotal: 698ms\tremaining: 12.8ms\n",
      "982:\tlearn: 0.2713381\ttotal: 698ms\tremaining: 12.1ms\n",
      "983:\tlearn: 0.2712761\ttotal: 699ms\tremaining: 11.4ms\n",
      "984:\tlearn: 0.2712342\ttotal: 700ms\tremaining: 10.7ms\n",
      "985:\tlearn: 0.2710371\ttotal: 701ms\tremaining: 9.95ms\n",
      "986:\tlearn: 0.2709055\ttotal: 701ms\tremaining: 9.23ms\n",
      "987:\tlearn: 0.2708152\ttotal: 702ms\tremaining: 8.53ms\n",
      "988:\tlearn: 0.2706604\ttotal: 703ms\tremaining: 7.82ms\n",
      "989:\tlearn: 0.2704763\ttotal: 703ms\tremaining: 7.1ms\n",
      "990:\tlearn: 0.2703481\ttotal: 704ms\tremaining: 6.39ms\n",
      "991:\tlearn: 0.2702688\ttotal: 705ms\tremaining: 5.68ms\n",
      "992:\tlearn: 0.2701523\ttotal: 706ms\tremaining: 4.97ms\n",
      "993:\tlearn: 0.2699541\ttotal: 706ms\tremaining: 4.26ms\n",
      "994:\tlearn: 0.2699103\ttotal: 707ms\tremaining: 3.55ms\n",
      "995:\tlearn: 0.2698069\ttotal: 708ms\tremaining: 2.84ms\n",
      "996:\tlearn: 0.2697762\ttotal: 709ms\tremaining: 2.13ms\n",
      "997:\tlearn: 0.2694714\ttotal: 709ms\tremaining: 1.42ms\n",
      "998:\tlearn: 0.2694432\ttotal: 710ms\tremaining: 710us\n",
      "999:\tlearn: 0.2693527\ttotal: 711ms\tremaining: 0us\n",
      "/home/alessio/anaconda3/envs/machine_learning/lib/python3.8/site-packages/sklearn/preprocessing/_data.py:2612: UserWarning: n_quantiles (1000) is greater than the total number of samples (801). n_quantiles is set to n_samples.\n",
      "  warnings.warn(\"n_quantiles (%s) is greater than the total number \"\n",
      "/home/alessio/anaconda3/envs/machine_learning/lib/python3.8/site-packages/sklearn/preprocessing/_data.py:2612: UserWarning: n_quantiles (1000) is greater than the total number of samples (802). n_quantiles is set to n_samples.\n",
      "  warnings.warn(\"n_quantiles (%s) is greater than the total number \"\n",
      "/home/alessio/anaconda3/envs/machine_learning/lib/python3.8/site-packages/sklearn/preprocessing/_data.py:2612: UserWarning: n_quantiles (1000) is greater than the total number of samples (802). n_quantiles is set to n_samples.\n",
      "  warnings.warn(\"n_quantiles (%s) is greater than the total number \"\n",
      "/home/alessio/anaconda3/envs/machine_learning/lib/python3.8/site-packages/sklearn/preprocessing/_data.py:2612: UserWarning: n_quantiles (1000) is greater than the total number of samples (802). n_quantiles is set to n_samples.\n",
      "  warnings.warn(\"n_quantiles (%s) is greater than the total number \"\n",
      "/home/alessio/anaconda3/envs/machine_learning/lib/python3.8/site-packages/sklearn/preprocessing/_data.py:2612: UserWarning: n_quantiles (1000) is greater than the total number of samples (802). n_quantiles is set to n_samples.\n",
      "  warnings.warn(\"n_quantiles (%s) is greater than the total number \"\n",
      "/home/alessio/anaconda3/envs/machine_learning/lib/python3.8/site-packages/sklearn/preprocessing/_data.py:2612: UserWarning: n_quantiles (1000) is greater than the total number of samples (802). n_quantiles is set to n_samples.\n",
      "  warnings.warn(\"n_quantiles (%s) is greater than the total number \"\n",
      "/home/alessio/anaconda3/envs/machine_learning/lib/python3.8/site-packages/sklearn/preprocessing/_data.py:2612: UserWarning: n_quantiles (1000) is greater than the total number of samples (802). n_quantiles is set to n_samples.\n",
      "  warnings.warn(\"n_quantiles (%s) is greater than the total number \"\n",
      "/home/alessio/anaconda3/envs/machine_learning/lib/python3.8/site-packages/sklearn/preprocessing/_data.py:2612: UserWarning: n_quantiles (1000) is greater than the total number of samples (802). n_quantiles is set to n_samples.\n",
      "  warnings.warn(\"n_quantiles (%s) is greater than the total number \"\n",
      "/home/alessio/anaconda3/envs/machine_learning/lib/python3.8/site-packages/sklearn/preprocessing/_data.py:2612: UserWarning: n_quantiles (1000) is greater than the total number of samples (802). n_quantiles is set to n_samples.\n",
      "  warnings.warn(\"n_quantiles (%s) is greater than the total number \"\n",
      "/home/alessio/anaconda3/envs/machine_learning/lib/python3.8/site-packages/sklearn/preprocessing/_data.py:2612: UserWarning: n_quantiles (1000) is greater than the total number of samples (802). n_quantiles is set to n_samples.\n",
      "  warnings.warn(\"n_quantiles (%s) is greater than the total number \"\n",
      "/home/alessio/anaconda3/envs/machine_learning/lib/python3.8/site-packages/sklearn/preprocessing/_data.py:2612: UserWarning: n_quantiles (1000) is greater than the total number of samples (801). n_quantiles is set to n_samples.\n",
      "  warnings.warn(\"n_quantiles (%s) is greater than the total number \"\n",
      "/home/alessio/anaconda3/envs/machine_learning/lib/python3.8/site-packages/sklearn/preprocessing/_data.py:2612: UserWarning: n_quantiles (1000) is greater than the total number of samples (802). n_quantiles is set to n_samples.\n",
      "  warnings.warn(\"n_quantiles (%s) is greater than the total number \"\n",
      "/home/alessio/anaconda3/envs/machine_learning/lib/python3.8/site-packages/sklearn/preprocessing/_data.py:2612: UserWarning: n_quantiles (1000) is greater than the total number of samples (802). n_quantiles is set to n_samples.\n",
      "  warnings.warn(\"n_quantiles (%s) is greater than the total number \"\n",
      "/home/alessio/anaconda3/envs/machine_learning/lib/python3.8/site-packages/sklearn/preprocessing/_data.py:2612: UserWarning: n_quantiles (1000) is greater than the total number of samples (802). n_quantiles is set to n_samples.\n",
      "  warnings.warn(\"n_quantiles (%s) is greater than the total number \"\n",
      "/home/alessio/anaconda3/envs/machine_learning/lib/python3.8/site-packages/sklearn/preprocessing/_data.py:2612: UserWarning: n_quantiles (1000) is greater than the total number of samples (802). n_quantiles is set to n_samples.\n",
      "  warnings.warn(\"n_quantiles (%s) is greater than the total number \"\n",
      "/home/alessio/anaconda3/envs/machine_learning/lib/python3.8/site-packages/sklearn/preprocessing/_data.py:2612: UserWarning: n_quantiles (1000) is greater than the total number of samples (802). n_quantiles is set to n_samples.\n",
      "  warnings.warn(\"n_quantiles (%s) is greater than the total number \"\n",
      "/home/alessio/anaconda3/envs/machine_learning/lib/python3.8/site-packages/sklearn/preprocessing/_data.py:2612: UserWarning: n_quantiles (1000) is greater than the total number of samples (802). n_quantiles is set to n_samples.\n",
      "  warnings.warn(\"n_quantiles (%s) is greater than the total number \"\n",
      "/home/alessio/anaconda3/envs/machine_learning/lib/python3.8/site-packages/sklearn/preprocessing/_data.py:2612: UserWarning: n_quantiles (1000) is greater than the total number of samples (802). n_quantiles is set to n_samples.\n",
      "  warnings.warn(\"n_quantiles (%s) is greater than the total number \"\n",
      "/home/alessio/anaconda3/envs/machine_learning/lib/python3.8/site-packages/sklearn/preprocessing/_data.py:2612: UserWarning: n_quantiles (1000) is greater than the total number of samples (802). n_quantiles is set to n_samples.\n",
      "  warnings.warn(\"n_quantiles (%s) is greater than the total number \"\n",
      "/home/alessio/anaconda3/envs/machine_learning/lib/python3.8/site-packages/sklearn/preprocessing/_data.py:2612: UserWarning: n_quantiles (1000) is greater than the total number of samples (802). n_quantiles is set to n_samples.\n",
      "  warnings.warn(\"n_quantiles (%s) is greater than the total number \"\n",
      "/home/alessio/anaconda3/envs/machine_learning/lib/python3.8/site-packages/sklearn/preprocessing/_data.py:2612: UserWarning: n_quantiles (1000) is greater than the total number of samples (801). n_quantiles is set to n_samples.\n",
      "  warnings.warn(\"n_quantiles (%s) is greater than the total number \"\n",
      "/home/alessio/anaconda3/envs/machine_learning/lib/python3.8/site-packages/sklearn/preprocessing/_data.py:2612: UserWarning: n_quantiles (1000) is greater than the total number of samples (802). n_quantiles is set to n_samples.\n",
      "  warnings.warn(\"n_quantiles (%s) is greater than the total number \"\n",
      "/home/alessio/anaconda3/envs/machine_learning/lib/python3.8/site-packages/sklearn/preprocessing/_data.py:2612: UserWarning: n_quantiles (1000) is greater than the total number of samples (802). n_quantiles is set to n_samples.\n",
      "  warnings.warn(\"n_quantiles (%s) is greater than the total number \"\n",
      "/home/alessio/anaconda3/envs/machine_learning/lib/python3.8/site-packages/sklearn/preprocessing/_data.py:2612: UserWarning: n_quantiles (1000) is greater than the total number of samples (802). n_quantiles is set to n_samples.\n",
      "  warnings.warn(\"n_quantiles (%s) is greater than the total number \"\n",
      "/home/alessio/anaconda3/envs/machine_learning/lib/python3.8/site-packages/sklearn/preprocessing/_data.py:2612: UserWarning: n_quantiles (1000) is greater than the total number of samples (802). n_quantiles is set to n_samples.\n",
      "  warnings.warn(\"n_quantiles (%s) is greater than the total number \"\n",
      "/home/alessio/anaconda3/envs/machine_learning/lib/python3.8/site-packages/sklearn/preprocessing/_data.py:2612: UserWarning: n_quantiles (1000) is greater than the total number of samples (802). n_quantiles is set to n_samples.\n",
      "  warnings.warn(\"n_quantiles (%s) is greater than the total number \"\n",
      "/home/alessio/anaconda3/envs/machine_learning/lib/python3.8/site-packages/sklearn/preprocessing/_data.py:2612: UserWarning: n_quantiles (1000) is greater than the total number of samples (802). n_quantiles is set to n_samples.\n",
      "  warnings.warn(\"n_quantiles (%s) is greater than the total number \"\n",
      "/home/alessio/anaconda3/envs/machine_learning/lib/python3.8/site-packages/sklearn/preprocessing/_data.py:2612: UserWarning: n_quantiles (1000) is greater than the total number of samples (802). n_quantiles is set to n_samples.\n",
      "  warnings.warn(\"n_quantiles (%s) is greater than the total number \"\n",
      "/home/alessio/anaconda3/envs/machine_learning/lib/python3.8/site-packages/sklearn/preprocessing/_data.py:2612: UserWarning: n_quantiles (1000) is greater than the total number of samples (802). n_quantiles is set to n_samples.\n",
      "  warnings.warn(\"n_quantiles (%s) is greater than the total number \"\n",
      "/home/alessio/anaconda3/envs/machine_learning/lib/python3.8/site-packages/sklearn/preprocessing/_data.py:2612: UserWarning: n_quantiles (1000) is greater than the total number of samples (802). n_quantiles is set to n_samples.\n",
      "  warnings.warn(\"n_quantiles (%s) is greater than the total number \"\n",
      "/home/alessio/anaconda3/envs/machine_learning/lib/python3.8/site-packages/sklearn/preprocessing/_data.py:2612: UserWarning: n_quantiles (1000) is greater than the total number of samples (801). n_quantiles is set to n_samples.\n",
      "  warnings.warn(\"n_quantiles (%s) is greater than the total number \"\n",
      "/home/alessio/anaconda3/envs/machine_learning/lib/python3.8/site-packages/sklearn/preprocessing/_data.py:2612: UserWarning: n_quantiles (1000) is greater than the total number of samples (802). n_quantiles is set to n_samples.\n",
      "  warnings.warn(\"n_quantiles (%s) is greater than the total number \"\n",
      "/home/alessio/anaconda3/envs/machine_learning/lib/python3.8/site-packages/sklearn/preprocessing/_data.py:2612: UserWarning: n_quantiles (1000) is greater than the total number of samples (802). n_quantiles is set to n_samples.\n",
      "  warnings.warn(\"n_quantiles (%s) is greater than the total number \"\n",
      "/home/alessio/anaconda3/envs/machine_learning/lib/python3.8/site-packages/sklearn/preprocessing/_data.py:2612: UserWarning: n_quantiles (1000) is greater than the total number of samples (802). n_quantiles is set to n_samples.\n",
      "  warnings.warn(\"n_quantiles (%s) is greater than the total number \"\n",
      "/home/alessio/anaconda3/envs/machine_learning/lib/python3.8/site-packages/sklearn/preprocessing/_data.py:2612: UserWarning: n_quantiles (1000) is greater than the total number of samples (802). n_quantiles is set to n_samples.\n",
      "  warnings.warn(\"n_quantiles (%s) is greater than the total number \"\n",
      "/home/alessio/anaconda3/envs/machine_learning/lib/python3.8/site-packages/sklearn/preprocessing/_data.py:2612: UserWarning: n_quantiles (1000) is greater than the total number of samples (802). n_quantiles is set to n_samples.\n",
      "  warnings.warn(\"n_quantiles (%s) is greater than the total number \"\n",
      "/home/alessio/anaconda3/envs/machine_learning/lib/python3.8/site-packages/sklearn/preprocessing/_data.py:2612: UserWarning: n_quantiles (1000) is greater than the total number of samples (802). n_quantiles is set to n_samples.\n",
      "  warnings.warn(\"n_quantiles (%s) is greater than the total number \"\n",
      "/home/alessio/anaconda3/envs/machine_learning/lib/python3.8/site-packages/sklearn/preprocessing/_data.py:2612: UserWarning: n_quantiles (1000) is greater than the total number of samples (802). n_quantiles is set to n_samples.\n",
      "  warnings.warn(\"n_quantiles (%s) is greater than the total number \"\n",
      "/home/alessio/anaconda3/envs/machine_learning/lib/python3.8/site-packages/sklearn/preprocessing/_data.py:2612: UserWarning: n_quantiles (1000) is greater than the total number of samples (802). n_quantiles is set to n_samples.\n",
      "  warnings.warn(\"n_quantiles (%s) is greater than the total number \"\n",
      "/home/alessio/anaconda3/envs/machine_learning/lib/python3.8/site-packages/sklearn/preprocessing/_data.py:2612: UserWarning: n_quantiles (1000) is greater than the total number of samples (802). n_quantiles is set to n_samples.\n",
      "  warnings.warn(\"n_quantiles (%s) is greater than the total number \"\n",
      "/home/alessio/anaconda3/envs/machine_learning/lib/python3.8/site-packages/sklearn/preprocessing/_data.py:2612: UserWarning: n_quantiles (1000) is greater than the total number of samples (801). n_quantiles is set to n_samples.\n",
      "  warnings.warn(\"n_quantiles (%s) is greater than the total number \"\n",
      "/home/alessio/anaconda3/envs/machine_learning/lib/python3.8/site-packages/sklearn/preprocessing/_data.py:2612: UserWarning: n_quantiles (1000) is greater than the total number of samples (802). n_quantiles is set to n_samples.\n",
      "  warnings.warn(\"n_quantiles (%s) is greater than the total number \"\n",
      "/home/alessio/anaconda3/envs/machine_learning/lib/python3.8/site-packages/sklearn/preprocessing/_data.py:2612: UserWarning: n_quantiles (1000) is greater than the total number of samples (802). n_quantiles is set to n_samples.\n",
      "  warnings.warn(\"n_quantiles (%s) is greater than the total number \"\n",
      "/home/alessio/anaconda3/envs/machine_learning/lib/python3.8/site-packages/sklearn/preprocessing/_data.py:2612: UserWarning: n_quantiles (1000) is greater than the total number of samples (802). n_quantiles is set to n_samples.\n",
      "  warnings.warn(\"n_quantiles (%s) is greater than the total number \"\n",
      "/home/alessio/anaconda3/envs/machine_learning/lib/python3.8/site-packages/sklearn/preprocessing/_data.py:2612: UserWarning: n_quantiles (1000) is greater than the total number of samples (802). n_quantiles is set to n_samples.\n",
      "  warnings.warn(\"n_quantiles (%s) is greater than the total number \"\n",
      "/home/alessio/anaconda3/envs/machine_learning/lib/python3.8/site-packages/sklearn/preprocessing/_data.py:2612: UserWarning: n_quantiles (1000) is greater than the total number of samples (802). n_quantiles is set to n_samples.\n",
      "  warnings.warn(\"n_quantiles (%s) is greater than the total number \"\n",
      "/home/alessio/anaconda3/envs/machine_learning/lib/python3.8/site-packages/sklearn/preprocessing/_data.py:2612: UserWarning: n_quantiles (1000) is greater than the total number of samples (802). n_quantiles is set to n_samples.\n",
      "  warnings.warn(\"n_quantiles (%s) is greater than the total number \"\n",
      "/home/alessio/anaconda3/envs/machine_learning/lib/python3.8/site-packages/sklearn/preprocessing/_data.py:2612: UserWarning: n_quantiles (1000) is greater than the total number of samples (802). n_quantiles is set to n_samples.\n",
      "  warnings.warn(\"n_quantiles (%s) is greater than the total number \"\n",
      "/home/alessio/anaconda3/envs/machine_learning/lib/python3.8/site-packages/sklearn/preprocessing/_data.py:2612: UserWarning: n_quantiles (1000) is greater than the total number of samples (802). n_quantiles is set to n_samples.\n",
      "  warnings.warn(\"n_quantiles (%s) is greater than the total number \"\n",
      "/home/alessio/anaconda3/envs/machine_learning/lib/python3.8/site-packages/sklearn/preprocessing/_data.py:2612: UserWarning: n_quantiles (1000) is greater than the total number of samples (802). n_quantiles is set to n_samples.\n",
      "  warnings.warn(\"n_quantiles (%s) is greater than the total number \"\n"
     ]
    },
    {
     "output_type": "execute_result",
     "data": {
      "text/plain": [
       "<pandas.io.formats.style.Styler at 0x7ffa614b6d90>"
      ],
      "text/html": "<style  type=\"text/css\" >\n#T_cc72a_row0_col1{\n            width:  10em;\n             height:  80%;\n            background:  linear-gradient(90deg,#5fba7d 84.2%, transparent 84.2%);\n        }#T_cc72a_row0_col2{\n            width:  10em;\n             height:  80%;\n            background:  linear-gradient(90deg,#5fba7d 82.1%, transparent 82.1%);\n        }#T_cc72a_row1_col1{\n            width:  10em;\n             height:  80%;\n            background:  linear-gradient(90deg,#5fba7d 82.9%, transparent 82.9%);\n        }#T_cc72a_row1_col2{\n            width:  10em;\n             height:  80%;\n            background:  linear-gradient(90deg,#5fba7d 81.3%, transparent 81.3%);\n        }#T_cc72a_row2_col1{\n            width:  10em;\n             height:  80%;\n            background:  linear-gradient(90deg,#5fba7d 82.6%, transparent 82.6%);\n        }#T_cc72a_row2_col2{\n            width:  10em;\n             height:  80%;\n            background:  linear-gradient(90deg,#5fba7d 80.7%, transparent 80.7%);\n        }#T_cc72a_row3_col1,#T_cc72a_row4_col1,#T_cc72a_row5_col1{\n            width:  10em;\n             height:  80%;\n            background:  linear-gradient(90deg,#5fba7d 82.0%, transparent 82.0%);\n        }#T_cc72a_row3_col2{\n            width:  10em;\n             height:  80%;\n            background:  linear-gradient(90deg,#5fba7d 80.2%, transparent 80.2%);\n        }#T_cc72a_row4_col2{\n            width:  10em;\n             height:  80%;\n            background:  linear-gradient(90deg,#5fba7d 79.4%, transparent 79.4%);\n        }#T_cc72a_row5_col2{\n            width:  10em;\n             height:  80%;\n            background:  linear-gradient(90deg,#5fba7d 79.1%, transparent 79.1%);\n        }#T_cc72a_row6_col1{\n            width:  10em;\n             height:  80%;\n            background:  linear-gradient(90deg,#5fba7d 81.8%, transparent 81.8%);\n        }#T_cc72a_row6_col2{\n            width:  10em;\n             height:  80%;\n            background:  linear-gradient(90deg,#5fba7d 80.3%, transparent 80.3%);\n        }#T_cc72a_row7_col1{\n            width:  10em;\n             height:  80%;\n            background:  linear-gradient(90deg,#5fba7d 81.6%, transparent 81.6%);\n        }#T_cc72a_row7_col2{\n            width:  10em;\n             height:  80%;\n            background:  linear-gradient(90deg,#5fba7d 80.0%, transparent 80.0%);\n        }#T_cc72a_row8_col1{\n            width:  10em;\n             height:  80%;\n            background:  linear-gradient(90deg,#5fba7d 81.5%, transparent 81.5%);\n        }#T_cc72a_row8_col2{\n            width:  10em;\n             height:  80%;\n            background:  linear-gradient(90deg,#5fba7d 79.3%, transparent 79.3%);\n        }#T_cc72a_row9_col1{\n            width:  10em;\n             height:  80%;\n            background:  linear-gradient(90deg,#5fba7d 81.4%, transparent 81.4%);\n        }#T_cc72a_row9_col2{\n            width:  10em;\n             height:  80%;\n            background:  linear-gradient(90deg,#5fba7d 79.9%, transparent 79.9%);\n        }#T_cc72a_row10_col1{\n            width:  10em;\n             height:  80%;\n            background:  linear-gradient(90deg,#5fba7d 81.0%, transparent 81.0%);\n        }#T_cc72a_row10_col2{\n            width:  10em;\n             height:  80%;\n            background:  linear-gradient(90deg,#5fba7d 79.8%, transparent 79.8%);\n        }#T_cc72a_row11_col1{\n            width:  10em;\n             height:  80%;\n            background:  linear-gradient(90deg,#5fba7d 80.8%, transparent 80.8%);\n        }#T_cc72a_row11_col2{\n            width:  10em;\n             height:  80%;\n            background:  linear-gradient(90deg,#5fba7d 79.5%, transparent 79.5%);\n        }#T_cc72a_row12_col1{\n            width:  10em;\n             height:  80%;\n            background:  linear-gradient(90deg,#5fba7d 79.0%, transparent 79.0%);\n        }#T_cc72a_row12_col2{\n            width:  10em;\n             height:  80%;\n            background:  linear-gradient(90deg,#5fba7d 77.2%, transparent 77.2%);\n        }#T_cc72a_row13_col1{\n            width:  10em;\n             height:  80%;\n            background:  linear-gradient(90deg,#5fba7d 78.5%, transparent 78.5%);\n        }#T_cc72a_row13_col2{\n            width:  10em;\n             height:  80%;\n            background:  linear-gradient(90deg,#5fba7d 76.9%, transparent 76.9%);\n        }</style><table id=\"T_cc72a_\" ><thead>    <tr>        <th class=\"blank level0\" ></th>        <th class=\"col_heading level0 col0\" >Model</th>        <th class=\"col_heading level0 col1\" >Accuracy</th>        <th class=\"col_heading level0 col2\" >Bal Acc.</th>        <th class=\"col_heading level0 col3\" >Time</th>    </tr></thead><tbody>\n                <tr>\n                        <th id=\"T_cc72a_level0_row0\" class=\"row_heading level0 row0\" >1</th>\n                        <td id=\"T_cc72a_row0_col0\" class=\"data row0 col0\" >Skl GBM</td>\n                        <td id=\"T_cc72a_row0_col1\" class=\"data row0 col1\" >84.175084</td>\n                        <td id=\"T_cc72a_row0_col2\" class=\"data row0 col2\" >82.142172</td>\n                        <td id=\"T_cc72a_row0_col3\" class=\"data row0 col3\" >1.677716</td>\n            </tr>\n            <tr>\n                        <th id=\"T_cc72a_level0_row1\" class=\"row_heading level0 row1\" >2</th>\n                        <td id=\"T_cc72a_row1_col0\" class=\"data row1 col0\" >LightGBM</td>\n                        <td id=\"T_cc72a_row1_col1\" class=\"data row1 col1\" >82.940516</td>\n                        <td id=\"T_cc72a_row1_col2\" class=\"data row1 col2\" >81.250599</td>\n                        <td id=\"T_cc72a_row1_col3\" class=\"data row1 col3\" >0.631677</td>\n            </tr>\n            <tr>\n                        <th id=\"T_cc72a_level0_row2\" class=\"row_heading level0 row2\" >3</th>\n                        <td id=\"T_cc72a_row2_col0\" class=\"data row2 col0\" >CatBoost</td>\n                        <td id=\"T_cc72a_row2_col1\" class=\"data row2 col1\" >82.603816</td>\n                        <td id=\"T_cc72a_row2_col2\" class=\"data row2 col2\" >80.701754</td>\n                        <td id=\"T_cc72a_row2_col3\" class=\"data row2 col3\" >8.074305</td>\n            </tr>\n            <tr>\n                        <th id=\"T_cc72a_level0_row3\" class=\"row_heading level0 row3\" >4</th>\n                        <td id=\"T_cc72a_row3_col0\" class=\"data row3 col0\" >Skl HistGBM</td>\n                        <td id=\"T_cc72a_row3_col1\" class=\"data row3 col1\" >82.042649</td>\n                        <td id=\"T_cc72a_row3_col2\" class=\"data row3 col2\" >80.191257</td>\n                        <td id=\"T_cc72a_row3_col3\" class=\"data row3 col3\" >3.068537</td>\n            </tr>\n            <tr>\n                        <th id=\"T_cc72a_level0_row4\" class=\"row_heading level0 row4\" >5</th>\n                        <td id=\"T_cc72a_row4_col0\" class=\"data row4 col0\" >SVC</td>\n                        <td id=\"T_cc72a_row4_col1\" class=\"data row4 col1\" >82.042649</td>\n                        <td id=\"T_cc72a_row4_col2\" class=\"data row4 col2\" >79.364395</td>\n                        <td id=\"T_cc72a_row4_col3\" class=\"data row4 col3\" >0.534172</td>\n            </tr>\n            <tr>\n                        <th id=\"T_cc72a_level0_row5\" class=\"row_heading level0 row5\" >6</th>\n                        <td id=\"T_cc72a_row5_col0\" class=\"data row5 col0\" >KNN</td>\n                        <td id=\"T_cc72a_row5_col1\" class=\"data row5 col1\" >82.042649</td>\n                        <td id=\"T_cc72a_row5_col2\" class=\"data row5 col2\" >79.088774</td>\n                        <td id=\"T_cc72a_row5_col3\" class=\"data row5 col3\" >0.429464</td>\n            </tr>\n            <tr>\n                        <th id=\"T_cc72a_level0_row6\" class=\"row_heading level0 row6\" >7</th>\n                        <td id=\"T_cc72a_row6_col0\" class=\"data row6 col0\" >Logistic</td>\n                        <td id=\"T_cc72a_row6_col1\" class=\"data row6 col1\" >81.818182</td>\n                        <td id=\"T_cc72a_row6_col2\" class=\"data row6 col2\" >80.284728</td>\n                        <td id=\"T_cc72a_row6_col3\" class=\"data row6 col3\" >0.438815</td>\n            </tr>\n            <tr>\n                        <th id=\"T_cc72a_level0_row7\" class=\"row_heading level0 row7\" >8</th>\n                        <td id=\"T_cc72a_row7_col0\" class=\"data row7 col0\" >XGBoost</td>\n                        <td id=\"T_cc72a_row7_col1\" class=\"data row7 col1\" >81.593715</td>\n                        <td id=\"T_cc72a_row7_col2\" class=\"data row7 col2\" >79.992331</td>\n                        <td id=\"T_cc72a_row7_col3\" class=\"data row7 col3\" >0.892453</td>\n            </tr>\n            <tr>\n                        <th id=\"T_cc72a_level0_row8\" class=\"row_heading level0 row8\" >9</th>\n                        <td id=\"T_cc72a_row8_col0\" class=\"data row8 col0\" >Neural</td>\n                        <td id=\"T_cc72a_row8_col1\" class=\"data row8 col1\" >81.481481</td>\n                        <td id=\"T_cc72a_row8_col2\" class=\"data row8 col2\" >79.294890</td>\n                        <td id=\"T_cc72a_row8_col3\" class=\"data row8 col3\" >3.839267</td>\n            </tr>\n            <tr>\n                        <th id=\"T_cc72a_level0_row9\" class=\"row_heading level0 row9\" >10</th>\n                        <td id=\"T_cc72a_row9_col0\" class=\"data row9 col0\" >Random Forest</td>\n                        <td id=\"T_cc72a_row9_col1\" class=\"data row9 col1\" >81.369248</td>\n                        <td id=\"T_cc72a_row9_col2\" class=\"data row9 col2\" >79.920429</td>\n                        <td id=\"T_cc72a_row9_col3\" class=\"data row9 col3\" >2.880591</td>\n            </tr>\n            <tr>\n                        <th id=\"T_cc72a_level0_row10\" class=\"row_heading level0 row10\" >11</th>\n                        <td id=\"T_cc72a_row10_col0\" class=\"data row10 col0\" >AdaBoost</td>\n                        <td id=\"T_cc72a_row10_col1\" class=\"data row10 col1\" >81.032548</td>\n                        <td id=\"T_cc72a_row10_col2\" class=\"data row10 col2\" >79.757454</td>\n                        <td id=\"T_cc72a_row10_col3\" class=\"data row10 col3\" >2.704216</td>\n            </tr>\n            <tr>\n                        <th id=\"T_cc72a_level0_row11\" class=\"row_heading level0 row11\" >12</th>\n                        <td id=\"T_cc72a_row11_col0\" class=\"data row11 col0\" >Extra Trees</td>\n                        <td id=\"T_cc72a_row11_col1\" class=\"data row11 col1\" >80.808081</td>\n                        <td id=\"T_cc72a_row11_col2\" class=\"data row11 col2\" >79.465056</td>\n                        <td id=\"T_cc72a_row11_col3\" class=\"data row11 col3\" >2.440470</td>\n            </tr>\n            <tr>\n                        <th id=\"T_cc72a_level0_row12\" class=\"row_heading level0 row12\" >13</th>\n                        <td id=\"T_cc72a_row12_col0\" class=\"data row12 col0\" >Naive Bayes</td>\n                        <td id=\"T_cc72a_row12_col1\" class=\"data row12 col1\" >79.012346</td>\n                        <td id=\"T_cc72a_row12_col2\" class=\"data row12 col2\" >77.180999</td>\n                        <td id=\"T_cc72a_row12_col3\" class=\"data row12 col3\" >0.399988</td>\n            </tr>\n            <tr>\n                        <th id=\"T_cc72a_level0_row13\" class=\"row_heading level0 row13\" >14</th>\n                        <td id=\"T_cc72a_row13_col0\" class=\"data row13 col0\" >Decision Tree</td>\n                        <td id=\"T_cc72a_row13_col1\" class=\"data row13 col1\" >78.451178</td>\n                        <td id=\"T_cc72a_row13_col2\" class=\"data row13 col2\" >76.946122</td>\n                        <td id=\"T_cc72a_row13_col3\" class=\"data row13 col3\" >0.174234</td>\n            </tr>\n    </tbody></table>"
     },
     "metadata": {},
     "execution_count": 28
    }
   ],
   "source": [
    "\"\"\"\n",
    "skf = model_selection.StratifiedKFold(\n",
    "    # CODE HERE\n",
    ")\n",
    "# \"\"\"\n",
    "# YOUR CODE HERE\n",
    "skf = model_selection.StratifiedKFold(\n",
    "    n_splits=10,\n",
    "    shuffle=True,\n",
    "    random_state=0\n",
    ")\n",
    "skf.split(x, y)\n",
    "results = pd.DataFrame({'Model': [], 'Accuracy': [], 'Bal Acc.': [], 'Time': []})\n",
    "\n",
    "\"\"\"\n",
    "for model_name, model in tree_classifiers.items():\n",
    "    start_time = time.time()\n",
    "        \n",
    "    # TRAIN AND GET PREDICTIONS USING cross_val_predict() and x,y\n",
    "    pred = # CODE HERE\n",
    "\n",
    "    total_time = time.time() - start_time\n",
    "\n",
    "    results = results.append({\"Model\":    model_name,\n",
    "                              \"Accuracy\": metrics.accuracy_score(y_val, pred)*100,\n",
    "                              \"Bal Acc.\": metrics.balanced_accuracy_score(y_val, pred)*100,\n",
    "                              \"Time\":     total_time},\n",
    "                              ignore_index=True)\n",
    "                              \n",
    "                              \n",
    "\"\"\";\n",
    "\n",
    "# for train_index, val_index in skf.split(x_fold, y_fold):\n",
    "#     # print(\"TRAIN:\", train_index, \"TEST:\", val_index)\n",
    "#     x_train, x_val = x_fold[train_index], x_fold[val_index]\n",
    "#     y_train, y_val = y_fold[train_index], y_fold[val_index]\n",
    "\n",
    "\n",
    "\n",
    "# YOUR CODE HERE\n",
    "for model_name, model in classifiers.items():\n",
    "    start_time = time.time()\n",
    "        \n",
    "    # TRAIN AND GET PREDICTIONS USING cross_val_predict() and x,y\n",
    "\n",
    "    pred = model_selection.cross_val_predict(model, x, y, cv=skf)\n",
    "\n",
    "    total_time = time.time() - start_time\n",
    "\n",
    "    results = results.append({\"Model\":    model_name,\n",
    "                            \"Accuracy\": metrics.accuracy_score(y, pred)*100,\n",
    "                            \"Bal Acc.\": metrics.balanced_accuracy_score(y, pred)*100,\n",
    "                            \"Time\":     total_time},\n",
    "                            ignore_index=True)\n",
    "\n",
    "\n",
    "results_ord = results.sort_values(by=['Accuracy'], ascending=False, ignore_index=True)\n",
    "results_ord.index += 1 \n",
    "results_ord.style.bar(subset=['Accuracy', 'Bal Acc.'], vmin=0, vmax=100, color='#5fba7d')"
   ]
  },
  {
   "cell_type": "code",
   "execution_count": 30,
   "metadata": {
    "deletable": false,
    "editable": false,
    "nbgrader": {
     "cell_type": "code",
     "checksum": "355f8e8321aae7be679a8d16b25172f2",
     "grade": true,
     "grade_id": "cell-57cc085faad513cf",
     "locked": true,
     "points": 3,
     "schema_version": 3,
     "solution": false,
     "task": false
    }
   },
   "outputs": [],
   "source": [
    "assert results_ord[\"Accuracy\"].min() > 75\n",
    "assert results_ord[\"Bal Acc.\"].min() > 75\n",
    "assert len(results_ord) >= 9"
   ]
  },
  {
   "cell_type": "markdown",
   "metadata": {},
   "source": [
    "# Exercise 7.1\n",
    "Train with all data the best model"
   ]
  },
  {
   "cell_type": "code",
   "execution_count": 32,
   "metadata": {
    "colab": {},
    "colab_type": "code",
    "deletable": false,
    "id": "monuuQhHL7B_",
    "nbgrader": {
     "cell_type": "code",
     "checksum": "088ae511ec2eb947de2bff002e75d460",
     "grade": false,
     "grade_id": "cell-031a656e1e811717",
     "locked": false,
     "schema_version": 3,
     "solution": true,
     "task": false
    },
    "tags": []
   },
   "outputs": [
    {
     "output_type": "stream",
     "name": "stderr",
     "text": [
      "/home/alessio/anaconda3/envs/machine_learning/lib/python3.8/site-packages/sklearn/preprocessing/_data.py:2612: UserWarning: n_quantiles (1000) is greater than the total number of samples (891). n_quantiles is set to n_samples.\n  warnings.warn(\"n_quantiles (%s) is greater than the total number \"\n"
     ]
    },
    {
     "output_type": "execute_result",
     "data": {
      "text/plain": [
       "Pipeline(steps=[('columntransformer',\n",
       "                 ColumnTransformer(transformers=[('num_m',\n",
       "                                                  Pipeline(steps=[('imputer',\n",
       "                                                                   KNNImputer(add_indicator=True,\n",
       "                                                                              n_neighbors=10)),\n",
       "                                                                  ('quant',\n",
       "                                                                   QuantileTransformer(output_distribution='normal',\n",
       "                                                                                       random_state=73)),\n",
       "                                                                  ('norm',\n",
       "                                                                   Normalizer())]),\n",
       "                                                  ['Pclass', 'SibSp', 'Parch',\n",
       "                                                   'Fare', 'Age', 'Cabin']),\n",
       "                                                 ('cat_m',\n",
       "                                                  Pipeline(steps=[('imputer',\n",
       "                                                                   SimpleImputer(add_indicator=True,\n",
       "                                                                                 fill_value='missing',\n",
       "                                                                                 strategy='constant')),\n",
       "                                                                  ('onehot',\n",
       "                                                                   OneHotEncoder(handle_unknown='ignore'))]),\n",
       "                                                  ['Sex', 'Embarked',\n",
       "                                                   'Title'])])),\n",
       "                ('svc', SVC(random_state=0))])"
      ],
      "text/html": "<style>div.sk-top-container {color: black;background-color: white;}div.sk-toggleable {background-color: white;}label.sk-toggleable__label {cursor: pointer;display: block;width: 100%;margin-bottom: 0;padding: 0.2em 0.3em;box-sizing: border-box;text-align: center;}div.sk-toggleable__content {max-height: 0;max-width: 0;overflow: hidden;text-align: left;background-color: #f0f8ff;}div.sk-toggleable__content pre {margin: 0.2em;color: black;border-radius: 0.25em;background-color: #f0f8ff;}input.sk-toggleable__control:checked~div.sk-toggleable__content {max-height: 200px;max-width: 100%;overflow: auto;}div.sk-estimator input.sk-toggleable__control:checked~label.sk-toggleable__label {background-color: #d4ebff;}div.sk-label input.sk-toggleable__control:checked~label.sk-toggleable__label {background-color: #d4ebff;}input.sk-hidden--visually {border: 0;clip: rect(1px 1px 1px 1px);clip: rect(1px, 1px, 1px, 1px);height: 1px;margin: -1px;overflow: hidden;padding: 0;position: absolute;width: 1px;}div.sk-estimator {font-family: monospace;background-color: #f0f8ff;margin: 0.25em 0.25em;border: 1px dotted black;border-radius: 0.25em;box-sizing: border-box;}div.sk-estimator:hover {background-color: #d4ebff;}div.sk-parallel-item::after {content: \"\";width: 100%;border-bottom: 1px solid gray;flex-grow: 1;}div.sk-label:hover label.sk-toggleable__label {background-color: #d4ebff;}div.sk-serial::before {content: \"\";position: absolute;border-left: 1px solid gray;box-sizing: border-box;top: 2em;bottom: 0;left: 50%;}div.sk-serial {display: flex;flex-direction: column;align-items: center;background-color: white;}div.sk-item {z-index: 1;}div.sk-parallel {display: flex;align-items: stretch;justify-content: center;background-color: white;}div.sk-parallel-item {display: flex;flex-direction: column;position: relative;background-color: white;}div.sk-parallel-item:first-child::after {align-self: flex-end;width: 50%;}div.sk-parallel-item:last-child::after {align-self: flex-start;width: 50%;}div.sk-parallel-item:only-child::after {width: 0;}div.sk-dashed-wrapped {border: 1px dashed gray;margin: 0.2em;box-sizing: border-box;padding-bottom: 0.1em;background-color: white;position: relative;}div.sk-label label {font-family: monospace;font-weight: bold;background-color: white;display: inline-block;line-height: 1.2em;}div.sk-label-container {position: relative;z-index: 2;text-align: center;}div.sk-container {display: inline-block;position: relative;}</style><div class=\"sk-top-container\"><div class=\"sk-container\"><div class=\"sk-item sk-dashed-wrapped\"><div class=\"sk-label-container\"><div class=\"sk-label sk-toggleable\"><input class=\"sk-toggleable__control sk-hidden--visually\" id=\"05e44dad-8e1b-4cef-b3a1-b21a835886e3\" type=\"checkbox\" ><label class=\"sk-toggleable__label\" for=\"05e44dad-8e1b-4cef-b3a1-b21a835886e3\">Pipeline</label><div class=\"sk-toggleable__content\"><pre>Pipeline(steps=[('columntransformer',\n                 ColumnTransformer(transformers=[('num_m',\n                                                  Pipeline(steps=[('imputer',\n                                                                   KNNImputer(add_indicator=True,\n                                                                              n_neighbors=10)),\n                                                                  ('quant',\n                                                                   QuantileTransformer(output_distribution='normal',\n                                                                                       random_state=73)),\n                                                                  ('norm',\n                                                                   Normalizer())]),\n                                                  ['Pclass', 'SibSp', 'Parch',\n                                                   'Fare', 'Age', 'Cabin']),\n                                                 ('cat_m',\n                                                  Pipeline(steps=[('imputer',\n                                                                   SimpleImputer(add_indicator=True,\n                                                                                 fill_value='missing',\n                                                                                 strategy='constant')),\n                                                                  ('onehot',\n                                                                   OneHotEncoder(handle_unknown='ignore'))]),\n                                                  ['Sex', 'Embarked',\n                                                   'Title'])])),\n                ('svc', SVC(random_state=0))])</pre></div></div></div><div class=\"sk-serial\"><div class=\"sk-item sk-dashed-wrapped\"><div class=\"sk-label-container\"><div class=\"sk-label sk-toggleable\"><input class=\"sk-toggleable__control sk-hidden--visually\" id=\"9e1bb7d1-016f-441e-815a-b912999ce7fa\" type=\"checkbox\" ><label class=\"sk-toggleable__label\" for=\"9e1bb7d1-016f-441e-815a-b912999ce7fa\">columntransformer: ColumnTransformer</label><div class=\"sk-toggleable__content\"><pre>ColumnTransformer(transformers=[('num_m',\n                                 Pipeline(steps=[('imputer',\n                                                  KNNImputer(add_indicator=True,\n                                                             n_neighbors=10)),\n                                                 ('quant',\n                                                  QuantileTransformer(output_distribution='normal',\n                                                                      random_state=73)),\n                                                 ('norm', Normalizer())]),\n                                 ['Pclass', 'SibSp', 'Parch', 'Fare', 'Age',\n                                  'Cabin']),\n                                ('cat_m',\n                                 Pipeline(steps=[('imputer',\n                                                  SimpleImputer(add_indicator=True,\n                                                                fill_value='missing',\n                                                                strategy='constant')),\n                                                 ('onehot',\n                                                  OneHotEncoder(handle_unknown='ignore'))]),\n                                 ['Sex', 'Embarked', 'Title'])])</pre></div></div></div><div class=\"sk-parallel\"><div class=\"sk-parallel-item\"><div class=\"sk-item\"><div class=\"sk-label-container\"><div class=\"sk-label sk-toggleable\"><input class=\"sk-toggleable__control sk-hidden--visually\" id=\"3d3b0a28-e093-41d9-a0e1-49b1d9d7919a\" type=\"checkbox\" ><label class=\"sk-toggleable__label\" for=\"3d3b0a28-e093-41d9-a0e1-49b1d9d7919a\">num_m</label><div class=\"sk-toggleable__content\"><pre>['Pclass', 'SibSp', 'Parch', 'Fare', 'Age', 'Cabin']</pre></div></div></div><div class=\"sk-serial\"><div class=\"sk-item\"><div class=\"sk-serial\"><div class=\"sk-item\"><div class=\"sk-estimator sk-toggleable\"><input class=\"sk-toggleable__control sk-hidden--visually\" id=\"a88bd1f4-32a7-433a-ba3d-ba4ad3030abf\" type=\"checkbox\" ><label class=\"sk-toggleable__label\" for=\"a88bd1f4-32a7-433a-ba3d-ba4ad3030abf\">KNNImputer</label><div class=\"sk-toggleable__content\"><pre>KNNImputer(add_indicator=True, n_neighbors=10)</pre></div></div></div><div class=\"sk-item\"><div class=\"sk-estimator sk-toggleable\"><input class=\"sk-toggleable__control sk-hidden--visually\" id=\"1b4eed18-e729-4d9b-a841-b0e889b103f5\" type=\"checkbox\" ><label class=\"sk-toggleable__label\" for=\"1b4eed18-e729-4d9b-a841-b0e889b103f5\">QuantileTransformer</label><div class=\"sk-toggleable__content\"><pre>QuantileTransformer(output_distribution='normal', random_state=73)</pre></div></div></div><div class=\"sk-item\"><div class=\"sk-estimator sk-toggleable\"><input class=\"sk-toggleable__control sk-hidden--visually\" id=\"fe7d119a-abe1-44e4-bc7c-5eb51fd8da03\" type=\"checkbox\" ><label class=\"sk-toggleable__label\" for=\"fe7d119a-abe1-44e4-bc7c-5eb51fd8da03\">Normalizer</label><div class=\"sk-toggleable__content\"><pre>Normalizer()</pre></div></div></div></div></div></div></div></div><div class=\"sk-parallel-item\"><div class=\"sk-item\"><div class=\"sk-label-container\"><div class=\"sk-label sk-toggleable\"><input class=\"sk-toggleable__control sk-hidden--visually\" id=\"ed602db0-36f3-4374-bbe8-e6c9cc5cd72d\" type=\"checkbox\" ><label class=\"sk-toggleable__label\" for=\"ed602db0-36f3-4374-bbe8-e6c9cc5cd72d\">cat_m</label><div class=\"sk-toggleable__content\"><pre>['Sex', 'Embarked', 'Title']</pre></div></div></div><div class=\"sk-serial\"><div class=\"sk-item\"><div class=\"sk-serial\"><div class=\"sk-item\"><div class=\"sk-estimator sk-toggleable\"><input class=\"sk-toggleable__control sk-hidden--visually\" id=\"4364efd3-d00f-4857-a665-eb2a02efa54f\" type=\"checkbox\" ><label class=\"sk-toggleable__label\" for=\"4364efd3-d00f-4857-a665-eb2a02efa54f\">SimpleImputer</label><div class=\"sk-toggleable__content\"><pre>SimpleImputer(add_indicator=True, fill_value='missing', strategy='constant')</pre></div></div></div><div class=\"sk-item\"><div class=\"sk-estimator sk-toggleable\"><input class=\"sk-toggleable__control sk-hidden--visually\" id=\"b71308be-7de7-4568-bf33-8cf9c667db95\" type=\"checkbox\" ><label class=\"sk-toggleable__label\" for=\"b71308be-7de7-4568-bf33-8cf9c667db95\">OneHotEncoder</label><div class=\"sk-toggleable__content\"><pre>OneHotEncoder(handle_unknown='ignore')</pre></div></div></div></div></div></div></div></div></div></div><div class=\"sk-item\"><div class=\"sk-estimator sk-toggleable\"><input class=\"sk-toggleable__control sk-hidden--visually\" id=\"a6cd2296-d6cb-41c3-8cbd-b037414fd850\" type=\"checkbox\" ><label class=\"sk-toggleable__label\" for=\"a6cd2296-d6cb-41c3-8cbd-b037414fd850\">SVC</label><div class=\"sk-toggleable__content\"><pre>SVC(random_state=0)</pre></div></div></div></div></div></div></div>"
     },
     "metadata": {},
     "execution_count": 32
    }
   ],
   "source": [
    "best_model = classifiers[\"SVC\"]\n",
    "\n",
    "# Fit best model with all data\n",
    "\n",
    "# YOUR CODE HERE\n",
    "best_model.fit(x, y)"
   ]
  },
  {
   "cell_type": "markdown",
   "metadata": {},
   "source": [
    "# Exercise 7.2 (2pts)\n",
    "With your best model, generate the predicitions for test data (x_test)"
   ]
  },
  {
   "cell_type": "code",
   "execution_count": 33,
   "metadata": {
    "deletable": false,
    "nbgrader": {
     "cell_type": "code",
     "checksum": "031ab122b02b5833236370a53d148daf",
     "grade": false,
     "grade_id": "cell-44b93a0dbd4eb6fc",
     "locked": false,
     "schema_version": 3,
     "solution": true,
     "task": false
    }
   },
   "outputs": [],
   "source": [
    "# test_pred = # Get the predictions for x_test\n",
    "\n",
    "# YOUR CODE HERE\n",
    "test_pred = best_model.predict(x_test)"
   ]
  },
  {
   "cell_type": "code",
   "execution_count": 34,
   "metadata": {
    "deletable": false,
    "editable": false,
    "nbgrader": {
     "cell_type": "code",
     "checksum": "180b37cf4a0276bdf509220b1706a8aa",
     "grade": true,
     "grade_id": "cell-a29fc8d24284520e",
     "locked": true,
     "points": 2,
     "schema_version": 3,
     "solution": false,
     "task": false
    }
   },
   "outputs": [],
   "source": [
    "assert len(test_pred) == 418\n",
    "assert np.unique(test_pred).tolist() == [0,1]"
   ]
  },
  {
   "cell_type": "markdown",
   "metadata": {},
   "source": [
    "# Exercise 7.3\n",
    "\n",
    "Submit to kaggle.\n",
    "\n",
    "- You can use the kaggle command line app. Check https://github.com/Kaggle/kaggle-api"
   ]
  },
  {
   "cell_type": "code",
   "execution_count": 35,
   "metadata": {},
   "outputs": [
    {
     "output_type": "execute_result",
     "data": {
      "text/plain": [
       "             Survived\n",
       "PassengerId          \n",
       "892                 0\n",
       "893                 1\n",
       "894                 0\n",
       "895                 0\n",
       "896                 0"
      ],
      "text/html": "<div>\n<style scoped>\n    .dataframe tbody tr th:only-of-type {\n        vertical-align: middle;\n    }\n\n    .dataframe tbody tr th {\n        vertical-align: top;\n    }\n\n    .dataframe thead th {\n        text-align: right;\n    }\n</style>\n<table border=\"1\" class=\"dataframe\">\n  <thead>\n    <tr style=\"text-align: right;\">\n      <th></th>\n      <th>Survived</th>\n    </tr>\n    <tr>\n      <th>PassengerId</th>\n      <th></th>\n    </tr>\n  </thead>\n  <tbody>\n    <tr>\n      <th>892</th>\n      <td>0</td>\n    </tr>\n    <tr>\n      <th>893</th>\n      <td>1</td>\n    </tr>\n    <tr>\n      <th>894</th>\n      <td>0</td>\n    </tr>\n    <tr>\n      <th>895</th>\n      <td>0</td>\n    </tr>\n    <tr>\n      <th>896</th>\n      <td>0</td>\n    </tr>\n  </tbody>\n</table>\n</div>"
     },
     "metadata": {},
     "execution_count": 35
    }
   ],
   "source": [
    "sub = pd.DataFrame(test_pred, index=x_test.index, columns=[\"Survived\"])\n",
    "sub.head()"
   ]
  },
  {
   "cell_type": "code",
   "execution_count": 36,
   "metadata": {},
   "outputs": [],
   "source": [
    "sub.to_csv(\"sub.csv\")"
   ]
  },
  {
   "cell_type": "code",
   "execution_count": null,
   "metadata": {},
   "outputs": [],
   "source": [
    "!kaggle competitions submit -c titanic -f sub.csv -m \"My submission message\""
   ]
  }
 ],
 "metadata": {
  "anaconda-cloud": {},
  "colab": {
   "collapsed_sections": [],
   "name": "Titanic LogReg.ipynb",
   "provenance": []
  },
  "kernelspec": {
   "name": "python388jvsc74a57bd0dbcc3babef652c34e1015ede0a642edc11c0a1884dc1a3fb521d077c2eb37138",
   "display_name": "Python 3.8.8 64-bit ('machine_learning': conda)"
  },
  "language_info": {
   "codemirror_mode": {
    "name": "ipython",
    "version": 3
   },
   "file_extension": ".py",
   "mimetype": "text/x-python",
   "name": "python",
   "nbconvert_exporter": "python",
   "pygments_lexer": "ipython3",
   "version": "3.8.8"
  },
  "name": "seminar13_optional_practice_trees_titanic.ipynb",
  "metadata": {
   "interpreter": {
    "hash": "dbcc3babef652c34e1015ede0a642edc11c0a1884dc1a3fb521d077c2eb37138"
   }
  }
 },
 "nbformat": 4,
 "nbformat_minor": 4
}