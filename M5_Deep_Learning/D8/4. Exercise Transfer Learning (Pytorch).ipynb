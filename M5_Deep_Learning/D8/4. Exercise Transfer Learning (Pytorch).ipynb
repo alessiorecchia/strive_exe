{
 "cells": [
  {
   "cell_type": "markdown",
   "metadata": {},
   "source": [
    "# Transfer Learning\n",
    "\n",
    "In this notebook, you'll learn how to use pre-trained networks to solved challenging problems in computer vision using the cat vs dog of yesterday.\n",
    "\n",
    "Transfer Learning consists of using, for the feature extraction part, the weights of a model that has been already trained on another dataset. \n",
    "\n",
    "Once trained, these models work astonishingly well as feature detectors for images they weren't trained on. Here we'll use transfer learning to train a network that can classify our cat and dog photos with near perfect accuracy.\n",
    "\n",
    "With `torchvision.models` you can download these pre-trained networks and use them in your applications. We'll include `models` in our imports now."
   ]
  },
  {
   "cell_type": "code",
   "execution_count": 1,
   "metadata": {},
   "outputs": [],
   "source": [
    "%matplotlib inline\n",
    "%config InlineBackend.figure_format = 'retina'\n",
    "\n",
    "import matplotlib.pyplot as plt\n",
    "\n",
    "import torch\n",
    "from torch import nn\n",
    "from torch import optim\n",
    "import torch.nn.functional as F\n",
    "from torch.autograd  import Variable\n",
    "from torchvision import datasets, transforms, models"
   ]
  },
  {
   "cell_type": "markdown",
   "metadata": {},
   "source": [
    "Most of the pretrained models require the input to be 224x224 images. Also, we'll need to match the normalization used when the models were trained. Each color channel was normalized separately, the means are `[0.485, 0.456, 0.406]` and the standard deviations are `[0.229, 0.224, 0.225]`.\n",
    "\n",
    ">**Bonus Exercise**: Try this at the end: build a data augmentation pipeline using Albumentations library (check the other notebook)."
   ]
  },
  {
   "cell_type": "code",
   "execution_count": 2,
   "metadata": {},
   "outputs": [
    {
     "output_type": "stream",
     "name": "stdout",
     "text": [
      "\u001b[0m\u001b[01;34mAI_Challenge\u001b[0m/  \u001b[01;34mbuildozer\u001b[0m/  \u001b[01;34mDatasets\u001b[0m/  \u001b[01;34mGIT_test\u001b[0m/  \u001b[01;34mStrive\u001b[0m/\n"
     ]
    }
   ],
   "source": [
    "ls ../../../../"
   ]
  },
  {
   "cell_type": "code",
   "execution_count": 3,
   "metadata": {},
   "outputs": [],
   "source": [
    "## Load and preprocess the Cat vs Dog dataset of yesterday. \n",
    "## The images should have size 224x224\n",
    "\n",
    "data_dir = \"../../../../Datasets/cat_vs_dog\"\n",
    "\n",
    "# TODO: Define transforms for the training data and testing data\n",
    "train_transform = transforms.Compose([transforms.Resize((320,320)),\n",
    "                                       transforms.RandomRotation(30),\n",
    "                                       transforms.CenterCrop(255),\n",
    "                                       transforms.RandomResizedCrop(224),\n",
    "                                       transforms.RandomHorizontalFlip(),\n",
    "                                       transforms.ToTensor(),\n",
    "                                       transforms.Normalize([0.485, 0.456, 0.406], # remember to check this\n",
    "                                                            [0.229, 0.224, 0.225])])\n",
    "\n",
    "test_transform = transforms.Compose([transforms.Resize((224, 224)),\n",
    "                                       transforms.ToTensor(),\n",
    "                                       transforms.Normalize([0.485, 0.456, 0.406], # remember to check this\n",
    "                                                            [0.229, 0.224, 0.225])])\n",
    "\n",
    "\n",
    "\n",
    "# Pass transforms in here, then run the next cell to see how the transforms look\n",
    "train_data = datasets.ImageFolder(data_dir + '/train', transform=train_transform)\n",
    "test_data = datasets.ImageFolder(data_dir + '/test', transform=test_transform)\n",
    "\n",
    "trainloader = torch.utils.data.DataLoader(train_data, batch_size=32, shuffle=True)\n",
    "testloader = torch.utils.data.DataLoader(test_data, batch_size=16, shuffle=False)"
   ]
  },
  {
   "cell_type": "markdown",
   "metadata": {},
   "source": [
    "We can load in a model such as [DenseNet](http://pytorch.org/docs/0.3.0/torchvision/models.html#id5). Let's print out the model architecture so we can see what's going on. You can pick other models as well from here: https://pytorch.org/docs/0.3.0/torchvision/models.html#id5"
   ]
  },
  {
   "cell_type": "code",
   "execution_count": 15,
   "metadata": {
    "scrolled": true
   },
   "outputs": [
    {
     "output_type": "execute_result",
     "data": {
      "text/plain": [
       "SqueezeNet(\n",
       "  (features): Sequential(\n",
       "    (0): Conv2d(3, 96, kernel_size=(7, 7), stride=(2, 2))\n",
       "    (1): ReLU(inplace=True)\n",
       "    (2): MaxPool2d(kernel_size=3, stride=2, padding=0, dilation=1, ceil_mode=True)\n",
       "    (3): Fire(\n",
       "      (squeeze): Conv2d(96, 16, kernel_size=(1, 1), stride=(1, 1))\n",
       "      (squeeze_activation): ReLU(inplace=True)\n",
       "      (expand1x1): Conv2d(16, 64, kernel_size=(1, 1), stride=(1, 1))\n",
       "      (expand1x1_activation): ReLU(inplace=True)\n",
       "      (expand3x3): Conv2d(16, 64, kernel_size=(3, 3), stride=(1, 1), padding=(1, 1))\n",
       "      (expand3x3_activation): ReLU(inplace=True)\n",
       "    )\n",
       "    (4): Fire(\n",
       "      (squeeze): Conv2d(128, 16, kernel_size=(1, 1), stride=(1, 1))\n",
       "      (squeeze_activation): ReLU(inplace=True)\n",
       "      (expand1x1): Conv2d(16, 64, kernel_size=(1, 1), stride=(1, 1))\n",
       "      (expand1x1_activation): ReLU(inplace=True)\n",
       "      (expand3x3): Conv2d(16, 64, kernel_size=(3, 3), stride=(1, 1), padding=(1, 1))\n",
       "      (expand3x3_activation): ReLU(inplace=True)\n",
       "    )\n",
       "    (5): Fire(\n",
       "      (squeeze): Conv2d(128, 32, kernel_size=(1, 1), stride=(1, 1))\n",
       "      (squeeze_activation): ReLU(inplace=True)\n",
       "      (expand1x1): Conv2d(32, 128, kernel_size=(1, 1), stride=(1, 1))\n",
       "      (expand1x1_activation): ReLU(inplace=True)\n",
       "      (expand3x3): Conv2d(32, 128, kernel_size=(3, 3), stride=(1, 1), padding=(1, 1))\n",
       "      (expand3x3_activation): ReLU(inplace=True)\n",
       "    )\n",
       "    (6): MaxPool2d(kernel_size=3, stride=2, padding=0, dilation=1, ceil_mode=True)\n",
       "    (7): Fire(\n",
       "      (squeeze): Conv2d(256, 32, kernel_size=(1, 1), stride=(1, 1))\n",
       "      (squeeze_activation): ReLU(inplace=True)\n",
       "      (expand1x1): Conv2d(32, 128, kernel_size=(1, 1), stride=(1, 1))\n",
       "      (expand1x1_activation): ReLU(inplace=True)\n",
       "      (expand3x3): Conv2d(32, 128, kernel_size=(3, 3), stride=(1, 1), padding=(1, 1))\n",
       "      (expand3x3_activation): ReLU(inplace=True)\n",
       "    )\n",
       "    (8): Fire(\n",
       "      (squeeze): Conv2d(256, 48, kernel_size=(1, 1), stride=(1, 1))\n",
       "      (squeeze_activation): ReLU(inplace=True)\n",
       "      (expand1x1): Conv2d(48, 192, kernel_size=(1, 1), stride=(1, 1))\n",
       "      (expand1x1_activation): ReLU(inplace=True)\n",
       "      (expand3x3): Conv2d(48, 192, kernel_size=(3, 3), stride=(1, 1), padding=(1, 1))\n",
       "      (expand3x3_activation): ReLU(inplace=True)\n",
       "    )\n",
       "    (9): Fire(\n",
       "      (squeeze): Conv2d(384, 48, kernel_size=(1, 1), stride=(1, 1))\n",
       "      (squeeze_activation): ReLU(inplace=True)\n",
       "      (expand1x1): Conv2d(48, 192, kernel_size=(1, 1), stride=(1, 1))\n",
       "      (expand1x1_activation): ReLU(inplace=True)\n",
       "      (expand3x3): Conv2d(48, 192, kernel_size=(3, 3), stride=(1, 1), padding=(1, 1))\n",
       "      (expand3x3_activation): ReLU(inplace=True)\n",
       "    )\n",
       "    (10): Fire(\n",
       "      (squeeze): Conv2d(384, 64, kernel_size=(1, 1), stride=(1, 1))\n",
       "      (squeeze_activation): ReLU(inplace=True)\n",
       "      (expand1x1): Conv2d(64, 256, kernel_size=(1, 1), stride=(1, 1))\n",
       "      (expand1x1_activation): ReLU(inplace=True)\n",
       "      (expand3x3): Conv2d(64, 256, kernel_size=(3, 3), stride=(1, 1), padding=(1, 1))\n",
       "      (expand3x3_activation): ReLU(inplace=True)\n",
       "    )\n",
       "    (11): MaxPool2d(kernel_size=3, stride=2, padding=0, dilation=1, ceil_mode=True)\n",
       "    (12): Fire(\n",
       "      (squeeze): Conv2d(512, 64, kernel_size=(1, 1), stride=(1, 1))\n",
       "      (squeeze_activation): ReLU(inplace=True)\n",
       "      (expand1x1): Conv2d(64, 256, kernel_size=(1, 1), stride=(1, 1))\n",
       "      (expand1x1_activation): ReLU(inplace=True)\n",
       "      (expand3x3): Conv2d(64, 256, kernel_size=(3, 3), stride=(1, 1), padding=(1, 1))\n",
       "      (expand3x3_activation): ReLU(inplace=True)\n",
       "    )\n",
       "  )\n",
       "  (classifier): Sequential(\n",
       "    (0): Dropout(p=0.5, inplace=False)\n",
       "    (1): Conv2d(512, 1000, kernel_size=(1, 1), stride=(1, 1))\n",
       "    (2): ReLU(inplace=True)\n",
       "    (3): AdaptiveAvgPool2d(output_size=(1, 1))\n",
       "  )\n",
       ")"
      ]
     },
     "metadata": {},
     "execution_count": 15
    }
   ],
   "source": [
    "model = models.squeezenet1_0(pretrained=True)\n",
    "model"
   ]
  },
  {
   "cell_type": "markdown",
   "metadata": {},
   "source": [
    "This model is built out of two main parts, the features and the classifier. The features part is a stack of convolutional layers and overall works as a feature detector that can be fed into a classifier. The classifier part is a single fully-connected layer `(classifier): Linear(in_features=1024, out_features=1000)`. This layer was trained on the ImageNet dataset, so it won't work for our specific problem. That means **we need to replace the classifier, but the features will work perfectly on their own**. *In general, I think about pre-trained networks as amazingly good feature detectors that can be used as the input for simple feed-forward classifiers.*\n",
    "\n"
   ]
  },
  {
   "cell_type": "code",
   "execution_count": 14,
   "metadata": {},
   "outputs": [
    {
     "output_type": "execute_result",
     "data": {
      "text/plain": [
       "ResNet(\n",
       "  (conv1): Conv2d(3, 64, kernel_size=(7, 7), stride=(2, 2), padding=(3, 3), bias=False)\n",
       "  (bn1): BatchNorm2d(64, eps=1e-05, momentum=0.1, affine=True, track_running_stats=True)\n",
       "  (relu): ReLU(inplace=True)\n",
       "  (maxpool): MaxPool2d(kernel_size=3, stride=2, padding=1, dilation=1, ceil_mode=False)\n",
       "  (layer1): Sequential(\n",
       "    (0): BasicBlock(\n",
       "      (conv1): Conv2d(64, 64, kernel_size=(3, 3), stride=(1, 1), padding=(1, 1), bias=False)\n",
       "      (bn1): BatchNorm2d(64, eps=1e-05, momentum=0.1, affine=True, track_running_stats=True)\n",
       "      (relu): ReLU(inplace=True)\n",
       "      (conv2): Conv2d(64, 64, kernel_size=(3, 3), stride=(1, 1), padding=(1, 1), bias=False)\n",
       "      (bn2): BatchNorm2d(64, eps=1e-05, momentum=0.1, affine=True, track_running_stats=True)\n",
       "    )\n",
       "    (1): BasicBlock(\n",
       "      (conv1): Conv2d(64, 64, kernel_size=(3, 3), stride=(1, 1), padding=(1, 1), bias=False)\n",
       "      (bn1): BatchNorm2d(64, eps=1e-05, momentum=0.1, affine=True, track_running_stats=True)\n",
       "      (relu): ReLU(inplace=True)\n",
       "      (conv2): Conv2d(64, 64, kernel_size=(3, 3), stride=(1, 1), padding=(1, 1), bias=False)\n",
       "      (bn2): BatchNorm2d(64, eps=1e-05, momentum=0.1, affine=True, track_running_stats=True)\n",
       "    )\n",
       "  )\n",
       "  (layer2): Sequential(\n",
       "    (0): BasicBlock(\n",
       "      (conv1): Conv2d(64, 128, kernel_size=(3, 3), stride=(2, 2), padding=(1, 1), bias=False)\n",
       "      (bn1): BatchNorm2d(128, eps=1e-05, momentum=0.1, affine=True, track_running_stats=True)\n",
       "      (relu): ReLU(inplace=True)\n",
       "      (conv2): Conv2d(128, 128, kernel_size=(3, 3), stride=(1, 1), padding=(1, 1), bias=False)\n",
       "      (bn2): BatchNorm2d(128, eps=1e-05, momentum=0.1, affine=True, track_running_stats=True)\n",
       "      (downsample): Sequential(\n",
       "        (0): Conv2d(64, 128, kernel_size=(1, 1), stride=(2, 2), bias=False)\n",
       "        (1): BatchNorm2d(128, eps=1e-05, momentum=0.1, affine=True, track_running_stats=True)\n",
       "      )\n",
       "    )\n",
       "    (1): BasicBlock(\n",
       "      (conv1): Conv2d(128, 128, kernel_size=(3, 3), stride=(1, 1), padding=(1, 1), bias=False)\n",
       "      (bn1): BatchNorm2d(128, eps=1e-05, momentum=0.1, affine=True, track_running_stats=True)\n",
       "      (relu): ReLU(inplace=True)\n",
       "      (conv2): Conv2d(128, 128, kernel_size=(3, 3), stride=(1, 1), padding=(1, 1), bias=False)\n",
       "      (bn2): BatchNorm2d(128, eps=1e-05, momentum=0.1, affine=True, track_running_stats=True)\n",
       "    )\n",
       "  )\n",
       "  (layer3): Sequential(\n",
       "    (0): BasicBlock(\n",
       "      (conv1): Conv2d(128, 256, kernel_size=(3, 3), stride=(2, 2), padding=(1, 1), bias=False)\n",
       "      (bn1): BatchNorm2d(256, eps=1e-05, momentum=0.1, affine=True, track_running_stats=True)\n",
       "      (relu): ReLU(inplace=True)\n",
       "      (conv2): Conv2d(256, 256, kernel_size=(3, 3), stride=(1, 1), padding=(1, 1), bias=False)\n",
       "      (bn2): BatchNorm2d(256, eps=1e-05, momentum=0.1, affine=True, track_running_stats=True)\n",
       "      (downsample): Sequential(\n",
       "        (0): Conv2d(128, 256, kernel_size=(1, 1), stride=(2, 2), bias=False)\n",
       "        (1): BatchNorm2d(256, eps=1e-05, momentum=0.1, affine=True, track_running_stats=True)\n",
       "      )\n",
       "    )\n",
       "    (1): BasicBlock(\n",
       "      (conv1): Conv2d(256, 256, kernel_size=(3, 3), stride=(1, 1), padding=(1, 1), bias=False)\n",
       "      (bn1): BatchNorm2d(256, eps=1e-05, momentum=0.1, affine=True, track_running_stats=True)\n",
       "      (relu): ReLU(inplace=True)\n",
       "      (conv2): Conv2d(256, 256, kernel_size=(3, 3), stride=(1, 1), padding=(1, 1), bias=False)\n",
       "      (bn2): BatchNorm2d(256, eps=1e-05, momentum=0.1, affine=True, track_running_stats=True)\n",
       "    )\n",
       "  )\n",
       "  (layer4): Sequential(\n",
       "    (0): BasicBlock(\n",
       "      (conv1): Conv2d(256, 512, kernel_size=(3, 3), stride=(2, 2), padding=(1, 1), bias=False)\n",
       "      (bn1): BatchNorm2d(512, eps=1e-05, momentum=0.1, affine=True, track_running_stats=True)\n",
       "      (relu): ReLU(inplace=True)\n",
       "      (conv2): Conv2d(512, 512, kernel_size=(3, 3), stride=(1, 1), padding=(1, 1), bias=False)\n",
       "      (bn2): BatchNorm2d(512, eps=1e-05, momentum=0.1, affine=True, track_running_stats=True)\n",
       "      (downsample): Sequential(\n",
       "        (0): Conv2d(256, 512, kernel_size=(1, 1), stride=(2, 2), bias=False)\n",
       "        (1): BatchNorm2d(512, eps=1e-05, momentum=0.1, affine=True, track_running_stats=True)\n",
       "      )\n",
       "    )\n",
       "    (1): BasicBlock(\n",
       "      (conv1): Conv2d(512, 512, kernel_size=(3, 3), stride=(1, 1), padding=(1, 1), bias=False)\n",
       "      (bn1): BatchNorm2d(512, eps=1e-05, momentum=0.1, affine=True, track_running_stats=True)\n",
       "      (relu): ReLU(inplace=True)\n",
       "      (conv2): Conv2d(512, 512, kernel_size=(3, 3), stride=(1, 1), padding=(1, 1), bias=False)\n",
       "      (bn2): BatchNorm2d(512, eps=1e-05, momentum=0.1, affine=True, track_running_stats=True)\n",
       "    )\n",
       "  )\n",
       "  (avgpool): AdaptiveAvgPool2d(output_size=(1, 1))\n",
       "  (fc): Sequential(\n",
       "    (fc1): Linear(in_features=512, out_features=128, bias=True)\n",
       "    (relu1): ReLU()\n",
       "    (output): Linear(in_features=128, out_features=2, bias=True)\n",
       "    (softmax): LogSoftmax(dim=1)\n",
       "  )\n",
       ")"
      ]
     },
     "metadata": {},
     "execution_count": 14
    }
   ],
   "source": [
    "# Freeze parameters so we don't backprop through them\n",
    "for param in model.parameters():\n",
    "    param.requires_grad = False\n",
    "\n",
    "from collections import OrderedDict\n",
    "classifier = nn.Sequential(OrderedDict([\n",
    "          ('fc1',   nn.Linear(512, 128)),\n",
    "          ('relu1', nn.ReLU()),\n",
    "        #   ('fc2',   nn.Linear(256, 128)),\n",
    "        #   ('relu2', nn.ReLU()),\n",
    "          ('output', nn.Linear(128, 2)),\n",
    "          ('softmax', nn.LogSoftmax(dim=1))\n",
    "        #   ('softmax', nn.Softmax(dim=1))\n",
    "]))\n",
    "    \n",
    "model.fc = classifier\n",
    "\n",
    "model"
   ]
  },
  {
   "cell_type": "markdown",
   "metadata": {},
   "source": [
    "With our model built, we need to train the classifier. However, now we're using a **really deep** neural network. If you try to train this on a CPU like normal, it will take a long, long time. Instead, we're going to use the GPU to do the calculations. The linear algebra computations are done in parallel on the GPU leading to 100x increased training speeds. It's also possible to train on multiple GPUs, further decreasing training time.\n",
    "\n",
    "PyTorch, along with pretty much every other deep learning framework, uses [CUDA](https://developer.nvidia.com/cuda-zone) to efficiently compute the forward and backwards passes on the GPU. In PyTorch, you move your model parameters and other tensors to the GPU memory using `model.to('cuda')`. You can move them back from the GPU with `model.to('cpu')` which you'll commonly do when you need to operate on the network output outside of PyTorch. As a demonstration of the increased speed, I'll compare how long it takes to perform a forward and backward pass with and without a GPU."
   ]
  },
  {
   "cell_type": "code",
   "execution_count": 6,
   "metadata": {},
   "outputs": [],
   "source": [
    "import time"
   ]
  },
  {
   "cell_type": "markdown",
   "metadata": {},
   "source": [
    "We can check if the GPU is available with \n",
    "\n",
    "`torch.cuda.is_available()` .\n",
    "\n",
    "This command can be used to make a model that is agnostic to the device we are using, simply defining:\n",
    "\n",
    "`device = torch.device(\"cuda:0\" if torch.cuda.is_available() else \"cpu\")`\n",
    "\n",
    "in this way, device will be \"cuda:0\" if a GPU is available, or \"cpu\" if it is not!\n",
    "\n"
   ]
  },
  {
   "cell_type": "code",
   "execution_count": 7,
   "metadata": {},
   "outputs": [
    {
     "output_type": "stream",
     "name": "stdout",
     "text": [
      "cuda:0\n"
     ]
    }
   ],
   "source": [
    "device = torch.device(\"cuda:0\" if torch.cuda.is_available() else \"cpu\")\n",
    "print(device)"
   ]
  },
  {
   "cell_type": "markdown",
   "metadata": {},
   "source": [
    "So, whenever you get a new Tensor or Module:\n",
    "\n",
    "```python\n",
    "input = data.to(device)\n",
    "model = MyModule(...).to(device)\n",
    "```\n",
    "\n",
    "This tells the machine to move the data or the model on the GPU if available, so that you can speed up a lot your training process! If the data are already on cpu/gpu and you are running the lines above, nothing will happen! \n"
   ]
  },
  {
   "cell_type": "code",
   "execution_count": 8,
   "metadata": {},
   "outputs": [
    {
     "output_type": "stream",
     "name": "stdout",
     "text": [
      "cuda:0\n"
     ]
    }
   ],
   "source": [
    "# Use GPU if it's available\n",
    "device = torch.device(\"cuda:0\" if torch.cuda.is_available() else \"cpu\")\n",
    "print(device)\n",
    "\n",
    "# model = models.densenet121(pretrained=True)\n",
    "\n",
    "# Freeze parameters so we don't backprop through them\n",
    "# for param in model.parameters():\n",
    "#     param.requires_grad = False\n",
    "\n",
    "# Change the classifier to make it work with your binary classification problem\n",
    "\n",
    "# model.classifier = nn.Sequential(# your code here)\n",
    "\n",
    "criterion = nn.NLLLoss()\n",
    "# criterion = nn.CrossEntropyLoss\n",
    "\n",
    "# Only train the classifier parameters, feature parameters are frozen\n",
    "optimizer = optim.Adam(model.fc.parameters(), lr=0.003)\n",
    "\n",
    "model.to(device);"
   ]
  },
  {
   "cell_type": "markdown",
   "metadata": {},
   "source": [
    ">**Exercise** Complete the code below to complete the training and the validation."
   ]
  },
  {
   "cell_type": "code",
   "execution_count": 9,
   "metadata": {},
   "outputs": [
    {
     "output_type": "stream",
     "name": "stdout",
     "text": [
      "Epoch 1/1.. Train loss: 0.837.. Test loss: 0.528.. Test accuracy: 0.618\n",
      "Epoch 1/1.. Train loss: 0.622.. Test loss: 0.315.. Test accuracy: 0.900\n",
      "Epoch 1/1.. Train loss: 0.413.. Test loss: 0.191.. Test accuracy: 0.960\n",
      "Epoch 1/1.. Train loss: 0.356.. Test loss: 0.145.. Test accuracy: 0.954\n",
      "Epoch 1/1.. Train loss: 0.279.. Test loss: 0.144.. Test accuracy: 0.946\n",
      "Epoch 1/1.. Train loss: 0.375.. Test loss: 0.265.. Test accuracy: 0.883\n",
      "Epoch 1/1.. Train loss: 0.316.. Test loss: 0.131.. Test accuracy: 0.947\n",
      "Epoch 1/1.. Train loss: 0.310.. Test loss: 0.138.. Test accuracy: 0.943\n",
      "Epoch 1/1.. Train loss: 0.244.. Test loss: 0.105.. Test accuracy: 0.956\n",
      "Epoch 1/1.. Train loss: 0.235.. Test loss: 0.101.. Test accuracy: 0.960\n",
      "Epoch 1/1.. Train loss: 0.257.. Test loss: 0.124.. Test accuracy: 0.952\n",
      "Epoch 1/1.. Train loss: 0.184.. Test loss: 0.098.. Test accuracy: 0.958\n",
      "Epoch 1/1.. Train loss: 0.343.. Test loss: 0.135.. Test accuracy: 0.949\n",
      "Epoch 1/1.. Train loss: 0.288.. Test loss: 0.145.. Test accuracy: 0.947\n",
      "Epoch 1/1.. Train loss: 0.380.. Test loss: 0.144.. Test accuracy: 0.940\n",
      "Epoch 1/1.. Train loss: 0.416.. Test loss: 0.188.. Test accuracy: 0.924\n",
      "Epoch 1/1.. Train loss: 0.257.. Test loss: 0.108.. Test accuracy: 0.957\n",
      "Epoch 1/1.. Train loss: 0.283.. Test loss: 0.153.. Test accuracy: 0.945\n",
      "Epoch 1/1.. Train loss: 0.380.. Test loss: 0.115.. Test accuracy: 0.955\n",
      "Epoch 1/1.. Train loss: 0.346.. Test loss: 0.114.. Test accuracy: 0.956\n",
      "Epoch 1/1.. Train loss: 0.302.. Test loss: 0.158.. Test accuracy: 0.941\n",
      "Epoch 1/1.. Train loss: 0.329.. Test loss: 0.104.. Test accuracy: 0.961\n",
      "Epoch 1/1.. Train loss: 0.247.. Test loss: 0.102.. Test accuracy: 0.963\n",
      "Epoch 1/1.. Train loss: 0.164.. Test loss: 0.110.. Test accuracy: 0.959\n",
      "Epoch 1/1.. Train loss: 0.276.. Test loss: 0.103.. Test accuracy: 0.959\n",
      "Epoch 1/1.. Train loss: 0.279.. Test loss: 0.154.. Test accuracy: 0.942\n",
      "Epoch 1/1.. Train loss: 0.306.. Test loss: 0.092.. Test accuracy: 0.962\n",
      "Epoch 1/1.. Train loss: 0.296.. Test loss: 0.113.. Test accuracy: 0.954\n",
      "Epoch 1/1.. Train loss: 0.316.. Test loss: 0.094.. Test accuracy: 0.963\n",
      "Epoch 1/1.. Train loss: 0.306.. Test loss: 0.098.. Test accuracy: 0.964\n",
      "Epoch 1/1.. Train loss: 0.179.. Test loss: 0.207.. Test accuracy: 0.915\n",
      "Epoch 1/1.. Train loss: 0.255.. Test loss: 0.116.. Test accuracy: 0.955\n",
      "Epoch 1/1.. Train loss: 0.290.. Test loss: 0.099.. Test accuracy: 0.960\n",
      "Epoch 1/1.. Train loss: 0.276.. Test loss: 0.096.. Test accuracy: 0.963\n",
      "Epoch 1/1.. Train loss: 0.184.. Test loss: 0.122.. Test accuracy: 0.951\n",
      "Epoch 1/1.. Train loss: 0.267.. Test loss: 0.105.. Test accuracy: 0.961\n",
      "Epoch 1/1.. Train loss: 0.318.. Test loss: 0.094.. Test accuracy: 0.964\n",
      "Epoch 1/1.. Train loss: 0.240.. Test loss: 0.094.. Test accuracy: 0.964\n",
      "Epoch 1/1.. Train loss: 0.242.. Test loss: 0.094.. Test accuracy: 0.963\n",
      "Epoch 1/1.. Train loss: 0.138.. Test loss: 0.095.. Test accuracy: 0.963\n",
      "Epoch 1/1.. Train loss: 0.183.. Test loss: 0.092.. Test accuracy: 0.963\n",
      "Epoch 1/1.. Train loss: 0.290.. Test loss: 0.096.. Test accuracy: 0.959\n",
      "Epoch 1/1.. Train loss: 0.319.. Test loss: 0.296.. Test accuracy: 0.888\n",
      "Epoch 1/1.. Train loss: 0.332.. Test loss: 0.096.. Test accuracy: 0.962\n",
      "Epoch 1/1.. Train loss: 0.228.. Test loss: 0.095.. Test accuracy: 0.964\n",
      "Epoch 1/1.. Train loss: 0.216.. Test loss: 0.095.. Test accuracy: 0.961\n",
      "Epoch 1/1.. Train loss: 0.212.. Test loss: 0.113.. Test accuracy: 0.955\n",
      "Epoch 1/1.. Train loss: 0.318.. Test loss: 0.124.. Test accuracy: 0.953\n",
      "Epoch 1/1.. Train loss: 0.216.. Test loss: 0.108.. Test accuracy: 0.957\n",
      "Epoch 1/1.. Train loss: 0.198.. Test loss: 0.100.. Test accuracy: 0.959\n",
      "Epoch 1/1.. Train loss: 0.333.. Test loss: 0.167.. Test accuracy: 0.934\n",
      "Epoch 1/1.. Train loss: 0.290.. Test loss: 0.098.. Test accuracy: 0.961\n",
      "Epoch 1/1.. Train loss: 0.247.. Test loss: 0.111.. Test accuracy: 0.954\n",
      "Epoch 1/1.. Train loss: 0.265.. Test loss: 0.098.. Test accuracy: 0.962\n",
      "Epoch 1/1.. Train loss: 0.264.. Test loss: 0.141.. Test accuracy: 0.943\n",
      "Epoch 1/1.. Train loss: 0.260.. Test loss: 0.091.. Test accuracy: 0.963\n",
      "Epoch 1/1.. Train loss: 0.267.. Test loss: 0.089.. Test accuracy: 0.965\n",
      "Epoch 1/1.. Train loss: 0.206.. Test loss: 0.086.. Test accuracy: 0.967\n",
      "Epoch 1/1.. Train loss: 0.155.. Test loss: 0.094.. Test accuracy: 0.964\n",
      "Epoch 1/1.. Train loss: 0.351.. Test loss: 0.083.. Test accuracy: 0.967\n",
      "Epoch 1/1.. Train loss: 0.238.. Test loss: 0.087.. Test accuracy: 0.964\n",
      "Epoch 1/1.. Train loss: 0.329.. Test loss: 0.160.. Test accuracy: 0.933\n",
      "Epoch 1/1.. Train loss: 0.252.. Test loss: 0.096.. Test accuracy: 0.965\n",
      "Epoch 1/1.. Train loss: 0.230.. Test loss: 0.087.. Test accuracy: 0.965\n",
      "Epoch 1/1.. Train loss: 0.212.. Test loss: 0.097.. Test accuracy: 0.964\n",
      "Epoch 1/1.. Train loss: 0.230.. Test loss: 0.132.. Test accuracy: 0.948\n",
      "Epoch 1/1.. Train loss: 0.266.. Test loss: 0.090.. Test accuracy: 0.965\n",
      "Epoch 1/1.. Train loss: 0.214.. Test loss: 0.126.. Test accuracy: 0.951\n",
      "Epoch 1/1.. Train loss: 0.213.. Test loss: 0.086.. Test accuracy: 0.964\n",
      "Epoch 1/1.. Train loss: 0.273.. Test loss: 0.084.. Test accuracy: 0.966\n",
      "Epoch 1/1.. Train loss: 0.202.. Test loss: 0.101.. Test accuracy: 0.962\n",
      "Epoch 1/1.. Train loss: 0.206.. Test loss: 0.142.. Test accuracy: 0.945\n",
      "Epoch 1/1.. Train loss: 0.186.. Test loss: 0.086.. Test accuracy: 0.965\n",
      "Epoch 1/1.. Train loss: 0.316.. Test loss: 0.095.. Test accuracy: 0.964\n",
      "Epoch 1/1.. Train loss: 0.241.. Test loss: 0.125.. Test accuracy: 0.951\n",
      "Epoch 1/1.. Train loss: 0.175.. Test loss: 0.088.. Test accuracy: 0.966\n",
      "Epoch 1/1.. Train loss: 0.241.. Test loss: 0.120.. Test accuracy: 0.954\n",
      "Epoch 1/1.. Train loss: 0.154.. Test loss: 0.123.. Test accuracy: 0.953\n",
      "Epoch 1/1.. Train loss: 0.264.. Test loss: 0.104.. Test accuracy: 0.959\n",
      "Epoch 1/1.. Train loss: 0.149.. Test loss: 0.169.. Test accuracy: 0.935\n",
      "Epoch 1/1.. Train loss: 0.372.. Test loss: 0.103.. Test accuracy: 0.958\n",
      "Epoch 1/1.. Train loss: 0.288.. Test loss: 0.099.. Test accuracy: 0.961\n",
      "Epoch 1/1.. Train loss: 0.236.. Test loss: 0.159.. Test accuracy: 0.931\n",
      "Epoch 1/1.. Train loss: 0.302.. Test loss: 0.171.. Test accuracy: 0.925\n",
      "Epoch 1/1.. Train loss: 0.236.. Test loss: 0.141.. Test accuracy: 0.945\n",
      "Epoch 1/1.. Train loss: 0.419.. Test loss: 0.108.. Test accuracy: 0.956\n",
      "Epoch 1/1.. Train loss: 0.214.. Test loss: 0.215.. Test accuracy: 0.911\n",
      "Epoch 1/1.. Train loss: 0.343.. Test loss: 0.088.. Test accuracy: 0.967\n",
      "Epoch 1/1.. Train loss: 0.198.. Test loss: 0.086.. Test accuracy: 0.965\n",
      "Epoch 1/1.. Train loss: 0.246.. Test loss: 0.108.. Test accuracy: 0.959\n",
      "Epoch 1/1.. Train loss: 0.276.. Test loss: 0.110.. Test accuracy: 0.957\n",
      "Epoch 1/1.. Train loss: 0.232.. Test loss: 0.084.. Test accuracy: 0.965\n",
      "Epoch 1/1.. Train loss: 0.204.. Test loss: 0.116.. Test accuracy: 0.955\n",
      "Epoch 1/1.. Train loss: 0.348.. Test loss: 0.090.. Test accuracy: 0.962\n",
      "Epoch 1/1.. Train loss: 0.245.. Test loss: 0.121.. Test accuracy: 0.952\n",
      "Epoch 1/1.. Train loss: 0.407.. Test loss: 0.164.. Test accuracy: 0.932\n",
      "Epoch 1/1.. Train loss: 0.420.. Test loss: 0.145.. Test accuracy: 0.943\n",
      "Epoch 1/1.. Train loss: 0.311.. Test loss: 0.107.. Test accuracy: 0.957\n",
      "Epoch 1/1.. Train loss: 0.304.. Test loss: 0.093.. Test accuracy: 0.967\n",
      "Epoch 1/1.. Train loss: 0.211.. Test loss: 0.133.. Test accuracy: 0.949\n",
      "Epoch 1/1.. Train loss: 0.192.. Test loss: 0.098.. Test accuracy: 0.963\n",
      "Epoch 1/1.. Train loss: 0.230.. Test loss: 0.084.. Test accuracy: 0.968\n",
      "Epoch 1/1.. Train loss: 0.188.. Test loss: 0.083.. Test accuracy: 0.970\n",
      "Epoch 1/1.. Train loss: 0.176.. Test loss: 0.108.. Test accuracy: 0.961\n",
      "Epoch 1/1.. Train loss: 0.170.. Test loss: 0.151.. Test accuracy: 0.946\n",
      "Epoch 1/1.. Train loss: 0.212.. Test loss: 0.082.. Test accuracy: 0.969\n",
      "Epoch 1/1.. Train loss: 0.390.. Test loss: 0.082.. Test accuracy: 0.969\n",
      "Epoch 1/1.. Train loss: 0.318.. Test loss: 0.178.. Test accuracy: 0.930\n",
      "Epoch 1/1.. Train loss: 0.214.. Test loss: 0.089.. Test accuracy: 0.965\n",
      "Epoch 1/1.. Train loss: 0.279.. Test loss: 0.088.. Test accuracy: 0.967\n",
      "Epoch 1/1.. Train loss: 0.222.. Test loss: 0.131.. Test accuracy: 0.947\n",
      "Epoch 1/1.. Train loss: 0.239.. Test loss: 0.086.. Test accuracy: 0.969\n",
      "Epoch 1/1.. Train loss: 0.280.. Test loss: 0.082.. Test accuracy: 0.969\n",
      "Epoch 1/1.. Train loss: 0.169.. Test loss: 0.097.. Test accuracy: 0.964\n",
      "Epoch 1/1.. Train loss: 0.253.. Test loss: 0.086.. Test accuracy: 0.967\n",
      "Epoch 1/1.. Train loss: 0.272.. Test loss: 0.131.. Test accuracy: 0.949\n",
      "Epoch 1/1.. Train loss: 0.295.. Test loss: 0.140.. Test accuracy: 0.946\n",
      "Epoch 1/1.. Train loss: 0.251.. Test loss: 0.082.. Test accuracy: 0.970\n",
      "Epoch 1/1.. Train loss: 0.234.. Test loss: 0.084.. Test accuracy: 0.968\n",
      "Epoch 1/1.. Train loss: 0.336.. Test loss: 0.099.. Test accuracy: 0.961\n",
      "Epoch 1/1.. Train loss: 0.195.. Test loss: 0.098.. Test accuracy: 0.961\n",
      "Epoch 1/1.. Train loss: 0.210.. Test loss: 0.085.. Test accuracy: 0.965\n",
      "Epoch 1/1.. Train loss: 0.221.. Test loss: 0.100.. Test accuracy: 0.959\n",
      "Epoch 1/1.. Train loss: 0.190.. Test loss: 0.081.. Test accuracy: 0.967\n",
      "Epoch 1/1.. Train loss: 0.231.. Test loss: 0.078.. Test accuracy: 0.968\n",
      "Epoch 1/1.. Train loss: 0.248.. Test loss: 0.081.. Test accuracy: 0.968\n",
      "Epoch 1/1.. Train loss: 0.178.. Test loss: 0.154.. Test accuracy: 0.945\n",
      "Epoch 1/1.. Train loss: 0.251.. Test loss: 0.112.. Test accuracy: 0.956\n",
      "Epoch 1/1.. Train loss: 0.279.. Test loss: 0.084.. Test accuracy: 0.965\n",
      "Epoch 1/1.. Train loss: 0.273.. Test loss: 0.081.. Test accuracy: 0.967\n",
      "Epoch 1/1.. Train loss: 0.150.. Test loss: 0.117.. Test accuracy: 0.953\n",
      "Epoch 1/1.. Train loss: 0.292.. Test loss: 0.082.. Test accuracy: 0.969\n",
      "Epoch 1/1.. Train loss: 0.353.. Test loss: 0.086.. Test accuracy: 0.967\n",
      "Epoch 1/1.. Train loss: 0.252.. Test loss: 0.114.. Test accuracy: 0.953\n",
      "Epoch 1/1.. Train loss: 0.253.. Test loss: 0.098.. Test accuracy: 0.961\n",
      "Epoch 1/1.. Train loss: 0.211.. Test loss: 0.081.. Test accuracy: 0.969\n",
      "Epoch 1/1.. Train loss: 0.215.. Test loss: 0.088.. Test accuracy: 0.964\n",
      "Epoch 1/1.. Train loss: 0.222.. Test loss: 0.078.. Test accuracy: 0.968\n",
      "Epoch 1/1.. Train loss: 0.250.. Test loss: 0.092.. Test accuracy: 0.966\n",
      "Epoch 1/1.. Train loss: 0.193.. Test loss: 0.107.. Test accuracy: 0.961\n"
     ]
    }
   ],
   "source": [
    "epochs = 1\n",
    "steps = 0\n",
    "running_loss = 0\n",
    "print_every = 5\n",
    "max_accuracy = 0\n",
    "\n",
    "for epoch in range(epochs):\n",
    "    for inputs, labels in trainloader:\n",
    "        steps += 1\n",
    "        # inputs, labels = Variable(inputs).float(), Variable(labels).float()\n",
    "        # Move input and label tensors to the default device\n",
    "        inputs, labels = inputs.to(device), labels.to(device)\n",
    "        \n",
    "        # write the training loop. call the loss \"loss\" so that the line below will work\n",
    "        optimizer.zero_grad()\n",
    "\n",
    "        output = model.forward(inputs)   # 1) Forward pass\n",
    "        # print(output, output.shape)\n",
    "        loss = criterion(output, labels) # 2) Compute loss\n",
    "        # print(loss)\n",
    "        # loss = Variable(loss, requires_grad=True)\n",
    "        loss.backward()                  # 3) Backward pass\n",
    "        optimizer.step()                 # 4) Update model\n",
    "        \n",
    "        running_loss += loss.item()\n",
    "        \n",
    "        if steps % print_every == 0:\n",
    "            test_loss = 0\n",
    "            accuracy = 0\n",
    "            # REMEMBER TO ACTIVATE THE EVAL MODE\n",
    "            model.eval()\n",
    "            with torch.no_grad():\n",
    "                for inputs, labels in testloader:\n",
    "\n",
    "                    inputs, labels, model = inputs.to(device), labels.to(device), model.to(device)\n",
    "                    \n",
    "                    logps = model.forward(inputs)\n",
    "                    batch_loss = criterion(logps, labels)\n",
    "                    \n",
    "                    test_loss += batch_loss.item()\n",
    "                    \n",
    "                    # Calculate accuracy\n",
    "                    ps = torch.exp(logps)\n",
    "                    top_p, top_class = ps.topk(1, dim=1)\n",
    "                    equals = top_class == labels.view(*top_class.shape)\n",
    "                    accuracy += torch.mean(equals.type(torch.FloatTensor)).item()\n",
    "                    if accuracy >= max_accuracy:\n",
    "                        max_accuracy = accuracy\n",
    "                        torch.save(model.state_dict(), 'checkpoint.pth')\n",
    "            print(f\"Epoch {epoch+1}/{epochs}.. \"\n",
    "                  f\"Train loss: {running_loss/print_every:.3f}.. \"\n",
    "                  f\"Test loss: {test_loss/len(testloader):.3f}.. \"\n",
    "                  f\"Test accuracy: {accuracy/len(testloader):.3f}\")\n",
    "            running_loss = 0\n",
    "            model.train()"
   ]
  },
  {
   "cell_type": "markdown",
   "metadata": {},
   "source": [
    "In less than one epoch! 😳🤩 (I manually interrupted the training, this is why there's the error.)\n",
    "\n",
    "Ok, now that you have a great model, it's worth it to save it for use it again later."
   ]
  },
  {
   "cell_type": "code",
   "execution_count": 10,
   "metadata": {},
   "outputs": [
    {
     "output_type": "stream",
     "name": "stdout",
     "text": [
      "Our model: \n\n ResNet(\n  (conv1): Conv2d(3, 64, kernel_size=(7, 7), stride=(2, 2), padding=(3, 3), bias=False)\n  (bn1): BatchNorm2d(64, eps=1e-05, momentum=0.1, affine=True, track_running_stats=True)\n  (relu): ReLU(inplace=True)\n  (maxpool): MaxPool2d(kernel_size=3, stride=2, padding=1, dilation=1, ceil_mode=False)\n  (layer1): Sequential(\n    (0): BasicBlock(\n      (conv1): Conv2d(64, 64, kernel_size=(3, 3), stride=(1, 1), padding=(1, 1), bias=False)\n      (bn1): BatchNorm2d(64, eps=1e-05, momentum=0.1, affine=True, track_running_stats=True)\n      (relu): ReLU(inplace=True)\n      (conv2): Conv2d(64, 64, kernel_size=(3, 3), stride=(1, 1), padding=(1, 1), bias=False)\n      (bn2): BatchNorm2d(64, eps=1e-05, momentum=0.1, affine=True, track_running_stats=True)\n    )\n    (1): BasicBlock(\n      (conv1): Conv2d(64, 64, kernel_size=(3, 3), stride=(1, 1), padding=(1, 1), bias=False)\n      (bn1): BatchNorm2d(64, eps=1e-05, momentum=0.1, affine=True, track_running_stats=True)\n      (relu): ReLU(inplace=True)\n      (conv2): Conv2d(64, 64, kernel_size=(3, 3), stride=(1, 1), padding=(1, 1), bias=False)\n      (bn2): BatchNorm2d(64, eps=1e-05, momentum=0.1, affine=True, track_running_stats=True)\n    )\n  )\n  (layer2): Sequential(\n    (0): BasicBlock(\n      (conv1): Conv2d(64, 128, kernel_size=(3, 3), stride=(2, 2), padding=(1, 1), bias=False)\n      (bn1): BatchNorm2d(128, eps=1e-05, momentum=0.1, affine=True, track_running_stats=True)\n      (relu): ReLU(inplace=True)\n      (conv2): Conv2d(128, 128, kernel_size=(3, 3), stride=(1, 1), padding=(1, 1), bias=False)\n      (bn2): BatchNorm2d(128, eps=1e-05, momentum=0.1, affine=True, track_running_stats=True)\n      (downsample): Sequential(\n        (0): Conv2d(64, 128, kernel_size=(1, 1), stride=(2, 2), bias=False)\n        (1): BatchNorm2d(128, eps=1e-05, momentum=0.1, affine=True, track_running_stats=True)\n      )\n    )\n    (1): BasicBlock(\n      (conv1): Conv2d(128, 128, kernel_size=(3, 3), stride=(1, 1), padding=(1, 1), bias=False)\n      (bn1): BatchNorm2d(128, eps=1e-05, momentum=0.1, affine=True, track_running_stats=True)\n      (relu): ReLU(inplace=True)\n      (conv2): Conv2d(128, 128, kernel_size=(3, 3), stride=(1, 1), padding=(1, 1), bias=False)\n      (bn2): BatchNorm2d(128, eps=1e-05, momentum=0.1, affine=True, track_running_stats=True)\n    )\n  )\n  (layer3): Sequential(\n    (0): BasicBlock(\n      (conv1): Conv2d(128, 256, kernel_size=(3, 3), stride=(2, 2), padding=(1, 1), bias=False)\n      (bn1): BatchNorm2d(256, eps=1e-05, momentum=0.1, affine=True, track_running_stats=True)\n      (relu): ReLU(inplace=True)\n      (conv2): Conv2d(256, 256, kernel_size=(3, 3), stride=(1, 1), padding=(1, 1), bias=False)\n      (bn2): BatchNorm2d(256, eps=1e-05, momentum=0.1, affine=True, track_running_stats=True)\n      (downsample): Sequential(\n        (0): Conv2d(128, 256, kernel_size=(1, 1), stride=(2, 2), bias=False)\n        (1): BatchNorm2d(256, eps=1e-05, momentum=0.1, affine=True, track_running_stats=True)\n      )\n    )\n    (1): BasicBlock(\n      (conv1): Conv2d(256, 256, kernel_size=(3, 3), stride=(1, 1), padding=(1, 1), bias=False)\n      (bn1): BatchNorm2d(256, eps=1e-05, momentum=0.1, affine=True, track_running_stats=True)\n      (relu): ReLU(inplace=True)\n      (conv2): Conv2d(256, 256, kernel_size=(3, 3), stride=(1, 1), padding=(1, 1), bias=False)\n      (bn2): BatchNorm2d(256, eps=1e-05, momentum=0.1, affine=True, track_running_stats=True)\n    )\n  )\n  (layer4): Sequential(\n    (0): BasicBlock(\n      (conv1): Conv2d(256, 512, kernel_size=(3, 3), stride=(2, 2), padding=(1, 1), bias=False)\n      (bn1): BatchNorm2d(512, eps=1e-05, momentum=0.1, affine=True, track_running_stats=True)\n      (relu): ReLU(inplace=True)\n      (conv2): Conv2d(512, 512, kernel_size=(3, 3), stride=(1, 1), padding=(1, 1), bias=False)\n      (bn2): BatchNorm2d(512, eps=1e-05, momentum=0.1, affine=True, track_running_stats=True)\n      (downsample): Sequential(\n        (0): Conv2d(256, 512, kernel_size=(1, 1), stride=(2, 2), bias=False)\n        (1): BatchNorm2d(512, eps=1e-05, momentum=0.1, affine=True, track_running_stats=True)\n      )\n    )\n    (1): BasicBlock(\n      (conv1): Conv2d(512, 512, kernel_size=(3, 3), stride=(1, 1), padding=(1, 1), bias=False)\n      (bn1): BatchNorm2d(512, eps=1e-05, momentum=0.1, affine=True, track_running_stats=True)\n      (relu): ReLU(inplace=True)\n      (conv2): Conv2d(512, 512, kernel_size=(3, 3), stride=(1, 1), padding=(1, 1), bias=False)\n      (bn2): BatchNorm2d(512, eps=1e-05, momentum=0.1, affine=True, track_running_stats=True)\n    )\n  )\n  (avgpool): AdaptiveAvgPool2d(output_size=(1, 1))\n  (fc): Sequential(\n    (fc1): Linear(in_features=512, out_features=128, bias=True)\n    (relu1): ReLU()\n    (output): Linear(in_features=128, out_features=2, bias=True)\n    (softmax): LogSoftmax(dim=1)\n  )\n) \n\nThe state dict keys: \n\n odict_keys(['conv1.weight', 'bn1.weight', 'bn1.bias', 'bn1.running_mean', 'bn1.running_var', 'bn1.num_batches_tracked', 'layer1.0.conv1.weight', 'layer1.0.bn1.weight', 'layer1.0.bn1.bias', 'layer1.0.bn1.running_mean', 'layer1.0.bn1.running_var', 'layer1.0.bn1.num_batches_tracked', 'layer1.0.conv2.weight', 'layer1.0.bn2.weight', 'layer1.0.bn2.bias', 'layer1.0.bn2.running_mean', 'layer1.0.bn2.running_var', 'layer1.0.bn2.num_batches_tracked', 'layer1.1.conv1.weight', 'layer1.1.bn1.weight', 'layer1.1.bn1.bias', 'layer1.1.bn1.running_mean', 'layer1.1.bn1.running_var', 'layer1.1.bn1.num_batches_tracked', 'layer1.1.conv2.weight', 'layer1.1.bn2.weight', 'layer1.1.bn2.bias', 'layer1.1.bn2.running_mean', 'layer1.1.bn2.running_var', 'layer1.1.bn2.num_batches_tracked', 'layer2.0.conv1.weight', 'layer2.0.bn1.weight', 'layer2.0.bn1.bias', 'layer2.0.bn1.running_mean', 'layer2.0.bn1.running_var', 'layer2.0.bn1.num_batches_tracked', 'layer2.0.conv2.weight', 'layer2.0.bn2.weight', 'layer2.0.bn2.bias', 'layer2.0.bn2.running_mean', 'layer2.0.bn2.running_var', 'layer2.0.bn2.num_batches_tracked', 'layer2.0.downsample.0.weight', 'layer2.0.downsample.1.weight', 'layer2.0.downsample.1.bias', 'layer2.0.downsample.1.running_mean', 'layer2.0.downsample.1.running_var', 'layer2.0.downsample.1.num_batches_tracked', 'layer2.1.conv1.weight', 'layer2.1.bn1.weight', 'layer2.1.bn1.bias', 'layer2.1.bn1.running_mean', 'layer2.1.bn1.running_var', 'layer2.1.bn1.num_batches_tracked', 'layer2.1.conv2.weight', 'layer2.1.bn2.weight', 'layer2.1.bn2.bias', 'layer2.1.bn2.running_mean', 'layer2.1.bn2.running_var', 'layer2.1.bn2.num_batches_tracked', 'layer3.0.conv1.weight', 'layer3.0.bn1.weight', 'layer3.0.bn1.bias', 'layer3.0.bn1.running_mean', 'layer3.0.bn1.running_var', 'layer3.0.bn1.num_batches_tracked', 'layer3.0.conv2.weight', 'layer3.0.bn2.weight', 'layer3.0.bn2.bias', 'layer3.0.bn2.running_mean', 'layer3.0.bn2.running_var', 'layer3.0.bn2.num_batches_tracked', 'layer3.0.downsample.0.weight', 'layer3.0.downsample.1.weight', 'layer3.0.downsample.1.bias', 'layer3.0.downsample.1.running_mean', 'layer3.0.downsample.1.running_var', 'layer3.0.downsample.1.num_batches_tracked', 'layer3.1.conv1.weight', 'layer3.1.bn1.weight', 'layer3.1.bn1.bias', 'layer3.1.bn1.running_mean', 'layer3.1.bn1.running_var', 'layer3.1.bn1.num_batches_tracked', 'layer3.1.conv2.weight', 'layer3.1.bn2.weight', 'layer3.1.bn2.bias', 'layer3.1.bn2.running_mean', 'layer3.1.bn2.running_var', 'layer3.1.bn2.num_batches_tracked', 'layer4.0.conv1.weight', 'layer4.0.bn1.weight', 'layer4.0.bn1.bias', 'layer4.0.bn1.running_mean', 'layer4.0.bn1.running_var', 'layer4.0.bn1.num_batches_tracked', 'layer4.0.conv2.weight', 'layer4.0.bn2.weight', 'layer4.0.bn2.bias', 'layer4.0.bn2.running_mean', 'layer4.0.bn2.running_var', 'layer4.0.bn2.num_batches_tracked', 'layer4.0.downsample.0.weight', 'layer4.0.downsample.1.weight', 'layer4.0.downsample.1.bias', 'layer4.0.downsample.1.running_mean', 'layer4.0.downsample.1.running_var', 'layer4.0.downsample.1.num_batches_tracked', 'layer4.1.conv1.weight', 'layer4.1.bn1.weight', 'layer4.1.bn1.bias', 'layer4.1.bn1.running_mean', 'layer4.1.bn1.running_var', 'layer4.1.bn1.num_batches_tracked', 'layer4.1.conv2.weight', 'layer4.1.bn2.weight', 'layer4.1.bn2.bias', 'layer4.1.bn2.running_mean', 'layer4.1.bn2.running_var', 'layer4.1.bn2.num_batches_tracked', 'fc.fc1.weight', 'fc.fc1.bias', 'fc.output.weight', 'fc.output.bias'])\n"
     ]
    }
   ],
   "source": [
    "print(\"Our model: \\n\\n\", model, '\\n')\n",
    "print(\"The state dict keys: \\n\\n\", model.state_dict().keys())"
   ]
  },
  {
   "cell_type": "markdown",
   "metadata": {},
   "source": [
    "The simplest thing to do is simply save the state dict with `torch.save`. For example, we can save it to a file `'checkpoint.pth'`."
   ]
  },
  {
   "cell_type": "code",
   "execution_count": 18,
   "metadata": {},
   "outputs": [],
   "source": [
    "# torch.save(model.state_dict(), 'checkpoint.pth')"
   ]
  },
  {
   "cell_type": "markdown",
   "metadata": {},
   "source": [
    "Then we can load the state dict with `torch.load`."
   ]
  },
  {
   "cell_type": "code",
   "execution_count": 11,
   "metadata": {},
   "outputs": [
    {
     "output_type": "stream",
     "name": "stdout",
     "text": [
      "odict_keys(['conv1.weight', 'bn1.weight', 'bn1.bias', 'bn1.running_mean', 'bn1.running_var', 'bn1.num_batches_tracked', 'layer1.0.conv1.weight', 'layer1.0.bn1.weight', 'layer1.0.bn1.bias', 'layer1.0.bn1.running_mean', 'layer1.0.bn1.running_var', 'layer1.0.bn1.num_batches_tracked', 'layer1.0.conv2.weight', 'layer1.0.bn2.weight', 'layer1.0.bn2.bias', 'layer1.0.bn2.running_mean', 'layer1.0.bn2.running_var', 'layer1.0.bn2.num_batches_tracked', 'layer1.1.conv1.weight', 'layer1.1.bn1.weight', 'layer1.1.bn1.bias', 'layer1.1.bn1.running_mean', 'layer1.1.bn1.running_var', 'layer1.1.bn1.num_batches_tracked', 'layer1.1.conv2.weight', 'layer1.1.bn2.weight', 'layer1.1.bn2.bias', 'layer1.1.bn2.running_mean', 'layer1.1.bn2.running_var', 'layer1.1.bn2.num_batches_tracked', 'layer2.0.conv1.weight', 'layer2.0.bn1.weight', 'layer2.0.bn1.bias', 'layer2.0.bn1.running_mean', 'layer2.0.bn1.running_var', 'layer2.0.bn1.num_batches_tracked', 'layer2.0.conv2.weight', 'layer2.0.bn2.weight', 'layer2.0.bn2.bias', 'layer2.0.bn2.running_mean', 'layer2.0.bn2.running_var', 'layer2.0.bn2.num_batches_tracked', 'layer2.0.downsample.0.weight', 'layer2.0.downsample.1.weight', 'layer2.0.downsample.1.bias', 'layer2.0.downsample.1.running_mean', 'layer2.0.downsample.1.running_var', 'layer2.0.downsample.1.num_batches_tracked', 'layer2.1.conv1.weight', 'layer2.1.bn1.weight', 'layer2.1.bn1.bias', 'layer2.1.bn1.running_mean', 'layer2.1.bn1.running_var', 'layer2.1.bn1.num_batches_tracked', 'layer2.1.conv2.weight', 'layer2.1.bn2.weight', 'layer2.1.bn2.bias', 'layer2.1.bn2.running_mean', 'layer2.1.bn2.running_var', 'layer2.1.bn2.num_batches_tracked', 'layer3.0.conv1.weight', 'layer3.0.bn1.weight', 'layer3.0.bn1.bias', 'layer3.0.bn1.running_mean', 'layer3.0.bn1.running_var', 'layer3.0.bn1.num_batches_tracked', 'layer3.0.conv2.weight', 'layer3.0.bn2.weight', 'layer3.0.bn2.bias', 'layer3.0.bn2.running_mean', 'layer3.0.bn2.running_var', 'layer3.0.bn2.num_batches_tracked', 'layer3.0.downsample.0.weight', 'layer3.0.downsample.1.weight', 'layer3.0.downsample.1.bias', 'layer3.0.downsample.1.running_mean', 'layer3.0.downsample.1.running_var', 'layer3.0.downsample.1.num_batches_tracked', 'layer3.1.conv1.weight', 'layer3.1.bn1.weight', 'layer3.1.bn1.bias', 'layer3.1.bn1.running_mean', 'layer3.1.bn1.running_var', 'layer3.1.bn1.num_batches_tracked', 'layer3.1.conv2.weight', 'layer3.1.bn2.weight', 'layer3.1.bn2.bias', 'layer3.1.bn2.running_mean', 'layer3.1.bn2.running_var', 'layer3.1.bn2.num_batches_tracked', 'layer4.0.conv1.weight', 'layer4.0.bn1.weight', 'layer4.0.bn1.bias', 'layer4.0.bn1.running_mean', 'layer4.0.bn1.running_var', 'layer4.0.bn1.num_batches_tracked', 'layer4.0.conv2.weight', 'layer4.0.bn2.weight', 'layer4.0.bn2.bias', 'layer4.0.bn2.running_mean', 'layer4.0.bn2.running_var', 'layer4.0.bn2.num_batches_tracked', 'layer4.0.downsample.0.weight', 'layer4.0.downsample.1.weight', 'layer4.0.downsample.1.bias', 'layer4.0.downsample.1.running_mean', 'layer4.0.downsample.1.running_var', 'layer4.0.downsample.1.num_batches_tracked', 'layer4.1.conv1.weight', 'layer4.1.bn1.weight', 'layer4.1.bn1.bias', 'layer4.1.bn1.running_mean', 'layer4.1.bn1.running_var', 'layer4.1.bn1.num_batches_tracked', 'layer4.1.conv2.weight', 'layer4.1.bn2.weight', 'layer4.1.bn2.bias', 'layer4.1.bn2.running_mean', 'layer4.1.bn2.running_var', 'layer4.1.bn2.num_batches_tracked', 'fc.fc1.weight', 'fc.fc1.bias', 'fc.output.weight', 'fc.output.bias'])\n"
     ]
    }
   ],
   "source": [
    "state_dict = torch.load('checkpoint.pth')\n",
    "print(state_dict.keys())"
   ]
  },
  {
   "cell_type": "markdown",
   "metadata": {},
   "source": [
    "And to load the state dict in to the network, you do `model.load_state_dict(state_dict)`.\n"
   ]
  },
  {
   "cell_type": "code",
   "execution_count": 12,
   "metadata": {},
   "outputs": [
    {
     "output_type": "execute_result",
     "data": {
      "text/plain": [
       "<All keys matched successfully>"
      ]
     },
     "metadata": {},
     "execution_count": 12
    }
   ],
   "source": [
    "model.load_state_dict(state_dict)"
   ]
  },
  {
   "cell_type": "markdown",
   "metadata": {},
   "source": [
    "Oh, but what does it mean? \n",
    "\n",
    "First, that you need to have your model defined as the one that has been saved. In other words, if you save the `checkpoint.pth` and send it to your friend, your friend won't be able to use the model *unless* you tell her/him how the model has been defined, which layers it has, how they are called and so on.\n",
    "\n",
    "Is it useless then? No, on the contrary! Think that you're training a model, with 1000 epochs. It could take three days to do it. What if at the 999th epoch your *Airbnb host* shutdown the wi-fi connection? All your progress are lost! However, since your notebook have all the model defined, you can save the checkpoints every $n$ iterations or *when the validation accuracy improves*.\n",
    "\n",
    "This is indeed a common practice: everytime you test your model on the validation set, you can check if the validation accuracy is higher then the one that you have saved already and save the new checkpoints! I recommend to check this out: https://wandb.ai/site\n",
    "\n",
    "What if you try loading the checkpoints with a model that doesn't match?\n"
   ]
  },
  {
   "cell_type": "code",
   "execution_count": 13,
   "metadata": {},
   "outputs": [
    {
     "output_type": "error",
     "ename": "ModuleNotFoundError",
     "evalue": "No module named 'fc_model'",
     "traceback": [
      "\u001b[0;31m---------------------------------------------------------------------------\u001b[0m",
      "\u001b[0;31mModuleNotFoundError\u001b[0m                       Traceback (most recent call last)",
      "\u001b[0;32m<ipython-input-13-bedfc2322199>\u001b[0m in \u001b[0;36m<module>\u001b[0;34m\u001b[0m\n\u001b[1;32m      1\u001b[0m \u001b[0;31m# Try this\u001b[0m\u001b[0;34m\u001b[0m\u001b[0;34m\u001b[0m\u001b[0;34m\u001b[0m\u001b[0m\n\u001b[0;32m----> 2\u001b[0;31m \u001b[0;32mimport\u001b[0m \u001b[0mfc_model\u001b[0m\u001b[0;34m\u001b[0m\u001b[0;34m\u001b[0m\u001b[0m\n\u001b[0m\u001b[1;32m      3\u001b[0m \u001b[0mmodel\u001b[0m \u001b[0;34m=\u001b[0m \u001b[0mfc_model\u001b[0m\u001b[0;34m.\u001b[0m\u001b[0mNetwork\u001b[0m\u001b[0;34m(\u001b[0m\u001b[0;36m784\u001b[0m\u001b[0;34m,\u001b[0m \u001b[0;36m10\u001b[0m\u001b[0;34m,\u001b[0m \u001b[0;34m[\u001b[0m\u001b[0;36m400\u001b[0m\u001b[0;34m,\u001b[0m \u001b[0;36m200\u001b[0m\u001b[0;34m,\u001b[0m \u001b[0;36m100\u001b[0m\u001b[0;34m]\u001b[0m\u001b[0;34m)\u001b[0m\u001b[0;34m\u001b[0m\u001b[0;34m\u001b[0m\u001b[0m\n\u001b[1;32m      4\u001b[0m \u001b[0;31m# This will throw an error because the tensor sizes are wrong!\u001b[0m\u001b[0;34m\u001b[0m\u001b[0;34m\u001b[0m\u001b[0;34m\u001b[0m\u001b[0m\n\u001b[1;32m      5\u001b[0m \u001b[0mmodel\u001b[0m\u001b[0;34m.\u001b[0m\u001b[0mload_state_dict\u001b[0m\u001b[0;34m(\u001b[0m\u001b[0mstate_dict\u001b[0m\u001b[0;34m)\u001b[0m\u001b[0;34m\u001b[0m\u001b[0;34m\u001b[0m\u001b[0m\n",
      "\u001b[0;31mModuleNotFoundError\u001b[0m: No module named 'fc_model'"
     ]
    }
   ],
   "source": [
    "# Try this\n",
    "import fc_model\n",
    "model = fc_model.Network(784, 10, [400, 200, 100])\n",
    "# This will throw an error because the tensor sizes are wrong!\n",
    "model.load_state_dict(state_dict)"
   ]
  },
  {
   "cell_type": "markdown",
   "metadata": {},
   "source": [
    "It was intended to get an error, don't worry. I know that is always scary to see the red message, and your debug mode has already been triggered, but put it aside.\n",
    "\n",
    ">**Exercise**: Save the checkpoints of your model after 5 epochs of training. Load them back and continue the training for how many epochs you want."
   ]
  },
  {
   "cell_type": "code",
   "execution_count": null,
   "metadata": {},
   "outputs": [],
   "source": []
  }
 ],
 "metadata": {
  "kernelspec": {
   "name": "python395jvsc74a57bd05d8eb55396b26e444e25830983e23d02f9d742a022e83389ffb69c4e4a8d7f54",
   "display_name": "Python 3.9.5 64-bit ('deep_learning': conda)"
  },
  "language_info": {
   "codemirror_mode": {
    "name": "ipython",
    "version": 3
   },
   "file_extension": ".py",
   "mimetype": "text/x-python",
   "name": "python",
   "nbconvert_exporter": "python",
   "pygments_lexer": "ipython3",
   "version": "3.9.5"
  },
  "metadata": {
   "interpreter": {
    "hash": "5d8eb55396b26e444e25830983e23d02f9d742a022e83389ffb69c4e4a8d7f54"
   }
  }
 },
 "nbformat": 4,
 "nbformat_minor": 2
}