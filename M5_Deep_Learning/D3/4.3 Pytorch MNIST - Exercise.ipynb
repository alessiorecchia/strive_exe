{
 "cells": [
  {
   "cell_type": "markdown",
   "metadata": {},
   "source": [
    "<div style=\"background:#222222; color:#ffffff; padding:20px\">\n",
    "    <h2 align=\"center\">Deep Learning Fundamentals</h2>\n",
    "    <h2 align=\"center\" style=\"color:#01ff84\">Multiclass Classification: MNIST</h2>\n",
    "<div>"
   ]
  },
  {
   "cell_type": "markdown",
   "metadata": {},
   "source": [
    "## Imports"
   ]
  },
  {
   "cell_type": "code",
   "execution_count": 1,
   "metadata": {
    "ExecuteTime": {
     "end_time": "2021-05-26T22:26:36.081105Z",
     "start_time": "2021-05-26T22:26:35.040138Z"
    }
   },
   "outputs": [],
   "source": [
    "%matplotlib inline\n",
    "%config InlineBackend.figure_format = 'retina'\n",
    "\n",
    "from collections import OrderedDict\n",
    "\n",
    "import numpy as np\n",
    "import matplotlib.pyplot as plt\n",
    "import time\n",
    "\n",
    "import torch\n",
    "from torch import nn\n",
    "from torch import optim\n",
    "import torch.nn.functional as F\n",
    "\n",
    "from torchvision import datasets, transforms"
   ]
  },
  {
   "cell_type": "markdown",
   "metadata": {},
   "source": [
    "## Auxliary plotting function"
   ]
  },
  {
   "cell_type": "code",
   "execution_count": 2,
   "metadata": {
    "ExecuteTime": {
     "end_time": "2021-05-26T22:26:37.473177Z",
     "start_time": "2021-05-26T22:26:37.465910Z"
    }
   },
   "outputs": [],
   "source": [
    "# https://discuss.pytorch.org/t/view-classify-in-module-helper/30279/6\n",
    "\n",
    "def view_classify(img, ps):\n",
    "\n",
    "    ps = ps.data.numpy().squeeze()\n",
    "\n",
    "    fig, (ax1, ax2) = plt.subplots(figsize=(6,9), ncols=2)\n",
    "    ax1.imshow(img.resize_(1, 28, 28).numpy().squeeze())\n",
    "    ax1.axis('off')\n",
    "    ax2.barh(np.arange(10), ps)\n",
    "    ax2.set_aspect(0.1)\n",
    "    ax2.set_yticks(np.arange(10))\n",
    "    ax2.set_yticklabels(np.arange(10))\n",
    "    ax2.set_title('Class Probability')\n",
    "    ax2.set_xlim(0, 1.1)"
   ]
  },
  {
   "cell_type": "markdown",
   "metadata": {},
   "source": [
    "# Load MNIST Dataset\n",
    "First up, we need to get our dataset. This is provided through the `torchvision` package. The code below will download the MNIST dataset, then create training and test datasets for us. Don't worry too much about the details here, you'll learn more about this later."
   ]
  },
  {
   "cell_type": "code",
   "execution_count": 3,
   "metadata": {
    "ExecuteTime": {
     "end_time": "2021-05-26T22:26:38.402766Z",
     "start_time": "2021-05-26T22:26:38.298968Z"
    }
   },
   "outputs": [],
   "source": [
    "# Define a transform to normalize the data (Preprocessing)\n",
    "transform = transforms.Compose([transforms.ToTensor(), transforms.Normalize((0.5,), (0.5,)) ])\n",
    "\n",
    "# Download and load the training data\n",
    "trainset    = datasets.MNIST('MNIST_data/', download=True, train=True, transform=transform)\n",
    "trainloader = torch.utils.data.DataLoader(trainset, batch_size=16, shuffle=True)\n",
    "\n",
    "# Download and load the test data\n",
    "testset    = datasets.MNIST('MNIST_data/', download=True, train=False, transform=transform)\n",
    "testloader = torch.utils.data.DataLoader(testset, batch_size=16, shuffle=True)"
   ]
  },
  {
   "cell_type": "code",
   "execution_count": 4,
   "metadata": {
    "ExecuteTime": {
     "end_time": "2021-05-26T22:26:38.632988Z",
     "start_time": "2021-05-26T22:26:38.477558Z"
    }
   },
   "outputs": [],
   "source": [
    "dataiter = iter(trainloader)\n",
    "images, labels = dataiter.next()"
   ]
  },
  {
   "cell_type": "markdown",
   "metadata": {},
   "source": [
    "We have the training data loaded into `trainloader` and we make that an iterator with `iter(trainloader)`. We'd use this to loop through the dataset for training, but here I'm just grabbing the first batch so we can check out the data. We can see below that `images` is just a tensor with size (64, 1, 28, 28). So, 64 images per batch, 1 color channel, and 28x28 images."
   ]
  },
  {
   "cell_type": "code",
   "execution_count": 5,
   "metadata": {
    "ExecuteTime": {
     "end_time": "2021-05-26T22:26:39.407000Z",
     "start_time": "2021-05-26T22:26:39.265256Z"
    }
   },
   "outputs": [
    {
     "output_type": "display_data",
     "data": {
      "text/plain": "<Figure size 432x288 with 1 Axes>",
      "image/png": "[encoded data removed]"
     },
     "metadata": {
      "image/png": {
       "width": 251,
       "height": 248
      },
      "needs_background": "light"
     }
    }
   ],
   "source": [
    "plt.imshow(images[1].numpy().squeeze(), cmap='Greys_r');"
   ]
  },
  {
   "cell_type": "markdown",
   "metadata": {},
   "source": [
    "## Building networks with PyTorch\n",
    "\n",
    "Here I'll use PyTorch to build a simple feedfoward network to classify the MNIST images. That is, the network will receive a digit image as input and predict the digit in the image.\n",
    "\n",
    "<img src=\"assets/mlp_mnist.png\" width=600px>\n",
    "\n",
    "To build a neural network with PyTorch, you use the `torch.nn` module. The network itself is a class inheriting from `torch.nn.Module`. You define each of the operations separately, like `nn.Linear(784, 128)` for a fully connected linear layer with 784 inputs and 128 units.\n",
    "\n",
    "The class needs to include a `forward` method that implements the forward pass through the network. In this method, you pass some input tensor `x` through each of the operations you defined earlier. The `torch.nn` module also has functional equivalents for things like ReLUs in `torch.nn.functional`. This module is usually imported as `F`. Then to use a ReLU activation on some layer (which is just a tensor), you'd do `F.relu(x)`. Below are a few different commonly used activation functions.\n",
    "\n",
    "<img src=\"assets/activation.png\" width=700px>\n",
    "\n",
    "So, for this network, I'll build it with three fully connected layers, then a softmax output for predicting classes. The softmax function is similar to the sigmoid in that it squashes inputs between 0 and 1, but it's also normalized so that all the values sum to one like a proper probability distribution."
   ]
  },
  {
   "cell_type": "code",
   "execution_count": 6,
   "metadata": {
    "ExecuteTime": {
     "end_time": "2021-05-26T22:26:39.961531Z",
     "start_time": "2021-05-26T22:26:39.946776Z"
    }
   },
   "outputs": [
    {
     "output_type": "execute_result",
     "data": {
      "text/plain": [
       "Network(\n",
       "  (fc1): Linear(in_features=784, out_features=32, bias=True)\n",
       "  (fc2): Linear(in_features=32, out_features=16, bias=True)\n",
       "  (fc3): Linear(in_features=16, out_features=10, bias=True)\n",
       ")"
      ]
     },
     "metadata": {},
     "execution_count": 6
    }
   ],
   "source": [
    "class Network(nn.Module):\n",
    "    \n",
    "    # Defining the layers, 128, 64, 10 units each\n",
    "    def __init__(self):\n",
    "        super().__init__()\n",
    "        self.fc1 = nn.Linear(784, 32)\n",
    "        self.fc2 = nn.Linear(32, 16)\n",
    "        self.fc3 = nn.Linear(16, 10)\n",
    "        \n",
    "    # Forward pass through the network, returns the output logits\n",
    "    def forward(self, x):\n",
    "        x = self.fc1(x)\n",
    "        x = F.relu(x)\n",
    "        x = self.fc2(x)\n",
    "        x = F.relu(x)\n",
    "        x = self.fc3(x)\n",
    "        x = F.softmax(x, dim=1)\n",
    "        return x\n",
    "\n",
    "model = Network()\n",
    "model"
   ]
  },
  {
   "cell_type": "markdown",
   "metadata": {},
   "source": [
    "Why the input features are 784? Because the input images have size 28 pixels x 28 pixels for a total of 784 features. Since a Multilayer perceptron accepts only flatten inputs, we need to flatten a 28x28 grid into a 784 array."
   ]
  },
  {
   "cell_type": "markdown",
   "metadata": {},
   "source": [
    "### Sequential API\n",
    "PyTorch provides a convenient way to build networks like this where a tensor is passed sequentially through operations, `nn.Sequential` ([documentation](https://pytorch.org/docs/master/nn.html#torch.nn.Sequential)). Using this to build the equivalent network:"
   ]
  },
  {
   "cell_type": "code",
   "execution_count": 7,
   "metadata": {
    "ExecuteTime": {
     "end_time": "2021-05-26T22:26:41.213448Z",
     "start_time": "2021-05-26T22:26:41.205216Z"
    }
   },
   "outputs": [
    {
     "output_type": "stream",
     "name": "stdout",
     "text": [
      "Sequential(\n  (0): Linear(in_features=784, out_features=4, bias=True)\n  (1): ReLU()\n  (2): Linear(in_features=4, out_features=4, bias=True)\n  (3): ReLU()\n  (4): Linear(in_features=4, out_features=10, bias=True)\n  (5): Softmax(dim=1)\n)\n"
     ]
    }
   ],
   "source": [
    "# Hyperparameters for our network\n",
    "input_size   = 784\n",
    "hidden_sizes = [4, 4]\n",
    "output_size   = 10\n",
    "\n",
    "# Build a feed-forward network\n",
    "model = nn.Sequential(nn.Linear(input_size, hidden_sizes[0]),\n",
    "                      nn.ReLU(),\n",
    "                      nn.Linear(hidden_sizes[0], hidden_sizes[1]),\n",
    "                      nn.ReLU(),\n",
    "                      nn.Linear(hidden_sizes[1], output_size),\n",
    "                      nn.Softmax(dim=1))\n",
    "print(model)"
   ]
  },
  {
   "cell_type": "markdown",
   "metadata": {},
   "source": [
    "You can also pass in an `OrderedDict` to name the individual layers and operations. Note that a dictionary keys must be unique, so _each operation must have a different name_."
   ]
  },
  {
   "cell_type": "code",
   "execution_count": 8,
   "metadata": {
    "ExecuteTime": {
     "end_time": "2021-05-26T22:26:42.300216Z",
     "start_time": "2021-05-26T22:26:42.289009Z"
    }
   },
   "outputs": [
    {
     "output_type": "execute_result",
     "data": {
      "text/plain": [
       "Sequential(\n",
       "  (fc1): Linear(in_features=784, out_features=4, bias=True)\n",
       "  (relu1): ReLU()\n",
       "  (fc2): Linear(in_features=4, out_features=4, bias=True)\n",
       "  (relu2): ReLU()\n",
       "  (output): Linear(in_features=4, out_features=10, bias=True)\n",
       "  (softmax): Softmax(dim=1)\n",
       ")"
      ]
     },
     "metadata": {},
     "execution_count": 8
    }
   ],
   "source": [
    "model = nn.Sequential(OrderedDict([\n",
    "          ('fc1',   nn.Linear(input_size, hidden_sizes[0])),\n",
    "          ('relu1', nn.ReLU()),\n",
    "          ('fc2',   nn.Linear(hidden_sizes[0], hidden_sizes[1])),\n",
    "          ('relu2', nn.ReLU()),\n",
    "          ('output', nn.Linear(hidden_sizes[1], output_size)),\n",
    "          ('softmax', nn.Softmax(dim=1))]))\n",
    "model"
   ]
  },
  {
   "cell_type": "markdown",
   "metadata": {},
   "source": [
    "### Initializing weights and biases\n",
    "\n",
    "The weights and such are automatically initialized for you, but it's possible to customize how they are initialized. The weights and biases are tensors attached to the layer you defined, you can get them with `model.fc1.weight` for instance."
   ]
  },
  {
   "cell_type": "code",
   "execution_count": 9,
   "metadata": {
    "ExecuteTime": {
     "end_time": "2021-05-26T22:26:42.972699Z",
     "start_time": "2021-05-26T22:26:42.963913Z"
    }
   },
   "outputs": [
    {
     "output_type": "stream",
     "name": "stdout",
     "text": [
      "Parameter containing:\ntensor([[-0.0114, -0.0202, -0.0168,  ..., -0.0110,  0.0124, -0.0217],\n        [ 0.0202,  0.0298, -0.0162,  ...,  0.0041,  0.0299, -0.0251],\n        [-0.0329, -0.0285,  0.0260,  ...,  0.0167,  0.0040, -0.0192],\n        [-0.0281,  0.0287, -0.0321,  ..., -0.0054, -0.0290, -0.0305]],\n       requires_grad=True)\nParameter containing:\ntensor([0.0293, 0.0064, 0.0017, 0.0029], requires_grad=True)\n"
     ]
    }
   ],
   "source": [
    "print(model.fc1.weight)\n",
    "print(model.fc1.bias)"
   ]
  },
  {
   "cell_type": "markdown",
   "metadata": {},
   "source": [
    "For custom initialization, we want to modify these tensors in place. These are actually autograd *Variables*, so we need to get back the actual tensors with `model.fc1.weight.data`. Once we have the tensors, we can fill them with zeros (for biases) or random normal values."
   ]
  },
  {
   "cell_type": "code",
   "execution_count": 10,
   "metadata": {
    "ExecuteTime": {
     "end_time": "2021-05-26T22:26:43.889729Z",
     "start_time": "2021-05-26T22:26:43.883940Z"
    }
   },
   "outputs": [
    {
     "output_type": "execute_result",
     "data": {
      "text/plain": [
       "tensor([0., 0., 0., 0.])"
      ]
     },
     "metadata": {},
     "execution_count": 10
    }
   ],
   "source": [
    "# Set biases to all zeros\n",
    "model.fc1.bias.data.fill_(0)"
   ]
  },
  {
   "cell_type": "code",
   "execution_count": 11,
   "metadata": {
    "ExecuteTime": {
     "end_time": "2021-05-26T22:26:44.084097Z",
     "start_time": "2021-05-26T22:26:44.076738Z"
    }
   },
   "outputs": [
    {
     "output_type": "execute_result",
     "data": {
      "text/plain": [
       "tensor([[-0.0039, -0.0078,  0.0157,  ...,  0.0035,  0.0040,  0.0073],\n",
       "        [ 0.0003,  0.0126,  0.0027,  ...,  0.0068,  0.0208, -0.0007],\n",
       "        [ 0.0068, -0.0080,  0.0131,  ...,  0.0054, -0.0018, -0.0042],\n",
       "        [-0.0080, -0.0017, -0.0007,  ..., -0.0011, -0.0031,  0.0186]])"
      ]
     },
     "metadata": {},
     "execution_count": 11
    }
   ],
   "source": [
    "# sample from random normal with standard dev = 0.01\n",
    "model.fc1.weight.data.normal_(std=0.01)"
   ]
  },
  {
   "cell_type": "markdown",
   "metadata": {},
   "source": [
    "### STEP 1: Forward pass\n",
    "\n",
    "Now that we have a network, let's see what happens when we pass in an image. This is called the forward pass. We're going to convert the image data into a tensor, then pass it through the operations defined by the network architecture."
   ]
  },
  {
   "cell_type": "code",
   "execution_count": 12,
   "metadata": {
    "ExecuteTime": {
     "end_time": "2021-05-26T22:26:44.506324Z",
     "start_time": "2021-05-26T22:26:44.491847Z"
    }
   },
   "outputs": [],
   "source": [
    "# Grab some data \n",
    "dataiter = iter(trainloader)\n",
    "images, labels = dataiter.next()"
   ]
  },
  {
   "cell_type": "code",
   "execution_count": 13,
   "metadata": {
    "ExecuteTime": {
     "end_time": "2021-05-26T22:26:44.596541Z",
     "start_time": "2021-05-26T22:26:44.594169Z"
    }
   },
   "outputs": [
    {
     "output_type": "execute_result",
     "data": {
      "text/plain": [
       "torch.Size([16, 1, 28, 28])"
      ]
     },
     "metadata": {},
     "execution_count": 13
    }
   ],
   "source": [
    "images.shape"
   ]
  },
  {
   "cell_type": "code",
   "execution_count": 14,
   "metadata": {
    "ExecuteTime": {
     "end_time": "2021-05-26T22:26:44.851894Z",
     "start_time": "2021-05-26T22:26:44.845888Z"
    }
   },
   "outputs": [
    {
     "output_type": "execute_result",
     "data": {
      "text/plain": [
       "Sequential(\n",
       "  (fc1): Linear(in_features=784, out_features=4, bias=True)\n",
       "  (relu1): ReLU()\n",
       "  (fc2): Linear(in_features=4, out_features=4, bias=True)\n",
       "  (relu2): ReLU()\n",
       "  (output): Linear(in_features=4, out_features=10, bias=True)\n",
       "  (softmax): Softmax(dim=1)\n",
       ")"
      ]
     },
     "metadata": {},
     "execution_count": 14
    }
   ],
   "source": [
    "model"
   ]
  },
  {
   "cell_type": "code",
   "execution_count": 15,
   "metadata": {
    "ExecuteTime": {
     "end_time": "2021-05-26T22:26:46.121246Z",
     "start_time": "2021-05-26T22:26:46.112022Z"
    }
   },
   "outputs": [
    {
     "output_type": "execute_result",
     "data": {
      "text/plain": [
       "tensor([[[-1., -1., -1.,  ..., -1., -1., -1.]],\n",
       "\n",
       "        [[-1., -1., -1.,  ..., -1., -1., -1.]],\n",
       "\n",
       "        [[-1., -1., -1.,  ..., -1., -1., -1.]],\n",
       "\n",
       "        ...,\n",
       "\n",
       "        [[-1., -1., -1.,  ..., -1., -1., -1.]],\n",
       "\n",
       "        [[-1., -1., -1.,  ..., -1., -1., -1.]],\n",
       "\n",
       "        [[-1., -1., -1.,  ..., -1., -1., -1.]]])"
      ]
     },
     "metadata": {},
     "execution_count": 15
    }
   ],
   "source": [
    "# Resize images into a 1D vector, new shape is (batch size, color channels, image pixels) \n",
    "images.resize_(images.shape[0], 1, 784)\n",
    "# or images.resize_(images.shape[0], 1, 784) to not automatically get batch size"
   ]
  },
  {
   "cell_type": "code",
   "execution_count": 16,
   "metadata": {
    "ExecuteTime": {
     "end_time": "2021-05-26T22:26:46.519895Z",
     "start_time": "2021-05-26T22:26:46.514137Z"
    }
   },
   "outputs": [
    {
     "output_type": "execute_result",
     "data": {
      "text/plain": [
       "torch.Size([1, 784])"
      ]
     },
     "metadata": {},
     "execution_count": 16
    }
   ],
   "source": [
    "img_idx = 0\n",
    "images[img_idx,:].shape"
   ]
  },
  {
   "cell_type": "code",
   "execution_count": 17,
   "metadata": {
    "ExecuteTime": {
     "end_time": "2021-05-26T22:26:47.945952Z",
     "start_time": "2021-05-26T22:26:47.888846Z"
    }
   },
   "outputs": [],
   "source": [
    "# Forward pass through the network\n",
    "img_idx = 0\n",
    "ps = model(images[img_idx,:])"
   ]
  },
  {
   "cell_type": "code",
   "execution_count": 18,
   "metadata": {
    "ExecuteTime": {
     "end_time": "2021-05-26T22:26:50.561845Z",
     "start_time": "2021-05-26T22:26:50.411449Z"
    }
   },
   "outputs": [
    {
     "output_type": "display_data",
     "data": {
      "text/plain": "<Figure size 432x648 with 2 Axes>",
      "image/png": "[encoded data removed]"
     },
     "metadata": {
      "image/png": {
       "width": 349,
       "height": 195
      },
      "needs_background": "light"
     }
    }
   ],
   "source": [
    "img = images[img_idx]\n",
    "view_classify(img.view(1, 28, 28), ps)"
   ]
  },
  {
   "cell_type": "markdown",
   "metadata": {},
   "source": [
    "As you can see above, our network has basically no idea what this digit is. It's because we haven't trained it yet, all the weights are random!"
   ]
  },
  {
   "cell_type": "markdown",
   "metadata": {},
   "source": [
    "# Training Neural Networks\n",
    "\n",
    "The network we built isn't so smart, it doesn't know anything about our handwritten digits. Neural networks with non-linear activations work like universal function approximators. There is some function that maps your input to the output. For example, images of handwritten digits to class probabilities. The power of neural networks is that we can train them to approximate this function, and basically any function given enough data and compute time.\n",
    "\n",
    "<img src=\"assets/function_approx.png\" width=500px>\n",
    "\n",
    "At first the network is naive, it doesn't know the function mapping the inputs to the outputs. We train the network by showing it examples of real data, then adjusting the network parameters such that it approximates this function.\n",
    "\n",
    "To find these parameters, we need to know how poorly the network is predicting the real outputs. For this we calculate a **loss function** (also called the cost), a measure of our prediction error. For example, the mean squared loss is often used in regression and binary classification problems\n",
    "\n",
    "$$\n",
    "\\ell = \\frac{1}{2n}\\sum_i^n{\\left(y_i - \\hat{y}_i\\right)^2}\n",
    "$$\n",
    "\n",
    "where $n$ is the number of training examples, $y_i$ are the true labels, and $\\hat{y}_i$ are the predicted labels.\n",
    "\n",
    "By minimizing this loss with respect to the network parameters, we can find configurations where the loss is at a minimum and the network is able to predict the correct labels with high accuracy. We find this minimum using a process called **gradient descent**. The gradient is the slope of the loss function and points in the direction of fastest change. To get to the minimum in the least amount of time, we then want to follow the gradient (downwards). You can think of this like descending a mountain by following the steepest slope to the base.\n",
    "\n",
    "<img src='assets/gradient_descent.png' width=350px>"
   ]
  },
  {
   "cell_type": "markdown",
   "metadata": {},
   "source": [
    "## Backpropagation\n",
    "\n",
    "For single layer networks, gradient descent is simple to implement. However, it's more complicated for deeper, multilayer neural networks like the one we've built. Complicated enough that it took about 30 years before researchers figured out how to train multilayer networks, although it's straightforward once you learn about it. \n",
    "\n",
    "This is done through **backpropagation** which is really just an application of the chain rule from calculus. It's easiest to understand if we convert a two layer network into a graph representation.\n",
    "\n",
    "<img src='assets/w1_backprop_graph.png' width=400px>\n",
    "\n",
    "In the forward pass through the network, our data and operations go from right to left here. To train the weights with gradient descent, we propagate the gradient of the cost backwards through the network. Mathematically, this is really just calculating the gradient of the loss with respect to the weights using the chain rule.\n",
    "\n",
    "$$\n",
    "\\frac{\\partial \\ell}{\\partial w_1} = \\frac{\\partial l_1}{\\partial w_1} \\frac{\\partial s}{\\partial l_1} \\frac{\\partial l_2}{\\partial s} \\frac{\\partial \\ell}{\\partial l_2}\n",
    "$$\n",
    "\n",
    "We update our weights using this gradient with some learning rate $\\alpha$. \n",
    "\n",
    "$$\n",
    "w^\\prime = w - \\alpha \\frac{\\partial \\ell}{\\partial w}\n",
    "$$\n",
    "\n",
    "The learning rate is set such that the weight update steps are small enough that the iterative method settles in a minimum.\n",
    "\n",
    "The first thing we need to do for training is define our loss function. In PyTorch, you'll usually see this as `criterion`. Here we're using softmax output, so we want to use `criterion = nn.CrossEntropyLoss()` as our loss. Later when training, you use `loss = criterion(output, targets)` to calculate the actual loss.\n",
    "\n",
    "We also need to define the optimizer we're using, SGD or Adam, or something along those lines. Here I'll just use SGD with `torch.optim.SGD`, passing in the network parameters and the learning rate."
   ]
  },
  {
   "cell_type": "markdown",
   "metadata": {},
   "source": [
    "## Autograd\n",
    "\n",
    "Torch provides a module, `autograd`, for automatically calculating the gradient of tensors. It does this by keeping track of operations performed on tensors. To make sure PyTorch keeps track of operations on a tensor and calculates the gradients, you need to set `requires_grad` on a tensor. You can do this at creation with the `requires_grad` keyword, or at any time with `x.requires_grad_(True)`.\n",
    "\n",
    "You can turn off gradients for a block of code with the `torch.no_grad()` content:\n",
    "```python\n",
    "x = torch.zeros(1, requires_grad=True)\n",
    ">>> with torch.no_grad():\n",
    "...     y = x * 2\n",
    ">>> y.requires_grad\n",
    "False\n",
    "```\n",
    "\n",
    "Also, you can turn on or off gradients altogether with `torch.set_grad_enabled(True|False)`.\n",
    "\n",
    "The gradients are computed with respect to some variable `z` with `z.backward()`. This does a backward pass through the operations that created `z`."
   ]
  },
  {
   "cell_type": "code",
   "execution_count": 19,
   "metadata": {
    "ExecuteTime": {
     "end_time": "2021-05-26T22:26:52.867509Z",
     "start_time": "2021-05-26T22:26:52.860629Z"
    }
   },
   "outputs": [
    {
     "output_type": "stream",
     "name": "stdout",
     "text": [
      "tensor([[ 2.3745, -0.4129],\n        [-0.1983, -0.6832]], requires_grad=True)\n"
     ]
    }
   ],
   "source": [
    "x = torch.randn(2,2, requires_grad=True)\n",
    "print(x)"
   ]
  },
  {
   "cell_type": "code",
   "execution_count": 20,
   "metadata": {
    "ExecuteTime": {
     "end_time": "2021-05-26T22:26:53.383436Z",
     "start_time": "2021-05-26T22:26:53.375536Z"
    }
   },
   "outputs": [
    {
     "output_type": "stream",
     "name": "stdout",
     "text": [
      "tensor([[5.6380, 0.1705],\n        [0.0393, 0.4668]], grad_fn=<PowBackward0>)\n"
     ]
    }
   ],
   "source": [
    "y = x**2\n",
    "print(y)"
   ]
  },
  {
   "cell_type": "markdown",
   "metadata": {},
   "source": [
    "Below we can see the operation that created `y`, a power operation `PowBackward0`."
   ]
  },
  {
   "cell_type": "code",
   "execution_count": 21,
   "metadata": {
    "ExecuteTime": {
     "end_time": "2021-05-26T22:26:53.870654Z",
     "start_time": "2021-05-26T22:26:53.867424Z"
    }
   },
   "outputs": [
    {
     "output_type": "stream",
     "name": "stdout",
     "text": [
      "<PowBackward0 object at 0x7f7fe1cc13a0>\n"
     ]
    }
   ],
   "source": [
    "## grad_fn shows the function that generated this variable\n",
    "print(y.grad_fn)"
   ]
  },
  {
   "cell_type": "markdown",
   "metadata": {},
   "source": [
    "The autgrad module keeps track of these operations and knows how to calculate the gradient for each one. In this way, it's able to calculate the gradients for a chain of operations, with respect to any one tensor. Let's reduce the tensor `y` to a scalar value, the mean."
   ]
  },
  {
   "cell_type": "code",
   "execution_count": 22,
   "metadata": {
    "ExecuteTime": {
     "end_time": "2021-05-26T22:26:54.831912Z",
     "start_time": "2021-05-26T22:26:54.824631Z"
    }
   },
   "outputs": [
    {
     "output_type": "stream",
     "name": "stdout",
     "text": [
      "tensor(1.5787, grad_fn=<MeanBackward0>)\n"
     ]
    }
   ],
   "source": [
    "z = y.mean()\n",
    "print(z)"
   ]
  },
  {
   "cell_type": "markdown",
   "metadata": {},
   "source": [
    "You can check the gradients for `x` and `y` but they are empty currently."
   ]
  },
  {
   "cell_type": "code",
   "execution_count": 23,
   "metadata": {
    "ExecuteTime": {
     "end_time": "2021-05-26T22:26:55.546143Z",
     "start_time": "2021-05-26T22:26:55.541213Z"
    }
   },
   "outputs": [
    {
     "output_type": "stream",
     "name": "stdout",
     "text": [
      "None\n"
     ]
    }
   ],
   "source": [
    "print(x.grad)"
   ]
  },
  {
   "cell_type": "markdown",
   "metadata": {},
   "source": [
    "To calculate the gradients, you need to run the `.backward` method on a Variable, `z` for example. This will calculate the gradient for `z` with respect to `x`\n",
    "\n",
    "$$\n",
    "\\frac{\\partial z}{\\partial x} = \\frac{\\partial}{\\partial x}\\left[\\frac{1}{n}\\sum_i^n x_i^2\\right] = \\frac{x}{2}\n",
    "$$"
   ]
  },
  {
   "cell_type": "code",
   "execution_count": 24,
   "metadata": {
    "ExecuteTime": {
     "end_time": "2021-05-26T22:26:56.607560Z",
     "start_time": "2021-05-26T22:26:56.594993Z"
    }
   },
   "outputs": [
    {
     "output_type": "stream",
     "name": "stdout",
     "text": [
      "tensor([[ 1.1872, -0.2065],\n        [-0.0992, -0.3416]])\ntensor([[ 1.1872, -0.2065],\n        [-0.0992, -0.3416]], grad_fn=<DivBackward0>)\n"
     ]
    }
   ],
   "source": [
    "z.backward()\n",
    "print(x.grad)\n",
    "print(x/2)"
   ]
  },
  {
   "cell_type": "markdown",
   "metadata": {},
   "source": [
    "These gradients calculations are particularly useful for neural networks. For training we need the gradients of the weights with respect to the cost. With PyTorch, we run data forward through the network to calculate the cost, then, go backwards to calculate the gradients with respect to the cost. Once we have the gradients we can make a gradient descent step. "
   ]
  },
  {
   "cell_type": "markdown",
   "metadata": {},
   "source": [
    "I'll build a network with `nn.Sequential` here. Only difference from the last part is I'm not actually using softmax on the output, but instead just using the raw output from the last layer. This is because the output from softmax is a probability distribution. Often, the output will have values really close to zero or really close to one. Due to [inaccuracies with representing numbers as floating points](https://docs.python.org/3/tutorial/floatingpoint.html), computations with a softmax output can lose accuracy and become unstable. To get around this, we'll use the raw output, called the **logits**, to calculate the loss."
   ]
  },
  {
   "cell_type": "code",
   "execution_count": 25,
   "metadata": {
    "ExecuteTime": {
     "end_time": "2021-05-26T22:26:56.944759Z",
     "start_time": "2021-05-26T22:26:56.936939Z"
    }
   },
   "outputs": [],
   "source": [
    "# Hyperparameters for our network\n",
    "input_size   = 784\n",
    "hidden_sizes = [128, 64]\n",
    "output_size  = 10\n",
    "\n",
    "# Build a feed-forward network\n",
    "model = nn.Sequential(OrderedDict([\n",
    "          ('fc1', nn.Linear(input_size, hidden_sizes[0])),\n",
    "          ('relu1', nn.ReLU()),\n",
    "          ('fc2', nn.Linear(hidden_sizes[0], hidden_sizes[1])),\n",
    "          ('relu2', nn.ReLU()),\n",
    "          ('logits', nn.Linear(hidden_sizes[1], output_size))]))"
   ]
  },
  {
   "cell_type": "markdown",
   "metadata": {},
   "source": [
    "## Training the network!\n",
    "\n",
    "The first thing we need to do for training is define our loss function. In PyTorch, you'll usually see this as `criterion`. Here we're using softmax output, so we want to use `criterion = nn.CrossEntropyLoss()` as our loss. Later when training, you use `loss = criterion(output, targets)` to calculate the actual loss.\n",
    "\n",
    "We also need to define the optimizer we're using, SGD or Adam, or something along those lines. Here I'll just use SGD with `torch.optim.SGD`, passing in the network parameters and the learning rate."
   ]
  },
  {
   "cell_type": "code",
   "execution_count": 26,
   "metadata": {
    "ExecuteTime": {
     "end_time": "2021-05-26T22:26:57.317614Z",
     "start_time": "2021-05-26T22:26:57.313022Z"
    }
   },
   "outputs": [],
   "source": [
    "criterion = nn.CrossEntropyLoss()\n",
    "optimizer = optim.SGD(model.parameters(), lr=0.01)"
   ]
  },
  {
   "cell_type": "markdown",
   "metadata": {},
   "source": [
    "First, let's consider just one learning step before looping through all the data. The general process with PyTorch:\n",
    "\n",
    "* Make a forward pass through the network to get the logits \n",
    "* Use the logits to calculate the loss\n",
    "* Perform a backward pass through the network with `loss.backward()` to calculate the gradients\n",
    "* Take a step with the optimizer to update the weights\n",
    "\n",
    "Below I'll go through one training step and print out the weights and gradients so you can see how it changes."
   ]
  },
  {
   "cell_type": "code",
   "execution_count": 27,
   "metadata": {
    "ExecuteTime": {
     "end_time": "2021-05-26T22:27:07.408433Z",
     "start_time": "2021-05-26T22:27:07.373358Z"
    }
   },
   "outputs": [
    {
     "output_type": "stream",
     "name": "stdout",
     "text": [
      "Initial weights -  Parameter containing:\ntensor([[-0.0343,  0.0059, -0.0057,  ..., -0.0099,  0.0186,  0.0183],\n        [ 0.0207, -0.0218,  0.0093,  ..., -0.0075,  0.0035, -0.0143],\n        [ 0.0116,  0.0060, -0.0121,  ..., -0.0199, -0.0264, -0.0135],\n        ...,\n        [-0.0151,  0.0120, -0.0035,  ..., -0.0038, -0.0102, -0.0176],\n        [ 0.0223, -0.0168, -0.0147,  ...,  0.0052,  0.0273,  0.0042],\n        [-0.0157,  0.0302, -0.0295,  ...,  0.0151,  0.0284, -0.0260]],\n       requires_grad=True)\nGradient - tensor([[ 0.0009,  0.0009,  0.0009,  ...,  0.0009,  0.0009,  0.0009],\n        [ 0.0000,  0.0000,  0.0000,  ...,  0.0000,  0.0000,  0.0000],\n        [ 0.0009,  0.0009,  0.0009,  ...,  0.0009,  0.0009,  0.0009],\n        ...,\n        [ 0.0012,  0.0012,  0.0012,  ...,  0.0012,  0.0012,  0.0012],\n        [-0.0014, -0.0014, -0.0014,  ..., -0.0014, -0.0014, -0.0014],\n        [-0.0087, -0.0087, -0.0087,  ..., -0.0087, -0.0087, -0.0087]])\n"
     ]
    }
   ],
   "source": [
    "print('Initial weights - ', model.fc1.weight)\n",
    "\n",
    "images, labels = next(iter(trainloader))\n",
    "images.resize_(trainloader.batch_size, 784)\n",
    "\n",
    "# Clear the gradients, do this because gradients are accumulated\n",
    "optimizer.zero_grad()\n",
    "\n",
    "# Forward pass, then backward pass, then update weights\n",
    "output = model.forward(images)\n",
    "loss = criterion(output, labels)\n",
    "loss.backward()\n",
    "print('Gradient -', model.fc1.weight.grad)\n",
    "optimizer.step()"
   ]
  },
  {
   "cell_type": "code",
   "execution_count": 28,
   "metadata": {
    "ExecuteTime": {
     "end_time": "2021-05-26T22:27:07.915247Z",
     "start_time": "2021-05-26T22:27:07.908155Z"
    }
   },
   "outputs": [
    {
     "output_type": "stream",
     "name": "stdout",
     "text": [
      "Updated weights -  Parameter containing:\ntensor([[-0.0343,  0.0059, -0.0057,  ..., -0.0100,  0.0186,  0.0183],\n        [ 0.0207, -0.0218,  0.0093,  ..., -0.0075,  0.0035, -0.0143],\n        [ 0.0116,  0.0060, -0.0121,  ..., -0.0200, -0.0264, -0.0136],\n        ...,\n        [-0.0151,  0.0120, -0.0036,  ..., -0.0038, -0.0102, -0.0177],\n        [ 0.0223, -0.0168, -0.0146,  ...,  0.0052,  0.0274,  0.0042],\n        [-0.0157,  0.0303, -0.0294,  ...,  0.0152,  0.0285, -0.0259]],\n       requires_grad=True)\n"
     ]
    }
   ],
   "source": [
    "print('Updated weights - ', model.fc1.weight)"
   ]
  },
  {
   "cell_type": "markdown",
   "metadata": {},
   "source": [
    "### Training for real\n",
    "\n",
    "Now we'll put this algorithm into a loop so we can go through all the images. This is fairly straightforward. We'll loop through the mini-batches in our dataset, pass the data through the network to calculate the losses, get the gradients, then run the optimizer."
   ]
  },
  {
   "cell_type": "code",
   "execution_count": 29,
   "metadata": {
    "ExecuteTime": {
     "end_time": "2021-05-26T22:27:08.816179Z",
     "start_time": "2021-05-26T22:27:08.812807Z"
    }
   },
   "outputs": [],
   "source": [
    "optimizer = optim.SGD(model.parameters(), lr=0.003)"
   ]
  },
  {
   "cell_type": "code",
   "execution_count": 30,
   "metadata": {
    "ExecuteTime": {
     "end_time": "2021-05-26T22:27:36.083537Z",
     "start_time": "2021-05-26T22:27:09.280769Z"
    }
   },
   "outputs": [
    {
     "output_type": "stream",
     "name": "stdout",
     "text": [
      "Epoch: 1/3\n",
      "\tIteration: 0\t Loss: 0.0569\n",
      "\tIteration: 40\t Loss: 2.2960\n",
      "\tIteration: 80\t Loss: 2.2779\n",
      "\tIteration: 120\t Loss: 2.2552\n",
      "\tIteration: 160\t Loss: 2.2415\n",
      "\tIteration: 200\t Loss: 2.2215\n",
      "\tIteration: 240\t Loss: 2.1935\n",
      "\tIteration: 280\t Loss: 2.1661\n",
      "\tIteration: 320\t Loss: 2.1534\n",
      "\tIteration: 360\t Loss: 2.1146\n",
      "\tIteration: 400\t Loss: 2.0878\n",
      "\tIteration: 440\t Loss: 2.0512\n",
      "\tIteration: 480\t Loss: 1.9911\n",
      "\tIteration: 520\t Loss: 1.9362\n",
      "\tIteration: 560\t Loss: 1.8875\n",
      "\tIteration: 600\t Loss: 1.8478\n",
      "\tIteration: 640\t Loss: 1.7953\n",
      "\tIteration: 680\t Loss: 1.7100\n",
      "\tIteration: 720\t Loss: 1.6677\n",
      "\tIteration: 760\t Loss: 1.6005\n",
      "\tIteration: 800\t Loss: 1.5258\n",
      "\tIteration: 840\t Loss: 1.4529\n",
      "\tIteration: 880\t Loss: 1.3806\n",
      "\tIteration: 920\t Loss: 1.2959\n",
      "\tIteration: 960\t Loss: 1.3081\n",
      "\tIteration: 1000\t Loss: 1.2583\n",
      "\tIteration: 1040\t Loss: 1.1695\n",
      "\tIteration: 1080\t Loss: 1.0923\n",
      "\tIteration: 1120\t Loss: 1.1146\n",
      "\tIteration: 1160\t Loss: 1.0587\n",
      "\tIteration: 1200\t Loss: 0.9888\n",
      "\tIteration: 1240\t Loss: 0.9521\n",
      "\tIteration: 1280\t Loss: 0.9027\n",
      "\tIteration: 1320\t Loss: 0.9258\n",
      "\tIteration: 1360\t Loss: 0.9021\n",
      "\tIteration: 1400\t Loss: 0.8434\n",
      "\tIteration: 1440\t Loss: 0.8253\n",
      "\tIteration: 1480\t Loss: 0.7836\n",
      "\tIteration: 1520\t Loss: 0.7946\n",
      "\tIteration: 1560\t Loss: 0.7367\n",
      "\tIteration: 1600\t Loss: 0.7452\n",
      "\tIteration: 1640\t Loss: 0.6925\n",
      "\tIteration: 1680\t Loss: 0.6986\n",
      "\tIteration: 1720\t Loss: 0.7096\n",
      "\tIteration: 1760\t Loss: 0.6701\n",
      "\tIteration: 1800\t Loss: 0.6992\n",
      "\tIteration: 1840\t Loss: 0.6534\n",
      "\tIteration: 1880\t Loss: 0.6300\n",
      "\tIteration: 1920\t Loss: 0.6190\n",
      "\tIteration: 1960\t Loss: 0.6186\n",
      "\tIteration: 2000\t Loss: 0.6119\n",
      "\tIteration: 2040\t Loss: 0.5823\n",
      "\tIteration: 2080\t Loss: 0.5779\n",
      "\tIteration: 2120\t Loss: 0.5817\n",
      "\tIteration: 2160\t Loss: 0.5765\n",
      "\tIteration: 2200\t Loss: 0.6040\n",
      "\tIteration: 2240\t Loss: 0.5645\n",
      "\tIteration: 2280\t Loss: 0.5270\n",
      "\tIteration: 2320\t Loss: 0.5373\n",
      "\tIteration: 2360\t Loss: 0.5403\n",
      "\tIteration: 2400\t Loss: 0.5541\n",
      "\tIteration: 2440\t Loss: 0.5348\n",
      "\tIteration: 2480\t Loss: 0.4662\n",
      "\tIteration: 2520\t Loss: 0.4807\n",
      "\tIteration: 2560\t Loss: 0.5391\n",
      "\tIteration: 2600\t Loss: 0.5358\n",
      "\tIteration: 2640\t Loss: 0.4767\n",
      "\tIteration: 2680\t Loss: 0.5459\n",
      "\tIteration: 2720\t Loss: 0.4858\n",
      "\tIteration: 2760\t Loss: 0.4668\n",
      "\tIteration: 2800\t Loss: 0.4612\n",
      "\tIteration: 2840\t Loss: 0.4698\n",
      "\tIteration: 2880\t Loss: 0.4712\n",
      "\tIteration: 2920\t Loss: 0.5419\n",
      "\tIteration: 2960\t Loss: 0.4457\n",
      "\tIteration: 3000\t Loss: 0.3961\n",
      "\tIteration: 3040\t Loss: 0.5136\n",
      "\tIteration: 3080\t Loss: 0.4521\n",
      "\tIteration: 3120\t Loss: 0.3783\n",
      "\tIteration: 3160\t Loss: 0.4663\n",
      "\tIteration: 3200\t Loss: 0.4895\n",
      "\tIteration: 3240\t Loss: 0.4496\n",
      "\tIteration: 3280\t Loss: 0.4831\n",
      "\tIteration: 3320\t Loss: 0.4122\n",
      "\tIteration: 3360\t Loss: 0.5090\n",
      "\tIteration: 3400\t Loss: 0.4456\n",
      "\tIteration: 3440\t Loss: 0.4521\n",
      "\tIteration: 3480\t Loss: 0.4633\n",
      "\tIteration: 3520\t Loss: 0.4847\n",
      "\tIteration: 3560\t Loss: 0.4112\n",
      "\tIteration: 3600\t Loss: 0.4260\n",
      "\tIteration: 3640\t Loss: 0.4032\n",
      "\tIteration: 3680\t Loss: 0.4106\n",
      "\tIteration: 3720\t Loss: 0.4016\n",
      "Epoch: 2/3\n",
      "\tIteration: 0\t Loss: 0.0039\n",
      "\tIteration: 40\t Loss: 0.4050\n",
      "\tIteration: 80\t Loss: 0.4890\n",
      "\tIteration: 120\t Loss: 0.3983\n",
      "\tIteration: 160\t Loss: 0.4395\n",
      "\tIteration: 200\t Loss: 0.4549\n",
      "\tIteration: 240\t Loss: 0.3831\n",
      "\tIteration: 280\t Loss: 0.4155\n",
      "\tIteration: 320\t Loss: 0.4529\n",
      "\tIteration: 360\t Loss: 0.3587\n",
      "\tIteration: 400\t Loss: 0.3808\n",
      "\tIteration: 440\t Loss: 0.3403\n",
      "\tIteration: 480\t Loss: 0.4209\n",
      "\tIteration: 520\t Loss: 0.3828\n",
      "\tIteration: 560\t Loss: 0.4108\n",
      "\tIteration: 600\t Loss: 0.3863\n",
      "\tIteration: 640\t Loss: 0.4287\n",
      "\tIteration: 680\t Loss: 0.3377\n",
      "\tIteration: 720\t Loss: 0.3890\n",
      "\tIteration: 760\t Loss: 0.4042\n",
      "\tIteration: 800\t Loss: 0.3472\n",
      "\tIteration: 840\t Loss: 0.4135\n",
      "\tIteration: 880\t Loss: 0.3928\n",
      "\tIteration: 920\t Loss: 0.4565\n",
      "\tIteration: 960\t Loss: 0.3775\n",
      "\tIteration: 1000\t Loss: 0.3481\n",
      "\tIteration: 1040\t Loss: 0.4352\n",
      "\tIteration: 1080\t Loss: 0.4468\n",
      "\tIteration: 1120\t Loss: 0.4009\n",
      "\tIteration: 1160\t Loss: 0.3112\n",
      "\tIteration: 1200\t Loss: 0.3350\n",
      "\tIteration: 1240\t Loss: 0.4213\n",
      "\tIteration: 1280\t Loss: 0.4632\n",
      "\tIteration: 1320\t Loss: 0.3578\n",
      "\tIteration: 1360\t Loss: 0.3829\n",
      "\tIteration: 1400\t Loss: 0.3829\n",
      "\tIteration: 1440\t Loss: 0.3893\n",
      "\tIteration: 1480\t Loss: 0.3752\n",
      "\tIteration: 1520\t Loss: 0.3748\n",
      "\tIteration: 1560\t Loss: 0.3609\n",
      "\tIteration: 1600\t Loss: 0.4301\n",
      "\tIteration: 1640\t Loss: 0.4134\n",
      "\tIteration: 1680\t Loss: 0.4390\n",
      "\tIteration: 1720\t Loss: 0.3528\n",
      "\tIteration: 1760\t Loss: 0.3421\n",
      "\tIteration: 1800\t Loss: 0.3185\n",
      "\tIteration: 1840\t Loss: 0.3844\n",
      "\tIteration: 1880\t Loss: 0.3581\n",
      "\tIteration: 1920\t Loss: 0.3785\n",
      "\tIteration: 1960\t Loss: 0.3444\n",
      "\tIteration: 2000\t Loss: 0.3542\n",
      "\tIteration: 2040\t Loss: 0.3629\n",
      "\tIteration: 2080\t Loss: 0.3491\n",
      "\tIteration: 2120\t Loss: 0.3194\n",
      "\tIteration: 2160\t Loss: 0.3544\n",
      "\tIteration: 2200\t Loss: 0.3619\n",
      "\tIteration: 2240\t Loss: 0.2996\n",
      "\tIteration: 2280\t Loss: 0.3344\n",
      "\tIteration: 2320\t Loss: 0.3210\n",
      "\tIteration: 2360\t Loss: 0.3161\n",
      "\tIteration: 2400\t Loss: 0.3858\n",
      "\tIteration: 2440\t Loss: 0.3774\n",
      "\tIteration: 2480\t Loss: 0.3879\n",
      "\tIteration: 2520\t Loss: 0.3035\n",
      "\tIteration: 2560\t Loss: 0.3516\n",
      "\tIteration: 2600\t Loss: 0.3660\n",
      "\tIteration: 2640\t Loss: 0.3706\n",
      "\tIteration: 2680\t Loss: 0.3645\n",
      "\tIteration: 2720\t Loss: 0.4043\n",
      "\tIteration: 2760\t Loss: 0.4306\n",
      "\tIteration: 2800\t Loss: 0.3419\n",
      "\tIteration: 2840\t Loss: 0.3388\n",
      "\tIteration: 2880\t Loss: 0.3139\n",
      "\tIteration: 2920\t Loss: 0.3479\n",
      "\tIteration: 2960\t Loss: 0.3510\n",
      "\tIteration: 3000\t Loss: 0.3993\n",
      "\tIteration: 3040\t Loss: 0.3430\n",
      "\tIteration: 3080\t Loss: 0.4329\n",
      "\tIteration: 3120\t Loss: 0.2951\n",
      "\tIteration: 3160\t Loss: 0.3190\n",
      "\tIteration: 3200\t Loss: 0.3496\n",
      "\tIteration: 3240\t Loss: 0.3412\n",
      "\tIteration: 3280\t Loss: 0.3478\n",
      "\tIteration: 3320\t Loss: 0.3647\n",
      "\tIteration: 3360\t Loss: 0.3210\n",
      "\tIteration: 3400\t Loss: 0.2574\n",
      "\tIteration: 3440\t Loss: 0.3792\n",
      "\tIteration: 3480\t Loss: 0.3546\n",
      "\tIteration: 3520\t Loss: 0.3487\n",
      "\tIteration: 3560\t Loss: 0.3055\n",
      "\tIteration: 3600\t Loss: 0.3070\n",
      "\tIteration: 3640\t Loss: 0.3179\n",
      "\tIteration: 3680\t Loss: 0.2618\n",
      "\tIteration: 3720\t Loss: 0.3683\n",
      "Epoch: 3/3\n",
      "\tIteration: 0\t Loss: 0.0019\n",
      "\tIteration: 40\t Loss: 0.3340\n",
      "\tIteration: 80\t Loss: 0.3228\n",
      "\tIteration: 120\t Loss: 0.3324\n",
      "\tIteration: 160\t Loss: 0.3764\n",
      "\tIteration: 200\t Loss: 0.2613\n",
      "\tIteration: 240\t Loss: 0.3224\n",
      "\tIteration: 280\t Loss: 0.3422\n",
      "\tIteration: 320\t Loss: 0.2901\n",
      "\tIteration: 360\t Loss: 0.2846\n",
      "\tIteration: 400\t Loss: 0.3004\n",
      "\tIteration: 440\t Loss: 0.2985\n",
      "\tIteration: 480\t Loss: 0.3366\n",
      "\tIteration: 520\t Loss: 0.2911\n",
      "\tIteration: 560\t Loss: 0.3247\n",
      "\tIteration: 600\t Loss: 0.3292\n",
      "\tIteration: 640\t Loss: 0.3662\n",
      "\tIteration: 680\t Loss: 0.3583\n",
      "\tIteration: 720\t Loss: 0.3156\n",
      "\tIteration: 760\t Loss: 0.3060\n",
      "\tIteration: 800\t Loss: 0.2959\n",
      "\tIteration: 840\t Loss: 0.2871\n",
      "\tIteration: 880\t Loss: 0.3391\n",
      "\tIteration: 920\t Loss: 0.2927\n",
      "\tIteration: 960\t Loss: 0.3670\n",
      "\tIteration: 1000\t Loss: 0.3901\n",
      "\tIteration: 1040\t Loss: 0.2993\n",
      "\tIteration: 1080\t Loss: 0.3280\n",
      "\tIteration: 1120\t Loss: 0.3131\n",
      "\tIteration: 1160\t Loss: 0.3420\n",
      "\tIteration: 1200\t Loss: 0.3047\n",
      "\tIteration: 1240\t Loss: 0.2808\n",
      "\tIteration: 1280\t Loss: 0.3207\n",
      "\tIteration: 1320\t Loss: 0.3568\n",
      "\tIteration: 1360\t Loss: 0.3081\n",
      "\tIteration: 1400\t Loss: 0.3496\n",
      "\tIteration: 1440\t Loss: 0.2994\n",
      "\tIteration: 1480\t Loss: 0.2711\n",
      "\tIteration: 1520\t Loss: 0.2892\n",
      "\tIteration: 1560\t Loss: 0.3562\n",
      "\tIteration: 1600\t Loss: 0.3376\n",
      "\tIteration: 1640\t Loss: 0.3107\n",
      "\tIteration: 1680\t Loss: 0.3281\n",
      "\tIteration: 1720\t Loss: 0.2700\n",
      "\tIteration: 1760\t Loss: 0.3036\n",
      "\tIteration: 1800\t Loss: 0.2795\n",
      "\tIteration: 1840\t Loss: 0.2811\n",
      "\tIteration: 1880\t Loss: 0.3232\n",
      "\tIteration: 1920\t Loss: 0.2837\n",
      "\tIteration: 1960\t Loss: 0.3221\n",
      "\tIteration: 2000\t Loss: 0.3145\n",
      "\tIteration: 2040\t Loss: 0.3358\n",
      "\tIteration: 2080\t Loss: 0.3016\n",
      "\tIteration: 2120\t Loss: 0.4205\n",
      "\tIteration: 2160\t Loss: 0.3273\n",
      "\tIteration: 2200\t Loss: 0.2875\n",
      "\tIteration: 2240\t Loss: 0.3052\n",
      "\tIteration: 2280\t Loss: 0.3265\n",
      "\tIteration: 2320\t Loss: 0.2971\n",
      "\tIteration: 2360\t Loss: 0.3109\n",
      "\tIteration: 2400\t Loss: 0.2868\n",
      "\tIteration: 2440\t Loss: 0.2745\n",
      "\tIteration: 2480\t Loss: 0.2944\n",
      "\tIteration: 2520\t Loss: 0.3115\n",
      "\tIteration: 2560\t Loss: 0.3386\n",
      "\tIteration: 2600\t Loss: 0.2954\n",
      "\tIteration: 2640\t Loss: 0.3036\n",
      "\tIteration: 2680\t Loss: 0.3423\n",
      "\tIteration: 2720\t Loss: 0.3127\n",
      "\tIteration: 2760\t Loss: 0.3163\n",
      "\tIteration: 2800\t Loss: 0.3295\n",
      "\tIteration: 2840\t Loss: 0.2733\n",
      "\tIteration: 2880\t Loss: 0.2752\n",
      "\tIteration: 2920\t Loss: 0.2956\n",
      "\tIteration: 2960\t Loss: 0.3060\n",
      "\tIteration: 3000\t Loss: 0.3238\n",
      "\tIteration: 3040\t Loss: 0.3011\n",
      "\tIteration: 3080\t Loss: 0.2961\n",
      "\tIteration: 3120\t Loss: 0.3503\n",
      "\tIteration: 3160\t Loss: 0.3371\n",
      "\tIteration: 3200\t Loss: 0.2666\n",
      "\tIteration: 3240\t Loss: 0.2882\n",
      "\tIteration: 3280\t Loss: 0.2567\n",
      "\tIteration: 3320\t Loss: 0.3060\n",
      "\tIteration: 3360\t Loss: 0.2760\n",
      "\tIteration: 3400\t Loss: 0.2334\n",
      "\tIteration: 3440\t Loss: 0.3369\n",
      "\tIteration: 3480\t Loss: 0.2529\n",
      "\tIteration: 3520\t Loss: 0.2800\n",
      "\tIteration: 3560\t Loss: 0.3060\n",
      "\tIteration: 3600\t Loss: 0.3204\n",
      "\tIteration: 3640\t Loss: 0.2894\n",
      "\tIteration: 3680\t Loss: 0.3466\n",
      "\tIteration: 3720\t Loss: 0.3115\n"
     ]
    }
   ],
   "source": [
    "epochs = 3\n",
    "print_every = 40\n",
    "\n",
    "for e in range(epochs):\n",
    "    running_loss = 0\n",
    "    print(f\"Epoch: {e+1}/{epochs}\")\n",
    "\n",
    "    for i, (images, labels) in enumerate(iter(trainloader)):\n",
    "\n",
    "        # Flatten MNIST images into a 784 long vector\n",
    "        images.resize_(images.size()[0], 784)\n",
    "        \n",
    "        optimizer.zero_grad()\n",
    "        \n",
    "        output = model.forward(images)   # 1) Forward pass\n",
    "        loss = criterion(output, labels) # 2) Compute loss\n",
    "        loss.backward()                  # 3) Backward pass\n",
    "        optimizer.step()                 # 4) Update model\n",
    "        \n",
    "        running_loss += loss.item()\n",
    "        \n",
    "        if i % print_every == 0:\n",
    "            print(f\"\\tIteration: {i}\\t Loss: {running_loss/print_every:.4f}\")\n",
    "            running_loss = 0"
   ]
  },
  {
   "cell_type": "markdown",
   "metadata": {},
   "source": [
    "With the network trained, we can check out it's predictions."
   ]
  },
  {
   "cell_type": "code",
   "execution_count": 31,
   "metadata": {
    "ExecuteTime": {
     "end_time": "2021-05-26T22:30:00.206666Z",
     "start_time": "2021-05-26T22:29:59.954325Z"
    }
   },
   "outputs": [
    {
     "output_type": "display_data",
     "data": {
      "text/plain": "<Figure size 432x648 with 2 Axes>",
      "image/png": "[encoded data removed]"
     },
     "metadata": {
      "image/png": {
       "width": 349,
       "height": 195
      },
      "needs_background": "light"
     }
    }
   ],
   "source": [
    "images, labels = next(iter(trainloader))\n",
    "\n",
    "img = images[0].view(1, 784)\n",
    "# Turn off gradients to speed up this part\n",
    "with torch.no_grad():\n",
    "    logits = model.forward(img)\n",
    "\n",
    "# Output of the network are logits, need to take softmax for probabilities\n",
    "ps = F.softmax(logits, dim=1)\n",
    "view_classify(img.view(1, 28, 28), ps)"
   ]
  },
  {
   "cell_type": "markdown",
   "metadata": {},
   "source": [
    "Now our network is brilliant. It can accurately predict the digits in our images."
   ]
  },
  {
   "cell_type": "markdown",
   "metadata": {},
   "source": [
    "<div style=\"background:#222222; color:#ffffff; padding:20px\">\n",
    "    <h2 align=\"center\" style=\"color:#01ff84\">EMNIST Classification: Exercise</h2>\n",
    "<div>"
   ]
  },
  {
   "cell_type": "markdown",
   "metadata": {},
   "source": [
    "<div style=\"background:#222222; color:#ffffff; padding:20px\">\n",
    "  <h3 style=\"color:#01ff84; margin-top:4px\">Exercise 1:</h3>\n",
    "  <p>Now it's your turn to build a simple network, use any method I've covered so far. In the next notebook, you'll learn how to train a network so it can make good predictions.</p>\n",
    "  <p>Build a network to classify the MNIST images with 3 hidden layers. Use 16 units in the first hidden layer, 32 units in the second layer, and 8 units in the third layer. Each hidden layer should have a ReLU activation function, and use softmax on the output layer.</p>\n",
    "<div>"
   ]
  },
  {
   "cell_type": "code",
   "execution_count": 32,
   "metadata": {},
   "outputs": [
    {
     "output_type": "execute_result",
     "data": {
      "text/plain": [
       "Exercise_net(\n",
       "  (fc1): Linear(in_features=784, out_features=16, bias=True)\n",
       "  (fc2): Linear(in_features=16, out_features=32, bias=True)\n",
       "  (fc3): Linear(in_features=32, out_features=8, bias=True)\n",
       "  (fc4): Linear(in_features=8, out_features=10, bias=True)\n",
       ")"
      ]
     },
     "metadata": {},
     "execution_count": 32
    }
   ],
   "source": [
    "## TODO: Your network here\n",
    "\n",
    "class Exercise_net(nn.Module):\n",
    "    \n",
    "    # Defining the layers, 128, 64, 10 units each\n",
    "    def __init__(self):\n",
    "        super().__init__()\n",
    "        # input layer\n",
    "        self.fc1 = nn.Linear(784, 16)\n",
    "        # first hidden layer, size = 16\n",
    "        self.fc2 = nn.Linear(16, 32)\n",
    "        #  # second hidden layer, size = 32\n",
    "        self.fc3 = nn.Linear(32, 8)\n",
    "        # third hidden layer, size = 8\n",
    "        self.fc4 = nn.Linear(8, 10)\n",
    "        \n",
    "    # Forward pass through the network, returns the output logits\n",
    "    def forward(self, x):\n",
    "\n",
    "        #  input layer\n",
    "        x = self.fc1(x)\n",
    "        x = F.relu(x)\n",
    "        # first hidden layer and activation\n",
    "        x = self.fc2(x)\n",
    "        x = F.relu(x)\n",
    "        # second hidden layer and activation\n",
    "        x = self.fc3(x)\n",
    "        x = F.relu(x)\n",
    "        # third hidden layer and output layer\n",
    "        x = self.fc4(x)\n",
    "        x = F.softmax(x, dim=1)\n",
    "        return x\n",
    "\n",
    "model = Exercise_net()\n",
    "\n",
    "model"
   ]
  },
  {
   "cell_type": "code",
   "execution_count": 33,
   "metadata": {},
   "outputs": [
    {
     "output_type": "stream",
     "name": "stderr",
     "text": [
      "/home/alessio/anaconda3/envs/deep_learning/lib/python3.9/site-packages/torch/nn/functional.py:1709: UserWarning: nn.functional.sigmoid is deprecated. Use torch.sigmoid instead.\n  warnings.warn(\"nn.functional.sigmoid is deprecated. Use torch.sigmoid instead.\")\n"
     ]
    },
    {
     "output_type": "display_data",
     "data": {
      "text/plain": "<Figure size 432x648 with 2 Axes>",
      "image/png": "[encoded data removed]"
     },
     "metadata": {
      "image/png": {
       "width": 349,
       "height": 195
      },
      "needs_background": "light"
     }
    }
   ],
   "source": [
    "# Run this cell with your model to make sure it works\n",
    "# Forward pass through the network and display output\n",
    "images, labels = next(iter(trainloader))\n",
    "images.resize_(images.shape[0], 1, 784)\n",
    "ps = model.forward(images[0,:])\n",
    "view_classify(images[0].view(1, 28, 28), ps)"
   ]
  },
  {
   "cell_type": "markdown",
   "metadata": {},
   "source": [
    "<div style=\"background:#222222; color:#ffffff; padding:20px\">\n",
    "  <h3 style=\"color:#01ff84; margin-top:4px\">Exercise 2:</h3>\n",
    "  <p>Train your network implementing the Pytorch training loop and <strong style=\"color:#01ff84\">after each epoch, use the model for predicting the test (validation) MNIST data.</strong></p>\n",
    "  <p>Note: If your model does not fit with the final softmax layer, you can remove this layer.</p>\n",
    "  <p>Hint: <a href=\"https://discuss.pytorch.org/t/training-loop-checking-validation-accuracy/78399\">Training loop checking validation accuracy\n",
    "</a></p>\n",
    "  <p>Research about <code>model.train()</code>, <code>model.eval()</code> and <code>with torch.no_grad()</code> in Pytorch.\n",
    "<div>"
   ]
  },
  {
   "cell_type": "code",
   "execution_count": 34,
   "metadata": {},
   "outputs": [
    {
     "output_type": "stream",
     "name": "stdout",
     "text": [
      "Initial weights -  Parameter containing:\ntensor([[ 2.7822e-02,  3.4200e-02, -1.0357e-02,  ..., -1.5592e-02,\n         -8.8897e-03,  2.5820e-02],\n        [-2.9294e-02,  2.7647e-02, -2.3993e-02,  ...,  7.0154e-03,\n         -2.9234e-02,  1.7053e-03],\n        [ 3.7106e-03, -1.6514e-02,  3.1374e-02,  ..., -2.6961e-02,\n          2.6428e-02,  1.1115e-02],\n        ...,\n        [ 6.0822e-05,  3.0935e-02,  3.4669e-02,  ..., -1.2886e-02,\n          1.7104e-03, -2.7726e-02],\n        [ 2.7828e-02,  9.4873e-04, -3.4017e-02,  ..., -1.4618e-02,\n         -1.9509e-02, -1.5909e-02],\n        [-2.0589e-02,  3.2132e-02,  6.2521e-03,  ..., -3.3073e-02,\n          6.0551e-03, -3.0039e-02]], requires_grad=True)\nGradient - tensor([[ 2.8068e-05,  2.8068e-05,  2.8068e-05,  ...,  2.8068e-05,\n          2.8068e-05,  2.8068e-05],\n        [-2.5165e-05, -2.5165e-05, -2.5165e-05,  ..., -2.5165e-05,\n         -2.5165e-05, -2.5165e-05],\n        [ 5.8629e-07,  5.8629e-07,  5.8629e-07,  ...,  5.8629e-07,\n          5.8629e-07,  5.8629e-07],\n        ...,\n        [ 2.0469e-05,  2.0469e-05,  2.0469e-05,  ...,  2.0469e-05,\n          2.0469e-05,  2.0469e-05],\n        [ 1.6237e-05,  1.6237e-05,  1.6237e-05,  ...,  1.6237e-05,\n          1.6237e-05,  1.6237e-05],\n        [-1.9223e-05, -1.9223e-05, -1.9223e-05,  ..., -1.9223e-05,\n         -1.9223e-05, -1.9223e-05]])\n"
     ]
    }
   ],
   "source": [
    "# First step: defining criterion and optimizer\n",
    "criterion = nn.CrossEntropyLoss()\n",
    "optimizer = optim.SGD(model.parameters(), lr=0.003)\n",
    "\n",
    "\n",
    "# first step for testing pourposes\n",
    "\n",
    "print('Initial weights - ', model.fc1.weight)\n",
    "\n",
    "images, labels = next(iter(trainloader))\n",
    "images.resize_(trainloader.batch_size, 784)\n",
    "\n",
    "# Clear the gradients, do this because gradients are accumulated\n",
    "optimizer.zero_grad()\n",
    "\n",
    "# Forward pass, then backward pass, then update weights\n",
    "output = model.forward(images)\n",
    "loss = criterion(output, labels)\n",
    "loss.backward()\n",
    "print('Gradient -', model.fc1.weight.grad)\n",
    "optimizer.step()"
   ]
  },
  {
   "cell_type": "code",
   "execution_count": 35,
   "metadata": {},
   "outputs": [],
   "source": [
    "def check_accuracy(test_loader, model):\n",
    "    acc_list = []\n",
    "    y_preds_list = []\n",
    "    y_true_list = []\n",
    "    for i, (images_test, y_true) in enumerate(iter(test_loader)):\n",
    "        y_preds = []\n",
    "\n",
    "        # Flatten EMNIST images into a 784 long vector\n",
    "        images_test.resize_(images_test.size()[0], 784)\n",
    "        logits = model.forward(images_test)\n",
    "        output_preds = F.softmax(logits, dim=1)\n",
    "        for p in output_preds:\n",
    "            y_preds.append(p.argmax())\n",
    "        \n",
    "        y_preds = np.array(y_preds)\n",
    "        y_preds = torch.tensor(y_preds)\n",
    "\n",
    "        for i in range(y_preds.size(0)):\n",
    "            y_preds_list.append(y_preds[i].item())\n",
    "            y_true_list.append(y_true[i].item())\n",
    "\n",
    "    accuracy = (np.array(y_preds_list) == np.array(y_true_list)).sum()/len(y_preds_list)\n",
    "    print(accuracy)\n",
    "\n",
    "    return accuracy, y_preds_list, y_true_list"
   ]
  },
  {
   "cell_type": "code",
   "execution_count": 36,
   "metadata": {},
   "outputs": [],
   "source": [
    "optimizer = optim.SGD(model.parameters(), lr=0.003)"
   ]
  },
  {
   "cell_type": "code",
   "execution_count": 37,
   "metadata": {
    "tags": []
   },
   "outputs": [
    {
     "output_type": "stream",
     "name": "stdout",
     "text": [
      "Epoch: 1/7\n",
      "\tIteration: 0\t Loss: 0.0578\n",
      "\tIteration: 40\t Loss: 2.3024\n",
      "\tIteration: 80\t Loss: 2.3042\n",
      "\tIteration: 120\t Loss: 2.3025\n",
      "\tIteration: 160\t Loss: 2.3018\n",
      "\tIteration: 200\t Loss: 2.3037\n",
      "\tIteration: 240\t Loss: 2.3035\n",
      "\tIteration: 280\t Loss: 2.3031\n",
      "\tIteration: 320\t Loss: 2.3031\n",
      "\tIteration: 360\t Loss: 2.3050\n",
      "\tIteration: 400\t Loss: 2.3027\n",
      "\tIteration: 440\t Loss: 2.3031\n",
      "\tIteration: 480\t Loss: 2.3031\n",
      "\tIteration: 520\t Loss: 2.3015\n",
      "\tIteration: 560\t Loss: 2.2999\n",
      "\tIteration: 600\t Loss: 2.3026\n",
      "\tIteration: 640\t Loss: 2.2996\n",
      "\tIteration: 680\t Loss: 2.3016\n",
      "\tIteration: 720\t Loss: 2.3034\n",
      "\tIteration: 760\t Loss: 2.3033\n",
      "\tIteration: 800\t Loss: 2.3024\n",
      "\tIteration: 840\t Loss: 2.3014\n",
      "\tIteration: 880\t Loss: 2.3026\n",
      "\tIteration: 920\t Loss: 2.3036\n",
      "\tIteration: 960\t Loss: 2.3018\n",
      "\tIteration: 1000\t Loss: 2.3018\n",
      "\tIteration: 1040\t Loss: 2.3028\n",
      "\tIteration: 1080\t Loss: 2.3020\n",
      "\tIteration: 1120\t Loss: 2.3025\n",
      "\tIteration: 1160\t Loss: 2.3016\n",
      "\tIteration: 1200\t Loss: 2.3000\n",
      "\tIteration: 1240\t Loss: 2.3006\n",
      "\tIteration: 1280\t Loss: 2.3022\n",
      "\tIteration: 1320\t Loss: 2.3016\n",
      "\tIteration: 1360\t Loss: 2.3042\n",
      "\tIteration: 1400\t Loss: 2.3052\n",
      "\tIteration: 1440\t Loss: 2.3045\n",
      "\tIteration: 1480\t Loss: 2.3033\n",
      "\tIteration: 1520\t Loss: 2.3017\n",
      "\tIteration: 1560\t Loss: 2.3031\n",
      "\tIteration: 1600\t Loss: 2.3018\n",
      "\tIteration: 1640\t Loss: 2.3029\n",
      "\tIteration: 1680\t Loss: 2.3032\n",
      "\tIteration: 1720\t Loss: 2.3036\n",
      "\tIteration: 1760\t Loss: 2.3031\n",
      "\tIteration: 1800\t Loss: 2.3031\n",
      "\tIteration: 1840\t Loss: 2.3006\n",
      "\tIteration: 1880\t Loss: 2.3007\n",
      "\tIteration: 1920\t Loss: 2.3011\n",
      "\tIteration: 1960\t Loss: 2.3005\n",
      "\tIteration: 2000\t Loss: 2.3014\n",
      "\tIteration: 2040\t Loss: 2.3029\n",
      "\tIteration: 2080\t Loss: 2.3032\n",
      "\tIteration: 2120\t Loss: 2.3020\n",
      "\tIteration: 2160\t Loss: 2.3032\n",
      "\tIteration: 2200\t Loss: 2.3023\n",
      "\tIteration: 2240\t Loss: 2.3046\n",
      "\tIteration: 2280\t Loss: 2.3026\n",
      "\tIteration: 2320\t Loss: 2.3042\n",
      "\tIteration: 2360\t Loss: 2.3023\n",
      "\tIteration: 2400\t Loss: 2.3041\n",
      "\tIteration: 2440\t Loss: 2.3023\n",
      "\tIteration: 2480\t Loss: 2.3024\n",
      "\tIteration: 2520\t Loss: 2.3011\n",
      "\tIteration: 2560\t Loss: 2.3056\n",
      "\tIteration: 2600\t Loss: 2.3008\n",
      "\tIteration: 2640\t Loss: 2.3006\n",
      "\tIteration: 2680\t Loss: 2.3009\n",
      "\tIteration: 2720\t Loss: 2.3007\n",
      "\tIteration: 2760\t Loss: 2.3019\n",
      "\tIteration: 2800\t Loss: 2.3020\n",
      "\tIteration: 2840\t Loss: 2.3020\n",
      "\tIteration: 2880\t Loss: 2.3031\n",
      "\tIteration: 2920\t Loss: 2.3016\n",
      "\tIteration: 2960\t Loss: 2.3036\n",
      "\tIteration: 3000\t Loss: 2.3015\n",
      "\tIteration: 3040\t Loss: 2.3013\n",
      "\tIteration: 3080\t Loss: 2.3051\n",
      "\tIteration: 3120\t Loss: 2.3013\n",
      "\tIteration: 3160\t Loss: 2.3045\n",
      "\tIteration: 3200\t Loss: 2.3034\n",
      "\tIteration: 3240\t Loss: 2.3042\n",
      "\tIteration: 3280\t Loss: 2.3016\n",
      "\tIteration: 3320\t Loss: 2.3018\n",
      "\tIteration: 3360\t Loss: 2.3017\n",
      "\tIteration: 3400\t Loss: 2.3003\n",
      "\tIteration: 3440\t Loss: 2.3028\n",
      "\tIteration: 3480\t Loss: 2.3006\n",
      "\tIteration: 3520\t Loss: 2.3025\n",
      "\tIteration: 3560\t Loss: 2.3034\n",
      "\tIteration: 3600\t Loss: 2.3030\n",
      "\tIteration: 3640\t Loss: 2.3034\n",
      "\tIteration: 3680\t Loss: 2.3042\n",
      "\tIteration: 3720\t Loss: 2.3047\n",
      "0.1135\n",
      "Epoch: 2/7\n",
      "\tIteration: 0\t Loss: 0.0577\n",
      "\tIteration: 40\t Loss: 2.3011\n",
      "\tIteration: 80\t Loss: 2.3008\n",
      "\tIteration: 120\t Loss: 2.3045\n",
      "\tIteration: 160\t Loss: 2.3030\n",
      "\tIteration: 200\t Loss: 2.3026\n",
      "\tIteration: 240\t Loss: 2.3028\n",
      "\tIteration: 280\t Loss: 2.3006\n",
      "\tIteration: 320\t Loss: 2.3008\n",
      "\tIteration: 360\t Loss: 2.3025\n",
      "\tIteration: 400\t Loss: 2.3030\n",
      "\tIteration: 440\t Loss: 2.2995\n",
      "\tIteration: 480\t Loss: 2.3022\n",
      "\tIteration: 520\t Loss: 2.3016\n",
      "\tIteration: 560\t Loss: 2.3022\n",
      "\tIteration: 600\t Loss: 2.3012\n",
      "\tIteration: 640\t Loss: 2.3025\n",
      "\tIteration: 680\t Loss: 2.3031\n",
      "\tIteration: 720\t Loss: 2.3015\n",
      "\tIteration: 760\t Loss: 2.3021\n",
      "\tIteration: 800\t Loss: 2.3025\n",
      "\tIteration: 840\t Loss: 2.3028\n",
      "\tIteration: 880\t Loss: 2.3036\n",
      "\tIteration: 920\t Loss: 2.3019\n",
      "\tIteration: 960\t Loss: 2.3036\n",
      "\tIteration: 1000\t Loss: 2.3034\n",
      "\tIteration: 1040\t Loss: 2.3019\n",
      "\tIteration: 1080\t Loss: 2.3042\n",
      "\tIteration: 1120\t Loss: 2.3013\n",
      "\tIteration: 1160\t Loss: 2.3030\n",
      "\tIteration: 1200\t Loss: 2.3025\n",
      "\tIteration: 1240\t Loss: 2.3060\n",
      "\tIteration: 1280\t Loss: 2.3029\n",
      "\tIteration: 1320\t Loss: 2.3030\n",
      "\tIteration: 1360\t Loss: 2.3024\n",
      "\tIteration: 1400\t Loss: 2.3032\n"
     ]
    },
    {
     "output_type": "error",
     "ename": "KeyboardInterrupt",
     "evalue": "",
     "traceback": [
      "\u001b[0;31m---------------------------------------------------------------------------\u001b[0m",
      "\u001b[0;31mKeyboardInterrupt\u001b[0m                         Traceback (most recent call last)",
      "\u001b[0;32m<ipython-input-37-7e646ab59b11>\u001b[0m in \u001b[0;36m<module>\u001b[0;34m\u001b[0m\n\u001b[1;32m     22\u001b[0m     \u001b[0mprint\u001b[0m\u001b[0;34m(\u001b[0m\u001b[0;34mf\"Epoch: {e+1}/{epochs}\"\u001b[0m\u001b[0;34m)\u001b[0m\u001b[0;34m\u001b[0m\u001b[0;34m\u001b[0m\u001b[0m\n\u001b[1;32m     23\u001b[0m \u001b[0;34m\u001b[0m\u001b[0m\n\u001b[0;32m---> 24\u001b[0;31m     \u001b[0;32mfor\u001b[0m \u001b[0mi\u001b[0m\u001b[0;34m,\u001b[0m \u001b[0;34m(\u001b[0m\u001b[0mimages\u001b[0m\u001b[0;34m,\u001b[0m \u001b[0mlabels\u001b[0m\u001b[0;34m)\u001b[0m \u001b[0;32min\u001b[0m \u001b[0menumerate\u001b[0m\u001b[0;34m(\u001b[0m\u001b[0miter\u001b[0m\u001b[0;34m(\u001b[0m\u001b[0mtrainloader\u001b[0m\u001b[0;34m)\u001b[0m\u001b[0;34m)\u001b[0m\u001b[0;34m:\u001b[0m\u001b[0;34m\u001b[0m\u001b[0;34m\u001b[0m\u001b[0m\n\u001b[0m\u001b[1;32m     25\u001b[0m \u001b[0;34m\u001b[0m\u001b[0m\n\u001b[1;32m     26\u001b[0m         \u001b[0;31m# Flatten EMNIST images into a 784 long vector\u001b[0m\u001b[0;34m\u001b[0m\u001b[0;34m\u001b[0m\u001b[0;34m\u001b[0m\u001b[0m\n",
      "\u001b[0;32m~/anaconda3/envs/deep_learning/lib/python3.9/site-packages/torch/utils/data/dataloader.py\u001b[0m in \u001b[0;36m__next__\u001b[0;34m(self)\u001b[0m\n\u001b[1;32m    515\u001b[0m             \u001b[0;32mif\u001b[0m \u001b[0mself\u001b[0m\u001b[0;34m.\u001b[0m\u001b[0m_sampler_iter\u001b[0m \u001b[0;32mis\u001b[0m \u001b[0;32mNone\u001b[0m\u001b[0;34m:\u001b[0m\u001b[0;34m\u001b[0m\u001b[0;34m\u001b[0m\u001b[0m\n\u001b[1;32m    516\u001b[0m                 \u001b[0mself\u001b[0m\u001b[0;34m.\u001b[0m\u001b[0m_reset\u001b[0m\u001b[0;34m(\u001b[0m\u001b[0;34m)\u001b[0m\u001b[0;34m\u001b[0m\u001b[0;34m\u001b[0m\u001b[0m\n\u001b[0;32m--> 517\u001b[0;31m             \u001b[0mdata\u001b[0m \u001b[0;34m=\u001b[0m \u001b[0mself\u001b[0m\u001b[0;34m.\u001b[0m\u001b[0m_next_data\u001b[0m\u001b[0;34m(\u001b[0m\u001b[0;34m)\u001b[0m\u001b[0;34m\u001b[0m\u001b[0;34m\u001b[0m\u001b[0m\n\u001b[0m\u001b[1;32m    518\u001b[0m             \u001b[0mself\u001b[0m\u001b[0;34m.\u001b[0m\u001b[0m_num_yielded\u001b[0m \u001b[0;34m+=\u001b[0m \u001b[0;36m1\u001b[0m\u001b[0;34m\u001b[0m\u001b[0;34m\u001b[0m\u001b[0m\n\u001b[1;32m    519\u001b[0m             \u001b[0;32mif\u001b[0m \u001b[0mself\u001b[0m\u001b[0;34m.\u001b[0m\u001b[0m_dataset_kind\u001b[0m \u001b[0;34m==\u001b[0m \u001b[0m_DatasetKind\u001b[0m\u001b[0;34m.\u001b[0m\u001b[0mIterable\u001b[0m \u001b[0;32mand\u001b[0m\u001b[0;31m \u001b[0m\u001b[0;31m\\\u001b[0m\u001b[0;34m\u001b[0m\u001b[0;34m\u001b[0m\u001b[0m\n",
      "\u001b[0;32m~/anaconda3/envs/deep_learning/lib/python3.9/site-packages/torch/utils/data/dataloader.py\u001b[0m in \u001b[0;36m_next_data\u001b[0;34m(self)\u001b[0m\n\u001b[1;32m    555\u001b[0m     \u001b[0;32mdef\u001b[0m \u001b[0m_next_data\u001b[0m\u001b[0;34m(\u001b[0m\u001b[0mself\u001b[0m\u001b[0;34m)\u001b[0m\u001b[0;34m:\u001b[0m\u001b[0;34m\u001b[0m\u001b[0;34m\u001b[0m\u001b[0m\n\u001b[1;32m    556\u001b[0m         \u001b[0mindex\u001b[0m \u001b[0;34m=\u001b[0m \u001b[0mself\u001b[0m\u001b[0;34m.\u001b[0m\u001b[0m_next_index\u001b[0m\u001b[0;34m(\u001b[0m\u001b[0;34m)\u001b[0m  \u001b[0;31m# may raise StopIteration\u001b[0m\u001b[0;34m\u001b[0m\u001b[0;34m\u001b[0m\u001b[0m\n\u001b[0;32m--> 557\u001b[0;31m         \u001b[0mdata\u001b[0m \u001b[0;34m=\u001b[0m \u001b[0mself\u001b[0m\u001b[0;34m.\u001b[0m\u001b[0m_dataset_fetcher\u001b[0m\u001b[0;34m.\u001b[0m\u001b[0mfetch\u001b[0m\u001b[0;34m(\u001b[0m\u001b[0mindex\u001b[0m\u001b[0;34m)\u001b[0m  \u001b[0;31m# may raise StopIteration\u001b[0m\u001b[0;34m\u001b[0m\u001b[0;34m\u001b[0m\u001b[0m\n\u001b[0m\u001b[1;32m    558\u001b[0m         \u001b[0;32mif\u001b[0m \u001b[0mself\u001b[0m\u001b[0;34m.\u001b[0m\u001b[0m_pin_memory\u001b[0m\u001b[0;34m:\u001b[0m\u001b[0;34m\u001b[0m\u001b[0;34m\u001b[0m\u001b[0m\n\u001b[1;32m    559\u001b[0m             \u001b[0mdata\u001b[0m \u001b[0;34m=\u001b[0m \u001b[0m_utils\u001b[0m\u001b[0;34m.\u001b[0m\u001b[0mpin_memory\u001b[0m\u001b[0;34m.\u001b[0m\u001b[0mpin_memory\u001b[0m\u001b[0;34m(\u001b[0m\u001b[0mdata\u001b[0m\u001b[0;34m)\u001b[0m\u001b[0;34m\u001b[0m\u001b[0;34m\u001b[0m\u001b[0m\n",
      "\u001b[0;32m~/anaconda3/envs/deep_learning/lib/python3.9/site-packages/torch/utils/data/_utils/fetch.py\u001b[0m in \u001b[0;36mfetch\u001b[0;34m(self, possibly_batched_index)\u001b[0m\n\u001b[1;32m     42\u001b[0m     \u001b[0;32mdef\u001b[0m \u001b[0mfetch\u001b[0m\u001b[0;34m(\u001b[0m\u001b[0mself\u001b[0m\u001b[0;34m,\u001b[0m \u001b[0mpossibly_batched_index\u001b[0m\u001b[0;34m)\u001b[0m\u001b[0;34m:\u001b[0m\u001b[0;34m\u001b[0m\u001b[0;34m\u001b[0m\u001b[0m\n\u001b[1;32m     43\u001b[0m         \u001b[0;32mif\u001b[0m \u001b[0mself\u001b[0m\u001b[0;34m.\u001b[0m\u001b[0mauto_collation\u001b[0m\u001b[0;34m:\u001b[0m\u001b[0;34m\u001b[0m\u001b[0;34m\u001b[0m\u001b[0m\n\u001b[0;32m---> 44\u001b[0;31m             \u001b[0mdata\u001b[0m \u001b[0;34m=\u001b[0m \u001b[0;34m[\u001b[0m\u001b[0mself\u001b[0m\u001b[0;34m.\u001b[0m\u001b[0mdataset\u001b[0m\u001b[0;34m[\u001b[0m\u001b[0midx\u001b[0m\u001b[0;34m]\u001b[0m \u001b[0;32mfor\u001b[0m \u001b[0midx\u001b[0m \u001b[0;32min\u001b[0m \u001b[0mpossibly_batched_index\u001b[0m\u001b[0;34m]\u001b[0m\u001b[0;34m\u001b[0m\u001b[0;34m\u001b[0m\u001b[0m\n\u001b[0m\u001b[1;32m     45\u001b[0m         \u001b[0;32melse\u001b[0m\u001b[0;34m:\u001b[0m\u001b[0;34m\u001b[0m\u001b[0;34m\u001b[0m\u001b[0m\n\u001b[1;32m     46\u001b[0m             \u001b[0mdata\u001b[0m \u001b[0;34m=\u001b[0m \u001b[0mself\u001b[0m\u001b[0;34m.\u001b[0m\u001b[0mdataset\u001b[0m\u001b[0;34m[\u001b[0m\u001b[0mpossibly_batched_index\u001b[0m\u001b[0;34m]\u001b[0m\u001b[0;34m\u001b[0m\u001b[0;34m\u001b[0m\u001b[0m\n",
      "\u001b[0;32m~/anaconda3/envs/deep_learning/lib/python3.9/site-packages/torch/utils/data/_utils/fetch.py\u001b[0m in \u001b[0;36m<listcomp>\u001b[0;34m(.0)\u001b[0m\n\u001b[1;32m     42\u001b[0m     \u001b[0;32mdef\u001b[0m \u001b[0mfetch\u001b[0m\u001b[0;34m(\u001b[0m\u001b[0mself\u001b[0m\u001b[0;34m,\u001b[0m \u001b[0mpossibly_batched_index\u001b[0m\u001b[0;34m)\u001b[0m\u001b[0;34m:\u001b[0m\u001b[0;34m\u001b[0m\u001b[0;34m\u001b[0m\u001b[0m\n\u001b[1;32m     43\u001b[0m         \u001b[0;32mif\u001b[0m \u001b[0mself\u001b[0m\u001b[0;34m.\u001b[0m\u001b[0mauto_collation\u001b[0m\u001b[0;34m:\u001b[0m\u001b[0;34m\u001b[0m\u001b[0;34m\u001b[0m\u001b[0m\n\u001b[0;32m---> 44\u001b[0;31m             \u001b[0mdata\u001b[0m \u001b[0;34m=\u001b[0m \u001b[0;34m[\u001b[0m\u001b[0mself\u001b[0m\u001b[0;34m.\u001b[0m\u001b[0mdataset\u001b[0m\u001b[0;34m[\u001b[0m\u001b[0midx\u001b[0m\u001b[0;34m]\u001b[0m \u001b[0;32mfor\u001b[0m \u001b[0midx\u001b[0m \u001b[0;32min\u001b[0m \u001b[0mpossibly_batched_index\u001b[0m\u001b[0;34m]\u001b[0m\u001b[0;34m\u001b[0m\u001b[0;34m\u001b[0m\u001b[0m\n\u001b[0m\u001b[1;32m     45\u001b[0m         \u001b[0;32melse\u001b[0m\u001b[0;34m:\u001b[0m\u001b[0;34m\u001b[0m\u001b[0;34m\u001b[0m\u001b[0m\n\u001b[1;32m     46\u001b[0m             \u001b[0mdata\u001b[0m \u001b[0;34m=\u001b[0m \u001b[0mself\u001b[0m\u001b[0;34m.\u001b[0m\u001b[0mdataset\u001b[0m\u001b[0;34m[\u001b[0m\u001b[0mpossibly_batched_index\u001b[0m\u001b[0;34m]\u001b[0m\u001b[0;34m\u001b[0m\u001b[0;34m\u001b[0m\u001b[0m\n",
      "\u001b[0;32m~/anaconda3/envs/deep_learning/lib/python3.9/site-packages/torchvision/datasets/mnist.py\u001b[0m in \u001b[0;36m__getitem__\u001b[0;34m(self, index)\u001b[0m\n\u001b[1;32m     93\u001b[0m \u001b[0;34m\u001b[0m\u001b[0m\n\u001b[1;32m     94\u001b[0m         \u001b[0;32mif\u001b[0m \u001b[0mself\u001b[0m\u001b[0;34m.\u001b[0m\u001b[0mtransform\u001b[0m \u001b[0;32mis\u001b[0m \u001b[0;32mnot\u001b[0m \u001b[0;32mNone\u001b[0m\u001b[0;34m:\u001b[0m\u001b[0;34m\u001b[0m\u001b[0;34m\u001b[0m\u001b[0m\n\u001b[0;32m---> 95\u001b[0;31m             \u001b[0mimg\u001b[0m \u001b[0;34m=\u001b[0m \u001b[0mself\u001b[0m\u001b[0;34m.\u001b[0m\u001b[0mtransform\u001b[0m\u001b[0;34m(\u001b[0m\u001b[0mimg\u001b[0m\u001b[0;34m)\u001b[0m\u001b[0;34m\u001b[0m\u001b[0;34m\u001b[0m\u001b[0m\n\u001b[0m\u001b[1;32m     96\u001b[0m \u001b[0;34m\u001b[0m\u001b[0m\n\u001b[1;32m     97\u001b[0m         \u001b[0;32mif\u001b[0m \u001b[0mself\u001b[0m\u001b[0;34m.\u001b[0m\u001b[0mtarget_transform\u001b[0m \u001b[0;32mis\u001b[0m \u001b[0;32mnot\u001b[0m \u001b[0;32mNone\u001b[0m\u001b[0;34m:\u001b[0m\u001b[0;34m\u001b[0m\u001b[0;34m\u001b[0m\u001b[0m\n",
      "\u001b[0;32m~/anaconda3/envs/deep_learning/lib/python3.9/site-packages/torchvision/transforms/transforms.py\u001b[0m in \u001b[0;36m__call__\u001b[0;34m(self, img)\u001b[0m\n\u001b[1;32m     58\u001b[0m     \u001b[0;32mdef\u001b[0m \u001b[0m__call__\u001b[0m\u001b[0;34m(\u001b[0m\u001b[0mself\u001b[0m\u001b[0;34m,\u001b[0m \u001b[0mimg\u001b[0m\u001b[0;34m)\u001b[0m\u001b[0;34m:\u001b[0m\u001b[0;34m\u001b[0m\u001b[0;34m\u001b[0m\u001b[0m\n\u001b[1;32m     59\u001b[0m         \u001b[0;32mfor\u001b[0m \u001b[0mt\u001b[0m \u001b[0;32min\u001b[0m \u001b[0mself\u001b[0m\u001b[0;34m.\u001b[0m\u001b[0mtransforms\u001b[0m\u001b[0;34m:\u001b[0m\u001b[0;34m\u001b[0m\u001b[0;34m\u001b[0m\u001b[0m\n\u001b[0;32m---> 60\u001b[0;31m             \u001b[0mimg\u001b[0m \u001b[0;34m=\u001b[0m \u001b[0mt\u001b[0m\u001b[0;34m(\u001b[0m\u001b[0mimg\u001b[0m\u001b[0;34m)\u001b[0m\u001b[0;34m\u001b[0m\u001b[0;34m\u001b[0m\u001b[0m\n\u001b[0m\u001b[1;32m     61\u001b[0m         \u001b[0;32mreturn\u001b[0m \u001b[0mimg\u001b[0m\u001b[0;34m\u001b[0m\u001b[0;34m\u001b[0m\u001b[0m\n\u001b[1;32m     62\u001b[0m \u001b[0;34m\u001b[0m\u001b[0m\n",
      "\u001b[0;32m~/anaconda3/envs/deep_learning/lib/python3.9/site-packages/torchvision/transforms/transforms.py\u001b[0m in \u001b[0;36m__call__\u001b[0;34m(self, pic)\u001b[0m\n\u001b[1;32m     89\u001b[0m             \u001b[0mTensor\u001b[0m\u001b[0;34m:\u001b[0m \u001b[0mConverted\u001b[0m \u001b[0mimage\u001b[0m\u001b[0;34m.\u001b[0m\u001b[0;34m\u001b[0m\u001b[0;34m\u001b[0m\u001b[0m\n\u001b[1;32m     90\u001b[0m         \"\"\"\n\u001b[0;32m---> 91\u001b[0;31m         \u001b[0;32mreturn\u001b[0m \u001b[0mF\u001b[0m\u001b[0;34m.\u001b[0m\u001b[0mto_tensor\u001b[0m\u001b[0;34m(\u001b[0m\u001b[0mpic\u001b[0m\u001b[0;34m)\u001b[0m\u001b[0;34m\u001b[0m\u001b[0;34m\u001b[0m\u001b[0m\n\u001b[0m\u001b[1;32m     92\u001b[0m \u001b[0;34m\u001b[0m\u001b[0m\n\u001b[1;32m     93\u001b[0m     \u001b[0;32mdef\u001b[0m \u001b[0m__repr__\u001b[0m\u001b[0;34m(\u001b[0m\u001b[0mself\u001b[0m\u001b[0;34m)\u001b[0m\u001b[0;34m:\u001b[0m\u001b[0;34m\u001b[0m\u001b[0;34m\u001b[0m\u001b[0m\n",
      "\u001b[0;32m~/anaconda3/envs/deep_learning/lib/python3.9/site-packages/torchvision/transforms/functional.py\u001b[0m in \u001b[0;36mto_tensor\u001b[0;34m(pic)\u001b[0m\n\u001b[1;32m     77\u001b[0m         \u001b[0mimg\u001b[0m \u001b[0;34m=\u001b[0m \u001b[0;36m255\u001b[0m \u001b[0;34m*\u001b[0m \u001b[0mtorch\u001b[0m\u001b[0;34m.\u001b[0m\u001b[0mfrom_numpy\u001b[0m\u001b[0;34m(\u001b[0m\u001b[0mnp\u001b[0m\u001b[0;34m.\u001b[0m\u001b[0marray\u001b[0m\u001b[0;34m(\u001b[0m\u001b[0mpic\u001b[0m\u001b[0;34m,\u001b[0m \u001b[0mnp\u001b[0m\u001b[0;34m.\u001b[0m\u001b[0muint8\u001b[0m\u001b[0;34m,\u001b[0m \u001b[0mcopy\u001b[0m\u001b[0;34m=\u001b[0m\u001b[0;32mFalse\u001b[0m\u001b[0;34m)\u001b[0m\u001b[0;34m)\u001b[0m\u001b[0;34m\u001b[0m\u001b[0;34m\u001b[0m\u001b[0m\n\u001b[1;32m     78\u001b[0m     \u001b[0;32melse\u001b[0m\u001b[0;34m:\u001b[0m\u001b[0;34m\u001b[0m\u001b[0;34m\u001b[0m\u001b[0m\n\u001b[0;32m---> 79\u001b[0;31m         \u001b[0mimg\u001b[0m \u001b[0;34m=\u001b[0m \u001b[0mtorch\u001b[0m\u001b[0;34m.\u001b[0m\u001b[0mByteTensor\u001b[0m\u001b[0;34m(\u001b[0m\u001b[0mtorch\u001b[0m\u001b[0;34m.\u001b[0m\u001b[0mByteStorage\u001b[0m\u001b[0;34m.\u001b[0m\u001b[0mfrom_buffer\u001b[0m\u001b[0;34m(\u001b[0m\u001b[0mpic\u001b[0m\u001b[0;34m.\u001b[0m\u001b[0mtobytes\u001b[0m\u001b[0;34m(\u001b[0m\u001b[0;34m)\u001b[0m\u001b[0;34m)\u001b[0m\u001b[0;34m)\u001b[0m\u001b[0;34m\u001b[0m\u001b[0;34m\u001b[0m\u001b[0m\n\u001b[0m\u001b[1;32m     80\u001b[0m     \u001b[0;31m# PIL image mode: L, LA, P, I, F, RGB, YCbCr, RGBA, CMYK\u001b[0m\u001b[0;34m\u001b[0m\u001b[0;34m\u001b[0m\u001b[0;34m\u001b[0m\u001b[0m\n\u001b[1;32m     81\u001b[0m     \u001b[0;32mif\u001b[0m \u001b[0mpic\u001b[0m\u001b[0;34m.\u001b[0m\u001b[0mmode\u001b[0m \u001b[0;34m==\u001b[0m \u001b[0;34m'YCbCr'\u001b[0m\u001b[0;34m:\u001b[0m\u001b[0;34m\u001b[0m\u001b[0;34m\u001b[0m\u001b[0m\n",
      "\u001b[0;31mKeyboardInterrupt\u001b[0m: "
     ]
    }
   ],
   "source": [
    "## TODO: Your training loop here\n",
    "\n",
    "'''\n",
    "# Define a transform to normalize the data (Preprocessing)\n",
    "transform = transforms.Compose([transforms.ToTensor(), transforms.Normalize((0.5,), (0.5,)) ])\n",
    "\n",
    "# Download and load the training data\n",
    "trainset    = datasets.MNIST('MNIST_data/', download=True, train=True, transform=transform)\n",
    "trainloader = torch.utils.data.DataLoader(trainset, batch_size=16, shuffle=True)\n",
    "\n",
    "# Download and load the test data\n",
    "testset    = datasets.MNIST('MNIST_data/', download=True, train=False, transform=transform)\n",
    "testloader = torch.utils.data.DataLoader(testset, batch_size=16, shuffle=True)\n",
    "'''\n",
    "\n",
    "epochs = 7\n",
    "print_every = 40\n",
    "accs_test = []\n",
    "\n",
    "for e in range(epochs):\n",
    "    running_loss = 0\n",
    "    print(f\"Epoch: {e+1}/{epochs}\")\n",
    "\n",
    "    for i, (images, labels) in enumerate(iter(trainloader)):\n",
    "\n",
    "        # Flatten EMNIST images into a 784 long vector\n",
    "        images.resize_(images.size()[0], 784)\n",
    "        \n",
    "        optimizer.zero_grad()\n",
    "        \n",
    "        output = model.forward(images)   # 1) Forward pass\n",
    "        loss = criterion(output, labels) # 2) Compute loss\n",
    "        loss.backward()                  # 3) Backward pass\n",
    "        optimizer.step()                 # 4) Update model\n",
    "        \n",
    "        running_loss += loss.item()\n",
    "        \n",
    "        if i % print_every == 0:\n",
    "            print(f\"\\tIteration: {i}\\t Loss: {running_loss/print_every:.4f}\")\n",
    "            running_loss = 0\n",
    "    model.eval()\n",
    "    with torch.no_grad():\n",
    "\n",
    "        acc, y_pred, y_true = check_accuracy(testloader, model)\n",
    "        accs_test.append(acc)\n",
    "    model.train()"
   ]
  },
  {
   "cell_type": "code",
   "execution_count": 12,
   "metadata": {},
   "outputs": [
    {
     "output_type": "execute_result",
     "data": {
      "text/plain": [
       "[0.0983, 0.0986, 0.1511, 0.2129, 0.3128, 0.4973, 0.539]"
      ]
     },
     "metadata": {},
     "execution_count": 12
    }
   ],
   "source": [
    "accs_test"
   ]
  },
  {
   "cell_type": "code",
   "execution_count": 45,
   "metadata": {},
   "outputs": [
    {
     "output_type": "display_data",
     "data": {
      "text/plain": "<Figure size 432x648 with 2 Axes>",
      "image/png": "[encoded data removed]"
     },
     "metadata": {
      "image/png": {
       "width": 349,
       "height": 195
      },
      "needs_background": "light"
     }
    }
   ],
   "source": [
    "# Run this cell with your model to make sure it works and predicts well for the validation data\n",
    "images, labels = next(iter(testloader))\n",
    "images.resize_(images.shape[0], 1, 784)\n",
    "ps = model.forward(images[0,:])\n",
    "view_classify(images[0].view(1, 28, 28), ps)"
   ]
  },
  {
   "cell_type": "markdown",
   "metadata": {},
   "source": [
    "<div style=\"background:#222222; color:#ffffff; padding:20px\">\n",
    "  <h3 style=\"color:#01ff84; margin-top:4px\">Exercise 3:</h3>\n",
    "  <p>Write the code for adding <strong style=\"color:#01ff84\">Early Stopping with patience = 2</strong> to the training loop from scratch.</p>\n",
    "  <p><strong style=\"color:#01ff84\">Hint:</strong> Monitor the Validation loss every epoch, and if in 2 epochs, the validation loss does not improve, stop the training loop with <code>break</code>.</p>\n",
    "<div>"
   ]
  },
  {
   "cell_type": "code",
   "execution_count": 46,
   "metadata": {
    "tags": []
   },
   "outputs": [
    {
     "output_type": "stream",
     "name": "stdout",
     "text": [
      "Epoch: 1/10\n",
      "\tIteration: 0\t Loss: 0.0465\n",
      "\tIteration: 40\t Loss: 1.8477\n",
      "\tIteration: 80\t Loss: 1.8434\n",
      "\tIteration: 120\t Loss: 1.8484\n",
      "\tIteration: 160\t Loss: 1.8456\n",
      "\tIteration: 200\t Loss: 1.8425\n",
      "\tIteration: 240\t Loss: 1.8776\n",
      "\tIteration: 280\t Loss: 1.8377\n",
      "\tIteration: 320\t Loss: 1.8706\n",
      "\tIteration: 360\t Loss: 1.8384\n",
      "\tIteration: 400\t Loss: 1.8666\n",
      "\tIteration: 440\t Loss: 1.8600\n",
      "\tIteration: 480\t Loss: 1.8413\n",
      "\tIteration: 520\t Loss: 1.8664\n",
      "\tIteration: 560\t Loss: 1.8021\n",
      "\tIteration: 600\t Loss: 1.8967\n",
      "\tIteration: 640\t Loss: 1.8264\n",
      "\tIteration: 680\t Loss: 1.8441\n",
      "\tIteration: 720\t Loss: 1.8423\n",
      "\tIteration: 760\t Loss: 1.8205\n",
      "\tIteration: 800\t Loss: 1.8438\n",
      "\tIteration: 840\t Loss: 1.8642\n",
      "\tIteration: 880\t Loss: 1.8592\n",
      "\tIteration: 920\t Loss: 1.8753\n",
      "\tIteration: 960\t Loss: 1.8392\n",
      "\tIteration: 1000\t Loss: 1.8540\n",
      "\tIteration: 1040\t Loss: 1.8587\n",
      "\tIteration: 1080\t Loss: 1.8459\n",
      "\tIteration: 1120\t Loss: 1.8607\n",
      "\tIteration: 1160\t Loss: 1.8611\n",
      "\tIteration: 1200\t Loss: 1.8532\n",
      "\tIteration: 1240\t Loss: 1.8677\n",
      "\tIteration: 1280\t Loss: 1.8642\n",
      "\tIteration: 1320\t Loss: 1.8360\n",
      "\tIteration: 1360\t Loss: 1.8745\n",
      "\tIteration: 1400\t Loss: 1.8609\n",
      "\tIteration: 1440\t Loss: 1.8586\n",
      "\tIteration: 1480\t Loss: 1.8675\n",
      "\tIteration: 1520\t Loss: 1.8583\n",
      "\tIteration: 1560\t Loss: 1.8524\n",
      "\tIteration: 1600\t Loss: 1.8587\n",
      "\tIteration: 1640\t Loss: 1.8636\n",
      "\tIteration: 1680\t Loss: 1.8538\n",
      "\tIteration: 1720\t Loss: 1.8536\n",
      "\tIteration: 1760\t Loss: 1.8539\n",
      "\tIteration: 1800\t Loss: 1.8471\n",
      "\tIteration: 1840\t Loss: 1.8703\n",
      "\tIteration: 1880\t Loss: 1.8500\n",
      "\tIteration: 1920\t Loss: 1.8427\n",
      "\tIteration: 1960\t Loss: 1.8508\n",
      "\tIteration: 2000\t Loss: 1.8652\n",
      "\tIteration: 2040\t Loss: 1.8790\n",
      "\tIteration: 2080\t Loss: 1.8660\n",
      "\tIteration: 2120\t Loss: 1.8489\n",
      "\tIteration: 2160\t Loss: 1.8400\n",
      "\tIteration: 2200\t Loss: 1.8367\n",
      "\tIteration: 2240\t Loss: 1.8327\n",
      "\tIteration: 2280\t Loss: 1.8412\n",
      "\tIteration: 2320\t Loss: 1.8362\n",
      "\tIteration: 2360\t Loss: 1.8479\n",
      "\tIteration: 2400\t Loss: 1.8465\n",
      "\tIteration: 2440\t Loss: 1.8391\n",
      "\tIteration: 2480\t Loss: 1.8546\n",
      "\tIteration: 2520\t Loss: 1.8098\n",
      "\tIteration: 2560\t Loss: 1.8637\n",
      "\tIteration: 2600\t Loss: 1.8535\n",
      "\tIteration: 2640\t Loss: 1.8686\n",
      "\tIteration: 2680\t Loss: 1.8481\n",
      "\tIteration: 2720\t Loss: 1.8582\n",
      "\tIteration: 2760\t Loss: 1.8453\n",
      "\tIteration: 2800\t Loss: 1.8623\n",
      "\tIteration: 2840\t Loss: 1.8835\n",
      "\tIteration: 2880\t Loss: 1.8677\n",
      "\tIteration: 2920\t Loss: 1.8559\n",
      "\tIteration: 2960\t Loss: 1.8581\n",
      "\tIteration: 3000\t Loss: 1.8448\n",
      "\tIteration: 3040\t Loss: 1.8386\n",
      "\tIteration: 3080\t Loss: 1.8407\n",
      "\tIteration: 3120\t Loss: 1.8295\n",
      "\tIteration: 3160\t Loss: 1.8278\n",
      "\tIteration: 3200\t Loss: 1.8529\n",
      "\tIteration: 3240\t Loss: 1.8729\n",
      "\tIteration: 3280\t Loss: 1.8438\n",
      "\tIteration: 3320\t Loss: 1.8292\n",
      "\tIteration: 3360\t Loss: 1.8405\n",
      "\tIteration: 3400\t Loss: 1.8362\n",
      "\tIteration: 3440\t Loss: 1.8471\n",
      "\tIteration: 3480\t Loss: 1.8569\n",
      "\tIteration: 3520\t Loss: 1.8602\n",
      "\tIteration: 3560\t Loss: 1.8328\n",
      "\tIteration: 3600\t Loss: 1.8607\n",
      "\tIteration: 3640\t Loss: 1.8282\n",
      "\tIteration: 3680\t Loss: 1.8715\n",
      "\tIteration: 3720\t Loss: 1.8586\n",
      "0.6178\n",
      "Epoch: 2/10\n",
      "\tIteration: 0\t Loss: 0.0442\n",
      "\tIteration: 40\t Loss: 1.8471\n",
      "\tIteration: 80\t Loss: 1.8521\n",
      "\tIteration: 120\t Loss: 1.8575\n",
      "\tIteration: 160\t Loss: 1.8491\n",
      "\tIteration: 200\t Loss: 1.8403\n",
      "\tIteration: 240\t Loss: 1.8081\n",
      "\tIteration: 280\t Loss: 1.8504\n",
      "\tIteration: 320\t Loss: 1.8582\n",
      "\tIteration: 360\t Loss: 1.8297\n",
      "\tIteration: 400\t Loss: 1.8129\n",
      "\tIteration: 440\t Loss: 1.8424\n",
      "\tIteration: 480\t Loss: 1.8421\n",
      "\tIteration: 520\t Loss: 1.8321\n",
      "\tIteration: 560\t Loss: 1.8528\n",
      "\tIteration: 600\t Loss: 1.8513\n",
      "\tIteration: 640\t Loss: 1.8566\n",
      "\tIteration: 680\t Loss: 1.8326\n",
      "\tIteration: 720\t Loss: 1.8452\n",
      "\tIteration: 760\t Loss: 1.8404\n",
      "\tIteration: 800\t Loss: 1.8322\n",
      "\tIteration: 840\t Loss: 1.8467\n",
      "\tIteration: 880\t Loss: 1.8825\n",
      "\tIteration: 920\t Loss: 1.8266\n",
      "\tIteration: 960\t Loss: 1.8273\n",
      "\tIteration: 1000\t Loss: 1.8948\n",
      "\tIteration: 1040\t Loss: 1.8453\n",
      "\tIteration: 1080\t Loss: 1.8233\n",
      "\tIteration: 1120\t Loss: 1.8636\n",
      "\tIteration: 1160\t Loss: 1.8374\n",
      "\tIteration: 1200\t Loss: 1.8541\n",
      "\tIteration: 1240\t Loss: 1.8963\n",
      "\tIteration: 1280\t Loss: 1.8747\n",
      "\tIteration: 1320\t Loss: 1.8695\n",
      "\tIteration: 1360\t Loss: 1.8018\n",
      "\tIteration: 1400\t Loss: 1.8787\n",
      "\tIteration: 1440\t Loss: 1.8245\n",
      "\tIteration: 1480\t Loss: 1.8636\n",
      "\tIteration: 1520\t Loss: 1.8765\n",
      "\tIteration: 1560\t Loss: 1.8363\n",
      "\tIteration: 1600\t Loss: 1.8492\n",
      "\tIteration: 1640\t Loss: 1.8653\n",
      "\tIteration: 1680\t Loss: 1.8497\n",
      "\tIteration: 1720\t Loss: 1.8428\n",
      "\tIteration: 1760\t Loss: 1.8666\n",
      "\tIteration: 1800\t Loss: 1.8384\n",
      "\tIteration: 1840\t Loss: 1.8301\n",
      "\tIteration: 1880\t Loss: 1.8535\n",
      "\tIteration: 1920\t Loss: 1.8666\n",
      "\tIteration: 1960\t Loss: 1.8660\n",
      "\tIteration: 2000\t Loss: 1.8680\n",
      "\tIteration: 2040\t Loss: 1.8461\n",
      "\tIteration: 2080\t Loss: 1.8815\n",
      "\tIteration: 2120\t Loss: 1.8746\n",
      "\tIteration: 2160\t Loss: 1.8444\n",
      "\tIteration: 2200\t Loss: 1.8375\n",
      "\tIteration: 2240\t Loss: 1.8318\n",
      "\tIteration: 2280\t Loss: 1.8500\n",
      "\tIteration: 2320\t Loss: 1.8282\n",
      "\tIteration: 2360\t Loss: 1.8906\n",
      "\tIteration: 2400\t Loss: 1.8741\n",
      "\tIteration: 2440\t Loss: 1.8752\n",
      "\tIteration: 2480\t Loss: 1.8326\n",
      "\tIteration: 2520\t Loss: 1.8445\n",
      "\tIteration: 2560\t Loss: 1.8261\n",
      "\tIteration: 2600\t Loss: 1.8394\n",
      "\tIteration: 2640\t Loss: 1.8590\n",
      "\tIteration: 2680\t Loss: 1.8264\n",
      "\tIteration: 2720\t Loss: 1.8179\n",
      "\tIteration: 2760\t Loss: 1.8229\n",
      "\tIteration: 2800\t Loss: 1.7967\n",
      "\tIteration: 2840\t Loss: 1.8724\n",
      "\tIteration: 2880\t Loss: 1.8300\n",
      "\tIteration: 2920\t Loss: 1.8161\n",
      "\tIteration: 2960\t Loss: 1.8557\n",
      "\tIteration: 3000\t Loss: 1.8528\n",
      "\tIteration: 3040\t Loss: 1.8360\n",
      "\tIteration: 3080\t Loss: 1.8304\n",
      "\tIteration: 3120\t Loss: 1.8429\n",
      "\tIteration: 3160\t Loss: 1.8559\n",
      "\tIteration: 3200\t Loss: 1.8234\n",
      "\tIteration: 3240\t Loss: 1.8426\n",
      "\tIteration: 3280\t Loss: 1.8589\n",
      "\tIteration: 3320\t Loss: 1.8377\n",
      "\tIteration: 3360\t Loss: 1.8470\n",
      "\tIteration: 3400\t Loss: 1.8638\n",
      "\tIteration: 3440\t Loss: 1.8393\n",
      "\tIteration: 3480\t Loss: 1.8451\n",
      "\tIteration: 3520\t Loss: 1.8428\n",
      "\tIteration: 3560\t Loss: 1.8506\n",
      "\tIteration: 3600\t Loss: 1.8461\n",
      "\tIteration: 3640\t Loss: 1.7994\n",
      "\tIteration: 3680\t Loss: 1.8389\n",
      "\tIteration: 3720\t Loss: 1.8613\n",
      "0.6259\n",
      "Epoch: 3/10\n",
      "\tIteration: 0\t Loss: 0.0475\n",
      "\tIteration: 40\t Loss: 1.8492\n",
      "\tIteration: 80\t Loss: 1.8177\n",
      "\tIteration: 120\t Loss: 1.8213\n",
      "\tIteration: 160\t Loss: 1.8349\n",
      "\tIteration: 200\t Loss: 1.8226\n",
      "\tIteration: 240\t Loss: 1.8737\n",
      "\tIteration: 280\t Loss: 1.8130\n",
      "\tIteration: 320\t Loss: 1.8554\n",
      "\tIteration: 360\t Loss: 1.8585\n",
      "\tIteration: 400\t Loss: 1.8482\n",
      "\tIteration: 440\t Loss: 1.8630\n",
      "\tIteration: 480\t Loss: 1.8525\n",
      "\tIteration: 520\t Loss: 1.8427\n",
      "\tIteration: 560\t Loss: 1.8592\n",
      "\tIteration: 600\t Loss: 1.8411\n",
      "\tIteration: 640\t Loss: 1.8757\n",
      "\tIteration: 680\t Loss: 1.8578\n",
      "\tIteration: 720\t Loss: 1.8654\n",
      "\tIteration: 760\t Loss: 1.8024\n",
      "\tIteration: 800\t Loss: 1.8225\n",
      "\tIteration: 840\t Loss: 1.8232\n",
      "\tIteration: 880\t Loss: 1.8366\n",
      "\tIteration: 920\t Loss: 1.8176\n",
      "\tIteration: 960\t Loss: 1.8800\n",
      "\tIteration: 1000\t Loss: 1.8564\n",
      "\tIteration: 1040\t Loss: 1.8443\n",
      "\tIteration: 1080\t Loss: 1.8245\n",
      "\tIteration: 1120\t Loss: 1.8136\n",
      "\tIteration: 1160\t Loss: 1.8624\n",
      "\tIteration: 1200\t Loss: 1.8559\n",
      "\tIteration: 1240\t Loss: 1.8321\n",
      "\tIteration: 1280\t Loss: 1.8251\n",
      "\tIteration: 1320\t Loss: 1.8410\n",
      "\tIteration: 1360\t Loss: 1.8698\n",
      "\tIteration: 1400\t Loss: 1.8329\n",
      "\tIteration: 1440\t Loss: 1.8529\n",
      "\tIteration: 1480\t Loss: 1.8446\n",
      "\tIteration: 1520\t Loss: 1.8219\n",
      "\tIteration: 1560\t Loss: 1.8355\n",
      "\tIteration: 1600\t Loss: 1.8135\n",
      "\tIteration: 1640\t Loss: 1.8448\n",
      "\tIteration: 1680\t Loss: 1.8562\n",
      "\tIteration: 1720\t Loss: 1.8101\n",
      "\tIteration: 1760\t Loss: 1.8741\n",
      "\tIteration: 1800\t Loss: 1.8055\n",
      "\tIteration: 1840\t Loss: 1.8568\n",
      "\tIteration: 1880\t Loss: 1.8780\n",
      "\tIteration: 1920\t Loss: 1.8229\n",
      "\tIteration: 1960\t Loss: 1.8482\n",
      "\tIteration: 2000\t Loss: 1.8673\n",
      "\tIteration: 2040\t Loss: 1.8412\n",
      "\tIteration: 2080\t Loss: 1.8475\n",
      "\tIteration: 2120\t Loss: 1.8266\n",
      "\tIteration: 2160\t Loss: 1.8438\n",
      "\tIteration: 2200\t Loss: 1.8435\n",
      "\tIteration: 2240\t Loss: 1.8420\n",
      "\tIteration: 2280\t Loss: 1.8773\n",
      "\tIteration: 2320\t Loss: 1.8286\n",
      "\tIteration: 2360\t Loss: 1.8442\n",
      "\tIteration: 2400\t Loss: 1.8290\n",
      "\tIteration: 2440\t Loss: 1.8114\n",
      "\tIteration: 2480\t Loss: 1.8174\n",
      "\tIteration: 2520\t Loss: 1.8581\n",
      "\tIteration: 2560\t Loss: 1.8316\n",
      "\tIteration: 2600\t Loss: 1.8333\n",
      "\tIteration: 2640\t Loss: 1.8723\n",
      "\tIteration: 2680\t Loss: 1.8641\n",
      "\tIteration: 2720\t Loss: 1.8280\n",
      "\tIteration: 2760\t Loss: 1.8411\n",
      "\tIteration: 2800\t Loss: 1.8309\n",
      "\tIteration: 2840\t Loss: 1.8229\n",
      "\tIteration: 2880\t Loss: 1.8174\n",
      "\tIteration: 2920\t Loss: 1.8875\n",
      "\tIteration: 2960\t Loss: 1.8769\n",
      "\tIteration: 3000\t Loss: 1.8089\n",
      "\tIteration: 3040\t Loss: 1.8471\n",
      "\tIteration: 3080\t Loss: 1.8204\n",
      "\tIteration: 3120\t Loss: 1.8476\n",
      "\tIteration: 3160\t Loss: 1.8655\n",
      "\tIteration: 3200\t Loss: 1.8564\n",
      "\tIteration: 3240\t Loss: 1.8173\n",
      "\tIteration: 3280\t Loss: 1.8794\n",
      "\tIteration: 3320\t Loss: 1.8538\n",
      "\tIteration: 3360\t Loss: 1.8405\n",
      "\tIteration: 3400\t Loss: 1.8148\n",
      "\tIteration: 3440\t Loss: 1.8631\n",
      "\tIteration: 3480\t Loss: 1.8415\n",
      "\tIteration: 3520\t Loss: 1.8534\n",
      "\tIteration: 3560\t Loss: 1.8659\n",
      "\tIteration: 3600\t Loss: 1.8700\n",
      "\tIteration: 3640\t Loss: 1.8315\n",
      "\tIteration: 3680\t Loss: 1.8310\n",
      "\tIteration: 3720\t Loss: 1.8540\n",
      "0.6285\n"
     ]
    }
   ],
   "source": [
    "## TODO: Your training loop here\n",
    "\n",
    "epochs = 10\n",
    "print_every = 40\n",
    "accs_test = []\n",
    "patience = 2\n",
    "epsilon = 0.005\n",
    "\n",
    "for e in range(epochs):\n",
    "    running_loss = 0\n",
    "    print(f\"Epoch: {e+1}/{epochs}\")\n",
    "\n",
    "    for i, (images, labels) in enumerate(iter(trainloader)):\n",
    "\n",
    "        # Flatten EMNIST images into a 784 long vector\n",
    "        images.resize_(images.size()[0], 784)\n",
    "        \n",
    "        optimizer.zero_grad()\n",
    "        \n",
    "        output = model.forward(images)   # 1) Forward pass\n",
    "        loss = criterion(output, labels) # 2) Compute loss\n",
    "        loss.backward()                  # 3) Backward pass\n",
    "        optimizer.step()                 # 4) Update model\n",
    "        \n",
    "        running_loss += loss.item()\n",
    "        \n",
    "        if i % print_every == 0:\n",
    "            print(f\"\\tIteration: {i}\\t Loss: {running_loss/print_every:.4f}\")\n",
    "            running_loss = 0\n",
    "    model.eval()\n",
    "    with torch.no_grad():\n",
    "\n",
    "        acc, y_pred, y_true = check_accuracy(testloader, model)\n",
    "        accs_test.append(acc)\n",
    "    model.train()\n",
    "    if len(accs_test) > (patience - 1):\n",
    "        if accs_test[-1] - accs_test[-patience] < epsilon:\n",
    "            break"
   ]
  },
  {
   "cell_type": "markdown",
   "metadata": {},
   "source": [
    "<div style=\"background:#222222; color:#ffffff; padding:20px\">\n",
    "  <h3 style=\"color:#01ff84; margin-top:4px\">Optional:</h3>\n",
    "  <p>Don't you want to use MNIST? Try EMNIST instead! Maybe using the first 10 letters of the alphabet!</p>\n"
   ]
  },
  {
   "cell_type": "code",
   "execution_count": 33,
   "metadata": {
    "ExecuteTime": {
     "end_time": "2021-05-26T22:35:26.981584Z",
     "start_time": "2021-05-26T22:35:26.954522Z"
    }
   },
   "outputs": [],
   "source": [
    "# we will need a custom visualization function\n",
    "def view_classify_emnist(img, ps):\n",
    "\n",
    "    ps = ps.data.numpy().squeeze()\n",
    "\n",
    "    fig, (ax1, ax2) = plt.subplots(figsize=(6,9), ncols=2)\n",
    "    ax1.imshow(img.resize_(1, 28, 28).numpy().squeeze())\n",
    "    ax1.axis('off')\n",
    "    ax2.barh(list(\"abcdefghij\"), ps)\n",
    "    ax2.set_aspect(0.1)\n",
    "    ax2.set_yticks(np.arange(10))\n",
    "    ax2.set_yticklabels(np.arange(10))\n",
    "    ax2.set_title('Class Probability')\n",
    "    ax2.set_xlim(0, 1.1)"
   ]
  },
  {
   "cell_type": "code",
   "execution_count": 49,
   "metadata": {
    "ExecuteTime": {
     "end_time": "2021-05-26T22:50:57.571260Z",
     "start_time": "2021-05-26T22:50:57.322172Z"
    }
   },
   "outputs": [],
   "source": [
    "# Define a transform to normalize the data (Preprocessing)\n",
    "transform = transforms.Compose([transforms.ToTensor(), transforms.Normalize((0.5), (0.5)) ])\n",
    "def my_collate(batch):\n",
    "    modified_batch = []\n",
    "    for item in batch:\n",
    "        image, label = item\n",
    "        if label < 10: # only the first ten letters\n",
    "            modified_batch.append(item)\n",
    "    return torch.utils.data._utils.collate.default_collate(modified_batch)\n",
    "\n",
    "\n",
    "# Download and load the training data\n",
    "trainset    = datasets.EMNIST('EMNIST_data/', split=\"letters\", download=True, train=True, transform=transform)\n",
    "trainloader = torch.utils.data.DataLoader(trainset, batch_size=16, shuffle=True, collate_fn=my_collate)\n",
    "\n",
    "# Download and load the test data\n",
    "testset    = datasets.EMNIST('EMNIST_data/', split=\"letters\", download=True, train=False, transform=transform)\n",
    "testloader = torch.utils.data.DataLoader(testset, batch_size=16, shuffle=True, collate_fn=my_collate)"
   ]
  },
  {
   "cell_type": "code",
   "execution_count": 51,
   "metadata": {
    "ExecuteTime": {
     "end_time": "2021-05-26T22:51:02.493175Z",
     "start_time": "2021-05-26T22:51:02.464301Z"
    }
   },
   "outputs": [],
   "source": [
    "dataiter = iter(trainloader)\n",
    "images, labels = dataiter.next()"
   ]
  },
  {
   "cell_type": "code",
   "execution_count": 52,
   "metadata": {
    "ExecuteTime": {
     "end_time": "2021-05-26T22:51:03.118421Z",
     "start_time": "2021-05-26T22:51:02.978678Z"
    }
   },
   "outputs": [
    {
     "data": {
      "image/png": "[encoded data removed]",
      "text/plain": [
       "<Figure size 432x288 with 1 Axes>"
      ]
     },
     "metadata": {
      "image/png": {
       "height": 248,
       "width": 251
      },
      "needs_background": "light"
     },
     "output_type": "display_data"
    }
   ],
   "source": [
    "plt.imshow(images[5].numpy().squeeze(), cmap='Greys_r');"
   ]
  },
  {
   "cell_type": "code",
   "execution_count": 53,
   "metadata": {
    "ExecuteTime": {
     "end_time": "2021-05-26T22:51:06.653639Z",
     "start_time": "2021-05-26T22:51:06.647991Z"
    }
   },
   "outputs": [
    {
     "data": {
      "text/plain": [
       "tensor([1, 9, 6, 7, 5, 1, 9, 3])"
      ]
     },
     "execution_count": 53,
     "metadata": {},
     "output_type": "execute_result"
    }
   ],
   "source": [
    "labels"
   ]
  },
  {
   "cell_type": "code",
   "execution_count": null,
   "metadata": {},
   "outputs": [],
   "source": []
  }
 ],
 "metadata": {
  "kernelspec": {
   "name": "python395jvsc74a57bd05d8eb55396b26e444e25830983e23d02f9d742a022e83389ffb69c4e4a8d7f54",
   "display_name": "Python 3.9.5 64-bit ('deep_learning': conda)"
  },
  "language_info": {
   "codemirror_mode": {
    "name": "ipython",
    "version": 3
   },
   "file_extension": ".py",
   "mimetype": "text/x-python",
   "name": "python",
   "nbconvert_exporter": "python",
   "pygments_lexer": "ipython3",
   "version": "3.9.5"
  },
  "varInspector": {
   "cols": {
    "lenName": 16,
    "lenType": 16,
    "lenVar": 40
   },
   "kernels_config": {
    "python": {
     "delete_cmd_postfix": "",
     "delete_cmd_prefix": "del ",
     "library": "var_list.py",
     "varRefreshCmd": "print(var_dic_list())"
    },
    "r": {
     "delete_cmd_postfix": ") ",
     "delete_cmd_prefix": "rm(",
     "library": "var_list.r",
     "varRefreshCmd": "cat(var_dic_list()) "
    }
   },
   "types_to_exclude": [
    "module",
    "function",
    "builtin_function_or_method",
    "instance",
    "_Feature"
   ],
   "window_display": false
  },
  "metadata": {
   "interpreter": {
    "hash": "5d8eb55396b26e444e25830983e23d02f9d742a022e83389ffb69c4e4a8d7f54"
   }
  }
 },
 "nbformat": 4,
 "nbformat_minor": 2
}