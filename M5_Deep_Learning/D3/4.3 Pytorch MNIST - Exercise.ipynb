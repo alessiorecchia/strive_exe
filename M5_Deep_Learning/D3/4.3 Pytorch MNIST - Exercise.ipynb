{
 "cells": [
  {
   "cell_type": "markdown",
   "metadata": {},
   "source": [
    "<div style=\"background:#222222; color:#ffffff; padding:20px\">\n",
    "    <h2 align=\"center\">Deep Learning Fundamentals</h2>\n",
    "    <h2 align=\"center\" style=\"color:#01ff84\">Multiclass Classification: MNIST</h2>\n",
    "<div>"
   ]
  },
  {
   "cell_type": "markdown",
   "metadata": {},
   "source": [
    "## Imports"
   ]
  },
  {
   "cell_type": "code",
   "execution_count": 1,
   "metadata": {
    "ExecuteTime": {
     "end_time": "2021-05-26T22:26:36.081105Z",
     "start_time": "2021-05-26T22:26:35.040138Z"
    }
   },
   "outputs": [],
   "source": [
    "%matplotlib inline\n",
    "%config InlineBackend.figure_format = 'retina'\n",
    "\n",
    "from collections import OrderedDict\n",
    "\n",
    "import numpy as np\n",
    "import matplotlib.pyplot as plt\n",
    "import time\n",
    "\n",
    "import torch\n",
    "from torch import nn\n",
    "from torch import optim\n",
    "import torch.nn.functional as F\n",
    "\n",
    "from torchvision import datasets, transforms"
   ]
  },
  {
   "cell_type": "markdown",
   "metadata": {},
   "source": [
    "## Auxliary plotting function"
   ]
  },
  {
   "cell_type": "code",
   "execution_count": 2,
   "metadata": {
    "ExecuteTime": {
     "end_time": "2021-05-26T22:26:37.473177Z",
     "start_time": "2021-05-26T22:26:37.465910Z"
    }
   },
   "outputs": [],
   "source": [
    "# https://discuss.pytorch.org/t/view-classify-in-module-helper/30279/6\n",
    "\n",
    "def view_classify(img, ps):\n",
    "\n",
    "    ps = ps.data.numpy().squeeze()\n",
    "\n",
    "    fig, (ax1, ax2) = plt.subplots(figsize=(6,9), ncols=2)\n",
    "    ax1.imshow(img.resize_(1, 28, 28).numpy().squeeze())\n",
    "    ax1.axis('off')\n",
    "    ax2.barh(np.arange(10), ps)\n",
    "    ax2.set_aspect(0.1)\n",
    "    ax2.set_yticks(np.arange(10))\n",
    "    ax2.set_yticklabels(np.arange(10))\n",
    "    ax2.set_title('Class Probability')\n",
    "    ax2.set_xlim(0, 1.1)"
   ]
  },
  {
   "cell_type": "markdown",
   "metadata": {},
   "source": [
    "# Load MNIST Dataset\n",
    "First up, we need to get our dataset. This is provided through the `torchvision` package. The code below will download the MNIST dataset, then create training and test datasets for us. Don't worry too much about the details here, you'll learn more about this later."
   ]
  },
  {
   "cell_type": "code",
   "execution_count": 3,
   "metadata": {
    "ExecuteTime": {
     "end_time": "2021-05-26T22:26:38.402766Z",
     "start_time": "2021-05-26T22:26:38.298968Z"
    }
   },
   "outputs": [],
   "source": [
    "# Define a transform to normalize the data (Preprocessing)\n",
    "transform = transforms.Compose([transforms.ToTensor(), transforms.Normalize((0.5,), (0.5,)) ])\n",
    "\n",
    "# Download and load the training data\n",
    "trainset    = datasets.MNIST('MNIST_data/', download=True, train=True, transform=transform)\n",
    "trainloader = torch.utils.data.DataLoader(trainset, batch_size=16, shuffle=True)\n",
    "\n",
    "# Download and load the test data\n",
    "testset    = datasets.MNIST('MNIST_data/', download=True, train=False, transform=transform)\n",
    "testloader = torch.utils.data.DataLoader(testset, batch_size=16, shuffle=True)"
   ]
  },
  {
   "cell_type": "code",
   "execution_count": 4,
   "metadata": {
    "ExecuteTime": {
     "end_time": "2021-05-26T22:26:38.632988Z",
     "start_time": "2021-05-26T22:26:38.477558Z"
    }
   },
   "outputs": [],
   "source": [
    "dataiter = iter(trainloader)\n",
    "images, labels = dataiter.next()"
   ]
  },
  {
   "cell_type": "markdown",
   "metadata": {},
   "source": [
    "We have the training data loaded into `trainloader` and we make that an iterator with `iter(trainloader)`. We'd use this to loop through the dataset for training, but here I'm just grabbing the first batch so we can check out the data. We can see below that `images` is just a tensor with size (64, 1, 28, 28). So, 64 images per batch, 1 color channel, and 28x28 images."
   ]
  },
  {
   "cell_type": "code",
   "execution_count": 5,
   "metadata": {
    "ExecuteTime": {
     "end_time": "2021-05-26T22:26:39.407000Z",
     "start_time": "2021-05-26T22:26:39.265256Z"
    }
   },
   "outputs": [
    {
     "output_type": "display_data",
     "data": {
      "text/plain": "<Figure size 432x288 with 1 Axes>",
      "image/png": "[encoded data removed]"
     },
     "metadata": {
      "image/png": {
       "width": 251,
       "height": 248
      },
      "needs_background": "light"
     }
    }
   ],
   "source": [
    "plt.imshow(images[1].numpy().squeeze(), cmap='Greys_r');"
   ]
  },
  {
   "cell_type": "markdown",
   "metadata": {},
   "source": [
    "## Building networks with PyTorch\n",
    "\n",
    "Here I'll use PyTorch to build a simple feedfoward network to classify the MNIST images. That is, the network will receive a digit image as input and predict the digit in the image.\n",
    "\n",
    "<img src=\"assets/mlp_mnist.png\" width=600px>\n",
    "\n",
    "To build a neural network with PyTorch, you use the `torch.nn` module. The network itself is a class inheriting from `torch.nn.Module`. You define each of the operations separately, like `nn.Linear(784, 128)` for a fully connected linear layer with 784 inputs and 128 units.\n",
    "\n",
    "The class needs to include a `forward` method that implements the forward pass through the network. In this method, you pass some input tensor `x` through each of the operations you defined earlier. The `torch.nn` module also has functional equivalents for things like ReLUs in `torch.nn.functional`. This module is usually imported as `F`. Then to use a ReLU activation on some layer (which is just a tensor), you'd do `F.relu(x)`. Below are a few different commonly used activation functions.\n",
    "\n",
    "<img src=\"assets/activation.png\" width=700px>\n",
    "\n",
    "So, for this network, I'll build it with three fully connected layers, then a softmax output for predicting classes. The softmax function is similar to the sigmoid in that it squashes inputs between 0 and 1, but it's also normalized so that all the values sum to one like a proper probability distribution."
   ]
  },
  {
   "cell_type": "code",
   "execution_count": 6,
   "metadata": {
    "ExecuteTime": {
     "end_time": "2021-05-26T22:26:39.961531Z",
     "start_time": "2021-05-26T22:26:39.946776Z"
    }
   },
   "outputs": [
    {
     "output_type": "execute_result",
     "data": {
      "text/plain": [
       "Network(\n",
       "  (fc1): Linear(in_features=784, out_features=32, bias=True)\n",
       "  (fc2): Linear(in_features=32, out_features=16, bias=True)\n",
       "  (fc3): Linear(in_features=16, out_features=10, bias=True)\n",
       ")"
      ]
     },
     "metadata": {},
     "execution_count": 6
    }
   ],
   "source": [
    "class Network(nn.Module):\n",
    "    \n",
    "    # Defining the layers, 128, 64, 10 units each\n",
    "    def __init__(self):\n",
    "        super().__init__()\n",
    "        self.fc1 = nn.Linear(784, 32)\n",
    "        self.fc2 = nn.Linear(32, 16)\n",
    "        self.fc3 = nn.Linear(16, 10)\n",
    "        \n",
    "    # Forward pass through the network, returns the output logits\n",
    "    def forward(self, x):\n",
    "        x = self.fc1(x)\n",
    "        x = F.relu(x)\n",
    "        x = self.fc2(x)\n",
    "        x = F.relu(x)\n",
    "        x = self.fc3(x)\n",
    "        x = F.softmax(x, dim=1)\n",
    "        return x\n",
    "\n",
    "model = Network()\n",
    "model"
   ]
  },
  {
   "cell_type": "markdown",
   "metadata": {},
   "source": [
    "Why the input features are 784? Because the input images have size 28 pixels x 28 pixels for a total of 784 features. Since a Multilayer perceptron accepts only flatten inputs, we need to flatten a 28x28 grid into a 784 array."
   ]
  },
  {
   "cell_type": "markdown",
   "metadata": {},
   "source": [
    "### Sequential API\n",
    "PyTorch provides a convenient way to build networks like this where a tensor is passed sequentially through operations, `nn.Sequential` ([documentation](https://pytorch.org/docs/master/nn.html#torch.nn.Sequential)). Using this to build the equivalent network:"
   ]
  },
  {
   "cell_type": "code",
   "execution_count": 7,
   "metadata": {
    "ExecuteTime": {
     "end_time": "2021-05-26T22:26:41.213448Z",
     "start_time": "2021-05-26T22:26:41.205216Z"
    }
   },
   "outputs": [
    {
     "output_type": "stream",
     "name": "stdout",
     "text": [
      "Sequential(\n  (0): Linear(in_features=784, out_features=4, bias=True)\n  (1): ReLU()\n  (2): Linear(in_features=4, out_features=4, bias=True)\n  (3): ReLU()\n  (4): Linear(in_features=4, out_features=10, bias=True)\n  (5): Softmax(dim=1)\n)\n"
     ]
    }
   ],
   "source": [
    "# Hyperparameters for our network\n",
    "input_size   = 784\n",
    "hidden_sizes = [4, 4]\n",
    "output_size   = 10\n",
    "\n",
    "# Build a feed-forward network\n",
    "model = nn.Sequential(nn.Linear(input_size, hidden_sizes[0]),\n",
    "                      nn.ReLU(),\n",
    "                      nn.Linear(hidden_sizes[0], hidden_sizes[1]),\n",
    "                      nn.ReLU(),\n",
    "                      nn.Linear(hidden_sizes[1], output_size),\n",
    "                      nn.Softmax(dim=1))\n",
    "print(model)"
   ]
  },
  {
   "cell_type": "markdown",
   "metadata": {},
   "source": [
    "You can also pass in an `OrderedDict` to name the individual layers and operations. Note that a dictionary keys must be unique, so _each operation must have a different name_."
   ]
  },
  {
   "cell_type": "code",
   "execution_count": 8,
   "metadata": {
    "ExecuteTime": {
     "end_time": "2021-05-26T22:26:42.300216Z",
     "start_time": "2021-05-26T22:26:42.289009Z"
    }
   },
   "outputs": [
    {
     "output_type": "execute_result",
     "data": {
      "text/plain": [
       "Sequential(\n",
       "  (fc1): Linear(in_features=784, out_features=4, bias=True)\n",
       "  (relu1): ReLU()\n",
       "  (fc2): Linear(in_features=4, out_features=4, bias=True)\n",
       "  (relu2): ReLU()\n",
       "  (output): Linear(in_features=4, out_features=10, bias=True)\n",
       "  (softmax): Softmax(dim=1)\n",
       ")"
      ]
     },
     "metadata": {},
     "execution_count": 8
    }
   ],
   "source": [
    "model = nn.Sequential(OrderedDict([\n",
    "          ('fc1',   nn.Linear(input_size, hidden_sizes[0])),\n",
    "          ('relu1', nn.ReLU()),\n",
    "          ('fc2',   nn.Linear(hidden_sizes[0], hidden_sizes[1])),\n",
    "          ('relu2', nn.ReLU()),\n",
    "          ('output', nn.Linear(hidden_sizes[1], output_size)),\n",
    "          ('softmax', nn.Softmax(dim=1))]))\n",
    "model"
   ]
  },
  {
   "cell_type": "markdown",
   "metadata": {},
   "source": [
    "### Initializing weights and biases\n",
    "\n",
    "The weights and such are automatically initialized for you, but it's possible to customize how they are initialized. The weights and biases are tensors attached to the layer you defined, you can get them with `model.fc1.weight` for instance."
   ]
  },
  {
   "cell_type": "code",
   "execution_count": 9,
   "metadata": {
    "ExecuteTime": {
     "end_time": "2021-05-26T22:26:42.972699Z",
     "start_time": "2021-05-26T22:26:42.963913Z"
    }
   },
   "outputs": [
    {
     "output_type": "stream",
     "name": "stdout",
     "text": [
      "Parameter containing:\ntensor([[-0.0114, -0.0202, -0.0168,  ..., -0.0110,  0.0124, -0.0217],\n        [ 0.0202,  0.0298, -0.0162,  ...,  0.0041,  0.0299, -0.0251],\n        [-0.0329, -0.0285,  0.0260,  ...,  0.0167,  0.0040, -0.0192],\n        [-0.0281,  0.0287, -0.0321,  ..., -0.0054, -0.0290, -0.0305]],\n       requires_grad=True)\nParameter containing:\ntensor([0.0293, 0.0064, 0.0017, 0.0029], requires_grad=True)\n"
     ]
    }
   ],
   "source": [
    "print(model.fc1.weight)\n",
    "print(model.fc1.bias)"
   ]
  },
  {
   "cell_type": "markdown",
   "metadata": {},
   "source": [
    "For custom initialization, we want to modify these tensors in place. These are actually autograd *Variables*, so we need to get back the actual tensors with `model.fc1.weight.data`. Once we have the tensors, we can fill them with zeros (for biases) or random normal values."
   ]
  },
  {
   "cell_type": "code",
   "execution_count": 10,
   "metadata": {
    "ExecuteTime": {
     "end_time": "2021-05-26T22:26:43.889729Z",
     "start_time": "2021-05-26T22:26:43.883940Z"
    }
   },
   "outputs": [
    {
     "output_type": "execute_result",
     "data": {
      "text/plain": [
       "tensor([0., 0., 0., 0.])"
      ]
     },
     "metadata": {},
     "execution_count": 10
    }
   ],
   "source": [
    "# Set biases to all zeros\n",
    "model.fc1.bias.data.fill_(0)"
   ]
  },
  {
   "cell_type": "code",
   "execution_count": 11,
   "metadata": {
    "ExecuteTime": {
     "end_time": "2021-05-26T22:26:44.084097Z",
     "start_time": "2021-05-26T22:26:44.076738Z"
    }
   },
   "outputs": [
    {
     "output_type": "execute_result",
     "data": {
      "text/plain": [
       "tensor([[-0.0039, -0.0078,  0.0157,  ...,  0.0035,  0.0040,  0.0073],\n",
       "        [ 0.0003,  0.0126,  0.0027,  ...,  0.0068,  0.0208, -0.0007],\n",
       "        [ 0.0068, -0.0080,  0.0131,  ...,  0.0054, -0.0018, -0.0042],\n",
       "        [-0.0080, -0.0017, -0.0007,  ..., -0.0011, -0.0031,  0.0186]])"
      ]
     },
     "metadata": {},
     "execution_count": 11
    }
   ],
   "source": [
    "# sample from random normal with standard dev = 0.01\n",
    "model.fc1.weight.data.normal_(std=0.01)"
   ]
  },
  {
   "cell_type": "markdown",
   "metadata": {},
   "source": [
    "### STEP 1: Forward pass\n",
    "\n",
    "Now that we have a network, let's see what happens when we pass in an image. This is called the forward pass. We're going to convert the image data into a tensor, then pass it through the operations defined by the network architecture."
   ]
  },
  {
   "cell_type": "code",
   "execution_count": 12,
   "metadata": {
    "ExecuteTime": {
     "end_time": "2021-05-26T22:26:44.506324Z",
     "start_time": "2021-05-26T22:26:44.491847Z"
    }
   },
   "outputs": [],
   "source": [
    "# Grab some data \n",
    "dataiter = iter(trainloader)\n",
    "images, labels = dataiter.next()"
   ]
  },
  {
   "cell_type": "code",
   "execution_count": 13,
   "metadata": {
    "ExecuteTime": {
     "end_time": "2021-05-26T22:26:44.596541Z",
     "start_time": "2021-05-26T22:26:44.594169Z"
    }
   },
   "outputs": [
    {
     "output_type": "execute_result",
     "data": {
      "text/plain": [
       "torch.Size([16, 1, 28, 28])"
      ]
     },
     "metadata": {},
     "execution_count": 13
    }
   ],
   "source": [
    "images.shape"
   ]
  },
  {
   "cell_type": "code",
   "execution_count": 14,
   "metadata": {
    "ExecuteTime": {
     "end_time": "2021-05-26T22:26:44.851894Z",
     "start_time": "2021-05-26T22:26:44.845888Z"
    }
   },
   "outputs": [
    {
     "output_type": "execute_result",
     "data": {
      "text/plain": [
       "Sequential(\n",
       "  (fc1): Linear(in_features=784, out_features=4, bias=True)\n",
       "  (relu1): ReLU()\n",
       "  (fc2): Linear(in_features=4, out_features=4, bias=True)\n",
       "  (relu2): ReLU()\n",
       "  (output): Linear(in_features=4, out_features=10, bias=True)\n",
       "  (softmax): Softmax(dim=1)\n",
       ")"
      ]
     },
     "metadata": {},
     "execution_count": 14
    }
   ],
   "source": [
    "model"
   ]
  },
  {
   "cell_type": "code",
   "execution_count": 15,
   "metadata": {
    "ExecuteTime": {
     "end_time": "2021-05-26T22:26:46.121246Z",
     "start_time": "2021-05-26T22:26:46.112022Z"
    }
   },
   "outputs": [
    {
     "output_type": "execute_result",
     "data": {
      "text/plain": [
       "tensor([[[-1., -1., -1.,  ..., -1., -1., -1.]],\n",
       "\n",
       "        [[-1., -1., -1.,  ..., -1., -1., -1.]],\n",
       "\n",
       "        [[-1., -1., -1.,  ..., -1., -1., -1.]],\n",
       "\n",
       "        ...,\n",
       "\n",
       "        [[-1., -1., -1.,  ..., -1., -1., -1.]],\n",
       "\n",
       "        [[-1., -1., -1.,  ..., -1., -1., -1.]],\n",
       "\n",
       "        [[-1., -1., -1.,  ..., -1., -1., -1.]]])"
      ]
     },
     "metadata": {},
     "execution_count": 15
    }
   ],
   "source": [
    "# Resize images into a 1D vector, new shape is (batch size, color channels, image pixels) \n",
    "images.resize_(images.shape[0], 1, 784)\n",
    "# or images.resize_(images.shape[0], 1, 784) to not automatically get batch size"
   ]
  },
  {
   "cell_type": "code",
   "execution_count": 16,
   "metadata": {
    "ExecuteTime": {
     "end_time": "2021-05-26T22:26:46.519895Z",
     "start_time": "2021-05-26T22:26:46.514137Z"
    }
   },
   "outputs": [
    {
     "output_type": "execute_result",
     "data": {
      "text/plain": [
       "torch.Size([1, 784])"
      ]
     },
     "metadata": {},
     "execution_count": 16
    }
   ],
   "source": [
    "img_idx = 0\n",
    "images[img_idx,:].shape"
   ]
  },
  {
   "cell_type": "code",
   "execution_count": 17,
   "metadata": {
    "ExecuteTime": {
     "end_time": "2021-05-26T22:26:47.945952Z",
     "start_time": "2021-05-26T22:26:47.888846Z"
    }
   },
   "outputs": [],
   "source": [
    "# Forward pass through the network\n",
    "img_idx = 0\n",
    "ps = model(images[img_idx,:])"
   ]
  },
  {
   "cell_type": "code",
   "execution_count": 18,
   "metadata": {
    "ExecuteTime": {
     "end_time": "2021-05-26T22:26:50.561845Z",
     "start_time": "2021-05-26T22:26:50.411449Z"
    }
   },
   "outputs": [
    {
     "output_type": "display_data",
     "data": {
      "text/plain": "<Figure size 432x648 with 2 Axes>",
      "image/png": "[encoded data removed]"
     },
     "metadata": {
      "image/png": {
       "width": 349,
       "height": 195
      },
      "needs_background": "light"
     }
    }
   ],
   "source": [
    "img = images[img_idx]\n",
    "view_classify(img.view(1, 28, 28), ps)"
   ]
  },
  {
   "cell_type": "markdown",
   "metadata": {},
   "source": [
    "As you can see above, our network has basically no idea what this digit is. It's because we haven't trained it yet, all the weights are random!"
   ]
  },
  {
   "cell_type": "markdown",
   "metadata": {},
   "source": [
    "# Training Neural Networks\n",
    "\n",
    "The network we built isn't so smart, it doesn't know anything about our handwritten digits. Neural networks with non-linear activations work like universal function approximators. There is some function that maps your input to the output. For example, images of handwritten digits to class probabilities. The power of neural networks is that we can train them to approximate this function, and basically any function given enough data and compute time.\n",
    "\n",
    "<img src=\"assets/function_approx.png\" width=500px>\n",
    "\n",
    "At first the network is naive, it doesn't know the function mapping the inputs to the outputs. We train the network by showing it examples of real data, then adjusting the network parameters such that it approximates this function.\n",
    "\n",
    "To find these parameters, we need to know how poorly the network is predicting the real outputs. For this we calculate a **loss function** (also called the cost), a measure of our prediction error. For example, the mean squared loss is often used in regression and binary classification problems\n",
    "\n",
    "$$\n",
    "\\ell = \\frac{1}{2n}\\sum_i^n{\\left(y_i - \\hat{y}_i\\right)^2}\n",
    "$$\n",
    "\n",
    "where $n$ is the number of training examples, $y_i$ are the true labels, and $\\hat{y}_i$ are the predicted labels.\n",
    "\n",
    "By minimizing this loss with respect to the network parameters, we can find configurations where the loss is at a minimum and the network is able to predict the correct labels with high accuracy. We find this minimum using a process called **gradient descent**. The gradient is the slope of the loss function and points in the direction of fastest change. To get to the minimum in the least amount of time, we then want to follow the gradient (downwards). You can think of this like descending a mountain by following the steepest slope to the base.\n",
    "\n",
    "<img src='assets/gradient_descent.png' width=350px>"
   ]
  },
  {
   "cell_type": "markdown",
   "metadata": {},
   "source": [
    "## Backpropagation\n",
    "\n",
    "For single layer networks, gradient descent is simple to implement. However, it's more complicated for deeper, multilayer neural networks like the one we've built. Complicated enough that it took about 30 years before researchers figured out how to train multilayer networks, although it's straightforward once you learn about it. \n",
    "\n",
    "This is done through **backpropagation** which is really just an application of the chain rule from calculus. It's easiest to understand if we convert a two layer network into a graph representation.\n",
    "\n",
    "<img src='assets/w1_backprop_graph.png' width=400px>\n",
    "\n",
    "In the forward pass through the network, our data and operations go from right to left here. To train the weights with gradient descent, we propagate the gradient of the cost backwards through the network. Mathematically, this is really just calculating the gradient of the loss with respect to the weights using the chain rule.\n",
    "\n",
    "$$\n",
    "\\frac{\\partial \\ell}{\\partial w_1} = \\frac{\\partial l_1}{\\partial w_1} \\frac{\\partial s}{\\partial l_1} \\frac{\\partial l_2}{\\partial s} \\frac{\\partial \\ell}{\\partial l_2}\n",
    "$$\n",
    "\n",
    "We update our weights using this gradient with some learning rate $\\alpha$. \n",
    "\n",
    "$$\n",
    "w^\\prime = w - \\alpha \\frac{\\partial \\ell}{\\partial w}\n",
    "$$\n",
    "\n",
    "The learning rate is set such that the weight update steps are small enough that the iterative method settles in a minimum.\n",
    "\n",
    "The first thing we need to do for training is define our loss function. In PyTorch, you'll usually see this as `criterion`. Here we're using softmax output, so we want to use `criterion = nn.CrossEntropyLoss()` as our loss. Later when training, you use `loss = criterion(output, targets)` to calculate the actual loss.\n",
    "\n",
    "We also need to define the optimizer we're using, SGD or Adam, or something along those lines. Here I'll just use SGD with `torch.optim.SGD`, passing in the network parameters and the learning rate."
   ]
  },
  {
   "cell_type": "markdown",
   "metadata": {},
   "source": [
    "## Autograd\n",
    "\n",
    "Torch provides a module, `autograd`, for automatically calculating the gradient of tensors. It does this by keeping track of operations performed on tensors. To make sure PyTorch keeps track of operations on a tensor and calculates the gradients, you need to set `requires_grad` on a tensor. You can do this at creation with the `requires_grad` keyword, or at any time with `x.requires_grad_(True)`.\n",
    "\n",
    "You can turn off gradients for a block of code with the `torch.no_grad()` content:\n",
    "```python\n",
    "x = torch.zeros(1, requires_grad=True)\n",
    ">>> with torch.no_grad():\n",
    "...     y = x * 2\n",
    ">>> y.requires_grad\n",
    "False\n",
    "```\n",
    "\n",
    "Also, you can turn on or off gradients altogether with `torch.set_grad_enabled(True|False)`.\n",
    "\n",
    "The gradients are computed with respect to some variable `z` with `z.backward()`. This does a backward pass through the operations that created `z`."
   ]
  },
  {
   "cell_type": "code",
   "execution_count": 19,
   "metadata": {
    "ExecuteTime": {
     "end_time": "2021-05-26T22:26:52.867509Z",
     "start_time": "2021-05-26T22:26:52.860629Z"
    }
   },
   "outputs": [
    {
     "output_type": "stream",
     "name": "stdout",
     "text": [
      "tensor([[ 2.3745, -0.4129],\n        [-0.1983, -0.6832]], requires_grad=True)\n"
     ]
    }
   ],
   "source": [
    "x = torch.randn(2,2, requires_grad=True)\n",
    "print(x)"
   ]
  },
  {
   "cell_type": "code",
   "execution_count": 20,
   "metadata": {
    "ExecuteTime": {
     "end_time": "2021-05-26T22:26:53.383436Z",
     "start_time": "2021-05-26T22:26:53.375536Z"
    }
   },
   "outputs": [
    {
     "output_type": "stream",
     "name": "stdout",
     "text": [
      "tensor([[5.6380, 0.1705],\n        [0.0393, 0.4668]], grad_fn=<PowBackward0>)\n"
     ]
    }
   ],
   "source": [
    "y = x**2\n",
    "print(y)"
   ]
  },
  {
   "cell_type": "markdown",
   "metadata": {},
   "source": [
    "Below we can see the operation that created `y`, a power operation `PowBackward0`."
   ]
  },
  {
   "cell_type": "code",
   "execution_count": 21,
   "metadata": {
    "ExecuteTime": {
     "end_time": "2021-05-26T22:26:53.870654Z",
     "start_time": "2021-05-26T22:26:53.867424Z"
    }
   },
   "outputs": [
    {
     "output_type": "stream",
     "name": "stdout",
     "text": [
      "<PowBackward0 object at 0x7f7fe1cc13a0>\n"
     ]
    }
   ],
   "source": [
    "## grad_fn shows the function that generated this variable\n",
    "print(y.grad_fn)"
   ]
  },
  {
   "cell_type": "markdown",
   "metadata": {},
   "source": [
    "The autgrad module keeps track of these operations and knows how to calculate the gradient for each one. In this way, it's able to calculate the gradients for a chain of operations, with respect to any one tensor. Let's reduce the tensor `y` to a scalar value, the mean."
   ]
  },
  {
   "cell_type": "code",
   "execution_count": 22,
   "metadata": {
    "ExecuteTime": {
     "end_time": "2021-05-26T22:26:54.831912Z",
     "start_time": "2021-05-26T22:26:54.824631Z"
    }
   },
   "outputs": [
    {
     "output_type": "stream",
     "name": "stdout",
     "text": [
      "tensor(1.5787, grad_fn=<MeanBackward0>)\n"
     ]
    }
   ],
   "source": [
    "z = y.mean()\n",
    "print(z)"
   ]
  },
  {
   "cell_type": "markdown",
   "metadata": {},
   "source": [
    "You can check the gradients for `x` and `y` but they are empty currently."
   ]
  },
  {
   "cell_type": "code",
   "execution_count": 23,
   "metadata": {
    "ExecuteTime": {
     "end_time": "2021-05-26T22:26:55.546143Z",
     "start_time": "2021-05-26T22:26:55.541213Z"
    }
   },
   "outputs": [
    {
     "output_type": "stream",
     "name": "stdout",
     "text": [
      "None\n"
     ]
    }
   ],
   "source": [
    "print(x.grad)"
   ]
  },
  {
   "cell_type": "markdown",
   "metadata": {},
   "source": [
    "To calculate the gradients, you need to run the `.backward` method on a Variable, `z` for example. This will calculate the gradient for `z` with respect to `x`\n",
    "\n",
    "$$\n",
    "\\frac{\\partial z}{\\partial x} = \\frac{\\partial}{\\partial x}\\left[\\frac{1}{n}\\sum_i^n x_i^2\\right] = \\frac{x}{2}\n",
    "$$"
   ]
  },
  {
   "cell_type": "code",
   "execution_count": 24,
   "metadata": {
    "ExecuteTime": {
     "end_time": "2021-05-26T22:26:56.607560Z",
     "start_time": "2021-05-26T22:26:56.594993Z"
    }
   },
   "outputs": [
    {
     "output_type": "stream",
     "name": "stdout",
     "text": [
      "tensor([[ 1.1872, -0.2065],\n        [-0.0992, -0.3416]])\ntensor([[ 1.1872, -0.2065],\n        [-0.0992, -0.3416]], grad_fn=<DivBackward0>)\n"
     ]
    }
   ],
   "source": [
    "z.backward()\n",
    "print(x.grad)\n",
    "print(x/2)"
   ]
  },
  {
   "cell_type": "markdown",
   "metadata": {},
   "source": [
    "These gradients calculations are particularly useful for neural networks. For training we need the gradients of the weights with respect to the cost. With PyTorch, we run data forward through the network to calculate the cost, then, go backwards to calculate the gradients with respect to the cost. Once we have the gradients we can make a gradient descent step. "
   ]
  },
  {
   "cell_type": "markdown",
   "metadata": {},
   "source": [
    "I'll build a network with `nn.Sequential` here. Only difference from the last part is I'm not actually using softmax on the output, but instead just using the raw output from the last layer. This is because the output from softmax is a probability distribution. Often, the output will have values really close to zero or really close to one. Due to [inaccuracies with representing numbers as floating points](https://docs.python.org/3/tutorial/floatingpoint.html), computations with a softmax output can lose accuracy and become unstable. To get around this, we'll use the raw output, called the **logits**, to calculate the loss."
   ]
  },
  {
   "cell_type": "code",
   "execution_count": 25,
   "metadata": {
    "ExecuteTime": {
     "end_time": "2021-05-26T22:26:56.944759Z",
     "start_time": "2021-05-26T22:26:56.936939Z"
    }
   },
   "outputs": [],
   "source": [
    "# Hyperparameters for our network\n",
    "input_size   = 784\n",
    "hidden_sizes = [128, 64]\n",
    "output_size  = 10\n",
    "\n",
    "# Build a feed-forward network\n",
    "model = nn.Sequential(OrderedDict([\n",
    "          ('fc1', nn.Linear(input_size, hidden_sizes[0])),\n",
    "          ('relu1', nn.ReLU()),\n",
    "          ('fc2', nn.Linear(hidden_sizes[0], hidden_sizes[1])),\n",
    "          ('relu2', nn.ReLU()),\n",
    "          ('logits', nn.Linear(hidden_sizes[1], output_size))]))"
   ]
  },
  {
   "cell_type": "markdown",
   "metadata": {},
   "source": [
    "## Training the network!\n",
    "\n",
    "The first thing we need to do for training is define our loss function. In PyTorch, you'll usually see this as `criterion`. Here we're using softmax output, so we want to use `criterion = nn.CrossEntropyLoss()` as our loss. Later when training, you use `loss = criterion(output, targets)` to calculate the actual loss.\n",
    "\n",
    "We also need to define the optimizer we're using, SGD or Adam, or something along those lines. Here I'll just use SGD with `torch.optim.SGD`, passing in the network parameters and the learning rate."
   ]
  },
  {
   "cell_type": "code",
   "execution_count": 26,
   "metadata": {
    "ExecuteTime": {
     "end_time": "2021-05-26T22:26:57.317614Z",
     "start_time": "2021-05-26T22:26:57.313022Z"
    }
   },
   "outputs": [],
   "source": [
    "criterion = nn.CrossEntropyLoss()\n",
    "optimizer = optim.SGD(model.parameters(), lr=0.01)"
   ]
  },
  {
   "cell_type": "markdown",
   "metadata": {},
   "source": [
    "First, let's consider just one learning step before looping through all the data. The general process with PyTorch:\n",
    "\n",
    "* Make a forward pass through the network to get the logits \n",
    "* Use the logits to calculate the loss\n",
    "* Perform a backward pass through the network with `loss.backward()` to calculate the gradients\n",
    "* Take a step with the optimizer to update the weights\n",
    "\n",
    "Below I'll go through one training step and print out the weights and gradients so you can see how it changes."
   ]
  },
  {
   "cell_type": "code",
   "execution_count": 27,
   "metadata": {
    "ExecuteTime": {
     "end_time": "2021-05-26T22:27:07.408433Z",
     "start_time": "2021-05-26T22:27:07.373358Z"
    }
   },
   "outputs": [
    {
     "output_type": "stream",
     "name": "stdout",
     "text": [
      "Initial weights -  Parameter containing:\ntensor([[-0.0343,  0.0059, -0.0057,  ..., -0.0099,  0.0186,  0.0183],\n        [ 0.0207, -0.0218,  0.0093,  ..., -0.0075,  0.0035, -0.0143],\n        [ 0.0116,  0.0060, -0.0121,  ..., -0.0199, -0.0264, -0.0135],\n        ...,\n        [-0.0151,  0.0120, -0.0035,  ..., -0.0038, -0.0102, -0.0176],\n        [ 0.0223, -0.0168, -0.0147,  ...,  0.0052,  0.0273,  0.0042],\n        [-0.0157,  0.0302, -0.0295,  ...,  0.0151,  0.0284, -0.0260]],\n       requires_grad=True)\nGradient - tensor([[ 0.0009,  0.0009,  0.0009,  ...,  0.0009,  0.0009,  0.0009],\n        [ 0.0000,  0.0000,  0.0000,  ...,  0.0000,  0.0000,  0.0000],\n        [ 0.0009,  0.0009,  0.0009,  ...,  0.0009,  0.0009,  0.0009],\n        ...,\n        [ 0.0012,  0.0012,  0.0012,  ...,  0.0012,  0.0012,  0.0012],\n        [-0.0014, -0.0014, -0.0014,  ..., -0.0014, -0.0014, -0.0014],\n        [-0.0087, -0.0087, -0.0087,  ..., -0.0087, -0.0087, -0.0087]])\n"
     ]
    }
   ],
   "source": [
    "print('Initial weights - ', model.fc1.weight)\n",
    "\n",
    "images, labels = next(iter(trainloader))\n",
    "images.resize_(trainloader.batch_size, 784)\n",
    "\n",
    "# Clear the gradients, do this because gradients are accumulated\n",
    "optimizer.zero_grad()\n",
    "\n",
    "# Forward pass, then backward pass, then update weights\n",
    "output = model.forward(images)\n",
    "loss = criterion(output, labels)\n",
    "loss.backward()\n",
    "print('Gradient -', model.fc1.weight.grad)\n",
    "optimizer.step()"
   ]
  },
  {
   "cell_type": "code",
   "execution_count": 28,
   "metadata": {
    "ExecuteTime": {
     "end_time": "2021-05-26T22:27:07.915247Z",
     "start_time": "2021-05-26T22:27:07.908155Z"
    }
   },
   "outputs": [
    {
     "output_type": "stream",
     "name": "stdout",
     "text": [
      "Updated weights -  Parameter containing:\ntensor([[-0.0343,  0.0059, -0.0057,  ..., -0.0100,  0.0186,  0.0183],\n        [ 0.0207, -0.0218,  0.0093,  ..., -0.0075,  0.0035, -0.0143],\n        [ 0.0116,  0.0060, -0.0121,  ..., -0.0200, -0.0264, -0.0136],\n        ...,\n        [-0.0151,  0.0120, -0.0036,  ..., -0.0038, -0.0102, -0.0177],\n        [ 0.0223, -0.0168, -0.0146,  ...,  0.0052,  0.0274,  0.0042],\n        [-0.0157,  0.0303, -0.0294,  ...,  0.0152,  0.0285, -0.0259]],\n       requires_grad=True)\n"
     ]
    }
   ],
   "source": [
    "print('Updated weights - ', model.fc1.weight)"
   ]
  },
  {
   "cell_type": "markdown",
   "metadata": {},
   "source": [
    "### Training for real\n",
    "\n",
    "Now we'll put this algorithm into a loop so we can go through all the images. This is fairly straightforward. We'll loop through the mini-batches in our dataset, pass the data through the network to calculate the losses, get the gradients, then run the optimizer."
   ]
  },
  {
   "cell_type": "code",
   "execution_count": 29,
   "metadata": {
    "ExecuteTime": {
     "end_time": "2021-05-26T22:27:08.816179Z",
     "start_time": "2021-05-26T22:27:08.812807Z"
    }
   },
   "outputs": [],
   "source": [
    "optimizer = optim.SGD(model.parameters(), lr=0.003)"
   ]
  },
  {
   "cell_type": "code",
   "execution_count": 30,
   "metadata": {
    "ExecuteTime": {
     "end_time": "2021-05-26T22:27:36.083537Z",
     "start_time": "2021-05-26T22:27:09.280769Z"
    }
   },
   "outputs": [
    {
     "output_type": "stream",
     "name": "stdout",
     "text": [
      "Epoch: 1/3\n",
      "\tIteration: 0\t Loss: 0.0569\n",
      "\tIteration: 40\t Loss: 2.2960\n",
      "\tIteration: 80\t Loss: 2.2779\n",
      "\tIteration: 120\t Loss: 2.2552\n",
      "\tIteration: 160\t Loss: 2.2415\n",
      "\tIteration: 200\t Loss: 2.2215\n",
      "\tIteration: 240\t Loss: 2.1935\n",
      "\tIteration: 280\t Loss: 2.1661\n",
      "\tIteration: 320\t Loss: 2.1534\n",
      "\tIteration: 360\t Loss: 2.1146\n",
      "\tIteration: 400\t Loss: 2.0878\n",
      "\tIteration: 440\t Loss: 2.0512\n",
      "\tIteration: 480\t Loss: 1.9911\n",
      "\tIteration: 520\t Loss: 1.9362\n",
      "\tIteration: 560\t Loss: 1.8875\n",
      "\tIteration: 600\t Loss: 1.8478\n",
      "\tIteration: 640\t Loss: 1.7953\n",
      "\tIteration: 680\t Loss: 1.7100\n",
      "\tIteration: 720\t Loss: 1.6677\n",
      "\tIteration: 760\t Loss: 1.6005\n",
      "\tIteration: 800\t Loss: 1.5258\n",
      "\tIteration: 840\t Loss: 1.4529\n",
      "\tIteration: 880\t Loss: 1.3806\n",
      "\tIteration: 920\t Loss: 1.2959\n",
      "\tIteration: 960\t Loss: 1.3081\n",
      "\tIteration: 1000\t Loss: 1.2583\n",
      "\tIteration: 1040\t Loss: 1.1695\n",
      "\tIteration: 1080\t Loss: 1.0923\n",
      "\tIteration: 1120\t Loss: 1.1146\n",
      "\tIteration: 1160\t Loss: 1.0587\n",
      "\tIteration: 1200\t Loss: 0.9888\n",
      "\tIteration: 1240\t Loss: 0.9521\n",
      "\tIteration: 1280\t Loss: 0.9027\n",
      "\tIteration: 1320\t Loss: 0.9258\n",
      "\tIteration: 1360\t Loss: 0.9021\n",
      "\tIteration: 1400\t Loss: 0.8434\n",
      "\tIteration: 1440\t Loss: 0.8253\n",
      "\tIteration: 1480\t Loss: 0.7836\n",
      "\tIteration: 1520\t Loss: 0.7946\n",
      "\tIteration: 1560\t Loss: 0.7367\n",
      "\tIteration: 1600\t Loss: 0.7452\n",
      "\tIteration: 1640\t Loss: 0.6925\n",
      "\tIteration: 1680\t Loss: 0.6986\n",
      "\tIteration: 1720\t Loss: 0.7096\n",
      "\tIteration: 1760\t Loss: 0.6701\n",
      "\tIteration: 1800\t Loss: 0.6992\n",
      "\tIteration: 1840\t Loss: 0.6534\n",
      "\tIteration: 1880\t Loss: 0.6300\n",
      "\tIteration: 1920\t Loss: 0.6190\n",
      "\tIteration: 1960\t Loss: 0.6186\n",
      "\tIteration: 2000\t Loss: 0.6119\n",
      "\tIteration: 2040\t Loss: 0.5823\n",
      "\tIteration: 2080\t Loss: 0.5779\n",
      "\tIteration: 2120\t Loss: 0.5817\n",
      "\tIteration: 2160\t Loss: 0.5765\n",
      "\tIteration: 2200\t Loss: 0.6040\n",
      "\tIteration: 2240\t Loss: 0.5645\n",
      "\tIteration: 2280\t Loss: 0.5270\n",
      "\tIteration: 2320\t Loss: 0.5373\n",
      "\tIteration: 2360\t Loss: 0.5403\n",
      "\tIteration: 2400\t Loss: 0.5541\n",
      "\tIteration: 2440\t Loss: 0.5348\n",
      "\tIteration: 2480\t Loss: 0.4662\n",
      "\tIteration: 2520\t Loss: 0.4807\n",
      "\tIteration: 2560\t Loss: 0.5391\n",
      "\tIteration: 2600\t Loss: 0.5358\n",
      "\tIteration: 2640\t Loss: 0.4767\n",
      "\tIteration: 2680\t Loss: 0.5459\n",
      "\tIteration: 2720\t Loss: 0.4858\n",
      "\tIteration: 2760\t Loss: 0.4668\n",
      "\tIteration: 2800\t Loss: 0.4612\n",
      "\tIteration: 2840\t Loss: 0.4698\n",
      "\tIteration: 2880\t Loss: 0.4712\n",
      "\tIteration: 2920\t Loss: 0.5419\n",
      "\tIteration: 2960\t Loss: 0.4457\n",
      "\tIteration: 3000\t Loss: 0.3961\n",
      "\tIteration: 3040\t Loss: 0.5136\n",
      "\tIteration: 3080\t Loss: 0.4521\n",
      "\tIteration: 3120\t Loss: 0.3783\n",
      "\tIteration: 3160\t Loss: 0.4663\n",
      "\tIteration: 3200\t Loss: 0.4895\n",
      "\tIteration: 3240\t Loss: 0.4496\n",
      "\tIteration: 3280\t Loss: 0.4831\n",
      "\tIteration: 3320\t Loss: 0.4122\n",
      "\tIteration: 3360\t Loss: 0.5090\n",
      "\tIteration: 3400\t Loss: 0.4456\n",
      "\tIteration: 3440\t Loss: 0.4521\n",
      "\tIteration: 3480\t Loss: 0.4633\n",
      "\tIteration: 3520\t Loss: 0.4847\n",
      "\tIteration: 3560\t Loss: 0.4112\n",
      "\tIteration: 3600\t Loss: 0.4260\n",
      "\tIteration: 3640\t Loss: 0.4032\n",
      "\tIteration: 3680\t Loss: 0.4106\n",
      "\tIteration: 3720\t Loss: 0.4016\n",
      "Epoch: 2/3\n",
      "\tIteration: 0\t Loss: 0.0039\n",
      "\tIteration: 40\t Loss: 0.4050\n",
      "\tIteration: 80\t Loss: 0.4890\n",
      "\tIteration: 120\t Loss: 0.3983\n",
      "\tIteration: 160\t Loss: 0.4395\n",
      "\tIteration: 200\t Loss: 0.4549\n",
      "\tIteration: 240\t Loss: 0.3831\n",
      "\tIteration: 280\t Loss: 0.4155\n",
      "\tIteration: 320\t Loss: 0.4529\n",
      "\tIteration: 360\t Loss: 0.3587\n",
      "\tIteration: 400\t Loss: 0.3808\n",
      "\tIteration: 440\t Loss: 0.3403\n",
      "\tIteration: 480\t Loss: 0.4209\n",
      "\tIteration: 520\t Loss: 0.3828\n",
      "\tIteration: 560\t Loss: 0.4108\n",
      "\tIteration: 600\t Loss: 0.3863\n",
      "\tIteration: 640\t Loss: 0.4287\n",
      "\tIteration: 680\t Loss: 0.3377\n",
      "\tIteration: 720\t Loss: 0.3890\n",
      "\tIteration: 760\t Loss: 0.4042\n",
      "\tIteration: 800\t Loss: 0.3472\n",
      "\tIteration: 840\t Loss: 0.4135\n",
      "\tIteration: 880\t Loss: 0.3928\n",
      "\tIteration: 920\t Loss: 0.4565\n",
      "\tIteration: 960\t Loss: 0.3775\n",
      "\tIteration: 1000\t Loss: 0.3481\n",
      "\tIteration: 1040\t Loss: 0.4352\n",
      "\tIteration: 1080\t Loss: 0.4468\n",
      "\tIteration: 1120\t Loss: 0.4009\n",
      "\tIteration: 1160\t Loss: 0.3112\n",
      "\tIteration: 1200\t Loss: 0.3350\n",
      "\tIteration: 1240\t Loss: 0.4213\n",
      "\tIteration: 1280\t Loss: 0.4632\n",
      "\tIteration: 1320\t Loss: 0.3578\n",
      "\tIteration: 1360\t Loss: 0.3829\n",
      "\tIteration: 1400\t Loss: 0.3829\n",
      "\tIteration: 1440\t Loss: 0.3893\n",
      "\tIteration: 1480\t Loss: 0.3752\n",
      "\tIteration: 1520\t Loss: 0.3748\n",
      "\tIteration: 1560\t Loss: 0.3609\n",
      "\tIteration: 1600\t Loss: 0.4301\n",
      "\tIteration: 1640\t Loss: 0.4134\n",
      "\tIteration: 1680\t Loss: 0.4390\n",
      "\tIteration: 1720\t Loss: 0.3528\n",
      "\tIteration: 1760\t Loss: 0.3421\n",
      "\tIteration: 1800\t Loss: 0.3185\n",
      "\tIteration: 1840\t Loss: 0.3844\n",
      "\tIteration: 1880\t Loss: 0.3581\n",
      "\tIteration: 1920\t Loss: 0.3785\n",
      "\tIteration: 1960\t Loss: 0.3444\n",
      "\tIteration: 2000\t Loss: 0.3542\n",
      "\tIteration: 2040\t Loss: 0.3629\n",
      "\tIteration: 2080\t Loss: 0.3491\n",
      "\tIteration: 2120\t Loss: 0.3194\n",
      "\tIteration: 2160\t Loss: 0.3544\n",
      "\tIteration: 2200\t Loss: 0.3619\n",
      "\tIteration: 2240\t Loss: 0.2996\n",
      "\tIteration: 2280\t Loss: 0.3344\n",
      "\tIteration: 2320\t Loss: 0.3210\n",
      "\tIteration: 2360\t Loss: 0.3161\n",
      "\tIteration: 2400\t Loss: 0.3858\n",
      "\tIteration: 2440\t Loss: 0.3774\n",
      "\tIteration: 2480\t Loss: 0.3879\n",
      "\tIteration: 2520\t Loss: 0.3035\n",
      "\tIteration: 2560\t Loss: 0.3516\n",
      "\tIteration: 2600\t Loss: 0.3660\n",
      "\tIteration: 2640\t Loss: 0.3706\n",
      "\tIteration: 2680\t Loss: 0.3645\n",
      "\tIteration: 2720\t Loss: 0.4043\n",
      "\tIteration: 2760\t Loss: 0.4306\n",
      "\tIteration: 2800\t Loss: 0.3419\n",
      "\tIteration: 2840\t Loss: 0.3388\n",
      "\tIteration: 2880\t Loss: 0.3139\n",
      "\tIteration: 2920\t Loss: 0.3479\n",
      "\tIteration: 2960\t Loss: 0.3510\n",
      "\tIteration: 3000\t Loss: 0.3993\n",
      "\tIteration: 3040\t Loss: 0.3430\n",
      "\tIteration: 3080\t Loss: 0.4329\n",
      "\tIteration: 3120\t Loss: 0.2951\n",
      "\tIteration: 3160\t Loss: 0.3190\n",
      "\tIteration: 3200\t Loss: 0.3496\n",
      "\tIteration: 3240\t Loss: 0.3412\n",
      "\tIteration: 3280\t Loss: 0.3478\n",
      "\tIteration: 3320\t Loss: 0.3647\n",
      "\tIteration: 3360\t Loss: 0.3210\n",
      "\tIteration: 3400\t Loss: 0.2574\n",
      "\tIteration: 3440\t Loss: 0.3792\n",
      "\tIteration: 3480\t Loss: 0.3546\n",
      "\tIteration: 3520\t Loss: 0.3487\n",
      "\tIteration: 3560\t Loss: 0.3055\n",
      "\tIteration: 3600\t Loss: 0.3070\n",
      "\tIteration: 3640\t Loss: 0.3179\n",
      "\tIteration: 3680\t Loss: 0.2618\n",
      "\tIteration: 3720\t Loss: 0.3683\n",
      "Epoch: 3/3\n",
      "\tIteration: 0\t Loss: 0.0019\n",
      "\tIteration: 40\t Loss: 0.3340\n",
      "\tIteration: 80\t Loss: 0.3228\n",
      "\tIteration: 120\t Loss: 0.3324\n",
      "\tIteration: 160\t Loss: 0.3764\n",
      "\tIteration: 200\t Loss: 0.2613\n",
      "\tIteration: 240\t Loss: 0.3224\n",
      "\tIteration: 280\t Loss: 0.3422\n",
      "\tIteration: 320\t Loss: 0.2901\n",
      "\tIteration: 360\t Loss: 0.2846\n",
      "\tIteration: 400\t Loss: 0.3004\n",
      "\tIteration: 440\t Loss: 0.2985\n",
      "\tIteration: 480\t Loss: 0.3366\n",
      "\tIteration: 520\t Loss: 0.2911\n",
      "\tIteration: 560\t Loss: 0.3247\n",
      "\tIteration: 600\t Loss: 0.3292\n",
      "\tIteration: 640\t Loss: 0.3662\n",
      "\tIteration: 680\t Loss: 0.3583\n",
      "\tIteration: 720\t Loss: 0.3156\n",
      "\tIteration: 760\t Loss: 0.3060\n",
      "\tIteration: 800\t Loss: 0.2959\n",
      "\tIteration: 840\t Loss: 0.2871\n",
      "\tIteration: 880\t Loss: 0.3391\n",
      "\tIteration: 920\t Loss: 0.2927\n",
      "\tIteration: 960\t Loss: 0.3670\n",
      "\tIteration: 1000\t Loss: 0.3901\n",
      "\tIteration: 1040\t Loss: 0.2993\n",
      "\tIteration: 1080\t Loss: 0.3280\n",
      "\tIteration: 1120\t Loss: 0.3131\n",
      "\tIteration: 1160\t Loss: 0.3420\n",
      "\tIteration: 1200\t Loss: 0.3047\n",
      "\tIteration: 1240\t Loss: 0.2808\n",
      "\tIteration: 1280\t Loss: 0.3207\n",
      "\tIteration: 1320\t Loss: 0.3568\n",
      "\tIteration: 1360\t Loss: 0.3081\n",
      "\tIteration: 1400\t Loss: 0.3496\n",
      "\tIteration: 1440\t Loss: 0.2994\n",
      "\tIteration: 1480\t Loss: 0.2711\n",
      "\tIteration: 1520\t Loss: 0.2892\n",
      "\tIteration: 1560\t Loss: 0.3562\n",
      "\tIteration: 1600\t Loss: 0.3376\n",
      "\tIteration: 1640\t Loss: 0.3107\n",
      "\tIteration: 1680\t Loss: 0.3281\n",
      "\tIteration: 1720\t Loss: 0.2700\n",
      "\tIteration: 1760\t Loss: 0.3036\n",
      "\tIteration: 1800\t Loss: 0.2795\n",
      "\tIteration: 1840\t Loss: 0.2811\n",
      "\tIteration: 1880\t Loss: 0.3232\n",
      "\tIteration: 1920\t Loss: 0.2837\n",
      "\tIteration: 1960\t Loss: 0.3221\n",
      "\tIteration: 2000\t Loss: 0.3145\n",
      "\tIteration: 2040\t Loss: 0.3358\n",
      "\tIteration: 2080\t Loss: 0.3016\n",
      "\tIteration: 2120\t Loss: 0.4205\n",
      "\tIteration: 2160\t Loss: 0.3273\n",
      "\tIteration: 2200\t Loss: 0.2875\n",
      "\tIteration: 2240\t Loss: 0.3052\n",
      "\tIteration: 2280\t Loss: 0.3265\n",
      "\tIteration: 2320\t Loss: 0.2971\n",
      "\tIteration: 2360\t Loss: 0.3109\n",
      "\tIteration: 2400\t Loss: 0.2868\n",
      "\tIteration: 2440\t Loss: 0.2745\n",
      "\tIteration: 2480\t Loss: 0.2944\n",
      "\tIteration: 2520\t Loss: 0.3115\n",
      "\tIteration: 2560\t Loss: 0.3386\n",
      "\tIteration: 2600\t Loss: 0.2954\n",
      "\tIteration: 2640\t Loss: 0.3036\n",
      "\tIteration: 2680\t Loss: 0.3423\n",
      "\tIteration: 2720\t Loss: 0.3127\n",
      "\tIteration: 2760\t Loss: 0.3163\n",
      "\tIteration: 2800\t Loss: 0.3295\n",
      "\tIteration: 2840\t Loss: 0.2733\n",
      "\tIteration: 2880\t Loss: 0.2752\n",
      "\tIteration: 2920\t Loss: 0.2956\n",
      "\tIteration: 2960\t Loss: 0.3060\n",
      "\tIteration: 3000\t Loss: 0.3238\n",
      "\tIteration: 3040\t Loss: 0.3011\n",
      "\tIteration: 3080\t Loss: 0.2961\n",
      "\tIteration: 3120\t Loss: 0.3503\n",
      "\tIteration: 3160\t Loss: 0.3371\n",
      "\tIteration: 3200\t Loss: 0.2666\n",
      "\tIteration: 3240\t Loss: 0.2882\n",
      "\tIteration: 3280\t Loss: 0.2567\n",
      "\tIteration: 3320\t Loss: 0.3060\n",
      "\tIteration: 3360\t Loss: 0.2760\n",
      "\tIteration: 3400\t Loss: 0.2334\n",
      "\tIteration: 3440\t Loss: 0.3369\n",
      "\tIteration: 3480\t Loss: 0.2529\n",
      "\tIteration: 3520\t Loss: 0.2800\n",
      "\tIteration: 3560\t Loss: 0.3060\n",
      "\tIteration: 3600\t Loss: 0.3204\n",
      "\tIteration: 3640\t Loss: 0.2894\n",
      "\tIteration: 3680\t Loss: 0.3466\n",
      "\tIteration: 3720\t Loss: 0.3115\n"
     ]
    }
   ],
   "source": [
    "epochs = 3\n",
    "print_every = 40\n",
    "\n",
    "for e in range(epochs):\n",
    "    running_loss = 0\n",
    "    print(f\"Epoch: {e+1}/{epochs}\")\n",
    "\n",
    "    for i, (images, labels) in enumerate(iter(trainloader)):\n",
    "\n",
    "        # Flatten MNIST images into a 784 long vector\n",
    "        images.resize_(images.size()[0], 784)\n",
    "        \n",
    "        optimizer.zero_grad()\n",
    "        \n",
    "        output = model.forward(images)   # 1) Forward pass\n",
    "        loss = criterion(output, labels) # 2) Compute loss\n",
    "        loss.backward()                  # 3) Backward pass\n",
    "        optimizer.step()                 # 4) Update model\n",
    "        \n",
    "        running_loss += loss.item()\n",
    "        \n",
    "        if i % print_every == 0:\n",
    "            print(f\"\\tIteration: {i}\\t Loss: {running_loss/print_every:.4f}\")\n",
    "            running_loss = 0"
   ]
  },
  {
   "cell_type": "markdown",
   "metadata": {},
   "source": [
    "With the network trained, we can check out it's predictions."
   ]
  },
  {
   "cell_type": "code",
   "execution_count": 31,
   "metadata": {
    "ExecuteTime": {
     "end_time": "2021-05-26T22:30:00.206666Z",
     "start_time": "2021-05-26T22:29:59.954325Z"
    }
   },
   "outputs": [
    {
     "output_type": "display_data",
     "data": {
      "text/plain": "<Figure size 432x648 with 2 Axes>",
      "image/png": "[encoded data removed]"
     },
     "metadata": {
      "image/png": {
       "width": 349,
       "height": 195
      },
      "needs_background": "light"
     }
    }
   ],
   "source": [
    "images, labels = next(iter(trainloader))\n",
    "\n",
    "img = images[0].view(1, 784)\n",
    "# Turn off gradients to speed up this part\n",
    "with torch.no_grad():\n",
    "    logits = model.forward(img)\n",
    "\n",
    "# Output of the network are logits, need to take softmax for probabilities\n",
    "ps = F.softmax(logits, dim=1)\n",
    "view_classify(img.view(1, 28, 28), ps)"
   ]
  },
  {
   "cell_type": "markdown",
   "metadata": {},
   "source": [
    "Now our network is brilliant. It can accurately predict the digits in our images."
   ]
  },
  {
   "cell_type": "markdown",
   "metadata": {},
   "source": [
    "<div style=\"background:#222222; color:#ffffff; padding:20px\">\n",
    "    <h2 align=\"center\" style=\"color:#01ff84\">EMNIST Classification: Exercise</h2>\n",
    "<div>"
   ]
  },
  {
   "cell_type": "markdown",
   "metadata": {},
   "source": [
    "<div style=\"background:#222222; color:#ffffff; padding:20px\">\n",
    "  <h3 style=\"color:#01ff84; margin-top:4px\">Exercise 1:</h3>\n",
    "  <p>Now it's your turn to build a simple network, use any method I've covered so far. In the next notebook, you'll learn how to train a network so it can make good predictions.</p>\n",
    "  <p>Build a network to classify the MNIST images with 3 hidden layers. Use 16 units in the first hidden layer, 32 units in the second layer, and 8 units in the third layer. Each hidden layer should have a ReLU activation function, and use softmax on the output layer.</p>\n",
    "<div>"
   ]
  },
  {
   "cell_type": "code",
   "execution_count": 15,
   "metadata": {},
   "outputs": [
    {
     "output_type": "execute_result",
     "data": {
      "text/plain": [
       "Exercise_net(\n",
       "  (fc1): Linear(in_features=784, out_features=16, bias=True)\n",
       "  (fc2): Linear(in_features=16, out_features=32, bias=True)\n",
       "  (fc3): Linear(in_features=32, out_features=8, bias=True)\n",
       "  (fc4): Linear(in_features=8, out_features=10, bias=True)\n",
       ")"
      ]
     },
     "metadata": {},
     "execution_count": 15
    }
   ],
   "source": [
    "## TODO: Your network here\n",
    "\n",
    "class Exercise_net(nn.Module):\n",
    "    \n",
    "    # Defining the layers, 128, 64, 10 units each\n",
    "    def __init__(self):\n",
    "        super().__init__()\n",
    "        # input layer\n",
    "        self.fc1 = nn.Linear(784, 16)\n",
    "        # first hidden layer, size = 16\n",
    "        self.fc2 = nn.Linear(16, 32)\n",
    "        #  # second hidden layer, size = 32\n",
    "        self.fc3 = nn.Linear(32, 8)\n",
    "        # third hidden layer, size = 8\n",
    "        self.fc4 = nn.Linear(8, 10)\n",
    "        \n",
    "    # Forward pass through the network, returns the output logits\n",
    "    def forward(self, x):\n",
    "\n",
    "        #  input layer\n",
    "        x = self.fc1(x)\n",
    "        x = F.relu(x)\n",
    "        # first hidden layer and activation\n",
    "        x = self.fc2(x)\n",
    "        x = F.relu(x)\n",
    "        # second hidden layer and activation\n",
    "        x = self.fc3(x)\n",
    "        x = F.relu(x)\n",
    "        # third hidden layer and output layer\n",
    "        x = self.fc4(x)\n",
    "        # x = F.softmax(x, dim=1)\n",
    "        return x\n",
    "\n",
    "model = Exercise_net()\n",
    "\n",
    "model"
   ]
  },
  {
   "cell_type": "code",
   "execution_count": 16,
   "metadata": {},
   "outputs": [
    {
     "output_type": "display_data",
     "data": {
      "text/plain": "<Figure size 432x648 with 2 Axes>",
      "image/png": "[encoded data removed]"
     },
     "metadata": {
      "image/png": {
       "width": 349,
       "height": 195
      },
      "needs_background": "light"
     }
    }
   ],
   "source": [
    "# Run this cell with your model to make sure it works\n",
    "# Forward pass through the network and display output\n",
    "images, labels = next(iter(trainloader))\n",
    "images.resize_(images.shape[0], 1, 784)\n",
    "ps = model.forward(images[0,:])\n",
    "view_classify(images[0].view(1, 28, 28), ps)"
   ]
  },
  {
   "cell_type": "markdown",
   "metadata": {},
   "source": [
    "<div style=\"background:#222222; color:#ffffff; padding:20px\">\n",
    "  <h3 style=\"color:#01ff84; margin-top:4px\">Exercise 2:</h3>\n",
    "  <p>Train your network implementing the Pytorch training loop and <strong style=\"color:#01ff84\">after each epoch, use the model for predicting the test (validation) MNIST data.</strong></p>\n",
    "  <p>Note: If your model does not fit with the final softmax layer, you can remove this layer.</p>\n",
    "  <p>Hint: <a href=\"https://discuss.pytorch.org/t/training-loop-checking-validation-accuracy/78399\">Training loop checking validation accuracy\n",
    "</a></p>\n",
    "  <p>Research about <code>model.train()</code>, <code>model.eval()</code> and <code>with torch.no_grad()</code> in Pytorch.\n",
    "<div>"
   ]
  },
  {
   "cell_type": "code",
   "execution_count": 17,
   "metadata": {},
   "outputs": [
    {
     "output_type": "stream",
     "name": "stdout",
     "text": [
      "Initial weights -  Parameter containing:\ntensor([[-0.0140,  0.0130, -0.0026,  ..., -0.0223,  0.0247,  0.0206],\n        [ 0.0213, -0.0213, -0.0314,  ..., -0.0052,  0.0315,  0.0045],\n        [ 0.0354,  0.0253, -0.0091,  ..., -0.0117, -0.0232,  0.0153],\n        ...,\n        [ 0.0260, -0.0208,  0.0226,  ..., -0.0340,  0.0161,  0.0113],\n        [ 0.0220,  0.0291, -0.0211,  ..., -0.0048, -0.0184,  0.0139],\n        [-0.0243,  0.0306,  0.0135,  ...,  0.0309,  0.0144,  0.0311]],\n       requires_grad=True)\nGradient - tensor([[-0.0150, -0.0150, -0.0150,  ..., -0.0150, -0.0150, -0.0150],\n        [-0.0034, -0.0034, -0.0034,  ..., -0.0034, -0.0034, -0.0034],\n        [ 0.0059,  0.0059,  0.0059,  ...,  0.0059,  0.0059,  0.0059],\n        ...,\n        [-0.0046, -0.0046, -0.0046,  ..., -0.0046, -0.0046, -0.0046],\n        [-0.0045, -0.0045, -0.0045,  ..., -0.0045, -0.0045, -0.0045],\n        [ 0.0000,  0.0000,  0.0000,  ...,  0.0000,  0.0000,  0.0000]])\n"
     ]
    }
   ],
   "source": [
    "# First step: defining criterion and optimizer\n",
    "criterion = nn.CrossEntropyLoss()\n",
    "optimizer = optim.SGD(model.parameters(), lr=0.003)\n",
    "\n",
    "\n",
    "# first step for testing pourposes\n",
    "\n",
    "print('Initial weights - ', model.fc1.weight)\n",
    "\n",
    "images, labels = next(iter(trainloader))\n",
    "images.resize_(trainloader.batch_size, 784)\n",
    "\n",
    "# Clear the gradients, do this because gradients are accumulated\n",
    "optimizer.zero_grad()\n",
    "\n",
    "# Forward pass, then backward pass, then update weights\n",
    "output = model.forward(images)\n",
    "loss = criterion(output, labels)\n",
    "loss.backward()\n",
    "print('Gradient -', model.fc1.weight.grad)\n",
    "optimizer.step()"
   ]
  },
  {
   "cell_type": "code",
   "execution_count": 24,
   "metadata": {},
   "outputs": [],
   "source": [
    "def check_accuracy(test_loader, model):\n",
    "    acc_list = []\n",
    "    y_preds_list = []\n",
    "    y_true_list = []\n",
    "    for i, (images_test, y_true) in enumerate(iter(test_loader)):\n",
    "        y_preds = []\n",
    "\n",
    "        # Flatten EMNIST images into a 784 long vector\n",
    "        images_test.resize_(images_test.size()[0], 784)\n",
    "        logits = model.forward(images_test)\n",
    "        output_preds = F.softmax(logits, dim=1)\n",
    "        for p in output_preds:\n",
    "            y_preds.append(p.argmax())\n",
    "        \n",
    "        y_preds = np.array(y_preds)\n",
    "        y_preds = torch.tensor(y_preds)\n",
    "\n",
    "        for i in range(y_preds.size(0)):\n",
    "            y_preds_list.append(y_preds[i].item())\n",
    "            y_true_list.append(y_true[i].item())\n",
    "\n",
    "    accuracy = (np.array(y_preds_list) == np.array(y_true_list)).sum()/len(y_preds_list)\n",
    "    print(accuracy)\n",
    "\n",
    "    return accuracy, y_preds_list, y_true_list"
   ]
  },
  {
   "cell_type": "code",
   "execution_count": 25,
   "metadata": {},
   "outputs": [],
   "source": [
    "optimizer = optim.SGD(model.parameters(), lr=0.003)"
   ]
  },
  {
   "cell_type": "code",
   "execution_count": 26,
   "metadata": {
    "tags": [
     "outputPrepend"
    ]
   },
   "outputs": [
    {
     "output_type": "stream",
     "name": "stdout",
     "text": [
      "0\t Loss: 2.2870\n",
      "\tIteration: 440\t Loss: 2.2925\n",
      "\tIteration: 480\t Loss: 2.2881\n",
      "\tIteration: 520\t Loss: 2.2823\n",
      "\tIteration: 560\t Loss: 2.2779\n",
      "\tIteration: 600\t Loss: 2.2816\n",
      "\tIteration: 640\t Loss: 2.2850\n",
      "\tIteration: 680\t Loss: 2.2714\n",
      "\tIteration: 720\t Loss: 2.2607\n",
      "\tIteration: 760\t Loss: 2.2527\n",
      "\tIteration: 800\t Loss: 2.2599\n",
      "\tIteration: 840\t Loss: 2.2329\n",
      "\tIteration: 880\t Loss: 2.2466\n",
      "\tIteration: 920\t Loss: 2.2302\n",
      "\tIteration: 960\t Loss: 2.2159\n",
      "\tIteration: 1000\t Loss: 2.2093\n",
      "\tIteration: 1040\t Loss: 2.2180\n",
      "\tIteration: 1080\t Loss: 2.1927\n",
      "\tIteration: 1120\t Loss: 2.1855\n",
      "\tIteration: 1160\t Loss: 2.1696\n",
      "\tIteration: 1200\t Loss: 2.1712\n",
      "\tIteration: 1240\t Loss: 2.1786\n",
      "\tIteration: 1280\t Loss: 2.1607\n",
      "\tIteration: 1320\t Loss: 2.1476\n",
      "\tIteration: 1360\t Loss: 2.1260\n",
      "\tIteration: 1400\t Loss: 2.1161\n",
      "\tIteration: 1440\t Loss: 2.0645\n",
      "\tIteration: 1480\t Loss: 2.1311\n",
      "\tIteration: 1520\t Loss: 2.0718\n",
      "\tIteration: 1560\t Loss: 2.0411\n",
      "\tIteration: 1600\t Loss: 2.0223\n",
      "\tIteration: 1640\t Loss: 1.9849\n",
      "\tIteration: 1680\t Loss: 1.9610\n",
      "\tIteration: 1720\t Loss: 1.9430\n",
      "\tIteration: 1760\t Loss: 1.9399\n",
      "\tIteration: 1800\t Loss: 1.9242\n",
      "\tIteration: 1840\t Loss: 1.8842\n",
      "\tIteration: 1880\t Loss: 1.8354\n",
      "\tIteration: 1920\t Loss: 1.8595\n",
      "\tIteration: 1960\t Loss: 1.7579\n",
      "\tIteration: 2000\t Loss: 1.7676\n",
      "\tIteration: 2040\t Loss: 1.7355\n",
      "\tIteration: 2080\t Loss: 1.6946\n",
      "\tIteration: 2120\t Loss: 1.6368\n",
      "\tIteration: 2160\t Loss: 1.6397\n",
      "\tIteration: 2200\t Loss: 1.5905\n",
      "\tIteration: 2240\t Loss: 1.6200\n",
      "\tIteration: 2280\t Loss: 1.5741\n",
      "\tIteration: 2320\t Loss: 1.5100\n",
      "\tIteration: 2360\t Loss: 1.4773\n",
      "\tIteration: 2400\t Loss: 1.4505\n",
      "\tIteration: 2440\t Loss: 1.4632\n",
      "\tIteration: 2480\t Loss: 1.4761\n",
      "\tIteration: 2520\t Loss: 1.3945\n",
      "\tIteration: 2560\t Loss: 1.3898\n",
      "\tIteration: 2600\t Loss: 1.3080\n",
      "\tIteration: 2640\t Loss: 1.2888\n",
      "\tIteration: 2680\t Loss: 1.3202\n",
      "\tIteration: 2720\t Loss: 1.2328\n",
      "\tIteration: 2760\t Loss: 1.2308\n",
      "\tIteration: 2800\t Loss: 1.2415\n",
      "\tIteration: 2840\t Loss: 1.1829\n",
      "\tIteration: 2880\t Loss: 1.1428\n",
      "\tIteration: 2920\t Loss: 1.0624\n",
      "\tIteration: 2960\t Loss: 1.0944\n",
      "\tIteration: 3000\t Loss: 1.0327\n",
      "\tIteration: 3040\t Loss: 1.0027\n",
      "\tIteration: 3080\t Loss: 1.0022\n",
      "\tIteration: 3120\t Loss: 1.0818\n",
      "\tIteration: 3160\t Loss: 0.9770\n",
      "\tIteration: 3200\t Loss: 0.9786\n",
      "\tIteration: 3240\t Loss: 0.9064\n",
      "\tIteration: 3280\t Loss: 0.9633\n",
      "\tIteration: 3320\t Loss: 0.9153\n",
      "\tIteration: 3360\t Loss: 0.9043\n",
      "\tIteration: 3400\t Loss: 0.9238\n",
      "\tIteration: 3440\t Loss: 0.8639\n",
      "\tIteration: 3480\t Loss: 0.8585\n",
      "\tIteration: 3520\t Loss: 0.7892\n",
      "\tIteration: 3560\t Loss: 0.7820\n",
      "\tIteration: 3600\t Loss: 0.7833\n",
      "\tIteration: 3640\t Loss: 0.7728\n",
      "\tIteration: 3680\t Loss: 0.8479\n",
      "\tIteration: 3720\t Loss: 0.8292\n",
      "0.7398\n",
      "Epoch: 2/7\n",
      "\tIteration: 0\t Loss: 0.0224\n",
      "\tIteration: 40\t Loss: 0.8548\n",
      "\tIteration: 80\t Loss: 0.8087\n",
      "\tIteration: 120\t Loss: 0.7868\n",
      "\tIteration: 160\t Loss: 0.7819\n",
      "\tIteration: 200\t Loss: 0.7163\n",
      "\tIteration: 240\t Loss: 0.8182\n",
      "\tIteration: 280\t Loss: 0.7368\n",
      "\tIteration: 320\t Loss: 0.6943\n",
      "\tIteration: 360\t Loss: 0.6828\n",
      "\tIteration: 400\t Loss: 0.7610\n",
      "\tIteration: 440\t Loss: 0.6818\n",
      "\tIteration: 480\t Loss: 0.6433\n",
      "\tIteration: 520\t Loss: 0.6877\n",
      "\tIteration: 560\t Loss: 0.7618\n",
      "\tIteration: 600\t Loss: 0.6587\n",
      "\tIteration: 640\t Loss: 0.6989\n",
      "\tIteration: 680\t Loss: 0.7411\n",
      "\tIteration: 720\t Loss: 0.6330\n",
      "\tIteration: 760\t Loss: 0.6506\n",
      "\tIteration: 800\t Loss: 0.6840\n",
      "\tIteration: 840\t Loss: 0.6723\n",
      "\tIteration: 880\t Loss: 0.6550\n",
      "\tIteration: 920\t Loss: 0.6779\n",
      "\tIteration: 960\t Loss: 0.6983\n",
      "\tIteration: 1000\t Loss: 0.6625\n",
      "\tIteration: 1040\t Loss: 0.6210\n",
      "\tIteration: 1080\t Loss: 0.6047\n",
      "\tIteration: 1120\t Loss: 0.7312\n",
      "\tIteration: 1160\t Loss: 0.6558\n",
      "\tIteration: 1200\t Loss: 0.6402\n",
      "\tIteration: 1240\t Loss: 0.6194\n",
      "\tIteration: 1280\t Loss: 0.6395\n",
      "\tIteration: 1320\t Loss: 0.6317\n",
      "\tIteration: 1360\t Loss: 0.5523\n",
      "\tIteration: 1400\t Loss: 0.6343\n",
      "\tIteration: 1440\t Loss: 0.6547\n",
      "\tIteration: 1480\t Loss: 0.6458\n",
      "\tIteration: 1520\t Loss: 0.6227\n",
      "\tIteration: 1560\t Loss: 0.6559\n",
      "\tIteration: 1600\t Loss: 0.6225\n",
      "\tIteration: 1640\t Loss: 0.6782\n",
      "\tIteration: 1680\t Loss: 0.6911\n",
      "\tIteration: 1720\t Loss: 0.5869\n",
      "\tIteration: 1760\t Loss: 0.5767\n",
      "\tIteration: 1800\t Loss: 0.6461\n",
      "\tIteration: 1840\t Loss: 0.6769\n",
      "\tIteration: 1880\t Loss: 0.5184\n",
      "\tIteration: 1920\t Loss: 0.5600\n",
      "\tIteration: 1960\t Loss: 0.6079\n",
      "\tIteration: 2000\t Loss: 0.6224\n",
      "\tIteration: 2040\t Loss: 0.5076\n",
      "\tIteration: 2080\t Loss: 0.6819\n",
      "\tIteration: 2120\t Loss: 0.5689\n",
      "\tIteration: 2160\t Loss: 0.5562\n",
      "\tIteration: 2200\t Loss: 0.5655\n",
      "\tIteration: 2240\t Loss: 0.5825\n",
      "\tIteration: 2280\t Loss: 0.5258\n",
      "\tIteration: 2320\t Loss: 0.6051\n",
      "\tIteration: 2360\t Loss: 0.5396\n",
      "\tIteration: 2400\t Loss: 0.5586\n",
      "\tIteration: 2440\t Loss: 0.5780\n",
      "\tIteration: 2480\t Loss: 0.5721\n",
      "\tIteration: 2520\t Loss: 0.6099\n",
      "\tIteration: 2560\t Loss: 0.6437\n",
      "\tIteration: 2600\t Loss: 0.5642\n",
      "\tIteration: 2640\t Loss: 0.5280\n",
      "\tIteration: 2680\t Loss: 0.5608\n",
      "\tIteration: 2720\t Loss: 0.5960\n",
      "\tIteration: 2760\t Loss: 0.5010\n",
      "\tIteration: 2800\t Loss: 0.6278\n",
      "\tIteration: 2840\t Loss: 0.5515\n",
      "\tIteration: 2880\t Loss: 0.5505\n",
      "\tIteration: 2920\t Loss: 0.5269\n",
      "\tIteration: 2960\t Loss: 0.5854\n",
      "\tIteration: 3000\t Loss: 0.5414\n",
      "\tIteration: 3040\t Loss: 0.6179\n",
      "\tIteration: 3080\t Loss: 0.5189\n",
      "\tIteration: 3120\t Loss: 0.5491\n",
      "\tIteration: 3160\t Loss: 0.5242\n",
      "\tIteration: 3200\t Loss: 0.5374\n",
      "\tIteration: 3240\t Loss: 0.5369\n",
      "\tIteration: 3280\t Loss: 0.5083\n",
      "\tIteration: 3320\t Loss: 0.5003\n",
      "\tIteration: 3360\t Loss: 0.5039\n",
      "\tIteration: 3400\t Loss: 0.5073\n",
      "\tIteration: 3440\t Loss: 0.4869\n",
      "\tIteration: 3480\t Loss: 0.4578\n",
      "\tIteration: 3520\t Loss: 0.4985\n",
      "\tIteration: 3560\t Loss: 0.4684\n",
      "\tIteration: 3600\t Loss: 0.4812\n",
      "\tIteration: 3640\t Loss: 0.5517\n",
      "\tIteration: 3680\t Loss: 0.5315\n",
      "\tIteration: 3720\t Loss: 0.5454\n",
      "0.8506\n",
      "Epoch: 3/7\n",
      "\tIteration: 0\t Loss: 0.0046\n",
      "\tIteration: 40\t Loss: 0.4723\n",
      "\tIteration: 80\t Loss: 0.5352\n",
      "\tIteration: 120\t Loss: 0.5016\n",
      "\tIteration: 160\t Loss: 0.4971\n",
      "\tIteration: 200\t Loss: 0.6044\n",
      "\tIteration: 240\t Loss: 0.5639\n",
      "\tIteration: 280\t Loss: 0.5590\n",
      "\tIteration: 320\t Loss: 0.5019\n",
      "\tIteration: 360\t Loss: 0.5706\n",
      "\tIteration: 400\t Loss: 0.4650\n",
      "\tIteration: 440\t Loss: 0.5297\n",
      "\tIteration: 480\t Loss: 0.5005\n",
      "\tIteration: 520\t Loss: 0.5142\n",
      "\tIteration: 560\t Loss: 0.4527\n",
      "\tIteration: 600\t Loss: 0.5447\n",
      "\tIteration: 640\t Loss: 0.5005\n",
      "\tIteration: 680\t Loss: 0.5220\n",
      "\tIteration: 720\t Loss: 0.5412\n",
      "\tIteration: 760\t Loss: 0.4818\n",
      "\tIteration: 800\t Loss: 0.4443\n",
      "\tIteration: 840\t Loss: 0.4330\n",
      "\tIteration: 880\t Loss: 0.5281\n",
      "\tIteration: 920\t Loss: 0.5337\n",
      "\tIteration: 960\t Loss: 0.4552\n",
      "\tIteration: 1000\t Loss: 0.5187\n",
      "\tIteration: 1040\t Loss: 0.5318\n",
      "\tIteration: 1080\t Loss: 0.5260\n",
      "\tIteration: 1120\t Loss: 0.5701\n",
      "\tIteration: 1160\t Loss: 0.4445\n",
      "\tIteration: 1200\t Loss: 0.4826\n",
      "\tIteration: 1240\t Loss: 0.5176\n",
      "\tIteration: 1280\t Loss: 0.5135\n",
      "\tIteration: 1320\t Loss: 0.4738\n",
      "\tIteration: 1360\t Loss: 0.5460\n",
      "\tIteration: 1400\t Loss: 0.5000\n",
      "\tIteration: 1440\t Loss: 0.5153\n",
      "\tIteration: 1480\t Loss: 0.4835\n",
      "\tIteration: 1520\t Loss: 0.5586\n",
      "\tIteration: 1560\t Loss: 0.4872\n",
      "\tIteration: 1600\t Loss: 0.4336\n",
      "\tIteration: 1640\t Loss: 0.4557\n",
      "\tIteration: 1680\t Loss: 0.4407\n",
      "\tIteration: 1720\t Loss: 0.4420\n",
      "\tIteration: 1760\t Loss: 0.3900\n",
      "\tIteration: 1800\t Loss: 0.5518\n",
      "\tIteration: 1840\t Loss: 0.4588\n",
      "\tIteration: 1880\t Loss: 0.4855\n",
      "\tIteration: 1920\t Loss: 0.4512\n",
      "\tIteration: 1960\t Loss: 0.4487\n",
      "\tIteration: 2000\t Loss: 0.3856\n",
      "\tIteration: 2040\t Loss: 0.5442\n",
      "\tIteration: 2080\t Loss: 0.4883\n",
      "\tIteration: 2120\t Loss: 0.3808\n",
      "\tIteration: 2160\t Loss: 0.4207\n",
      "\tIteration: 2200\t Loss: 0.4508\n",
      "\tIteration: 2240\t Loss: 0.4240\n",
      "\tIteration: 2280\t Loss: 0.5055\n",
      "\tIteration: 2320\t Loss: 0.4112\n",
      "\tIteration: 2360\t Loss: 0.4523\n",
      "\tIteration: 2400\t Loss: 0.4363\n",
      "\tIteration: 2440\t Loss: 0.3909\n",
      "\tIteration: 2480\t Loss: 0.4934\n",
      "\tIteration: 2520\t Loss: 0.4631\n",
      "\tIteration: 2560\t Loss: 0.5276\n",
      "\tIteration: 2600\t Loss: 0.4426\n",
      "\tIteration: 2640\t Loss: 0.4513\n",
      "\tIteration: 2680\t Loss: 0.4475\n",
      "\tIteration: 2720\t Loss: 0.6194\n",
      "\tIteration: 2760\t Loss: 0.4435\n",
      "\tIteration: 2800\t Loss: 0.4240\n",
      "\tIteration: 2840\t Loss: 0.4302\n",
      "\tIteration: 2880\t Loss: 0.4304\n",
      "\tIteration: 2920\t Loss: 0.4392\n",
      "\tIteration: 2960\t Loss: 0.4353\n",
      "\tIteration: 3000\t Loss: 0.4264\n",
      "\tIteration: 3040\t Loss: 0.5060\n",
      "\tIteration: 3080\t Loss: 0.5082\n",
      "\tIteration: 3120\t Loss: 0.4635\n",
      "\tIteration: 3160\t Loss: 0.5293\n",
      "\tIteration: 3200\t Loss: 0.3993\n",
      "\tIteration: 3240\t Loss: 0.4871\n",
      "\tIteration: 3280\t Loss: 0.4752\n",
      "\tIteration: 3320\t Loss: 0.4226\n",
      "\tIteration: 3360\t Loss: 0.4346\n",
      "\tIteration: 3400\t Loss: 0.3813\n",
      "\tIteration: 3440\t Loss: 0.4648\n",
      "\tIteration: 3480\t Loss: 0.3823\n",
      "\tIteration: 3520\t Loss: 0.4392\n",
      "\tIteration: 3560\t Loss: 0.5511\n",
      "\tIteration: 3600\t Loss: 0.4762\n",
      "\tIteration: 3640\t Loss: 0.4029\n",
      "\tIteration: 3680\t Loss: 0.5008\n",
      "\tIteration: 3720\t Loss: 0.4665\n",
      "0.8802\n",
      "Epoch: 4/7\n",
      "\tIteration: 0\t Loss: 0.0267\n",
      "\tIteration: 40\t Loss: 0.4375\n",
      "\tIteration: 80\t Loss: 0.4796\n",
      "\tIteration: 120\t Loss: 0.4296\n",
      "\tIteration: 160\t Loss: 0.4544\n",
      "\tIteration: 200\t Loss: 0.4334\n",
      "\tIteration: 240\t Loss: 0.3485\n",
      "\tIteration: 280\t Loss: 0.4293\n",
      "\tIteration: 320\t Loss: 0.4255\n",
      "\tIteration: 360\t Loss: 0.4079\n",
      "\tIteration: 400\t Loss: 0.5146\n",
      "\tIteration: 440\t Loss: 0.4766\n",
      "\tIteration: 480\t Loss: 0.4150\n",
      "\tIteration: 520\t Loss: 0.4291\n",
      "\tIteration: 560\t Loss: 0.4193\n",
      "\tIteration: 600\t Loss: 0.4933\n",
      "\tIteration: 640\t Loss: 0.3916\n",
      "\tIteration: 680\t Loss: 0.4638\n",
      "\tIteration: 720\t Loss: 0.4509\n",
      "\tIteration: 760\t Loss: 0.4487\n",
      "\tIteration: 800\t Loss: 0.4617\n",
      "\tIteration: 840\t Loss: 0.3957\n",
      "\tIteration: 880\t Loss: 0.3663\n",
      "\tIteration: 920\t Loss: 0.4644\n",
      "\tIteration: 960\t Loss: 0.4364\n",
      "\tIteration: 1000\t Loss: 0.4599\n",
      "\tIteration: 1040\t Loss: 0.4240\n",
      "\tIteration: 1080\t Loss: 0.3797\n",
      "\tIteration: 1120\t Loss: 0.4290\n",
      "\tIteration: 1160\t Loss: 0.3956\n",
      "\tIteration: 1200\t Loss: 0.4391\n",
      "\tIteration: 1240\t Loss: 0.4540\n",
      "\tIteration: 1280\t Loss: 0.5082\n",
      "\tIteration: 1320\t Loss: 0.4504\n",
      "\tIteration: 1360\t Loss: 0.4479\n",
      "\tIteration: 1400\t Loss: 0.3571\n",
      "\tIteration: 1440\t Loss: 0.3860\n",
      "\tIteration: 1480\t Loss: 0.4123\n",
      "\tIteration: 1520\t Loss: 0.4092\n",
      "\tIteration: 1560\t Loss: 0.3587\n",
      "\tIteration: 1600\t Loss: 0.3805\n",
      "\tIteration: 1640\t Loss: 0.4242\n",
      "\tIteration: 1680\t Loss: 0.4881\n",
      "\tIteration: 1720\t Loss: 0.4099\n",
      "\tIteration: 1760\t Loss: 0.3259\n",
      "\tIteration: 1800\t Loss: 0.4867\n",
      "\tIteration: 1840\t Loss: 0.4859\n",
      "\tIteration: 1880\t Loss: 0.3798\n",
      "\tIteration: 1920\t Loss: 0.4144\n",
      "\tIteration: 1960\t Loss: 0.5028\n",
      "\tIteration: 2000\t Loss: 0.4554\n",
      "\tIteration: 2040\t Loss: 0.4788\n",
      "\tIteration: 2080\t Loss: 0.5175\n",
      "\tIteration: 2120\t Loss: 0.3898\n",
      "\tIteration: 2160\t Loss: 0.4110\n",
      "\tIteration: 2200\t Loss: 0.3945\n",
      "\tIteration: 2240\t Loss: 0.3790\n",
      "\tIteration: 2280\t Loss: 0.3875\n",
      "\tIteration: 2320\t Loss: 0.4018\n",
      "\tIteration: 2360\t Loss: 0.4075\n",
      "\tIteration: 2400\t Loss: 0.4214\n",
      "\tIteration: 2440\t Loss: 0.4321\n",
      "\tIteration: 2480\t Loss: 0.3981\n",
      "\tIteration: 2520\t Loss: 0.3921\n",
      "\tIteration: 2560\t Loss: 0.3693\n",
      "\tIteration: 2600\t Loss: 0.3693\n",
      "\tIteration: 2640\t Loss: 0.4169\n",
      "\tIteration: 2680\t Loss: 0.4079\n",
      "\tIteration: 2720\t Loss: 0.4078\n",
      "\tIteration: 2760\t Loss: 0.3984\n",
      "\tIteration: 2800\t Loss: 0.3649\n",
      "\tIteration: 2840\t Loss: 0.3875\n",
      "\tIteration: 2880\t Loss: 0.4530\n",
      "\tIteration: 2920\t Loss: 0.4257\n",
      "\tIteration: 2960\t Loss: 0.3583\n",
      "\tIteration: 3000\t Loss: 0.3738\n",
      "\tIteration: 3040\t Loss: 0.3978\n",
      "\tIteration: 3080\t Loss: 0.3851\n",
      "\tIteration: 3120\t Loss: 0.4361\n",
      "\tIteration: 3160\t Loss: 0.3824\n",
      "\tIteration: 3200\t Loss: 0.4080\n",
      "\tIteration: 3240\t Loss: 0.3985\n",
      "\tIteration: 3280\t Loss: 0.3673\n",
      "\tIteration: 3320\t Loss: 0.4229\n",
      "\tIteration: 3360\t Loss: 0.3728\n",
      "\tIteration: 3400\t Loss: 0.4079\n",
      "\tIteration: 3440\t Loss: 0.3345\n",
      "\tIteration: 3480\t Loss: 0.3774\n",
      "\tIteration: 3520\t Loss: 0.3528\n",
      "\tIteration: 3560\t Loss: 0.3678\n",
      "\tIteration: 3600\t Loss: 0.3786\n",
      "\tIteration: 3640\t Loss: 0.3470\n",
      "\tIteration: 3680\t Loss: 0.3861\n",
      "\tIteration: 3720\t Loss: 0.4844\n",
      "0.8901\n",
      "Epoch: 5/7\n",
      "\tIteration: 0\t Loss: 0.0069\n",
      "\tIteration: 40\t Loss: 0.3624\n",
      "\tIteration: 80\t Loss: 0.4073\n",
      "\tIteration: 120\t Loss: 0.3389\n",
      "\tIteration: 160\t Loss: 0.3987\n",
      "\tIteration: 200\t Loss: 0.3573\n",
      "\tIteration: 240\t Loss: 0.3782\n",
      "\tIteration: 280\t Loss: 0.3557\n",
      "\tIteration: 320\t Loss: 0.4038\n",
      "\tIteration: 360\t Loss: 0.4612\n",
      "\tIteration: 400\t Loss: 0.3864\n",
      "\tIteration: 440\t Loss: 0.3117\n",
      "\tIteration: 480\t Loss: 0.3770\n",
      "\tIteration: 520\t Loss: 0.3675\n",
      "\tIteration: 560\t Loss: 0.3930\n",
      "\tIteration: 600\t Loss: 0.3649\n",
      "\tIteration: 640\t Loss: 0.4515\n",
      "\tIteration: 680\t Loss: 0.3782\n",
      "\tIteration: 720\t Loss: 0.4508\n",
      "\tIteration: 760\t Loss: 0.3997\n",
      "\tIteration: 800\t Loss: 0.4505\n",
      "\tIteration: 840\t Loss: 0.3676\n",
      "\tIteration: 880\t Loss: 0.4031\n",
      "\tIteration: 920\t Loss: 0.3966\n",
      "\tIteration: 960\t Loss: 0.4008\n",
      "\tIteration: 1000\t Loss: 0.3491\n",
      "\tIteration: 1040\t Loss: 0.4169\n",
      "\tIteration: 1080\t Loss: 0.3637\n",
      "\tIteration: 1120\t Loss: 0.3286\n",
      "\tIteration: 1160\t Loss: 0.3912\n",
      "\tIteration: 1200\t Loss: 0.4021\n",
      "\tIteration: 1240\t Loss: 0.4171\n",
      "\tIteration: 1280\t Loss: 0.4143\n",
      "\tIteration: 1320\t Loss: 0.3380\n",
      "\tIteration: 1360\t Loss: 0.3209\n",
      "\tIteration: 1400\t Loss: 0.3579\n",
      "\tIteration: 1440\t Loss: 0.3504\n",
      "\tIteration: 1480\t Loss: 0.4077\n",
      "\tIteration: 1520\t Loss: 0.3471\n",
      "\tIteration: 1560\t Loss: 0.3698\n",
      "\tIteration: 1600\t Loss: 0.4182\n",
      "\tIteration: 1640\t Loss: 0.3512\n",
      "\tIteration: 1680\t Loss: 0.3229\n",
      "\tIteration: 1720\t Loss: 0.3979\n",
      "\tIteration: 1760\t Loss: 0.3838\n",
      "\tIteration: 1800\t Loss: 0.3890\n",
      "\tIteration: 1840\t Loss: 0.3623\n",
      "\tIteration: 1880\t Loss: 0.3682\n",
      "\tIteration: 1920\t Loss: 0.4837\n",
      "\tIteration: 1960\t Loss: 0.3590\n",
      "\tIteration: 2000\t Loss: 0.3307\n",
      "\tIteration: 2040\t Loss: 0.3570\n",
      "\tIteration: 2080\t Loss: 0.3377\n",
      "\tIteration: 2120\t Loss: 0.3825\n",
      "\tIteration: 2160\t Loss: 0.3653\n",
      "\tIteration: 2200\t Loss: 0.2642\n",
      "\tIteration: 2240\t Loss: 0.3581\n",
      "\tIteration: 2280\t Loss: 0.3992\n",
      "\tIteration: 2320\t Loss: 0.4187\n",
      "\tIteration: 2360\t Loss: 0.3707\n",
      "\tIteration: 2400\t Loss: 0.3321\n",
      "\tIteration: 2440\t Loss: 0.3374\n",
      "\tIteration: 2480\t Loss: 0.3633\n",
      "\tIteration: 2520\t Loss: 0.3342\n",
      "\tIteration: 2560\t Loss: 0.3968\n",
      "\tIteration: 2600\t Loss: 0.3799\n",
      "\tIteration: 2640\t Loss: 0.4036\n",
      "\tIteration: 2680\t Loss: 0.3236\n",
      "\tIteration: 2720\t Loss: 0.3325\n",
      "\tIteration: 2760\t Loss: 0.3419\n",
      "\tIteration: 2800\t Loss: 0.3381\n",
      "\tIteration: 2840\t Loss: 0.4157\n",
      "\tIteration: 2880\t Loss: 0.3942\n",
      "\tIteration: 2920\t Loss: 0.3258\n",
      "\tIteration: 2960\t Loss: 0.3810\n",
      "\tIteration: 3000\t Loss: 0.4114\n",
      "\tIteration: 3040\t Loss: 0.3188\n",
      "\tIteration: 3080\t Loss: 0.3083\n",
      "\tIteration: 3120\t Loss: 0.3182\n",
      "\tIteration: 3160\t Loss: 0.3367\n",
      "\tIteration: 3200\t Loss: 0.3596\n",
      "\tIteration: 3240\t Loss: 0.3334\n",
      "\tIteration: 3280\t Loss: 0.3335\n",
      "\tIteration: 3320\t Loss: 0.4012\n",
      "\tIteration: 3360\t Loss: 0.3726\n",
      "\tIteration: 3400\t Loss: 0.2741\n",
      "\tIteration: 3440\t Loss: 0.4068\n",
      "\tIteration: 3480\t Loss: 0.3402\n",
      "\tIteration: 3520\t Loss: 0.4378\n",
      "\tIteration: 3560\t Loss: 0.3575\n",
      "\tIteration: 3600\t Loss: 0.4009\n",
      "\tIteration: 3640\t Loss: 0.3820\n",
      "\tIteration: 3680\t Loss: 0.3602\n",
      "\tIteration: 3720\t Loss: 0.3477\n",
      "0.9033\n",
      "Epoch: 6/7\n",
      "\tIteration: 0\t Loss: 0.0129\n",
      "\tIteration: 40\t Loss: 0.3974\n",
      "\tIteration: 80\t Loss: 0.3036\n",
      "\tIteration: 120\t Loss: 0.3458\n",
      "\tIteration: 160\t Loss: 0.3271\n",
      "\tIteration: 200\t Loss: 0.3533\n",
      "\tIteration: 240\t Loss: 0.3403\n",
      "\tIteration: 280\t Loss: 0.3714\n",
      "\tIteration: 320\t Loss: 0.3436\n",
      "\tIteration: 360\t Loss: 0.3596\n",
      "\tIteration: 400\t Loss: 0.3366\n",
      "\tIteration: 440\t Loss: 0.3847\n",
      "\tIteration: 480\t Loss: 0.3401\n",
      "\tIteration: 520\t Loss: 0.3835\n",
      "\tIteration: 560\t Loss: 0.4156\n",
      "\tIteration: 600\t Loss: 0.3693\n",
      "\tIteration: 640\t Loss: 0.3588\n",
      "\tIteration: 680\t Loss: 0.3075\n",
      "\tIteration: 720\t Loss: 0.3651\n",
      "\tIteration: 760\t Loss: 0.3456\n",
      "\tIteration: 800\t Loss: 0.3021\n",
      "\tIteration: 840\t Loss: 0.3515\n",
      "\tIteration: 880\t Loss: 0.3686\n",
      "\tIteration: 920\t Loss: 0.3576\n",
      "\tIteration: 960\t Loss: 0.3754\n",
      "\tIteration: 1000\t Loss: 0.3411\n",
      "\tIteration: 1040\t Loss: 0.3880\n",
      "\tIteration: 1080\t Loss: 0.2984\n",
      "\tIteration: 1120\t Loss: 0.3093\n",
      "\tIteration: 1160\t Loss: 0.2957\n",
      "\tIteration: 1200\t Loss: 0.3225\n",
      "\tIteration: 1240\t Loss: 0.2766\n",
      "\tIteration: 1280\t Loss: 0.3562\n",
      "\tIteration: 1320\t Loss: 0.3111\n",
      "\tIteration: 1360\t Loss: 0.3221\n",
      "\tIteration: 1400\t Loss: 0.2644\n",
      "\tIteration: 1440\t Loss: 0.3359\n",
      "\tIteration: 1480\t Loss: 0.3282\n",
      "\tIteration: 1520\t Loss: 0.3610\n",
      "\tIteration: 1560\t Loss: 0.4032\n",
      "\tIteration: 1600\t Loss: 0.3196\n",
      "\tIteration: 1640\t Loss: 0.3156\n",
      "\tIteration: 1680\t Loss: 0.3384\n",
      "\tIteration: 1720\t Loss: 0.3883\n",
      "\tIteration: 1760\t Loss: 0.2803\n",
      "\tIteration: 1800\t Loss: 0.3211\n",
      "\tIteration: 1840\t Loss: 0.3222\n",
      "\tIteration: 1880\t Loss: 0.3050\n",
      "\tIteration: 1920\t Loss: 0.2536\n",
      "\tIteration: 1960\t Loss: 0.3622\n",
      "\tIteration: 2000\t Loss: 0.4019\n",
      "\tIteration: 2040\t Loss: 0.3424\n",
      "\tIteration: 2080\t Loss: 0.2667\n",
      "\tIteration: 2120\t Loss: 0.3333\n",
      "\tIteration: 2160\t Loss: 0.3192\n",
      "\tIteration: 2200\t Loss: 0.2952\n",
      "\tIteration: 2240\t Loss: 0.3260\n",
      "\tIteration: 2280\t Loss: 0.3669\n",
      "\tIteration: 2320\t Loss: 0.3150\n",
      "\tIteration: 2360\t Loss: 0.3204\n",
      "\tIteration: 2400\t Loss: 0.3302\n",
      "\tIteration: 2440\t Loss: 0.3531\n",
      "\tIteration: 2480\t Loss: 0.3629\n",
      "\tIteration: 2520\t Loss: 0.3384\n",
      "\tIteration: 2560\t Loss: 0.3316\n",
      "\tIteration: 2600\t Loss: 0.3977\n",
      "\tIteration: 2640\t Loss: 0.2817\n",
      "\tIteration: 2680\t Loss: 0.3197\n",
      "\tIteration: 2720\t Loss: 0.2886\n",
      "\tIteration: 2760\t Loss: 0.3278\n",
      "\tIteration: 2800\t Loss: 0.3465\n",
      "\tIteration: 2840\t Loss: 0.3151\n",
      "\tIteration: 2880\t Loss: 0.3328\n",
      "\tIteration: 2920\t Loss: 0.3344\n",
      "\tIteration: 2960\t Loss: 0.2976\n",
      "\tIteration: 3000\t Loss: 0.3237\n",
      "\tIteration: 3040\t Loss: 0.3783\n",
      "\tIteration: 3080\t Loss: 0.3065\n",
      "\tIteration: 3120\t Loss: 0.3001\n",
      "\tIteration: 3160\t Loss: 0.4224\n",
      "\tIteration: 3200\t Loss: 0.3272\n",
      "\tIteration: 3240\t Loss: 0.3319\n",
      "\tIteration: 3280\t Loss: 0.3990\n",
      "\tIteration: 3320\t Loss: 0.3649\n",
      "\tIteration: 3360\t Loss: 0.3653\n",
      "\tIteration: 3400\t Loss: 0.2570\n",
      "\tIteration: 3440\t Loss: 0.3525\n",
      "\tIteration: 3480\t Loss: 0.3303\n",
      "\tIteration: 3520\t Loss: 0.2387\n",
      "\tIteration: 3560\t Loss: 0.3306\n",
      "\tIteration: 3600\t Loss: 0.3756\n",
      "\tIteration: 3640\t Loss: 0.2861\n",
      "\tIteration: 3680\t Loss: 0.2916\n",
      "\tIteration: 3720\t Loss: 0.3298\n",
      "0.9094\n",
      "Epoch: 7/7\n",
      "\tIteration: 0\t Loss: 0.0044\n",
      "\tIteration: 40\t Loss: 0.3496\n",
      "\tIteration: 80\t Loss: 0.3250\n",
      "\tIteration: 120\t Loss: 0.2774\n",
      "\tIteration: 160\t Loss: 0.2834\n",
      "\tIteration: 200\t Loss: 0.2981\n",
      "\tIteration: 240\t Loss: 0.2944\n",
      "\tIteration: 280\t Loss: 0.2983\n",
      "\tIteration: 320\t Loss: 0.3116\n",
      "\tIteration: 360\t Loss: 0.3190\n",
      "\tIteration: 400\t Loss: 0.3037\n",
      "\tIteration: 440\t Loss: 0.3099\n",
      "\tIteration: 480\t Loss: 0.3149\n",
      "\tIteration: 520\t Loss: 0.2883\n",
      "\tIteration: 560\t Loss: 0.2866\n",
      "\tIteration: 600\t Loss: 0.2939\n",
      "\tIteration: 640\t Loss: 0.3619\n",
      "\tIteration: 680\t Loss: 0.3169\n",
      "\tIteration: 720\t Loss: 0.3330\n",
      "\tIteration: 760\t Loss: 0.2768\n",
      "\tIteration: 800\t Loss: 0.3386\n",
      "\tIteration: 840\t Loss: 0.3205\n",
      "\tIteration: 880\t Loss: 0.3225\n",
      "\tIteration: 920\t Loss: 0.3139\n",
      "\tIteration: 960\t Loss: 0.3852\n",
      "\tIteration: 1000\t Loss: 0.3238\n",
      "\tIteration: 1040\t Loss: 0.2568\n",
      "\tIteration: 1080\t Loss: 0.2995\n",
      "\tIteration: 1120\t Loss: 0.3069\n",
      "\tIteration: 1160\t Loss: 0.2941\n",
      "\tIteration: 1200\t Loss: 0.3166\n",
      "\tIteration: 1240\t Loss: 0.2896\n",
      "\tIteration: 1280\t Loss: 0.2802\n",
      "\tIteration: 1320\t Loss: 0.3491\n",
      "\tIteration: 1360\t Loss: 0.2690\n",
      "\tIteration: 1400\t Loss: 0.3092\n",
      "\tIteration: 1440\t Loss: 0.2954\n",
      "\tIteration: 1480\t Loss: 0.3432\n",
      "\tIteration: 1520\t Loss: 0.3333\n",
      "\tIteration: 1560\t Loss: 0.3295\n",
      "\tIteration: 1600\t Loss: 0.2645\n",
      "\tIteration: 1640\t Loss: 0.2800\n",
      "\tIteration: 1680\t Loss: 0.3385\n",
      "\tIteration: 1720\t Loss: 0.2808\n",
      "\tIteration: 1760\t Loss: 0.2770\n",
      "\tIteration: 1800\t Loss: 0.2791\n",
      "\tIteration: 1840\t Loss: 0.3132\n",
      "\tIteration: 1880\t Loss: 0.3440\n",
      "\tIteration: 1920\t Loss: 0.3079\n",
      "\tIteration: 1960\t Loss: 0.2758\n",
      "\tIteration: 2000\t Loss: 0.2737\n",
      "\tIteration: 2040\t Loss: 0.2937\n",
      "\tIteration: 2080\t Loss: 0.2695\n",
      "\tIteration: 2120\t Loss: 0.2611\n",
      "\tIteration: 2160\t Loss: 0.3158\n",
      "\tIteration: 2200\t Loss: 0.2742\n",
      "\tIteration: 2240\t Loss: 0.3369\n",
      "\tIteration: 2280\t Loss: 0.2983\n",
      "\tIteration: 2320\t Loss: 0.3220\n",
      "\tIteration: 2360\t Loss: 0.3270\n",
      "\tIteration: 2400\t Loss: 0.3099\n",
      "\tIteration: 2440\t Loss: 0.3542\n",
      "\tIteration: 2480\t Loss: 0.2789\n",
      "\tIteration: 2520\t Loss: 0.3419\n",
      "\tIteration: 2560\t Loss: 0.2909\n",
      "\tIteration: 2600\t Loss: 0.3115\n",
      "\tIteration: 2640\t Loss: 0.3191\n",
      "\tIteration: 2680\t Loss: 0.3078\n",
      "\tIteration: 2720\t Loss: 0.3232\n",
      "\tIteration: 2760\t Loss: 0.2897\n",
      "\tIteration: 2800\t Loss: 0.3655\n",
      "\tIteration: 2840\t Loss: 0.2749\n",
      "\tIteration: 2880\t Loss: 0.2476\n",
      "\tIteration: 2920\t Loss: 0.3438\n",
      "\tIteration: 2960\t Loss: 0.3241\n",
      "\tIteration: 3000\t Loss: 0.2943\n",
      "\tIteration: 3040\t Loss: 0.3326\n",
      "\tIteration: 3080\t Loss: 0.2870\n",
      "\tIteration: 3120\t Loss: 0.2810\n",
      "\tIteration: 3160\t Loss: 0.3330\n",
      "\tIteration: 3200\t Loss: 0.3126\n",
      "\tIteration: 3240\t Loss: 0.3115\n",
      "\tIteration: 3280\t Loss: 0.3138\n",
      "\tIteration: 3320\t Loss: 0.3472\n",
      "\tIteration: 3360\t Loss: 0.2958\n",
      "\tIteration: 3400\t Loss: 0.2790\n",
      "\tIteration: 3440\t Loss: 0.2635\n",
      "\tIteration: 3480\t Loss: 0.3218\n",
      "\tIteration: 3520\t Loss: 0.3090\n",
      "\tIteration: 3560\t Loss: 0.3481\n",
      "\tIteration: 3600\t Loss: 0.2856\n",
      "\tIteration: 3640\t Loss: 0.3160\n",
      "\tIteration: 3680\t Loss: 0.2758\n",
      "\tIteration: 3720\t Loss: 0.2338\n",
      "0.9178\n"
     ]
    }
   ],
   "source": [
    "## TODO: Your training loop here\n",
    "\n",
    "'''\n",
    "# Define a transform to normalize the data (Preprocessing)\n",
    "transform = transforms.Compose([transforms.ToTensor(), transforms.Normalize((0.5,), (0.5,)) ])\n",
    "\n",
    "# Download and load the training data\n",
    "trainset    = datasets.MNIST('MNIST_data/', download=True, train=True, transform=transform)\n",
    "trainloader = torch.utils.data.DataLoader(trainset, batch_size=16, shuffle=True)\n",
    "\n",
    "# Download and load the test data\n",
    "testset    = datasets.MNIST('MNIST_data/', download=True, train=False, transform=transform)\n",
    "testloader = torch.utils.data.DataLoader(testset, batch_size=16, shuffle=True)\n",
    "'''\n",
    "\n",
    "epochs = 7\n",
    "print_every = 40\n",
    "accs_test = []\n",
    "\n",
    "for e in range(epochs):\n",
    "    running_loss = 0\n",
    "    print(f\"Epoch: {e+1}/{epochs}\")\n",
    "\n",
    "    for i, (images, labels) in enumerate(iter(trainloader)):\n",
    "\n",
    "        # Flatten EMNIST images into a 784 long vector\n",
    "        images.resize_(images.size()[0], 784)\n",
    "        \n",
    "        optimizer.zero_grad()\n",
    "        \n",
    "        output = model.forward(images)   # 1) Forward pass\n",
    "        loss = criterion(output, labels) # 2) Compute loss\n",
    "        loss.backward()                  # 3) Backward pass\n",
    "        optimizer.step()                 # 4) Update model\n",
    "        \n",
    "        running_loss += loss.item()\n",
    "        \n",
    "        if i % print_every == 0:\n",
    "            print(f\"\\tIteration: {i}\\t Loss: {running_loss/print_every:.4f}\")\n",
    "            running_loss = 0\n",
    "    model.eval()\n",
    "    with torch.no_grad():\n",
    "\n",
    "        acc, y_pred, y_true = check_accuracy(testloader, model)\n",
    "        accs_test.append(acc)\n",
    "    model.train()"
   ]
  },
  {
   "cell_type": "code",
   "execution_count": 27,
   "metadata": {},
   "outputs": [
    {
     "output_type": "execute_result",
     "data": {
      "text/plain": [
       "[0.7398, 0.8506, 0.8802, 0.8901, 0.9033, 0.9094, 0.9178]"
      ]
     },
     "metadata": {},
     "execution_count": 27
    }
   ],
   "source": [
    "accs_test"
   ]
  },
  {
   "cell_type": "code",
   "execution_count": 30,
   "metadata": {},
   "outputs": [
    {
     "output_type": "display_data",
     "data": {
      "text/plain": "<Figure size 432x648 with 2 Axes>",
      "image/png": "[encoded data removed]"
     },
     "metadata": {
      "image/png": {
       "width": 349,
       "height": 195
      },
      "needs_background": "light"
     }
    }
   ],
   "source": [
    "# Run this cell with your model to make sure it works and predicts well for the validation data\n",
    "images, labels = next(iter(testloader))\n",
    "images.resize_(images.shape[0], 1, 784)\n",
    "ps = F.softmax(model.forward(images[0,:]), dim=1)\n",
    "view_classify(images[0].view(1, 28, 28), ps)"
   ]
  },
  {
   "cell_type": "markdown",
   "metadata": {},
   "source": [
    "<div style=\"background:#222222; color:#ffffff; padding:20px\">\n",
    "  <h3 style=\"color:#01ff84; margin-top:4px\">Exercise 3:</h3>\n",
    "  <p>Write the code for adding <strong style=\"color:#01ff84\">Early Stopping with patience = 2</strong> to the training loop from scratch.</p>\n",
    "  <p><strong style=\"color:#01ff84\">Hint:</strong> Monitor the Validation loss every epoch, and if in 2 epochs, the validation loss does not improve, stop the training loop with <code>break</code>.</p>\n",
    "<div>"
   ]
  },
  {
   "cell_type": "code",
   "execution_count": 13,
   "metadata": {},
   "outputs": [
    {
     "output_type": "stream",
     "name": "stdout",
     "text": [
      "Initial weights -  Parameter containing:\ntensor([[ 0.0228, -0.0196,  0.0173,  ...,  0.0156, -0.0271, -0.0253],\n        [-0.0248, -0.0218, -0.0295,  ...,  0.0113, -0.0344, -0.0208],\n        [ 0.0286,  0.0266,  0.0355,  ..., -0.0199, -0.0014, -0.0195],\n        ...,\n        [-0.0174, -0.0344,  0.0190,  ..., -0.0158,  0.0049,  0.0092],\n        [-0.0149, -0.0051,  0.0154,  ...,  0.0307, -0.0280,  0.0353],\n        [ 0.0098,  0.0327,  0.0351,  ...,  0.0166, -0.0267, -0.0189]],\n       requires_grad=True)\nGradient - tensor([[-0.1076, -0.1076, -0.1076,  ..., -0.1076, -0.1076, -0.1076],\n        [ 0.0504,  0.0504,  0.0504,  ...,  0.0504,  0.0504,  0.0504],\n        [ 0.0191,  0.0191,  0.0191,  ...,  0.0191,  0.0191,  0.0191],\n        ...,\n        [-0.0011, -0.0011, -0.0011,  ..., -0.0011, -0.0011, -0.0011],\n        [ 0.0000,  0.0000,  0.0000,  ...,  0.0000,  0.0000,  0.0000],\n        [ 0.0677,  0.0677,  0.0677,  ...,  0.0677,  0.0677,  0.0677]])\n"
     ]
    }
   ],
   "source": [
    "model2 = Exercise_net()\n",
    "\n",
    "# First step: defining criterion and optimizer\n",
    "criterion = nn.CrossEntropyLoss()\n",
    "optimizer = optim.SGD(model2.parameters(), lr=0.003)\n",
    "\n",
    "\n",
    "# first step for testing pourposes\n",
    "\n",
    "print('Initial weights - ', model2.fc1.weight)\n",
    "\n",
    "images, labels = next(iter(trainloader))\n",
    "images.resize_(trainloader.batch_size, 784)\n",
    "\n",
    "# Clear the gradients, do this because gradients are accumulated\n",
    "optimizer.zero_grad()\n",
    "\n",
    "# Forward pass, then backward pass, then update weights\n",
    "output = model2.forward(images)\n",
    "loss = criterion(output, labels)\n",
    "loss.backward()\n",
    "print('Gradient -', model.fc1.weight.grad)\n",
    "optimizer.step()"
   ]
  },
  {
   "cell_type": "code",
   "execution_count": 14,
   "metadata": {
    "tags": [
     "outputPrepend"
    ]
   },
   "outputs": [
    {
     "output_type": "stream",
     "name": "stdout",
     "text": [
      "ss: 2.2983\n",
      "\tIteration: 440\t Loss: 2.2866\n",
      "\tIteration: 480\t Loss: 2.2782\n",
      "\tIteration: 520\t Loss: 2.2784\n",
      "\tIteration: 560\t Loss: 2.2709\n",
      "\tIteration: 600\t Loss: 2.2592\n",
      "\tIteration: 640\t Loss: 2.2623\n",
      "\tIteration: 680\t Loss: 2.2439\n",
      "\tIteration: 720\t Loss: 2.2470\n",
      "\tIteration: 760\t Loss: 2.2249\n",
      "\tIteration: 800\t Loss: 2.2233\n",
      "\tIteration: 840\t Loss: 2.2064\n",
      "\tIteration: 880\t Loss: 2.2108\n",
      "\tIteration: 920\t Loss: 2.1946\n",
      "\tIteration: 960\t Loss: 2.1641\n",
      "\tIteration: 1000\t Loss: 2.1701\n",
      "\tIteration: 1040\t Loss: 2.1396\n",
      "\tIteration: 1080\t Loss: 2.1551\n",
      "\tIteration: 1120\t Loss: 2.1156\n",
      "\tIteration: 1160\t Loss: 2.1106\n",
      "\tIteration: 1200\t Loss: 2.0658\n",
      "\tIteration: 1240\t Loss: 2.0778\n",
      "\tIteration: 1280\t Loss: 2.0626\n",
      "\tIteration: 1320\t Loss: 2.0572\n",
      "\tIteration: 1360\t Loss: 2.0044\n",
      "\tIteration: 1400\t Loss: 1.9932\n",
      "\tIteration: 1440\t Loss: 1.9970\n",
      "\tIteration: 1480\t Loss: 1.9682\n",
      "\tIteration: 1520\t Loss: 1.9659\n",
      "\tIteration: 1560\t Loss: 1.9469\n",
      "\tIteration: 1600\t Loss: 1.9532\n",
      "\tIteration: 1640\t Loss: 1.9126\n",
      "\tIteration: 1680\t Loss: 1.9300\n",
      "\tIteration: 1720\t Loss: 1.9125\n",
      "\tIteration: 1760\t Loss: 1.9161\n",
      "\tIteration: 1800\t Loss: 1.8616\n",
      "\tIteration: 1840\t Loss: 1.8123\n",
      "\tIteration: 1880\t Loss: 1.8303\n",
      "\tIteration: 1920\t Loss: 1.8430\n",
      "\tIteration: 1960\t Loss: 1.7970\n",
      "\tIteration: 2000\t Loss: 1.8005\n",
      "\tIteration: 2040\t Loss: 1.7665\n",
      "\tIteration: 2080\t Loss: 1.7437\n",
      "\tIteration: 2120\t Loss: 1.7290\n",
      "\tIteration: 2160\t Loss: 1.6864\n",
      "\tIteration: 2200\t Loss: 1.7376\n",
      "\tIteration: 2240\t Loss: 1.7318\n",
      "\tIteration: 2280\t Loss: 1.6973\n",
      "\tIteration: 2320\t Loss: 1.6443\n",
      "\tIteration: 2360\t Loss: 1.6425\n",
      "\tIteration: 2400\t Loss: 1.6552\n",
      "\tIteration: 2440\t Loss: 1.5962\n",
      "\tIteration: 2480\t Loss: 1.6124\n",
      "\tIteration: 2520\t Loss: 1.5999\n",
      "\tIteration: 2560\t Loss: 1.6234\n",
      "\tIteration: 2600\t Loss: 1.5944\n",
      "\tIteration: 2640\t Loss: 1.5947\n",
      "\tIteration: 2680\t Loss: 1.5432\n",
      "\tIteration: 2720\t Loss: 1.4913\n",
      "\tIteration: 2760\t Loss: 1.5065\n",
      "\tIteration: 2800\t Loss: 1.4798\n",
      "\tIteration: 2840\t Loss: 1.5318\n",
      "\tIteration: 2880\t Loss: 1.4910\n",
      "\tIteration: 2920\t Loss: 1.4282\n",
      "\tIteration: 2960\t Loss: 1.4496\n",
      "\tIteration: 3000\t Loss: 1.4432\n",
      "\tIteration: 3040\t Loss: 1.3757\n",
      "\tIteration: 3080\t Loss: 1.4546\n",
      "\tIteration: 3120\t Loss: 1.4084\n",
      "\tIteration: 3160\t Loss: 1.4238\n",
      "\tIteration: 3200\t Loss: 1.4062\n",
      "\tIteration: 3240\t Loss: 1.4033\n",
      "\tIteration: 3280\t Loss: 1.3907\n",
      "\tIteration: 3320\t Loss: 1.4061\n",
      "\tIteration: 3360\t Loss: 1.3264\n",
      "\tIteration: 3400\t Loss: 1.3236\n",
      "\tIteration: 3440\t Loss: 1.3267\n",
      "\tIteration: 3480\t Loss: 1.3199\n",
      "\tIteration: 3520\t Loss: 1.3436\n",
      "\tIteration: 3560\t Loss: 1.2915\n",
      "\tIteration: 3600\t Loss: 1.2214\n",
      "\tIteration: 3640\t Loss: 1.2084\n",
      "\tIteration: 3680\t Loss: 1.2594\n",
      "\tIteration: 3720\t Loss: 1.2600\n",
      "0.5829\n",
      "Epoch: 2/10\n",
      "\tIteration: 0\t Loss: 0.0381\n",
      "\tIteration: 40\t Loss: 1.0853\n",
      "\tIteration: 80\t Loss: 1.1238\n",
      "\tIteration: 120\t Loss: 1.1970\n",
      "\tIteration: 160\t Loss: 1.1726\n",
      "\tIteration: 200\t Loss: 1.2205\n",
      "\tIteration: 240\t Loss: 1.1431\n",
      "\tIteration: 280\t Loss: 1.1330\n",
      "\tIteration: 320\t Loss: 1.0930\n",
      "\tIteration: 360\t Loss: 1.1333\n",
      "\tIteration: 400\t Loss: 1.0909\n",
      "\tIteration: 440\t Loss: 1.0641\n",
      "\tIteration: 480\t Loss: 1.0627\n",
      "\tIteration: 520\t Loss: 0.9799\n",
      "\tIteration: 560\t Loss: 1.0724\n",
      "\tIteration: 600\t Loss: 0.9674\n",
      "\tIteration: 640\t Loss: 0.9789\n",
      "\tIteration: 680\t Loss: 0.9706\n",
      "\tIteration: 720\t Loss: 1.0286\n",
      "\tIteration: 760\t Loss: 0.9538\n",
      "\tIteration: 800\t Loss: 0.9151\n",
      "\tIteration: 840\t Loss: 1.0461\n",
      "\tIteration: 880\t Loss: 0.9092\n",
      "\tIteration: 920\t Loss: 0.9400\n",
      "\tIteration: 960\t Loss: 0.9323\n",
      "\tIteration: 1000\t Loss: 0.9686\n",
      "\tIteration: 1040\t Loss: 0.9260\n",
      "\tIteration: 1080\t Loss: 0.9096\n",
      "\tIteration: 1120\t Loss: 0.9767\n",
      "\tIteration: 1160\t Loss: 0.9362\n",
      "\tIteration: 1200\t Loss: 0.9341\n",
      "\tIteration: 1240\t Loss: 0.9081\n",
      "\tIteration: 1280\t Loss: 0.8868\n",
      "\tIteration: 1320\t Loss: 0.9040\n",
      "\tIteration: 1360\t Loss: 0.8352\n",
      "\tIteration: 1400\t Loss: 0.8588\n",
      "\tIteration: 1440\t Loss: 0.8142\n",
      "\tIteration: 1480\t Loss: 0.8577\n",
      "\tIteration: 1520\t Loss: 0.8573\n",
      "\tIteration: 1560\t Loss: 0.8389\n",
      "\tIteration: 1600\t Loss: 0.8922\n",
      "\tIteration: 1640\t Loss: 0.8425\n",
      "\tIteration: 1680\t Loss: 0.8170\n",
      "\tIteration: 1720\t Loss: 0.6676\n",
      "\tIteration: 1760\t Loss: 0.7884\n",
      "\tIteration: 1800\t Loss: 0.8117\n",
      "\tIteration: 1840\t Loss: 0.8343\n",
      "\tIteration: 1880\t Loss: 0.7374\n",
      "\tIteration: 1920\t Loss: 0.7085\n",
      "\tIteration: 1960\t Loss: 0.6811\n",
      "\tIteration: 2000\t Loss: 0.7803\n",
      "\tIteration: 2040\t Loss: 0.7741\n",
      "\tIteration: 2080\t Loss: 0.6789\n",
      "\tIteration: 2120\t Loss: 0.6744\n",
      "\tIteration: 2160\t Loss: 0.7047\n",
      "\tIteration: 2200\t Loss: 0.7115\n",
      "\tIteration: 2240\t Loss: 0.7158\n",
      "\tIteration: 2280\t Loss: 0.7000\n",
      "\tIteration: 2320\t Loss: 0.7437\n",
      "\tIteration: 2360\t Loss: 0.7554\n",
      "\tIteration: 2400\t Loss: 0.6752\n",
      "\tIteration: 2440\t Loss: 0.6944\n",
      "\tIteration: 2480\t Loss: 0.7207\n",
      "\tIteration: 2520\t Loss: 0.6351\n",
      "\tIteration: 2560\t Loss: 0.7642\n",
      "\tIteration: 2600\t Loss: 0.7066\n",
      "\tIteration: 2640\t Loss: 0.6508\n",
      "\tIteration: 2680\t Loss: 0.6452\n",
      "\tIteration: 2720\t Loss: 0.5845\n",
      "\tIteration: 2760\t Loss: 0.7171\n",
      "\tIteration: 2800\t Loss: 0.5612\n",
      "\tIteration: 2840\t Loss: 0.6598\n",
      "\tIteration: 2880\t Loss: 0.6477\n",
      "\tIteration: 2920\t Loss: 0.5710\n",
      "\tIteration: 2960\t Loss: 0.6324\n",
      "\tIteration: 3000\t Loss: 0.5815\n",
      "\tIteration: 3040\t Loss: 0.5936\n",
      "\tIteration: 3080\t Loss: 0.6524\n",
      "\tIteration: 3120\t Loss: 0.6331\n",
      "\tIteration: 3160\t Loss: 0.6678\n",
      "\tIteration: 3200\t Loss: 0.6900\n",
      "\tIteration: 3240\t Loss: 0.6442\n",
      "\tIteration: 3280\t Loss: 0.6681\n",
      "\tIteration: 3320\t Loss: 0.5505\n",
      "\tIteration: 3360\t Loss: 0.5808\n",
      "\tIteration: 3400\t Loss: 0.6091\n",
      "\tIteration: 3440\t Loss: 0.5420\n",
      "\tIteration: 3480\t Loss: 0.5342\n",
      "\tIteration: 3520\t Loss: 0.5493\n",
      "\tIteration: 3560\t Loss: 0.5630\n",
      "\tIteration: 3600\t Loss: 0.5772\n",
      "\tIteration: 3640\t Loss: 0.5280\n",
      "\tIteration: 3680\t Loss: 0.5224\n",
      "\tIteration: 3720\t Loss: 0.5502\n",
      "0.8388\n",
      "Epoch: 3/10\n",
      "\tIteration: 0\t Loss: 0.0106\n",
      "\tIteration: 40\t Loss: 0.4879\n",
      "\tIteration: 80\t Loss: 0.5098\n",
      "\tIteration: 120\t Loss: 0.5681\n",
      "\tIteration: 160\t Loss: 0.5307\n",
      "\tIteration: 200\t Loss: 0.5035\n",
      "\tIteration: 240\t Loss: 0.5824\n",
      "\tIteration: 280\t Loss: 0.5041\n",
      "\tIteration: 320\t Loss: 0.5048\n",
      "\tIteration: 360\t Loss: 0.5074\n",
      "\tIteration: 400\t Loss: 0.5302\n",
      "\tIteration: 440\t Loss: 0.5659\n",
      "\tIteration: 480\t Loss: 0.6005\n",
      "\tIteration: 520\t Loss: 0.5061\n",
      "\tIteration: 560\t Loss: 0.5231\n",
      "\tIteration: 600\t Loss: 0.4907\n",
      "\tIteration: 640\t Loss: 0.4966\n",
      "\tIteration: 680\t Loss: 0.5064\n",
      "\tIteration: 720\t Loss: 0.5350\n",
      "\tIteration: 760\t Loss: 0.5085\n",
      "\tIteration: 800\t Loss: 0.4693\n",
      "\tIteration: 840\t Loss: 0.4862\n",
      "\tIteration: 880\t Loss: 0.4543\n",
      "\tIteration: 920\t Loss: 0.4994\n",
      "\tIteration: 960\t Loss: 0.5569\n",
      "\tIteration: 1000\t Loss: 0.5738\n",
      "\tIteration: 1040\t Loss: 0.5270\n",
      "\tIteration: 1080\t Loss: 0.5723\n",
      "\tIteration: 1120\t Loss: 0.5277\n",
      "\tIteration: 1160\t Loss: 0.5509\n",
      "\tIteration: 1200\t Loss: 0.4981\n",
      "\tIteration: 1240\t Loss: 0.4931\n",
      "\tIteration: 1280\t Loss: 0.5177\n",
      "\tIteration: 1320\t Loss: 0.5203\n",
      "\tIteration: 1360\t Loss: 0.5404\n",
      "\tIteration: 1400\t Loss: 0.4541\n",
      "\tIteration: 1440\t Loss: 0.4749\n",
      "\tIteration: 1480\t Loss: 0.4990\n",
      "\tIteration: 1520\t Loss: 0.5220\n",
      "\tIteration: 1560\t Loss: 0.4531\n",
      "\tIteration: 1600\t Loss: 0.5009\n",
      "\tIteration: 1640\t Loss: 0.5531\n",
      "\tIteration: 1680\t Loss: 0.5612\n",
      "\tIteration: 1720\t Loss: 0.4874\n",
      "\tIteration: 1760\t Loss: 0.4071\n",
      "\tIteration: 1800\t Loss: 0.4650\n",
      "\tIteration: 1840\t Loss: 0.4371\n",
      "\tIteration: 1880\t Loss: 0.5137\n",
      "\tIteration: 1920\t Loss: 0.4360\n",
      "\tIteration: 1960\t Loss: 0.4568\n",
      "\tIteration: 2000\t Loss: 0.4704\n",
      "\tIteration: 2040\t Loss: 0.4612\n",
      "\tIteration: 2080\t Loss: 0.4252\n",
      "\tIteration: 2120\t Loss: 0.4338\n",
      "\tIteration: 2160\t Loss: 0.4608\n",
      "\tIteration: 2200\t Loss: 0.4502\n",
      "\tIteration: 2240\t Loss: 0.4764\n",
      "\tIteration: 2280\t Loss: 0.4165\n",
      "\tIteration: 2320\t Loss: 0.4854\n",
      "\tIteration: 2360\t Loss: 0.4482\n",
      "\tIteration: 2400\t Loss: 0.4385\n",
      "\tIteration: 2440\t Loss: 0.4725\n",
      "\tIteration: 2480\t Loss: 0.4982\n",
      "\tIteration: 2520\t Loss: 0.4909\n",
      "\tIteration: 2560\t Loss: 0.5114\n",
      "\tIteration: 2600\t Loss: 0.3842\n",
      "\tIteration: 2640\t Loss: 0.4587\n",
      "\tIteration: 2680\t Loss: 0.4462\n",
      "\tIteration: 2720\t Loss: 0.4278\n",
      "\tIteration: 2760\t Loss: 0.5110\n",
      "\tIteration: 2800\t Loss: 0.4188\n",
      "\tIteration: 2840\t Loss: 0.3376\n",
      "\tIteration: 2880\t Loss: 0.4601\n",
      "\tIteration: 2920\t Loss: 0.4143\n",
      "\tIteration: 2960\t Loss: 0.3977\n",
      "\tIteration: 3000\t Loss: 0.4412\n",
      "\tIteration: 3040\t Loss: 0.4651\n",
      "\tIteration: 3080\t Loss: 0.5111\n",
      "\tIteration: 3120\t Loss: 0.4574\n",
      "\tIteration: 3160\t Loss: 0.4260\n",
      "\tIteration: 3200\t Loss: 0.5341\n",
      "\tIteration: 3240\t Loss: 0.4112\n",
      "\tIteration: 3280\t Loss: 0.3892\n",
      "\tIteration: 3320\t Loss: 0.4558\n",
      "\tIteration: 3360\t Loss: 0.4561\n",
      "\tIteration: 3400\t Loss: 0.4007\n",
      "\tIteration: 3440\t Loss: 0.4243\n",
      "\tIteration: 3480\t Loss: 0.3902\n",
      "\tIteration: 3520\t Loss: 0.4357\n",
      "\tIteration: 3560\t Loss: 0.4057\n",
      "\tIteration: 3600\t Loss: 0.4811\n",
      "\tIteration: 3640\t Loss: 0.4422\n",
      "\tIteration: 3680\t Loss: 0.4783\n",
      "\tIteration: 3720\t Loss: 0.4378\n",
      "0.8749\n",
      "Epoch: 4/10\n",
      "\tIteration: 0\t Loss: 0.0045\n",
      "\tIteration: 40\t Loss: 0.4293\n",
      "\tIteration: 80\t Loss: 0.3422\n",
      "\tIteration: 120\t Loss: 0.4431\n",
      "\tIteration: 160\t Loss: 0.4417\n",
      "\tIteration: 200\t Loss: 0.4450\n",
      "\tIteration: 240\t Loss: 0.3709\n",
      "\tIteration: 280\t Loss: 0.4280\n",
      "\tIteration: 320\t Loss: 0.4147\n",
      "\tIteration: 360\t Loss: 0.4766\n",
      "\tIteration: 400\t Loss: 0.3595\n",
      "\tIteration: 440\t Loss: 0.4728\n",
      "\tIteration: 480\t Loss: 0.4309\n",
      "\tIteration: 520\t Loss: 0.3749\n",
      "\tIteration: 560\t Loss: 0.3894\n",
      "\tIteration: 600\t Loss: 0.3692\n",
      "\tIteration: 640\t Loss: 0.3633\n",
      "\tIteration: 680\t Loss: 0.4573\n",
      "\tIteration: 720\t Loss: 0.4740\n",
      "\tIteration: 760\t Loss: 0.3623\n",
      "\tIteration: 800\t Loss: 0.3300\n",
      "\tIteration: 840\t Loss: 0.3924\n",
      "\tIteration: 880\t Loss: 0.3904\n",
      "\tIteration: 920\t Loss: 0.4060\n",
      "\tIteration: 960\t Loss: 0.4518\n",
      "\tIteration: 1000\t Loss: 0.3598\n",
      "\tIteration: 1040\t Loss: 0.4682\n",
      "\tIteration: 1080\t Loss: 0.4540\n",
      "\tIteration: 1120\t Loss: 0.3659\n",
      "\tIteration: 1160\t Loss: 0.3821\n",
      "\tIteration: 1200\t Loss: 0.4161\n",
      "\tIteration: 1240\t Loss: 0.3633\n",
      "\tIteration: 1280\t Loss: 0.3728\n",
      "\tIteration: 1320\t Loss: 0.4192\n",
      "\tIteration: 1360\t Loss: 0.4112\n",
      "\tIteration: 1400\t Loss: 0.4119\n",
      "\tIteration: 1440\t Loss: 0.3632\n",
      "\tIteration: 1480\t Loss: 0.4364\n",
      "\tIteration: 1520\t Loss: 0.4153\n",
      "\tIteration: 1560\t Loss: 0.3790\n",
      "\tIteration: 1600\t Loss: 0.4006\n",
      "\tIteration: 1640\t Loss: 0.3666\n",
      "\tIteration: 1680\t Loss: 0.3710\n",
      "\tIteration: 1720\t Loss: 0.3891\n",
      "\tIteration: 1760\t Loss: 0.3569\n",
      "\tIteration: 1800\t Loss: 0.4749\n",
      "\tIteration: 1840\t Loss: 0.3519\n",
      "\tIteration: 1880\t Loss: 0.3960\n",
      "\tIteration: 1920\t Loss: 0.4189\n",
      "\tIteration: 1960\t Loss: 0.3716\n",
      "\tIteration: 2000\t Loss: 0.3431\n",
      "\tIteration: 2040\t Loss: 0.3531\n",
      "\tIteration: 2080\t Loss: 0.3593\n",
      "\tIteration: 2120\t Loss: 0.4394\n",
      "\tIteration: 2160\t Loss: 0.3943\n",
      "\tIteration: 2200\t Loss: 0.4330\n",
      "\tIteration: 2240\t Loss: 0.3052\n",
      "\tIteration: 2280\t Loss: 0.3627\n",
      "\tIteration: 2320\t Loss: 0.4048\n",
      "\tIteration: 2360\t Loss: 0.4212\n",
      "\tIteration: 2400\t Loss: 0.4656\n",
      "\tIteration: 2440\t Loss: 0.4386\n",
      "\tIteration: 2480\t Loss: 0.4398\n",
      "\tIteration: 2520\t Loss: 0.3523\n",
      "\tIteration: 2560\t Loss: 0.3895\n",
      "\tIteration: 2600\t Loss: 0.3068\n",
      "\tIteration: 2640\t Loss: 0.3683\n",
      "\tIteration: 2680\t Loss: 0.3648\n",
      "\tIteration: 2720\t Loss: 0.3237\n",
      "\tIteration: 2760\t Loss: 0.3477\n",
      "\tIteration: 2800\t Loss: 0.3719\n",
      "\tIteration: 2840\t Loss: 0.3745\n",
      "\tIteration: 2880\t Loss: 0.3669\n",
      "\tIteration: 2920\t Loss: 0.4100\n",
      "\tIteration: 2960\t Loss: 0.3915\n",
      "\tIteration: 3000\t Loss: 0.4036\n",
      "\tIteration: 3040\t Loss: 0.4220\n",
      "\tIteration: 3080\t Loss: 0.3737\n",
      "\tIteration: 3120\t Loss: 0.4336\n",
      "\tIteration: 3160\t Loss: 0.3325\n",
      "\tIteration: 3200\t Loss: 0.3532\n",
      "\tIteration: 3240\t Loss: 0.3502\n",
      "\tIteration: 3280\t Loss: 0.3547\n",
      "\tIteration: 3320\t Loss: 0.3429\n",
      "\tIteration: 3360\t Loss: 0.3894\n",
      "\tIteration: 3400\t Loss: 0.3277\n",
      "\tIteration: 3440\t Loss: 0.3686\n",
      "\tIteration: 3480\t Loss: 0.3162\n",
      "\tIteration: 3520\t Loss: 0.3646\n",
      "\tIteration: 3560\t Loss: 0.3678\n",
      "\tIteration: 3600\t Loss: 0.3676\n",
      "\tIteration: 3640\t Loss: 0.3624\n",
      "\tIteration: 3680\t Loss: 0.3950\n",
      "\tIteration: 3720\t Loss: 0.3898\n",
      "0.8951\n",
      "Epoch: 5/10\n",
      "\tIteration: 0\t Loss: 0.0078\n",
      "\tIteration: 40\t Loss: 0.3965\n",
      "\tIteration: 80\t Loss: 0.3397\n",
      "\tIteration: 120\t Loss: 0.2927\n",
      "\tIteration: 160\t Loss: 0.3704\n",
      "\tIteration: 200\t Loss: 0.3785\n",
      "\tIteration: 240\t Loss: 0.3119\n",
      "\tIteration: 280\t Loss: 0.3269\n",
      "\tIteration: 320\t Loss: 0.4303\n",
      "\tIteration: 360\t Loss: 0.3390\n",
      "\tIteration: 400\t Loss: 0.3428\n",
      "\tIteration: 440\t Loss: 0.3551\n",
      "\tIteration: 480\t Loss: 0.3686\n",
      "\tIteration: 520\t Loss: 0.3701\n",
      "\tIteration: 560\t Loss: 0.4161\n",
      "\tIteration: 600\t Loss: 0.4126\n",
      "\tIteration: 640\t Loss: 0.3040\n",
      "\tIteration: 680\t Loss: 0.3633\n",
      "\tIteration: 720\t Loss: 0.3868\n",
      "\tIteration: 760\t Loss: 0.3665\n",
      "\tIteration: 800\t Loss: 0.3243\n",
      "\tIteration: 840\t Loss: 0.2807\n",
      "\tIteration: 880\t Loss: 0.4016\n",
      "\tIteration: 920\t Loss: 0.3547\n",
      "\tIteration: 960\t Loss: 0.4322\n",
      "\tIteration: 1000\t Loss: 0.3181\n",
      "\tIteration: 1040\t Loss: 0.3937\n",
      "\tIteration: 1080\t Loss: 0.3165\n",
      "\tIteration: 1120\t Loss: 0.3789\n",
      "\tIteration: 1160\t Loss: 0.2982\n",
      "\tIteration: 1200\t Loss: 0.3262\n",
      "\tIteration: 1240\t Loss: 0.3340\n",
      "\tIteration: 1280\t Loss: 0.3673\n",
      "\tIteration: 1320\t Loss: 0.3730\n",
      "\tIteration: 1360\t Loss: 0.3587\n",
      "\tIteration: 1400\t Loss: 0.2885\n",
      "\tIteration: 1440\t Loss: 0.4103\n",
      "\tIteration: 1480\t Loss: 0.3020\n",
      "\tIteration: 1520\t Loss: 0.3565\n",
      "\tIteration: 1560\t Loss: 0.3620\n",
      "\tIteration: 1600\t Loss: 0.3335\n",
      "\tIteration: 1640\t Loss: 0.3567\n",
      "\tIteration: 1680\t Loss: 0.3400\n",
      "\tIteration: 1720\t Loss: 0.3844\n",
      "\tIteration: 1760\t Loss: 0.2934\n",
      "\tIteration: 1800\t Loss: 0.3197\n",
      "\tIteration: 1840\t Loss: 0.2940\n",
      "\tIteration: 1880\t Loss: 0.3369\n",
      "\tIteration: 1920\t Loss: 0.3197\n",
      "\tIteration: 1960\t Loss: 0.3491\n",
      "\tIteration: 2000\t Loss: 0.2904\n",
      "\tIteration: 2040\t Loss: 0.3057\n",
      "\tIteration: 2080\t Loss: 0.3314\n",
      "\tIteration: 2120\t Loss: 0.3298\n",
      "\tIteration: 2160\t Loss: 0.3196\n",
      "\tIteration: 2200\t Loss: 0.2566\n",
      "\tIteration: 2240\t Loss: 0.3696\n",
      "\tIteration: 2280\t Loss: 0.3966\n",
      "\tIteration: 2320\t Loss: 0.2982\n",
      "\tIteration: 2360\t Loss: 0.2586\n",
      "\tIteration: 2400\t Loss: 0.2956\n",
      "\tIteration: 2440\t Loss: 0.2887\n",
      "\tIteration: 2480\t Loss: 0.2608\n",
      "\tIteration: 2520\t Loss: 0.2875\n",
      "\tIteration: 2560\t Loss: 0.3453\n",
      "\tIteration: 2600\t Loss: 0.3224\n",
      "\tIteration: 2640\t Loss: 0.2964\n",
      "\tIteration: 2680\t Loss: 0.3003\n",
      "\tIteration: 2720\t Loss: 0.3395\n",
      "\tIteration: 2760\t Loss: 0.3641\n",
      "\tIteration: 2800\t Loss: 0.3322\n",
      "\tIteration: 2840\t Loss: 0.3675\n",
      "\tIteration: 2880\t Loss: 0.3366\n",
      "\tIteration: 2920\t Loss: 0.3162\n",
      "\tIteration: 2960\t Loss: 0.3701\n",
      "\tIteration: 3000\t Loss: 0.3186\n",
      "\tIteration: 3040\t Loss: 0.2770\n",
      "\tIteration: 3080\t Loss: 0.4106\n",
      "\tIteration: 3120\t Loss: 0.3208\n",
      "\tIteration: 3160\t Loss: 0.3277\n",
      "\tIteration: 3200\t Loss: 0.3694\n",
      "\tIteration: 3240\t Loss: 0.3353\n",
      "\tIteration: 3280\t Loss: 0.3013\n",
      "\tIteration: 3320\t Loss: 0.3192\n",
      "\tIteration: 3360\t Loss: 0.3097\n",
      "\tIteration: 3400\t Loss: 0.3225\n",
      "\tIteration: 3440\t Loss: 0.3165\n",
      "\tIteration: 3480\t Loss: 0.3316\n",
      "\tIteration: 3520\t Loss: 0.3256\n",
      "\tIteration: 3560\t Loss: 0.3416\n",
      "\tIteration: 3600\t Loss: 0.2962\n",
      "\tIteration: 3640\t Loss: 0.3125\n",
      "\tIteration: 3680\t Loss: 0.3564\n",
      "\tIteration: 3720\t Loss: 0.3499\n",
      "0.9047\n",
      "Epoch: 6/10\n",
      "\tIteration: 0\t Loss: 0.0062\n",
      "\tIteration: 40\t Loss: 0.3570\n",
      "\tIteration: 80\t Loss: 0.4293\n",
      "\tIteration: 120\t Loss: 0.3539\n",
      "\tIteration: 160\t Loss: 0.3020\n",
      "\tIteration: 200\t Loss: 0.3002\n",
      "\tIteration: 240\t Loss: 0.3416\n",
      "\tIteration: 280\t Loss: 0.2812\n",
      "\tIteration: 320\t Loss: 0.2719\n",
      "\tIteration: 360\t Loss: 0.3540\n",
      "\tIteration: 400\t Loss: 0.3309\n",
      "\tIteration: 440\t Loss: 0.2744\n",
      "\tIteration: 480\t Loss: 0.2844\n",
      "\tIteration: 520\t Loss: 0.3387\n",
      "\tIteration: 560\t Loss: 0.3311\n",
      "\tIteration: 600\t Loss: 0.2739\n",
      "\tIteration: 640\t Loss: 0.3143\n",
      "\tIteration: 680\t Loss: 0.3187\n",
      "\tIteration: 720\t Loss: 0.2586\n",
      "\tIteration: 760\t Loss: 0.3068\n",
      "\tIteration: 800\t Loss: 0.2536\n",
      "\tIteration: 840\t Loss: 0.2806\n",
      "\tIteration: 880\t Loss: 0.3096\n",
      "\tIteration: 920\t Loss: 0.3194\n",
      "\tIteration: 960\t Loss: 0.3157\n",
      "\tIteration: 1000\t Loss: 0.3172\n",
      "\tIteration: 1040\t Loss: 0.2737\n",
      "\tIteration: 1080\t Loss: 0.3343\n",
      "\tIteration: 1120\t Loss: 0.2878\n",
      "\tIteration: 1160\t Loss: 0.2644\n",
      "\tIteration: 1200\t Loss: 0.2743\n",
      "\tIteration: 1240\t Loss: 0.2961\n",
      "\tIteration: 1280\t Loss: 0.3207\n",
      "\tIteration: 1320\t Loss: 0.3014\n",
      "\tIteration: 1360\t Loss: 0.3026\n",
      "\tIteration: 1400\t Loss: 0.2613\n",
      "\tIteration: 1440\t Loss: 0.2881\n",
      "\tIteration: 1480\t Loss: 0.2987\n",
      "\tIteration: 1520\t Loss: 0.2820\n",
      "\tIteration: 1560\t Loss: 0.3062\n",
      "\tIteration: 1600\t Loss: 0.2748\n",
      "\tIteration: 1640\t Loss: 0.3128\n",
      "\tIteration: 1680\t Loss: 0.2922\n",
      "\tIteration: 1720\t Loss: 0.2951\n",
      "\tIteration: 1760\t Loss: 0.2718\n",
      "\tIteration: 1800\t Loss: 0.2702\n",
      "\tIteration: 1840\t Loss: 0.3212\n",
      "\tIteration: 1880\t Loss: 0.2853\n",
      "\tIteration: 1920\t Loss: 0.3680\n",
      "\tIteration: 1960\t Loss: 0.2696\n",
      "\tIteration: 2000\t Loss: 0.3537\n",
      "\tIteration: 2040\t Loss: 0.2312\n",
      "\tIteration: 2080\t Loss: 0.3299\n",
      "\tIteration: 2120\t Loss: 0.2789\n",
      "\tIteration: 2160\t Loss: 0.2502\n",
      "\tIteration: 2200\t Loss: 0.2691\n",
      "\tIteration: 2240\t Loss: 0.2812\n",
      "\tIteration: 2280\t Loss: 0.3239\n",
      "\tIteration: 2320\t Loss: 0.3299\n",
      "\tIteration: 2360\t Loss: 0.2587\n",
      "\tIteration: 2400\t Loss: 0.2735\n",
      "\tIteration: 2440\t Loss: 0.3298\n",
      "\tIteration: 2480\t Loss: 0.3137\n",
      "\tIteration: 2520\t Loss: 0.2429\n",
      "\tIteration: 2560\t Loss: 0.2656\n",
      "\tIteration: 2600\t Loss: 0.2790\n",
      "\tIteration: 2640\t Loss: 0.3234\n",
      "\tIteration: 2680\t Loss: 0.2894\n",
      "\tIteration: 2720\t Loss: 0.2620\n",
      "\tIteration: 2760\t Loss: 0.2704\n",
      "\tIteration: 2800\t Loss: 0.3402\n",
      "\tIteration: 2840\t Loss: 0.2946\n",
      "\tIteration: 2880\t Loss: 0.3036\n",
      "\tIteration: 2920\t Loss: 0.2983\n",
      "\tIteration: 2960\t Loss: 0.3490\n",
      "\tIteration: 3000\t Loss: 0.2796\n",
      "\tIteration: 3040\t Loss: 0.3194\n",
      "\tIteration: 3080\t Loss: 0.2781\n",
      "\tIteration: 3120\t Loss: 0.3517\n",
      "\tIteration: 3160\t Loss: 0.3039\n",
      "\tIteration: 3200\t Loss: 0.2740\n",
      "\tIteration: 3240\t Loss: 0.2494\n",
      "\tIteration: 3280\t Loss: 0.2274\n",
      "\tIteration: 3320\t Loss: 0.2938\n",
      "\tIteration: 3360\t Loss: 0.2992\n",
      "\tIteration: 3400\t Loss: 0.2490\n",
      "\tIteration: 3440\t Loss: 0.3043\n",
      "\tIteration: 3480\t Loss: 0.2479\n",
      "\tIteration: 3520\t Loss: 0.3280\n",
      "\tIteration: 3560\t Loss: 0.3204\n",
      "\tIteration: 3600\t Loss: 0.2498\n",
      "\tIteration: 3640\t Loss: 0.3063\n",
      "\tIteration: 3680\t Loss: 0.2396\n",
      "\tIteration: 3720\t Loss: 0.3205\n",
      "0.9125\n",
      "Epoch: 7/10\n",
      "\tIteration: 0\t Loss: 0.0019\n",
      "\tIteration: 40\t Loss: 0.2868\n",
      "\tIteration: 80\t Loss: 0.2690\n",
      "\tIteration: 120\t Loss: 0.2421\n",
      "\tIteration: 160\t Loss: 0.3199\n",
      "\tIteration: 200\t Loss: 0.2327\n",
      "\tIteration: 240\t Loss: 0.2924\n",
      "\tIteration: 280\t Loss: 0.3160\n",
      "\tIteration: 320\t Loss: 0.2599\n",
      "\tIteration: 360\t Loss: 0.2546\n",
      "\tIteration: 400\t Loss: 0.3129\n",
      "\tIteration: 440\t Loss: 0.2962\n",
      "\tIteration: 480\t Loss: 0.2423\n",
      "\tIteration: 520\t Loss: 0.2402\n",
      "\tIteration: 560\t Loss: 0.2797\n",
      "\tIteration: 600\t Loss: 0.2626\n",
      "\tIteration: 640\t Loss: 0.2482\n",
      "\tIteration: 680\t Loss: 0.2708\n",
      "\tIteration: 720\t Loss: 0.2586\n",
      "\tIteration: 760\t Loss: 0.2462\n",
      "\tIteration: 800\t Loss: 0.2909\n",
      "\tIteration: 840\t Loss: 0.2729\n",
      "\tIteration: 880\t Loss: 0.2660\n",
      "\tIteration: 920\t Loss: 0.3110\n",
      "\tIteration: 960\t Loss: 0.2585\n",
      "\tIteration: 1000\t Loss: 0.2507\n",
      "\tIteration: 1040\t Loss: 0.2717\n",
      "\tIteration: 1080\t Loss: 0.2938\n",
      "\tIteration: 1120\t Loss: 0.2238\n",
      "\tIteration: 1160\t Loss: 0.2830\n",
      "\tIteration: 1200\t Loss: 0.2761\n",
      "\tIteration: 1240\t Loss: 0.2719\n",
      "\tIteration: 1280\t Loss: 0.2931\n",
      "\tIteration: 1320\t Loss: 0.2705\n",
      "\tIteration: 1360\t Loss: 0.2360\n",
      "\tIteration: 1400\t Loss: 0.2692\n",
      "\tIteration: 1440\t Loss: 0.2662\n",
      "\tIteration: 1480\t Loss: 0.2498\n",
      "\tIteration: 1520\t Loss: 0.2794\n",
      "\tIteration: 1560\t Loss: 0.3121\n",
      "\tIteration: 1600\t Loss: 0.2442\n",
      "\tIteration: 1640\t Loss: 0.2425\n",
      "\tIteration: 1680\t Loss: 0.2585\n",
      "\tIteration: 1720\t Loss: 0.2498\n",
      "\tIteration: 1760\t Loss: 0.3124\n",
      "\tIteration: 1800\t Loss: 0.2829\n",
      "\tIteration: 1840\t Loss: 0.3094\n",
      "\tIteration: 1880\t Loss: 0.2462\n",
      "\tIteration: 1920\t Loss: 0.3783\n",
      "\tIteration: 1960\t Loss: 0.2682\n",
      "\tIteration: 2000\t Loss: 0.2750\n",
      "\tIteration: 2040\t Loss: 0.2755\n",
      "\tIteration: 2080\t Loss: 0.3095\n",
      "\tIteration: 2120\t Loss: 0.2299\n",
      "\tIteration: 2160\t Loss: 0.2921\n",
      "\tIteration: 2200\t Loss: 0.2743\n",
      "\tIteration: 2240\t Loss: 0.2154\n",
      "\tIteration: 2280\t Loss: 0.2445\n",
      "\tIteration: 2320\t Loss: 0.2355\n",
      "\tIteration: 2360\t Loss: 0.3009\n",
      "\tIteration: 2400\t Loss: 0.2441\n",
      "\tIteration: 2440\t Loss: 0.2518\n",
      "\tIteration: 2480\t Loss: 0.2194\n",
      "\tIteration: 2520\t Loss: 0.2821\n",
      "\tIteration: 2560\t Loss: 0.2634\n",
      "\tIteration: 2600\t Loss: 0.2295\n",
      "\tIteration: 2640\t Loss: 0.2149\n",
      "\tIteration: 2680\t Loss: 0.2325\n",
      "\tIteration: 2720\t Loss: 0.3291\n",
      "\tIteration: 2760\t Loss: 0.2231\n",
      "\tIteration: 2800\t Loss: 0.2943\n",
      "\tIteration: 2840\t Loss: 0.2334\n",
      "\tIteration: 2880\t Loss: 0.2110\n",
      "\tIteration: 2920\t Loss: 0.2412\n",
      "\tIteration: 2960\t Loss: 0.2564\n",
      "\tIteration: 3000\t Loss: 0.2436\n",
      "\tIteration: 3040\t Loss: 0.2430\n",
      "\tIteration: 3080\t Loss: 0.2209\n",
      "\tIteration: 3120\t Loss: 0.2394\n",
      "\tIteration: 3160\t Loss: 0.2623\n",
      "\tIteration: 3200\t Loss: 0.3183\n",
      "\tIteration: 3240\t Loss: 0.2930\n",
      "\tIteration: 3280\t Loss: 0.2547\n",
      "\tIteration: 3320\t Loss: 0.2842\n",
      "\tIteration: 3360\t Loss: 0.2497\n",
      "\tIteration: 3400\t Loss: 0.2370\n",
      "\tIteration: 3440\t Loss: 0.2672\n",
      "\tIteration: 3480\t Loss: 0.2708\n",
      "\tIteration: 3520\t Loss: 0.2296\n",
      "\tIteration: 3560\t Loss: 0.2090\n",
      "\tIteration: 3600\t Loss: 0.2576\n",
      "\tIteration: 3640\t Loss: 0.2684\n",
      "\tIteration: 3680\t Loss: 0.2622\n",
      "\tIteration: 3720\t Loss: 0.2358\n",
      "0.912\n"
     ]
    }
   ],
   "source": [
    "## TODO: Your training loop here\n",
    "\n",
    "epochs = 10\n",
    "print_every = 40\n",
    "accs_test = []\n",
    "patience = 2\n",
    "epsilon = 0.005\n",
    "\n",
    "for e in range(epochs):\n",
    "    running_loss = 0\n",
    "    print(f\"Epoch: {e+1}/{epochs}\")\n",
    "\n",
    "    for i, (images, labels) in enumerate(iter(trainloader)):\n",
    "\n",
    "        # Flatten EMNIST images into a 784 long vector\n",
    "        images.resize_(images.size()[0], 784)\n",
    "        \n",
    "        optimizer.zero_grad()\n",
    "        \n",
    "        output = model2.forward(images)   # 1) Forward pass\n",
    "        loss = criterion(output, labels) # 2) Compute loss\n",
    "        loss.backward()                  # 3) Backward pass\n",
    "        optimizer.step()                 # 4) Update model\n",
    "        \n",
    "        running_loss += loss.item()\n",
    "        \n",
    "        if i % print_every == 0:\n",
    "            print(f\"\\tIteration: {i}\\t Loss: {running_loss/print_every:.4f}\")\n",
    "            running_loss = 0\n",
    "    model2.eval()\n",
    "    with torch.no_grad():\n",
    "\n",
    "        acc, y_pred, y_true = check_accuracy(testloader, model2)\n",
    "        accs_test.append(acc)\n",
    "    model2.train()\n",
    "    if len(accs_test) > (patience - 1):\n",
    "        if accs_test[-1] - accs_test[-patience] < epsilon:\n",
    "            print(f'Training stopped after {})\n",
    "            break"
   ]
  },
  {
   "cell_type": "markdown",
   "metadata": {},
   "source": [
    "<div style=\"background:#222222; color:#ffffff; padding:20px\">\n",
    "  <h3 style=\"color:#01ff84; margin-top:4px\">Optional:</h3>\n",
    "  <p>Don't you want to use MNIST? Try EMNIST instead! Maybe using the first 10 letters of the alphabet!</p>\n"
   ]
  },
  {
   "cell_type": "code",
   "execution_count": 33,
   "metadata": {
    "ExecuteTime": {
     "end_time": "2021-05-26T22:35:26.981584Z",
     "start_time": "2021-05-26T22:35:26.954522Z"
    }
   },
   "outputs": [],
   "source": [
    "# we will need a custom visualization function\n",
    "def view_classify_emnist(img, ps):\n",
    "\n",
    "    ps = ps.data.numpy().squeeze()\n",
    "\n",
    "    fig, (ax1, ax2) = plt.subplots(figsize=(6,9), ncols=2)\n",
    "    ax1.imshow(img.resize_(1, 28, 28).numpy().squeeze())\n",
    "    ax1.axis('off')\n",
    "    ax2.barh(list(\"abcdefghij\"), ps)\n",
    "    ax2.set_aspect(0.1)\n",
    "    ax2.set_yticks(np.arange(10))\n",
    "    ax2.set_yticklabels(np.arange(10))\n",
    "    ax2.set_title('Class Probability')\n",
    "    ax2.set_xlim(0, 1.1)"
   ]
  },
  {
   "cell_type": "code",
   "execution_count": 49,
   "metadata": {
    "ExecuteTime": {
     "end_time": "2021-05-26T22:50:57.571260Z",
     "start_time": "2021-05-26T22:50:57.322172Z"
    }
   },
   "outputs": [],
   "source": [
    "# Define a transform to normalize the data (Preprocessing)\n",
    "transform = transforms.Compose([transforms.ToTensor(), transforms.Normalize((0.5), (0.5)) ])\n",
    "def my_collate(batch):\n",
    "    modified_batch = []\n",
    "    for item in batch:\n",
    "        image, label = item\n",
    "        if label < 10: # only the first ten letters\n",
    "            modified_batch.append(item)\n",
    "    return torch.utils.data._utils.collate.default_collate(modified_batch)\n",
    "\n",
    "\n",
    "# Download and load the training data\n",
    "trainset    = datasets.EMNIST('EMNIST_data/', split=\"letters\", download=True, train=True, transform=transform)\n",
    "trainloader = torch.utils.data.DataLoader(trainset, batch_size=16, shuffle=True, collate_fn=my_collate)\n",
    "\n",
    "# Download and load the test data\n",
    "testset    = datasets.EMNIST('EMNIST_data/', split=\"letters\", download=True, train=False, transform=transform)\n",
    "testloader = torch.utils.data.DataLoader(testset, batch_size=16, shuffle=True, collate_fn=my_collate)"
   ]
  },
  {
   "cell_type": "code",
   "execution_count": 51,
   "metadata": {
    "ExecuteTime": {
     "end_time": "2021-05-26T22:51:02.493175Z",
     "start_time": "2021-05-26T22:51:02.464301Z"
    }
   },
   "outputs": [],
   "source": [
    "dataiter = iter(trainloader)\n",
    "images, labels = dataiter.next()"
   ]
  },
  {
   "cell_type": "code",
   "execution_count": 52,
   "metadata": {
    "ExecuteTime": {
     "end_time": "2021-05-26T22:51:03.118421Z",
     "start_time": "2021-05-26T22:51:02.978678Z"
    }
   },
   "outputs": [
    {
     "data": {
      "image/png": "[encoded data removed]",
      "text/plain": [
       "<Figure size 432x288 with 1 Axes>"
      ]
     },
     "metadata": {
      "image/png": {
       "height": 248,
       "width": 251
      },
      "needs_background": "light"
     },
     "output_type": "display_data"
    }
   ],
   "source": [
    "plt.imshow(images[5].numpy().squeeze(), cmap='Greys_r');"
   ]
  },
  {
   "cell_type": "code",
   "execution_count": 53,
   "metadata": {
    "ExecuteTime": {
     "end_time": "2021-05-26T22:51:06.653639Z",
     "start_time": "2021-05-26T22:51:06.647991Z"
    }
   },
   "outputs": [
    {
     "data": {
      "text/plain": [
       "tensor([1, 9, 6, 7, 5, 1, 9, 3])"
      ]
     },
     "execution_count": 53,
     "metadata": {},
     "output_type": "execute_result"
    }
   ],
   "source": [
    "labels"
   ]
  },
  {
   "cell_type": "code",
   "execution_count": null,
   "metadata": {},
   "outputs": [],
   "source": []
  }
 ],
 "metadata": {
  "kernelspec": {
   "name": "python395jvsc74a57bd05d8eb55396b26e444e25830983e23d02f9d742a022e83389ffb69c4e4a8d7f54",
   "display_name": "Python 3.9.5 64-bit ('deep_learning': conda)"
  },
  "language_info": {
   "codemirror_mode": {
    "name": "ipython",
    "version": 3
   },
   "file_extension": ".py",
   "mimetype": "text/x-python",
   "name": "python",
   "nbconvert_exporter": "python",
   "pygments_lexer": "ipython3",
   "version": "3.9.5"
  },
  "varInspector": {
   "cols": {
    "lenName": 16,
    "lenType": 16,
    "lenVar": 40
   },
   "kernels_config": {
    "python": {
     "delete_cmd_postfix": "",
     "delete_cmd_prefix": "del ",
     "library": "var_list.py",
     "varRefreshCmd": "print(var_dic_list())"
    },
    "r": {
     "delete_cmd_postfix": ") ",
     "delete_cmd_prefix": "rm(",
     "library": "var_list.r",
     "varRefreshCmd": "cat(var_dic_list()) "
    }
   },
   "types_to_exclude": [
    "module",
    "function",
    "builtin_function_or_method",
    "instance",
    "_Feature"
   ],
   "window_display": false
  },
  "metadata": {
   "interpreter": {
    "hash": "5d8eb55396b26e444e25830983e23d02f9d742a022e83389ffb69c4e4a8d7f54"
   }
  }
 },
 "nbformat": 4,
 "nbformat_minor": 2
}