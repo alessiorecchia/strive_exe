{
 "cells": [
  {
   "cell_type": "code",
   "execution_count": 2,
   "metadata": {},
   "outputs": [],
   "source": [
    "# getting a working dataframe, though it's not perfect\n",
    "import numpy as np\n",
    "import pandas as pd\n",
    "import requests as rq\n",
    "import fnmatch as fm\n",
    "from bs4 import BeautifulSoup\n",
    "from datetime import datetime\n",
    "\n",
    "\n",
    "page = rq.get(\"https://forecast.weather.gov/MapClick.php?lat=37.777120000000025&lon=-122.41963999999996#.YFsnu0NKhH4\")\n",
    "page.status_code\n",
    "page.content\n",
    "\n",
    "page_content = BeautifulSoup(page.content, 'html.parser')\n",
    "seven_days = page_content.find('ul',{'id': 'seven-day-forecast-list'})\n",
    "current_conditions = page_content.find('div',{'id': 'current_conditions_detail'})\n",
    "\n",
    "def farenheit_to_celsius(f):\n",
    "    return (f-32)*5/9\n",
    "def get_temps(a):\n",
    "    b = []\n",
    "    for i in range(len(a)):\n",
    "        b.append(str(np.round(farenheit_to_celsius(int(a[i].split()[1])), 2)))\n",
    "    return b\n",
    "\n",
    "print(condition)"
   ]
  },
  {
   "cell_type": "code",
   "execution_count": 75,
   "outputs": [
    {
     "data": {
      "text/plain": "['16.67', '8.33', '21.67', '8.33', '22.22', '8.89', '20.0', '8.89', '17.22']"
     },
     "execution_count": 75,
     "metadata": {},
     "output_type": "execute_result"
    }
   ],
   "source": [
    "periods = page_content.select(\"p.period-name\")\n",
    "conditions_short = seven_days.find_all('p', {'class', 'short-desc'})\n",
    "high_temperatures = seven_days.find_all('p', {'class','temp temp-high'})\n",
    "low_temperatures = seven_days.find_all('p', {'class','temp temp-low'})\n",
    "\n",
    "\n",
    "period = [period.get_text() for period in periods]\n",
    "conditions_short_text = [condition.get_text() for condition in conditions_short]\n",
    "high_temperatures_text = [high.get_text() for high in high_temperatures]\n",
    "low_temperatures_text = [low.get_text() for low in low_temperatures]\n",
    "\n",
    "temperatures_merge = [x for y in zip(high_temperatures_text, low_temperatures_text) for x in y] + [high_temperatures_text[-1]]\n",
    "temperature_celsius = get_temps(temperatures_merge)\n",
    "temperature_celsius"
   ],
   "metadata": {
    "collapsed": false,
    "pycharm": {
     "name": "#%%#seven-day-forecast-list > li:nth-child(1) > div > p.period-name\n"
    }
   }
  },
  {
   "cell_type": "code",
   "execution_count": 91,
   "outputs": [
    {
     "data": {
      "text/plain": "          Period    Conditions Temperatures\n0          Today         Sunny        16.67\n1        Tonight         Clear         8.33\n2         Friday         Sunny        21.67\n3    FridayNight         Clear         8.33\n4       Saturday         Sunny        22.22\n5  SaturdayNight  Mostly Clear         8.89\n6         Sunday         Sunny         20.0\n7    SundayNight  Mostly Clear         8.89\n8         Monday         Sunny        17.22",
      "text/html": "<div>\n<style scoped>\n    .dataframe tbody tr th:only-of-type {\n        vertical-align: middle;\n    }\n\n    .dataframe tbody tr th {\n        vertical-align: top;\n    }\n\n    .dataframe thead th {\n        text-align: right;\n    }\n</style>\n<table border=\"1\" class=\"dataframe\">\n  <thead>\n    <tr style=\"text-align: right;\">\n      <th></th>\n      <th>Period</th>\n      <th>Conditions</th>\n      <th>Temperatures</th>\n    </tr>\n  </thead>\n  <tbody>\n    <tr>\n      <th>0</th>\n      <td>Today</td>\n      <td>Sunny</td>\n      <td>16.67</td>\n    </tr>\n    <tr>\n      <th>1</th>\n      <td>Tonight</td>\n      <td>Clear</td>\n      <td>8.33</td>\n    </tr>\n    <tr>\n      <th>2</th>\n      <td>Friday</td>\n      <td>Sunny</td>\n      <td>21.67</td>\n    </tr>\n    <tr>\n      <th>3</th>\n      <td>FridayNight</td>\n      <td>Clear</td>\n      <td>8.33</td>\n    </tr>\n    <tr>\n      <th>4</th>\n      <td>Saturday</td>\n      <td>Sunny</td>\n      <td>22.22</td>\n    </tr>\n    <tr>\n      <th>5</th>\n      <td>SaturdayNight</td>\n      <td>Mostly Clear</td>\n      <td>8.89</td>\n    </tr>\n    <tr>\n      <th>6</th>\n      <td>Sunday</td>\n      <td>Sunny</td>\n      <td>20.0</td>\n    </tr>\n    <tr>\n      <th>7</th>\n      <td>SundayNight</td>\n      <td>Mostly Clear</td>\n      <td>8.89</td>\n    </tr>\n    <tr>\n      <th>8</th>\n      <td>Monday</td>\n      <td>Sunny</td>\n      <td>17.22</td>\n    </tr>\n  </tbody>\n</table>\n</div>"
     },
     "execution_count": 91,
     "metadata": {},
     "output_type": "execute_result"
    }
   ],
   "source": [
    "data = {'periods': period,\n",
    "        'conditions': conditions_short_text,\n",
    "        'temperatures': temperature_celsius,}\n",
    "labels = ['Period', 'Conditions', 'Temperatures']\n",
    "\n",
    "\n",
    "\n",
    "forecast = pd.DataFrame(data).set_axis(axis=1, labels=labels)\n",
    "\n",
    "forecast"
   ],
   "metadata": {
    "collapsed": false,
    "pycharm": {
     "name": "#%%\n"
    }
   }
  }
 ],
 "metadata": {
  "kernelspec": {
   "display_name": "Python 3",
   "language": "python",
   "name": "python3"
  },
  "language_info": {
   "codemirror_mode": {
    "name": "ipython",
    "version": 2
   },
   "file_extension": ".py",
   "mimetype": "text/x-python",
   "name": "python",
   "nbconvert_exporter": "python",
   "pygments_lexer": "ipython2",
   "version": "2.7.6"
  }
 },
 "nbformat": 4,
 "nbformat_minor": 1
}