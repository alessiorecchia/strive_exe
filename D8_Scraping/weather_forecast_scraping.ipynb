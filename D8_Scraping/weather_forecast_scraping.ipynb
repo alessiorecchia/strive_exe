{
 "cells": [
  {
   "cell_type": "code",
   "execution_count": null,
   "metadata": {
    "pycharm": {
     "is_executing": true
    }
   },
   "outputs": [],
   "source": [
    "# Still working on it\n",
    "import numpy as np\n",
    "import pandas as pd\n",
    "import requests as rq\n",
    "import fnmatch as fm\n",
    "from bs4 import BeautifulSoup\n",
    "from datetime import datetime\n",
    "\n",
    "\n",
    "page = rq.get(\"https://forecast.weather.gov/MapClick.php?lat=37.777120000000025&lon=-122.41963999999996#.YFsnu0NKhH4\")\n",
    "page.status_code\n",
    "page.content\n",
    "\n",
    "page_content = BeautifulSoup(page.content, 'html.parser')\n",
    "seven_days = page_content.find('ul',{'id': 'seven-day-forecast-list'})\n",
    "current_conditions = page_content.find('div',{'id': 'current_conditions_detail'})\n",
    "\n",
    "def farenheit_to_celsius(f):\n",
    "    return (f-32)*5/9\n",
    "def get_temps(a):\n",
    "    b = []\n",
    "    for i in range(len(a)):\n",
    "        b.append(str(np.round(farenheit_to_celsius(int(a[i].split()[1])), 2)))\n",
    "    return b"
   ]
  },
  {
   "cell_type": "code",
   "execution_count": null,
   "metadata": {
    "pycharm": {
     "name": "#%%\n",
     "is_executing": true
    }
   },
   "outputs": [],
   "source": [
    "high_temperatures = seven_days.find_all('p', {'class', 'temp temp-high'})\n",
    "low_temperatures = seven_days.find_all('p', {'class', 'temp temp-low'})\n",
    "wheather_conditions= seven_days.find_all('img')\n",
    "forecast_days = seven_days.find_all('p', {'class', 'period-name'})\n",
    "last_update = str(current_conditions.find_all('table'))\n",
    "\n",
    "\n",
    "\n",
    "high_temps = [high.get_text() for high in high_temperatures]\n",
    "low_temps = [low.get_text() for low in low_temperatures]\n",
    "conditions = [cond for cond in wheather_conditions]\n",
    "days = [day.get_text() for day in forecast_days]\n",
    "for day in days:\n",
    "    if day != fm.filter(day, '*ight'):\n",
    "        days.append(day)\n",
    "#night = fm.filter(days, '*ight')\n",
    "\n",
    "\n",
    "# print(night)\n",
    "highs_cels = get_temps(high_temps)\n",
    "low_cels = get_temps(low_temps)\n",
    "conds_text = [condition.attrs['title'] for condition in conditions]\n",
    "current_date =last_update[-8:-6]\n",
    "\n",
    "\n",
    "# date = datetime.strptime(current_date,'%d%m')"
   ]
  },
  {
   "cell_type": "code",
   "execution_count": null,
   "metadata": {
    "pycharm": {
     "name": "#%%\n"
    }
   },
   "outputs": [],
   "source": [
    "# print(type(highs_cels))\n",
    "# print(type(low_cels))\n",
    "# print(type(conds_text))\n",
    "# print(type(days))\n",
    "print(f\"Days: {days}\")\n",
    "print(last_update)\n",
    "print(current_date)"
   ]
  },
  {
   "cell_type": "code",
   "execution_count": null,
   "metadata": {
    "pycharm": {
     "name": "#%%\n",
     "is_executing": true
    }
   },
   "outputs": [],
   "source": [
    "data = {'high temp', highs_cels,\n",
    "        'low temps', low_cels,\n",
    "        'conditions', conds_text,\n",
    "        'day', days}\n",
    "labels = ['Day',]"
   ]
  },
  {
   "cell_type": "code",
   "execution_count": null,
   "outputs": [],
   "source": [],
   "metadata": {
    "collapsed": false,
    "pycharm": {
     "name": "#%%\n"
    }
   }
  }
 ],
 "metadata": {
  "kernelspec": {
   "display_name": "Python 3",
   "language": "python",
   "name": "python3"
  },
  "language_info": {
   "codemirror_mode": {
    "name": "ipython",
    "version": 2
   },
   "file_extension": ".py",
   "mimetype": "text/x-python",
   "name": "python",
   "nbconvert_exporter": "python",
   "pygments_lexer": "ipython2",
   "version": "2.7.6"
  }
 },
 "nbformat": 4,
 "nbformat_minor": 1
}