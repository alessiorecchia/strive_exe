{
 "cells": [
  {
   "cell_type": "code",
   "execution_count": 54,
   "metadata": {
    "collapsed": true
   },
   "outputs": [],
   "source": [
    "# Still working on it\n",
    "import numpy as np\n",
    "import pandas as pd\n",
    "import requests as rq\n",
    "import json\n",
    "from bs4 import BeautifulSoup\n",
    "\n",
    "page = rq.get(\"https://forecast.weather.gov/MapClick.php?lat=37.777120000000025&lon=-122.41963999999996#.YFsnu0NKhH4\")\n",
    "page.status_code\n",
    "page.content\n",
    "\n",
    "page_content = BeautifulSoup(page.content, 'html.parser')\n",
    "\n",
    "\n",
    "seven_days = page_content.find('ul',{'id': 'seven-day-forecast-list'})\n",
    "\n",
    "def farenheit_to_celsius(f):\n",
    "    return (f-32)*5/9\n",
    "def get_temps(a):\n",
    "    b = []\n",
    "    for i in range(len(a)):\n",
    "        b.append(str(np.round(farenheit_to_celsius(int(a[i].split()[1])), 2)))\n",
    "    return b"
   ]
  },
  {
   "cell_type": "code",
   "execution_count": 59,
   "outputs": [
    {
     "name": "stdout",
     "output_type": "stream",
     "text": [
      "[<img alt=\"This Afternoon: Mostly sunny, with a high near 67. West wind 11 to 14 mph, with gusts as high as 18 mph. \" class=\"forecast-icon\" src=\"newimages/medium/sct.png\" title=\"This Afternoon: Mostly sunny, with a high near 67. West wind 11 to 14 mph, with gusts as high as 18 mph. \"/>, <img alt=\"Tonight: Partly cloudy, with a low around 48. West northwest wind 14 to 18 mph, with gusts as high as 32 mph. \" class=\"forecast-icon\" src=\"newimages/medium/nsct.png\" title=\"Tonight: Partly cloudy, with a low around 48. West northwest wind 14 to 18 mph, with gusts as high as 32 mph. \"/>, <img alt=\"Thursday: Sunny, with a high near 62. West wind 6 to 16 mph, with gusts as high as 26 mph. \" class=\"forecast-icon\" src=\"newimages/medium/few.png\" title=\"Thursday: Sunny, with a high near 62. West wind 6 to 16 mph, with gusts as high as 26 mph. \"/>, <img alt=\"Thursday Night: Clear, with a low around 46. West wind 9 to 14 mph becoming light west northwest. Winds could gust as high as 21 mph. \" class=\"forecast-icon\" src=\"newimages/medium/nskc.png\" title=\"Thursday Night: Clear, with a low around 46. West wind 9 to 14 mph becoming light west northwest. Winds could gust as high as 21 mph. \"/>, <img alt=\"Friday: Sunny, with a high near 68. North wind around 8 mph. \" class=\"forecast-icon\" src=\"newimages/medium/skc.png\" title=\"Friday: Sunny, with a high near 68. North wind around 8 mph. \"/>, <img alt=\"Friday Night: Clear, with a low around 47.\" class=\"forecast-icon\" src=\"newimages/medium/nskc.png\" title=\"Friday Night: Clear, with a low around 47.\"/>, <img alt=\"Saturday: Sunny, with a high near 70.\" class=\"forecast-icon\" src=\"newimages/medium/skc.png\" title=\"Saturday: Sunny, with a high near 70.\"/>, <img alt=\"Saturday Night: Clear, with a low around 48.\" class=\"forecast-icon\" src=\"newimages/medium/nskc.png\" title=\"Saturday Night: Clear, with a low around 48.\"/>, <img alt=\"Sunday: Sunny, with a high near 68.\" class=\"forecast-icon\" src=\"newimages/medium/few.png\" title=\"Sunday: Sunny, with a high near 68.\"/>]\n"
     ]
    }
   ],
   "source": [
    "high_temperatures = seven_days.find_all('p', {'class', 'temp temp-high'})\n",
    "low_temperatures = seven_days.find_all('p', {'class', 'temp temp-low'})\n",
    "wheather_conditions= seven_days.find_all('img')\n",
    "forecast_days = seven_days.find_all('p', {'class', 'period-name'})\n",
    "\n",
    "high_temps = [high.get_text() for high in high_temperatures]\n",
    "low_temps = [low.get_text() for low in low_temperatures]\n",
    "conditions = [cond.get_text() for cond in wheather_conditions]\n",
    "days = [day.get_text() for day in forecast_days]\n",
    "print(wheather_conditions)\n",
    "\n",
    "highs_cels = get_temps(high_temps)\n",
    "low_cels = get_temps(low_temps)\n",
    "\n",
    "# for i in range(len(temps)):\n",
    "#     celsius_temp.append(farenheit_to_celsius(temps[i]))\n",
    "#\n",
    "# print(celsius_temp)"
   ],
   "metadata": {
    "collapsed": false,
    "pycharm": {
     "name": "#%%\n"
    }
   }
  },
  {
   "cell_type": "code",
   "execution_count": 11,
   "outputs": [],
   "source": [],
   "metadata": {
    "collapsed": false,
    "pycharm": {
     "name": "#%%\n"
    }
   }
  },
  {
   "cell_type": "code",
   "execution_count": null,
   "outputs": [],
   "source": [],
   "metadata": {
    "collapsed": false,
    "pycharm": {
     "name": "#%%\n"
    }
   }
  }
 ],
 "metadata": {
  "kernelspec": {
   "display_name": "Python 3",
   "language": "python",
   "name": "python3"
  },
  "language_info": {
   "codemirror_mode": {
    "name": "ipython",
    "version": 2
   },
   "file_extension": ".py",
   "mimetype": "text/x-python",
   "name": "python",
   "nbconvert_exporter": "python",
   "pygments_lexer": "ipython2",
   "version": "2.7.6"
  }
 },
 "nbformat": 4,
 "nbformat_minor": 0
}