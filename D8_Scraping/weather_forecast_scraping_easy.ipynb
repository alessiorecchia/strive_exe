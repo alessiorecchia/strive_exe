{
 "cells": [
  {
   "cell_type": "code",
   "execution_count": 2,
   "metadata": {},
   "outputs": [],
   "source": [
    "# Still working on it\n",
    "import numpy as np\n",
    "import pandas as pd\n",
    "import requests as rq\n",
    "import fnmatch as fm\n",
    "from bs4 import BeautifulSoup\n",
    "from datetime import datetime\n",
    "\n",
    "\n",
    "page = rq.get(\"https://forecast.weather.gov/MapClick.php?lat=37.777120000000025&lon=-122.41963999999996#.YFsnu0NKhH4\")\n",
    "page.status_code\n",
    "page.content\n",
    "\n",
    "page_content = BeautifulSoup(page.content, 'html.parser')\n",
    "seven_days = page_content.find('ul',{'id': 'seven-day-forecast-list'})\n",
    "current_conditions = page_content.find('div',{'id': 'current_conditions_detail'})\n",
    "\n",
    "def farenheit_to_celsius(f):\n",
    "    return (f-32)*5/9\n",
    "def get_temps(a):\n",
    "    b = []\n",
    "    for i in range(len(a)):\n",
    "        b.append(str(np.round(farenheit_to_celsius(int(a[i].split()[1])), 2)))\n",
    "    return b\n",
    "\n",
    "print(condition)"
   ]
  },
  {
   "cell_type": "code",
   "execution_count": 48,
   "outputs": [
    {
     "name": "stdout",
     "output_type": "stream",
     "text": [
      "[<img alt=\"Today: Sunny, with a high near 62. West wind 6 to 15 mph, with gusts as high as 26 mph. \" class=\"forecast-icon\" src=\"newimages/medium/few.png\" title=\"Today: Sunny, with a high near 62. West wind 6 to 15 mph, with gusts as high as 26 mph. \"/>, <img alt=\"Tonight: Clear, with a low around 47. West wind 6 to 11 mph becoming light northwest. Winds could gust as high as 18 mph. \" class=\"forecast-icon\" src=\"newimages/medium/nskc.png\" title=\"Tonight: Clear, with a low around 47. West wind 6 to 11 mph becoming light northwest. Winds could gust as high as 18 mph. \"/>, <img alt=\"Friday: Sunny, with a high near 71. North wind 8 to 13 mph, with gusts as high as 18 mph. \" class=\"forecast-icon\" src=\"newimages/medium/skc.png\" title=\"Friday: Sunny, with a high near 71. North wind 8 to 13 mph, with gusts as high as 18 mph. \"/>, <img alt=\"Friday Night: Clear, with a low around 47. West wind 5 to 9 mph becoming calm  in the evening. \" class=\"forecast-icon\" src=\"newimages/medium/nskc.png\" title=\"Friday Night: Clear, with a low around 47. West wind 5 to 9 mph becoming calm  in the evening. \"/>, <img alt=\"Saturday: Sunny, with a high near 72. Calm wind becoming west around 6 mph in the afternoon. \" class=\"forecast-icon\" src=\"newimages/medium/skc.png\" title=\"Saturday: Sunny, with a high near 72. Calm wind becoming west around 6 mph in the afternoon. \"/>, <img alt=\"Saturday Night: Mostly clear, with a low around 48.\" class=\"forecast-icon\" src=\"newimages/medium/nfew.png\" title=\"Saturday Night: Mostly clear, with a low around 48.\"/>, <img alt=\"Sunday: Sunny, with a high near 68.\" class=\"forecast-icon\" src=\"newimages/medium/few.png\" title=\"Sunday: Sunny, with a high near 68.\"/>, <img alt=\"Sunday Night: Mostly clear, with a low around 48.\" class=\"forecast-icon\" src=\"newimages/medium/nfew.png\" title=\"Sunday Night: Mostly clear, with a low around 48.\"/>, <img alt=\"Monday: Sunny, with a high near 63.\" class=\"forecast-icon\" src=\"newimages/medium/few.png\" title=\"Monday: Sunny, with a high near 63.\"/>]\n",
      "['Today: Sunny, with a high near 62. West wind 6 to 15 mph, with gusts as high as 26 mph. ', 'Tonight: Clear, with a low around 47. West wind 6 to 11 mph becoming light northwest. Winds could gust as high as 18 mph. ', 'Friday: Sunny, with a high near 71. North wind 8 to 13 mph, with gusts as high as 18 mph. ', 'Friday Night: Clear, with a low around 47. West wind 5 to 9 mph becoming calm  in the evening. ', 'Saturday: Sunny, with a high near 72. Calm wind becoming west around 6 mph in the afternoon. ', 'Saturday Night: Mostly clear, with a low around 48.', 'Sunday: Sunny, with a high near 68.', 'Sunday Night: Mostly clear, with a low around 48.', 'Monday: Sunny, with a high near 63.']\n"
     ]
    }
   ],
   "source": [
    "periods = page_content.select(\"p.period-name\")\n",
    "conditions = seven_days.find_all(\"img\")\n",
    "high_temperatures\n",
    "\n",
    "\n",
    "period = [period.get_text() for period in periods]\n",
    "conditions_cleaned = [condition['title'] for condition in conditions]\n",
    "\n",
    "\n",
    "\n"
   ],
   "metadata": {
    "collapsed": false,
    "pycharm": {
     "name": "#%%#seven-day-forecast-list > li:nth-child(1) > div > p.period-name\n"
    }
   }
  },
  {
   "cell_type": "code",
   "execution_count": null,
   "outputs": [],
   "source": [],
   "metadata": {
    "collapsed": false,
    "pycharm": {
     "name": "#%%\n"
    }
   }
  }
 ],
 "metadata": {
  "kernelspec": {
   "display_name": "Python 3",
   "language": "python",
   "name": "python3"
  },
  "language_info": {
   "codemirror_mode": {
    "name": "ipython",
    "version": 2
   },
   "file_extension": ".py",
   "mimetype": "text/x-python",
   "name": "python",
   "nbconvert_exporter": "python",
   "pygments_lexer": "ipython2",
   "version": "2.7.6"
  }
 },
 "nbformat": 4,
 "nbformat_minor": 1
}