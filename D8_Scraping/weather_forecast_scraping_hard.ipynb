{
 "cells": [
  {
   "cell_type": "code",
   "execution_count": 1,
   "metadata": {
    "collapsed": true
   },
   "outputs": [
    {
     "name": "stdout",
     "output_type": "stream",
     "text": [
      "The weather today in San Francisco: 18.88888888888889 C \n"
     ]
    }
   ],
   "source": [
    "import pandas as pd\n",
    "import requests as rq\n",
    "import json\n",
    "from bs4 import BeautifulSoup\n",
    "\n",
    "# still working on this...\n",
    "\n",
    "page = rq.get(\"https://forecast.weather.gov/MapClick.php?lat=37.777120000000025&lon=-122.41963999999996#.YFsnu0NKhH4\")\n",
    "page.status_code\n",
    "page.content\n",
    "\n",
    "soup = BeautifulSoup(page.content, 'html.parser')\n",
    "\n",
    "\n",
    "seven_days = soup.find('ul',{'id': 'seven-day-forecast-list'})\n",
    "\n",
    "today_daytime = seven_days.find('div',{'class': 'tombstone-container'})\n",
    "\n",
    "high_temperature = today_daytime.find('p', {'class', 'temp temp-high'})\n",
    "\n",
    "l_temp=str(high_temperature)\n",
    "\n",
    "split = l_temp.split()\n",
    "\n",
    "split[3]\n",
    "\n",
    "farenheit = int(split[3])\n",
    "\n",
    "def farenheit_to_celcius(f):\n",
    "    return (f-32)*5/9\n",
    "celcius = farenheit_to_celcius(farenheit)\n",
    "print (f'The weather today in San Francisco: {celcius} C ')"
   ]
  },
  {
   "cell_type": "code",
   "execution_count": null,
   "outputs": [],
   "source": [],
   "metadata": {
    "collapsed": false,
    "pycharm": {
     "name": "#%%\n"
    }
   }
  }
 ],
 "metadata": {
  "kernelspec": {
   "display_name": "Python 3",
   "language": "python",
   "name": "python3"
  },
  "language_info": {
   "codemirror_mode": {
    "name": "ipython",
    "version": 2
   },
   "file_extension": ".py",
   "mimetype": "text/x-python",
   "name": "python",
   "nbconvert_exporter": "python",
   "pygments_lexer": "ipython2",
   "version": "2.7.6"
  }
 },
 "nbformat": 4,
 "nbformat_minor": 0
}