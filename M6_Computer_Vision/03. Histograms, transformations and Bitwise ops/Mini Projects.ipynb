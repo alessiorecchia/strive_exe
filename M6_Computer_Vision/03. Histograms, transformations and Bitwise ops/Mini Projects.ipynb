{
 "cells": [
  {
   "cell_type": "markdown",
   "metadata": {},
   "source": [
    "# Mini projects"
   ]
  },
  {
   "cell_type": "markdown",
   "metadata": {},
   "source": [
    "## Green screen"
   ]
  },
  {
   "cell_type": "markdown",
   "metadata": {},
   "source": [
    "1. Create a method to process an image with a green screen, replace the green screen with a background image\n",
    "\n",
    "1. Adapt it to use your webcam and try it out, you might need to change the green screen to another color that you can use as your backgrouns (for example maybe white if you have a white wall behind you)"
   ]
  },
  {
   "cell_type": "code",
   "execution_count": null,
   "metadata": {},
   "outputs": [],
   "source": [
    "# CAPTURE VIDEO\n",
    "video = cv2.VideoCapture(0)\n",
    "lower_green = (45, 50, 10)\n",
    "upper_green = (65, 210, 255)\n",
    "\n",
    "        \n",
    "# lower_red = (0, 20, 0)\n",
    "# upper_red = (10, 255, 255)\n",
    "# lower_red = (0, 20, 0)\n",
    "# upper_red = (10, 255, 255)\n",
    "while(video.isOpened()):\n",
    "    check, frame = video.read()\n",
    "    if frame is not None:\n",
    "        # img = cv2.cvtColor(frame, cv2.COLOR_BGR2GRAY)\n",
    "        camera_img = frame\n",
    "        hsv_m = cv2.cvtColor(camera_img, cv2.COLOR_BGR2HSV)\n",
    "\n",
    "        yellow_filter = cv2.inRange(hsv_m, lower_yellow, upper_yellow)\n",
    "        masked_mm = camera_img.copy()\n",
    "\n",
    "        coord = cv2.findNonZero(yellow_filter)\n",
    "        # center = mask_center(coord)\n",
    "\n",
    "        masked_mm[yellow_filter == 0] = [0, 0, 0]\n",
    "        # cv2.circle(masked_mm, center, 10, (0, 255, 0), 3)\n",
    "\n",
    "        cv2.imshow('frame',masked_mm)        \n",
    "        if cv2.waitKey(30) & 0xFF == ord('q'):\n",
    "            break\n",
    "    else:\n",
    "        break\n",
    "\n",
    "#  rgba(170,177,38,255)\n",
    "video.release()\n",
    "cv2.destroyAllWindows()\n",
    "cv2.waitKey(1)"
   ]
  },
  {
   "cell_type": "markdown",
   "metadata": {},
   "source": [
    "## Color images to black and white and back!"
   ]
  },
  {
   "cell_type": "markdown",
   "metadata": {},
   "source": [
    "1. Using a color image, load it with openCV then transform it to HSV and make it Grayscale (without transforming it to grayscale!)\n",
    "1. Convert the grayscale image back to color."
   ]
  },
  {
   "cell_type": "markdown",
   "metadata": {},
   "source": [
    "## Day or night?"
   ]
  },
  {
   "cell_type": "markdown",
   "metadata": {},
   "source": [
    "1. Using all you have learned so far about computer vision, implement at least one method (or more!) to check if a certain image corresponds to a day or a night image.\n",
    "1. Use different images to check if your approach is working"
   ]
  },
  {
   "cell_type": "code",
   "execution_count": null,
   "metadata": {},
   "outputs": [],
   "source": []
  }
 ],
 "metadata": {
  "kernelspec": {
   "display_name": "OpenCV Big Surf",
   "language": "python",
   "name": "cv2bigsurf"
  },
  "language_info": {
   "codemirror_mode": {
    "name": "ipython",
    "version": 3
   },
   "file_extension": ".py",
   "mimetype": "text/x-python",
   "name": "python",
   "nbconvert_exporter": "python",
   "pygments_lexer": "ipython3",
   "version": "3.9.2"
  }
 },
 "nbformat": 4,
 "nbformat_minor": 4
}