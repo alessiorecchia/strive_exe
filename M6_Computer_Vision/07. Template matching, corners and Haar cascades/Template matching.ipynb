{
 "cells": [
  {
   "cell_type": "code",
   "execution_count": 1,
   "metadata": {
    "ExecuteTime": {
     "end_time": "2019-11-21T08:38:42.318902Z",
     "start_time": "2019-11-21T08:38:42.311109Z"
    }
   },
   "outputs": [],
   "source": [
    "import cv2\n",
    "import numpy as np\n",
    "import matplotlib.pyplot as plt\n",
    "%matplotlib inline"
   ]
  },
  {
   "cell_type": "markdown",
   "metadata": {},
   "source": [
    "### Template Matching"
   ]
  },
  {
   "cell_type": "code",
   "execution_count": null,
   "metadata": {},
   "outputs": [],
   "source": [
    "# Load img/WandoScene.jpg  as the main image\n",
    "wando_scene = cv2.imread('img/WandoScene.jpg')\n",
    "\n",
    "# Load img/waldo.jpg as the template\n",
    "waldo_template = cv2.imread('img/waldo.jpg')\n",
    "\n",
    "# Corvert the images to grayscale\n",
    "scene_gray = cv2.cvtColor(wando_scene, cv2.COLOR_BGR2GRAY)\n",
    "template_gray = cv2.cvtColor(waldo_template, cv2.COLOR_BGR2GRAY)\n",
    "\n",
    "# Find the template in the image\n",
    "\n",
    "# Draw a rectagle around the the detected match\n"
   ]
  },
  {
   "cell_type": "code",
   "execution_count": null,
   "metadata": {},
   "outputs": [],
   "source": [
    "# Try with different waldo scenes\n"
   ]
  },
  {
   "cell_type": "code",
   "execution_count": null,
   "metadata": {},
   "outputs": [],
   "source": [
    "# How well did it work?, did it perform well with other images? \n"
   ]
  }
 ],
 "metadata": {
  "kernelspec": {
   "name": "python3",
   "display_name": "Python 3.9.5 64-bit ('deep_learning': conda)"
  },
  "language_info": {
   "codemirror_mode": {
    "name": "ipython",
    "version": 3
   },
   "file_extension": ".py",
   "mimetype": "text/x-python",
   "name": "python",
   "nbconvert_exporter": "python",
   "pygments_lexer": "ipython3",
   "version": "3.9.5"
  },
  "interpreter": {
   "hash": "5d8eb55396b26e444e25830983e23d02f9d742a022e83389ffb69c4e4a8d7f54"
  }
 },
 "nbformat": 4,
 "nbformat_minor": 2
}