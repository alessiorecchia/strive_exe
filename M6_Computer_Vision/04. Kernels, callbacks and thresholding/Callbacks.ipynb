{
 "cells": [
  {
   "cell_type": "markdown",
   "source": [
    "# OpenCV Callbacks"
   ],
   "metadata": {}
  },
  {
   "cell_type": "code",
   "execution_count": 1,
   "source": [
    "import cv2\n",
    "import numpy as np\n",
    "import matplotlib.pyplot as plt\n",
    "%matplotlib inline"
   ],
   "outputs": [],
   "metadata": {
    "ExecuteTime": {
     "end_time": "2019-11-19T09:54:11.762369Z",
     "start_time": "2019-11-19T09:54:09.945225Z"
    }
   }
  },
  {
   "cell_type": "markdown",
   "source": [
    "## Keyboard callbacks"
   ],
   "metadata": {}
  },
  {
   "cell_type": "code",
   "execution_count": 2,
   "source": [
    "# Load an image and show it on screen with cv2.imshow\n",
    "img = cv2.imread('img/city.jpg')\n",
    "# cv2.waitKey(0)\n",
    "# cv2.destroyAllWindows()\n",
    "# cv2.waitKey(1)\n",
    "\n",
    "# When the key g or G is detected then change the image to show in grayscale\n",
    "cv2.imshow('city', img)\n",
    "while True:\n",
    "    k = cv2.waitKey(1)&0xFF\n",
    "    if k==ord('g') or k==ord('G'):\n",
    "        cv2.destroyAllWindows()\n",
    "        cv2.waitKey(1)\n",
    "        gray = cv2.cvtColor(img, cv2.COLOR_BGR2GRAY)\n",
    "        cv2.imshow('gray', gray)\n",
    "        # cv2.waitKey(0)\n",
    "        # cv2.destroyAllWindows()\n",
    "        # cv2.waitKey(1)\n",
    "    if k==ord('c') or k==ord('C'):\n",
    "        cv2.destroyAllWindows()\n",
    "        cv2.waitKey(1)\n",
    "        color = img.copy()\n",
    "        cv2.imshow('color', color)\n",
    "        # cv2.waitKey(0)\n",
    "        # cv2.destroyAllWindows()\n",
    "        # cv2.waitKey(1)\n",
    "    if k==27:\n",
    "        cv2.destroyAllWindows()\n",
    "        cv2.waitKey(1)\n",
    "        break\n",
    "\n",
    "\n",
    "    # k=cv2.waitKey(1)&0xFF\n",
    "    # if k==ord('m'):\n",
    "    #     mode=not mode\n",
    "    # elif k&0xFF ==27:\n",
    "    #     break\n",
    "# When the key c or C is detected then change the image to show in color\n",
    "# When the key t or T is detected then change the image to show the thresholded version of the image\n",
    "# When the key esc is detected close the image\n"
   ],
   "outputs": [],
   "metadata": {
    "ExecuteTime": {
     "end_time": "2019-11-19T11:10:33.575331Z",
     "start_time": "2019-11-19T11:10:32.647518Z"
    }
   }
  },
  {
   "cell_type": "markdown",
   "source": [
    "[Hint](# \"You will need to use cv2.waitKey and python ord functions\") "
   ],
   "metadata": {}
  },
  {
   "cell_type": "code",
   "execution_count": 11,
   "source": [
    "# Do the same as above but using your webcam image \n",
    "# Load an image and show it on screen with cv2.imshow\n",
    "vc = cv2.VideoCapture(0)\n",
    "# cv2.waitKey(0)\n",
    "# cv2.destroyAllWindows()\n",
    "# cv2.waitKey(1)\n",
    "\n",
    "# When the key g or G is detected then change the image to show in grayscale\n",
    "\n",
    "color_state = 'color'\n",
    "\n",
    "while vc.isOpened():\n",
    "    _, img = vc.read()\n",
    "\n",
    "    if img is not None:\n",
    "        # k = cv2.waitKey(30)&0xFF\n",
    "        if color_state == 'gray':\n",
    "            img = cv2.cvtColor(img, cv2.COLOR_BGR2GRAY)\n",
    "        \n",
    "        cv2.imshow('frame',img)\n",
    "            \n",
    "\n",
    "        if cv2.waitKey(30) & 0xFF == ord('g'):\n",
    "            color_state = 'gray'\n",
    "        \n",
    "        if cv2.waitKey(30) & 0xFF == ord('c'):\n",
    "            color_state = 'color'\n",
    "\n",
    "        if cv2.waitKey(30) & 0xFF == ord('q'):\n",
    "            break\n",
    "vc.release()\n",
    "cv2.destroyAllWindows()\n",
    "cv2.waitKey(1)\n"
   ],
   "outputs": [
    {
     "output_type": "stream",
     "name": "stdout",
     "text": [
      "gray\n",
      "gray\n",
      "gray\n",
      "gray\n",
      "gray\n",
      "gray\n",
      "gray\n",
      "gray\n",
      "gray\n",
      "gray\n",
      "gray\n",
      "gray\n"
     ]
    },
    {
     "output_type": "execute_result",
     "data": {
      "text/plain": [
       "-1"
      ]
     },
     "metadata": {},
     "execution_count": 11
    }
   ],
   "metadata": {}
  },
  {
   "cell_type": "markdown",
   "source": [
    "[Hint](# \"You will need to use cv2.VideoCapture function\") "
   ],
   "metadata": {}
  },
  {
   "cell_type": "markdown",
   "source": [
    "## Mouse callbacks"
   ],
   "metadata": {}
  },
  {
   "cell_type": "code",
   "execution_count": null,
   "source": [
    "# Load an image and show it on screen with cv2.imshow\n",
    "# When the user clicks on top of the image save the coordinates\n",
    "# The user will then move the cursor without releasing the mouse button to another position\n",
    "# When the user releases the button draw a rectagle around the ROI\n",
    "# When the key esc is detected close the image\n"
   ],
   "outputs": [],
   "metadata": {}
  },
  {
   "cell_type": "code",
   "execution_count": null,
   "source": [
    "# Crop and save the ROI image to disk \n"
   ],
   "outputs": [],
   "metadata": {}
  },
  {
   "cell_type": "markdown",
   "source": [
    "[Hint](# \"cv2.setMouseCallback\") "
   ],
   "metadata": {}
  },
  {
   "cell_type": "markdown",
   "source": [
    "## Trackbars"
   ],
   "metadata": {}
  },
  {
   "cell_type": "code",
   "execution_count": null,
   "source": [
    "# Create a named window, load and show an image in that window\n",
    "\n"
   ],
   "outputs": [],
   "metadata": {
    "ExecuteTime": {
     "end_time": "2019-11-19T11:17:26.647991Z",
     "start_time": "2019-11-19T11:17:26.635749Z"
    }
   }
  },
  {
   "cell_type": "markdown",
   "source": [
    "[Hint](# \"cv2.namedWindow\") "
   ],
   "metadata": {}
  },
  {
   "cell_type": "code",
   "execution_count": null,
   "source": [
    "# Add at least 3 different trackbars to the window (choose of any parameters that you want to modify with them)\n",
    "# Each trackbar will modify some parameter of the image, write a function for each trackbar\n",
    "# When the user move the trackbar around the image should be updated accordingly\n",
    "# When the key esc is detected close the image\n"
   ],
   "outputs": [],
   "metadata": {}
  },
  {
   "cell_type": "markdown",
   "source": [
    "[Hint](# \"cv2.createTrackbar\") "
   ],
   "metadata": {}
  },
  {
   "cell_type": "code",
   "execution_count": null,
   "source": [
    "# Do the same as above but using your webcam image so the trackbars will apply the changes on live image\n"
   ],
   "outputs": [],
   "metadata": {
    "ExecuteTime": {
     "end_time": "2019-11-19T11:17:40.562115Z",
     "start_time": "2019-11-19T11:17:39.321415Z"
    },
    "scrolled": false
   }
  }
 ],
 "metadata": {
  "kernelspec": {
   "name": "python3",
   "display_name": "Python 3.8.8 64-bit ('Strive': conda)"
  },
  "language_info": {
   "codemirror_mode": {
    "name": "ipython",
    "version": 3
   },
   "file_extension": ".py",
   "mimetype": "text/x-python",
   "name": "python",
   "nbconvert_exporter": "python",
   "pygments_lexer": "ipython3",
   "version": "3.8.8"
  },
  "interpreter": {
   "hash": "36d735e4d74651b5843b8bf8671694cee2df4263d27e1ed8e6896ce3326ae1ff"
  }
 },
 "nbformat": 4,
 "nbformat_minor": 2
}