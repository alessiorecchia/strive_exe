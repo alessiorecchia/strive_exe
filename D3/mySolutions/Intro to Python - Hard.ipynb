{
 "cells": [
  {
   "cell_type": "markdown",
   "metadata": {},
   "source": [
    "Here you have a collection of guided exercises for the first class on Python. <br>\n",
    "The exercises are divided by topic, following the topics reviewed during the theory session, and for each topic you have some mandatory exercises, and other optional exercises, which you are invited to do if you still have time after the mandatory exercises. <br>\n",
    "\n",
    "Remember that you have 5 hours to solve these exercises, after which we will review the most interesting exercises together. If you don't finish all the exercises, you can work on them tonightor tomorrow. \n",
    "\n",
    "At the end of the class, we will upload the code with the solutions of the exercises so that you can review them again if needed. If you still have not finished some exercises, try to do them first by yourself, before taking a look at the solutions: you are doing these exercises for yourself, so it is always the best to do them your way first, as it is the fastest way to learn!"
   ]
  },
  {
   "cell_type": "markdown",
   "metadata": {},
   "source": [
    "**Exercise 4.1 (🌶️🌶️):** Define a function that receives a string parameter, and returns an integer indicating the count for all the letters of the alphabet that there are in the string. The expected output format is in a **dictionary** with the relevant keys and values. The capital version of a lower case letter is considered to be the same letter.\n",
    "\n",
    "This should sound quite familiar, try to do it without looking at your old code ;)\n",
    "\n",
    "**What is the challenge?**: Don't code 27 times the same line of code, learn how to do things that scale well."
   ]
  },
  {
   "cell_type": "code",
   "execution_count": 1,
   "metadata": {},
   "outputs": [
    {
     "data": {
      "text/plain": "{'h': 4,\n 'e': 12,\n 'r': 5,\n 'i': 4,\n 's': 9,\n 'o': 9,\n 'm': 5,\n 't': 10,\n 'f': 1,\n 'x': 1,\n 'a': 2,\n 'p': 1,\n 'l': 3,\n 'n': 4,\n 'g': 1,\n 'c': 1,\n 'd': 2,\n 'w': 2,\n 'y': 1,\n 'b': 1}"
     },
     "execution_count": 1,
     "metadata": {},
     "output_type": "execute_result"
    }
   ],
   "source": [
    "#Your Code Here\n",
    "def count_letters(string):\n",
    "    \n",
    "    #lower the string\n",
    "    s = string.lower()\n",
    "    \n",
    "    #declaring the dictionary\n",
    "    letters = {}\n",
    "    \n",
    "    #looping through the string\n",
    "    for ch in s:\n",
    "        \n",
    "        #check if ch is a letter\n",
    "        if ch.isalpha():\n",
    "                if ch in letters:\n",
    "                    letters[ch] += 1\n",
    "                else:\n",
    "                    letters[ch] = 1\n",
    "    \n",
    "    return letters\n",
    "\n",
    "count_letters(\"Here is some sort of example string to test the code with, with some random!!! ?? : none letter sysmbols 09\")"
   ]
  },
  {
   "cell_type": "markdown",
   "metadata": {},
   "source": [
    "**Exercise 5.6 (🌶️🌶️):** A prime number is a positive integer that is dividable by exactly two different numbers, namely 1 and itself. The lowest (and only even) prime number is 2. The first 10 prime numbers are 2, 3, 5, 7, 11, 13, 17, 19, 23, and 29. Write a function that returns a **list off all prime numbers** below a given number.\n",
    "\n",
    "Hint: In a loop where you test the possible dividers of the number, you can conclude that the number is not prime as soon as you encounter a number other than 1 or the number itself that divides it. However, you can *only* conclude that it actually *is* prime after you have tested all possible dividers.\n",
    "\n",
    "**What is the challenge here? You have to try to optimize your code and try to make it work for the highest prime number you can encounter before you run out of memory. For low numbers you should know how to do it already**"
   ]
  },
  {
   "cell_type": "code",
   "execution_count": 6,
   "metadata": {},
   "outputs": [],
   "source": [
    "#Your Code Here\n",
    "\n",
    "def prime(limit):\n",
    "    \n",
    "    prime_list = [2]\n",
    "    \n",
    "    #check if the number passed is grater than 2\n",
    "    if limit < 3:\n",
    "        print(\"Pass a number grater than 2\")\n",
    "    else:\n",
    "        \n",
    "        #start searching for primes from 3\n",
    "        for n in range(3,limit + 1,1):\n",
    "            \n",
    "            #setting a variable to check if the number is dividible\n",
    "            is_dividible = False\n",
    "            \n",
    "            for prime in prime_list:\n",
    "                \n",
    "                #check if the number is already in the list\n",
    "                if n == prime:\n",
    "                    continue\n",
    "                \n",
    "                #cheching if the number is dividible\n",
    "                if n % prime == 0:\n",
    "                    is_dividible = True\n",
    "                \n",
    "            #if the number is not dividible by the primes found is prime and has to be added to the list\n",
    "            if is_dividible == False:    \n",
    "                prime_list.append(n)\n",
    "            \n",
    "    return prime_list\n",
    "    \n"
   ]
  },
  {
   "cell_type": "code",
   "execution_count": 7,
   "metadata": {},
   "outputs": [
    {
     "name": "stdout",
     "output_type": "stream",
     "text": [
      "[2, 3, 5, 7, 11, 13, 17, 19, 23, 29, 31, 37, 41, 43, 47, 53, 59]\n"
     ]
    }
   ],
   "source": [
    "print(prime(60))"
   ]
  },
  {
   "cell_type": "markdown",
   "metadata": {},
   "source": [
    "**Exercise 5.7 (🌶️🌶️):** Write a function that prints all integers between the parameters `a` and `b` that can be written as the sum of two squares. Produce output in the form of `z = x**2 + y**2`, e.g., `58 = 3**2 + 7**2`. If a number occurs on the list with multiple *different* ways of writing it as the sum of two squares, that is acceptable. "
   ]
  },
  {
   "cell_type": "code",
   "execution_count": 8,
   "metadata": {},
   "outputs": [],
   "source": [
    "#Your Code Here\n",
    "\n",
    "#defining the function and the parameters a and b\n",
    "def sum_squares(a,b):\n",
    "    \"\"\"\n",
    "    2 = 1**2 + 1**2\n",
    "    4 = 0**2 + 2**2\n",
    "    4 = 2**2 + 0**2\n",
    "    5 = 1**2 + 2**2\n",
    "    5 = 2**2 + 1**2\n",
    "    8 = 2**2 + 2**2\n",
    "    9 = 0**2 + 3**2\n",
    "    9 = 3**2 + 0**2\n",
    "    \"\"\"\n",
    "    \n",
    "    #looping through the two boundaries a and b to look in n is the sum of two squares\n",
    "    for n in range(a,b+1,1):\n",
    "        \n",
    "        #The two loops generate the squares to check the sum with\n",
    "        for i in range(b):\n",
    "            for j in range(b):\n",
    "                \n",
    "                #if the nth number is the sum of two squares, print it out!\n",
    "                if n == i**2 + j**2:\n",
    "                    print(f\"{n} = {i}**2 + {j}**2\")\n",
    "    \n",
    "    \n",
    "    return"
   ]
  },
  {
   "cell_type": "code",
   "execution_count": 9,
   "metadata": {},
   "outputs": [
    {
     "name": "stdout",
     "output_type": "stream",
     "text": [
      "4 = 0**2 + 2**2\n",
      "4 = 2**2 + 0**2\n",
      "5 = 1**2 + 2**2\n",
      "5 = 2**2 + 1**2\n",
      "8 = 2**2 + 2**2\n",
      "9 = 0**2 + 3**2\n",
      "9 = 3**2 + 0**2\n",
      "10 = 1**2 + 3**2\n",
      "10 = 3**2 + 1**2\n"
     ]
    }
   ],
   "source": [
    "sum_squares(4,10)"
   ]
  },
  {
   "cell_type": "code",
   "execution_count": null,
   "metadata": {},
   "outputs": [],
   "source": []
  }
 ],
 "metadata": {
  "kernelspec": {
   "display_name": "Python 3",
   "language": "python",
   "name": "python3"
  },
  "language_info": {
   "codemirror_mode": {
    "name": "ipython",
    "version": 3
   },
   "file_extension": ".py",
   "mimetype": "text/x-python",
   "name": "python",
   "nbconvert_exporter": "python",
   "pygments_lexer": "ipython3",
   "version": "3.8.5"
  }
 },
 "nbformat": 4,
 "nbformat_minor": 4
}