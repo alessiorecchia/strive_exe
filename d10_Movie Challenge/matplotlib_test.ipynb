{
 "cells": [
  {
   "cell_type": "code",
   "execution_count": 71,
   "metadata": {
    "collapsed": true
   },
   "outputs": [
    {
     "data": {
      "text/plain": "                          title  \\\n0            Mad Max: Fury Road   \n1                     Gone Girl   \n2                      Die Hard   \n3                    Black Swan   \n4    X-Men: Days of Future Past   \n5                         Logan   \n6                        Aliens   \n7  Kingsman: The Secret Service   \n8                          Argo   \n9                         Taken   \n\n                                         description  release  \\\n0  In a post-apocalyptic wasteland, a woman rebel...     2015   \n1  With his wife's disappearance having become th...     2014   \n2  An NYPD officer tries to save his wife and sev...     1988   \n3  A committed dancer struggles to maintain her s...     2010   \n4  The X-Men send Wolverine to the past in a desp...     2014   \n5  In a future where mutants are nearly extinct, ...     2017   \n6  Fifty-seven years after surviving an apocalypt...     1986   \n7  A spy organisation recruits a promising street...     2014   \n8  Acting under the cover of a Hollywood producer...     2012   \n9  A retired CIA agent travels across Europe and ...     2008   \n\n           director  rating  duration   votes                       genre  \\\n0     George Miller     8.1       120  872463   Action, Adventure, Sci-Fi   \n1     David Fincher     8.1       149  850088    Drama, Mystery, Thriller   \n2    John McTiernan     8.2       132  779370            Action, Thriller   \n3  Darren Aronofsky     8.0       108  694448             Drama, Thriller   \n4      Bryan Singer     7.9       132  656330   Action, Adventure, Sci-Fi   \n5     James Mangold     8.1       137  640427       Action, Drama, Sci-Fi   \n6     James Cameron     8.3       137  648225   Action, Adventure, Sci-Fi   \n7    Matthew Vaughn     7.7       129  586330   Action, Adventure, Comedy   \n8       Ben Affleck     7.7       120  568892  Biography, Drama, Thriller   \n9      Pierre Morel     7.8        90  562306            Action, Thriller   \n\n                                               stars  budget ($ Mil)  \\\n0  Tom Hardy, Charlize Theron, Nicholas Hoult, Zo...          154.06   \n1  Ben Affleck, Rosamund Pike, Neil Patrick Harri...          167.77   \n2  Bruce Willis, Alan Rickman, Bonnie Bedelia, Re...           83.01   \n3  Natalie Portman, Mila Kunis, Vincent Cassel, W...          106.95   \n4  Patrick Stewart, Ian McKellen, Hugh Jackman, J...          233.92   \n5  Hugh Jackman, Patrick Stewart, Dafne Keen, Boy...          226.28   \n6  Sigourney Weaver, Michael Biehn, Carrie Henn, ...           85.16   \n7  Colin Firth, Taron Egerton, Samuel L. Jackson,...          128.26   \n8  Ben Affleck, Bryan Cranston, John Goodman, Ala...          136.03   \n9  Liam Neeson, Maggie Grace, Famke Janssen, Lela...          145.00   \n\n   Rating / Votes  \n0        0.092841  \n1        0.095284  \n2        0.105213  \n3        0.115199  \n4        0.120366  \n5        0.126478  \n6        0.128042  \n7        0.131325  \n8        0.135351  \n9        0.138715  ",
      "text/html": "<div>\n<style scoped>\n    .dataframe tbody tr th:only-of-type {\n        vertical-align: middle;\n    }\n\n    .dataframe tbody tr th {\n        vertical-align: top;\n    }\n\n    .dataframe thead th {\n        text-align: right;\n    }\n</style>\n<table border=\"1\" class=\"dataframe\">\n  <thead>\n    <tr style=\"text-align: right;\">\n      <th></th>\n      <th>title</th>\n      <th>description</th>\n      <th>release</th>\n      <th>director</th>\n      <th>rating</th>\n      <th>duration</th>\n      <th>votes</th>\n      <th>genre</th>\n      <th>stars</th>\n      <th>budget ($ Mil)</th>\n      <th>Rating / Votes</th>\n    </tr>\n  </thead>\n  <tbody>\n    <tr>\n      <th>0</th>\n      <td>Mad Max: Fury Road</td>\n      <td>In a post-apocalyptic wasteland, a woman rebel...</td>\n      <td>2015</td>\n      <td>George Miller</td>\n      <td>8.1</td>\n      <td>120</td>\n      <td>872463</td>\n      <td>Action, Adventure, Sci-Fi</td>\n      <td>Tom Hardy, Charlize Theron, Nicholas Hoult, Zo...</td>\n      <td>154.06</td>\n      <td>0.092841</td>\n    </tr>\n    <tr>\n      <th>1</th>\n      <td>Gone Girl</td>\n      <td>With his wife's disappearance having become th...</td>\n      <td>2014</td>\n      <td>David Fincher</td>\n      <td>8.1</td>\n      <td>149</td>\n      <td>850088</td>\n      <td>Drama, Mystery, Thriller</td>\n      <td>Ben Affleck, Rosamund Pike, Neil Patrick Harri...</td>\n      <td>167.77</td>\n      <td>0.095284</td>\n    </tr>\n    <tr>\n      <th>2</th>\n      <td>Die Hard</td>\n      <td>An NYPD officer tries to save his wife and sev...</td>\n      <td>1988</td>\n      <td>John McTiernan</td>\n      <td>8.2</td>\n      <td>132</td>\n      <td>779370</td>\n      <td>Action, Thriller</td>\n      <td>Bruce Willis, Alan Rickman, Bonnie Bedelia, Re...</td>\n      <td>83.01</td>\n      <td>0.105213</td>\n    </tr>\n    <tr>\n      <th>3</th>\n      <td>Black Swan</td>\n      <td>A committed dancer struggles to maintain her s...</td>\n      <td>2010</td>\n      <td>Darren Aronofsky</td>\n      <td>8.0</td>\n      <td>108</td>\n      <td>694448</td>\n      <td>Drama, Thriller</td>\n      <td>Natalie Portman, Mila Kunis, Vincent Cassel, W...</td>\n      <td>106.95</td>\n      <td>0.115199</td>\n    </tr>\n    <tr>\n      <th>4</th>\n      <td>X-Men: Days of Future Past</td>\n      <td>The X-Men send Wolverine to the past in a desp...</td>\n      <td>2014</td>\n      <td>Bryan Singer</td>\n      <td>7.9</td>\n      <td>132</td>\n      <td>656330</td>\n      <td>Action, Adventure, Sci-Fi</td>\n      <td>Patrick Stewart, Ian McKellen, Hugh Jackman, J...</td>\n      <td>233.92</td>\n      <td>0.120366</td>\n    </tr>\n    <tr>\n      <th>5</th>\n      <td>Logan</td>\n      <td>In a future where mutants are nearly extinct, ...</td>\n      <td>2017</td>\n      <td>James Mangold</td>\n      <td>8.1</td>\n      <td>137</td>\n      <td>640427</td>\n      <td>Action, Drama, Sci-Fi</td>\n      <td>Hugh Jackman, Patrick Stewart, Dafne Keen, Boy...</td>\n      <td>226.28</td>\n      <td>0.126478</td>\n    </tr>\n    <tr>\n      <th>6</th>\n      <td>Aliens</td>\n      <td>Fifty-seven years after surviving an apocalypt...</td>\n      <td>1986</td>\n      <td>James Cameron</td>\n      <td>8.3</td>\n      <td>137</td>\n      <td>648225</td>\n      <td>Action, Adventure, Sci-Fi</td>\n      <td>Sigourney Weaver, Michael Biehn, Carrie Henn, ...</td>\n      <td>85.16</td>\n      <td>0.128042</td>\n    </tr>\n    <tr>\n      <th>7</th>\n      <td>Kingsman: The Secret Service</td>\n      <td>A spy organisation recruits a promising street...</td>\n      <td>2014</td>\n      <td>Matthew Vaughn</td>\n      <td>7.7</td>\n      <td>129</td>\n      <td>586330</td>\n      <td>Action, Adventure, Comedy</td>\n      <td>Colin Firth, Taron Egerton, Samuel L. Jackson,...</td>\n      <td>128.26</td>\n      <td>0.131325</td>\n    </tr>\n    <tr>\n      <th>8</th>\n      <td>Argo</td>\n      <td>Acting under the cover of a Hollywood producer...</td>\n      <td>2012</td>\n      <td>Ben Affleck</td>\n      <td>7.7</td>\n      <td>120</td>\n      <td>568892</td>\n      <td>Biography, Drama, Thriller</td>\n      <td>Ben Affleck, Bryan Cranston, John Goodman, Ala...</td>\n      <td>136.03</td>\n      <td>0.135351</td>\n    </tr>\n    <tr>\n      <th>9</th>\n      <td>Taken</td>\n      <td>A retired CIA agent travels across Europe and ...</td>\n      <td>2008</td>\n      <td>Pierre Morel</td>\n      <td>7.8</td>\n      <td>90</td>\n      <td>562306</td>\n      <td>Action, Thriller</td>\n      <td>Liam Neeson, Maggie Grace, Famke Janssen, Lela...</td>\n      <td>145.00</td>\n      <td>0.138715</td>\n    </tr>\n  </tbody>\n</table>\n</div>"
     },
     "execution_count": 71,
     "metadata": {},
     "output_type": "execute_result"
    }
   ],
   "source": [
    "import pandas as pd\n",
    "import matplotlib.pyplot as plt\n",
    "import numpy as np\n",
    "%matplotlib inline\n",
    "\n",
    "df = pd.read_csv('sample_dataset.csv')\n",
    "df\n"
   ]
  },
  {
   "cell_type": "code",
   "execution_count": 97,
   "outputs": [
    {
     "ename": "TypeError",
     "evalue": "bar() missing 1 required positional argument: 'height'",
     "output_type": "error",
     "traceback": [
      "\u001B[0;31m---------------------------------------------------------------------------\u001B[0m",
      "\u001B[0;31mTypeError\u001B[0m                                 Traceback (most recent call last)",
      "\u001B[0;32m<ipython-input-97-98c0cb697b02>\u001B[0m in \u001B[0;36m<module>\u001B[0;34m\u001B[0m\n\u001B[0;32m----> 1\u001B[0;31m \u001B[0mplt\u001B[0m\u001B[0;34m.\u001B[0m\u001B[0mbar\u001B[0m\u001B[0;34m(\u001B[0m\u001B[0msorted\u001B[0m\u001B[0;34m(\u001B[0m\u001B[0mdf\u001B[0m\u001B[0;34m[\u001B[0m\u001B[0;34m'release'\u001B[0m\u001B[0;34m]\u001B[0m\u001B[0;34m)\u001B[0m\u001B[0;34m)\u001B[0m\u001B[0;34m\u001B[0m\u001B[0;34m\u001B[0m\u001B[0m\n\u001B[0m\u001B[1;32m      2\u001B[0m \u001B[0;34m\u001B[0m\u001B[0m\n\u001B[1;32m      3\u001B[0m \u001B[0;34m\u001B[0m\u001B[0m\n\u001B[1;32m      4\u001B[0m \u001B[0;34m\u001B[0m\u001B[0m\n",
      "\u001B[0;31mTypeError\u001B[0m: bar() missing 1 required positional argument: 'height'"
     ]
    }
   ],
   "source": [
    "plt.bar(sorted(df['release']))\n",
    "\n"
   ],
   "metadata": {
    "collapsed": false,
    "pycharm": {
     "name": "#%%\n"
    }
   }
  },
  {
   "cell_type": "code",
   "execution_count": 63,
   "outputs": [
    {
     "data": {
      "text/plain": "0.05436241610738255"
     },
     "execution_count": 63,
     "metadata": {},
     "output_type": "execute_result"
    }
   ],
   "source": [
    "len(df.index)\n",
    "rds = []\n",
    "\n",
    "for i in range(len(df.index)):\n",
    "    # print(df['duration'][i])\n",
    "    if df['duration'][i] != 'NaN' or rating[i] != 'NaN':\n",
    "        rds.append(float(df['rating'][i]) / df['duration'][i])\n",
    "    else:\n",
    "        rds[i] = 'NaN'\n",
    "\n",
    "rds\n",
    "min(rds)\n",
    "# https://deepnote.com/project/IMDbWesternProject-6dHQjhzOTG2d0ueoMuoJoQ/%2FIMDb%20Western.ipynb#00000-13b320b8-99b4-4d86-9a96-bbcb782b7286"
   ],
   "metadata": {
    "collapsed": false,
    "pycharm": {
     "name": "#%%\n"
    }
   }
  },
  {
   "cell_type": "code",
   "execution_count": 61,
   "outputs": [
    {
     "name": "stdout",
     "output_type": "stream",
     "text": [
      "[<generator object <genexpr> at 0x7f3fd4a63660>]\n"
     ]
    }
   ],
   "source": [
    "rds_n = [(rd - min(rds) / (max(rds) - min(rds)) for rd in rds)]\n",
    "\n",
    "print(rds_n)"
   ],
   "metadata": {
    "collapsed": false,
    "pycharm": {
     "name": "#%%\n"
    }
   }
  },
  {
   "cell_type": "code",
   "execution_count": null,
   "outputs": [],
   "source": [],
   "metadata": {
    "collapsed": false,
    "pycharm": {
     "name": "#%%\n"
    }
   }
  }
 ],
 "metadata": {
  "kernelspec": {
   "display_name": "Python 3",
   "language": "python",
   "name": "python3"
  },
  "language_info": {
   "codemirror_mode": {
    "name": "ipython",
    "version": 2
   },
   "file_extension": ".py",
   "mimetype": "text/x-python",
   "name": "python",
   "nbconvert_exporter": "python",
   "pygments_lexer": "ipython2",
   "version": "2.7.6"
  }
 },
 "nbformat": 4,
 "nbformat_minor": 0
}