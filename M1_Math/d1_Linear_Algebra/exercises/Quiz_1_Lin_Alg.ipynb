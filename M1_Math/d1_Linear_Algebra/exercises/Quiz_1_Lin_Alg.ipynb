{
 "cells": [
  {
   "cell_type": "markdown",
   "metadata": {},
   "source": [
    "## Linear Algebra Quiz #1\n",
    "\n",
    "![title](./img/1_0.jpeg)\n",
    "\n",
    "We strongly suggest working with numpy :)"
   ]
  },
  {
   "cell_type": "code",
   "execution_count": 2,
   "metadata": {},
   "outputs": [],
   "source": [
    "#Do your imports here\n",
    "import numpy as np"
   ]
  },
  {
   "cell_type": "markdown",
   "metadata": {},
   "source": [
    "![title](./img/1_1.png)"
   ]
  },
  {
   "cell_type": "code",
   "execution_count": 15,
   "metadata": {},
   "outputs": [
    {
     "name": "stdout",
     "output_type": "stream",
     "text": [
      "3.7416573867739413\n"
     ]
    }
   ],
   "source": [
    "# type a function that given a 3_dimensional vector it is able to calculate its magnitude\n",
    "\n",
    "def magnitude_3(a,b,c):\n",
    "\n",
    "    return np.sqrt(a**2 + b**2 + c**2)\n",
    "\n",
    "print(magnitude_3(1,1,1))\n",
    "\n",
    "\n",
    "# type a function that given a n_dimensional vector it is able to calculate its magnitude\n",
    "# if you want to try this from python (not jupyter notebook) https://docs.python.org/3/library/argparse.html would be a good addition\n",
    "# if you are doing this from a jupyter notebook only, you can try to promt the user for an input  \n",
    "\n",
    "def magnitude_complete(*argv):\n",
    "    sum = 0\n",
    "    for arg in argv:\n",
    "        sum += arg**2\n",
    "    return np.sqrt(sum)"
   ]
  },
  {
   "cell_type": "markdown",
   "metadata": {},
   "source": [
    "uncomment the following line when you are ready to test"
   ]
  },
  {
   "cell_type": "code",
   "execution_count": 4,
   "metadata": {},
   "outputs": [],
   "source": [
    "# magnitude_complete(1) == 1.0\n",
    "# magnitude_complete(1,2) >= 2.236\n",
    "# magnitude_complete(1,2,3) >= 3.741\n",
    "# magnitude_complete(1,2,3,4) >= 5.477\n",
    "# magnitude_complete(1,2,3,4,5) >= 7.416"
   ]
  },
  {
   "cell_type": "markdown",
   "metadata": {},
   "source": [
    "![title](./img/1_2.png)"
   ]
  },
  {
   "cell_type": "code",
   "execution_count": 12,
   "metadata": {},
   "outputs": [
    {
     "data": {
      "text/plain": [
       "2.23606797749979"
      ]
     },
     "execution_count": 12,
     "metadata": {},
     "output_type": "execute_result"
    }
   ],
   "source": [
    "def magnitude_vectors(a, b):\n",
    "    #checks that size is equal\n",
    "    if np.size(a) == np.size(b):\n",
    "        #returns the magnitude\n",
    "        return np.sqrt(np.sum((a + b)**2))\n",
    "    else:\n",
    "        print('Pass two equal-sized vectors')\n",
    "\n",
    "a = np.array([1, 1, 1])\n",
    "b = np.array([-1, 1, 0])\n",
    "\n",
    "magnitude_vectors(a, b)\n",
    "\n",
    "    #returns the magnitude"
   ]
  },
  {
   "cell_type": "markdown",
   "metadata": {},
   "source": [
    "![title](./img/1_3.png)"
   ]
  },
  {
   "cell_type": "code",
   "execution_count": 18,
   "metadata": {},
   "outputs": [
    {
     "name": "stdout",
     "output_type": "stream",
     "text": [
      "The magnitude of a + b is 2.23606797749979 and the direction is [0 2 1]\n"
     ]
    }
   ],
   "source": [
    "#def direction_vectors(a, b):\n",
    "    #checks that size is equal\n",
    "    #returns the magnitude\n",
    "    \n",
    "# or if you want to do it all in one batch:\n",
    "def magdir_vectors(a, b):\n",
    "    #checks that size is equal\n",
    "    if np.size(a) == np.size(b):\n",
    "        X = np.sqrt(np.sum((a + b)**2))\n",
    "        Y = a + b\n",
    "        print(f\"The magnitude of a + b is {X} and the direction is {Y}\")\n",
    "    else:\n",
    "        print('Pass two equal-sized vectors')\n",
    "    return\n",
    "    \n",
    "magdir_vectors(a,b)\n",
    "    #returns the magnitude and direction in a nicely printed format \n",
    "    #\"The magnitude of a + b is X and the direction is Y\""
   ]
  },
  {
   "cell_type": "markdown",
   "metadata": {},
   "source": [
    "![title](./img/1_4.png)\n",
    "- What is the magnitude of αx⃗? \n",
    "- If α>0, will the direction of the resulting vector change?\n",
    "- If α<0, will the direction of the resulting vector change?\n",
    "- If −1<α<1, will ∥αx⃗∥  increase, decrease or stay the same?"
   ]
  },
  {
   "cell_type": "code",
   "execution_count": 28,
   "metadata": {},
   "outputs": [
    {
     "name": "stdout",
     "output_type": "stream",
     "text": [
      "The direction is not changed\n"
     ]
    },
    {
     "data": {
      "text/plain": [
       "2.0"
      ]
     },
     "execution_count": 28,
     "metadata": {},
     "output_type": "execute_result"
    }
   ],
   "source": [
    "def alpha_magnitude(alpha, b):\n",
    "    b = np.array(b)\n",
    "    if alpha < 0:\n",
    "        print('The direction is changed')\n",
    "    elif alpha > 0:\n",
    "        print('The direction is not changed')\n",
    "    else:\n",
    "        print('The vector alpha * b has magnitude 0')\n",
    "    return np.sqrt(np.sum((alpha * b)**2))\n",
    "\n",
    "    #returns the resulting magnitude, if the direction has changed and what has happened to the vector\n",
    "\n",
    "alpha_magnitude(np.sqrt(2), [1, 1])"
   ]
  },
  {
   "cell_type": "code",
   "execution_count": null,
   "metadata": {
    "pycharm": {
     "name": "#%%\n"
    }
   },
   "outputs": [],
   "source": []
  }
 ],
 "metadata": {
  "kernelspec": {
   "display_name": "Python 3",
   "language": "python",
   "name": "python3"
  },
  "language_info": {
   "codemirror_mode": {
    "name": "ipython",
    "version": 3
   },
   "file_extension": ".py",
   "mimetype": "text/x-python",
   "name": "python",
   "nbconvert_exporter": "python",
   "pygments_lexer": "ipython3",
   "version": "3.8.8"
  }
 },
 "nbformat": 4,
 "nbformat_minor": 2
}
