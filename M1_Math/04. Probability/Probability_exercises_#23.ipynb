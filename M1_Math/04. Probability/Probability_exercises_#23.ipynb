{
 "cells": [
  {
   "cell_type": "markdown",
   "metadata": {},
   "source": [
    "## **Write your answers directly in the cells on this notebook.**\n",
    "\n",
    "### Show the entire process, from the initial fractions to the final result. \n",
    "The probability results must be a decimal value between 0.0 and 1.0. Round your number to the third decimal (e.g 0.574).**"
   ]
  },
  {
   "cell_type": "markdown",
   "metadata": {},
   "source": [
    "#### Exercise 23: How many different seven-letter arrangements of the letters in the word HEXAGON can be made if each letter is used only once?"
   ]
  },
  {
   "cell_type": "code",
   "execution_count": null,
   "metadata": {},
   "outputs": [],
   "source": [
    "#using permutations n!/(n-r)! \n",
    "#n = number of letters = 7\n",
    "#r = dimension of the subset = 7\n",
    "# putting all in it -> 7!/(7-7)! = 7! (7!/0!, and 0! = 1)\n",
    "5040"
   ]
  }
 ],
 "metadata": {
  "kernelspec": {
   "display_name": "Python 3",
   "language": "python",
   "name": "python3"
  },
  "language_info": {
   "codemirror_mode": {
    "name": "ipython",
    "version": 3
   },
   "file_extension": ".py",
   "mimetype": "text/x-python",
   "name": "python",
   "nbconvert_exporter": "python",
   "pygments_lexer": "ipython3",
   "version": "3.8.8"
  }
 },
 "nbformat": 4,
 "nbformat_minor": 2
}
