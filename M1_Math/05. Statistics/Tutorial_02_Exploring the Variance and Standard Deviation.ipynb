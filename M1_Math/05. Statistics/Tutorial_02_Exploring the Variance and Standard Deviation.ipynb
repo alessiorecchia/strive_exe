{
 "cells": [
  {
   "cell_type": "code",
   "execution_count": 2,
   "metadata": {},
   "outputs": [
    {
     "data": {
      "text/plain": "'1.2.3'"
     },
     "execution_count": 2,
     "metadata": {},
     "output_type": "execute_result"
    }
   ],
   "source": [
    "%matplotlib inline\n",
    "import matplotlib.pyplot as plt\n",
    "import numpy as np\n",
    "import pandas as pd\n",
    "import math\n",
    "\n",
    "# turn of data table rendering\n",
    "pd.set_option('display.notebook_repr_html', False)\n",
    "plt.style.use('ggplot')\n",
    "pd.__version__"
   ]
  },
  {
   "cell_type": "markdown",
   "metadata": {},
   "source": [
    "## Data\n",
    "The data is a set of ten salaries, as used in the Udacity course 'Intro to Descriptive Statistics' lesson 4 on measures of variability."
   ]
  },
  {
   "cell_type": "code",
   "execution_count": 3,
   "metadata": {},
   "outputs": [
    {
     "data": {
      "text/plain": "   salaries\n0     33219\n1     36254\n2     38801\n3     46335\n4     46840\n5     47596\n6     55130\n7     56863\n8     78070\n9     88830"
     },
     "execution_count": 3,
     "metadata": {},
     "output_type": "execute_result"
    }
   ],
   "source": [
    "data = pd.DataFrame({'salaries': \n",
    "                     [33219, 36254, 38801, 46335, 46840, \n",
    "                      47596, 55130, 56863, 78070, 88830]})\n",
    "data"
   ]
  },
  {
   "cell_type": "code",
   "execution_count": 4,
   "metadata": {},
   "outputs": [
    {
     "data": {
      "text/plain": "<AxesSubplot:>"
     },
     "execution_count": 4,
     "metadata": {},
     "output_type": "execute_result"
    },
    {
     "data": {
      "text/plain": "<Figure size 432x288 with 1 Axes>",
      "image/png": "[encoded data removed]"
     },
     "metadata": {},
     "output_type": "display_data"
    }
   ],
   "source": [
    "data.plot(kind='bar', color='#00A99D', alpha=.5)"
   ]
  },
  {
   "cell_type": "markdown",
   "metadata": {},
   "source": [
    "## Calculate the Variance\n",
    "The variance of a data set describes the average of the squared differences from the mean. In other words, it is a measure of how far each value in the data set is from the mean. The symbol for the variance of a population is $\\sigma^2$ (sigma squared) and for a sample we use $s^2$. We calculate the variance by summing the squared difference from the mean for each value. For the population, we divide by the number of values $n$ in the data set.\n",
    "\n",
    "$$population\\ variance:\\ \\sigma^2=\\frac{1}{n}\\sum_{i=0}^n(x_i-\\mu)^2$$\n",
    "\n",
    "For the sample we divide the summed up values by the degrees of freedom $n-1$ (also called Bessel's correction). We use $\\bar{x}$ (x bar) to symbolize our sample mean.\n",
    "\n",
    "$$sample\\ variance:\\ s^2=\\frac{1}{n-1}\\sum_{i=0}^n(x_i-\\bar{x})^2$$"
   ]
  },
  {
   "cell_type": "code",
   "execution_count": 5,
   "metadata": {},
   "outputs": [
    {
     "data": {
      "text/plain": "291622740.36"
     },
     "execution_count": 5,
     "metadata": {},
     "output_type": "execute_result"
    }
   ],
   "source": [
    "# To calculate the population variance\n",
    "n = len(data.salaries)\n",
    "\n",
    "# first calculate the mean\n",
    "mean = data.salaries.mean()\n",
    "\n",
    "# Sum up the squared differences from the mean\n",
    "squared_deviations = 0\n",
    "for v in data.salaries:\n",
    "    squared_deviations += (v - mean) ** 2\n",
    "\n",
    "population_variance = squared_deviations / n\n",
    "population_variance"
   ]
  },
  {
   "cell_type": "code",
   "execution_count": 6,
   "metadata": {},
   "outputs": [
    {
     "data": {
      "text/plain": "324025267.0666667"
     },
     "execution_count": 6,
     "metadata": {},
     "output_type": "execute_result"
    }
   ],
   "source": [
    "# To calculate the variance if we only have a sample\n",
    "# First calculate the degrees of freedom (apply Bessel's correction)\n",
    "dof = n - 1\n",
    "sample_variance = squared_deviations / dof\n",
    "sample_variance"
   ]
  },
  {
   "cell_type": "code",
   "execution_count": 7,
   "metadata": {},
   "outputs": [
    {
     "data": {
      "text/plain": "(291622740.36, 324025267.06666666)"
     },
     "execution_count": 7,
     "metadata": {},
     "output_type": "execute_result"
    }
   ],
   "source": [
    "# Of course we can use pandas to let NumPy do the job for us\n",
    "# The ddof parameter stands for Delta Degrees of Freedom\n",
    "population_variance = data.salaries.var(ddof=0)\n",
    "sample_variance = data.salaries.var() # ddof=1 by default in pandas\n",
    "\n",
    "population_variance, sample_variance"
   ]
  },
  {
   "cell_type": "code",
   "execution_count": 8,
   "metadata": {},
   "outputs": [
    {
     "data": {
      "text/plain": "(291622740.36, 324025267.06666666)"
     },
     "execution_count": 8,
     "metadata": {},
     "output_type": "execute_result"
    }
   ],
   "source": [
    "# Or call the NumPy var function ourselves\n",
    "population_variance = np.var(data.salaries) # ddof=0 by default in NumPy\n",
    "sample_variance = np.var(data.salaries, ddof=1)\n",
    "\n",
    "population_variance, sample_variance"
   ]
  },
  {
   "cell_type": "markdown",
   "metadata": {},
   "source": [
    "## Calculate the Standard Deviation\n",
    "The standard deviation is a widely used normalized measure of spread of a data set. Unlike the variance, the standard deviation is using the same scale as our values; dollars in this case. In a normal distribution, about 95% of the values are within two standard deviations of the mean. We use the Greek letter sigma $\\sigma$ to symbolize the population standard deviation. \n",
    "\n",
    "$$population\\ standard\\ deviation:\\ \\sigma=\\sqrt{\\frac{1}{n}\\sum_{i=0}^n(x_i-\\mu)^2}\\ \\ =\\ \\ \\sqrt{\\sigma^2}$$\n",
    "\n",
    "We use the lowercase letter $s$ if we indicate the sample standard deviation.\n",
    "\n",
    "$$sample\\ standard\\ deviation:\\ s=\\sqrt{\\frac{1}{n-1}\\sum_{i=0}^n(x_i-\\bar{x})^2}\\ \\ =\\ \\ \\sqrt{s^2}$$"
   ]
  },
  {
   "cell_type": "code",
   "execution_count": 9,
   "metadata": {},
   "outputs": [
    {
     "data": {
      "text/plain": "17076.965197598784"
     },
     "execution_count": 9,
     "metadata": {},
     "output_type": "execute_result"
    }
   ],
   "source": [
    "# To calculate the population standard deviation\n",
    "# we first need to calculate the population variance again\n",
    "n = len(data.salaries)\n",
    "\n",
    "# first calculate the mean\n",
    "mean = data.salaries.mean()\n",
    "\n",
    "# Sum up the squared differences from the mean\n",
    "squared_deviations = 0\n",
    "for v in data.salaries:\n",
    "    squared_deviations += (v - mean) ** 2\n",
    "\n",
    "population_variance = squared_deviations / n\n",
    "\n",
    "# Square the variance\n",
    "population_standard_deviation = math.sqrt(population_variance)\n",
    "population_standard_deviation"
   ]
  },
  {
   "cell_type": "code",
   "execution_count": 10,
   "metadata": {},
   "outputs": [
    {
     "data": {
      "text/plain": "18000.70184927984"
     },
     "execution_count": 10,
     "metadata": {},
     "output_type": "execute_result"
    }
   ],
   "source": [
    "# To calculate the sample standard deviation\n",
    "# First calculate the degrees of freedom (apply Bessel's correction)\n",
    "dof = n - 1\n",
    "sample_variance = squared_deviations / dof\n",
    "\n",
    "# Square the variance\n",
    "sample_standard_deviation = math.sqrt(sample_variance)\n",
    "sample_standard_deviation"
   ]
  },
  {
   "cell_type": "code",
   "execution_count": 11,
   "metadata": {},
   "outputs": [
    {
     "data": {
      "text/plain": "(17076.965197598784, 18000.70184927984)"
     },
     "execution_count": 11,
     "metadata": {},
     "output_type": "execute_result"
    }
   ],
   "source": [
    "# Now let's use pandas to let NumPy do the job for us\n",
    "population_standard_deviation = data.salaries.std(ddof=0)\n",
    "sample_standard_deviation = data.salaries.std()\n",
    "\n",
    "population_standard_deviation, sample_standard_deviation"
   ]
  },
  {
   "cell_type": "code",
   "execution_count": 12,
   "metadata": {},
   "outputs": [
    {
     "data": {
      "text/plain": "(17076.965197598784, 18000.70184927984)"
     },
     "execution_count": 12,
     "metadata": {},
     "output_type": "execute_result"
    }
   ],
   "source": [
    "# Or call the NumPy std function ourselves\n",
    "population_standard_deviation = np.std(data.salaries)\n",
    "sample_standard_deviation = np.std(data.salaries, ddof=1)\n",
    "\n",
    "population_standard_deviation, sample_standard_deviation"
   ]
  },
  {
   "cell_type": "code",
   "execution_count": 12,
   "outputs": [],
   "source": [],
   "metadata": {
    "collapsed": false,
    "pycharm": {
     "name": "#%%\n"
    }
   }
  },
  {
   "cell_type": "code",
   "execution_count": null,
   "outputs": [],
   "source": [],
   "metadata": {
    "collapsed": false,
    "pycharm": {
     "name": "#%%\n"
    }
   }
  }
 ],
 "metadata": {
  "kernelspec": {
   "display_name": "Python 3",
   "language": "python",
   "name": "python3"
  },
  "language_info": {
   "codemirror_mode": {
    "name": "ipython",
    "version": 3
   },
   "file_extension": ".py",
   "mimetype": "text/x-python",
   "name": "python",
   "nbconvert_exporter": "python",
   "pygments_lexer": "ipython3",
   "version": "3.9.2"
  }
 },
 "nbformat": 4,
 "nbformat_minor": 1
}