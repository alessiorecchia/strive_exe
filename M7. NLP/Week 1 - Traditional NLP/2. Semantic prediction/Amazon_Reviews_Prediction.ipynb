{
 "cells": [
  {
   "cell_type": "markdown",
   "source": [
    "To perform sentence classification, and many other classification tasks for NLP, we need to do three main steps:\n",
    "\n",
    "- Preprocessing the data\n",
    "- Prepare the dataloader\n",
    "- Build the model\n",
    "\n",
    "Of course, all of these steps requires a lot of other steps, and also they can include many different solutions. \n",
    "\n",
    "To make you to jumpstart on this task, I will provide you a pretty clean dataset, the Amazon Reviews one, that you can extensively find online, and it's also included in the `torxchtext.datasets` module. \n",
    "\n",
    "For this example, I will use just a little part of it, to give some guidance on how to start, without actually training the whole model."
   ],
   "metadata": {}
  },
  {
   "cell_type": "markdown",
   "source": [
    "### Load the data\n",
    "\n"
   ],
   "metadata": {}
  },
  {
   "cell_type": "code",
   "execution_count": 1,
   "source": [
    "import pandas as pd"
   ],
   "outputs": [],
   "metadata": {
    "ExecuteTime": {
     "end_time": "2021-07-19T18:04:37.990307Z",
     "start_time": "2021-07-19T18:04:37.504622Z"
    }
   }
  },
  {
   "cell_type": "code",
   "execution_count": 2,
   "source": [
    "import spacy"
   ],
   "outputs": [],
   "metadata": {
    "ExecuteTime": {
     "end_time": "2021-07-19T18:04:40.029341Z",
     "start_time": "2021-07-19T18:04:37.996816Z"
    }
   }
  },
  {
   "cell_type": "code",
   "execution_count": 3,
   "source": [
    "!python -m spacy download en_core_web_sm"
   ],
   "outputs": [
    {
     "output_type": "stream",
     "name": "stdout",
     "text": [
      "Collecting en-core-web-sm==3.1.0\n",
      "\u001b[33m  WARNING: Retrying (Retry(total=4, connect=None, read=None, redirect=None, status=None)) after connection broken by 'ConnectTimeoutError(<pip._vendor.urllib3.connection.HTTPSConnection object at 0x7fec1233a160>, 'Connection to github.com timed out. (connect timeout=15)')': /explosion/spacy-models/releases/download/en_core_web_sm-3.1.0/en_core_web_sm-3.1.0-py3-none-any.whl\u001b[0m\n",
      "\u001b[33m  WARNING: Retrying (Retry(total=3, connect=None, read=None, redirect=None, status=None)) after connection broken by 'ConnectTimeoutError(<pip._vendor.urllib3.connection.HTTPSConnection object at 0x7fec1233aaf0>, 'Connection to github.com timed out. (connect timeout=15)')': /explosion/spacy-models/releases/download/en_core_web_sm-3.1.0/en_core_web_sm-3.1.0-py3-none-any.whl\u001b[0m\n",
      "  Downloading https://github.com/explosion/spacy-models/releases/download/en_core_web_sm-3.1.0/en_core_web_sm-3.1.0-py3-none-any.whl (13.6 MB)\n",
      "\u001b[K     |████████████████████████████████| 13.6 MB 8.6 MB/s \n",
      "\u001b[?25hRequirement already satisfied: spacy<3.2.0,>=3.1.0 in /home/alessio/anaconda3/envs/nlp/lib/python3.9/site-packages (from en-core-web-sm==3.1.0) (3.1.0)\n",
      "Requirement already satisfied: blis<0.8.0,>=0.4.0 in /home/alessio/anaconda3/envs/nlp/lib/python3.9/site-packages (from spacy<3.2.0,>=3.1.0->en-core-web-sm==3.1.0) (0.7.4)\n",
      "Requirement already satisfied: setuptools in /home/alessio/anaconda3/envs/nlp/lib/python3.9/site-packages (from spacy<3.2.0,>=3.1.0->en-core-web-sm==3.1.0) (49.6.0.post20210108)\n",
      "Requirement already satisfied: srsly<3.0.0,>=2.4.1 in /home/alessio/anaconda3/envs/nlp/lib/python3.9/site-packages (from spacy<3.2.0,>=3.1.0->en-core-web-sm==3.1.0) (2.4.1)\n",
      "Requirement already satisfied: cymem<2.1.0,>=2.0.2 in /home/alessio/anaconda3/envs/nlp/lib/python3.9/site-packages (from spacy<3.2.0,>=3.1.0->en-core-web-sm==3.1.0) (2.0.5)\n",
      "Requirement already satisfied: typer<0.4.0,>=0.3.0 in /home/alessio/anaconda3/envs/nlp/lib/python3.9/site-packages (from spacy<3.2.0,>=3.1.0->en-core-web-sm==3.1.0) (0.3.2)\n",
      "Requirement already satisfied: catalogue<2.1.0,>=2.0.4 in /home/alessio/anaconda3/envs/nlp/lib/python3.9/site-packages (from spacy<3.2.0,>=3.1.0->en-core-web-sm==3.1.0) (2.0.4)\n",
      "Requirement already satisfied: murmurhash<1.1.0,>=0.28.0 in /home/alessio/anaconda3/envs/nlp/lib/python3.9/site-packages (from spacy<3.2.0,>=3.1.0->en-core-web-sm==3.1.0) (1.0.5)\n",
      "Requirement already satisfied: numpy>=1.15.0 in /home/alessio/anaconda3/envs/nlp/lib/python3.9/site-packages (from spacy<3.2.0,>=3.1.0->en-core-web-sm==3.1.0) (1.21.1)\n",
      "Requirement already satisfied: wasabi<1.1.0,>=0.8.1 in /home/alessio/anaconda3/envs/nlp/lib/python3.9/site-packages (from spacy<3.2.0,>=3.1.0->en-core-web-sm==3.1.0) (0.8.2)\n",
      "Requirement already satisfied: preshed<3.1.0,>=3.0.2 in /home/alessio/anaconda3/envs/nlp/lib/python3.9/site-packages (from spacy<3.2.0,>=3.1.0->en-core-web-sm==3.1.0) (3.0.5)\n",
      "Requirement already satisfied: tqdm<5.0.0,>=4.38.0 in /home/alessio/anaconda3/envs/nlp/lib/python3.9/site-packages (from spacy<3.2.0,>=3.1.0->en-core-web-sm==3.1.0) (4.61.2)\n",
      "Requirement already satisfied: jinja2 in /home/alessio/anaconda3/envs/nlp/lib/python3.9/site-packages (from spacy<3.2.0,>=3.1.0->en-core-web-sm==3.1.0) (3.0.1)\n",
      "Requirement already satisfied: thinc<8.1.0,>=8.0.7 in /home/alessio/anaconda3/envs/nlp/lib/python3.9/site-packages (from spacy<3.2.0,>=3.1.0->en-core-web-sm==3.1.0) (8.0.8)\n",
      "Requirement already satisfied: packaging>=20.0 in /home/alessio/anaconda3/envs/nlp/lib/python3.9/site-packages (from spacy<3.2.0,>=3.1.0->en-core-web-sm==3.1.0) (21.0)\n",
      "Requirement already satisfied: pathy>=0.3.5 in /home/alessio/anaconda3/envs/nlp/lib/python3.9/site-packages (from spacy<3.2.0,>=3.1.0->en-core-web-sm==3.1.0) (0.6.0)\n",
      "Requirement already satisfied: spacy-legacy<3.1.0,>=3.0.7 in /home/alessio/anaconda3/envs/nlp/lib/python3.9/site-packages (from spacy<3.2.0,>=3.1.0->en-core-web-sm==3.1.0) (3.0.8)\n",
      "Requirement already satisfied: pydantic!=1.8,!=1.8.1,<1.9.0,>=1.7.4 in /home/alessio/anaconda3/envs/nlp/lib/python3.9/site-packages (from spacy<3.2.0,>=3.1.0->en-core-web-sm==3.1.0) (1.8.2)\n",
      "Requirement already satisfied: requests<3.0.0,>=2.13.0 in /home/alessio/anaconda3/envs/nlp/lib/python3.9/site-packages (from spacy<3.2.0,>=3.1.0->en-core-web-sm==3.1.0) (2.26.0)\n",
      "Requirement already satisfied: pyparsing>=2.0.2 in /home/alessio/anaconda3/envs/nlp/lib/python3.9/site-packages (from packaging>=20.0->spacy<3.2.0,>=3.1.0->en-core-web-sm==3.1.0) (2.4.7)\n",
      "Requirement already satisfied: smart-open<6.0.0,>=5.0.0 in /home/alessio/anaconda3/envs/nlp/lib/python3.9/site-packages (from pathy>=0.3.5->spacy<3.2.0,>=3.1.0->en-core-web-sm==3.1.0) (5.1.0)\n",
      "Requirement already satisfied: typing-extensions>=3.7.4.3 in /home/alessio/anaconda3/envs/nlp/lib/python3.9/site-packages (from pydantic!=1.8,!=1.8.1,<1.9.0,>=1.7.4->spacy<3.2.0,>=3.1.0->en-core-web-sm==3.1.0) (3.10.0.0)\n",
      "Requirement already satisfied: idna<4,>=2.5 in /home/alessio/anaconda3/envs/nlp/lib/python3.9/site-packages (from requests<3.0.0,>=2.13.0->spacy<3.2.0,>=3.1.0->en-core-web-sm==3.1.0) (3.1)\n",
      "Requirement already satisfied: charset-normalizer~=2.0.0 in /home/alessio/anaconda3/envs/nlp/lib/python3.9/site-packages (from requests<3.0.0,>=2.13.0->spacy<3.2.0,>=3.1.0->en-core-web-sm==3.1.0) (2.0.0)\n",
      "Requirement already satisfied: urllib3<1.27,>=1.21.1 in /home/alessio/anaconda3/envs/nlp/lib/python3.9/site-packages (from requests<3.0.0,>=2.13.0->spacy<3.2.0,>=3.1.0->en-core-web-sm==3.1.0) (1.26.6)\n",
      "Requirement already satisfied: certifi>=2017.4.17 in /home/alessio/anaconda3/envs/nlp/lib/python3.9/site-packages (from requests<3.0.0,>=2.13.0->spacy<3.2.0,>=3.1.0->en-core-web-sm==3.1.0) (2021.5.30)\n",
      "Requirement already satisfied: click<7.2.0,>=7.1.1 in /home/alessio/anaconda3/envs/nlp/lib/python3.9/site-packages (from typer<0.4.0,>=0.3.0->spacy<3.2.0,>=3.1.0->en-core-web-sm==3.1.0) (7.1.2)\n",
      "Requirement already satisfied: MarkupSafe>=2.0 in /home/alessio/anaconda3/envs/nlp/lib/python3.9/site-packages (from jinja2->spacy<3.2.0,>=3.1.0->en-core-web-sm==3.1.0) (2.0.1)\n",
      "\u001b[38;5;2m✔ Download and installation successful\u001b[0m\n",
      "You can now load the package via spacy.load('en_core_web_sm')\n"
     ]
    }
   ],
   "metadata": {}
  },
  {
   "cell_type": "code",
   "execution_count": 3,
   "source": [
    "import torchtext"
   ],
   "outputs": [],
   "metadata": {}
  },
  {
   "cell_type": "code",
   "execution_count": 4,
   "source": [
    "from torchtext.datasets import AmazonReviewFull\n",
    "train, test = AmazonReviewFull()"
   ],
   "outputs": [
    {
     "output_type": "stream",
     "name": "stderr",
     "text": [
      "amazon_review_full_csv.tar.gz: 644MB [00:23, 27.6MB/s]\n"
     ]
    }
   ],
   "metadata": {}
  },
  {
   "cell_type": "code",
   "execution_count": 5,
   "source": [
    "label_list = []\n",
    "review_list = []\n",
    "\n",
    "for label, rev in train:\n",
    "    label_list.append(label)\n",
    "    review_list.append(rev)\n",
    "\n",
    "print(label_list[:5], review_list[:5])"
   ],
   "outputs": [
    {
     "output_type": "stream",
     "name": "stdout",
     "text": [
      "[3, 5, 5, 4, 5] ['more like funchuck Gave this to my dad for a gag gift after directing \"Nunsense,\" he got a reall kick out of it!', 'Inspiring I hope a lot of people hear this cd. We need more strong and positive vibes like this. Great vocals, fresh tunes, cross-cultural happiness. Her blues is from the gut. The pop sounds are catchy and mature.', \"The best soundtrack ever to anything. I'm reading a lot of reviews saying that this is the best 'game soundtrack' and I figured that I'd write a review to disagree a bit. This in my opinino is Yasunori Mitsuda's ultimate masterpiece. The music is timeless and I'm been listening to it for years now and its beauty simply refuses to fade.The price tag on this is pretty staggering I must say, but if you are going to buy any cd for this much money, this is the only one that I feel would be worth every penny.\", 'Chrono Cross OST The music of Yasunori Misuda is without question my close second below the great Nobuo Uematsu.Chrono Cross OST is a wonderful creation filled with rich orchestra and synthesized sounds. While ambiance is one of the music\\'s major factors, yet at times it\\'s very uplifting and vigorous. Some of my favourite tracks include; \"Scars Left by Time, The Girl who Stole the Stars, and Another World\".', \"Too good to be true Probably the greatest soundtrack in history! Usually it's better to have played the game first but this is so enjoyable anyway! I worked so hard getting this soundtrack and after spending [money] to get it it was really worth every penny!! Get this OST! it's amazing! The first few tracks will have you dancing around with delight (especially Scars Left by Time)!! BUY IT NOW!!\"]\n"
     ]
    }
   ],
   "metadata": {}
  },
  {
   "cell_type": "code",
   "execution_count": 6,
   "source": [
    "df_dict = {\"star\":label_list[:3000],\"review\":review_list[:3000]}\n",
    "df = pd.DataFrame(df_dict)"
   ],
   "outputs": [],
   "metadata": {}
  },
  {
   "cell_type": "code",
   "execution_count": 61,
   "source": [
    "df.to_csv('df_amazon_3000.csv', '.')"
   ],
   "outputs": [],
   "metadata": {}
  },
  {
   "cell_type": "code",
   "execution_count": 7,
   "source": [
    "# df = pd.read_csv(\"test.csv\", nrows=3000, header=None)\n",
    "df"
   ],
   "outputs": [
    {
     "output_type": "execute_result",
     "data": {
      "text/plain": [
       "      star                                             review\n",
       "0        3  more like funchuck Gave this to my dad for a g...\n",
       "1        5  Inspiring I hope a lot of people hear this cd....\n",
       "2        5  The best soundtrack ever to anything. I'm read...\n",
       "3        4  Chrono Cross OST The music of Yasunori Misuda ...\n",
       "4        5  Too good to be true Probably the greatest soun...\n",
       "...    ...                                                ...\n",
       "2995     1  An Example of What is \"Classically\" Wrong with...\n",
       "2996     1  Do not buy this HP 960 printer from ANTonline ...\n",
       "2997     3  color ink cartridge I've had this printer for ...\n",
       "2998     2  Good printer, so so on photos, crap for envelo...\n",
       "2999     3  Ne Ver, Ne Boisia... I love t.A.T.u and I have...\n",
       "\n",
       "[3000 rows x 2 columns]"
      ],
      "text/html": [
       "<div>\n",
       "<style scoped>\n",
       "    .dataframe tbody tr th:only-of-type {\n",
       "        vertical-align: middle;\n",
       "    }\n",
       "\n",
       "    .dataframe tbody tr th {\n",
       "        vertical-align: top;\n",
       "    }\n",
       "\n",
       "    .dataframe thead th {\n",
       "        text-align: right;\n",
       "    }\n",
       "</style>\n",
       "<table border=\"1\" class=\"dataframe\">\n",
       "  <thead>\n",
       "    <tr style=\"text-align: right;\">\n",
       "      <th></th>\n",
       "      <th>star</th>\n",
       "      <th>review</th>\n",
       "    </tr>\n",
       "  </thead>\n",
       "  <tbody>\n",
       "    <tr>\n",
       "      <th>0</th>\n",
       "      <td>3</td>\n",
       "      <td>more like funchuck Gave this to my dad for a g...</td>\n",
       "    </tr>\n",
       "    <tr>\n",
       "      <th>1</th>\n",
       "      <td>5</td>\n",
       "      <td>Inspiring I hope a lot of people hear this cd....</td>\n",
       "    </tr>\n",
       "    <tr>\n",
       "      <th>2</th>\n",
       "      <td>5</td>\n",
       "      <td>The best soundtrack ever to anything. I'm read...</td>\n",
       "    </tr>\n",
       "    <tr>\n",
       "      <th>3</th>\n",
       "      <td>4</td>\n",
       "      <td>Chrono Cross OST The music of Yasunori Misuda ...</td>\n",
       "    </tr>\n",
       "    <tr>\n",
       "      <th>4</th>\n",
       "      <td>5</td>\n",
       "      <td>Too good to be true Probably the greatest soun...</td>\n",
       "    </tr>\n",
       "    <tr>\n",
       "      <th>...</th>\n",
       "      <td>...</td>\n",
       "      <td>...</td>\n",
       "    </tr>\n",
       "    <tr>\n",
       "      <th>2995</th>\n",
       "      <td>1</td>\n",
       "      <td>An Example of What is \"Classically\" Wrong with...</td>\n",
       "    </tr>\n",
       "    <tr>\n",
       "      <th>2996</th>\n",
       "      <td>1</td>\n",
       "      <td>Do not buy this HP 960 printer from ANTonline ...</td>\n",
       "    </tr>\n",
       "    <tr>\n",
       "      <th>2997</th>\n",
       "      <td>3</td>\n",
       "      <td>color ink cartridge I've had this printer for ...</td>\n",
       "    </tr>\n",
       "    <tr>\n",
       "      <th>2998</th>\n",
       "      <td>2</td>\n",
       "      <td>Good printer, so so on photos, crap for envelo...</td>\n",
       "    </tr>\n",
       "    <tr>\n",
       "      <th>2999</th>\n",
       "      <td>3</td>\n",
       "      <td>Ne Ver, Ne Boisia... I love t.A.T.u and I have...</td>\n",
       "    </tr>\n",
       "  </tbody>\n",
       "</table>\n",
       "<p>3000 rows × 2 columns</p>\n",
       "</div>"
      ]
     },
     "metadata": {},
     "execution_count": 7
    }
   ],
   "metadata": {
    "ExecuteTime": {
     "end_time": "2021-07-19T18:04:47.209292Z",
     "start_time": "2021-07-19T18:04:47.161623Z"
    },
    "scrolled": true
   }
  },
  {
   "cell_type": "code",
   "execution_count": 8,
   "source": [
    "# df.rename({0:\"star\", 1:\"rating1\", 2:\"rating2\"}, axis=1, inplace=True)"
   ],
   "outputs": [],
   "metadata": {}
  },
  {
   "cell_type": "markdown",
   "source": [
    "Since we are going to predict the number of stars a certain product has got based on the semantics of the text, we could merge the title of the review together with the body of the review, just by concatenating them:"
   ],
   "metadata": {}
  },
  {
   "cell_type": "code",
   "execution_count": 9,
   "source": [
    "# df[\"review\"] = df[\"rating1\"] + \" \" +  df[\"rating2\"]"
   ],
   "outputs": [],
   "metadata": {}
  },
  {
   "cell_type": "code",
   "execution_count": 10,
   "source": [
    "# df"
   ],
   "outputs": [],
   "metadata": {}
  },
  {
   "cell_type": "markdown",
   "source": [
    "and then of course we can drop the other two columns:"
   ],
   "metadata": {}
  },
  {
   "cell_type": "code",
   "execution_count": 11,
   "source": [
    "# df.drop(columns=[\"rating1\", \"rating2\"], inplace=True)"
   ],
   "outputs": [],
   "metadata": {}
  },
  {
   "cell_type": "code",
   "execution_count": 12,
   "source": [
    "# df"
   ],
   "outputs": [],
   "metadata": {}
  },
  {
   "cell_type": "markdown",
   "source": [
    "👏"
   ],
   "metadata": {}
  },
  {
   "cell_type": "markdown",
   "source": [
    "The `star`column is what we want to predict, given the text of the review. I think we are all Amazon users, and we are all aware of how many stars a rating can have, but let's just double check:"
   ],
   "metadata": {}
  },
  {
   "cell_type": "code",
   "execution_count": 13,
   "source": [
    "df.star.unique()"
   ],
   "outputs": [
    {
     "output_type": "execute_result",
     "data": {
      "text/plain": [
       "array([3, 5, 4, 1, 2])"
      ]
     },
     "metadata": {},
     "execution_count": 13
    }
   ],
   "metadata": {
    "scrolled": false
   }
  },
  {
   "cell_type": "markdown",
   "source": [
    "Ok, now that our data are in order, we need to preprocess them. We can take advantage of spacy for basically of the steps:"
   ],
   "metadata": {}
  },
  {
   "cell_type": "code",
   "execution_count": 14,
   "source": [
    "nlp = spacy.load(\"en_core_web_sm\")"
   ],
   "outputs": [],
   "metadata": {
    "ExecuteTime": {
     "end_time": "2021-07-19T18:06:56.046136Z",
     "start_time": "2021-07-19T18:06:55.450651Z"
    }
   }
  },
  {
   "cell_type": "markdown",
   "source": [
    "Let's create a function that, given a sentence, it preprocess it by doing:\n",
    "- tokenization\n",
    "- removing stopwords\n",
    "- remove special characters/punctuation\n",
    "- make everything lower case\n",
    "- lemmatize it\n",
    "\n",
    "With spacy, we can do it in a very compact form:"
   ],
   "metadata": {}
  },
  {
   "cell_type": "code",
   "execution_count": 15,
   "source": [
    "# def preprocessing(sentence):\n",
    "#     \"\"\"\n",
    "#     params sentence: a str containing the sentence we want to preprocess\n",
    "#     return the tokens list\n",
    "#     \"\"\"\n",
    "#     doc = nlp(sentence)\n",
    "#     tokens = [token.lemma_ for token in doc if not token.is_punct and not token.is_stop]\n",
    "#     return tokens\n",
    "\n",
    "def preprocessing(sentence):\n",
    "    \"\"\"\n",
    "    params sentence: a str containing the sentence we want to preprocess\n",
    "    return the tokens list\n",
    "    \"\"\"\n",
    "    doc = nlp(sentence)\n",
    "    tokens = [token.lemma_.lower()  for token in doc if not token.is_punct and not token.is_stop and not token.text.isdigit() or \"not\" in token.text.lower() ]\n",
    "    #punct is for commas and questions marks like this kind of stuffs (punctioation)\n",
    "    # we used \"not\" because not can block bad reactions like \"not good\"\n",
    "\n",
    "    return tokens\n",
    "    "
   ],
   "outputs": [],
   "metadata": {
    "ExecuteTime": {
     "end_time": "2021-07-19T18:07:10.961066Z",
     "start_time": "2021-07-19T18:07:10.953004Z"
    }
   }
  },
  {
   "cell_type": "code",
   "execution_count": 16,
   "source": [
    "preprocessing(\"This is an example! Alessio 999 not Hello\")"
   ],
   "outputs": [
    {
     "output_type": "execute_result",
     "data": {
      "text/plain": [
       "['example', 'alessio', 'not', 'hello']"
      ]
     },
     "metadata": {},
     "execution_count": 16
    }
   ],
   "metadata": {
    "ExecuteTime": {
     "end_time": "2021-07-19T18:07:12.173755Z",
     "start_time": "2021-07-19T18:07:12.147257Z"
    }
   }
  },
  {
   "cell_type": "markdown",
   "source": [
    "The preprocessing phase has not finished yet. In fact, we want to create a neural network, and a neural network works with numbers. In general, computers work with numbers...\n",
    "\n",
    "So we need to use embeddings to transform a sentence into a tensor: the embeddings are usually one-dimensional, and in the following example they will have size 300, that means that if you have a sentence of 10 words (after have it preprocessed), the shape of the sentence will be $10\\times 300$. You will notice another dimension, that is the batch size. So you will train and run a model that receive as input a tensor of shape:\n",
    "\n",
    "`batch_size*length_of_the_sentence*embedding_size`.\n",
    "\n",
    "Let's do things in order:"
   ],
   "metadata": {}
  },
  {
   "cell_type": "code",
   "execution_count": 17,
   "source": [
    "import torch\n",
    "from collections import Counter\n",
    "from torchtext.vocab import Vocab\n",
    "from torch.utils.data import DataLoader, Dataset\n",
    "from tqdm import tqdm, tqdm_notebook"
   ],
   "outputs": [],
   "metadata": {
    "ExecuteTime": {
     "end_time": "2021-07-19T18:18:07.324236Z",
     "start_time": "2021-07-19T18:18:07.237931Z"
    }
   }
  },
  {
   "cell_type": "markdown",
   "source": [
    "If you are using the whole dataset, you should not need to split the dataset into train and test 'cause it should be already. If not, and if you are using any other dataset, remember to split into train and test (eventually validation)."
   ],
   "metadata": {}
  },
  {
   "cell_type": "code",
   "execution_count": 18,
   "source": [
    "train_df, test_df = df.iloc[:2000], df.iloc[2000:]"
   ],
   "outputs": [],
   "metadata": {
    "ExecuteTime": {
     "end_time": "2021-07-19T18:10:10.561578Z",
     "start_time": "2021-07-19T18:10:10.553750Z"
    }
   }
  },
  {
   "cell_type": "markdown",
   "source": [
    "Now we need to create a vocabulary. What does it mean? We need to keep track of all the tokens that occurs in our dataset, so that we can index them with a number instead of using a string.\n",
    "\n",
    "To do so, we take advantage of the `Counter` function from the `collections` library, and then pass to the `Vocab` class https://pytorch.org/text/stable/vocab.html. This is used to create a fast way to lookup the dictionary you have created. Don't forget to update the counter *after* applying the `preprocessing` function that you have created before."
   ],
   "metadata": {}
  },
  {
   "cell_type": "code",
   "execution_count": 19,
   "source": [
    "counter = Counter()\n",
    "train_iter = iter(train_df.review.values)\n",
    "for text in train_iter:\n",
    "    counter.update(preprocessing(text))\n"
   ],
   "outputs": [],
   "metadata": {}
  },
  {
   "cell_type": "code",
   "execution_count": 22,
   "source": [
    "vocab = Vocab(counter)"
   ],
   "outputs": [],
   "metadata": {}
  },
  {
   "cell_type": "markdown",
   "source": [
    "As `min_freq` I chose 1, that means that I'm considering all the terms in the vocabulary that occurs at least once. There are cases in which you want to filter out some rare words, but in this reviews dataset I don't think it's a good idea.\n",
    "\n",
    "*Tip:* I'd rather do a better preprocessing, trying to use some spellchecker to correct typos so that mispelled words would be associated to the right one. However, in reality, it's pretty hard to find a good spellchecker."
   ],
   "metadata": {}
  },
  {
   "cell_type": "markdown",
   "source": [
    "Let's check what the `vocab` we just created do:"
   ],
   "metadata": {}
  },
  {
   "cell_type": "code",
   "execution_count": 25,
   "source": [
    "text = preprocessing(\"hello world\")\n",
    "\n",
    "[vocab[x] for x in text]\n"
   ],
   "outputs": [
    {
     "output_type": "execute_result",
     "data": {
      "text/plain": [
       "[2496, 101]"
      ]
     },
     "metadata": {},
     "execution_count": 25
    }
   ],
   "metadata": {}
  },
  {
   "cell_type": "code",
   "execution_count": 26,
   "source": [
    "vocab['book']"
   ],
   "outputs": [
    {
     "output_type": "execute_result",
     "data": {
      "text/plain": [
       "2"
      ]
     },
     "metadata": {},
     "execution_count": 26
    }
   ],
   "metadata": {}
  },
  {
   "cell_type": "code",
   "execution_count": 47,
   "source": [
    "counter.most_common"
   ],
   "outputs": [
    {
     "output_type": "execute_result",
     "data": {
      "text/plain": [
       "<bound method Counter.most_common of Counter({'book': 1633, 'not': 1448, 'good': 784, 'read': 747, 'like': 697, 'great': 586, 'time': 461, 'buy': 420, 'work': 379, 'think': 349, 'find': 333, 'love': 322, 'get': 306, 'movie': 301, 'look': 290, 'story': 274, 'year': 268, 'know': 264, 'product': 255, 'well': 248, 'bad': 245, 'album': 230, 'little': 227, 'want': 225, 'write': 222, 'come': 215, 'cd': 211, 'people': 205, 'thing': 202, 'way': 200, 'go': 198, 'need': 195, 'music': 193, 'long': 188, 'use': 184, 'character': 184, 'try': 181, 'old': 178, 'song': 178, 'new': 176, 'recommend': 168, 'lot': 166, 'author': 163, 'game': 159, 'money': 156, 'review': 153, 'enjoy': 152, 'make': 151, 'sound': 150, 'end': 150, 'give': 149, 'quality': 145, 'feel': 141, 'nice': 140, 'order': 139, 'purchase': 139, 'day': 138, 'interesting': 137, 'set': 135, 'wear': 135, 'star': 133, 'another': 130, 'hard': 130, 'novel': 129, 'take': 129, 'price': 127, 'dvd': 120, 'worth': 118, 'play': 118, 'tell': 118, 'track': 116, 'start': 116, 'plot': 115, 'life': 115, 'high': 115, 'help': 113, 'say': 111, 'pretty': 111, 'small': 111, 'size': 110, 'fan': 109, 'bit': 108, 'easy': 108, 'cover': 107, 'hold': 107, 'understand': 106, 'problem': 104, 'big': 103, 'amazon': 102, 'watch': 102, 'see': 101, 'expect': 100, 'version': 99, 'different': 99, 'band': 98, 'leave': 97, 'classic': 97, 'world': 96, 'sure': 96, 'right': 96, 'listen': 95, 'point': 94, 'excellent': 94, 'page': 93, 'film': 93, 'computer': 92, 'boring': 92, 'man': 91, 'far': 90, 'picture': 90, 'fact': 89, 'nothing': 88, 'power': 88, 'fun': 88, 'live': 87, 'charge': 87, 'let': 86, 'style': 85, 'video': 85, 'child': 85, 'hear': 84, 'actually': 84, 'fit': 84, 'adapter': 84, 'real': 83, 'letter': 83, 'item': 82, 'fine': 82, 'series': 82, '$': 81, 'place': 81, 'short': 80, 'apple': 80, 'piece': 79, 'month': 79, 'light': 78, 'turn': 78, 'break': 78, 'history': 77, 'pay': 76, 'waste': 76, 'school': 76, 'disappointed': 75, 'difficult': 75, 'second': 73, 'charger': 73, 'cheap': 73, 'reader': 73, 'able': 73, 'hope': 72, 'original': 72, 'week': 71, 'kid': 71, 'daughter': 71, 'nt': 71, 'kind': 70, 'keep': 70, 'night': 70, 'maybe': 69, 'christmas': 69, 'idea': 69, 'favorite': 68, 'probably': 67, 'receive': 67, 'reason': 66, 'believe': 66, 'writing': 66, 'happen': 66, 'away': 65, 'wait': 65, 'rock': 65, 'wonderful': 64, 'ok': 64, 'fall': 64, 'release': 64, 'plug': 64, 'scarlet': 64, 'minute': 62, 'friend': 62, 'change': 62, 'return': 62, 'hour': 60, 'poor': 60, 'perfect': 60, 'home': 60, 'show': 60, 'especially': 59, 'definitely': 59, 'guess': 59, 'ago': 59, 'spend': 58, 'learn': 58, 'wish': 58, 'job': 58, 'information': 58, 'mean': 57, 'battery': 57, 'simple': 57, 'line': 57, 'miss': 56, 'finish': 56, 'run': 56, 'half': 56, 'overall': 55, 'consider': 55, 'true': 54, 'family': 54, 'highly': 54, 'lack': 54, 'experience': 54, 'class': 54, 'waist': 54, 'box': 53, 'stuff': 53, 'collection': 53, 'english': 53, 'guy': 52, 'funny': 52, 'instead': 52, 'word': 52, 'sandler': 52, 'include': 51, 'send': 51, 'control': 51, 'hawthorne': 51, 'cord': 51, 'girl': 50, 'talk': 50, 'lose': 50, 'material': 50, 'chapter': 49, 'early': 49, 'have': 49, 'basic': 49, 'issue': 49, 'hand': 48, 'low': 48, 'color': 48, 'hot': 48, 'simply': 47, 'dark': 47, 'appear': 47, 'level': 47, 'happy': 47, 'type': 47, 'description': 47, 'woman': 47, 'dance': 46, 'store': 46, 'couple': 46, 'thank': 46, 'stop': 46, 'pick': 46, 'metal': 46, 'stay': 45, 'etc': 45, 'title': 45, 'stick': 45, 'close': 44, 'feature': 44, 'age': 44, 'american': 44, 'beat': 44, 'support': 44, 'number': 44, 'action': 44, 'stand': 44, 'economic': 44, 'replacement': 44, 'house': 43, 'care': 43, 'wo': 43, 'camera': 43, 'opinion': 43, 'bring': 43, 'edition': 43, 'person': 43, 'follow': 43, 'hook': 43, 'figure': 42, 'add': 42, 'absolutely': 42, 'decide': 42, 'case': 42, 'base': 42, 'wrong': 42, 'strong': 41, 'today': 41, 'provide': 41, 'note': 41, 'head': 41, 'one': 41, 'pillow': 41, 'sit': 41, 'main': 41, 'view': 40, 'clear': 40, 'example': 40, 'decent': 40, 'mind': 40, 'unfortunately': 40, 'voice': 40, 'open': 40, 'squeem': 40, 'macally': 40, 'amazing': 39, 'black': 39, 'disappointing': 39, 'rate': 39, 'guide': 39, 'disc': 39, 'deal': 39, 'fast': 39, 'writer': 39, 'cable': 39, 'thin': 39, 'detail': 39, 'adam': 39, 'text': 38, 'cute': 38, 'course': 38, 'date': 38, 'subject': 38, 'interest': 38, 'gift': 37, 'self': 37, 'state': 37, 'arrive': 37, 'copy': 37, 'awesome': 37, 'effort': 37, 'present': 37, 'agree': 37, 'large': 37, 'service': 37, 'heart': 37, 'move': 37, 'past': 37, 'reading': 37, 'cool': 36, 'young': 36, 'player': 36, 'tight': 36, 'save': 36, 'certainly': 36, 'son': 36, 'cost': 36, 'single': 36, 'inch': 36, 'list': 36, 'easily': 36, 'lyric': 36, 'ibook': 36, 'costume': 36, 'reviewer': 35, 'okay': 35, 'completely': 35, 'medium': 35, 'extremely': 35, 'exactly': 35, 'thomas': 35, 'cornwell': 35, 'powerbook': 35, 'mothman': 35, 'general': 34, 'huge': 34, 'die': 34, 'design': 34, 'begin': 34, 'free': 34, 'describe': 34, 'suppose': 34, 'tale': 34, 'humor': 34, 'beginning': 33, 'brand': 33, 'country': 33, 'recording': 33, 'tape': 33, 'record': 33, 'ending': 33, 'personal': 33, 'beautiful': 33, 'require': 33, 'company': 33, 'slow': 33, 'language': 33, 'extra': 33, 'baby': 33, 'food': 33, 'g4': 33, 'check': 32, 'content': 32, 'wonder': 32, 'cut': 32, 'modern': 32, 'mac': 32, 'plus': 32, 'result': 32, 'fire': 32, 'plain': 32, 'rod': 32, 'fill': 31, 'oh': 31, 'quick': 31, 'scene': 31, 'remember': 31, 'value': 31, 'finally': 31, 'rest': 31, 'concept': 31, 'terrible': 31, 'somewhat': 31, 'sense': 31, 'inside': 31, 'tool': 31, 'interested': 31, 'grow': 31, 'available': 31, 'cause': 31, 'totally': 30, 'useful': 30, 'screen': 30, 'graphic': 30, 'explain': 30, 'lead': 30, 'cat': 30, 'husband': 30, 'hate': 30, 'teacher': 30, 'mention': 29, 'push': 29, 'tv': 29, 'replace': 29, 'contain': 29, 'travel': 29, 'previous': 29, 'weight': 29, 'smell': 29, 'literature': 29, 'death': 29, 'scarpetta': 29, 'blue': 28, 'glad': 28, 'mark': 28, 'package': 28, 'standard': 28, 'choice': 28, 'sony': 28, 'skip': 28, 'entire': 28, 'draw': 28, 'entertaining': 28, 'room': 28, 'audio': 28, 'addition': 28, 'boy': 28, 'call': 28, 'meet': 28, 'part': 28, 'force': 28, 'study': 28, 'keel': 28, 'vocal': 27, 'question': 27, 'offer': 27, 'kill': 27, 'complete': 27, 'romance': 27, 'horrible': 27, 'white': 27, 'dull': 27, 'annoying': 27, 'research': 27, 'heavy': 27, 'eye': 27, 'super': 27, 'matter': 27, 'plastic': 27, 'shape': 27, 'attention': 27, 'face': 27, 's': 27, 'forget': 27, 'handle': 27, 'period': 27, 'yes': 27, 'killer': 27, 'compare': 27, 'brown': 27, 'historical': 27, 'sand': 27, 'usually': 26, 'event': 26, 'create': 26, 'mother': 26, 'fail': 26, 'near': 26, 'reference': 26, 'edge': 26, 'appreciate': 26, 'disappointment': 26, 'art': 26, 'sister': 26, 'non': 26, 'artist': 26, 'performance': 26, 'post': 26, 'customer': 26, 'form': 26, 'musical': 26, 'sort': 26, 'adult': 26, 'area': 26, 'cincher': 26, 'amish': 26, 'enjoyable': 25, 'straight': 25, 'library': 25, 'machine': 25, 'seller': 25, 'feeling': 25, 'hit': 25, 'theme': 25, 'bother': 25, 'forward': 25, 'shipping': 25, 'important': 25, 'poorly': 25, 'noise': 25, 'body': 25, 'sorry': 25, 'mask': 25, 'desk': 25, 'mr.': 25, 'clean': 25, 'higgins': 25, 'charlie': 25, 'joke': 24, 'mix': 24, 'special': 24, 'loose': 24, 'water': 24, 'singer': 24, 'student': 24, 'prefer': 24, 'eat': 24, 'pass': 24, 'parent': 24, 'attempt': 24, 'durable': 24, 'disappoint': 24, 'brain': 24, 'comfortable': 24, 'touch': 24, 'vampire': 24, 'answer': 24, 'fat': 24, 'sturdy': 24, 'bag': 24, 'glass': 24, 'pop': 23, 'major': 23, 'publish': 23, 'effect': 23, 'button': 23, 'print': 23, 'car': 23, 'similar': 23, 'perfectly': 23, 'future': 23, 'pant': 23, 'suggest': 23, 'teach': 23, 'twist': 23, 'late': 23, 'instruction': 23, 'fix': 23, 'wash': 23, 'development': 23, 'cash': 23, 'pull': 23, 'difference': 23, 'pepper': 23, 'expensive': 22, 'sell': 22, 'term': 22, 'weak': 22, 'comedy': 22, 'search': 22, 'leg': 22, 'image': 22, 'refund': 22, 'thought': 22, 'throw': 22, 'horror': 22, 'smith': 22, 'kay': 22, 'sin': 22, 'theory': 22, 'rubber': 22, 'beware': 21, 'doubt': 21, 'software': 21, 'remote': 21, 'fairly': 21, 'episode': 21, 'god': 21, 'production': 21, 'middle': 21, 'plan': 21, 'account': 21, 'build': 21, 'moment': 21, 'realize': 21, 'father': 21, 'speak': 21, 'dialogue': 21, 'alot': 21, 'average': 21, 'relate': 21, 'truly': 21, 'sing': 21, 'rating': 21, 'defective': 21, 'dish': 21, 'tired': 21, 'laugh': 21, 'focus': 21, 'century': 21, 'hester': 21, 'ac': 21, 'paper': 20, 'option': 20, 'shame': 20, 'season': 20, 'law': 20, 'helpful': 20, 'ask': 20, 'clearly': 20, 'trip': 20, 'particular': 20, 'knowledge': 20, 'name': 20, 'castle': 20, 'air': 20, 'best': 20, 'america': 20, 'later': 20, 'suck': 20, 'hurt': 20, 'continue': 20, 'pleased': 20, 'crazy': 20, 'flat': 20, 'html': 20, 'space': 20, 'message': 20, 'smooth': 20, 'deep': 20, 'blu': 20, 'ring': 20, 'salt': 20, 'tune': 19, 'twice': 19, 'foot': 19, 'pure': 19, 'group': 19, 'complaint': 19, 'stupid': 19, 'promise': 19, 'dead': 19, 'model': 19, 'produce': 19, 'solid': 19, 'ship': 19, 'drive': 19, 'correct': 19, 'de': 19, 'war': 19, 'site': 19, 'bonus': 19, 'block': 19, 'fiction': 19, 'typical': 19, 'predictable': 19, 'manage': 19, 'catch': 19, 'put': 19, 'feehan': 19, 'connect': 19, 'kindle': 19, 'cartoon': 19, 'ufo': 19, 'holiday': 19, 'ray': 19, 'laptop': 19, 'positive': 18, 'imagine': 18, 'sad': 18, 'trouble': 18, 'awful': 18, 'actual': 18, 'condition': 18, 'slightly': 18, 'having': 18, 'selection': 18, 'comment': 18, 'allow': 18, 'topic': 18, 'advice': 18, 'human': 18, 'informative': 18, 'el': 18, 'quickly': 18, 'contact': 18, 'choose': 18, 'own': 18, 'exercise': 18, 'ability': 18, 'john': 18, 'sweet': 18, 'dry': 18, 'recently': 18, 'warm': 18, 'red': 18, 'mystery': 18, 'female': 18, 'nicely': 18, 'society': 18, 'flimsy': 18, 'limit': 18, 'screw': 18, 'test': 18, 'insight': 18, 'haiku': 18, 'ms.': 17, 'purpose': 17, 'delivery': 17, 'pair': 17, 'handy': 17, 'last': 17, 'online': 17, 'hang': 17, 'unit': 17, 'capture': 17, 'hell': 17, 'system': 17, 'plenty': 17, 'mistake': 17, 'fabric': 17, 'background': 17, 'process': 17, 'source': 17, 'excited': 17, 'bed': 17, 'approach': 17, 'wall': 17, 'alternative': 17, 'cast': 17, 'la': 17, 'pack': 17, 'blah': 17, 'section': 17, 'pc': 17, 'dress': 17, 'practice': 17, 'government': 17, 'connection': 17, 'tomb': 17, 'grade': 16, 'bootleg': 16, 'ground': 16, 'develop': 16, 'carry': 16, 'brother': 16, 'ridiculous': 16, 'secret': 16, 'soon': 16, 'user': 16, 'highlight': 16, 'adventure': 16, 'advertise': 16, 'plate': 16, 'damage': 16, 'shoe': 16, 'particularly': 16, 'master': 16, 'negative': 16, 'fabulous': 16, 'usual': 16, 'barely': 16, 'construction': 16, 'beginner': 16, 'situation': 16, 'chocolate': 16, 'role': 16, 'sex': 16, 'camcorder': 16, 'party': 16, 'wood': 16, 'side': 16, 'length': 16, 'program': 16, 'town': 16, 'drag': 16, 'basically': 16, 'brick': 16, 'sleep': 16, 'tall': 16, 'tear': 16, 'taste': 16, 'darkness': 16, 'fantastic': 16, 'flow': 16, 'bunch': 16, 'involve': 16, 'despite': 16, 'possible': 16, 'buck': 16, 'u': 16, 'struggle': 16, 'thermometer': 16, 'warning': 16, 'nearly': 16, 'unlike': 16, 'wire': 16, 'squeeze': 16, 'uncomfortable': 16, 'jack': 16, 'william': 16, 'genre': 16, 'connector': 16, 'journal': 16, 'rich': 15, 'compression': 15, 'public': 15, 'remind': 15, 'useless': 15, 'volume': 15, 'notice': 15, 'project': 15, 'aspect': 15, 'passion': 15, 'business': 15, 'city': 15, 'table': 15, 'expectation': 15, 'rip': 15, 'chance': 15, 'murder': 15, 'confusing': 15, 'regular': 15, 'got': 15, 'frustrating': 15, 'immediately': 15, 'incredibly': 15, 'total': 15, 'limited': 15, 'web': 15, 'outside': 15, 'fantasy': 15, 'loud': 15, 'knock': 15, 'witch': 15, 'treat': 15, 'soft': 15, 'walk': 15, 'ash': 15, 'honestly': 15, 'obviously': 15, 'analysis': 15, 'unique': 15, 'wow': 15, 'conclusion': 15, 'usb': 15, 'patricia': 15, 'fair': 15, 'repetitive': 15, 'market': 15, 'serve': 15, 'warn': 15, 'jean': 15, 'prove': 15, 'lesson': 15, 'originally': 15, 'quote': 15, 'belly': 15, 'editor': 15, 'symbolism': 15, 'spider': 15, 'dolly': 15, 'rocket': 15, 'curtain': 15, 'soundtrack': 14, 'error': 14, 'remove': 14, 'prose': 14, 'anymore': 14, 'stocking': 14, 'key': 14, 'packaging': 14, 'respect': 14, 'culture': 14, 'deserve': 14, 'pressure': 14, 'mediocre': 14, 'act': 14, 'individual': 14, 'junk': 14, 'range': 14, 'info': 14, 'card': 14, 'admit': 14, 'dollar': 14, 'exception': 14, 'lay': 14, 'beautifully': 14, 'island': 14, 'visit': 14, 'advanced': 14, 'pleasant': 14, 'burn': 14, 'hole': 14, 'weird': 14, 'position': 14, 'switch': 14, 'da': 14, 'mary': 14, 'train': 14, 'normal': 14, 'match': 14, 'element': 14, 'skin': 14, 'appeal': 14, 'dr.': 14, 'depth': 14, 'narrative': 14, 'discover': 14, 'economics': 14, 'supply': 14, 'roll': 14, 'ball': 14, 'ps': 14, 'raider': 14, 'angel': 14, 'zombie': 14, 'mug': 14, 'cross': 13, 'masterpiece': 13, 'buyer': 13, 'certain': 13, 'digital': 13, 'scratch': 13, 'visual': 13, 'win': 13, 'tradition': 13, 'talent': 13, 'reach': 13, 'trust': 13, 'vhs': 13, 'crap': 13, 'final': 13, 'seriously': 13, 'discussion': 13, 'attack': 13, 'detailed': 13, 'photo': 13, 'intend': 13, 'understanding': 13, 'b': 13, '1/2': 13, 'pattern': 13, 'claim': 13, 'learning': 13, 'satisfied': 13, 'shop': 13, 'impossible': 13, 'odd': 13, 'thinking': 13, 'rule': 13, 'college': 13, 'structure': 13, 'spot': 13, 'direction': 13, 'center': 13, 'left': 13, 'step': 13, 'pain': 13, 'popular': 13, 'soulmate': 13, 'fully': 13, 'rabbi': 13, 'hero': 13, 'clothe': 13, 'cruel': 13, 'unusual': 13, 'recent': 13, 'holder': 13, 'assume': 13, 'dog': 13, 'metaphor': 13, 'hip': 13, 'slim': 13, 'england': 13, 'pump': 13, 'cheaply': 13, 'napoleon': 13, 'hose': 13, 'diabetes': 13, 'gillian': 13, 'fresh': 12, 'lover': 12, 'romantic': 12, 'baseball': 12, 'folk': 12, 'chart': 12, 'internet': 12, 'clothing': 12, 'firm': 12, 'apply': 12, 'wrap': 12, 'wife': 12, 'electronic': 12, 'alarm': 12, 'shot': 12, 'desire': 12, 'co': 12, 'address': 12, 'politic': 12, 'challenge': 12, 'interview': 12, 'function': 12, 'practical': 12, 'shower': 12, 'misleading': 12, 'apart': 12, 'magic': 12, 'phone': 12, 'puzzle': 12, 'summer': 12, 'radio': 12, 'impressed': 12, 'strategy': 12, 'frame': 12, 'fascinating': 12, 'pace': 12, 'relationship': 12, 'datum': 12, 'download': 12, 'office': 12, 'hide': 12, 'battle': 12, 'soul': 12, 'maker': 12, 'potential': 12, 'dream': 12, 'tree': 12, 'military': 12, 'formula': 12, 'moon': 12, 'truth': 12, 'trilogy': 12, 'richard': 12, 'aside': 12, 'introduction': 12, 'political': 12, 'indicator': 12, 'rap': 12, 'ready': 12, 'redeem': 12, 'wolverine': 12, 'suddenly': 12, 'common': 12, 'crime': 12, 'commit': 12, 'gault': 12, 'seek': 12, 'adultery': 12, 'unbelievable': 12, 'tend': 12, 'community': 12, 'era': 12, 'sizing': 12, 'bone': 12, 'torture': 12, 'obvious': 12, 'gun': 12, 'lara': 12, 'washer': 12, 'ra': 12, 'nightwish': 12, 'beauty': 11, 'james': 11, 'morning': 11, 'memory': 11, 'rise': 11, 'memorable': 11, 'hair': 11, 'segment': 11, 'file': 11, 'tone': 11, 'website': 11, 'explanation': 11, 'audience': 11, 'recipe': 11, 'europe': 11, 'lock': 11, 'sadly': 11, 'occasionally': 11, 'fashion': 11, 'imagination': 11, 'evil': 11, 'cake': 11, 'club': 11, 'suspense': 11, 'constantly': 11, 'journey': 11, 'annoy': 11, 'stage': 11, 'lovely': 11, 'cry': 11, 'paint': 11, 'exciting': 11, 'education': 11, 'toy': 11, 'resource': 11, 'halloween': 11, 'extreme': 11, 'green': 11, 'seal': 11, \"i'm\": 11, 'strange': 11, 'ride': 11, 'ii': 11, 'guitar': 11, 'separate': 11, 'm': 11, 'drink': 11, 'incredible': 11, 'sentence': 11, 'likely': 11, 'beach': 11, 'witness': 11, 'appearance': 11, 'seam': 11, 'local': 11, 'british': 11, \"don't\": 11, 'discuss': 11, 'bar': 11, 'setting': 11, 'variety': 11, 'accurate': 11, 'avoid': 11, 'lame': 11, 'disturbing': 11, 'attach': 11, 'reasonable': 11, 'bend': 11, 'pregnancy': 11, 'deliver': 11, 'chip': 11, 'jazz': 11, 'attic': 11, 'singing': 11, 'drum': 11, 'shaker': 11, 'burmese': 11, 'bluegrass': 11, 'lhasa': 11, 'sighting': 11, 'factor': 10, 'pathetic': 10, '+': 10, 'presentation': 10, 'painful': 10, 'cycle': 10, 'mode': 10, 'comprehensive': 10, 'gray': 10, 'field': 10, 'recommendation': 10, 'attractive': 10, 'express': 10, 'hill': 10, 'race': 10, 'storyline': 10, 'update': 10, 'barbie': 10, 'remain': 10, 'shock': 10, 'scary': 10, 'everyday': 10, 'properly': 10, 'king': 10, 'current': 10, 'craft': 10, 'load': 10, 'portray': 10, 'professional': 10, 'garbage': 10, 'e': 10, 'se': 10, 'trash': 10, 'minor': 10, 'accept': 10, 'judge': 10, 'acting': 10, 'surprise': 10, 'stretch': 10, 'victim': 10, 'familiar': 10, 'tiny': 10, 'scream': 10, 'tea': 10, 'outlet': 10, 'possibly': 10, 'realistic': 10, 'energy': 10, 'stock': 10, 'mixed': 10, 'emotion': 10, 'juvenile': 10, 'label': 10, 'share': 10, 'raise': 10, 'forever': 10, 'code': 10, 'chair': 10, 'magical': 10, 'fight': 10, 'indian': 10, 'paranormal': 10, 'heroine': 10, 'worry': 10, 'christine': 10, 'edit': 10, 'drop': 10, 'illustration': 10, 'west': 10, 'corset': 10, 'custom': 10, 'shapewear': 10, 'wedding': 10, 'definately': 10, 'latin': 10, 'pearl': 10, 'literary': 10, 'powerful': 10, 'un': 10, 'elvis': 10, 'grinder': 10, 'mill': 10, 'dredg': 10, 'pole': 10, 'indicate': 10, 'magnet': 10, 'exact': 10, 'pocket': 10, 'tango': 10, 'butter': 10, 'belva': 10, 'boot': 10, 'soviet': 10, 'timeless': 9, 'paragraph': 9, 'church': 9, 'faith': 9, 'kitchen': 9, 'owner': 9, 'random': 9, 'define': 9, 'identity': 9, 'member': 9, 'concert': 9, 'surprised': 9, 'speaker': 9, 'vcr': 9, 'speed': 9, 'select': 9, 'sub': 9, 'pre': 9, 'complain': 9, 'technical': 9, 'script': 9, 'format': 9, 'specific': 9, 'gear': 9, 'argue': 9, 'famous': 9, 'disk': 9, 'anecdote': 9, 'illustrate': 9, 'represent': 9, 'eastern': 9, 'regard': 9, 'c': 9, 'creative': 9, 'bored': 9, 'vendor': 9, 'hopefully': 9, 'grab': 9, 'classical': 9, 'publisher': 9, 'vocabulary': 9, 'authentic': 9, 'cousin': 9, 'alphabet': 9, 'wide': 9, 'fool': 9, 'arcade': 9, 'y': 9, 'pound': 9, 'tough': 9, 'que': 9, 'con': 9, 'joint': 9, 'leak': 9, 'encounter': 9, 'marriage': 9, 'daily': 9, 'stack': 9, 'terrorist': 9, 'double': 9, 'mom': 9, 'blood': 9, 'thick': 9, 'perspective': 9, 'commercial': 9, 'bore': 9, 'rent': 9, 'gain': 9, 'iron': 9, 'dictionary': 9, 'ipod': 9, 'actor': 9, 'nicoletta': 9, 'success': 9, 'stereo': 9, 'benefit': 9, 'relevant': 9, 'medical': 9, 'portion': 9, 'forensic': 9, 'believable': 9, 'electric': 9, 'ghost': 9, 'theater': 9, 'director': 9, 'collector': 9, 'n': 9, 'surprisingly': 9, 'lady': 9, 'window': 9, 'slowly': 9, 'numerous': 9, 'york': 9, 'science': 9, 'cold': 9, 'dangerous': 9, 'accessible': 9, 'trick': 9, 'vest': 9, '2nd': 9, 'max': 9, 'binder': 9, 'alert': 9, 'pregnant': 9, 'snap': 9, 'earth': 9, 'decade': 9, 'borrow': 9, 'shoot': 9, 'teenager': 9, 'strength': 9, 'herb': 9, 'enemy': 9, 'personally': 9, 'nathaniel': 9, 'feed': 9, 'suction': 9, 'crack': 9, 'punch': 9, 'mr': 9, 'solution': 9, 'bible': 9, 'drill': 9, 'cielo': 9, 'musician': 9, 'bass': 9, 'velcro': 9, 'ac4': 9, 'dishwasher': 9, 'blaise': 9, 'thea': 9, 'empire': 9, 'hyacinth': 9, 'glue': 9, 'felicia': 9, 'tripod': 9, 'carbon': 9, 'xanth': 9, 'diabetic': 9, 'm.i.a.': 9, 'direct': 8, 'inspire': 8, 'vibe': 8, 'dissapointed': 8, 'fault': 8, 'skill': 8, 'chef': 8, 'emotional': 8, 'proper': 8, 'combine': 8, 'bright': 8, 'flip': 8, 'eventually': 8, 'operate': 8, 'awkward': 8, 'complicated': 8, 'lp': 8, 'sign': 8, 'mp3': 8, 'printing': 8, 'fitting': 8, 'reveal': 8, 'moral': 8, 'lie': 8, 'birthday': 8, 'traditional': 8, 'arrow': 8, 'ahead': 8, 'cheesy': 8, 'creativity': 8, 'educational': 8, 'twin': 8, 'sale': 8, 'uk': 8, 'seven': 8, 'path': 8, 'religion': 8, 'repeat': 8, 'compatible': 8, 'diet': 8, 'transfer': 8, 'earn': 8, 'border': 8, 'accord': 8, 'depend': 8, 'nights': 8, 'link': 8, 'shake': 8, 'dig': 8, 'yeah': 8, 'loss': 8, 'willing': 8, 'yard': 8, 'welcome': 8, 'silly': 8, 'alright': 8, 'medicine': 8, 'merit': 8, 'target': 8, 'device': 8, 'nasty': 8, 'literally': 8, 'danger': 8, 'male': 8, 'superb': 8, 'lj': 8, 'flaw': 8, 'natural': 8, 'documentary': 8, 'niece': 8, 'difficulty': 8, 'stone': 8, 'shallow': 8, 'prepare': 8, 'generally': 8, 'management': 8, 'valuable': 8, 'improve': 8, 'complex': 8, 'sick': 8, 'gon': 8, 'na': 8, 'anime': 8, 'blow': 8, 'application': 8, 'technique': 8, 'seat': 8, 'slip': 8, 'whatsoever': 8, 'unable': 8, 'jump': 8, 'reflect': 8, 'social': 8, 'reality': 8, 'comedian': 8, 'ira': 8, 'impress': 8, 'method': 8, 'simplistic': 8, 'david': 8, 'essay': 8, 'brilliant': 8, 'hazlitt': 8, 'essentially': 8, 'philosophy': 8, 'balance': 8, 'trade': 8, 'influence': 8, 'apparently': 8, 'bear': 8, 'movement': 8, 'expose': 8, '1st': 8, 'china': 8, 'inspiration': 8, 'dillon': 8, 'arab': 8, 'belong': 8, 'meaning': 8, 'badly': 8, 'board': 8, 'victorian': 8, 'en': 8, 'worried': 8, 'singe': 8, 'cream': 8, 'bug': 8, 'ear': 8, 'loo': 8, 'bill': 8, 'gentle': 8, 'oem': 8, 'dc': 8, 'pitch': 8, 'forth': 8, 'budget': 8, 'pour': 8, 'lace': 8, 'scholarly': 8, 'reggae': 8, 'eidos': 8, 'eido': 8, 'cape': 8, 'monoxide': 8, 'pink': 8, 'argentine': 8, 'ljs': 8, 'mature': 7, 'enter': 7, 'mood': 7, 'absolute': 7, 'typo': 7, 'zen': 7, 'italian': 7, 'team': 7, 'comfort': 7, 'sheer': 7, 'vague': 7, 'surround': 7, 'o': 7, 'liner': 7, 'dramatica': 7, 'german': 7, 'combination': 7, 'playback': 7, 'land': 7, 'display': 7, 'component': 7, 'response': 7, 'mountain': 7, 'specifically': 7, 'affair': 7, 'door': 7, 'ignore': 7, 'mysterious': 7, 'recall': 7, 'flash': 7, 'region': 7, 'looking': 7, 'yr': 7, 'gem': 7, 'careful': 7, 'bottle': 7, 'exist': 7, 'fanatic': 7, 'perform': 7, 'alike': 7, 'debut': 7, 'achieve': 7, 'spirit': 7, 'breed': 7, 'temple': 7, 'deeply': 7, 'soldier': 7, 'ny': 7, 'biography': 7, 'prior': 7, 'essential': 7, 'delicious': 7, 'ton': 7, 'instrumental': 7, 'ancient': 7, 'building': 7, 'joy': 7, 'pen': 7, 'jewish': 7, 'marry': 7, 'drawing': 7, 'recognize': 7, '3rd': 7, 'fusion': 7, 'wing': 7, 'propaganda': 7, 'miracle': 7, 'chinese': 7, 'root': 7, 'effective': 7, 'experimental': 7, 'initially': 7, 'ai': 7, 't': 7, 'press': 7, 'lynette': 7, 'intriguing': 7, 'comparison': 7, 'breast': 7, 'reliable': 7, 'policy': 7, 'interpretation': 7, 'pad': 7, 'decision': 7, 'environment': 7, 'lifetime': 7, 'anthony': 7, 'degreez': 7, 'coverage': 7, 'drama': 7, 'arm': 7, 'worthy': 7, 'favor': 7, 'smile': 7, 'repair': 7, 'ebay': 7, 'promptly': 7, 'narrator': 7, 'lucy': 7, 'marino': 7, 'evidence': 7, 'thrill': 7, 'ann': 7, 'apatow': 7, 'hilarious': 7, 'endless': 7, 'george': 7, 'sexual': 7, 'spin': 7, 'zero': 7, 'tragic': 7, 'pro': 7, 'opera': 7, 'appropriate': 7, 'shelf': 7, 'humorous': 7, 'paperback': 7, 'impressive': 7, 'genius': 7, 'mail': 7, 'argument': 7, 'outdate': 7, 'union': 7, 'refer': 7, 'reccomend': 7, 'greece': 7, 'belt': 7, 'additional': 7, 'stomach': 7, 'count': 7, 'adjust': 7, 'floor': 7, 'photograph': 7, 'ruin': 7, 'terribly': 7, 'spring': 7, 'nerve': 7, 'ice': 7, 'entertainment': 7, 'textbook': 7, 'peace': 7, 'irritate': 7, 'footnote': 7, '19th': 7, 'context': 7, 'puritan': 7, 'asleep': 7, 'nature': 7, 'fear': 7, 'rank': 7, 'teaching': 7, 'stress': 7, 'training': 7, 'split': 7, 'probe': 7, 'strap': 7, 'treatment': 7, 'worthwhile': 7, 'instructor': 7, 'wheel': 7, 'purple': 7, 'wilson': 7, 'g3': 7, 'adequate': 7, 'silver': 7, 'markham': 7, 'wicca': 7, 'paine': 7, 'brosnan': 7, 'vacuum': 7, 'safe': 7, 'escape': 7, 'thigh': 7, 'midi': 7, 'hilditch': 7, 'spiderman': 7, 'witchcraft': 7, 'butterfly': 7, 'prophecies': 7, 'phenomenon': 7, 'dad': 6, 'catchy': 6, 'ultimate': 6, 'tag': 6, 'delight': 6, 'import': 6, 'r': 6, 'grammar': 6, 'belief': 6, 'resort': 6, 'recomende': 6, 'intrigue': 6, 'insect': 6, 'street': 6, 'x': 6, 'western': 6, 'healthy': 6, 'neck': 6, 'secure': 6, 'drain': 6, 'native': 6, 'playing': 6, 'shine': 6, 'authority': 6, 'organize': 6, 'descriptive': 6, 'hollywood': 6, 'requirement': 6, 'focused': 6, 'anybody': 6, 'concern': 6, 'flavor': 6, 'dk': 6, 'steve': 6, 'coffee': 6, 'surface': 6, 'italy': 6, 'string': 6, 'wisdom': 6, 'experienced': 6, 'accomplish': 6, 'associate': 6, 'cardboard': 6, 'exchange': 6, 'risk': 6, 'tray': 6, 'superior': 6, 'consumer': 6, '80': 6, 'deodato': 6, 'vinyl': 6, 'artwork': 6, 'protect': 6, 'yoruba': 6, 'phrase': 6, 'critical': 6, 'elastic': 6, 'revolution': 6, 'jungle': 6, 'texture': 6, 'span': 6, 'kinda': 6, 'arrangement': 6, 'introduce': 6, 'freedom': 6, 'theatre': 6, 'compilation': 6, 'install': 6, 'keeper': 6, 'grandson': 6, 'object': 6, 'regularly': 6, 'convince': 6, 'jerry': 6, 'equipment': 6, 'anyways': 6, 'sequel': 6, 'rush': 6, 'knee': 6, 'revenge': 6, 'guilt': 6, 'doom': 6, 'producer': 6, 'pleasure': 6, 'synth': 6, 'height': 6, 'stiff': 6, 'doctor': 6, 'invest': 6, 'false': 6, 'arrange': 6, 'aunt': 6, 'lynnette': 6, 'ya': 6, 'square': 6, 'recomend': 6, 'frustration': 6, 'scholar': 6, 'enhanced': 6, 'gold': 6, 'brief': 6, 'mid': 6, 'retail': 6, 'inexpensive': 6, 'snug': 6, 'creature': 6, 'substance': 6, 'swear': 6, 'london': 6, 'lil': 6, 'rapper': 6, 'hype': 6, 'p': 6, 'wayne': 6, 'talented': 6, 'wit': 6, 'till': 6, 'police': 6, 'instant': 6, 'task': 6, 'regret': 6, 'bench': 6, 'engage': 6, 'scarletti': 6, 'curse': 6, 'evolve': 6, 'opportunity': 6, 'turner': 6, 'climax': 6, '`': 6, 'flesh': 6, 'nut': 6, 'smart': 6, 'spoil': 6, 'entirely': 6, 'dramatic': 6, 'premise': 6, 'seth': 6, 'location': 6, 'active': 6, 'jimmy': 6, 'formulaic': 6, 'manner': 6, 'suffer': 6, 'restaurant': 6, 'concise': 6, 'capitalism': 6, 'rare': 6, 'tax': 6, 'consequence': 6, 'breath': 6, 'impression': 6, 'health': 6, 'inform': 6, 'core': 6, 'concerned': 6, 'nick': 6, 'blend': 6, 'hop': 6, 'torso': 6, 'chest': 6, 'shirt': 6, 'ripple': 6, 'curve': 6, 'sweat': 6, 'sexy': 6, 'posture': 6, 'tummy': 6, 'shaper': 6, 'thumb': 6, 'workout': 6, 'ultimately': 6, 'heat': 6, 'afraid': 6, 'summary': 6, 'sean': 6, 'frequently': 6, 'irish': 6, 'dialog': 6, 'rough': 6, 'cliche': 6, 'spy': 6, 'advise': 6, 'studio': 6, 'ballroom': 6, 'instance': 6, 'delightful': 6, 'roger': 6, 'tedious': 6, 'captivate': 6, 'ugh': 6, 'consist': 6, 'encourage': 6, 'nancy': 6, 'intention': 6, 'spanish': 6, 'academic': 6, 'fly': 6, 'aware': 6, 'tap': 6, 'functional': 6, 'whitney': 6, 'hardly': 6, 'eric': 6, 'weave': 6, 'aim': 6, 'animal': 6, 'melody': 6, 'musically': 6, '5.1': 6, 'electronica': 6, 'adaptor': 6, 'luck': 6, 'booklet': 6, 'mainstream': 6, 'grip': 6, 'stellar': 6, 'memoir': 6, 'mainly': 6, '~': 6, 'knight': 6, 'tr': 6, 'garden': 6, 'justify': 6, 'poem': 6, 'sugar': 6, 'rdj': 6, 'virus': 6, 'poirot': 6, 'zoom': 6, 'batgirl': 6, 'julia': 6, 'dampener': 6, 'kick': 5, 'cultural': 5, 'fade': 5, 'penny': 5, 'ost': 5, 'favourite': 5, 'steal': 5, 'drivel': 5, 'grader': 5, 'honest': 5, 'interaction': 5, 'recieve': 5, 'overview': 5, 'muddy': 5, 'resolution': 5, 'sons': 5, 'generation': 5, 'shopping': 5, 'convenient': 5, 'cent': 5, 'minded': 5, 'heavily': 5, 'manual': 5, 'universal': 5, 'sp': 5, 'ep': 5, 'quit': 5, 'primarily': 5, 'par': 5, 'factory': 5, 'wise': 5, 'demand': 5, 'somebody': 5, 'theoretical': 5, 'mathematical': 5, 'cell': 5, 'score': 5, 'robert': 5, 'substantial': 5, 'americans': 5, 'christian': 5, 'sourdough': 5, 'channel': 5, 'bow': 5, 'substitute': 5, 'click': 5, 'prince': 5, 'awhile': 5, 'colorful': 5, 'spell': 5, 'happily': 5, 'and/or': 5, 'amazon.com': 5, 'piano': 5, 'math': 5, 'durability': 5, 'winter': 5, 'critic': 5, 'relief': 5, 'thoroughly': 5, 'confuse': 5, 'legend': 5, 'murderer': 5, 'conflict': 5, 'readable': 5, 'outstanding': 5, 'stuck': 5, 'possibility': 5, 'activity': 5, 'peanut': 5, 'constant': 5, 'japanese': 5, 'lebron': 5, 'reccommend': 5, 'libro': 5, 'cereal': 5, 'staple': 5, 'loop': 5, 'temperature': 5, 'affordable': 5, 'magazine': 5, 'married': 5, 'convert': 5, 'data': 5, 'log': 5, 'publication': 5, 'league': 5, 'directly': 5, 'catalog': 5, 'rub': 5, 'depict': 5, 'innocent': 5, 'grass': 5, 'gory': 5, 'nightmare': 5, 'boyfriend': 5, 'leather': 5, 'texas': 5, 'blonde': 5, 'engaging': 5, 'email': 5, 'reply': 5, 'stink': 5, 'cup': 5, 'sight': 5, 'lamp': 5, 'knob': 5, 'hey': 5, 'everybody': 5, 'suit': 5, 'wealth': 5, 'overlook': 5, 'remixe': 5, 'suspect': 5, 'stylish': 5, 'felt': 5, 'gets': 5, 'children': 5, 'investment': 5, 'protection': 5, 'handling': 5, 'chain': 5, 'remarkable': 5, 'instantly': 5, 'characterization': 5, 'dining': 5, 'report': 5, 'tha': 5, \"i've\": 5, 'pointless': 5, 'unhappy': 5, 'teen': 5, 'gas': 5, 'blind': 5, 'slight': 5, 'sheet': 5, 'extensively': 5, 'yo': 5, 'glider': 5, 'weld': 5, 'accent': 5, 'swing': 5, 'aluminum': 5, 'explore': 5, 'chase': 5, 'damn': 5, 'relatively': 5, 'spark': 5, 'editing': 5, 'intense': 5, 'dimensional': 5, 'personality': 5, 'labor': 5, 'wake': 5, 'streaming': 5, 'choppy': 5, 'getting': 5, 'tie': 5, 'road': 5, 'anti': 5, 'villain': 5, 'honor': 5, 'accuser': 5, 'lately': 5, 'crude': 5, 'behavior': 5, 'holmes': 5, 'i.e.': 5, 'wright': 5, 'unnecessary': 5, 'humour': 5, 'l': 5, 'wind': 5, 'inner': 5, 'hall': 5, 'charm': 5, 'occasion': 5, 'suitable': 5, 'assassination': 5, 'conspiracy': 5, 'laughable': 5, 'honesty': 5, 'mess': 5, 'unrealistic': 5, 'bookstore': 5, 'attachment': 5, 'quibble': 5, 'compelling': 5, 'satisfying': 5, 'park': 5, 'reverse': 5, 'majority': 5, 'straightforward': 5, 'libertarian': 5, 'outdated': 5, 'broken': 5, 'wwii': 5, 'cite': 5, 'reduce': 5, 'criticize': 5, 'chunk': 5, 'primary': 5, 'pin': 5, 'quirky': 5, 'south': 5, 'anthology': 5, 'bite': 5, 'magnetic': 5, 'boob': 5, 'blister': 5, 'bulge': 5, 'fold': 5, 'lbs': 5, 'underneath': 5, 'sew': 5, 'ur': 5, 'confused': 5, 'birth': 5, 'trap': 5, 'jacket': 5, 'alien': 5, 'scientist': 5, 'clever': 5, 'billy': 5, 'beep': 5, 'russia': 5, 'generous': 5, 'mission': 5, 'superficial': 5, 'successful': 5, 'narration': 5, 'huxley': 5, 'prynne': 5, 'dimmesdale': 5, 'statement': 5, 'alive': 5, 'thirty': 5, 'transaction': 5, 'occur': 5, 'fluff': 5, 'translate': 5, 'dislike': 5, 'profound': 5, 'bat': 5, 'landscape': 5, 'glance': 5, 'surprising': 5, 'degree': 5, 'affect': 5, 'vivid': 5, 'dense': 5, 'del': 5, 'childhood': 5, 'animation': 5, 'whitey': 5, 'strongly': 5, 'davey': 5, 'gross': 5, 'santa': 5, 'credit': 5, 'vehicle': 5, 'opening': 5, 'spinout': 5, 'listenable': 5, 'groove': 5, 'assemble': 5, 'based': 5, 'refill': 5, 'cap': 5, 'shoulder': 5, 'blast': 5, 'mars': 5, 'cope': 5, 'contribution': 5, 'queen': 5, 'department': 5, 'warner': 5, 'bros': 5, 'et': 5, 'upgrade': 5, 'rarely': 5, 'relax': 5, 'shut': 5, 'generic': 5, 'binchy': 5, 'mindcrime': 5, 'hitch': 5, 'emphasis': 5, 'palmistry': 5, 'palm': 5, 'poetry': 5, 'disney': 5, 'overwhelming': 5, 'grind': 5, 'fridge': 5, 'spice': 5, 'gorgeous': 5, 'historian': 5, 'scanner': 5, 'smoke': 5, 'sock': 5, 'states': 5, 'riff': 5, 'mexican': 5, 'diary': 5, 'shooter': 5, 'keyboard': 5, 'pistol': 5, 'scheme': 5, 'psi': 5, 'poe': 5, 'army': 5, 'garter': 5, 'gerald': 5, 'rake': 5, 'radiator': 5, 'christie': 5, 'trevor': 5, 'lewis': 5, 'earland': 5, 'cookbook': 5, 'stalingrad': 5, 'boxset': 5, 'bowl': 5, 'duality': 5, 'arular': 5, 'galang': 5, 'stratovarius': 5, 'il': 5, 'disagree': 4, 'scar': 4, 'beloved': 4, 'sea': 4, 'maintenance': 4, 'flashback': 4, 'jobst': 4, 'cue': 4, 'contrast': 4, 'command': 4, 'award': 4, 'japan': 4, 'retain': 4, 'foundation': 4, 'roy': 4, 'harsh': 4, 'greeting': 4, 'row': 4, 'pleasantly': 4, 'wanna': 4, 'germany': 4, 'jvc': 4, 'rely': 4, 'ugly': 4, 'capability': 4, 'input': 4, 'frequency': 4, 'steep': 4, 'proof': 4, 'introductory': 4, 'multiple': 4, 'equation': 4, 'utterly': 4, 'annoyed': 4, 'tremendous': 4, 'marker': 4, 'wipe': 4, 'lucid': 4, 'being': 4, \"i'd\": 4, 'windows': 4, 'lonely': 4, 'planet': 4, 'european': 4, 'france': 4, 'howard': 4, 'hunt': 4, 'flight': 4, 'hunter': 4, 'lightweight': 4, 'clark': 4, 'driver': 4, 'entertain': 4, 'attitude': 4, 'feedback': 4, 'thai': 4, 'offering': 4, 'girlfriend': 4, 'hamelin': 4, 'leadership': 4, 'leap': 4, 'necessary': 4, 'national': 4, 'unknown': 4, 'gym': 4, 'soulwax': 4, 'remix': 4, 'minimum': 4, 'map': 4, 'thrift': 4, 'birman': 4, 'sacred': 4, 'promote': 4, 'tess': 4, 'lindsay': 4, 'portable': 4, 'priceless': 4, 'tic': 4, 'toe': 4, 'parade': 4, 'erase': 4, 'equivalent': 4, 'lucky': 4, 'boredom': 4, 'poignant': 4, 'si': 4, 'mis': 4, 'es': 4, 'ex': 4, 'honey': 4, 'pursuit': 4, 'binding': 4, 'technology': 4, 'timber': 4, 'intelligent': 4, 'mile': 4, 'sketch': 4, 'st.': 4, 'request': 4, 'magnificent': 4, 'grandmother': 4, 'prompt': 4, 'songs': 4, 'synthesizer': 4, 'currently': 4, 'installation': 4, 'friendly': 4, 'steer': 4, 'al': 4, 'incrediblock': 4, 'spectacular': 4, 'thorough': 4, 'neighborhood': 4, 'official': 4, 'supernatural': 4, 'weekend': 4, 'equally': 4, 'melodic': 4, 'climb': 4, 'records': 4, 'ideal': 4, 'artec': 4, 'sky': 4, 'sailor': 4, 'truck': 4, 'lazy': 4, 'afternoon': 4, 'unreliable': 4, 'triple': 4, 'eforcity': 4, 'unfair': 4, 'jade': 4, 'rowan': 4, 'elegant': 4, 'obsess': 4, 'hello': 4, 'witches': 4, 'locate': 4, 'wade': 4, 'overly': 4, 'sorely': 4, 'distant': 4, 'mad': 4, 'compel': 4, 'celebration': 4, 'anniversary': 4, 'back': 4, 'severe': 4, 'french': 4, 'fry': 4, 'hearing': 4, 'cleaner': 4, 'patient': 4, 'prepared': 4, 'skinny': 4, 'chemical': 4, 'usage': 4, 'evident': 4, 'bob': 4, 'extraordinary': 4, 'bruno': 4, 'obsession': 4, 'lousy': 4, 'meat': 4, 'fond': 4, 'vast': 4, 'financial': 4, 'ghetto': 4, 'hood': 4, 'chopper': 4, 'bling': 4, 'boys': 4, 'belive': 4, 'iz': 4, 'em': 4, 'shit': 4, 'logic': 4, 'suggestion': 4, 'awsome': 4, 'intermediate': 4, 'related': 4, 'amazingly': 4, 'provoke': 4, 'pot': 4, 'drawer': 4, 'hurry': 4, 'enjoyment': 4, '=': 4, 'lawrence': 4, 'bollywood': 4, 'sequence': 4, 'bind': 4, 'avid': 4, 'suspenseful': 4, 'halfway': 4, 'secondary': 4, 'carpathian': 4, 'mia': 4, 'wonderfully': 4, 'lets': 4, 'psychology': 4, 'cam': 4, 'frankly': 4, 'warranty': 4, 'primer': 4, 'improvement': 4, 'faux': 4, 'cloth': 4, 'ipad': 4, 'dive': 4, 'd': 4, 'thriller': 4, 'fate': 4, 'wooden': 4, 'albeit': 4, 'protagonist': 4, 'underlie': 4, 'cassette': 4, 'execute': 4, 'potter': 4, 'insightful': 4, 'lively': 4, 'jeez': 4, 'judd': 4, 'rogen': 4, 'illness': 4, 'immature': 4, 'underrated': 4, 'jim': 4, 'drift': 4, 'sandlers': 4, 'gilmore': 4, 'altogether': 4, 'normally': 4, 'working': 4, 'provoking': 4, 'comic': 4, 'potentially': 4, 'habit': 4, 'religious': 4, 'president': 4, 'jfk': 4, 'article': 4, 'fairy': 4, 'indie': 4, 'ap': 4, 'apparent': 4, 'understandable': 4, 'chicken': 4, 'inevitable': 4, 'virginia': 4, 'irony': 4, 'contrive': 4, 'hooked': 4, 'implausible': 4, 'insult': 4, 'intelligence': 4, 'deaf': 4, 'prevent': 4, 'closure': 4, 'compliment': 4, 'fireplace': 4, 'colour': 4, 'worthless': 4, 'objective': 4, 'unexplained': 4, 'northern': 4, 'economy': 4, 'expression': 4, 'mental': 4, 'fancy': 4, 'nation': 4, 'dose': 4, 'biased': 4, 'nonsense': 4, 'starting': 4, 'failure': 4, 'yesterday': 4, 'meter': 4, 'women': 4, 'techno': 4, 'brave': 4, 'comprehend': 4, 'stable': 4, 'vertical': 4, 'compact': 4, 'enthusiast': 4, 'boning': 4, 'steel': 4, 'curvy': 4, 'waistline': 4, 'upset': 4, 'fraction': 4, 'measurement': 4, 'cinch': 4, 'concentrate': 4, 'naturally': 4, 'downside': 4, 'slide': 4, 'bent': 4, 'tank': 4, 'min': 4, 'resolve': 4, 'pinch': 4, 'trainer': 4, 'poke': 4, 'washing': 4, 'lol': 4, 'stitch': 4, 'visible': 4, 'fray': 4, 'respond': 4, 'breathe': 4, 'dear': 4, 'correctly': 4, 'prospect': 4, 'seemingly': 4, 'scientific': 4, 'confirm': 4, 'venus': 4, 'rendition': 4, 'continually': 4, 'sink': 4, 'drunk': 4, 'bless': 4, 'forgive': 4, 'whack': 4, 'doc': 4, 'supposedly': 4, 'dust': 4, 'drown': 4, 'u.s.': 4, 'oil': 4, 'correspondence': 4, 'tom': 4, 'frozen': 4, '11th': 4, 'lit': 4, 'punish': 4, 'physical': 4, 'soap': 4, 'democracy': 4, 'scarlett': 4, 'internal': 4, 'classroom': 4, 'reread': 4, 'quiz': 4, 'mildly': 4, 'symbol': 4, 'tragedy': 4, 'twain': 4, 'puritans': 4, 'gather': 4, 'exceed': 4, 'assign': 4, 'cliff': 4, 'touching': 4, 'wordy': 4, 'boston': 4, 'relation': 4, 'hd': 4, 'duty': 4, 'unlikely': 4, 'bang': 4, 'grief': 4, 'vastly': 4, 'versus': 4, 'mass': 4, 'sue': 4, 'therapy': 4, 'telling': 4, 'bookshelf': 4, 'muy': 4, 'news': 4, 'anchor': 4, 'cleaning': 4, 'safety': 4, 'generator': 4, 'delicate': 4, 'circuit': 4, 'witty': 4, 'defeat': 4, 'les': 4, 'chick': 4, 'stylus': 4, 'funk': 4, 'recognition': 4, 'spill': 4, 'ta': 4, 'furniture': 4, 'compile': 4, 'neat': 4, 'cook': 4, 'strike': 4, 'jensen': 4, 'w': 4, 'garage': 4, 'sample': 4, 'retriever': 4, 'assure': 4, 'manufacturer': 4, 'heel': 4, 'banana': 4, 'beer': 4, 'impact': 4, 'dreams': 4, 'elementary': 4, 'hawtin': 4, 'minimalist': 4, 'disappear': 4, 'sharp': 4, 'accessory': 4, 'minus': 4, 'pun': 4, 'outer': 4, 'abuse': 4, 'hassle': 4, 'bargain': 4, 'fragile': 4, 'stat': 4, 'observation': 4, 'queensryche': 4, 'operation': 4, 'sport': 4, 'madonna': 4, 'functionality': 4, 'colonel': 4, 'knox': 4, 'river': 4, 'blank': 4, 'reprint': 4, 'hammer': 4, 'absorb': 4, 'tension': 4, 'east': 4, 'quantity': 4, 'university': 4, 'hyper': 4, 'clinic': 4, 'inspirational': 4, 'mono': 4, 'united': 4, 'constitution': 4, 'immortal': 4, 'dome': 4, 'parton': 4, 'tout': 4, 'haunt': 4, 'bet': 4, 'amazed': 4, 'spellbinder': 4, 'dynamic': 4, 'nightworld': 4, 'cincinnati': 4, 'reds': 4, 'delay': 4, 'splinter': 4, 'stall': 4, 'lurpak': 4, 'scatter': 4, 'rts': 4, 'sum': 4, 'differential': 4, 'ordinary': 4, 'rhythm': 4, 'blonder': 4, 'demo': 4, 'paige': 4, 'hospital': 4, 'tequila': 4, 'shorten': 4, 'arabic': 4, 'monitor': 4, 'poet': 4, 'detector': 4, 'ul': 4, 'te': 4, 'mongol': 4, 'vegetarian': 4, 'bernstein': 4, 'detergent': 4, 'hayward': 4, 'luftwaffe': 4, 'avc': 4, 'bd-50running': 4, 'bytesdisc': 4, 'bytesaverage': 4, 'mbpsdolby': 4, 'truehd': 4, 'pitchshifter': 4, 'phenomena': 4, 'paranoid': 4, 'colorwave': 4, 'rockaway': 4, 'le': 4, 'avec': 4, 'welch': 4, 'refuse': 3, 'chrono': 3, 'orchestra': 3, 'stars': 3, 'evening': 3, 'contest': 3, 'embarrassed': 3, 'intentional': 3, '7th': 3, 'grammatical': 3, 'lean': 3, 'pencil': 3, 'stumble': 3, 'garment': 3, 'court': 3, 'bridge': 3, 'immediate': 3, 'mm': 3, 'wardell': 3, 'excess': 3, 'fad': 3, 'orbison': 3, 'aaa': 3, 'mechanism': 3, 'horizontal': 3, 'bye': 3, 'disposable': 3, 'join': 3, 'technically': 3, 'scroll': 3, 'orange': 3, 'incorrect': 3, 'versatile': 3, 'atrocious': 3, 'engineer': 3, 'bothersome': 3, 'creator': 3, 'unrelated': 3, 'trailer': 3, 'jail': 3, 'insider': 3, 'homework': 3, 'utilize': 3, 'spread': 3, 'glean': 3, 'genuine': 3, 'refreshing': 3, 'novice': 3, 'fm': 3, 'layout': 3, 'capable': 3, 'invaluable': 3, 'extensive': 3, 'candy': 3, 'eyewitness': 3, 'publishing': 3, 'tour': 3, 'access': 3, 'bond': 3, 'fellow': 3, 'distance': 3, 'scrape': 3, 'noticeable': 3, 'loosely': 3, 'sole': 3, 'rapunzel': 3, 'princess': 3, 'maze': 3, 'redundant': 3, 'chore': 3, 'wand': 3, 'existent': 3, 'menu': 3, 'confess': 3, 'exceptional': 3, 'portrait': 3, 'southern': 3, 'california': 3, 'tad': 3, 'topper': 3, 'estimate': 3, 'july': 3, '90': 3, 'chock': 3, 'electro': 3, 'garner': 3, 'practically': 3, 'caution': 3, 'courage': 3, 'toddler': 3, 'tac': 3, 'opponent': 3, 'mindset': 3, 'grandparent': 3, 'vacation': 3, 'kelly': 3, 'pet': 3, 'width': 3, 'playstation': 3, 'cuz': 3, 'punk': 3, 'stephen': 3, 'f.': 3, 'jones': 3, 'obstacle': 3, 'lo': 3, 'mi': 3, 'fruit': 3, 'builder': 3, 'shrink': 3, 'racing': 3, 'mini': 3, 'excitement': 3, 'representation': 3, 'francis': 3, 'cushion': 3, 'isaac': 3, 'bashevis': 3, 'prize': 3, 'realise': 3, 'growth': 3, 'charming': 3, 'imply': 3, 'session': 3, 'k': 3, 'undecided': 3, 'basis': 3, 'mb': 3, 'draft': 3, 'joe': 3, 'phil': 3, 'adorable': 3, 'vibrate': 3, 'dummy': 3, 'sore': 3, 'molly': 3, 'ism': 3, 'bias': 3, 'establish': 3, 'maintain': 3, 'lawn': 3, 'summarize': 3, 'logo': 3, 'boss': 3, 'blame': 3, 'curious': 3, 'travesty': 3, 'slasher': 3, 'jennifer': 3, 'typically': 3, 'motivation': 3, 'entry': 3, 'territory': 3, 'bernie': 3, 'williams': 3, 'cameo': 3, 'fiance': 3, 'finale': 3, 'fundamental': 3, 'equal': 3, 'warcraft': 3, 'hillage': 3, 'document': 3, 'pursue': 3, 'contrary': 3, 'spine': 3, 'rotate': 3, \"l'oreal\": 3, 'fake': 3, 'memorial': 3, 'justice': 3, 'imagery': 3, 'mount': 3, 'supplier': 3, 'stream': 3, 'l.': 3, 'j.': 3, 'kestrel': 3, 'l.j.': 3, 'bleed': 3, 'decipher': 3, 'awake': 3, 'convincing': 3, 'pulse': 3, 'jr.': 3, 'mindless': 3, '2.5': 3, 'dinner': 3, 'engine': 3, 'footage': 3, 'solely': 3, 'fortunate': 3, 'frustrated': 3, 'camp': 3, 'apathetic': 3, 'camper': 3, 'round': 3, 'youngster': 3, 'apc': 3, 'protector': 3, 'notebook': 3, 'slack': 3, 'waistband': 3, 'fashioned': 3, 'cafe': 3, 'analytical': 3, 'exposition': 3, 'sympathize': 3, 'passionate': 3, 'hungry': 3, 'remarkably': 3, 'accounting': 3, 'heap': 3, 'brush': 3, 'contribute': 3, 'bounce': 3, 'b.g.': 3, 'boyz': 3, 'uncle': 3, 'bomb': 3, 'intro': 3, \"ya'll\": 3, 'sayin': 3, 'ha': 3, 'flower': 3, 'tomorrow': 3, 'w/': 3, 'resist': 3, 'index': 3, 'career': 3, 'advantage': 3, 'developer': 3, 'thoughtful': 3, 'contemporary': 3, 'forge': 3, 'boundary': 3, 'australia': 3, 'crank': 3, 'rearrange': 3, 'tighten': 3, 'strip': 3, 'packed': 3, 'shipment': 3, 'kushner': 3, 'srk': 3, 'yell': 3, 'bickering': 3, 'reconciliation': 3, 'comprise': 3, 'blues': 3, 'bedtime': 3, 'rivet': 3, 'gothic': 3, 'don': 3, 'sitting': 3, 'bride': 3, 'pat': 3, 'characteristic': 3, 'devote': 3, '1/4': 3, 'underdeveloped': 3, 'violent': 3, 'tender': 3, 'preference': 3, 'transformation': 3, 'wet': 3, 'severely': 3, 'bitter': 3, 'soo': 3, 'lite': 3, 'protective': 3, 'heal': 3, 'sympathetic': 3, 'missing': 3, 'dazzle': 3, 'overseas': 3, 'auto': 3, 'frustrate': 3, 'disapointing': 3, 'barrel': 3, 'distortion': 3, 'implement': 3, 'distribution': 3, 'messy': 3, 'flake': 3, 'semi': 3, 'brat': 3, 'taut': 3, 'nazi': 3, 'criminal': 3, 'dump': 3, 'examiner': 3, 'hack': 3, 'stimulate': 3, 'trite': 3, 'innuendo': 3, 'trace': 3, 'likeable': 3, 'dot': 3, 'threaten': 3, 'suspend': 3, 'sudden': 3, 'robyn': 3, 'finger': 3, 'professor': 3, 'goodness': 3, 'nobleman': 3, 'viewer': 3, 'unfunny': 3, 'consume': 3, 'up': 3, 'applicable': 3, 'lastly': 3, 'sadler': 3, 'drug': 3, 'fer': 3, 'patch': 3, 'examine': 3, 'circle': 3, 'oddly': 3, 'marketing': 3, 'g': 3, 'offensive': 3, 'adultry': 3, 'enhance': 3, 'secular': 3, 'parallel': 3, 'civilization': 3, 'nyc': 3, 'torah': 3, 'lovable': 3, 'crisis': 3, 'observant': 3, 'delve': 3, 'spiral': 3, 'pagan': 3, 'lifestyle': 3, 'appealing': 3, 'fraud': 3, 'unsatisfying': 3, 'promising': 3, 'testing': 3, 'displeasure': 3, 'adjective': 3, 'outcome': 3, 'discourage': 3, 'credibility': 3, 'bizarre': 3, 'suprise': 3, 'inconsistent': 3, 'muse': 3, 'behave': 3, 'definitive': 3, 'dumb': 3, 'storyteller': 3, 'visa': 3, 'fluid': 3, 'exhaust': 3, 'chronological': 3, 'nonetheless': 3, 'vibration': 3, 'grasp': 3, 'principle': 3, 'reconsider': 3, 'lincoln': 3, 'perceive': 3, 'pamphlet': 3, 'taxis': 3, 'simplify': 3, 'settle': 3, 'ratio': 3, 'economist': 3, 'valid': 3, 'politician': 3, 'btw': 3, 'austrian': 3, 'ron': 3, 'paul': 3, 'peter': 3, 'gap': 3, 'socialist': 3, 'ease': 3, 'survive': 3, 'copyright': 3, 'faulty': 3, 'agenda': 3, 'obsolete': 3, 'tl': 3, 'separately': 3, 'san': 3, 'francisco': 3, 'origin': 3, 'private': 3, 'linda': 3, 'virtually': 3, 'transport': 3, 'smoothly': 3, 'tire': 3, 'rib': 3, 'upper': 3, 'rid': 3, 'bust': 3, 'trimmer': 3, 'itchy': 3, 'bruise': 3, 'sized': 3, 'shortly': 3, 'crunch': 3, 'disapointe': 3, 'muffin': 3, '5x': 3, 'surgery': 3, 'stab': 3, 'interior': 3, 'wiggle': 3, 'clasp': 3, 'lingerie': 3, 'wound': 3, 'warp': 3, 'overwhelmed': 3, 'mold': 3, 'exceptionally': 3, 'thread': 3, 'esteem': 3, 'skeptical': 3, 'rood': 3, 'trefil': 3, 'extraterrestrial': 3, 'conventional': 3, 'seti': 3, 'grandkid': 3, 'everytime': 3, 'stainless': 3, 'microwave': 3, 'martin': 3, 'ponder': 3, 'undermine': 3, 'd.': 3, 'previously': 3, 'taylor': 3, 'van': 3, 'jazzy': 3, 'tooth': 3, 'russian': 3, 'efficiently': 3, '5th': 3, 'hesitate': 3, 'clancy': 3, 'terrific': 3, 'strain': 3, 'heritage': 3, 'aged': 3, 'harry': 3, 'outline': 3, 'atmosphere': 3, 'shall': 3, 'distinct': 3, 'q.': 3, 'lounge': 3, 'herbal': 3, 'cure': 3, 'undeniable': 3, 'reminder': 3, 'patience': 3, \"didn't\": 3, 'stake': 3, 'isbn': 3, 'definition': 3, 'abbreviate': 3, 'awe': 3, '17th': 3, 'accurately': 3, 'pretentious': 3, 'carefully': 3, 'irrelevant': 3, 'beg': 3, 'void': 3, 'scandalous': 3, 'verbose': 3, 'challenging': 3, 'column': 3, 'incident': 3, 'dover': 3, 'ultra': 3, 'hawthorn': 3, 'scandal': 3, 'complicate': 3, 'thou': 3, 'hint': 3, 'thematic': 3, 'significant': 3, 'television': 3, 'disaster': 3, 'fist': 3, 'chillingworth': 3, 'glimpse': 3, 'moore': 3, 'grand': 3, 'overrate': 3, 'reject': 3, 'allude': 3, 'palatable': 3, 'lightly': 3, 'greatly': 3, 'tempt': 3, 'hat': 3, 'acceptable': 3, 'determine': 3, 'disgusting': 3, 'wander': 3, 'believer': 3, 'tomatoes': 3, 'munchkin': 3, 'compartment': 3, 'bpa': 3, 'deceive': 3, 'filling': 3, 'involvement': 3, 'brutal': 3, 'laos': 3, 'discount': 3, 'pretend': 3, 'offend': 3, 'snl': 3, 'deer': 3, 'distort': 3, 'withstand': 3, 'soften': 3, 'madison': 3, 'animate': 3, 'dreadful': 3, 'carol': 3, 'drummer': 3, 'b-3': 3, 'attest': 3, 'b.': 3, 'pacific': 3, 'top': 3, 'kidcraft': 3, 'aspects': 3, 'activate': 3, 'notify': 3, 'scale': 3, 'pup': 3, 'bird': 3, 'virtual': 3, 'lip': 3, 'lunchbox': 3, 'stain': 3, 'oz': 3, 'purse': 3, 'pare': 3, 'songwriting': 3, 'bland': 3, 'gameplay': 3, 'autism': 3, 'gloria': 3, 'polished': 3, 'linear': 3, 'tack': 3, 'aural': 3, 'sonic': 3, 'identify': 3, 'considerable': 3, 'loosen': 3, 'progressive': 3, 'spectrum': 3, 'w/o': 3, 'sparse': 3, 'christmastime': 3, 'december': 3, 'gripe': 3, 'pan': 3, 'masterful': 3, 'toss': 3, 'schulz': 3, 'launch': 3, 'nail': 3, 'charles': 3, 'meaningful': 3, 'construct': 3, 'cumbersome': 3, 'flawed': 3, 'bulky': 3, 'brighten': 3, 'tightly': 3, 'disconnect': 3, 'fiddle': 3, 'flicker': 3, 'wattage': 3, 'continuously': 3, 'flawlessly': 3, 'emit': 3, 'closed': 3, 'aesthetically': 3, 'pleasing': 3, 'off': 3, 'electrical': 3, 'grain': 3, 'backpack': 3, 'powercord': 3, 'um': 3, 'dim': 3, 'tribe': 3, 'livecrime': 3, 'brian': 3, 'manufacture': 3, 'north': 3, 'defect': 3, 'dine': 3, 'moderately': 3, 'competent': 3, 'incomplete': 3, 'unclear': 3, 'chill': 3, 'mistress': 3, 'inaccurate': 3, 'outsider': 3, 'admirable': 3, 'bender': 3, '\"what': 3, 'bread': 3, 'stance': 3, 'revise': 3, 'globe': 3, 'gum': 3, 'raw': 3, 'bp': 3, 'unfamiliar': 3, 'churchill': 3, 'emperor': 3, 'ambition': 3, 'lesbian': 3, 'memphis': 3, 'guest': 3, 'furs': 3, 'hitchcock': 3, 'in2': 3, 'primitive': 3, 'goddess': 3, 'dude': 3, 'desperate': 3, 'anticipate': 3, 'google': 3, 'iphone': 3, 'cowboy': 3, 'nelson': 3, 'pity': 3, 'existence': 3, 'thousand': 3, 'darn': 3, 'descriptor': 3, 'rules': 3, 'diameter': 3, 'archie': 3, 'ballad': 3, 'thunder': 3, 'lyrical': 3, 'tu': 3, 'vargas': 3, 'alas': 3, 'huh': 3, 'winthrop': 3, 'bubble': 3, 'spite': 3, 'developed': 3, 'wild': 3, 'robinson': 3, 'additionally': 3, 'glitchy': 3, 'clue': 3, 'unplayable': 3, 'mcculloch': 3, 'hardware': 3, 'pantyhose': 3, 'skimpy': 3, 'cultured': 3, 'winchester': 3, 'inspiring': 3, 'unexpected': 3, 'erotica': 3, 'dawn': 3, 'crook': 3, 'clip': 3, 'leaf': 3, 'vision': 3, 'gifted': 3, 'borred': 3, 'tin': 3, '50': 3, 'merely': 3, 'rope': 3, 'troop': 3, 'expert': 3, 'equations': 3, 'solo': 3, 'afx': 3, 'ragga': 3, 'muffs': 3, 'amusing': 3, 'mexico': 3, 'badge': 3, 'silicone': 3, 'cienfuegos': 3, 'ranger': 3, 'indians': 3, 'stove': 3, 'shovel': 3, 'j': 3, 'addictive': 3, 'cheat': 3, 'profit': 3, 'bb': 3, 'mortgage': 3, 'bank': 3, 'pool': 3, 'divorce': 3, 'ross': 3, 'maaya': 3, 'meditation': 3, 'sticker': 3, 'wars': 3, 'ounce': 3, 'succeed': 3, 'vocab': 3, 'buckley': 3, 'consistent': 3, 'mellow': 3, 'parsifal': 3, 'drupal': 3, 'karaoke': 3, 'locket': 3, 'guidance': 3, 'crossbow': 3, 'transmission': 3, 'dean': 3, 'tibetan': 3, 'subtitle': 3, 'yoga': 3, 'saturday': 3, 'excuse': 3, 'sharpen': 3, 'skirt': 3, 'superhero': 3, 'remnick': 3, 'flick': 3, 'makeup': 3, 'z': 3, 'bake': 3, 'korean': 3, 'a.f.': 3, 'flusser': 3, 'establishment': 3, 'glucose': 3, 'carb': 3, 'hocking': 3, 'hitler': 3, 'ww': 3, 'airlift': 3, 'librero': 3, 'dancer': 3, 'secondly': 3, 'hotel': 3, 'toby': 3, 'mcguyre': 3, 'andrew': 3, 'imovie': 3, 'industrial': 3, 'lyrically': 3, 'listener': 3, 'found': 3, 'philosophical': 3, 'disjoint': 3, 'prophecy': 3, 'asian': 3, 'kundera': 3, 'noritake': 3, 'phosphate': 3, 'plourde': 3, 'goth': 3, 'wishmaster': 3, 'faite': 3, 'est': 3, 'une': 3, 'allyn': 3, 'tent': 3, 'wolf': 3, 'gag': 2, 'reall': 2, 'gut': 2, 'yasunori': 2, 'haddon': 2, 'worst': 2, 'relative': 2, 'coastal': 2, 'hysterical': 2, 'handed': 2, 'pitcher': 2, 'sponsor': 2, 'sizzling': 2, 'shift': 2, 'sun': 2, 'dropping': 2, 'corner': 2, 'dealer': 2, 'crystal': 2, 'mist': 2, 'captain': 2, 'daughters': 2, 'preserve': 2, 'bombard': 2, 'duct': 2, 'crayon': 2, 'k6000': 2, 'recharge': 2, 'capacity': 2, 'armando': 2, 'tongue': 2, 'euro': 2, 'ass': 2, 'cologne': 2, 'intuitive': 2, 'clock': 2, 'drawback': 2, 'hte': 2, 'saddle': 2, 'noisy': 2, 'hardcover': 2, 'snapshot': 2, 'barney': 2, 'signal': 2, 'repeatedly': 2, 'lion': 2, 'firstly': 2, 'admission': 2, 'lsat': 2, 'aid': 2, 'hanger': 2, 'disgust': 2, 'piper': 2, 'glory': 2, 'christ': 2, 'meaty': 2, 'youth': 2, 'leader': 2, 'os': 2, 'alaska': 2, 'counter': 2, 'rattle': 2, 'loudly': 2, 'engineering': 2, '<': 2, 'hesitant': 2, 'shipper': 2, 'lcd': 2, 'anytime': 2, 'disadvantage': 2, 'offset': 2, 'rick': 2, 'abridge': 2, 'poland': 2, 'republic': 2, 'duke': 2, 'gimmick': 2, 'archer': 2, 'campfire': 2, 'autograph': 2, 'inferior': 2, 'stefan': 2, 'midway': 2, 'delete': 2, 'restore': 2, 'decorate': 2, 'retrieve': 2, 'hundred': 2, 'scent': 2, 'dubbing': 2, 'kn': 2, 'untill': 2, 'anxiously': 2, 'concerto': 2, 'frog': 2, 'bus': 2, 'known': 2, 'adida': 2, 'roomy': 2, 'june': 2, 'apologize': 2, 'mishap': 2, 'nite': 2, 'duran': 2, 'rave': 2, 'prelude': 2, 'karen': 2, 'cummings': 2, 'tailor': 2, 'enable': 2, 'breeder': 2, 'colin': 2, 'token': 2, 'loyalty': 2, 'tremendously': 2, 'needed': 2, 'competitor': 2, 'interactive': 2, 'companion': 2, 'respectful': 2, 'participant': 2, 'gobble': 2, 'reward': 2, 'annie': 2, 'soooo': 2, 'transition': 2, 'euromix': 2, 'unheard': 2, 'jam': 2, 'deprivation': 2, 'montgomery': 2, 'michael': 2, 'miller': 2, 'poverty': 2, 'este': 2, 'todo': 2, 'sus': 2, 'hasta': 2, 'whim': 2, 'dated': 2, 'beam': 2, 'vaguely': 2, 'breeze': 2, 'dip': 2, 'boiling': 2, 'egg': 2, 'explicit': 2, 'diversion': 2, 'themed': 2, 'outrun2': 2, 'replay': 2, 'speedy': 2, 'pyrography': 2, 'desing': 2, 'rose': 2, 'saint': 2, 'gel': 2, 'deserved': 2, 'nobel': 2, 'stories': 2, 'seance': 2, 'sinner': 2, 'mate': 2, 'liking': 2, 'flexibility': 2, 'jealousy': 2, 'modernize': 2, 'marketplace': 2, 'nudge': 2, 'starlite': 2, 'singers': 2, 'wave': 2, 'handycam': 2, 'polite': 2, 'dial': 2, 'troubleshoot': 2, 'yep': 2, 'subscription': 2, 'declare': 2, 'slippery': 2, 'fisher': 2, 'twins': 2, 'dissapointe': 2, 'peek': 2, 'dissapointing': 2, 'horribly': 2, 'nifty': 2, 'toned': 2, 'overweight': 2, 'mild': 2, 'myers': 2, 'rachel': 2, 'organization': 2, 'dedicate': 2, 'violence': 2, 'weapon': 2, 'disorganize': 2, 'disorganized': 2, 'fx': 2, 'serial': 2, 'accuse': 2, 'muscle': 2, 'deloach': 2, 'colletti': 2, 'haunted': 2, 'bury': 2, 'celebrate': 2, 'c.': 2, 'shocking': 2, 'pacing': 2, 'buffoon': 2, 'ill': 2, 'curtis': 2, 'ambient': 2, 'joyous': 2, 'experiment': 2, 'liquid': 2, 'remastered': 2, 'approx': 2, 'pic': 2, 'potion': 2, 'rockin': 2, 'outfit': 2, 'kaguya': 2, 'shima': 2, 'densetsu': 2, 'fumina': 2, 'hara': 2, 'everlasting': 2, 'etch': 2, 'somber': 2, 'quietly': 2, 'introspective': 2, 'sunday': 2, 'basement': 2, 'grope': 2, 'cop': 2, 'partially': 2, 'til': 2, 'oregon': 2, 'l.j': 2, 'jeremy': 2, 'misunderstood': 2, 'kestral': 2, 'vanilla': 2, 'gimme': 2, 'sake': 2, 'ihave': 2, 'revolve': 2, 'singular': 2, 'bout': 2, '>': 2, 'fierce': 2, 'helpless': 2, 'vampires': 2, 'diaries': 2, 'addict': 2, 'ink': 2, 'finished': 2, 'solve': 2, 'games': 2, 'yout': 2, 'obligation': 2, 'endlessly': 2, 'concentration': 2, 'colonial': 2, 'minogue': 2, 'forte': 2, 'kylie': 2, 'noteworthy': 2, 'friends': 2, 'rambling': 2, 'amount': 2, 'bought': 2, 'fo': 2, 'sampler': 2, '10th': 2, 'infect': 2, 'thinly': 2, 'disguise': 2, 'awfully': 2, 'nashville': 2, 'anarchist': 2, 'p1': 2, '120v': 2, 'surge': 2, 'expansion': 2, 'announce': 2, 'vary': 2, 'merchant': 2, 'adjustment': 2, 'rear': 2, 'hefty': 2, 'walmart': 2, 'chemistry': 2, 'scope': 2, 'assurance': 2, 'environmental': 2, 'porn': 2, 'waiter': 2, 'jerk': 2, 'unaware': 2, 'inappropriate': 2, 'eater': 2, 'vulgar': 2, 'capella': 2, 'pastime': 2, 'textured': 2, 'mba': 2, 'thang': 2, 'cashmoneys': 2, 'dis': 2, 'i`m': 2, 'gettin': 2, 'compared': 2, 'chronic': 2, 'industry': 2, 'skit': 2, 'wack': 2, 'thi': 2, 'warfare': 2, 'satin': 2, 'longest': 2, 'progress': 2, 'responsible': 2, 'worker': 2, 'weib': 2, 'cgi': 2, 'browser': 2, 'font': 2, 'melting': 2, 'temp': 2, 'nw': 2, 'dampen': 2, 'spray': 2, 'symphony': 2, 'gamer': 2, 'throat': 2, 'relieve': 2, 'gauge': 2, 'unwrap': 2, 'aesthetic': 2, 'weather': 2, 'eerie': 2, 'heavenly': 2, 'boone': 2, 'expo': 2, 'efficient': 2, 'jacob': 2, 'beth': 2, 'momentum': 2, 'scenery': 2, 'degrade': 2, 'behaviour': 2, 'woo': 2, 'khan': 2, 'yearly': 2, 'critter': 2, 'eager': 2, 'temper': 2, 'empathy': 2, 'plentiful': 2, 'ms': 2, 'detract': 2, 'mushy': 2, 'desperately': 2, 'independence': 2, 'bog': 2, 'smoking': 2, 'appetite': 2, 'wonderfull': 2, 'giovanni': 2, 'divert': 2, 'creepy': 2, 'medival': 2, 'pixela': 2, 'steam': 2, 'mpeg-1': 2, 'processing': 2, 'novelty': 2, 'steady': 2, 'microphone': 2, 'analog': 2, 'output': 2, 'blur': 2, 'peel': 2, 'wiske': 2, 'nest': 2, 'characterisation': 2, 'refreshingly': 2, 'coroner': 2, 'heath': 2, 'whiney': 2, '2/3': 2, 'jersey': 2, 'collapse': 2, 'cornwall': 2, 'stopping': 2, 'differently': 2, 'symptom': 2, 'reaction': 2, 'accusation': 2, 'waddell': 2, 'swerve': 2, 'peak': 2, 'showdown': 2, 'letdown': 2, 'ingenuity': 2, 'buddy': 2, 'guarantee': 2, 'loved': 2, 'lacking': 2, 'offence': 2, 'synopsis': 2, 'eddie': 2, 'unimportant': 2, 'prime': 2, 'medieval': 2, 'trial': 2, 'supporter': 2, 'injustice': 2, 'shell': 2, 'goofy': 2, 'aristocrat': 2, 'crudeness': 2, 'dirty': 2, 'trashy': 2, 'lackluster': 2, 'barrage': 2, 'unlikable': 2, 'aml': 2, 'hire': 2, 'nudity': 2, 'fare': 2, 'chuckle': 2, 'virgin': 2, 'conversation': 2, 'har': 2, 'dick': 2, 'artsy': 2, 'spotlight': 2, 'humorless': 2, 'loser': 2, 'stoop': 2, 'lower': 2, 'sexuality': 2, 'moron': 2, 'retard': 2, 'thankful': 2, 'cookie': 2, 'cutter': 2, 'privy': 2, 'marshall': 2, 'safr': 2, 'contract': 2, 'fictional': 2, 'daniel': 2, 'fanciful': 2, 'unpleasant': 2, 'exhibit': 2, 'strictly': 2, 'hypocrite': 2, 'humanist': 2, 'stereotypical': 2, 'disrespect': 2, 'chronicle': 2, 'silence': 2, '-the': 2, 'jackie': 2, 'bs': 2, 'stern': 2, 'competion': 2, 'minneapolis': 2, 'abruptly': 2, 'villian': 2, 'adequately': 2, 'genetic': 2, 'scarpetti': 2, 'lucie': 2, 'acquaint': 2, 'tripe': 2, 'snob': 2, 'engross': 2, 'quarter': 2, 'cliched': 2, 'grit': 2, 'terror': 2, 'reign': 2, 'definetly': 2, 'roller': 2, 'benton': 2, 'janet': 2, 'foreshadowing': 2, 'strict': 2, 'specialty': 2, 'subway': 2, 'believability': 2, 'possess': 2, 'constraint': 2, 'plausible': 2, 'involved': 2, 'enforcement': 2, 'prison': 2, 'transit': 2, 'pit': 2, 'circumstance': 2, 'coloured': 2, 'illuminate': 2, 'percentage': 2, 'massager': 2, 'finding': 2, 'ignorant': 2, 'advance': 2, 'excerpt': 2, 'broad': 2, 'million': 2, 'expand': 2, 'kentucky': 2, 'vote': 2, 'intervention': 2, 'fallacy': 2, 'significantly': 2, 'rand': 2, 'global': 2, 'mandatory': 2, 'fixation': 2, 'wage': 2, 'measure': 2, 'anger': 2, 'polemic': 2, 'paraphrase': 2, 'diminish': 2, 'recession': 2, 'permanently': 2, 'increase': 2, 'revolutionary': 2, 'arcane': 2, 'expense': 2, 'laud': 2, 'spending': 2, 'remedy': 2, 'heilbroner': 2, 'taxation': 2, 'reinforce': 2, 'regulation': 2, 'organise': 2, 'klein': 2, 'complexity': 2, 'liberal': 2, 'hardcore': 2, 'micro': 2, 'macro': 2, 'obscure': 2, 'intent': 2, 'pende': 2, 'depression': 2, 'merchandise': 2, 'legacy': 2, 'infinite': 2, 'grant': 2, 'evolution': 2, 'profile': 2, 'plant': 2, 'myth': 2, 'bagdad': 2, 'café': 2, 'emerge': 2, 'cinematography': 2, 'actress': 2, 'surreal': 2, 'kiddie': 2, 'worrier': 2, 'maiden': 2, 'giant': 2, 'incomprehensible': 2, 'possession': 2, 'successfully': 2, 'reissue': 2, 'anne': 2, 'fudge': 2, 'busty': 2, 'bra': 2, 'pronounced': 2, 'extend': 2, 'hrs': 2, 'rubbery': 2, 'detect': 2, 'opt': 2, \"5'2\": 2, 'helps': 2, 'trim': 2, 'itch': 2, 'flexible': 2, 'welp': 2, 'proportion': 2, 'unnatural': 2, 'spare': 2, 'hourglass': 2, 'clincher': 2, 'surely': 2, 'quailty': 2, 'ribbing': 2, 'uncomfortably': 2, 'itcan': 2, 'fighting': 2, 'latch': 2, 'flatten': 2, 'bruising': 2, '3x': 2, 'mislabele': 2, 'compressed': 2, 'vanity': 2, 'postpartum': 2, 'pronounce': 2, 'slouch': 2, 'curl': 2, 'partum': 2, 'tshirt': 2, 'scared': 2, 'injury': 2, 'tricky': 2, 'asap': 2, 'sensation': 2, 'flabby': 2, 'melt': 2, 'closet': 2, 'mommy': 2, 'xl': 2, 'painfully': 2, 'dryer': 2, 'goal': 2, 'wrinkle': 2, 'cotton': 2, 'regain': 2, 'nope': 2, 'nose': 2, 'weigh': 2, 'lb': 2, 'coworker': 2, 'ol': 2, 'girdle': 2, 'prego': 2, 'initiate': 2, 'pardum': 2, 'xs': 2, 'allergy': 2, 'ick': 2, 'clingy': 2, 'hi': 2, 'routine': 2, 'midsection': 2, 'bridesmaid': 2, 'discouraging': 2, 'ensure': 2, 'prominent': 2, 'carl': 2, 'frank': 2, 'colonization': 2, 'royal': 2, 'upside': 2, 'morbid': 2, 'living': 2, 'guitarist': 2, 'horn': 2, 'bacteria': 2, 'communist': 2, 'banner': 2, 'satisfy': 2, 'psychological': 2, 'barry': 2, 'correction': 2, 'flute': 2, 'steely': 2, 'dan': 2, 'heck': 2, 'rhapsody': 2, 'lick': 2, 'stanley': 2, 'adhesive': 2, 'reliance': 2, 'explosion': 2, 'laden': 2, 'diplomat': 2, 'ireland': 2, 'sophomoric': 2, 'harbor': 2, 'kate': 2, 'drinking': 2, 'assassin': 2, 'justification': 2, 'amateur': 2, 'extension': 2, 'fulfill': 2, 'contrived': 2, 'scottish': 2, 'shred': 2, 'puerile': 2, 'churn': 2, 'deadline': 2, 'exploit': 2, 'saxon': 2, 'disbelief': 2, 'inspite': 2, 'macnee': 2, 'overdone': 2, 'schwartz': 2, 'los': 2, 'rabbit': 2, 'ages': 2, 'lore': 2, 'magickal': 2, 'deity': 2, 'alchemy': 2, 'ceremony': 2, 'prowess': 2, 'illustrated': 2, 'despise': 2, 'respectable': 2, 'minimal': 2, 'finest': 2, 'remake': 2, 'diner': 2, 'jane': 2, 'beautifull': 2, 'overcome': 2, 'immense': 2, 'atlas': 2, 'aldous': 2, 'adultury': 2, 'condemn': 2, 'convey': 2, 'overrated': 2, 'indulgent': 2, 'dicken': 2, 'dickens': 2, 'dread': 2, 'analyze': 2, 'punishment': 2, 'indication': 2, 'margin': 2, 'payment': 2, 'hawthrowne': 2, 'admire': 2, 'theraou': 2, 'winded': 2, 'fallen': 2, 'assignment': 2, 'melancholy': 2, 'definate': 2, 'empathize': 2, 'compose': 2, 'structured': 2, 'suspicious': 2, 'historically': 2, 'junior': 2, 'archaic': 2, 'insist': 2, 'hs': 2, 'meal': 2, 'monday': 2, 'sprout': 2, 'preacher': 2, 'torment': 2, 'w.': 2, 'superfluous': 2, 'puritanical': 2, 'friendship': 2, 'abrupt': 2, 'internalize': 2, 'syntax': 2, 'lengthy': 2, 'turgid': 2, 'hawthornes': 2, 'cloy': 2, 'rewrite': 2, 'dost': 2, 'avg': 2, 'rebellious': 2, 'rewarding': 2, 'daddy': 2, 'reproduce': 2, 'comic_strip': 2, 'abusive': 2, 'demi': 2, 'sophomore': 2, 'graduate': 2, 'bogge': 2, 'widely': 2, 'urge': 2, 'exposure': 2, 'amazement': 2, 'ban': 2, 'sappy': 2, 'assertion': 2, 'muddle': 2, 'filth': 2, 'sandra': 2, 'peice': 2, 'highschool': 2, 'glow': 2, 'slog': 2, 'nineteenth': 2, 'explode': 2, 'hatred': 2, 'thy': 2, 'status': 2, 'intuition': 2, 'dare': 2, 'eventhough': 2, 'denial': 2, 'eventual': 2, 'deliverance': 2, 'redemption': 2, 'landmark': 2, 'backward': 2, 'musing': 2, 'bodily': 2, 'simplification': 2, 'annoyance': 2, 'cowardice': 2, 'nuestro': 2, 'argentina': 2, 'vida': 2, 'dia': 2, 'senior': 2, 'cheezy': 2, 'xmas': 2, 'starke': 2, 'tony': 2, 'offbeat': 2, 'feeding': 2, 'knife': 2, 'pry': 2, 'importantly': 2, 'identical': 2, 'ordain': 2, 'jew': 2, 'britain': 2, 'remainder': 2, 'sloppy': 2, 'destroy': 2, 'broke': 2, 'resistance': 2, 'depressing': 2, 'rude': 2, 'chanukah': 2, 'restriction': 2, 'goofball': 2, 'hannukah': 2, 'sentiment': 2, 'hanukkah': 2, 'allen': 2, 'mouth': 2, 'definently': 2, 'ah': 2, 'years': 2, 'sooooo': 2, 'remotely': 2, 'warrant': 2, 'needless': 2, 'precious': 2, 'ploy': 2, 'grinch': 2, 'scrooge': 2, 'illegible': 2, 'fax': 2, 'deborah': 2, 'closing': 2, 'erotic': 2, 'contraption': 2, 'handspring': 2, 'visor': 2, 'meld': 2, 'soulful': 2, 'scott': 2, 'accidental': 2, 'espresso': 2, 'thrilled': 2, 'pottery': 2, 'barn': 2, 'hutch': 2, 'outgrow': 2, 'nowadays': 2, 'assembly': 2, \"o'neill\": 2, 'devotee': 2, 'wrist': 2, 'horse': 2, 'paradigm': 2, 'correspond': 2, 'unacceptable': 2, 'nostril': 2, 'hemisphere': 2, 'reduction': 2, 'gleam': 2, 'academy': 2, 'wasteful': 2, 'buff': 2, 'host': 2, 'metallica': 2, '1,000': 2, 'pale': 2, 'violet': 2, 'enhancement': 2, 'lab': 2, 'bumper': 2, 'ecollar': 2, 'campus': 2, 'shoddy': 2, \"can't\": 2, 'container': 2, 'lunchbag': 2, 'syrup': 2, 'whip': 2, 'volta': 2, 'ultraman': 2, 'monster': 2, 'regardless': 2, 'capitalist': 2, 'proud': 2, 'mcandrew': 2, 'fortune': 2, 'seattle': 2, 'nothin': 2, 'confidence': 2, '1980': 2, 'dreamboat': 2, 'massive': 2, 'fey': 2, 'wobble': 2, 'watson': 2, 'kolya': 2, 'humanity': 2, 'predecessor': 2, 'toning': 2, 'listening': 2, 'artifact': 2, 'gang': 2, 'newly': 2, 'angels': 2, 'pig': 2, 'endearing': 2, 'truely': 2, 'paramount': 2, 'making': 2, 'linus': 2, 'winner': 2, 'accolade': 2, 'snoopy': 2, 'extras': 2, 'collect': 2, 'stronghold': 2, 'christians': 2, 'timely': 2, 'grandchild': 2, 'merry': 2, 'tht': 2, 'macs': 2, 'disclaimer': 2, 'notably': 2, 'lift': 2, 'uneven': 2, 'reservation': 2, 'afford': 2, 'deduct': 2, 'sleek': 2, 'ergonomic': 2, 'intermittent': 2, 'charging': 2, 'packing': 2, 'sturdier': 2, 'hesitation': 2, 'alternate': 2, 'initial': 2, 'transformer': 2, 'hopelessly': 2, 'sufficient': 2, 'dual': 2, 'toggle': 2, 'faint': 2, 'vs.': 2, 'g4s': 2, 'overnighte': 2, 'ram': 2, 'brightness': 2, 'unplug': 2, 'needle': 2, 'rep': 2, 'authorization': 2, 'th': 2, 'idiot': 2, 'satisfaction': 2, 'insulation': 2, 'yay': 2, 'obtain': 2, 'capital': 2, 'largely': 2, 'notch': 2, 'chew': 2, 'socket': 2, 'malfunction': 2, 'coating': 2, 'bare': 2, \"doesn't\": 2, 'yellow': 2, 'amber': 2, 'led': 2, 'unfinished': 2, 'maeve': 2, 'plethora': 2, 'frontier': 2, 'delaware': 2, 'farce': 2, 'adventurous': 2, 'distract': 2, 'lineup': 2, 'geoff': 2, 'corkscrew': 2, 'sculpt': 2, 'commerical': 2, 'horton': 2, \"they're\": 2, 'weiss': 2, 'para': 2, 'blade': 2, 'rust': 2, 'station': 2, 'boombox': 2, 'banks': 2, 'tar': 2, 'tidewater': 2, 'whedbee': 2, 'carolina': 2, 'ft': 2, 'ticonderoga': 2, 'dock': 2, 'kia': 2, 'optima': 2, 'lx': 2, 'preach': 2, 'entity': 2, 'retell': 2, 'homer': 2, 'engrossing': 2, 'significance': 2, 'nazeri': 2, 'infrared': 2, 'revealing': 2, 'diagram': 2, 'occasional': 2, 'funky': 2, 'cacho': 2, 'monkey': 2, 'paw': 2, 'ellington': 2, 'reunion': 2, 'testament': 2, 'treasure': 2, 'kenny': 2, 'soothe': 2, 'therapist': 2, 'scarey': 2, 'pompous': 2, 'simplicity': 2, 'backwards': 2, 'telephone': 2, 'supplement': 2, 'resonance': 2, 'khouri': 2, 'israeli': 2, '1970': 2, 'coarseness': 2, 'useable': 2, 'countless': 2, 'criticise': 2, 'specify': 2, 'guideline': 2, 'starter': 2, 'annual': 2, 'projection': 2, 'forgo': 2, 'palmer': 2, 'casual': 2, 'questionable': 2, 'pedestrian': 2, 'praise': 2, 'pony': 2, 'sinister': 2, 'bumpin': 2, 'psychedelic': 2, 'observe': 2, 'oakenfold': 2, 'remix)3': 2, 'urban': 2, 'blessing': 2, 'ritual': 2, 'invoke': 2, 'spirituality': 2, 'parfait': 2, 'climate': 2, 'physician': 2, 'gm': 2, 'spx': 2, 'captivating': 2, 'uniquely': 2, 'indiana': 2, 'confortable': 2, 'works': 2, 'soup': 2, 'earl': 2, 'belie': 2, 'harmony': 2, 'recorded': 2, 'usa': 2, 'patriot': 2, 'citizen': 2, 'founder': 2, 'zinn': 2, 'shear': 2, 'flair': 2, 'teller': 2, 'varied': 2, 'incorporate': 2, 'lid': 2, 'density': 2, 'joseph': 2, 'fiber': 2, 'rounder': 2, 'gotta': 2, 'ghastly': 2, 'mislead': 2, 'educate': 2, 'fame': 2, 'upbeat': 2, 'musicianship': 2, 'artistic': 2, 'offense': 2, 'waltons': 2, 'composition': 2, 'dozen': 2, 'defense': 2, 'cara': 2, 'net': 2, 'bead': 2, 'perfection': 2, 'chavela': 2, 'moan': 2, 'greatness': 2, 'uninteresting': 2, 'category': 2, 'chivalry': 2, 'wizard': 2, 'phillips': 2, 'kingdom': 2, 'intellect': 2, 'weakness': 2, 'babysitter': 2, 'tab': 2, 'sender': 2, 'teensy': 2, 'wimpy': 2, 'l.j.smith': 2, 'deadly': 2, 'lure': 2, 'bolt': 2, 'bits': 2, 'ez': 2, 'outs': 2, 'interact': 2, 'teammate': 2, 'pennant': 2, 'switches': 2, 'aod': 2, 'ps2': 2, 'shocked': 2, 'robot': 2, 'matrix': 2, 'customize': 2, 'revamp': 2, 'croft': 2, \"i'll\": 2, 'crash': 2, 'horrendous': 2, 'holy': 2, 'reboot': 2, 'glitch': 2, 'downer': 2, 'franchise': 2, 'motion': 2, 'laura': 2, 'angle': 2, 'resident': 2, 'jet': 2, 'deck': 2, 'unusable': 2, 'organized': 2, 'render': 2, 'pom': 2, 'surf': 2, 'daignault': 2, 'nostalgic': 2, 'scruj': 2, 'moshe': 2, 'hachel': 2, 'choir': 2, 'circulation': 2, 'shade': 2, 'nude': 2, 'wa': 2, 'unsalted': 2, 'lactic': 2, 'wax': 2, 'interchange': 2, 'banking': 2, 'hong': 2, 'kong': 2, 'transform': 2, 'cautious': 2, 'measurment': 2, 'checking': 2, 'neo': 2, 'directory': 2, 'unstable': 2, 'intended': 2, 'clamp': 2, 'rolling': 2, 'population': 2, 'mesh': 2, 'interface': 2, 'borre': 2, 'bla': 2, 'boogie': 2, 'pane': 2, 'amore': 2, 'vittorio': 2, 'sica': 2, 'chant': 2, 'gwen': 2, 'bristow': 2, 'darwinism': 2, 'pseudoscience': 2, 'hypothesis': 2, 'cambridge': 2, 'chomsky': 2, 'biological': 2, 'logical': 2, 'rookie': 2, 'few': 2, 'slope': 2, 'politically': 2, 'trademark': 2, 'controversy': 2, 'departure': 2, 'rubbish': 2, 'smojphace': 2, 'percussion': 2, 'likewise': 2, 'aphex': 2, 'crust': 2, 'smiley': 2, 'nonsensical': 2, 'resistant': 2, 'tobira': 2, 'akete': 2, 'yoru': 2, 'uta': 2, 'tomoe': 2, 'ccs': 2, 'clarence': 2, 'eccentric': 2, 'quiet': 2, 'obnoxious': 2, 'geography': 2, 'keen': 2, 'mcwilliams': 2, 'teenage': 2, 'tis': 2, 'serviceable': 2, 'painstakingly': 2, 'opener': 2, 'superbly': 2, 'houston': 2, 'caribe': 2, 'figueroa': 2, 'instill': 2, 'conquest': 2, 'discovery': 2, 'theirs': 2, 'mrs': 2, 'mirror': 2, 'pickup': 2, 'poker': 2, 'frill': 2, 'decorative': 2, 'anticipation': 2, 'redo': 2, 'utensil': 2, 'golf': 2, 'filter': 2, 'sim': 2, 'tycoon': 2, 'cooking': 2, 'boo': 2, 'travis': 2, 'perception': 2, 'coming': 2, 'harj': 2, 'mortage': 2, 'saving': 2, 'informercial': 2, 'loan': 2, 'quicksand': 2, 'harlequin': 2, 'pile': 2, 'unbeliavable': 2, 'plotting': 2, 'lawyer': 2, 'emergency': 2, 'commodore': 2, 'instrument': 2, 'dreamer': 2, 'erp': 2, 'integration': 2, 'relaxing': 2, 'shiny': 2, 'brevity': 2, 'unbiased': 2, 'cavalry': 2, 'chief': 2, 'colors': 2, 'shortcoming': 2, 'lukewarm': 2, 'mango': 2, 'massage': 2, 'bok': 2, 've': 2, 'agatha': 2, 'hastings': 2, 'examination': 2, 'competition': 2, 'shooting': 2, 'sensory': 2, 'orion': 2, 'nolde': 2, 'viewpoint': 2, 'suspence': 2, 'sorta': 2, 'pur': 2, 'nurse': 2, 'carroll': 2, 'soyo': 2, 'danceable': 2, 'crappy': 2, 'searched': 2, 'upstairs': 2, 'grusin': 2, 'scan': 2, 'overdose': 2, 'consistently': 2, 'marvel': 2, 'comics': 2, 'karajan': 2, 'bayreuth': 2, 'vienna': 2, 'rca': 2, 'lou': 2, 'kidde': 2, 'rental': 2, 'instructional': 2, 'considerably': 2, 'luckily': 2, 'krishnamurti': 2, 'hollow': 2, 'meaningless': 2, 'spiritual': 2, 'fyi': 2, 'omg': 2, 'corporation': 2, 'formation': 2, 'briefly': 2, 'yds': 2, 'shaft': 2, '3/4': 2, 'filler': 2, '3/8': 2, '5/16': 2, 'flare': 2, 'times': 2, 'india': 2, 'diagnosis': 2, 'healing': 2, 'tribute': 2, 'incarnation': 2, 'mundane': 2, 'dictonary': 2, 'disease': 2, 'retro': 2, 'towel': 2, 'bruce': 2, 'mcintyre': 2, 'kit': 2, 'coast': 2, 'lenin': 2, 'informed': 2, 'avery': 2, 'jolly': 2, 'scare': 2, 'kindergarten': 2, 'noid': 2, 'layer': 2, 'neice': 2, 'bath': 2, 'wrapping': 2, 'stewart': 2, 'nearby': 2, 'nik': 2, 'ususal': 2, 'kershaw': 2, 'gentleman': 2, 'dandy': 2, 'retailer': 2, 'craving': 2, 'xtc': 2, 'rim': 2, 'diamond': 2, 'cabinet': 2, 'beevor': 2, 'unfold': 2, 'beavor': 2, 'campaign': 2, 'von': 2, '6th': 2, 'soviets': 2, 'interfere': 2, 'sufism': 2, 'excessive': 2, 'jungian': 2, 'similarity': 2, 'inconvenient': 2, 'wiley': 2, 'captive': 2, 'styx': 2, 'adore': 2, '1&2': 2, 'spidey': 2, 'seamless': 2, '2.1': 2, '49,011,222,186': 2, 'bitspider': 2, 'ps3': 2, 'sipderman': 2, 'inventory': 2, 'locally': 2, 'excelent': 2, 'triumph': 2, 'competitive': 2, 'conduct': 2, 'dv': 2, 'racket': 2, 'racquet': 2, 'unsentimental': 2, 'seventy': 2, 'mtv': 2, 'digest': 2, 'demonstrate': 2, 'debunk': 2, 'reputable': 2, 'integrate': 2, 'poetic': 2, 'coherent': 2, 'gordon': 2, 'men': 2, 'ufos': 2, 'universe': 2, 'fi': 2, '100th': 2, 'entitle': 2, 'stormy': 2, 'ufology': 2, 'conclude': 2, 'researcher': 2, 'condolence': 2, 'sri': 2, 'lankan': 2, 'dancehall': 2, 'terrorism': 2, 'ltte': 2, 'revolt': 2, 'bucky': 2, '10/10': 2, 'fav': 2, 'bingo': 2, 'hombre': 2, '9/10': 2, 'maya': 2, 'burst': 2, 'kuch': 2, 'plo': 2, 'younker': 2, 'derrick': 2, 'photographs': 2, 'postcard': 2, 'grace': 2, 'lyricist': 2, 'tristania': 2, 'prog': 2, 'sinergy': 2, 'tarja': 2, 'oceanborn': 2, 'operatic': 2, 'vox': 2, 'moi': 2, 'des': 2, 'pis': 2, 'ma': 2, 'comme': 2, 'toute': 2, 'bien': 2, 'remplis': 2, 'ont': 2, 'au': 2, 'suretemp': 2, 'alice': 2, 'howlin': 2, 'sanford': 2, 'townsend': 2, 'funchuck': 1, 'nunsense': 1, 'happiness': 1, 'opinino': 1, 'mitsuda': 1, 'staggering': 1, 'misuda': 1, 'nobuo': 1, 'uematsu': 1, 'creation': 1, 'synthesize': 1, 'ambiance': 1, 'uplifting': 1, 'vigorous': 1, 'hysteric': 1, '8th': 1, 'mockingbird\"--a': 1, 'sincerly': 1, 'jaylynn': 1, 'typographical': 1, 'discerning': 1, 'prominently': 1, 'churning': 1, 'heated': 1, 'satiric': 1, 'phew': 1, '10.95': 1, 'misspelling': 1, 'distracted': 1, 'spelling': 1, \"'em\": 1, 'cuban': 1, 'idenity': 1, 'gig': 1, 'motorcycle': 1, 'latino': 1, 'fireballing': 1, 'comical': 1, 'roster': 1, 'salsa': 1, 'integrity': 1, 'bronze': 1, 'overbury': 1, 'abysmal': 1, 'pixelation': 1, 'reasonably': 1, 'lighting': 1, 'countryside': 1, 'haze': 1, 'cloud': 1, 'timbre': 1, 'enunciation': 1, 'critically': 1, 'acclaim': 1, 'youtube': 1, 'reel': 1, 'steven': 1, 'itto': 1, 'thatjapanese': 1, 'elder': 1, 'hybrid': 1, 'ando': 1, 'stevern': 1, 'poignantly': 1, 'angel\",\"lanna': 1, 'mama': 1, 'trully': 1, '4cd': 1, 'aa': 1, 'kodak': 1, 'nimh': 1, 'mah': 1, 'ahhh': 1, 'gps': 1, 'hour.btw': 1, 'jul': 1, 'alkaline': 1, 'staying': 1, 'miami': 1, '\"did': 1, 'ni': 1, 'mh': 1, 'discharge': 1, 'boost': 1, 'roundabout': 1, '4.0': 1, 'timer': 1, 'something)': 1, 'lettering': 1, 'hr': 1, 'trivial': 1, 'mp3s': 1, 'tivo': 1, 'tuner': 1, 'smear': 1, 'brag': 1, 'inventor': 1, 'ee': 1, 'mar': 1, 'manifest': 1, 'laughably': 1, 'commonplace': 1, 'lbg': 1, 'linde': 1, 'buzo': 1, 'vq': 1, 'algorithm': 1, 'fortunately': 1, 'calculus': 1, 'springer': 1, 'monochromatic': 1, 'vector': 1, 'scalar': 1, 'quantization': 1, 'doctoral': 1, 'thesis': 1, 'respected': 1, 'organizati': 1, '.gif/': 1, 'debacle': 1, 'central': 1, 'bleak': 1, '3/5': 1, 'bbc': 1, 'impart': 1, 'statment': 1, 'preparation': 1, 'powerscore': 1, 'clarify': 1, 'casually': 1, 'rochelle': 1, 'mock': 1, 'responsibility': 1, 'indictment': 1, 'ringer': 1, 'boorish': 1, 'discourse': 1, 'contagious': 1, 'transfix': 1, 'humility': 1, 'supermarionation': 1, 'thunderbird': 1, 'anderson': 1, 'fab': 1, 'gerry': 1, 'waffle': 1, 'biscuit': 1, 'wheat': 1, 'flour': 1, 'attainable': 1, 'reivew': 1, 'imo': 1, 'emerson': 1, 'wm': 1, 'toreturn': 1, 'palyer': 1, 'repalcement': 1, 'perfectely': 1, 'sylvania': 1, 'encyclopedia': 1, 'guides': 1, 'fodor': 1, 'frommer': 1, 'logistic': 1, 'transportation': 1, 'shoestring': 1, 'indiv': 1, 'tuesday': 1, 'belgium': 1, 'condensed': 1, 'czech': 1, 'hungary': 1, 'buffet': 1, 'orchestrated': 1, 'nock': 1, 'atop': 1, 'reaccounting': 1, 'caliber': 1, 'underwater': 1, 'quarrel': 1, 'signed': 1, 'furture': 1, 'clarification': 1, 'elmer': 1, 'kurrus': 1, 'markedly': 1, 'brass': 1, 'gigantic': 1, 'scraping': 1, 'sperry': 1, 'arwarde': 1, 'arward': 1, \"it's1\": 1, 'imspire': 1, 'freeze': 1, 'someplace': 1, 'boutique': 1, 'repeatitive': 1, 'retype': 1, 'pricey': 1, 'nytime': 1, 'cursed': 1, 'paintbrush': 1, 'redecorate': 1, 'crown': 1, 'renovate': 1, 'importcds': 1, 'orginally': 1, 'businee': 1, 'freesia': 1, 'sham': 1, 'disapointed': 1, 'tokyo': 1, 'teh': 1, 'howe': 1, 'liek': 1, 'apeal': 1, 'aug.': 1, 'givin': 1, 'opinon': 1, 'marc': 1, 'andre': 1, 'pianist': 1, 'await': 1, 'brahms': 1, 'supperbly': 1, 'litton': 1, 'hyperion': 1, 'whiz': 1, 'subtraction': 1, 'gallery': 1, 'pinnacle': 1, 'portraiture': 1, 'stripe': 1, 'fleece': 1, '85degree': 1, 'stash': 1, 'amply': 1, 'restrictive': 1, 'calesthenic': 1, 'defunct': 1, 'almo': 1, 'sounds': 1, 'dj': 1, 'mash': 1, 'fledged': 1, 'critcs': 1, 'cheeky': 1, 'tiga': 1, 'upcoming': 1, 'sexor': 1, 'jason': 1, 'bateman': 1, 'sprach': 1, 'zarathustra': 1, 'airto': 1, '2(and': 1, 'thebasic': 1, 'excellentphotograph': 1, 'burma': 1, 'mythic': 1, 'mandela': 1, 'reproduction': 1, 'avon': 1, 'highlands': 1, 'macpherson': 1, 'shipwreck': 1, 'clench': 1, 'heir': 1, 'clan': 1, 'highland': 1, 'theresa': 1, 'catherine': 1, 'lowlander': 1, 'highlander': 1, 'unforgettable': 1, 'addonics': 1, 'underpowered': 1, 'unsuccessfully': 1, 'lh': 1, 'thathis': 1, 'inst': 1, 'lessvocal': 1, '80sthat': 1, 'assistance': 1, 'yoruba!best': 1, 'pronnounce': 1, 'spealling': 1, 'pronounciation': 1, 'contextualize': 1, \"o'ngbiyanju\": 1, 'gobblet': 1, 'supervision': 1, 'mouse': 1, 'elaborate': 1, 'susie2': 1, 'darling': 1, 'shoes': 1, 'megamix': 1, 'announcer': 1, 'corny': 1, 'pedantic': 1, 'j.m.': 1, 'acctually': 1, 'stuffi': 1, 'ryan': 1, 'nba': 1, 'basketball': 1, 'superstar': 1, 'basketbal': 1, 'contiene': 1, 'pense': 1, 'interesaba': 1, 'saber': 1, 'sobre': 1, 'campeones': 1, 'pero': 1, 'cautivo': 1, 'lei': 1, 'ahora': 1, 'puedo': 1, 'discutir': 1, 'esposo': 1, 'cuñados': 1, '¡y': 1, 'suegro': 1, 'boxeador': 1, 'yummmmm': 1, \"f'e\": 1, 'aftertaste': 1, 'loops': 1, 'frosting': 1, 'timberframe': 1, 'diyer': 1, 'sobon': 1, 'framed': 1, 'buils': 1, 'mortise': 1, 'tenon': 1, 'what?needless': 1, 'property': 1, 'boil': 1, '\"should': 1, 'sega': 1, 'supercomputer': 1, 'faithful': 1, 'unlockable': 1, 'outrun': 1, 'branch': 1, 'sequentially': 1, 'rival': 1, 'racer': 1, 'norma': 1, 'gregory': 1, 'rendering': 1, 'artisan': 1, 'woodburne': 1, 'pyrographer': 1, 'troubling': 1, 'disobedience': 1, 'pope': 1, 'approval': 1, 'freely': 1, 'rebuild': 1, 'yorker': 1, 'playboy': 1, 'passions': 1, 'gimpel': 1, 'friday': 1, 'ironic': 1, \"o'neills\": 1, 'stifling': 1, 'undemande': 1, 'joyful': 1, 'older!~*~this': 1, 'flourish': 1, 'unprofessional': 1, 'cleverly': 1, 'artists': 1, 'tel': 1, 'vocalist': 1, 'schlock': 1, 'packace': 1, 'a+++': 1, 'z500a': 1, 'subscribe': 1, 'upload': 1, 'ringtone': 1, 'branded': 1, 'scour': 1, 'ba': 1, 'username': 1, 'invalid': 1, 'leaguer': 1, 'uh': 1, 'embarassment': 1, 'pointer': 1, 'satriani': 1, 'dimeola': 1, 'pratice': 1, 'tarzan': 1, 'bruford': 1, 'wilding': 1, 'them!i': 1, 'buying': 1, 'teethe': 1, 'reasons-': 1, 'consideration': 1, 'obstruct': 1, 'reusable': 1, 'explicitly': 1, 'cn': 1, 'designation': 1, 'forgot': 1, 'setter': 1, 'surft': 1, 'curiosity': 1, \"y'\": 1, 'finisht': 1, 'corrie': 1, 'radical': 1, 'pacifist': 1, 'idf': 1, 'sabotage': 1, 'palestinians': 1, 'israelis': 1, 'disregard': 1, 'imaginable': 1, 'faithfully': 1, 'lush': 1, 'overgrown': 1, 'baker': 1, 'gardening': 1, 'watering': 1, 'homemade': 1, 'tonic': 1, 'trigger': 1, 'caveat': 1, 'emptor': 1, 'counterfeit': 1, 'pscn-5021': 1, 'pscn-5022': 1, 'pscn-5023': 1, 'handful': 1, 'night\"': 1, 'lucca': 1, 'cover!had': 1, \"cd'\": 1, 'lavos': 1, 'mercy': 1, 'selves(and': 1, 'whose': 1, 'unearth': 1, 'graveyard': 1, 'resurrect': 1, 'leatherface': 1, 'indepth': 1, 'poltergeist': 1, 'evan': 1, 'fangoria': 1, 'c.would': 1, 'backdrop': 1, 'thhat': 1, 'don`t': 1, 'familiarity': 1, 'cinematic': 1, 'unstoppable': 1, 'skinned': 1, 'elicit': 1, 'sympathy': 1, 'tread': 1, 'competence': 1, 'terry': 1, 'kiser': 1, 'vet': 1, 'berryman': 1, 'unusually': 1, 'restrain': 1, 'nikki': 1, 'jamie': 1, 'lee': 1, 'survivor': 1, 'resilient': 1, 'resourceful': 1, 'sic': 1, 'flaccid': 1, 'ended': 1, 'pave': 1, 'starcraft': 1, 'warhammer': 1, 'combat': 1, 'pioneer': 1, 'seminal': 1, 'uplift': 1, 'principally': 1, 'caroline': 1, 'temperpedic': 1, 'doughy': 1, 'contour': 1, 'accident': 1, 'foam': 1, 'preform': 1, 'leverage': 1, 'advertisement': 1, 'thickness': 1, 'moshelle': 1, 'deploy': 1, 'disrespectful': 1, 'courtesy': 1, 'formulation': 1, '12/29/07)--it': 1, 'professionel': 1, 'sticky': 1, 'serum': 1, 'havnt': 1, 'skate': 1, 'online(well': 1, 'me)and': 1, 'wsant': 1, 'soooooooo': 1, 'idol': 1, 'moonlight': 1, 'horses': 1, 'melancholic': 1, 'newspaper': 1, 'gadget': 1, 'bedroom': 1, 'disingenuous': 1, 'gizmo': 1, \"eforcity'r\": 1, 'feign': 1, 'mailing': 1, 'address!what': 1, 'conditioner': 1, 'bst': 1, 'dat': 1, 'playin': 1, 'gr8': 1, 'worlds': 1, 'patriachal': 1, 'quinn': 1, 'much!it': 1, 'absoloutly': 1, 'yecch': 1, 'smiths': 1, 'thehuntress': 1, 'wasprobably': 1, \"i'mobsesse\": 1, 'awesomeanybody': 1, 'werewolf': 1, 'turnabout': 1, 'lanky': 1, 'bing': 1, 'me!)you': 1, 'uncannily': 1, 'beatiful': 1, 'fugitive': 1, 'authour': 1, 's****d': 1, 'charactesr': 1, 'taht': 1, 'hottie': 1, 'ehough': 1, 'chit': 1, 'chat': 1, 'notable': 1, 'ageless': 1, 'ficticious': 1, 'dughter': 1, 'grin': 1, 'nonogram': 1, 'pixillated': 1, 'quagmire': 1, 'redundantly': 1, 'intellecual': 1, 'nealry': 1, 'rediculously': 1, 'witht': 1, 'stlye': 1, 'hofstadter': 1, 'monotonously': 1, 'thouroughly': 1, 'modest': 1, 'success(and': 1, 'dwarfs': 1, 'games\"(rumore': 1, 'bl': 1, 'disco': 1, 'truncated': 1, 'dimishish': 1, 'orginal': 1, 'rivers': 1, 'pbs': 1, 'prattle': 1, '1\"': 1, 'promotional': 1, 'sodor': 1, 'interviewe': 1, 'stranger': 1, 'promo': 1, 'center(s': 1, 'ode': 1, 'allcroft': 1, 'penn': 1, 'outing': 1, 'developmental': 1, 'disability': 1, 'interspersed': 1, 'jut': 1, 'invariably': 1, 'duplications.*sigh': 1, 'inventive': 1, 'ripe': 1, 'satire': 1, 'cosmos': 1, 'closeted': 1, 'gay': 1, 'coach': 1, 'soccer': 1, 'tirade': 1, 'sympathizer': 1, 'pie': 1, 'boxing': 1, 'sweetheart': 1, 'lola': 1, 'ferrari': 1, 'guinness': 1, 'capsules': 1, 'capsule': 1, 'swallow': 1, 'insurance': 1, 'lg': 1, 'ostomy': 1, 'textile': 1, 'pleat': 1, 'pants.2': 1, 'shape.1': 1, 'shippment': 1, 'postage': 1, 'dye': 1, 'doublecharge': 1, 'backordere': 1, 'images': 1, 'dockers': 1, 'docker': 1, 'schedule': 1, '$16.95': 1, 'pricy': 1, 'khaki': 1, 'importance': 1, 'powerfull': 1, 'conceptual': 1, 'rigorous': 1, 'laboratory': 1, 'metodologie': 1, 'adequacy': 1, '-identification': 1, '-qualitative': 1, '-quantitative': 1, '-optimization': 1, '-quality': 1, '-structure': 1, '-chemometrics': 1, 'characters': 1, 'teasing': 1, 'constitute': 1, 'diferent': 1, 'methinks': 1, 'heartbreak': 1, 'vapid': 1, 'insipre': 1, 'substatially': 1, 'bathe': 1, 'glorious': 1, 'allure': 1, 'novel-': 1, 'superlative': 1, 'embraceable': 1, 'innocently': 1, 'promiscuous': 1, 'facet': 1, 'potato': 1, 'ingredient': 1, 'life?there': 1, 'waterstones': 1, 'barnes&noble': 1, 'assail': 1, 'ordered': 1, 'bedtable': 1, 'beats': 1, 'close.they': 1, 'limit.but': 1, 'last.no': 1, 'number1': 1, 'bfi': 1, 'game.the': 1, 'terrible.none': 1, 'goog': 1, 'accomidate': 1, 'beats.try': 1, 'cmr.maybe': 1, 'albums': 1, 'ridin': 1, 'showcase': 1, 'mcs': 1, 'asside': 1, 'ble': 1, 'bull': 1, 'juvenilez': 1, 'sept': 1, 'manie': 1, 'snoops': 1, 'doggystyle': 1, 'dre': 1, 'juvenille': 1, 'tightest': 1, 'banging': 1, 'especaily': 1, 'turk': 1, 'bellbottom': 1, 'music.wack': 1, 'ryhmes.who': 1, 'crab': 1, 'average.it': 1, 'foolishness': 1, 'guerriula': 1, 'meanless': 1, 'backround': 1, 'hotboy': 1, 'aight': 1, 'dissin': 1, 'diss': 1, 'talklin': 1, 'talkin': 1, 'thta': 1, 'bling(ha': 1, 'amd': 1, 'makin': 1, 'tru': 1, 'tymers': 1, 'hoody': 1, 'hooo': 1, 'gret': 1, 'stupis': 1, 'boy$.': 1, 'b.g': 1, 'obedient': 1, 'kreuz': 1, 'hhhooottt': 1, 'hunters': 1, 'byce': 1, 'assasin': 1, 'flame': 1, 'ingulfs': 1, 'question!if': 1, 'completly': 1, 'php': 1, 'scripting': 1, 'programming': 1, 'stylesheets': 1, 'dhtml': 1, 'alphabethically': 1, 'edition\"': 1, 'compatibility': 1, 'clump': 1, 'tutorial': 1, 'definitly': 1, 'checkup': 1, 'spectacular!i': 1, 'xml': 1, 'xhtml': 1, 'css': 1, 'css2': 1, 'javascript': 1, 'ssi': 1, 'asp': 1, 'coldfusion': 1, 'url': 1, 'thoroughness': 1, 'it!if': 1, 'appendix': 1, 'generational': 1, 'borderland': 1, 'marginalise': 1, 'outcast': 1, 'friendhip': 1, 'teo': 1, 'evoke': 1, 'flavour': 1, 'mercury': 1, 'abt': 1, 'fla': 1, 'wick': 1, 'twirl': 1, 'lacquer': 1, 'shellac': 1, 'varnish': 1, 'dehumidifier': 1, 'bacharach': 1, 'ff6': 1, 'vivaldi': 1, 'symphonic': 1, '3.5': 1, 'numb': 1, 'elbow': 1, 'unsure': 1, 'indent': 1, 'pond': 1, 'wicker': 1, 'putty': 1, 'security': 1, 'iv': 1, 'mayfield': 1, 'signature': 1, 'tinsel': 1, 'itunes': 1, 'markers': 1, 'bullet': 1, 'mystical': 1, 'interpret': 1, 'midrash': 1, 'unshackle': 1, 'reflection': 1, 'juggle': 1, 'thrust': 1, 'luxury': 1, 'undying': 1, 'angry': 1, '-then': 1, 'generosity': 1, 'dysfunctional': 1, 'shah': 1, 'rukh': 1, 'rani': 1, 'entomb': 1, 'entombed': 1, 'mercer': 1, 'mayer': 1, 'village': 1, 'presence': 1, 'enchant': 1, 'tantrum': 1, 'ignite': 1, 'sensitivity': 1, 'intensity': 1, 'dissappointe': 1, 'riveting': 1, 'candleglow': 1, 'betray': 1, 'distressed': 1, 'charactar': 1, 'guardian': 1, 'devotion': 1, 'crucial': 1, 'scarlatti': 1, 'humdrum': 1, 'enlarge': 1, 'italien': 1, 'madre': 1, 'zia': 1, 'cagey': 1, 'disconcert': 1, 'throughtout': 1, 'brooding': 1, 'possessive': 1, 'whining': 1, 'cigarette': 1, 'stubborn': 1, 'whiny': 1, 'confused).this': 1, 'blech': 1, 'broodiness': 1, 'virgin._____________edite': 1, 'perpetrator': 1, 'end.it': 1, 'envy': 1, 'shadow': 1, 'dictatorial': 1, 'pleasurable': 1, 'realtively': 1, 'molasse': 1, 'january': 1, 'esay': 1, 'anytime.2': 1, 'heavy.3': 1, 'great.4': 1, 'expensive.5': 1, 'pixele': 1, 'unison': 1, 'winxp': 1, 'saver': 1, 'blocky': 1, 'pixella': 1, 'mpeg': 1, 'architecture': 1, 'bitrate': 1, 'avi': 1, 'analogue': 1, 'ext': 1, 'malfunction-': 1, 'metering': 1, 'v': 1, 'hi8': 1, 'satifie': 1, 'extremly': 1, 'coding': 1, 'codes': 1, 'redundancy': 1, 'reeddition': 1, 'reedition': 1, 'cruise': 1, 'flaking': 1, 'hornet': 1, 'rksbabydoll': 1, 'daring': 1, 'qualified': 1, 'centrality': 1, 'thicken': 1, 'dunit': 1, 'ben': 1, 'thenmake': 1, 'judgement': 1, 'nailbite': 1, 'republican': 1, 'buildup': 1, 'whodunnit': 1, 'evildoer': 1, \"nothin'\": 1, 'baffle': 1, 'defined': 1, 'herring': 1, 'smoker': 1, 'withdrawal': 1, 'wife?how': 1, 'quincy': 1, 'trouble)?the': 1, 'morbidly': 1, 'abby': 1, 'foray': 1, 'dishearten': 1, 'forensically': 1, 'flawless': 1, 'unconnected': 1, 'rivite': 1, 'investigative': 1, 'procedure': 1, 'marilyn': 1, 'dh': 1, 'drab': 1, 'reactive': 1, 'bonker': 1, 'governor': 1, 'neatly': 1, 'ronnie': 1, 'vacuous': 1, 'inauthentic': 1, 'unabridge': 1, 'chuck': 1, 'abridgement': 1, 'procedural': 1, 'inmate': 1, 'fingerprint': 1, 'amaze': 1, 'series!(note': 1, 'installment': 1, 'farm': 1, 'crud': 1, 'naismith': 1, 'susan': 1, 'deighton': 1, 'uinusalpatricia': 1, 'writter': 1, 'muddled': 1, 'disapoint': 1, 'interesting-': 1, 'fleshed': 1, \"out'\": 1, 'workaholic': 1, 'tendency': 1, 'unresolved': 1, 'crooked': 1, 'abbot': 1, 'sorcery': 1, 'radcliffe': 1, 'leads': 1, 'abundance': 1, 'pitfall': 1, 'shtick': 1, 'soooooooooooo': 1, 'excruciatingly': 1, 'aristocrats': 1, 'whilst': 1, 'dramedy': 1, 'burden': 1, 'flounder': 1, 'leslie': 1, 'mann': 1, 'unfunny.all': 1, 'egotistical': 1, 'misogynistic': 1, 'prick': 1, 'persona': 1, \"you'll\": 1, 'preview': 1, 'hopeful': 1, 'unfocused': 1, 'necessarily': 1, 'runtime': 1, 'triumphs': 1, 'cultivate': 1, 'c.k.': 1, 'tompkins': 1, 'jeselnik': 1, 'ansari': 1, 'posehn': 1, 'consequently': 1, 'negatively': 1, 'simmons': 1, 'terminal': 1, 'com': 1, 'tweet': 1, 'filmmaker': 1, 'sincere': 1, 'downhill': 1, 'carrey': 1, 'c**k': 1, 'ensemble': 1, 'schtick': 1, 'bee': 1, 'genital': 1, 'seea': 1, 'inthe': 1, 'funnypeople': 1, 'characterto': 1, 'entourage': 1, 'celebrity': 1, 'virigin': 1, 'titanic': 1, 'unnessisary': 1, 'adams': 1, 'blantant': 1, 'lost!!scott': 1, 'macneil': 1, 'swearing': 1, 'vand': 1, 'performs?this': 1, 'moronic': 1, 'jonah': 1, 'pf': 1, 'comedianscon': 1, 'foul': 1, 'spate': 1, 'forgetting': 1, 'sarah': 1, 'reconstructionist': 1, 'algeria': 1, 'assimilation': 1, 'eisner': 1, 'speigelman': 1, 'maus': 1, 'algerian': 1, 'intellectual': 1, 'mordecai': 1, 'kaplan': 1, 'thinker': 1, 'judaism': 1, 'fable': 1, 'enlightenment': 1, 'absence': 1, 'supernatual': 1, 's.': 1, 'brenner': 1, 'multifaith': 1, 'auburn': 1, 'theological': 1, 'seminary': 1, 'judiasm': 1, 'spirited': 1, 'contempt': 1, 'loveable': 1, 'regale': 1, 'masturbation': 1, 'pornography': 1, 'desecrate': 1, 'shabbos': 1, 'sabbath': 1, 'trefe': 1, 'kosher': 1, 'kindly': 1, 'bitterness': 1, 'glorification': 1, 'ungodly': 1, 'repentance': 1, 'avoidance': 1, 'atheist': 1, 'f': 1, 'denigrate': 1, 'vulgarity': 1, 'kennedy': 1, 'persecute': 1, 'oliver': 1, 'dissent': 1, 'zapruder': 1, 'curb': 1, 'dissenting': 1, 'clint': 1, 'bradford': 1, 'http://www.jfk-info.com/sitemap1.htm': 1, 'imagination)to': 1, 'limelight': 1, 'shy': 1, 'interviews-': 1, 'it.)this': 1, 'stem': 1, 'wallet': 1, 'entile': 1, 'seventh': 1, 'cliburn': 1, 'misrepresentation': 1, 'emo': 1, 'cab': 1, 'cutie.www.purevolume.com/smalltownsburnalittleslower': 1, 'contractual': 1, 'slap': 1, 'superhuman': 1, 'terminate': 1, 'entriquing': 1, 'investigation': 1, 'possibilite': 1, 'det': 1, 'protract': 1, 'insufferable': 1, 'astonish': 1, 'bestseller': 1, 'pray': 1, 'ditch': 1, 'handbag': 1, 'happende': 1, 'scapetta': 1, 'sixth': 1, 'pathology': 1, 'returns': 1, 'tonight': 1, 'sleuth': 1, 'worlds!if': 1, 'achievment': 1, 'coster': 1, 'grisly': 1, 'interpersonal': 1, 'hilton': 1, 'fourth': 1, 'uneventful': 1, 'convinced': 1, 'adolescent': 1, 'morgue': 1, 'wildly': 1, 'clone': 1, 'satan': 1, 'incarnate': 1, 'hannibal': 1, 'lecter': 1, 'tightness': 1, 'hunch': 1, 'inconceivable': 1, 'pathologist': 1, \"let's\": 1, 'climatic': 1, 'aire': 1, 'thrilling': 1, 'temporarily': 1, 'thwart': 1, 'disabled': 1, 'crony': 1, 'characterize': 1, 'knowledgable': 1, 'sensantional': 1, 'imaginative': 1, 'unstatisfied': 1, 'missse': 1, 'g.': 1, 'vicariously': 1, 'spontaneously': 1, 'passable': 1, 'brooks': 1, 'nypd': 1, 'twisty': 1, 'geniuse': 1, 'tunnel': 1, 'lend': 1, 'gruesome': 1, 'gore': 1, 'criticism': 1, 'adermatt': 1, 'diagrams': 1, 'decided': 1, 'bloom': 1, 'county': 1, 'mcpherson': 1, 'interfer': 1, 'hue': 1, 'pad!we': 1, 'these!worthless': 1, 'reasoning': 1, 'arrogant': 1, 'isn': 1, 'beac': 1, 'childress': 1, 'jordan': 1, 'petra': 1, \"ba'al\": 1, 'reconsidered': 1, 'donald': 1, '1961history': 1, 'introdution': 1, 'linoln': 1, 'rabid': 1, 'emancipationist': 1, 'pratical': 1, 'slave': 1, 'rebellion': 1, 'alienate': 1, 'slaveholder': 1, 'maryland': 1, 'mystify': 1, 'aggression': 1, 'slavery': 1, 'inclusive': 1, 'mythology': 1, 'altenative': 1, 'costly': 1, 'simpify': 1, 'articulated': 1, 'erroneous': 1, 'ayn': 1, 'eco': 1, 'graph': 1, 'naked': 1, 'undress': 1, 'dismal': 1, 'artificial': 1, 'enlightening': 1, 'sufficiency': 1, 'enormously': 1, 'pe': 1, \"memory):'even\": 1, \"'that\": 1, 'manipulation': 1, 'ho': 1, 'hum': 1, 'dwelt': 1, 'keynes': 1, 'stimulus': 1, 'gullibility': 1, 'pervasive': 1, 'resultant': 1, 'cancerous': 1, 'meddling': 1, 'elect': 1, 'mises': 1, 'institute': 1, 'plague': 1, 'you.very': 1, 'fred': 1, 'dope': 1, 'senators': 1, 'reps': 1, 'heed': 1, 'book;perhap': 1, 'gobblygook': 1, 'lable': 1, 'unintended': 1, 'experiential': 1, 'debt': 1, 'subsidize': 1, 'exellent': 1, 'renowned': 1, 'treatise': 1, 'stalwart': 1, 'schiff': 1, 'lew': 1, 'rockwell': 1, 'controversial': 1, 'inflation': 1, 'priciple': 1, 'unsatisfactory': 1, 'worldly': 1, 'philosophers': 1, \"70'\": 1, 'audible': 1, 'subscriber': 1, 'excessively': 1, 'polemical': 1, 'rigid': 1, 'retitle': 1, 'shortest': 1, 'surest': 1, 'unpalatable': 1, 'blinker': 1, 'programme': 1, 'spuriously': 1, 'naomi': 1, 'unfettered': 1, 'demystify': 1, 'precept': 1, 'idealogy': 1, 'ideology': 1, 'depart': 1, 'z\"': 1, 'mandate': 1, 'socialism': 1, 'abject': 1, 'devoid': 1, 'libertarianism': 1, 'cryptic': 1, 'rightly': 1, 'prophetic': 1, 'familiarize': 1, 'budgeting': 1, 'diatribe': 1, 'ignoramus': 1, 'insolvency': 1, 'shout': 1, 'us.kudo': 1, 'econominc': 1, 'disprove': 1, 'patter': 1, 'skim': 1, 'spew': 1, 'recycled': 1, 'navy': 1, 'peeve': 1, 'counting': 1, 'abstract': 1, 'tolerate': 1, 'wiggles': 1, 'carlin': 1, 'narrate': 1, 'tasty': 1, 'kimmerle': 1, 'aztec': 1, 'cocoa': 1, 'timeline': 1, 'luscious': 1, 'ad': 1, 'percy': 1, 'adlon': 1, 'androberty': 1, 'altman': 1, 'alaska.k.d': 1, 'lang': 1, 'androgynous': 1, 'miner': 1, 'librarian': 1, 'realist': 1, 'langdoe': 1, 'havebrought': 1, 'viewing': 1, 'likeadlon': 1, 'placecharacter': 1, 'exaggerated': 1, 'foundmyself': 1, 'animated': 1, 'andrap': 1, 'part)dark!the': 1, 'p.o.d.!that': 1, 'album!not': 1, 'ccd': 1, 'trv-308': 1, 'abap': 1, 'lern': 1, 'newbery': 1, 'medal': 1, 'whisk': 1, 'ferocious': 1, 'diverse': 1, 'sweden': 1, 'poular': 1, 'slate': 1, 'herries': 1, 'folding': 1, 'suv': 1, 'bruiser': 1, 'stairmaster': 1, 'folded(collapse': 1, 'canopy': 1, 'bungee': 1, 'lori': 1, 'forthcoming': 1, 'prod': 1, 'picnic': 1, 'maple': 1, 'backgammon': 1, 'supportive': 1, 'bridal': 1, 'corsette': 1, \"5'1\": 1, 'do-': 1, 'torn': 1, 'deskwork': 1, 'soreness': 1, 'skinnier': 1, 'material(def': 1, 'sweaty': 1, 'doesnt': 1, 'it!kinda': 1, '(size': 1, 'dd)ladie': 1, '135lbs': 1, 'fat(size': 1, 'smoothing': 1, 'cotten': 1, '3xl': 1, 'crease': 1, 'commute': 1, 'itching': 1, 'allll': 1, 'mortify': 1, 'breathable': 1, 'xlarge': 1, 'waaay': 1, 'zippered': 1, 'redistribute': 1, 'arthropod': 1, 'grayish': 1, 'camisole': 1, 'incentive': 1, 'sizer': 1, 'girldle': 1, 'welt': 1, 'prong': 1, 'incrediby': 1, 'keepin': 1, 'uncomfy': 1, 'cami': 1, 'seemless': 1, 'desperation': 1, \"5'10\": 1, '140lbs': 1, 'parking': 1, 'firmness': 1, 'outward': 1, 'pooch': 1, 'tuck': 1, 'sizes': 1, 'squirm': 1, 'aroun': 1, 'bad-': 1, 'u.': 1, 'wat': 1, 'yike': 1, 'overlapse': 1, 'held': 1, 'therapeutically': 1, 'surpass': 1, 'boxy': 1, 'compensate': 1, '-my': 1, 'veryyyy': 1, 'underbust': 1, 'abit': 1, 'thing!returne': 1, 'comply': 1, 'brooke': 1, 'burke': 1, 'silhouette': 1, 'silk': 1, 'easiness': 1, 'cannot': 1, 'strapless': 1, 'summertime': 1, 'intead': 1, 'buldge': 1, 'reshape': 1, 'slimming': 1, 'readjust': 1, 'religiously': 1, 'washed': 1, 'conjunction': 1, 'dieting': 1, 'recive': 1, 'szie': 1, '30inc': 1, 'sooo': 1, 'size.also': 1, 'damaged.but': 1, 'it.but': 1, 'weight.btw': 1, '130lbs': 1, 'encouraged': 1, 'courteous': 1, 'enclosure': 1, 'ridged': 1, \"5'4\": 1, '120lbs': 1, 'cheese': 1, 'slinky': 1, 'instruct': 1, 'blisters': 1, '14hour': 1, 'black)on': 1, 'jelly': 1, '40days/40night': 1, 'forgiving': 1, 'unstitched': 1, 'unstitche': 1, 'futility': 1, 'prepregnancy': 1, 'crusher': 1, 'abdominal': 1, 'tunic': 1, 'sufferer': 1, 'latex': 1, 'sneeze': 1, 'complement': 1, 'shapely': 1, 'torsos': 1, '8/10': 1, 'faja': 1, ':d': 1, 'bottom': 1, 'bump': 1, 'discreet': 1, 'comfortability': 1, 'practicality': 1, 'fasten': 1, 'noticible': 1, 'wider': 1, 'alteration': 1, 'lifesaver': 1, 'sensitive': 1, 'whelp': 1, 'undershirt': 1, '31my': 1, 'smallit': 1, 'clasp!maybe': 1, 'xxl': 1, 'skinfor': 1, \"5'6\": 1, 'ordering': 1, 'producct': 1, 'wonderful!^^^^^': 1, 'now--': 1, 'jan': 1, 'underarm': 1, 'optimistic': 1, 'sagan': 1, 'drake': 1, 'implications': 1, 'optimist': 1, 'survey': 1, 'interstellar': 1, 'dismiss': 1, 'visitor': 1, 'advocate': 1, '107.7': 1, 'birmingham': 1, 'highness': 1, 'disheartening': 1, 'eject': 1, 'marie': 1, 'antoinette': 1, 'austria': 1, 'dictate': 1, 'border-': 1, 'doggie': 1, 'envision': 1, 'owe': 1, 'crate': 1, 'barrell': 1, 'silverware': 1, 'permanent': 1, 'diawasher': 1, 'noticable': 1, 'porcelain': 1, 'geek': 1, 'dennis': 1, 'jiggel': 1, 'shakeing!\"special': 1, 'haloween': 1, 'leftover': 1, 'memorized': 1, 'apear': 1, 'cinimatography': 1, 'someones': 1, 'anoyingly': 1, 'boreing': 1, 'unwatchable': 1, 'theorist': 1, 'kurdish': 1, 'nationalist': 1, 'implausibly': 1, 'pkk': 1, 'muslims': 1, 'islamism': 1, 'islamic': 1, 'suppervise': 1, 'islam': 1, 'priori': 1, 'qualification': 1, 'bigot': 1, 'gilfry': 1, 'secrete': 1, 'lake': 1, 'tahoe': 1, 'garish': 1, 'ellis': 1, 'cbs': 1, 'associated': 1, 'unreleased': 1, 'eumir': 1, 'fabuloso': 1, 'rerelease': 1, 'creed': 1, 'rudy': 1, 'gelder': 1, 'splendor': 1, 'cobham': 1, 'clarke': 1, 'tropea': 1, 'hubert': 1, 'laws': 1, 'euphonium': 1, 'retack': 1, 'cache': 1, 'clicking': 1, 'seagate': 1, 'quantum': 1, 'maxtor': 1, 'mideast': 1, 'fictitious': 1, 'escapist': 1, 'transparent': 1, 'laurel': 1, 'minimalism': 1, 'arid': 1, 'tense': 1, 'sequential': 1, 'hallmark': 1, 'inexhaustible': 1, '32nd': 1, 'powerhouse': 1, 'belfast': 1, 'harrowing': 1, 'confront': 1, 'rashid': 1, 'avenge': 1, 'killing': 1, 'immunity': 1, 'vengeance': 1, 'terrifying': 1, 'impishly': 1, 'jig': 1, 'saudi': 1, 'arabia': 1, 'bushmill': 1, 'here': 1, 'theyear': 1, 'higgin': 1, 'jack?)i': 1, 'foretell': 1, 'unbelievably': 1, 'hazar': 1, 'scouts': 1, 'puhleeze': 1, 'exclamation': 1, 'vignette': 1, 'ludlum': 1, 'late).a': 1, 'bilionaire': 1, 'interestng': 1, 'compaint': 1, 'story-': 1, 'style-': 1, 'obsessive': 1, 'colorless': 1, 'guard': 1, 'agent': 1, 'else?there': 1, 'timing': 1, 'fascination': 1, 'glamorous': 1, 'savage': 1, 'dirk': 1, 'pitt': 1, 'piker': 1, 'gentlemanly': 1, 'craze': 1, 'savoy': 1, 'credulity': 1, 'arabian': 1, 'pose': 1, 'bomber': 1, 'aviator': 1, 'contradictory': 1, 'visualization': 1, 'does:\"stone': 1, '\\'\"\\'you': 1, '.\\'\"this': 1, 'condensation': 1, 'screenplay': 1, 'syllable': 1, 'twaddle': 1, 'incineration': 1, 'roof).an': 1, 'grudge': 1, 'bide': 1, 'matilda': 1, 'flanders': 1, 'spurn': 1, 'conquer': 1, 'dungeon': 1, 'escapism': 1, 'occassionally': 1, 'harm': 1, 'grittiness': 1, 'childishly': 1, 'gambit': 1, 'endeavour': 1, 'retired': 1, 'abridged': 1, 'singleminded': 1, 'worse-': 1, 'tranparent': 1, 'quaff': 1, 'enormous': 1, 'bushmills': 1, 'whisky': 1, 'stinker': 1, 'angeles': 1, 'chance?a.': 1, 'mob': 1, 'him?a.': 1, 'he?a.': 1, 'energizer': 1, 'misplaced': 1, 'robbie': 1, 'muzik': 1, 'hearts': 1, 'vegas': 1, 'sabbat': 1, 'medicinal': 1, 'infer': 1, 'incense': 1, 'elixir': 1, 'funeral': 1, 'p.': 1, 'beyerl': 1, 'corespondence': 1, 'arbitrary': 1, 'compendium': 1, 'magick': 1, 'attribution': 1, 'lecture': 1, 'diagnostic': 1, 'corvette': 1, 'honda': 1, 'rotation': 1, 'leatest': 1, 'latest': 1, 'tunes': 1, 'emerged': 1, 'eurpoean': 1, 'continent': 1, 'highlights': 1, 'clude': 1, 'atb': 1, 'sunwarme': 1, 'auel': 1, 'shelters': 1, 'thorn': 1, 'alcoholism': 1, 'ambiguity': 1, 'climax(es': 1, 'shrugged': 1, 'anthem': 1, 'unspeakable': 1, 'wrath': 1, 'vicious': 1, 'remorse': 1, 'aurthor': 1, 'bosom': 1, 'deed': 1, 'chillinworth': 1, 'vow': 1, 'continuous': 1, 'sinning': 1, 'dolby': 1, 'surroundsound': 1, 'unnecesary': 1, 'bloated': 1, 'blabber': 1, 'melodramatic': 1, 'prevail': 1, 'clother': 1, 'ostracize': 1, 'hypocritical': 1, 'except': 1, 'prat': 1, 'unforgive': 1, 'dam': 1, 'dialouge': 1, 'provkitive': 1, 'throughly': 1, 'admittedly': 1, 'bolding': 1, 'sat': 1, 'bio': 1, 'tsl': 1, 'striking': 1, 'blossom': 1, 'amidst': 1, 'bleakness': 1, 'bostonian': 1, 'hawthrownes': 1, 'appea': 1, 'costumer': 1, 'sadden': 1, 'jeopardy': 1, 'typos': 1, 'prolix': 1, 'hanry': 1, 'walden': 1, 'tre': 1, 'applaud': 1, 'tenacity': 1, 'cautionary': 1, 'catuionary': 1, 'ilegitamate': 1, 'delightfully': 1, 'hillariously': 1, 'comma': 1, 'may.': 1, 'duller': 1, 'dirt': 1, 'thisto': 1, 'interestingelement': 1, 'excruciating': 1, 'nosuspense': 1, 'evenless': 1, 'samestory': 1, 'labelledthis': 1, 'thatit': 1, 'tragically': 1, 'figurative': 1, 'lettter': 1, 'the\"scarlet': 1, 'character,\"hester': 1, 'methodical': 1, 'encompass': 1, 'steinbeck': 1, 'completey': 1, 'cease': 1, 'subtlety': 1, 'taudry': 1, 'seem': 1, 'chaucer': 1, 'erudite': 1, 'antiquicate': 1, 'flowery': 1, 'caricature': 1, 'cheerful': 1, 'legalism': 1, 'hallelujah': 1, 'exactally': 1, 'arise': 1, '4th': 1, 'hawhthorne': 1, 'trudge': 1, 'compete': 1, 'shelly': 1, 'surly': 1, 'it`s': 1, 'conceal': 1, 'daydreamer': 1, 'daydream': 1, 'ignominy': 1, 'scifi': 1, 'technthriller': 1, 'hidden': 1, 'astonishing': 1, 'clany': 1, 'fore': 1, 'discriptive': 1, 'gables': 1, 'unlye': 1, 'gotton': 1, 'attenion': 1, 'wording': 1, \"haven't\": 1, 'formatting': 1, '-you': 1, 'bookmaark': 1, 'appetizer': 1, 'yak': 1, 'anus': 1, 'tartare': 1, 'entree': 1, 'caviar': 1, 'dessert': 1, 'musketeers': 1, 'customs': 1, 'floridly': 1, 'antiquated': 1, 'negligible': 1, 'schooler': 1, 'mitzvah': 1, 'wikipedia': 1, 'interminable': 1, 'overture': 1, 'ingenious': 1, 'execution': 1, 'seed': 1, 'independently': 1, 'hobby': 1, 'moody': 1, 'overromanticize': 1, 'stifle': 1, 'miserable': 1, 'right?i': 1, 'calendar': 1, 'taboo': 1, 'exploits': 1, 'unthinkable': 1, 'candid': 1, 'makes': 1, 'happens': 1, 'barnes': 1, 'noble': 1, 'classics': 1, 'stade': 1, 'purify': 1, 'arthur': 1, 'chillingsworth': 1, 'revengeful': 1, 'mine.1': 1, 'highlighter': 1, 'seep': 1, 'legible.2': 1, 'it‘s': 1, 'sybolism': 1, 'overload': 1, 'sift': 1, 'enforce': 1, 'imprison': 1, 'scaffold': 1, 'hawthhone': 1, 'though': 1, 'extramarital': 1, 'yawn': 1, 'embellishment': 1, 'more': 1, 'qnd': 1, 'wedlock': 1, 'deceptjon': 1, 'juicy': 1, 'boon': 1, 'ornamented': 1, 'ye': 1, 'olde': 1, 'spoken': 1, 'treacle': 1, 'sickening': 1, 'truthful': 1, 'oxymoronic': 1, 'peril': 1, 'armour': 1, 'sl': 1, 'reclassify': 1, 'underline': 1, 'romanticism': 1, 'opposition': 1, 'alienation': 1, 'furnace': 1, 'appearence': 1, 'fatal': 1, 'inability': 1, 'revelation': 1, 'maury': 1, 'comi': 1, 'lantern': 1, 'crimson': 1, 'crusader': 1, 'radioactive': 1, 'existed!seriously': 1, 'pow': 1, 'zort': 1, 'physiognomy': 1, 'middle!unfortunately': 1, 'guessand': 1, 'strucutre': 1, 'employ': 1, 'devil': 1, 'tazmania': 1, 'amoung': 1, 'blacken': 1, 'weed': 1, 'notes': 1, 'laborious': 1, 'widow': 1, 'hurl': 1, 'agitation': 1, 'whateva': 1, 'hizzle': 1, 'shizzle': 1, 'nizzle': 1, 'homicide': 1, 'assigning': 1, 'torturous': 1, 'pre-20th': 1, 'indulge': 1, 'criterian.)the': 1, 'grease.)personally': 1, 'ofthe': 1, 'permissive': 1, 'accustom': 1, 'entrench': 1, 'gloom': 1, 'hypocrisy': 1, 'enlighten': 1, 'passionately': 1, 'reverand': 1, 'rumor': 1, 'hidde': 1, 'standing': 1, 'unneeded': 1, 'unnessecary': 1, 'devastation': 1, 'unsuitable': 1, 'overwritten': 1, 'overwrite': 1, 'imitate': 1, 'underscore': 1, 'nathanial': 1, 'concrete': 1, 'malaise': 1, 'dissect': 1, 'disscusse': 1, 'smokescreen': 1, 'stamp': 1, 'plod': 1, 'unravle': 1, 'tediously': 1, 'excite': 1, 'rev.': 1, 'dimmsdale': 1, 'voluntarily': 1, 'narcotic': 1, 'sux': 1, '9th': 1, 'either.on': 1, 'mentally': 1, 'nora': 1, 'roberts': 1, 'paralyze': 1, 'archaicly': 1, 'kindling': 1, 'gouge': 1, 'cliffnote': 1, 'scarred': 1, 'wast': 1, 'flatter': 1, 'insomnia': 1, 'cities': 1, 'alowe': 1, 'regurgitate': 1, 'excruciate': 1, 'dreary': 1, 'setence': 1, 'it.hawthorne': 1, 'brittleems': 1, 'honorskickapoo': 1, 'schooljunior11/21/05warning': 1, 'vocabulary!the': 1, 'external': 1, 'wrongful': 1, 'adulterer': 1, 'a.': 1, 'virtue': 1, 'colossal': 1, 'dimmsedale': 1, 'sleeping': 1, 'pill': 1, 'lap': 1, 'commend': 1, 'annotate': 1, 'loathe': 1, 'uneducated': 1, '2yr': 1, 'imight': 1, 'wasslow': 1, 'unabridged': 1, 'cherish': 1, 'giult': 1, 'socialization': 1, 'skillfully': 1, 'reaal': 1, 'caffeine': 1, 'relatable': 1, 'admitt': 1, 'thirille': 1, 'decsion': 1, 'bibliophile': 1, 'huck': 1, 'finn': 1, 'onld': 1, 'revisit': 1, 'hae': 1, 'typify': 1, 'colonialist': 1, 'impose': 1, 'lawsthis': 1, 'aeon': 1, 'entrance': 1, 'i`ve': 1, 'assist': 1, 'uniteresting': 1, 'absolutly': 1, 'notes(which': 1, 'movie(it': 1, 'monte': 1, 'cristo': 1, 'deification': 1, 'overdramatization': 1, 'predictability': 1, 'tolstoy': 1, 'anna': 1, 'karenina': 1, 'classify': 1, 'undo': 1, 'scarlette': 1, 'discs': 1, 'dyslexic': 1, 'gaucho': 1, 'puntos': 1, 'astutos': 1, 'relacion': 1, 'pais': 1, 'paisanos': 1, 'como': 1, 'chaco': 1, 'resistencia': 1, 'puedan': 1, 'apreciar': 1, 'esto': 1, 'escritos': 1, 'historia': 1, 'importante': 1, 'juventud': 1, 'hoy': 1, 'disuade': 1, 'arnold': 1, 'timing.(didnt': 1, 'long)my': 1, 'older': 1, 'imitation': 1, \"it's\": 1, 'splitter': 1, 'funnier': 1, 'someday': 1, 'astin': 1, 'servant': 1, 'igor': 1, 'clooney': 1, 'furious': 1, 'fullscreen': 1, 'deadpan': 1, 'bearable': 1, 'deception': 1, 'warming': 1, 'gerber': 1, 'extent': 1, 'movable': 1, 'tile': 1, 'freindly': 1, 'however:1': 1, 'dishwith': 1, 'tray.2': 1, 'micro.3': 1, 'clean.4': 1, 'abutter': 1, 'open).5': 1, 'problems.6': 1, 'disassemble': 1, 'deem': 1, 'usable': 1, 'doent': 1, 'ditto': 1, 'easily-': 1, 'unscrew': 1, 'gasket': 1, 'seprate': 1, 'seperate': 1, 'survery': 1, 'rabbis': 1, 'ordination': 1, 'rabbinate': 1, 'beneficial': 1, 'tower': 1, 'rcr': 1, 'bulemic': 1, 'asia': 1, 'drastically': 1, 'ethnographic': 1, 'august': 1, 'australian': 1, 'nong': 1, 'khai': 1, 'thailand': 1, 'availability': 1, 'miswire': 1, 'internally': 1, 'out': 1, 'finagle': 1, 'voltage': 1, 'externally': 1, 'didnt': 1, 'to:[do': 1, 'iteam': 1, 'rechargeable': 1, 'comidy': 1, 'anther': 1, 'prob': 1, 'nauseate': 1, 'adamant': 1, 'holliday': 1, 'sarcastic': 1, 'depressed': 1, 'disorder': 1, 'attract': 1, 'postive': 1, 'deeds': 1, 'repentence': 1, 'rack': 1, 'perverted': 1, 'fortitude': 1, 'bawdy': 1, 'autobiographical': 1, 'columbia': 1, 'tristar': 1, 'rowdy': 1, 'scatological': 1, 'rob': 1, 'schneider': 1, 'jon': 1, 'lovitz': 1, 'mabye': 1, 'simpsons': 1, 'fould': 1, 'vomit': 1, 'christams': 1, 'terrible!\"warne': 1, 'spolier': 1, 'possible!\"well': 1, 'migiet': 1, 'woody': 1, 'fernal': 1, 'elenaor': 1, 'supposte': 1, 'claus?i': 1, 'sandle': 1, 'childish': 1, 'giggle': 1, 'heaven': 1, 'forbid': 1, 'his,': 1, 'daveys': 1, 'bully': 1, 'lession!i': 1, 'eleanore,(adam': 1, 'foul\",': 1, 'adorable!!this': 1, 'across!': 1, 'it!!!i': 1, 'jingle': 1, 'understatement': 1, 'hairy': 1, 'butts': 1, 'jock': 1, 'fece': 1, 'it?i': 1, 'diehard': 1, 'downright': 1, 'humbug': 1, 'ishtar': 1, 'protest': 1, 'stargate': 1, 'grating': 1, 'schmaltz': 1, 'unleash': 1, \"sinks.)don't\": 1, 'cr*p': 1, 'flatulence': 1, 'parode': 1, 'mall': 1, 'terribe': 1, 'photocopy': 1, 'printer': 1, 'spun': 1, 'walley': 1, 'deusenberg': 1, 'signs': 1, 'gearstick': 1, 'craptastic': 1, 'crop': 1, 'shove': 1, 'chikadee': 1, 'cobra': 1, '427(i': 1, 'vettes': 1, 'clambake': 1, 'dubious': 1, 'framework': 1, 'grandfather': 1, 'spoiled': 1, 'shelley': 1, 'fabares': 1, 'diane': 1, 'mcbain': 1, 'walley).the': 1, 'back\"': 1, 'sleepwalk': 1, 'like?to': 1, 'reviewer(s': 1, 'harum': 1, 'scarum': 1, 'impetus': 1, 'headpiece': 1, 'time?not': 1, 'hammond': 1, 'swinging': 1, 'roar': 1, 'organ': 1, 'mcduff': 1, 'lonnie': 1, 'liston': 1, 'shirley': 1, 'work)': 1, 'avalon': 1, 'higher': 1, 'teen\"kraft': 1, \"kg'er\": 1, 'rambunctious': 1, '5yr': 1, 'catered': 1, '8yr': 1, 'popeye': 1, 'palooka': 1, 'wot': 1, 'hodge': 1, 'podge': 1, 'seasonal': 1, 'can': 1, 'handwriting': 1, 'legible': 1, 'scribble': 1, 'greasy': 1, 'cafeteria': 1, 'napkin': 1, 'handwritten': 1, 'sceptical': 1, 'brisk': 1, 'conducting': 1, 'sung': 1, 'alw': 1, \"chef'n\": 1, 'purchased(did': 1, 'suited': 1, 'exerciser': 1, 'nutrition': 1, 'translation': 1, 'enthusiastic': 1, 'influential': 1, 'accountability': 1, 'clueless': 1, 'survivalist': 1, 'productive': 1, '21st': 1, 'tissue': 1, 'engorge': 1, 'p25)\"[t]he': 1, 'p20)these': 1, 'lord': 1, 'states--': 1, 'entrepeniur': 1, 'marketer': 1, 'synch': 1, 'ave': 1, 'entrainment': 1, 'usless': 1, 'babble': 1, 'oscar': 1, 'dishy': 1, 'mensione': 1, 'inc.': 1, 'license': 1, 'collectable': 1, 'disc(s': 1, 'vertigo': 1, 'flag?for': 1, 'painting': 1, 'itten': 1, 'mathematician': 1, 'articulation': 1, 'physics': 1, 'optic': 1, 'hunting': 1, 'puppy': 1, 'swimby': 1, 'casting': 1, 'lining': 1, 'tests(multiple': 1, 'retire': 1, 'collar': 1, 'newbie': 1, 'incorrectly': 1, 'tritronics': 1, 'phyllis': 1, 'dobbs': 1, 'classmate': 1, 'infants': 1, 'adolescents': 1, 'grill': 1, '1/3': 1, 'distorting': 1, 'lectric': 1, 'grille': 1, 'takes': 1, 'washable': 1, 'scrub': 1, 'andthread': 1, 'lunch': 1, 'went': 1, 'sling': 1, 'diaperbag': 1, 'airplane': 1, 'improvise': 1, 'decadent': 1, 'cherry': 1, 'sprinkle': 1, 'lottsa': 1, '\"catch': 1, 'desert': 1, 'soar': 1, 'cielo-': 1, 'embrace': 1, '1/2float': 1, 'enjoyably': 1, 'accessibility': 1, 'lithmus': 1, 'moodiness': 1, 'standout': 1, 'eyes': 1, 'sang': 1, 'coincidentally': 1, 'cielo\"': 1, 'ripen': 1, 'snare': 1, 'trendy': 1, 'unoriginal': 1, 'industry.ps': 1, 'teerav\"---->while': 1, 'silverchair': 1, 'diorama': 1, 'fanboy': 1, 'totaly': 1, 'soulless': 1, 'lava': 1, 'thoughfull': 1, \"couln't\": 1, 'painfull?well': 1, 'painfull': 1, 'indivuality': 1, 'alison': 1, 'moyet': 1, 'johnson': 1, 'johnsons': 1, 'dubby': 1, 'mortal': 1, 'kombat': 1, 'ultras': 1, 'critize': 1, 'bash': 1, 'gfcf': 1, 'priority': 1, 'yanni': 1, 'mcandrews': 1, 'journale': 1, 'heartfelt': 1, 'dont': 1, 'anf': 1, 'staney': 1, 'immaculate': 1, 'completist': 1, 'singles': 1, 'sisters': 1, 'beatles': 1, 'stones': 1, 'eagles': 1, 'fleetwood': 1, 'preferable': 1, 'grateful': 1, 'exude': 1, 'adjoin': 1, 'brainwash': 1, '1980s': 1, 'poppy': 1, 'wig': 1, 'hairspray': 1, 'touchstone': 1, 'rationalize': 1, 'spectorish': 1, 'saccharine': 1, 'assault': 1, 'bunche': 1, 'aor': 1, 'infectious': 1, 'undeniably': 1, 'guilty': 1, 'memories': 1, \"con't\": 1, 'corporate': 1, 'happend': 1, 'folky': 1, 'blusey': 1, 'expertly': 1, 'spade': 1, 'sophmoric': 1, 'unimaginative': 1, 'elves': 1, 'authors': 1, 'bantum': 1, 'tetherball': 1, 'doable': 1, 'sledgehammer': 1, 'compressor': 1, 'wobbli': 1, 'aftermath': 1, 'russians': 1, 'troubled': 1, 'czecheslovakia': 1, 'aerobic': 1, 'franchesca': 1, 'uncoordinated': 1, 'roughly': 1, 'drm': 1, 'mobile': 1, 'piracy': 1, 'onerous': 1, 'unimpressive': 1, 'predominant': 1, 'poor.2.5/5': 1, 'products': 1, 'rooster': 1, 'llc': 1, 'mcguire': 1, 'nicholas': 1, 'laughter': 1, 'nevergreen': 1, 'portuguese': 1, 'freshman': 1, 'roommate': 1, 'muppets': 1, 'denver': 1, 'echo': 1, 'hark': 1, 'herald': 1, 'patty': 1, 'cider': 1, 'chritsmas': 1, 'clarity': 1, 'http://www.amazon.com/charlie-brown-christmas-ann-altieri/dp/b00004w5um/ref=sr_1_3?s=dvd&ie;=utf8&qid;=1291690784&sr;=1-3': 1, '.one': 1, 'melendez': 1, 'sparky': 1, 'emmy': 1, 'tradition-': 1, 'schultz': 1, 'imprint': 1, 'psyche': 1, 'inane': 1, 'beagle': 1, 'sofa': 1, 'decoration': 1, 'babe': 1, 'manger': 1, 'eternal': 1, 'salvation': 1, 'shultz': 1, 'crew': 1, 'jesus': 1, 'soapbox': 1, 'personify': 1, 'broadcaster': 1, 'preempt': 1, 'vince': 1, 'guaraldi': 1, 'downfall': 1, 'blockhead': 1, 'slipcover': 1, 'limitation': 1, 'overtly': 1, 'inclusion': 1, 'forty': 1, 'classicbrought': 1, 'biblically': 1, 'curate': 1, 'widescreen': 1, 'rammstein': 1, 'iffy': 1, 'pixelated': 1, 'crush': 1, \"5'7\": 1, 'petite': 1, 'comparable': 1, 'refluff': 1, 'laundermat': 1, 'out.one': 1, 'gymnastic': 1, 'maneuver': 1, 'mattress': 1, 'compress': 1, 'tooooooo': 1, 'disapointed!!lynnita': 1, 'scanlan': 1, 'down': 1, 'farrars': 1, 'sabbats': 1, 'g4thank': 1, 'darken': 1, 'macbook': 1, 'uncharging': 1, 'fixable': 1, 'trepidation': 1, 'charges).when': 1, 'connecter': 1, 'make.1': 1, 'charging.2': 1, 'resume': 1, '48w.': 1, 'a1021': 1, '65w.': 1, '7hrs': 1, 'watts': 1, 'volts': 1, 'amps': 1, 'charged': 1, 'picky': 1, 'flashy': 1, 'pitched': 1, 'buzzing': 1, 'bagan': 1, '/charger': 1, 'unpack': 1, 'juice': 1, 'lag': 1, 'powebooks': 1, 'g3s': 1, '1.5ghz': 1, '1.25': 1, '65w': 1, '45w.': 1, 'fluctuate': 1, 'squeaky': 1, 'relive': 1, 'rma': 1, 'orchard': 1, 'mashing': 1, 'ally': 1, 'juicer': 1, 'thankfully': 1, 'maczone': 1, 'receipt': 1, 'starsthe': 1, 'doesn': 1, 'power-': 1, 'stayed': 1, 'lodge': 1, 'plier': 1, 'automate': 1, 'limbo': 1, 'dough': 1, 'jiggle': 1, 'complete.otherwise': 1, 'irritated': 1, 'peripheral': 1, 'converter': 1, '240v.': 1, 'pb': 1, 'combinatorial': 1, 'bum': 1, 'physically': 1, 'bate': 1, 'differnt': 1, 'comany': 1, 'shopper': 1, 'm8482': 1, 'differnet': 1, \"10'cord\": 1, 'wrapper': 1, 'leavesthe': 1, 'repairable': 1, 'knck': 1, 'overstock': 1, 'insulting': 1, 'attache': 1, 'existant': 1, 'inspection': 1, 'messaging': 1, 'callback': 1, 'poster': 1, 'uglier': 1, 'chord': 1, 'adaper': 1, 'led.clearly': 1, 'epidemic': 1, 'exemplary': 1, 'multimeter': 1, 'letters.$40.-': 1, 'blink': 1, 'beater': 1, 'detach': 1, 'yoyo': 1, 'cordwrap': 1, 'sorrry': 1, '4.5': 1, ':1': 1, 'fire!2': 1, 'evaluate': 1, 'refurbish': 1, 'with).the': 1, '65watt': 1, 'mac!macally': 1, 'splice': 1, 'acquaintance': 1, 'unnervingly': 1, 'mysteriously': 1, 'connectivity': 1, 'tinker': 1, 'temporary': 1, 'ridiculously': 1, '17.00': 1, 'powerbooks': 1, 'fizzle': 1, 'overheat': 1, 'wary': 1, 'omission': 1, 'portability': 1, 'elegance': 1, 'smokig': 1, 'yay!)i': 1, 'whopping': 1, '79.99': 1, 'insignia': 1, 'eighty': 1, 'rreeeeaaall': 1, 'sssloowwww': 1, 'example:-when': 1, 'on.-with': 1, 'again.-then': 1, 'app': 1, 'ambar': 1, 'scrounge': 1, 'gen': 1, 'ticket': 1, 'mypowerbook': 1, 'stores': 1, 'apple.com': 1, 'availablein': 1, '80buck': 1, 'ugh!this': 1, 'themagsafe': 1, 'prone': 1, 'designflaw': 1, 'fook': 1, 'orf': 1, 'oscillate': 1, 'anything--': 1, 'sigh': 1, 'not.this': 1, '3-': 1, 'charged).but': 1, 'presume': 1, 'intermittently': 1, 'overprice': 1, 'outsource': 1, 'scant': 1, 'unplugging': 1, 'hazardous': 1, 'sparking': 1, 'intel': 1, 'power.-': 1, 'amp': 1, '2.65': 1, 'tibook': 1, 'albook': 1, 'asleep.(this': 1, 'deal)-': 1, 'yank': 1, 'accidentally.-': 1, 'plug.overall': 1, 'overnight': 1, 'a)given': 1, 'b)expensive': 1, 'unravel': 1, 'tarnished': 1, 'recognise': 1, 'centre': 1, '25th': 1, 'dilemma': 1, 'sympathise': 1, 'trauma': 1, 'complication': 1, 'disquiet': 1, 'oppertunity': 1, 'rathere': 1, 'invite': 1, 'attend': 1, 'rainy': 1, 'tara': 1, 'ehhh': 1, 'third': 1, 'jarringly': 1, 'anachronistic': 1, 'lenny': 1, 'lenapier': 1, 'leni': 1, 'lenape': 1, 'plunge': 1, 'buffalo': 1, 'runners': 1, 'che': 1, 'veryinformative': 1, 'divining': 1, 'thewilhelm': 1, 'baynes': 1, 'esther': 1, 'invaders': 1, 'lipsynche': 1, 'geezer': 1, 'geriatric': 1, 'been': 1, 'haul': 1, 'ss': 1, 'exhausted': 1, 'gorge': 1, 'trough': 1, 'embarrass': 1, 'tates': 1, 'loaf': 1, 'rocky': 1, 'dvds': 1, 'ab': 1, 'ripper': 1, 'kicking': 1, 'punching': 1, 'calf': 1, 'effectivly': 1, 'vitamin': 1, 'results.(p.s.': 1, 'cardio': 1, 'abs': 1, 'alternatie': 1, 'p90x': 1, 'p90x.': 1, 'muchas': 1, 'muchos': 1, 'sabio': 1, 'aun': 1, 'mas': 1, 'intrigante': 1, 'ingles': 1, 'reincarnation': 1, 'aquellos': 1, 'creen': 1, 'reincarnacion': 1, 'gran': 1, 'laguiole': 1, 'sabatier': 1, 'tarnish': 1, 'reddish': 1, 'pakistan': 1, 'prepaid': 1, 'usps': 1, 'knew': 1, 'hummer': 1, 'musixstation': 1, 'in)con': 1, 'subwoofer': 1, 'receptive': 1, 'halting': 1, 'settlement': 1, 'blackbeard': 1, 'hatteras': 1, 'aaron': 1, 'burr': 1, \"70'si\": 1, 'make.their': 1, 'bigfoot': 1, 'washington': 1, 'freshly': 1, 'cannon': 1, 'expedition': 1, 'j.p.': 1, 'farmers': 1, '.i': 1, '.the': 1, 'illustratiion': 1, 'rhineland': 1, 'guru': 1, 'perpetuate': 1, 'shareholder': 1, 'stakeholder': 1, 'greeks': 1, 'lundgren': 1, 'affection': 1, 'deviate': 1, 'journalistic': 1, 'traveler': 1, 'greek': 1, 'experience).the': 1, 'odysseus': 1, 'troy': 1, 'emphasize': 1, 'converstion': 1, 'persian': 1, 'iranian': 1, 'recommand': 1, 'interste': 1, 'molavi': 1, 'diffrent': 1, 'dastan': 1, 'pivotal': 1, 'longtime': 1, 'feeble': 1, '1920s': 1, 'ellery': 1, 'moment.[peterreeve': 1, 'receiver': 1, 'infrare': 1, 'webster': 1, 'hands': 1, 'comprehensible': 1, 'chirological': 1, 'aspiring': 1, 'palmist': 1, 'plamistry': 1, 'lib': 1, 'websters': 1, 'halica': 1, 'bliss': 1, 'v.11': 1, 'metamusic': 1, 'fish': 1, 'definite': 1, 'recycling': 1, 'whir': 1, 'differentiate': 1, 'greener': 1, 'electropasture': 1, 'palmieri': 1, 'jumbo': 1, 'excelente': 1, 'aunque': 1, 'grabación': 1, 'fue': 1, 'vivo': 1, 'auditorio': 1, 'admirador': 1, 'vece': 1, 'entorpece': 1, 'sonido': 1, 'stiffs': 1, 'band.this': 1, 'd.c.rip': 1, 'oi!to': 1, 'titled\"the': 1, 'stiffs_love': 1, 'depreciate': 1, 'stench': 1, 'inescapable': 1, 'monkeys': 1, 'normaly': 1, 'creep': 1, 'resd': 1, 'yaw': 1, 'writen': 1, 'wana': 1, 'count).avoid': 1, 'blurred': 1, 'instumental': 1, 'crisp': 1, 'orchestration': 1, 'afficionado': 1, 'reunite': 1, 'glen': 1, 'webb': 1, 'aussies': 1, 'gratitude': 1, 'bin': 1, 'caldor': 1, 'achingly': 1, \"ol'\": 1, 'bearded': 1, 'aback': 1, 'merritt': 1, 'islandbuy': 1, 'birdbook': 1, 'overpriced': 1, 'dimension': 1, '14.5': 1, '11.5': 1, 'loc': 1, '3/32': 1, 'clearance': 1, '1/16': 1, 'countersunk': 1, 'foremost': 1, 'recount': 1, '60s/70s/80s': 1, 'adopt': 1, 'wholeheartedly': 1, 'berkeley': 1, 'narcissism': 1, 'inward': 1, 'needs': 1, 'clay': 1, 'me\"': 1, 'life?\"why': 1, 'anymore!it': 1, 'yikes!the': 1, 'breathtakingly': 1, 'conceited': 1, 'counsel': 1, 'commentary': 1, 'lostness': 1, 'unadorned': 1, 'unembellished': 1, 'disgrace': 1, 'daunting': 1, 'backhand': 1, 'remark': 1, 'humble': 1, 'pious': 1, 'complexe': 1, 'forgave': 1, 'muder': 1, 'nickle': 1, 'diminsional': 1, 'fatten': 1, 'reassert': 1, 'sublime': 1, 'selfish': 1, 'nitwit': 1, 'nauseous': 1, 'journey.the': 1, 'misfit': 1, 'belitte': 1, 'starve': 1, 'prioritize': 1, 'secretive': 1, 'representative': 1, 'variation': 1, 'motorize': 1, 'polyester': 1, 'running': 1, 'appreciation': 1, 'paradox': 1, 'revision': 1, 'appearantly': 1, 'downplay': 1, 'palestinian': 1, 'athlete': 1, 'munich': 1, 'marine': 1, 'beirut': 1, 'closely': 1, 'browse': 1, 'cooker': 1, 'mony': 1, 'celtic': 1, 'thesewonderful': 1, 'woul': 1, 'legtitament': 1, 'thnx': 1, 'bert': 1, 'rectangular': 1, 'funnel': 1, 'moderate': 1, 'miniature': 1, 'peppercorn': 1, 'destine': 1, 'tried': 1, 'bunny': 1, 'comfortably': 1, 'mni': 1, 'squeezing': 1, 's&p': 1, 'jobbut': 1, 'peper': 1, 'chop': 1, 'luciano': 1, 'mafia': 1, 'abismal': 1, 'riddle': 1, 'misprint': 1, 'petal': 1, 'pedal': 1, '12th': 1, 'appreciated': 1, 'dental': 1, 'hygiene': 1, 'peculiarly': 1, 'mabe': 1, 'nero': 1, 'retrieval': 1, 'blurb': 1, 'yowl': 1, 'groom': 1, 'sable': 1, 'lilacs': 1, 'grooming': 1, 'exhibition': 1, 'breeding': 1, 'zillion': 1, 'exhalt': 1, 'predictive': 1, 'minnesota': 1, 'jeff': 1, 'kubenka': 1, 'bearer': 1, 'breadth': 1, 'indispensable': 1, 'lofty': 1, 'stathead': 1, 'statistic': 1, 'flyer': 1, 'top-100': 1, '1:9': 1, 'statitically': 1, '3:6': 1, 'interuppte': 1, 'pete': 1, 'runs': 1, 'eqa': 1, 'excel': 1, 'purposeful': 1, 'roman': 1, 'tudor': 1, 'shed': 1, 'felix': 1, 'marengo': 1, 'austerlitz': 1, 'waterloo': 1, 'alside': 1, 'ney': 1, 'marmont': 1, 'junot': 1, 'exile': 1, 'helena': 1, 'napoleonic': 1, 'imperial': 1, 'facinate': 1, 'genealogy': 1, 'specialist': 1, 'glowing': 1, 'differ': 1, 'writte': 1, 'corsican': 1, 'orge': 1, 'denounce': 1, 'impunity': 1, 'bourbon': 1, 'favour': 1, 'prestigious': 1, 'explaination': 1, 'spain': 1, 'nebulous': 1, 'uncompromising': 1, 'willpower': 1, 'mound': 1, 'representer': 1, 'hoodoo': 1, 'labs': 1, 'throwback': 1, 'subgenre': 1, 'overtone': 1, 'horrorcore': 1, 'gangsta': 1, 'octane': 1, 'posse': 1, 'vodou': 1, 'veritable': 1, 'vocally': 1, 'underground': 1, 'coppin': 1, 'hoodoolabs.com': 1, 'unjustified': 1, 'postmodern': 1, 'refraction': 1, 'casualty': 1, 'sellout': 1, '1990': 1, 'butler': 1, 'epsteinsmutha': 1, 'unofficial': 1, 'comp': 1, 'rhino': 1, 'nugget': 1, 'pressed': 1, 'invisible': 1, 'psychedlic': 1, 'tgiy': 1, 'unmove': 1, 'mostofthe': 1, 'whichever': 1, 'ownwhite': 1, 'acoustic': 1, 'single)1': 1, 'acoustic)are': 1, 'video)re': 1, 'live)pardon': 1, 'video)australian': 1, 'release1': 1, 'live)4': 1, 'live)5': 1, 'live)overall': 1, 'aussie': 1, 'cds.as': 1, 'bookcase': 1, 'bookclub': 1, 'apartment': 1, 'cleansing': 1, 'pagans': 1, 'adapt': 1, 'urbanite': 1, 'skor': 1, 'spiritualism': 1, 'overdue': 1, 'primitve': 1, 'piercings': 1, 'depiction': 1, 'nun': 1, 'benedetta': 1, 'carlini': 1, 'catholic': 1, 'illusion': 1, 'stigmata': 1, 'scrutiny': 1, 'tenderly': 1, 'feminist': 1, 'eyeshadow': 1, 'hollandthe': 1, 'mauve(purple': 1, 'bluish)this': 1, 'purple{dissapointe': 1, 'amour': 1, 'dedication': 1, 'innovative': 1, 'linnea': 1, 'disparity': 1, 'lacks': 1, 'distributor': 1, 'communication': 1, 'reset': 1, 'forum': 1, 'tech': 1, 'verify': 1, \"'cause\": 1, 'moor': 1, \"couldn't\": 1, 'capitol': 1, '1960': 1, 'deuce': 1, 'coupe': 1, 'fiords': 1, 'hoosier': 1, 'indianapolis': 1, 'burger': 1, 'downtown': 1, 'ayre': 1, 'riverside': 1, 'amusement': 1, 'speedway': 1, 'webpage': 1, 'lost': 1, 'indy': 1, 'nokia': 1, 'playerpro': 1, 'singal': 1, 'motorola': 1, 'v3i': 1, 'bluetooth': 1, 'headset': 1, 'gurantee': 1, 'wont': 1, 'wth': 1, 'well.but': 1, 'natalise': 1, 'shania': 1, 'hank': 1, 'merle': 1, 'haggard': 1, 'willy': 1, 'townes': 1, 'zandt': 1, 'fort': 1, 'oughta': 1, 'else': 1, 'permeate': 1, 'nuff': 1, 'cushioning': 1, 'barrier': 1, 'marathon': 1, 'triathlon': 1, 'evertime': 1, 'brilianty': 1, 'fury': 1, 'historic': 1, 'elitest': 1, 'rape': 1, 'helped': 1, 'rebel': 1, 'tyranny': 1, 'revoluntary': 1, 'rights': 1, 'dictatorship': 1, 'proletariat': 1, 'dispose': 1, 'oppress': 1, 'presidential': 1, 'liars': 1, 'horrendously': 1, 'mistaken': 1, 'anguish': 1, 'lavend': 1, 'lavenderthe': 1, 'gazebo': 1, 'bracket': 1, 'boat': 1, 'rail': 1, 'unraveled': 1, 'suspensefull': 1, 'domain': 1, '.99': 1, 'hog': 1, 'horeseman': 1, 'horseman': 1, 'otherworld': 1, 'favotire': 1, 'rightfully': 1, 'epic': 1, 'sounding': 1, 'grim': 1, 'icechest': 1, 'norway': 1, 'mighty': 1, 'metalhead': 1, 'a+.my': 1, 'almighty': 1, 'misrepresented': 1, 'unasked': 1, 'unnecessarily': 1, 'prep': 1, 'willfully': 1, 'usefulness': 1, 'mesmerize': 1, 'purity': 1, 'segregation': 1, 'aboard': 1, 'it!total': 1, '50:54': 1, '6/17/2003': 1, 'mechanically': 1, 'incline': 1, 'ladder': 1, 'ironside': 1, 'worse': 1, 'omg!if': 1, 'strangely': 1, 'greatimpulse': 1, 'playng': 1, 'conjure': 1, 'beverly': 1, 'hillbillies': 1, 'intricate': 1, 'shimmer': 1, 'nuance': 1, 'shakespeare': 1, 'gamut': 1, 'mariah': 1, 'carey': 1, 'portishead': 1, 'cardigans': 1, 'geri': 1, 'haliwell': 1, 'deserving': 1, 'bronx': 1, 'transcending': 1, 'airplay': 1, 'grammy': 1, '\"this': 1, 'slick': 1, 'weepy': 1, 'uninspiring': 1, 'mccrory': 1, 'ricky': 1, 'skaggs': 1, 'palette': 1, 'repetoire': 1, 'eclectic': 1, 'eg': 1, 'bush': 1, 'billie': 1, 'cesaria': 1, 'evora': 1, 'uncontrived.her': 1, 'velvet': 1, 'unnotice': 1, 'llorona': 1, 'singapore': 1, 'hmv': 1, 'discman': 1, 'pajarol': 1, 'despertaste': 1, 'klezmatics': 1, 'gipsy': 1, 'smash': 1, 'lahasa': 1, 'sultry': 1, 'airy': 1, 'exalt': 1, 'critique': 1, 'exoticism': 1, 'diversity': 1, 'originality': 1, 'raspy': 1, 'cigarrette': 1, 'administer': 1, 'indiscriminately': 1, 'repertoire': 1, 'chrismas': 1, 'frida': 1, 'accompaniment': 1, 'pared': 1, 'mournfully': 1, 'lope': 1, 'strained': 1, 'yodel': 1, 'subsequent': 1, 'ronstadt': 1, 'arranger': 1, 'sleeve': 1, 'affirm': 1, 'wizardry': 1, 'audiobook': 1, 'mrs.': 1, 'iowa': 1, 'lemon': 1, 'abou': 1, 'gymnast': 1, 'shrimks': 1, 'confine': 1, 'recur': 1, 'mearly': 1, 'intregue': 1, 'hearted': 1, 'elizabeth': 1, 'reveiw': 1, 'forest': 1, 'alastar': 1, 'thoght': 1, 'entrtaning': 1, 'pennsylvannia': 1, 'sitter': 1, 'deside': 1, 'dragon': 1, 'willam': 1, 'wizzard': 1, 'sam': 1, 'sprinter': 1, 'biggerthen': 1, 'aesthetics': 1, 'm.arch': 1, 'deteriorate': 1, 'hinge': 1, 'acrylic': 1, 'freak': 1, 'althought': 1, 'bookworm': 1, \"spells.(i'm\": 1, 'witchy': 1, 'good!this': 1, 'airhead': 1, 'blaze': 1, 'spellbind': 1, 'inste': 1, 'books': 1, 'divine': 1, 'luve': 1, 'disturb': 1, 'chamber': 1, 'extractor': 1, 'decker': 1, 'depot': 1, 'dent': 1, 'fielder': 1, 'mvp': 1, 'lifelong': 1, 'yankees': 1, 'ghostwriter': 1, 'champion': 1, 'cynicism': 1, 'wry': 1, 'vacuuming': 1, 'thiner': 1, 'tract': 1, 'headphone': 1, 'hissy': 1, 'fidelity': 1, 'november': 1, '15th': 1, 'evolutionize': 1, \"doens't\": 1, 'traod': 1, 'avail': 1, 'beta': 1, 'junkie': 1, 'embarasse': 1, 'horrid': 1, 'screne': 1, 'sacrifice': 1, 'clumsy': 1, 'progressively': 1, 'positve': 1, 'improved': 1, 'schmancy': 1, 'robocop': 1, 'umbrella': 1, '2mhz': 1, '500megas': 1, 'geforce4': 1, 'ctrl': 1, 'alt': 1, 'stairwell': 1, 'refinement': 1, 'ammo': 1, 'othor': 1, 'steriotypical': 1, 'iinstead': 1, 'whoa': 1, 'regressed': 1, 'cow': 1, 'glitches': 1, 'boxer': 1, 'explosive': 1, 'louvre': 1, 'prague': 1, 'medi': 1, 'pac': 1, 'ajoine': 1, 'you`ve': 1, 'anolog': 1, 'them!the': 1, 'character.overall': 1, 'v.good': 1, 'stale': 1, 'innovation': 1, 'hmmmm': 1, 'veteran': 1, 'precise': 1, 'edios': 1, 'jumping': 1, 'sceme': 1, 'revelations': 1, 'compleyely': 1, 'deck(s)with': 1, 'unit-': 1, 'fhh18ahave': 1, 'nga': 1, 'mildew': 1, 'chlorine': 1, 'parts': 1, 'stumped': 1, 'motor': 1, 'menards': 1, '1.39': 1, 'cascade': 1, 'dingy': 1, 'rain': 1, 'gutter': 1, 'landscaping': 1, 'coriander': 1, 'ginger': 1, 'garlic': 1, 'edgar': 1, 'allan': 1, 'grouping': 1, 'inseck': 1, 'educationl': 1, 'comprehendable': 1, 'fascinate': 1, 'backyard': 1, 'philosophic': 1, 'passage': 1, 'remaster': 1, 'digitally': 1, 'rechannele': 1, 'gatefold': 1, 'ego': 1, 'buggy': 1, 'twang': 1, 'worship': 1, 'bodypart': 1, 'integral': 1, 'alley': 1, 'flail': 1, 'lowest': 1, 'stuggle': 1, 'rating!!!money': 1, 'tubes': 1, 'mmhg': 1, 'therapeutic': 1, 'wearing': 1, 'beige': 1, 'buen': 1, 'producto': 1, 'rapido': 1, 'facil': 1, 'tiempo': 1, 'entrega': 1, 'contratiempo': 1, 'proceso': 1, 'recomiendo': 1, '76.46': 1, 'graham': 1, 'maitland': 1, 'digest(mixed': 1, 'front)sometime': 1, 'here-': 1, 'persephone': 1, 'doctoring': 1, 'laurie': 1, 'wisefield': 1, 'archive': 1, 'distillation': 1, 'turkey': 1, 'recipie': 1, 'ferment': 1, 'acid': 1, 'danish': 1, 'echire': 1, 'travelogue': 1, 'ejoyable': 1, 'languid': 1, \"1980'\": 1, 'deliberate': 1, 'english/': 1, 'british/': 1, 'welsh': 1, 'scots': 1, 'fledgling': 1, 'flag': 1, 'turks': 1, 'caicos': 1, 'bustle': 1, 'bermuda': 1, 'shore': 1, 'monserrat': 1, 'bookmaker': 1, 'anxious': 1, 'bookbinde': 1, 'bookbinding': 1, 'aldren': 1, 'upstate': 1, 'enchanted': 1, 'chatacter': 1, 'conscious': 1, 'manor': 1, 'domestic': 1, 'effectively': 1, 'spooky': 1, 'victorian???hardly': 1, 'cheated': 1, 'twentieth': 1, '18th': 1, '-20th': 1, 'recap': 1, 'truncate': 1, 'bibliography': 1, 'lust': 1, 'pneumatic': 1, 'anddog': 1, 'clipping': 1, 'lawnmower': 1, 'modify': 1, 'difucult': 1, 'clothespin': 1, 'mismache': 1, 'provision': 1, 'money!!!!!i': 1, 'retightening': 1, 'springs': 1, 'caget': 1, 'ace': 1, 'speculative': 1, 'agreement': 1, 'elusive': 1, 'questions': 1, 'utopian': 1, 'entheogen': 1, 'simplistically': 1, 'peacelove': 1, 'pala': 1, 'greedy': 1, 'seay': 1, 'utopia': 1, 'depress': 1, 'vulnerable': 1, 'distillationof': 1, 'views': 1, 'survival': 1, 'adventerous': 1, 'entirety': 1, 'unequivocably': 1, 'plotless': 1, 'socio': 1, 'exploration': 1, 'achievement': 1, 'anxiety': 1, 'parenting': 1, 'specte': 1, 'phylosopy': 1, 'executive': 1, 'architect': 1, 'noteriety': 1, 'haley': 1, 'october': 1, 'sundown': 1, 'fractured': 1, 'immensely': 1, 'fantasia': 1, 'gelosia': 1, 'gina': 1, 'lollobrigida': 1, 'marisa': 1, 'merlini': 1, 'luigi': 1, 'comencini': 1, 'boudu': 1, 'drowning': 1, 'renoir': 1, 'mite': 1, 'plantation': 1, 'enthral': 1, 'refenrece': 1, 'barbieri': 1, 'biologist': 1, 'mrc': 1, 'nih': 1, 'planck': 1, 'outrageous': 1, 'semantic': 1, 'germanys': 1, 'thrash': 1, 'godfather': 1, 'slayer': 1, 'mayhem': 1, \"sodoms'great\": 1, 'vein': 1, 'sodom': 1, 'annihilation': 1, 'empires': 1, 'praetorians': 1, 'strategic': 1, 'bowman': 1, 'siege': 1, 'fortess': 1, 'bello': 1, 'gallico': 1, 'fund': 1, 'throne': 1, 'bunnie': 1, 'innapropriate': 1, 'fourier': 1, 'partial': 1, 'all).i': 1, 'oscillation': 1, 'morris': 1, 'tennenbaum': 1, 'polland': 1, 'elem': 1, 'diff': 1, 'q': 1, 'sandpaper': 1, 'orient': 1, 'raven': 1, 'berg': 1, 'apes': 1, 'breathy': 1, 'tim': 1, 'hecker': 1, 'amon': 1, 'tobin': 1, 'trend': 1, 'suitably': 1, 'nightmarish': 1, 'queasy': 1, 'tweaking': 1, 'shriek': 1, 'marginally': 1, 'uncompromise': 1, 'subotnick': 1, 'apples': 1, 'booty': 1, 'piss': 1, 'whatnot': 1, 'truthfully': 1, 'neighbour': 1, 'shimmy': 1, 'demented': 1, 'beneath': 1, 'squeal': 1, 'squealing': 1, 'premature': 1, 'witha': 1, 'ticking': 1, 'sstv': 1, '2&3': 1, 'decode': 1, 'elephant': 1, 'poo': 1, 'fartsy': 1, 'flamboyantly': 1, 'insignificant': 1, 'arguably': 1, 'soil': 1, 'mcgee': 1, 'disapointment': 1, \"d'n'b\": 1, 'electrode': 1, 'twiddle': 1, 'encrypt': 1, 'spacial': 1, 'weirdness': 1, 'apreciate': 1, 'withrdj': 1, 'insane': 1, \"dn'b\": 1, 'static': 1, 'distorted': 1, 'ballistic': 1, 'comedown': 1, 'bean': 1, 'raggae': 1, 'oxymoron': 1, 'courtney': 1, 'kim': 1, '40': 1, 'breakthrough': 1, 'kids': 1, 'chic': 1, 'inkling': 1, 'girlscout': 1, 'klutz': 1, 'scissor': 1, 'supplies--': 1, 'beads--': 1, 'laterdidnt': 1, 'confirmation': 1, 'doorstep': 1, 'tailgate': 1, 'gromet': 1, 'anza': 1, 'iwao': 1, 'junko': 1, 'tomoyo': 1, 'chihiro': 1, 'sakura': 1, 'shiawase': 1, 'mahou': 1, 'crouse': 1, 'outlandsih': 1, 'bossy': 1, 'preteen': 1, 'bluster': 1, 'sail': 1, 'albert': 1, 'cannibal': 1, 'tribesman': 1, 'ransom': 1, 'observer': 1, 'islands': 1, 'poetry(poem': 1, 'distress': 1, 'awareness': 1, 'destructive': 1, 'blended': 1, 'dysfunctionsd': 1, 'neitzche': 1, 'atrocity': 1, 'touchy': 1, 'feely': 1, 'unmitigated': 1, 'flapdoodle': 1, 'quotation': 1, 'dashboard': 1, 'blasting': 1, 'northstar': 1, 'raze': 1, 'mo': 1, 'tx': 1, 'jeans': 1, '33x34': 1, 'wranglers': 1, 'badging': 1, 'wrangler': 1, 'returned': 1, '15.99': 1, 'legendary': 1, 'pard': 1, \"5'3\": 1, 'apparel': 1, 'uphold': 1, 'silky': 1, 'ooh': 1, 'bustier': 1, 'unsightly': 1, 'bulging': 1, 'pinching': 1, 'panty': 1, 'golly': 1, 'woo!\"s': 1, 'performer': 1, 'disturber': 1, 'knockin': 1, '2:16': 1, 'fragile(otherwise': 1, 'actually)and': 1, 'time!and': 1, 'meh': 1, 'keyless': 1, 'lanyard': 1, 'id': 1, 'assortment': 1, 'gaudy': 1, 'viable': 1, 'similarly': 1, 'hollenzer': 1, 'subtle': 1, 'thug': 1, 'esg': 1, 'theft': 1, 'hierarchy': 1, 'dryly': 1, 'purely': 1, 'azabache': 1, 'caribes': 1, 'vasquez': 1, 'tuareg': 1, 'yaiza': 1, 'untranslated': 1, 'vazquez': 1, 'maria': 1, 'reserve': 1, 'saga': 1, 'stilte': 1, 'admirer': 1, 'disolving': 1, 'spoil-': 1, 'undaunted': 1, 'proceed': 1, 'unfortunate': 1, 'niche': 1, 'onset': 1, 'inadvertently': 1, 'danielle': 1, 'steele': 1, 'relinquish': 1, 'book(s)': 1, 'dr': 1, 'unthreaded': 1, 'housing': 1, 'hardship': 1, 'man-': 1, 'less-': 1, 'commanche': 1, 'infant': 1, 'acknowledge': 1, 'brutality': 1, 'hemisphere-': 1, 'creek': 1, 'wounded': 1, 'nat': 1, 'autobiography': 1, 'woodburning': 1, 'flammable': 1, 'workmanship': 1, 'utilitarian': 1, 'wobbly': 1, 'snugly': 1, 'safely': 1, 'hearth': 1, 'trio': 1, 'unadulterated': 1, 'newcomb': 1, \"mfgr'er\": 1, 'informae': 1, 'specs': 1, 'plumbing': 1, 'emmission': 1, 'gadgetery': 1, 'manipulate': 1, 'gaming': 1, 'vista': 1, 'inquire': 1, 'strive': 1, '3.50': 1, 'shudder': 1, 'sunburn': 1, 'coaster': 1, 'pros:*great': 1, 'omni': 1, 'empire.*quite': 1, 'competitions*u': 1, 'sastification': 1, 'cons:*graphic': 1, 'blur*there': 1, 'sims.*very': 1, 'feell': 1, 'sastified': 1, 'beacuse': 1, 'that?!i': 1, 'delia': 1, 'twisted': 1, 'faulkner': 1, 'florida': 1, 'predictibility': 1, 'beaver': 1, 'firsthand': 1, 'fifty': 1, 'suspension': 1, 'nephew': 1, 'unlikeliness': 1, 'elevate': 1, 'sooner-': 1, 'inte': 1, 'easiy': 1, 'gill': 1, 'mathematically': 1, '8k': 1, '15k': 1, 'landlord': 1, 'equity': 1, 'heloc': 1, 'idle': 1, 'accrue': 1, 'income': 1, 'liquidity': 1, 'effectivness': 1, 'tought': 1, 'principal': 1, 'sheep': 1, 'blunt': 1, 'blush': 1, 'southerner': 1, 'legal': 1, 'ethiopian': 1, 'feast': 1, 'starving': 1, 'quarantine': 1, 'mismatched': 1, 'read-': 1, 'spouse': 1, 'other-': 1, 'unlimited': 1, 'quarentine': 1, 'lovebug': 1, 'passion-': 1, 'unwinding': 1, 'eh': 1, 'o.k': 1, 'woefully': 1, 'cringe': 1, 'emt': 1, 'isolation': 1, 'comedic': 1, 'vintage': 1, 'microsoft': 1, 'clipart': 1, 'atari': 1, 'picture!if': 1, 'atrari': 1, 'rom': 1, 'floppy': 1, 'sequencer': 1, 'hmmm': 1, 'papalotl': 1, 'manufacturing': 1, 'stongly': 1, 'desktop': 1, 'vice': 1, 'trickle': 1, 'lest': 1, 'reliever': 1, 'comb': 1, 'stressful': 1, 'apparatus': 1, 'salty': 1, 'scoot': 1, 'partly': 1, 'stressed': 1, 'leakage': 1, 'safekeepe': 1, 'rakes': 1, 'openne': 1, '-rant': 1, 'over-': 1, 'treaty': 1, 'factually': 1, 'simulate': 1, 'battlefield': 1, 'presumably': 1, 'rerun': 1, 'bearing': 1, 'derive': 1, 'assocaite': 1, 'footage.i': 1, 'flim': 1, 'flam': 1, 'tracted': 1, 'monotone': 1, \"could'nt\": 1, 'infomation': 1, 'assulte': 1, 'grimlan': 1, 'baxter': 1, '1940s-50s': 1, '60s': 1, 'brazil': 1, 'african': 1, 'passe': 1, 'doo': 1, 'wahs': 1, 'crackle': 1, 'tropicando': 1, 'pug': 1, 'lynn': 1, 'crazy!!!!the': 1, 'remote/': 1, 'garage/': 1, 'lights': 1, 'photography': 1, 'pithy': 1, 'froufrou': 1, 'yeb': 1, 'nab': 1, \"i'v\": 1, 'beeen': 1, 'dwinkinking': 1, 'teakilyafar': 1, 'cun': 1, 'itz': 1, 'bast': 1, 'dwink': 1, 'tohavb': 1, 'nah': 1, 'meen': 1, \"i'b\": 1, 'wienbat': 1, 'nothfing': 1, 'beet': 1, 'teequilla': 1, 'nofing': 1, 'datdwink': 1, 'calhmsz': 1, 'makez': 1, 'feelmo': 1, 'dake': 1, 'thot': 1, 'ttequila': 1, 'wilbwe': 1, 'youz': 1, 'familee': 1, 'mak': 1, 'feeel': 1, 'whandarfol': 1, 'yoo': 1, 'clouds': 1, 'ackroyd': 1, 'spoilt!dumb': 1, 'dame': 1, 'envelope': 1, 'wiil': 1, 'quip': 1, 'quaint': 1, 'sti': 1, 'ordnance': 1, 'colt': 1, 'means': 1, 'rig': 1, 'rag': 1, 'presto': 1, 'gunsmith)knowing': 1, 'lovers': 1, 'iconic': 1, 'firearm': 1, 'afficianado': 1, 'nylon': 1, 'cupholder': 1, 'swivel': 1, 'ceiling': 1, 'greatest': 1, 'wabash': 1, 'trilley': 1, 'operste': 1, 'handicams': 1, 'jerkiness': 1, 'utility': 1, 'photographer': 1, 'darrin': 1, 'ignites': 1, 'watercolorist': 1, 'unparalleled': 1, 'spontaneous': 1, 'padded': 1, 'kindest': 1, 'touted': 1, 'diverting': 1, 'pretension': 1, 'highsmith': 1, 'plight': 1, 'johnny': 1, 'devoted': 1, 'downward': 1, 'darkly': 1, 'poetic-': 1, 'laureates': 1, 'deatail': 1, 'fruitless': 1, 'discard': 1, 'befriended': 1, 'portend': 1, 'homeless': 1, 'eccentridw': 1, 'naivity': 1, 'innocence': 1, 'depravity': 1, 'bloody': 1, 'savor': 1, 'monstrosity': 1, 'execptional': 1, 'jilt': 1, 'friendship\"': 1, 'bulk': 1, 'pronuncation': 1, 'communicate': 1, 'disappointingly': 1, 'transliteration': 1, 'pronunciation': 1, 'e.g.': 1, 'proverb': 1, 'rapidrote': 1, 'wilco': 1, 'radiohead': 1, 'lena': 1, 'prinzessin': 1, 'drachen': 1, 'sollen': 1, 'fleigen': 1, 'sizeable': 1, 'outturned': 1, 'dribbling': 1, 'sunbathe': 1, 'iced': 1, 'lived': 1, 'colleague': 1, 'buckiley': 1, 'treasury': 1, 'endure': 1, 'rudyard': 1, 'kipling': 1, 'thorton': 1, 'burgess': 1, 'cox': 1, 'embellish': 1, 'viewsonic': 1, 'adjustable': 1, 'prop': 1, 'repack': 1, 'trance': 1, 'subdue': 1, 'foreground': 1, 'dissident': 1, 'fauna': 1, 'vol.5': 1, 'tosca': 1, 'def': 1, 'jams': 1, 'paperweight': 1, 'perplexed': 1, 'german).our': 1, 'caddy': 1, 'smug': 1, 'resounding': 1, 'chorus': 1, 'emer': 1, 'galilieo': 1, 'retractable': 1, 'nj': 1, 'canister': 1, 'horizont': 1, 'silent': 1, 'readily': 1, 'vangelis': 1, 'michel': 1, 'jarre': 1, 'dave': 1, 'esque': 1, 'mcguane': 1, 'wealthy': 1, 'businessman': 1, 'granddaugter': 1, 'cocaine': 1, 'columbian': 1, 'cartel': 1, 'yacht': 1, 'wreck': 1, 'priest': 1, 'consult': 1, 'smartass': 1, 'characte': 1, 'jolt': 1, 'supreme': 1, 'courtship': 1, 'calm': 1, 'swampy': 1, 'fans': 1, 'gruff': 1, 'logan': 1, 'canadian': 1, 'shatner': 1, 'dramatized': 1, 'dragonball': 1, 'z.': 1, 'magisterial': 1, 'gurnemanz': 1, 'kurt': 1, 'moll': 1, 'ablely': 1, 'baton': 1, 'rafael': 1, 'kubelik': 1, 'virile': 1, 'wagnerian': 1, 'dg': 1, 'one(1980': 1, 'krauss': 1, 'knappertsbusch': 1, 'decca': 1, 'aircheck': 1, 'pantuso': 1, 'wisconsin': 1, 'cob': 1, 'dp': 1, 'h': 1, 'heating': 1, 'sunlight': 1, 'co2detector': 1, 'expection': 1, 'co600': 1, 'vs': 1, 'alarms': 1, 'monooxide': 1, 'notification': 1, 'vacate': 1, 'batter': 1, 'brainer': 1, 'alarmed': 1, 'necessity': 1, 'amazaon': 1, 'lullabot': 1, 'automatically': 1, 'bougth': 1, 'lanc': 1, 'dsr': 1, 'pd170': 1, 'desadvantage': 1, 'stablity': 1, 'hight': 1, 'buterfly': 1, 'controller': 1, 'buttom': 1, 'rewire': 1, 'soder': 1, 'ribbon': 1, 'tilt': 1, 'sporting': 1, 'remanufacture': 1, 'consistenly': 1, 'karma': 1, 'suerte': 1, 'shakira2': 1, 'vas': 1, 'shakira3': 1, 'ojos': 1, 'asi': 1, 'shakira4': 1, 'aviso': 1, 'anuncio': 1, 'shakira5': 1, 'objection': 1, 'shakira6': 1, 'shakira7': 1, 'sombra': 1, 'ti': 1, 'shakira8': 1, 'quedes': 1, 'shakira9': 1, 'dejo': 1, 'madrid': 1, 'shakira10': 1, 'octavo': 1, 'shakira11': 1, 'ciega': 1, 'sordomuda': 1, 'shakira12': 1, 'creo': 1, 'shakira': 1, 'heft': 1, 'foil': 1, 'humpdy': 1, 'dumpty': 1, 'consistant': 1, 'denomination': 1, 'sporadically': 1, 'sumersault': 1, 'bargains': 1, 'rug': 1, 'wierd': 1, 'sober': 1, \"was'nt\": 1, 'ummm': 1, 'brainless': 1, 'slit': 1, 'merger': 1, 'ced': 1, 'videodisc': 1, 'explanatory': 1, 'misunderstanding': 1, 'superstition': 1, 'barbarian': 1, 'temujin': 1, 'aka': 1, 'genghis': 1, 'forebear': 1, 'enactment': 1, 'militaristic': 1, 'mongols': 1, 'strait': 1, 'robin': 1, 'muzzie': 1, 'reversible': 1, 'tier': 1, 'kinkos': 1, 'skimps': 1, 'ideas(mostly': 1, 'shaded': 1, 'travels\"': 1, 'stunningly': 1, 'extended': 1, 'ideas': 1, 'solvent': 1, 'bor': 1, 'cheer': 1, 'c1500': 1, '5.7l': 1, 'inverted': 1, \"o'reilleys\": 1, '6.51': 1, 'purchased': 1, 'weep': 1, 'expansive': 1, 'slapstick': 1, 'junky': 1, 'baaaaad': 1, 'http://www.amazon.com/gp/product/b00005yvx9/ref=cm_cr_rev_prod_title': 1, 'stunt': 1, 'soda': 1, 'rewind': 1, 'movie?my': 1, '1.37:1': 1, 'aspect)yep': 1, 'parody': 1, 'duo': 1, 'hmmmmmm': 1, 'valve': 1, 'nipple': 1, 'lane': 1, 'brittle': 1, 'ness': 1, 'pretzel': 1, 'boooooo': 1, 'launcher': 1, 'wanting': 1, 'valving': 1, 'pressurize': 1, 'wholistic': 1, 'specialize': 1, 'herbs': 1, 'prayer': 1, 'fp': 1, 'walker': 1, 'rubbing': 1, 'swelling': 1, 'bandaging': 1, 'ankle': 1, 'alignment': 1, 'snippet': 1, 'simon': 1, 'rudd': 1, 'black\"': 1, 'oman': 1, 'experience;shot': 1, 'grainy': 1, 'flesh;that': 1, 'haired': 1, 'sharon': 1, 'colleen': 1, 'brennan': 1, \"1970'\": 1, 'shouldconcentrate': 1, 'dispense': 1, \"they'regetting\": 1, 'instantly-': 1, 'prude': 1, 'outright': 1, 'titillation': 1, 'veiled': 1, 'relevance': 1, 'cri': 1, 'correctness': 1, 'markette': 1, 'coyness': 1, 'piers': 1, 'immortality': 1, 'apprentice': 1, 'adept': 1, 'devious': 1, 'magician': 1, 'humphrey': 1, 'clio': 1, 'elf': 1, 'jenny': 1, 'moons': 1, 'prejudice': 1, 'rejection': 1, \"dx'd\": 1, 'helpdul': 1, 'leukemia': 1, 'chemo': 1, 'gvhd': 1, 'print)i': 1, 'weakest': 1, 'unforgetable': 1, 'santana': 1, 'elevator': 1, 'combo': 1, 'sheila': 1, 'kicker': 1, 'sideman': 1, 'alexander': 1, 'tenorsax': 1, 'thia': 1, 'capure': 1, 'misic': 1, 'earlands': 1, 'prestige': 1, 'milestone': 1, 'savant': 1, 'highnote': 1, 'iraq': 1, 'enlighted': 1, 'above).however': 1, 'immediacy': 1, \"we're\": 1, 'enchantment': 1, 'alhaj': 1, 'midst': 1, 'faculty': 1, 'unm': 1, 'inextricably': 1, 'dodd': 1, 'dressing': 1, 'butt': 1, 'thumbs': 1, 'sibling': 1, 'affluent': 1, 'embarrassingly': 1, 'amenity': 1, 'matriarch': 1, 'sprawl': 1, 'extravagant': 1, 'tennis': 1, 'jacuzzi': 1, \"1950'\": 1, 'likelyhood': 1, 'overhaul': 1, 'vodka': 1, 'leaky': 1, 'classy': 1, 'tacky': 1, 'booklet-': 1, 'doodle': 1, 'phone-': 1, 'elated': 1, 'yea': 1, 'alaskan': 1, 'uniformly': 1, 'rotary': 1, 'repackage': 1, 'time-': 1, 'seller:-)but': 1, '26ga': 1, 'copper': 1, 'beefy': 1, 'product.1rst': 1, 'mud': 1, 'this?2nd': 1, 'dulli': 1, 'problem!!:the': 1, 'projectile': 1, 'dart': 1, 'disturbed': 1, 'avant': 1, 'garde': 1, 'ornette': 1, 'coleman': 1, 'karlheinz': 1, 'stockhausen': 1, 'looooong': 1, 'stunning': 1, 'ramify': 1, \"didn't.but\": 1, 'frightening': 1, 'courageous.i': 1, 'knockout': 1, 'masterwork': 1, 'seamlessly': 1, 'intimate': 1, 'stir': 1, 'relish': 1, 'scad': 1, 'portrayal': 1, 'muzhik': 1, 'perestroika': 1, 'glasnost': 1, 'demise': 1, 'detective': 1, 'personalized': 1, 'anatomy': 1, 'unbound': 1, 'negotiably': 1, 'withe': 1, 'dependable': 1, 'needlessly': 1, 'tolerance': 1, 'tolerable': 1, 'horrific': 1, 'frightful': 1, 'breach': 1, 'egress': 1, 'route': 1, 'impending': 1, 'blending': 1, 'karate': 1, 'shameless': 1, 'chomp': 1, 'nightfall': 1, 'tempest': 1, 'undead': 1, 'spoiler': 1, 'lurk': 1, 'matinee': 1, 'dash': 1, 'relentless': 1, 'interestingly': 1, 'defiantly': 1, 'filming': 1, 'advertising': 1, 'interrupt': 1, 'modification': 1, 'sunglass': 1, 'lense': 1, 'stretchy': 1, 'ballerina': 1, 'm.': 1, 'domino': 1, 'ecstatic': 1, 'small/': 1, 'covering': 1, 'craftsmanship': 1, 'mashe': 1, 'dauther': 1, 'u.s.a': 1, 'damp': 1, 'bleach': 1, 'mending': 1, '50%ile': 1, 'removable': 1, 'reorder': 1, 'prolong': 1, 'shimmery': 1, 'sparkle': 1, 'eve': 1, 'perfectly-': 1, 'disclosure': 1, 'norfolk': 1, 'overboard': 1, 'chatter': 1, 'spindly': 1, 'robust': 1, 'extenede': 1, 'mazimum': 1, 'charater': 1, \"hasen't\": 1, 'budge': 1, 'wrought': 1, 'elongate': 1, 'umbra': 1, 'coretto': 1, 'blackthe': 1, 'technotronic': 1, 'uninspired': 1, 'tt': 1, 'freestyle': 1, 'overdubbing': 1, 'midnite': 1, 'menus': 1, 'exit': 1, 'march': 1, 'devour': 1, 'baking': 1, 'damaged': 1, 'insulate': 1, 'celephane': 1, 'unethical': 1, 'show-': 1, 'martha': 1, 'dorie': 1, 'greenspan': 1, 'longevity': 1, 'delighted': 1, 'publicity': 1, 'fave': 1, 'probaby': 1, 'sally': 1, 'valkoman': 1, 'arresting': 1, 'gorilla': 1, 'bulkier': 1, 'monopod': 1, 'steadicam': 1, 'readysteady': 1, 'book-': 1, 'glossary': 1, 'vegetarian//vegan': 1, 'vegan': 1, 'credentialing': 1, 'fasion': 1, 'fops': 1, 'pas': 1, 'millionaire': 1, 'traveller': 1, 'becasue': 1, 'effeminate': 1, 'niles': 1, 'crane': 1, 'imporatnt': 1, 'basice': 1, 'adhere': 1, 'authoritative': 1, 'foppish': 1, 'dustjacket': 1, 'haircut': 1, 'lavish': 1, 'chicago': 1, 'florence': 1, 'milan': 1, 'beijing': 1, 'shanghai': 1, 'overbearing': 1, 'unreadable': 1, 'bridges': 1, 'menswear': 1, 'furnishing': 1, 'relocate': 1, 'paris': 1, 'patronize': 1, 'propose': 1, 'unconvincing': 1, 'difficultiescultural': 1, 'prohibitionsbiological': 1, 'hormone': 1, 'pesticide': 1, 'antibioticsand': 1, 'compulsive': 1, 'dependency': 1, 'clinician': 1, 'this?in': 1, 'counselling': 1, 'legume': 1, 'leafy': 1, 'vegetable': 1, 'resistence': 1, 'avidly': 1, 'insulin': 1, 'layman': 1, 'metabolism': 1, 'mody': 1, 'increasingly': 1, 'acidic': 1, 'detaille': 1, 'preache': 1, 'nutritional': 1, 'it--': 1, 'neil': 1, 'bernard': 1, 'dietician': 1, 'bernsteins': 1, 'normalization': 1, 'carbohydrate': 1, 'author(a': 1, 'diabetic)hasworke': 1, 'extract': 1, 'recipes': 1, 'recomment': 1, 'ancestor': 1, 'eat.time': 1, 'sixteen': 1, 'teabag': 1, 'arcoroc': 1, 'slice': 1, 'redesign': 1, 'flared': 1, 'dissapear': 1, 'unexpectedly': 1, 'individually': 1, 'recipient': 1, 'xma': 1, 'time.---': 1, 'these(sort': 1, 'snapple': 1, 'drainer': 1, 'energetically': 1, 'soak': 1, 'sports': 1, 'hypnosis': 1, 'horatio': 1, 'antony': 1, 'admiral': 1, 'understable': 1, 'alongside': 1, 'brilliantly': 1, 'excellently': 1, 'overy': 1, 'ought': 1, 'reconstruction': 1, 'powerfully': 1, 'operational': 1, 'russo': 1, 'germano': 1, 'richly': 1, 'joel': 1, 'commander': 1, 'airman': 1, 'conceive': 1, 'goering': 1, 'domme': 1, 'manstein': 1, 'milch': 1, 'wolfram': 1, 'richthofen': 1, 'heartily': 1, 'paulus': 1, 'sustain': 1, '2)just': 1, 'sufi': 1, 'insuficient': 1, 'buenos': 1, 'aires': 1, 'blanche': 1, 'emilio': 1, 'ado': 1, 'dancing': 1, 'beginners': 1, 'specially': 1, 'tempos': 1, 'exclusively': 1, 'hunger': 1, 'footstep': 1, 'footwork': 1, 'monthly': 1, 'tip': 1, 'unoffical': 1, 'itinerary': 1, 'sugary': 1, 'crowd': 1, 'dissapointment': 1, 'contition': 1, ':o)': 1, 'dede': 1, 'fuzzie': 1, 'cassie': 1, 'edwards': 1, 'faraway': 1, 'untrue': 1, 'shave': 1, 'theirselve': 1, 'harmonica': 1, 'hypgnosis': 1, 'delux': 1, 'slideshow': 1, 'rw': 1, 'bd': 1, 'ouside': 1, 'sm': 1, 'premier': 1, 'storage': 1, 'perk': 1, 'br.so': 1, 'valentines': 1, 'excellect': 1, 'accuracy': 1, 'dependability': 1, 'magnitude': 1, 'a+': 1, '3~4.5/5': 1, '3.5~4.75/5': 1, '4~4.75/5': 1, '0~4/5': 1, 'u.s.aspider': 1, 'freempeg-4': 1, '2:01:11movie': 1, '30,791,897,088': 1, '32,496,402,276': 1, '26.09': 1, 'upconverted': 1, 'master)spider': 1, 'branching)mpeg-4': 1, '2:07:25movie': 1, '36,883,243,008': 1, '24.14': 1, 'seamless)mpeg-4': 1, '2:15:46movie': 1, '39,171,311,616': 1, '24.06': 1, 'ampeg-4': 1, '2:19:10movie': 1, '43,368,265,728': 1, '48,052,312,355': 1, '26.06': 1, 'bitlpcm': 1, '4608kbps': 1, 'rewrappe': 1, 'sipder': 1, 'gwirth': 1, 'ginnyww': 1, 'norm': 1, 'samsung': 1, 'xbox': 1, 'console': 1, 'tobey': 1, 'maguire': 1, 'parker': 1, 'elijah': 1, 'frodo': 1, 'baggin': 1, 'strengthen': 1, 'garfield': 1, 'nerdy': 1, 'homely': 1, 'neurosis': 1, 'bookish': 1, 'skateboard': 1, 'agressive': 1, 'bold': 1, 'leaner': 1, 'unneccessary': 1, 'vale': 1, 'bundle': 1, 'trilogy\"': 1, 'unsold': 1, 'barcode': 1, 'pictures': 1, 'knockoff': 1, 'iii': 1, 'popcorn': 1, 'supermarket': 1, 'quaker': 1, 'essentials': 1, 'oat': 1, 'bran': 1, 'peach': 1, 'lovebird': 1, 'dunk': 1, 'perch': 1, 'sculpture': 1, 'druids': 1, 'gardnarian': 1, 'traditions': 1, 'wiccans': 1, 'endevor': 1, 'perhapse': 1, 'idotic': 1, 'graves': 1, 'invent': 1, 'magnifier': 1, 'paganism': 1, 'halifax': 1, 'shattering': 1, 'scholarship': 1, 'eminently': 1, 'readability': 1, 'suggestbonewit': 1, 'typeset': 1, 'veyr': 1, 'miniscule': 1, 'hardback': 1, 'aspirin': 1, 'standby': 1, 'sync': 1, 'hc40': 1, 'heckuva': 1, 'annoyingly': 1, 'suckere': 1, 'favorable': 1, 'blog': 1, 'work!!!once': 1, 'pc.it': 1, 'thet': 1, 'cashcow': 1, 'vaio': 1, 'overdesigne': 1, 'i.': 1, 'has)your': 1, 'seperately': 1, '1.8': 1, 'hitting': 1, '6yr': 1, 'oldthe': 1, 'serveso': 1, 'shown': 1, 'tennisexpress': 1, 'cosmetic': 1, 'absorber': 1, 'mishit': 1, 'phantom': 1, 'glasses': 1, 'september': 1, 'ashamed': 1, 'flatout': 1, 'lan': 1, 'leadfoot': 1, 'dtrsc': 1, 'off.jc': 1, 'lifetime?my': 1, 'imminent': 1, 'exquisitely': 1, 'plainly': 1, 'familial': 1, 'mammal': 1, 'lifespan': 1, 'grieve': 1, 'willow': 1, 'comforting': 1, 'grandma': 1, 'cadence': 1, 'injure': 1, 'expectancy': 1, 'specie': 1, 'removal': 1, 'nutshell': 1, '\"just': 1, 'fightene': 1, 'bandaid': 1, 'mozart': 1, 'lebrun': 1, 'deviant': 1, 'korn': 1, 'limp': 1, 'bizkit': 1, 'terryife': 1, 'culminate': 1, 'www.pitchshifter.com': 1, 'onslaught': 1, 'broadcast': 1, 'stilll': 1, 'eagerly': 1, 'pitchshifter.com': 1, 'infotainment': 1, 'wafer': 1, 'resemble': 1, 'ministry': 1, 'outdo': 1, 'bratz': 1, 'helmet': 1, 'carpet': 1, 'hardwood': 1, '89.99': 1, 'expectaitions': 1, 'pristine': 1, 'arganment': 1, 'sting': 1, 'benjamin': 1, 'alter': 1, 'post-1990': 1, 'distinctive': 1, 'one.visionclothingco.com': 1, 'least.8/10': 1, '^': 1, 'genric': 1, 'chrous': 1, '*sigh': 1, 'sahaj': 1, 'egyptian': 1, 'devole': 1, 'egyption': 1, 'undertaken': 1, 'trixter': 1, 'pj': 1, 'farley': 1, 'ra.i': 1, 'it!!!ra': 1, 'nu': 1, 'balanced': 1, 'goldenberg': 1, 'amateurish': 1, 'sbt': 1, 'explosiveness': 1, 'weak!the': 1, 'mechanic': 1, 'areas!!only': 1, 'declaration': 1, 'unfactual': 1, '9/11': 1, 'react': 1, 'conception': 1, 'codification': 1, 'amendment': 1, 'separation': 1, 'baptists': 1, 'phd': 1, 'furthermore': 1, 'opposite': 1, 'distribute': 1, 'funding': 1, 'congress': 1, 'monumental': 1, 'kirk': 1, 'cameron': 1, 'baseless': 1, 'endnote': 1, 'speech': 1, 'bc': 1, 'speculation': 1, 'hearsay': 1, 'masquerade': 1, 'utah': 1, 'blurry': 1, 'verygood': 1, 'meek': 1, 'armor': 1, 'rescue': 1, 'popularity': 1, 'gary': 1, '~ondine': 1, 'lisa': 1, 'tjhe': 1, 'n.w.': 1, \"wasn't\": 1, 'books(ie': 1, 'chosen': 1, 'whimpy': 1, 'wimp': 1, 'ewww': 1, 'wrongness': 1, 'vamp': 1, 'popluar': 1, 'retarded': 1, 'ths': 1, 'nigt': 1, 'soalmate': 1, 'secreat': 1, 'weakling': 1, 'sats': 1, 'iris': 1, 'reicarnation': 1, 'delt': 1, 'chestnut': 1, 'misery': 1, 'slant': 1, 'uncertainty': 1, 'unquestioningly': 1, 'cynically': 1, 'disparage': 1, 'untold': 1, 'openly': 1, 'propagandistic': 1, 'ideological': 1, 'nourish': 1, 'sprite': 1, 'aeoliah': 1, 'asatru': 1, 'scandinavian': 1, 'andrea': 1, 'nebel': 1, 'haugan': 1, 'professionally': 1, 'heathen': 1, 'exemplify': 1, 'standpoint': 1, 'brunt': 1, 'harmful': 1, 'unwary': 1, '\"there': 1, 'spiess': 1, 'rocker': 1, 'higginson': 1, 'english-': 1, 'verse': 1, 'kigo': 1, 'deduce': 1, 'kerouac': 1, 'basho': 1, 'jot': 1, 'ludicrous': 1, '50,000': 1, 'lunatic': 1, 'chasing': 1, 'files': 1, 'condense': 1, 'disjointed': 1, 'cogent': 1, 'fodder': 1, 'bogus': 1, 'bunk': 1, 'loney': 1, 'construe': 1, '\"*shaking': 1, 'head*whatever': 1, 'occam': 1, 'razor': 1, 'singularly': 1, 'occurrence': 1, 'revelatory': 1, 'float': 1, 'sap': 1, 'pellington': 1, 'screenwriter': 1, 'hatem': 1, 'dross': 1, 'abduction': 1, 'scenario': 1, 'inhabit': 1, 'pleasent': 1, '2:30': 1, 'a.m': 1, 'jacques': 1, 'vallee': 1, 'unpopular': 1, 'psychic': 1, 'investigate': 1, 'beef': 1, '60': 1, 'instamatic': 1, 'newspeople': 1, 'wacky': 1, 'meandering': 1, 'hick': 1, 'infrequently': 1, 'i-': 1, 'dismay': 1, 'invasion': 1, 'nonlinear': 1, 'spectral': 1, 'sensiable': 1, 'investigator': 1, 'parinoid': 1, 'delusional': 1, 'virgina': 1, 'ohio': 1, 'mib': 1, 'stange': 1, 'cattle': 1, 'mutation': 1, 'keels': 1, 'proficie': 1, 'copywritten': 1, 'sci': 1, 'contactee': 1, 'persist': 1, 'mackeral': 1, 'incoherent': 1, 'crazy!just': 1, 'horrify': 1, 'wired': 1, 'android': 1, 'mush': 1, 'raid': 1, 'moth': 1, \"son't\": 1, 'bugs': 1, 'moving': 1, 'repetetive': 1, 'acquire': 1, 'decidedly': 1, 'demon': 1, 'raving': 1, 'phenomenal': 1, 'clipped': 1, 'desccription': 1, 'debunking': 1, '\"despite': 1, 'earnestly': 1, 'saucer': 1, 'thyroid': 1, '\"the': 1, 'fictitiously': 1, 'documentation': 1, 'credible': 1, 'perceptual': 1, 'corroborate': 1, 'infinity': 1, 'carlos': 1, 'castaneda': 1, 'journeys': 1, 'monroe': 1, '3)the': 1, 'esmeralda': 1, 'arana': 1, 'skeptic': 1, 'restorative': 1, 'hugger': 1, 'mugger': 1, 'bolster': 1, 'recreation': 1, 'mixer': 1, 'downstair': 1, 'default': 1, 'upsetting': 1, 'woofer': 1, 'categorize': 1, 'criterion': 1, 'mia.but': 1, 'shi': 1, 'lankin': 1, 'noice': 1, 'eletronic': 1, 'pore': 1, 'gibberish': 1, 'generate': 1, 'outrage': 1, 'steering': 1, 'terrorists': 1, 'li': 1, 'concur': 1, 'faded': 1, 'fruity': 1, 'prefuse': 1, 'sucker': 1, 'a!!!!record': 1, 'airwave': 1, 'fire-\"growin': 1, 'brewin': 1, 'upguerilla': 1, 'uplook': 1, 'outfrom': 1, 'rooftop': 1, 'reffere': 1, 'snipers]\"competition': 1, 'nowload': 1, 'pop\"she': 1, 'organisation': 1, 'imf': 1, 'satellite': 1, 'oppression': 1, 'lennon': 1, 'aspire': 1, 'ethos': 1, 'jettison': 1, 'rapid': 1, 'rage': 1, 'arrest': 1, 'pugilist': 1, 'tamil': 1, 'salient': 1, 'spelunk': 1, 'politico': 1, 'exhilarate': 1, 'writ': 1, 'juxtapose': 1, 'creatively': 1, 'aquired': 1, 'awesomely': 1, 'crave': 1, 'uniqueness': 1, 'treat!1': 1, 'skit2': 1, '8/103': 1, 'point)4': 1, '9/105': 1, 'skit6': 1, '10/107': 1, '6.5/108': 1, '7.5/109': 1, 'skit10': 1, 'robotic': 1, 'lol)11': 1, 'sunshower': 1, 'vibe)12': 1, 'soley': 1, 'times-': 1, 'ouvre': 1, 'sunshowers\"': 1, 'beggar': 1, 'banquet': 1, 'amazon\",\"fire': 1, 'galang\",i': 1, '2am': 1, \"arular'\": 1, 'beyonce': 1, 'ciara': 1, 'missy': 1, 'elliott': 1, 'clichéd': 1, 'verdict': 1, 'credential': 1, 'ratings?a': 1, 'apocalypse': 1, 'pg13': 1, 'memo': 1, 'mc': 1, 'jamaican': 1, 'brazilian': 1, 'bhangra': 1, 'arulpragasam': 1, 'wha': 1, 'dollah': 1, 'anyte': 1, 'sophistication': 1, 'hugely': 1, 'lollipop': 1, 'unfounded': 1, 'exuberant': 1, 'gosh': 1, 'm.i.a.!sitars': 1, 'bongo': 1, 'thumping': 1, 'bassline': 1, 'blip': 1, 'flavoring': 1, 'refresh': 1, 'sunshowers': 1, 'rhythmic': 1, 'provide.but': 1, 'target.as': 1, 'spit': 1, 'worm': 1, 'chunky': 1, 'drawl': 1, 'ish': 1, 'grime': 1, 'calypso': 1, 'chatting': 1, 'wicked': 1, 'chutney': 1, 'cornerstone': 1, 'talentless': 1, 'voices': 1, 'bulgaria': 1, 'hota': 1, 'hai': 1, 'sunshowers:\"you': 1, 'surrender\"\"it': 1, 'go\"\"they': 1, 'muslims?\"now': 1, 'censorship': 1, 'glorify': 1, 'meditate': 1, 'pondering': 1, 'famed': 1, 'lyricism': 1, 'tangent': 1, 'kundrea': 1, 'ds': 1, 'partcularly': 1, 'betrayal': 1, 'salad': 1, 'stonewear': 1, 'tableware': 1, 'powder': 1, 'ecological': 1, 'tablet': 1, 'registry': 1, 'nicking': 1, 'accidentally': 1, 'burrough': 1, 'clash': 1, 'taking': 1, 'forewarn': 1, 'sorriest': 1, 'dang': 1, 'instabook': 1, 'recycle': 1, 'sensative': 1, 'underlying': 1, 'equation(suicide': 1, 'liven': 1, 'duh': 1, 'trashed.note': 1, 'drumming': 1, 'astro': 1, 'consistantly': 1, 'lagwagon': 1, 'suicide': 1, 'photographic': 1, 'peninsula': 1, 'heyday': 1, 'arverne': 1, 'hampton': 1, 'unspoiled': 1, 'dune': 1, 'bay': 1, 'marshe': 1, 'belle': 1, '1976!for': 1, '--or': 1, 'lived--': 1, '116th': 1, 'rockaways': 1, 'seaside': 1, 'slum': 1, 'seashore': 1, 'vincent': 1, 'ekg': 1, 'farmdogs\"': 1, 'attempts?please': 1, 'robin@moonsitter.comthank': 1, '2/5': 1, 'addy': 1, 'formulatic': 1, 'heartless': 1, 'scandinavia': 1, 'forgetable': 1, 'gathering': 1, 'dissapointed?': 1, 'mere': 1, 'mastering': 1, 'insanely': 1, 'riaa': 1, 'tingling': 1, 'savatage': 1, 'tasteless': 1, 'eminem': 1, 'boyband': 1, 'gatbage': 1, 'smack': 1, 'lacuna': 1, 'coil': 1, 'angra': 1, 'therion': 1, 'sins': 1, 'lament': 1, 'wanderlust': 1, 'crownless': 1, 'fantasmic': 1, 'divide': 1, 'clown': 1, 'yngwie': 1, 'armaggedon': 1, '.try': 1, '.they': 1, 'eva': 1, 'vraiment': 1, 'unqiue': 1, 'tounes': 1, 'supers': 1, 'orginale': 1, 'découvrir': 1, 'métal': 1, 'aucune': 1, 'autre': 1, 'vribrer': 1, 'eux': 1, 'à': 1, 'tous': 1, 'monde': 1, 'cest': 1, 'simplement': 1, 'renversant': 1, 'extraordinaire': 1, 'sensationnelle': 1, 'sur': 1, 'ligne': 1, 'voix': 1, 'cadré': 1, 'devenant': 1, 'suite': 1, \"qu'ils\": 1, 'avaient': 1, 'commencer': 1, 'revienne': 1, 'disque': 1, 'presque': 1, 'aussi': 1, 'deuxieme': 1, 'rebondissement': 1, 'romantique': 1, 'qui': 1, 'sans': 1, 'aucun': 1, 'doute': 1, 'meilleur': 1, \"qu'il\": 1, 'souvent': 1, 'comparer': 1, 'leur': 1, \"d'instrument\": 1, 'progressif': 1, 'ils': 1, 'selon': 1, 'allez': 1, 'coche': 1, 'dessus': 1, 'nous': 1, 'offrir': 1, 'quelque': 1, \"d'encore\": 1, 'superieur': 1, 'membre': 1, 'bref': 1, \"s'agit\": 1, \"d'un\": 1, 'dispendieux': 1, 'mais': 1, 'combien': 1, 'vaut': 1, 'peine': 1, 'merveilleux': 1, \"chaqu'un\": 1, 'doit': 1, 'connaitre': 1, 'magnifique': 1, 'groupe': 1, 'allemand': 1, '-temporal': 1, 'auxuliary': 1, 'oral': 1, 'aggravating': 1, 'ob': 1, 'complaint(and': 1, 'approximately': 1, 'replaced(an': 1, '~$85': 1, 'accesorie': 1, 'guaranty': 1, 'rectal': 1, 'casing': 1, 'aficionado': 1, 'apologist': 1, 'picaresque': 1, 'unity': 1, 'fitfully': 1, 'jar': 1, 'brood': 1, 'homoeroticism': 1, 'aching': 1, '5month': 1, '6/6/2005': 1, 'suffocate': 1, 'strenth': 1, '39.99': 1, 'liddle': 1, 'wonderland': 1, 'intersting': 1, 'beethoven': 1, 'motzart': 1, 'verandah': 1, 'ocean': 1, 'perth': 1, 'breezy': 1, 'whitetop': 1, 'goin': 1, 'balcony': 1, 'permanant': 1, 'ada': 1, 'bonnie': 1, 'roxy': 1, 'dion': 1, 'cd.although': 1, 'songwrite': 1, 'ed': 1, 'lawdy': 1, '70': 1, 'instrumentation': 1, 'farrar': 1})>"
      ]
     },
     "metadata": {},
     "execution_count": 47
    }
   ],
   "metadata": {}
  },
  {
   "cell_type": "code",
   "execution_count": 27,
   "source": [
    "print(type(vocab))\n"
   ],
   "outputs": [
    {
     "output_type": "stream",
     "name": "stdout",
     "text": [
      "<class 'torchtext.vocab.Vocab'>\n"
     ]
    }
   ],
   "metadata": {}
  },
  {
   "cell_type": "code",
   "execution_count": null,
   "source": [],
   "outputs": [],
   "metadata": {}
  },
  {
   "cell_type": "markdown",
   "source": [
    "It seems it trasformed each token into a number. How to get the token as a string back?\n",
    "\n",
    "We can use the `.itos` method, that stands for *index to string*:"
   ],
   "metadata": {}
  },
  {
   "cell_type": "code",
   "execution_count": 29,
   "source": [
    "dir(vocab)"
   ],
   "outputs": [
    {
     "output_type": "execute_result",
     "data": {
      "text/plain": [
       "['UNK',\n",
       " '__class__',\n",
       " '__delattr__',\n",
       " '__dict__',\n",
       " '__dir__',\n",
       " '__doc__',\n",
       " '__eq__',\n",
       " '__format__',\n",
       " '__ge__',\n",
       " '__getattribute__',\n",
       " '__getitem__',\n",
       " '__getstate__',\n",
       " '__gt__',\n",
       " '__hash__',\n",
       " '__init__',\n",
       " '__init_subclass__',\n",
       " '__le__',\n",
       " '__len__',\n",
       " '__lt__',\n",
       " '__module__',\n",
       " '__ne__',\n",
       " '__new__',\n",
       " '__reduce__',\n",
       " '__reduce_ex__',\n",
       " '__repr__',\n",
       " '__setattr__',\n",
       " '__setstate__',\n",
       " '__sizeof__',\n",
       " '__str__',\n",
       " '__subclasshook__',\n",
       " '__weakref__',\n",
       " '_default_unk_index',\n",
       " 'extend',\n",
       " 'freqs',\n",
       " 'itos',\n",
       " 'load_vectors',\n",
       " 'lookup_indices',\n",
       " 'set_vectors',\n",
       " 'stoi',\n",
       " 'unk_index',\n",
       " 'vectors']"
      ]
     },
     "metadata": {},
     "execution_count": 29
    }
   ],
   "metadata": {}
  },
  {
   "cell_type": "markdown",
   "source": [
    "👏"
   ],
   "metadata": {}
  },
  {
   "cell_type": "markdown",
   "source": [
    "These things are cool, but the most important goal of vocab for the `torchtext` library is the possibility of loading pretrained embeddings by typing `vocab.load_vectors(\"name_of_the_embeddings\")`:"
   ],
   "metadata": {}
  },
  {
   "cell_type": "code",
   "execution_count": 31,
   "source": [
    "vocab.load_vectors(\"fasttext.simple.300d\")"
   ],
   "outputs": [
    {
     "output_type": "stream",
     "name": "stderr",
     "text": [
      ".vector_cache/wiki.simple.vec: 293MB [00:28, 10.3MB/s]                           \n",
      "  0%|          | 0/111051 [00:00<?, ?it/s]WARNING:torchtext.vocab:Skipping token b'111051' with 1-dimensional vector [b'300']; likely a header\n",
      "100%|██████████| 111051/111051 [00:08<00:00, 13434.68it/s]\n"
     ]
    }
   ],
   "metadata": {}
  },
  {
   "cell_type": "markdown",
   "source": [
    "You don't even need to assign it to a variable, it will load and store it as an object attribute. \n",
    "\n",
    "As you have seen, embeddings are a numerical representation of a word, that have been trained in an unsupervised manner on some text corpus. They help in all the text classification problems, since they encode also some semantic information about the words, in such a way that the distance (say the cosine similarity) of two vectors with a similar meaning is less than the ones with different meanings.\n",
    "\n",
    "So if inspect them, we should get a tensor containing 300 size arrays:"
   ],
   "metadata": {}
  },
  {
   "cell_type": "code",
   "execution_count": 32,
   "source": [
    "vocab.vectors"
   ],
   "outputs": [
    {
     "output_type": "execute_result",
     "data": {
      "text/plain": [
       "tensor([[ 0.0000,  0.0000,  0.0000,  ...,  0.0000,  0.0000,  0.0000],\n",
       "        [ 0.0000,  0.0000,  0.0000,  ...,  0.0000,  0.0000,  0.0000],\n",
       "        [ 0.1181, -0.3024,  0.2944,  ..., -0.1119, -0.0891, -0.1466],\n",
       "        ...,\n",
       "        [ 0.0000,  0.0000,  0.0000,  ...,  0.0000,  0.0000,  0.0000],\n",
       "        [ 0.0000,  0.0000,  0.0000,  ...,  0.0000,  0.0000,  0.0000],\n",
       "        [ 0.3920,  0.1647, -0.0525,  ..., -0.2147, -0.2600, -0.1543]])"
      ]
     },
     "metadata": {},
     "execution_count": 32
    }
   ],
   "metadata": {}
  },
  {
   "cell_type": "code",
   "execution_count": 33,
   "source": [
    "vocab.vectors.shape"
   ],
   "outputs": [
    {
     "output_type": "execute_result",
     "data": {
      "text/plain": [
       "torch.Size([10812, 300])"
      ]
     },
     "metadata": {},
     "execution_count": 33
    }
   ],
   "metadata": {}
  },
  {
   "cell_type": "markdown",
   "source": [
    "Indeed. What's the first number? It's the amount of unique tokens we have in the training set. Instead, the second term (300) is the size of the embeddings. How can we retrieve the vector corresponding to the word \"good\"?\n",
    "\n",
    "Well we have the method `.stoi` that stands for \"string to index\" to retrieve the index associated with the string \"good\":\n"
   ],
   "metadata": {}
  },
  {
   "cell_type": "code",
   "execution_count": 34,
   "source": [
    "vocab.stoi[\"good\"]"
   ],
   "outputs": [
    {
     "output_type": "execute_result",
     "data": {
      "text/plain": [
       "4"
      ]
     },
     "metadata": {},
     "execution_count": 34
    }
   ],
   "metadata": {}
  },
  {
   "cell_type": "markdown",
   "source": [
    "Actually, no need to do it, we can just do `vocab[\"good\"`\n",
    " and we'll get the same result:"
   ],
   "metadata": {}
  },
  {
   "cell_type": "code",
   "execution_count": 35,
   "source": [
    "vocab[\"good\"]"
   ],
   "outputs": [
    {
     "output_type": "execute_result",
     "data": {
      "text/plain": [
       "4"
      ]
     },
     "metadata": {},
     "execution_count": 35
    }
   ],
   "metadata": {}
  },
  {
   "cell_type": "markdown",
   "source": [
    "and then we can use that index to retrieve the vector:"
   ],
   "metadata": {}
  },
  {
   "cell_type": "code",
   "execution_count": 36,
   "source": [
    "vocab.vectors[4]"
   ],
   "outputs": [
    {
     "output_type": "execute_result",
     "data": {
      "text/plain": [
       "tensor([ 5.9637e-01,  2.7714e-01,  2.6521e-01, -3.4600e-01, -1.0764e-01,\n",
       "         1.8982e-01, -3.8168e-02,  8.3709e-02,  1.9178e-01,  1.6162e-01,\n",
       "         1.6343e-01,  1.3317e-01, -3.8956e-01, -1.3596e-01, -1.2511e-01,\n",
       "        -1.6472e-01, -1.4022e-01,  4.1599e-02, -1.4979e-01,  1.0635e-01,\n",
       "         3.6200e-01,  1.0988e-01,  1.4841e-01,  1.1830e-01,  8.3510e-02,\n",
       "        -2.1211e-01,  7.1777e-02, -7.3148e-03,  2.2641e-01,  3.7710e-02,\n",
       "        -4.5244e-03,  7.0736e-02, -7.2897e-02,  3.0860e-01,  1.5270e-01,\n",
       "        -9.1561e-02, -3.8422e-01, -1.6947e-01,  5.8803e-02, -9.8637e-03,\n",
       "         6.0262e-02, -2.4001e-01,  1.1871e-01, -1.7887e-01, -2.3948e-01,\n",
       "        -9.4501e-02, -1.5217e-01, -6.8412e-02,  8.2164e-02,  1.8725e-01,\n",
       "         3.3745e-02, -1.3283e-01, -3.0824e-01,  1.0093e-01, -3.3814e-01,\n",
       "        -5.6273e-02, -1.6498e-01,  1.3821e-01, -5.3919e-02,  2.6901e-01,\n",
       "        -4.8584e-01, -1.4683e-01, -2.5746e-01,  2.5280e-01,  2.7210e-02,\n",
       "         1.2690e-02, -1.7246e-02, -1.8162e-01, -8.4780e-02,  1.7224e-01,\n",
       "         9.5668e-02,  1.0414e-01, -3.7922e-01,  7.1001e-02,  1.1908e-01,\n",
       "        -1.6680e-01,  1.8472e-02, -2.3527e-02,  3.0313e-01,  1.5176e-01,\n",
       "        -1.3940e-02,  1.9288e-02, -8.8467e-02, -1.5372e-01, -1.9110e-01,\n",
       "        -1.1347e-01, -4.4242e-02, -3.4148e-01, -3.5365e-02, -5.8192e-02,\n",
       "         2.1651e-01, -2.0159e-01,  9.7316e-02,  3.1088e-02, -9.8637e-02,\n",
       "        -8.6075e-02, -3.4739e-01, -1.5262e-01, -1.2138e-03,  1.8232e-01,\n",
       "        -9.6376e-04, -3.4033e-02, -1.3758e-01, -6.0251e-03,  6.3835e-02,\n",
       "         3.5858e-03,  2.3128e-01, -3.9763e-02, -1.6133e-01, -1.8829e-01,\n",
       "         4.4235e-02, -3.0484e-01, -3.6469e-02, -4.4658e-02, -2.1600e-01,\n",
       "        -4.1728e-02, -2.1421e-01,  1.1116e-01, -3.5212e-01, -1.0529e-01,\n",
       "        -2.8644e-01,  3.3235e-02,  1.8587e-01, -8.1017e-02, -3.4905e-01,\n",
       "        -3.8461e-01,  2.3764e-02, -1.6903e-01, -2.8086e-01,  8.4250e-02,\n",
       "         3.1011e-01,  5.4364e-02,  7.1137e-02,  1.8771e-01, -1.5624e-01,\n",
       "         3.0394e-01, -4.1854e-02, -9.4310e-03,  1.5564e-01, -1.0878e-01,\n",
       "         9.2710e-02,  4.3704e-01,  3.7497e-01,  1.5408e-01, -1.2918e-01,\n",
       "        -6.1866e-02, -1.3198e-01, -1.9779e-01,  6.7010e-02, -3.2875e-01,\n",
       "        -2.1097e-01, -1.4853e-01,  1.2195e-01, -7.4191e-02, -2.2386e-02,\n",
       "         4.0787e-02, -2.9910e-01,  4.2943e-01, -2.1895e-01,  1.0786e-02,\n",
       "         2.0017e-01,  3.5886e-03,  1.6625e-02, -1.6902e-01, -9.0157e-02,\n",
       "         9.3869e-02,  2.6675e-02, -8.4368e-02, -2.2489e-02,  2.5627e-01,\n",
       "        -8.1175e-02,  1.1326e-01,  1.8309e-01, -1.8123e-01, -2.3453e-01,\n",
       "        -2.6526e-01, -2.0923e-01, -4.0253e-01,  9.7483e-02, -1.1192e-01,\n",
       "        -1.7071e-01,  1.9791e-02, -4.1368e-02,  2.6174e-01, -2.2172e-01,\n",
       "        -5.8976e-02, -1.4266e-01,  4.8435e-01, -4.8311e-01,  2.1035e-01,\n",
       "         2.1803e-01,  9.0008e-02,  1.0716e-01,  1.5621e-01, -7.0703e-02,\n",
       "         4.5159e-02, -4.5658e-01,  2.6034e-02,  1.2824e-01, -1.1883e-01,\n",
       "         4.1708e-01, -1.6080e-01,  1.5933e-01, -2.7090e-01,  2.6154e-01,\n",
       "        -6.7165e-02, -4.6179e-02, -6.4885e-02,  2.4443e-01, -2.4580e-01,\n",
       "        -1.3982e-01,  1.6249e-01,  1.8879e-01, -3.5974e-01, -5.7969e-01,\n",
       "         2.2056e-03,  4.2249e-01, -2.2366e-01, -1.1156e-01, -7.1421e-02,\n",
       "         3.4599e-02, -6.2135e-02,  1.5824e-01, -1.4023e-01,  1.5168e-01,\n",
       "         3.0882e-04, -8.3735e-02,  1.3617e-01,  1.4851e-01,  2.6006e-01,\n",
       "         2.3711e-01,  2.6680e-01, -1.5794e-01,  3.0945e-02, -6.7572e-03,\n",
       "         5.9429e-02,  1.2310e-02, -1.6079e-01,  1.7189e-01,  6.2470e-02,\n",
       "         4.1477e-01,  3.5336e-01,  1.4261e-01,  9.3371e-03,  4.2961e-02,\n",
       "        -3.2431e-01,  7.2694e-02, -2.1376e-01,  1.9612e-01,  3.8756e-01,\n",
       "         1.3394e-01,  2.3658e-01,  5.4745e-02, -2.2844e-01, -8.1546e-02,\n",
       "        -5.1938e-01, -5.7666e-01,  1.6498e-02, -4.1266e-02,  6.5526e-01,\n",
       "         1.7101e-01,  1.2412e-01, -1.2365e-01,  9.8372e-02, -1.0586e-01,\n",
       "         1.9889e-02,  6.5504e-02,  1.3407e-03, -1.3806e-01, -3.9546e-01,\n",
       "         7.0392e-02,  6.7426e-02, -8.6095e-02,  9.0994e-02, -2.2239e-01,\n",
       "         6.7782e-02,  1.0339e-02, -3.9664e-02,  3.4535e-01,  3.0099e-01,\n",
       "         8.3322e-02,  1.0704e-01,  6.2821e-03, -1.5934e-01, -1.8698e-02,\n",
       "         3.2465e-01,  6.1989e-03,  1.5659e-01, -2.0168e-01, -1.9255e-01,\n",
       "        -2.4134e-01, -1.4124e-01, -2.1126e-01,  5.2775e-02, -1.0469e-01,\n",
       "        -1.2732e-01, -4.1920e-01,  4.3569e-02,  5.3318e-02, -3.5837e-01])"
      ]
     },
     "metadata": {},
     "execution_count": 36
    }
   ],
   "metadata": {}
  },
  {
   "cell_type": "code",
   "execution_count": 37,
   "source": [
    "vocab.vectors[3].shape"
   ],
   "outputs": [
    {
     "output_type": "execute_result",
     "data": {
      "text/plain": [
       "torch.Size([300])"
      ]
     },
     "metadata": {},
     "execution_count": 37
    }
   ],
   "metadata": {}
  },
  {
   "cell_type": "code",
   "execution_count": 38,
   "source": [
    "vocab[\"good\"]"
   ],
   "outputs": [
    {
     "output_type": "execute_result",
     "data": {
      "text/plain": [
       "4"
      ]
     },
     "metadata": {},
     "execution_count": 38
    }
   ],
   "metadata": {}
  },
  {
   "cell_type": "markdown",
   "source": [
    "What about \"nice\"?"
   ],
   "metadata": {}
  },
  {
   "cell_type": "code",
   "execution_count": 39,
   "source": [
    "vocab[\"nice\"]"
   ],
   "outputs": [
    {
     "output_type": "execute_result",
     "data": {
      "text/plain": [
       "55"
      ]
     },
     "metadata": {},
     "execution_count": 39
    }
   ],
   "metadata": {}
  },
  {
   "cell_type": "code",
   "execution_count": 40,
   "source": [
    "vocab.vectors[vocab[\"nice\"]]"
   ],
   "outputs": [
    {
     "output_type": "execute_result",
     "data": {
      "text/plain": [
       "tensor([ 0.4940,  0.4000,  0.2400, -0.1512, -0.0875,  0.3711, -0.1918,  0.2610,\n",
       "         0.3133, -0.0206, -0.1875,  0.0116,  0.0544, -0.2277,  0.0178,  0.1509,\n",
       "        -0.1158, -0.2391,  0.1476, -0.5993,  0.4263, -0.2732,  0.1811, -0.1666,\n",
       "         0.2579, -0.0722,  0.2222, -0.3234, -0.0363,  0.0015, -0.1955, -0.0208,\n",
       "        -0.0191,  0.4611,  0.2720, -0.2414, -0.0971, -0.1544,  0.1492,  0.1033,\n",
       "        -0.4095,  0.2533,  0.2096,  0.0630,  0.2702, -0.3699, -0.0760, -0.1037,\n",
       "         0.1022,  0.2548, -0.0250,  0.0291,  0.2737,  0.2041,  0.0960, -0.3495,\n",
       "         0.2727,  0.0887,  0.1010,  0.3411, -0.3515, -0.1092,  0.1397, -0.0361,\n",
       "        -0.0667, -0.0639,  0.1377, -0.3333, -0.0857,  0.1262,  0.0286, -0.1108,\n",
       "        -0.1534,  0.0137, -0.1651, -0.4551,  0.1704, -0.1705,  0.1677,  0.0466,\n",
       "         0.0512, -0.2957,  0.0971,  0.1499,  0.1507, -0.3408, -0.1480, -0.3976,\n",
       "         0.1525, -0.3452,  0.2638,  0.0131,  0.1264,  0.0492,  0.0179,  0.0911,\n",
       "        -0.5341,  0.3287,  0.2030, -0.2169, -0.4362, -0.3144, -0.3074,  0.1910,\n",
       "        -0.1620,  0.0019, -0.1184,  0.1225, -0.1226,  0.1546, -0.1473, -0.1690,\n",
       "         0.3109, -0.0280, -0.2665, -0.2664, -0.1604,  0.0227, -0.3549,  0.1674,\n",
       "         0.3738, -0.0789,  0.1285,  0.2060, -0.4044, -0.2749,  0.1675, -0.3190,\n",
       "        -0.2240,  0.1157, -0.0681, -0.0815,  0.0608,  0.1433, -0.2252,  0.1120,\n",
       "        -0.0155,  0.1784, -0.3992, -0.1163, -0.1052,  0.0220,  0.3252, -0.1663,\n",
       "         0.5106, -0.3204,  0.1055,  0.0612,  0.0922, -0.3327,  0.0182, -0.0704,\n",
       "         0.0640, -0.0911,  0.5581,  0.1347, -0.1869,  0.2902,  0.1189,  0.0627,\n",
       "         0.3853, -0.1735, -0.1979, -0.4591,  0.2049,  0.1410,  0.1469, -0.2166,\n",
       "         0.1529,  0.4424, -0.2769,  0.1914,  0.1910, -0.1971, -0.4862, -0.0084,\n",
       "         0.3531, -0.7599, -0.0963,  0.0432, -0.0337,  0.1363, -0.5863,  0.2142,\n",
       "        -0.1605,  0.0409,  0.1034, -0.1185,  0.1247,  0.0974,  0.2094,  0.0534,\n",
       "         0.0391,  0.1367,  0.0084, -0.1041, -0.5552, -0.1177, -0.0450, -0.5738,\n",
       "         0.1657, -0.0762, -0.0608, -0.1093,  0.0301,  0.2009,  0.0230, -0.1257,\n",
       "         0.1855,  0.1773,  0.0856, -0.1196,  0.3370, -0.1763, -0.5596,  0.0306,\n",
       "         0.1929,  0.1114, -0.1084, -0.3068,  0.1002, -0.0769, -0.3245,  0.0947,\n",
       "         0.2004, -0.5194, -0.0290,  0.1982, -0.2822,  0.1160,  0.3508,  0.2020,\n",
       "        -0.5618, -0.0175, -0.0829,  0.1768, -0.1293, -0.0994,  0.0146, -0.1550,\n",
       "         0.2331,  0.1190, -0.1544,  0.0716,  0.4511, -0.0653, -0.2409, -0.1754,\n",
       "         0.2610,  0.6536,  0.2650,  0.5696, -0.1121,  0.0567, -0.1176, -0.1988,\n",
       "        -0.2101,  0.1155,  0.0046,  0.2926,  0.1841,  0.0766, -0.1914,  0.0429,\n",
       "        -0.2427, -0.1322, -0.0401,  0.0696,  0.1834, -0.4802, -0.1145,  0.0969,\n",
       "        -0.1690, -0.0269, -0.2559, -0.1594,  0.0850,  0.0154,  0.1325, -0.1189,\n",
       "         0.2876, -0.1290, -0.2773, -0.2527,  0.4482,  0.5534, -0.4047,  0.4932,\n",
       "        -0.3846, -0.2226, -0.2119, -0.3214,  0.0444, -0.1723,  0.0895,  0.2918,\n",
       "        -0.4092, -0.0892, -0.1816, -0.3662])"
      ]
     },
     "metadata": {},
     "execution_count": 40
    }
   ],
   "metadata": {}
  },
  {
   "cell_type": "markdown",
   "source": [
    "Ok, but what about the words that are not in the vocabulary? How do we handle them?\n",
    "\n",
    "To all of them, there's a dedicated index: 0. However, maybe different vocabulary have a different standards, so you can just check it by running `vocab.unk_index`:"
   ],
   "metadata": {}
  },
  {
   "cell_type": "code",
   "execution_count": 41,
   "source": [
    "vocab[\"asfgahsgf\"], vocab.unk_index"
   ],
   "outputs": [
    {
     "output_type": "execute_result",
     "data": {
      "text/plain": [
       "(0, 0)"
      ]
     },
     "metadata": {},
     "execution_count": 41
    }
   ],
   "metadata": {}
  },
  {
   "cell_type": "code",
   "execution_count": 42,
   "source": [
    "vocab['<pad>']"
   ],
   "outputs": [
    {
     "output_type": "execute_result",
     "data": {
      "text/plain": [
       "1"
      ]
     },
     "metadata": {},
     "execution_count": 42
    }
   ],
   "metadata": {}
  },
  {
   "cell_type": "markdown",
   "source": [
    "All right. I feel confident enough to say that the preprocessing part has been completed!\n",
    "\n",
    "Now we need to create the:\n",
    "\n",
    "\n"
   ],
   "metadata": {}
  },
  {
   "cell_type": "markdown",
   "source": [
    "### Data Loader\n",
    "\n",
    "Yes, they are back. [Is it a good or a bad memory?](\"https://github.com/Strive-School/ai_mar21/blob/main/M5_Deep_Learning/D7/Custom%20DataLoader%20and%20Dataset.ipynb\")\n",
    "\n",
    "If you take a look at that notebook, you remember that to create a custom data loader you need to override some method of the `Dataset` class from `torch.utils.data`. Before doing so, let's define the steps we need to do while loading the data:\n",
    "\n",
    "- Receive as input a row from the dataframe that we have defined above, that contains two columns: \"star\" and \"review\"\n",
    "- we separate \"star\" from \"review\"\n",
    "- we preprocess the \"review\" columns by doing what we have so far (tokenization etc but excluding the embeddings for now)\n",
    "- as we have seen before, the possible stars are from 1 to 5. However, you should be advanced enough in Python to know that it starts from zero. So need to shift of the labels by 1 (e.g. if the stars are 4, the label will be 3).\n",
    "- Padding <- this is important, I will spend few words more in a few lines\n",
    "- Store a list containing the sequence of indices with the associated labels\n",
    "\n",
    "Then we need to override also the `__len__` and the `__getitem__`methods of the `Dataset` class.\n",
    "\n",
    "So few words about **padding**: not all the reviews have same length, so we need to find a solution for it. Why? Cause our Neural Network is waiting for input that are all of the same size! It needs to know how many weights it needs to initialize! \n",
    "\n",
    "There are several possibilities, but the easiest is to just set a cap with a `max_seq_len` parameter, so that all the reviews that are shorter than that length will be padded by using a vector associated with the padding index, and all the ones that are longer than `max_seq_len` will be just cut.\n",
    "\n",
    "Do you see problems? I actually don't see that much problems for it. I think that the sentiment of a comment can be seen already from the first words of the review.\n",
    "\n",
    "Ok, stop talking, more action:"
   ],
   "metadata": {}
  },
  {
   "cell_type": "code",
   "execution_count": 43,
   "source": [
    "class TrainData(Dataset):\n",
    "    def __init__(self, df, max_seq_len=32): # df is the input df, max_seq_len is the max lenght allowed to a sentence before cutting or padding\n",
    "        self.max_seq_len = max_seq_len\n",
    "        \n",
    "        counter = Counter()\n",
    "        train_iter = iter(df.review.values)\n",
    "        for text in train_iter:\n",
    "            counter.update(preprocessing(text))\n",
    "        self.vocab = Vocab(counter, min_freq=1)\n",
    "        self.vocab.load_vectors(\"fasttext.simple.300d\")\n",
    "        \n",
    "        label_pipeline = lambda x: int(x) - 1 # we need to preprocess the stars to start from 0\n",
    "        token2idx = lambda x: self.vocab[x] # Basically renaming functions to access them quickly\n",
    "        self.encode = lambda x: [token2idx(token) for token in preprocessing(x)]\n",
    "        self.pad = lambda x: x + (max_seq_len - len(x))*[token2idx(\"<pad>\")] # concatenating the original sentence with max_seq_len - len(x) padding indexes\n",
    "        sequences = [self.encode(sequence)[:max_seq_len] for sequence in df.review.tolist()] # here we are cutting to the max_seq_len and encoding\n",
    "        sequence, self.labels = zip(*[(sequence, label_pipeline(label)) for sequence, label in zip(sequences, df.star.tolist()) if sequence]) # not so much Pythonic I guess, a lot of list comprehension.\n",
    "        # If you get it fast, good, otherwise write your own version of it\n",
    "        self.sequences = [self.pad(sequence) for sequence in sequences]\n",
    "        \n",
    "    \n",
    "    def __len__(self):\n",
    "        return len(self.sequences)\n",
    "    \n",
    "    def __getitem__(self, i):\n",
    "        assert len(self.sequences[i]) == self.max_seq_len\n",
    "        return self.sequences[i], self.labels[i]"
   ],
   "outputs": [],
   "metadata": {}
  },
  {
   "cell_type": "code",
   "execution_count": 67,
   "source": [
    "class TestData(Dataset):\n",
    "    def __init__(self, df, vocab, max_seq_len=32): # df is the input df, max_seq_len is the max lenght allowed to a sentence before cutting or padding\n",
    "        self.max_seq_len = max_seq_len\n",
    "        \n",
    "        # counter = Counter()\n",
    "        # train_iter = iter(df.review.values)\n",
    "        # for text in train_iter:\n",
    "        #     counter.update(preprocessing(text))\n",
    "        # self.vocab = Vocab(counter, min_freq=1)\n",
    "        # self.vocab.load_vectors(\"fasttext.simple.300d\")\n",
    "        self.vocab = vocab\n",
    "        \n",
    "        label_pipeline = lambda x: int(x) - 1 # we need to preprocess the stars to start from 0\n",
    "        token2idx = lambda x: self.vocab[x] # Basically renaming functions to access them quickly\n",
    "        self.encode = lambda x: [token2idx(token) for token in preprocessing(x)]\n",
    "        self.pad = lambda x: x + (max_seq_len - len(x))*[token2idx(\"<pad>\")] # concatenating the original sentence with max_seq_len - len(x) padding indexes\n",
    "        sequences = [self.encode(sequence)[:max_seq_len] for sequence in df.review.tolist()] # here we are cutting to the max_seq_len and encoding\n",
    "        sequence, self.labels = zip(*[(sequence, label_pipeline(label)) for sequence, label in zip(sequences, df.star.tolist()) if sequence]) # not so much Pythonic I guess, a lot of list comprehension.\n",
    "        # If you get it fast, good, otherwise write your own version of it\n",
    "        self.sequences = [self.pad(sequence) for sequence in sequences]\n",
    "        \n",
    "    \n",
    "    def __len__(self):\n",
    "        return len(self.sequences)\n",
    "    \n",
    "    def __getitem__(self, i):\n",
    "        assert len(self.sequences[i]) == self.max_seq_len\n",
    "        return self.sequences[i], self.labels[i]"
   ],
   "outputs": [],
   "metadata": {}
  },
  {
   "cell_type": "code",
   "execution_count": null,
   "source": [],
   "outputs": [],
   "metadata": {}
  },
  {
   "cell_type": "code",
   "execution_count": 48,
   "source": [
    "dataset = TrainData(train_df, max_seq_len=32)"
   ],
   "outputs": [],
   "metadata": {}
  },
  {
   "cell_type": "code",
   "execution_count": 68,
   "source": [
    "train_vocab = dataset.vocab"
   ],
   "outputs": [],
   "metadata": {}
  },
  {
   "cell_type": "code",
   "execution_count": 69,
   "source": [
    "test_set = TestData(test_df, train_vocab, max_seq_len=32)"
   ],
   "outputs": [],
   "metadata": {}
  },
  {
   "cell_type": "code",
   "execution_count": 70,
   "source": [
    "test_set[0]"
   ],
   "outputs": [
    {
     "output_type": "execute_result",
     "data": {
      "text/plain": [
       "([4,\n",
       "  2,\n",
       "  3302,\n",
       "  618,\n",
       "  3302,\n",
       "  618,\n",
       "  473,\n",
       "  1611,\n",
       "  3108,\n",
       "  2,\n",
       "  271,\n",
       "  1419,\n",
       "  75,\n",
       "  52,\n",
       "  140,\n",
       "  19,\n",
       "  618,\n",
       "  3,\n",
       "  19,\n",
       "  0,\n",
       "  226,\n",
       "  4744,\n",
       "  1451,\n",
       "  2651,\n",
       "  0,\n",
       "  348,\n",
       "  13,\n",
       "  2,\n",
       "  32,\n",
       "  2784,\n",
       "  3108,\n",
       "  1],\n",
       " 4)"
      ]
     },
     "metadata": {},
     "execution_count": 70
    }
   ],
   "metadata": {}
  },
  {
   "cell_type": "markdown",
   "source": [
    "When we index dataset with a `dataset[index]` notation, we get the pair containing the padded sequence of indices with the associated label: "
   ],
   "metadata": {}
  },
  {
   "cell_type": "code",
   "execution_count": 49,
   "source": [
    "dataset[0]"
   ],
   "outputs": [
    {
     "output_type": "execute_result",
     "data": {
      "text/plain": [
       "([6,\n",
       "  7283,\n",
       "  52,\n",
       "  1783,\n",
       "  4125,\n",
       "  331,\n",
       "  1451,\n",
       "  8627,\n",
       "  14,\n",
       "  4679,\n",
       "  2124,\n",
       "  1,\n",
       "  1,\n",
       "  1,\n",
       "  1,\n",
       "  1,\n",
       "  1,\n",
       "  1,\n",
       "  1,\n",
       "  1,\n",
       "  1,\n",
       "  1,\n",
       "  1,\n",
       "  1,\n",
       "  1,\n",
       "  1,\n",
       "  1,\n",
       "  1,\n",
       "  1,\n",
       "  1,\n",
       "  1,\n",
       "  1],\n",
       " 2)"
      ]
     },
     "metadata": {},
     "execution_count": 49
    }
   ],
   "metadata": {}
  },
  {
   "cell_type": "code",
   "execution_count": 50,
   "source": [
    "dataset[1][0]"
   ],
   "outputs": [
    {
     "output_type": "execute_result",
     "data": {
      "text/plain": [
       "[1478,\n",
       " 151,\n",
       " 43,\n",
       " 29,\n",
       " 125,\n",
       " 28,\n",
       " 33,\n",
       " 295,\n",
       " 724,\n",
       " 1546,\n",
       " 6,\n",
       " 7,\n",
       " 491,\n",
       " 1041,\n",
       " 694,\n",
       " 962,\n",
       " 2043,\n",
       " 7494,\n",
       " 446,\n",
       " 4167,\n",
       " 577,\n",
       " 51,\n",
       " 1765,\n",
       " 1648,\n",
       " 1,\n",
       " 1,\n",
       " 1,\n",
       " 1,\n",
       " 1,\n",
       " 1,\n",
       " 1,\n",
       " 1]"
      ]
     },
     "metadata": {},
     "execution_count": 50
    }
   ],
   "metadata": {}
  },
  {
   "cell_type": "markdown",
   "source": [
    "What are the ones there? They are the product of the padding! \n",
    "\n",
    "What is the vector associated with the index 1?"
   ],
   "metadata": {}
  },
  {
   "cell_type": "code",
   "execution_count": 51,
   "source": [
    "dataset.vocab.vectors[1]"
   ],
   "outputs": [
    {
     "output_type": "execute_result",
     "data": {
      "text/plain": [
       "tensor([0., 0., 0., 0., 0., 0., 0., 0., 0., 0., 0., 0., 0., 0., 0., 0., 0., 0., 0., 0., 0., 0., 0., 0.,\n",
       "        0., 0., 0., 0., 0., 0., 0., 0., 0., 0., 0., 0., 0., 0., 0., 0., 0., 0., 0., 0., 0., 0., 0., 0.,\n",
       "        0., 0., 0., 0., 0., 0., 0., 0., 0., 0., 0., 0., 0., 0., 0., 0., 0., 0., 0., 0., 0., 0., 0., 0.,\n",
       "        0., 0., 0., 0., 0., 0., 0., 0., 0., 0., 0., 0., 0., 0., 0., 0., 0., 0., 0., 0., 0., 0., 0., 0.,\n",
       "        0., 0., 0., 0., 0., 0., 0., 0., 0., 0., 0., 0., 0., 0., 0., 0., 0., 0., 0., 0., 0., 0., 0., 0.,\n",
       "        0., 0., 0., 0., 0., 0., 0., 0., 0., 0., 0., 0., 0., 0., 0., 0., 0., 0., 0., 0., 0., 0., 0., 0.,\n",
       "        0., 0., 0., 0., 0., 0., 0., 0., 0., 0., 0., 0., 0., 0., 0., 0., 0., 0., 0., 0., 0., 0., 0., 0.,\n",
       "        0., 0., 0., 0., 0., 0., 0., 0., 0., 0., 0., 0., 0., 0., 0., 0., 0., 0., 0., 0., 0., 0., 0., 0.,\n",
       "        0., 0., 0., 0., 0., 0., 0., 0., 0., 0., 0., 0., 0., 0., 0., 0., 0., 0., 0., 0., 0., 0., 0., 0.,\n",
       "        0., 0., 0., 0., 0., 0., 0., 0., 0., 0., 0., 0., 0., 0., 0., 0., 0., 0., 0., 0., 0., 0., 0., 0.,\n",
       "        0., 0., 0., 0., 0., 0., 0., 0., 0., 0., 0., 0., 0., 0., 0., 0., 0., 0., 0., 0., 0., 0., 0., 0.,\n",
       "        0., 0., 0., 0., 0., 0., 0., 0., 0., 0., 0., 0., 0., 0., 0., 0., 0., 0., 0., 0., 0., 0., 0., 0.,\n",
       "        0., 0., 0., 0., 0., 0., 0., 0., 0., 0., 0., 0.])"
      ]
     },
     "metadata": {},
     "execution_count": 51
    }
   ],
   "metadata": {}
  },
  {
   "cell_type": "markdown",
   "source": [
    "All zeros! Makes sense!"
   ],
   "metadata": {}
  },
  {
   "cell_type": "markdown",
   "source": [
    "Storing into memory a lot of tensors containing all the embedded vectors, it can be very costly. This is why we load them by indexing with an integer. However, when we train our model, we need the embedded vectors!\n",
    "\n",
    "So let's define the `collate` function that will index our vocabulary only when it needs it!\n",
    "\n",
    "As argument it takes the batch (which will contains a `batch_size*max_seq_len` shape tensor) and the vectorizer. What is the vectorizer in our case? It's the vocabulary that we have built in the dataset object, so `dataset.vocab.vectors`. Indexing that vocabulary will retrieve the vector associated with that index."
   ],
   "metadata": {}
  },
  {
   "cell_type": "code",
   "execution_count": 52,
   "source": [
    "def collate(batch, vectorizer=dataset.vocab.vectors):\n",
    "    inputs = torch.stack([torch.stack([vectorizer[token] for token in sentence[0]]) for sentence in batch])\n",
    "    target = torch.LongTensor([item[1] for item in batch]) # Use long tensor to avoid unwanted rounding\n",
    "    return inputs, target"
   ],
   "outputs": [],
   "metadata": {}
  },
  {
   "cell_type": "markdown",
   "source": [
    "And now, we can use the `DataLoader` class as we did for images:"
   ],
   "metadata": {}
  },
  {
   "cell_type": "code",
   "execution_count": 53,
   "source": [
    "batch_size = 16\n",
    "train_loader = DataLoader(dataset, batch_size=batch_size, collate_fn=collate)\n"
   ],
   "outputs": [],
   "metadata": {}
  },
  {
   "cell_type": "code",
   "execution_count": 54,
   "source": [
    "next(iter(train_loader))[0].shape"
   ],
   "outputs": [
    {
     "output_type": "execute_result",
     "data": {
      "text/plain": [
       "torch.Size([16, 32, 300])"
      ]
     },
     "metadata": {},
     "execution_count": 54
    }
   ],
   "metadata": {}
  },
  {
   "cell_type": "markdown",
   "source": [
    "Ready to train? Following is a small model to *makes things to run on my computer*. You can expect to be kicked out if you come at the debrief with this model! \n",
    "\n"
   ],
   "metadata": {}
  },
  {
   "cell_type": "code",
   "execution_count": 55,
   "source": [
    "from torch import nn\n",
    "import torch.nn.functional as F\n",
    "emb_dim = 300\n",
    "class Classifier(nn.Module):\n",
    "    def __init__(self, max_seq_len, emb_dim, hidden1=16, hidden2=16):\n",
    "        super(Classifier, self).__init__()\n",
    "        self.fc1 = nn.Linear(max_seq_len*emb_dim, hidden1)\n",
    "        self.fc2 = nn.Linear(hidden1, hidden2)\n",
    "        self.fc3 = nn.Linear(hidden2, 5)\n",
    "        self.out = nn.LogSoftmax(dim=1)\n",
    "    \n",
    "    \n",
    "    def forward(self, inputs):\n",
    "        x = F.relu(self.fc1(inputs.squeeze(1).float()))\n",
    "        x = F.relu(self.fc2(x))\n",
    "        x = self.fc3(x)\n",
    "        return self.out(x)"
   ],
   "outputs": [],
   "metadata": {}
  },
  {
   "cell_type": "code",
   "execution_count": 56,
   "source": [
    "MAX_SEQ_LEN = 32\n",
    "model = Classifier(MAX_SEQ_LEN, 300, 16, 16)\n",
    "model"
   ],
   "outputs": [
    {
     "output_type": "execute_result",
     "data": {
      "text/plain": [
       "Classifier(\n",
       "  (fc1): Linear(in_features=9600, out_features=16, bias=True)\n",
       "  (fc2): Linear(in_features=16, out_features=16, bias=True)\n",
       "  (fc3): Linear(in_features=16, out_features=5, bias=True)\n",
       "  (out): LogSoftmax(dim=1)\n",
       ")"
      ]
     },
     "metadata": {},
     "execution_count": 56
    }
   ],
   "metadata": {}
  },
  {
   "cell_type": "code",
   "execution_count": 57,
   "source": [
    "from torch import optim\n",
    "criterion = nn.NLLLoss()\n",
    "\n",
    "# Only train the classifier parameters, feature parameters are frozen\n",
    "optimizer = optim.Adam(model.parameters(), lr=0.003)\n"
   ],
   "outputs": [],
   "metadata": {}
  },
  {
   "cell_type": "code",
   "execution_count": 58,
   "source": [
    "dataiter = iter(train_loader)\n",
    "sentences, labels = dataiter.next()"
   ],
   "outputs": [],
   "metadata": {}
  },
  {
   "cell_type": "code",
   "execution_count": 59,
   "source": [
    "# Forward pass through the network\n",
    "sentence_idx = 0\n",
    "sentences.resize_(16, 1, MAX_SEQ_LEN*emb_dim).shape\n",
    "log_ps = model.forward(sentences[sentence_idx,:])\n",
    "\n",
    "sentence = sentences[sentence_idx]\n",
    "torch.exp(log_ps)"
   ],
   "outputs": [
    {
     "output_type": "execute_result",
     "data": {
      "text/plain": [
       "tensor([[0.2001, 0.2372, 0.2114, 0.1770, 0.1743]], grad_fn=<ExpBackward>)"
      ]
     },
     "metadata": {},
     "execution_count": 59
    }
   ],
   "metadata": {}
  },
  {
   "cell_type": "markdown",
   "source": [
    "We got 5 probabilities: one for each of the possible rating star!"
   ],
   "metadata": {}
  },
  {
   "cell_type": "code",
   "execution_count": null,
   "source": [
    "def check_accuracy(test_loader, model):\n",
    "    \n",
    "    \n"
   ],
   "outputs": [],
   "metadata": {}
  },
  {
   "cell_type": "code",
   "execution_count": 60,
   "source": [
    "epochs = 3\n",
    "print_every = 40\n",
    "\n",
    "for e in range(epochs):\n",
    "    running_loss = 0\n",
    "    print(f\"Epoch: {e+1}/{epochs}\")\n",
    "\n",
    "    for i, (sentences, labels) in enumerate(iter(train_loader)):\n",
    "\n",
    "        sentences.resize_(sentences.size()[0], 32* emb_dim)\n",
    "        \n",
    "        optimizer.zero_grad()\n",
    "        \n",
    "        output = model.forward(sentences)   # 1) Forward pass\n",
    "        loss = criterion(output, labels) # 2) Compute loss\n",
    "        loss.backward()                  # 3) Backward pass\n",
    "        optimizer.step()                 # 4) Update model\n",
    "        \n",
    "        running_loss += loss.item()\n",
    "        \n",
    "        if i % print_every == 0:\n",
    "            print(f\"\\tIteration: {i}\\t Loss: {running_loss/print_every:.4f}\")\n",
    "            running_loss = 0"
   ],
   "outputs": [
    {
     "output_type": "stream",
     "name": "stdout",
     "text": [
      "Epoch: 1/3\n",
      "\tIteration: 0\t Loss: 0.0412\n",
      "\tIteration: 40\t Loss: 1.6075\n",
      "\tIteration: 80\t Loss: 1.5956\n",
      "\tIteration: 120\t Loss: 1.5880\n",
      "Epoch: 2/3\n",
      "\tIteration: 0\t Loss: 0.0349\n",
      "\tIteration: 40\t Loss: 1.3068\n",
      "\tIteration: 80\t Loss: 1.3855\n",
      "\tIteration: 120\t Loss: 1.2639\n",
      "Epoch: 3/3\n",
      "\tIteration: 0\t Loss: 0.0221\n",
      "\tIteration: 40\t Loss: 0.5572\n",
      "\tIteration: 80\t Loss: 0.6940\n",
      "\tIteration: 120\t Loss: 0.7886\n"
     ]
    }
   ],
   "metadata": {}
  },
  {
   "cell_type": "markdown",
   "source": [
    "Eventually:"
   ],
   "metadata": {}
  },
  {
   "cell_type": "code",
   "execution_count": 72,
   "source": [
    "from torchtext import datasets"
   ],
   "outputs": [],
   "metadata": {}
  },
  {
   "cell_type": "code",
   "execution_count": 73,
   "source": [
    "train, test = datasets.AmazonReviewFull()"
   ],
   "outputs": [],
   "metadata": {}
  },
  {
   "cell_type": "markdown",
   "source": [
    "### Exercises\n",
    "\n",
    "- Create a real training process: use the train, val, test split for the dataset\n",
    "- Create a training loop that includes validation and test at the end\n",
    "    - You can borrow from your previous work, no need to write it from scratch\n",
    "- If you want to, feel free to change dataset\n"
   ],
   "metadata": {}
  },
  {
   "cell_type": "code",
   "execution_count": null,
   "source": [],
   "outputs": [],
   "metadata": {}
  }
 ],
 "metadata": {
  "kernelspec": {
   "name": "python3",
   "display_name": "Python 3.9.5 64-bit ('deep_learning': conda)"
  },
  "language_info": {
   "codemirror_mode": {
    "name": "ipython",
    "version": 3
   },
   "file_extension": ".py",
   "mimetype": "text/x-python",
   "name": "python",
   "nbconvert_exporter": "python",
   "pygments_lexer": "ipython3",
   "version": "3.9.5"
  },
  "varInspector": {
   "cols": {
    "lenName": 16,
    "lenType": 16,
    "lenVar": 40
   },
   "kernels_config": {
    "python": {
     "delete_cmd_postfix": "",
     "delete_cmd_prefix": "del ",
     "library": "var_list.py",
     "varRefreshCmd": "print(var_dic_list())"
    },
    "r": {
     "delete_cmd_postfix": ") ",
     "delete_cmd_prefix": "rm(",
     "library": "var_list.r",
     "varRefreshCmd": "cat(var_dic_list()) "
    }
   },
   "types_to_exclude": [
    "module",
    "function",
    "builtin_function_or_method",
    "instance",
    "_Feature"
   ],
   "window_display": false
  },
  "interpreter": {
   "hash": "5d8eb55396b26e444e25830983e23d02f9d742a022e83389ffb69c4e4a8d7f54"
  }
 },
 "nbformat": 4,
 "nbformat_minor": 5
}