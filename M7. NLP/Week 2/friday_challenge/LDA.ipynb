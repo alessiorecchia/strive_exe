{
 "cells": [
  {
   "cell_type": "code",
   "execution_count": 1,
   "source": [
    "import pandas as pd\n",
    "\n",
    "data = pd.read_csv('abcnews-date-text.csv', error_bad_lines=False);\n",
    "data_text = data[['headline_text']]\n",
    "data_text['index'] = data_text.index\n",
    "documents = data_text"
   ],
   "outputs": [
    {
     "output_type": "stream",
     "name": "stderr",
     "text": [
      "/home/deniz/anaconda3/envs/NLP/lib/python3.9/site-packages/IPython/core/interactiveshell.py:3441: FutureWarning: The error_bad_lines argument has been deprecated and will be removed in a future version.\n",
      "\n",
      "\n",
      "  exec(code_obj, self.user_global_ns, self.user_ns)\n"
     ]
    }
   ],
   "metadata": {}
  },
  {
   "cell_type": "code",
   "execution_count": 2,
   "source": [
    "len(documents)"
   ],
   "outputs": [
    {
     "output_type": "execute_result",
     "data": {
      "text/plain": [
       "1226258"
      ]
     },
     "metadata": {},
     "execution_count": 2
    }
   ],
   "metadata": {}
  },
  {
   "cell_type": "code",
   "execution_count": 3,
   "source": [
    "documents[:5]"
   ],
   "outputs": [
    {
     "output_type": "execute_result",
     "data": {
      "text/plain": [
       "                                       headline_text  index\n",
       "0  aba decides against community broadcasting lic...      0\n",
       "1     act fire witnesses must be aware of defamation      1\n",
       "2     a g calls for infrastructure protection summit      2\n",
       "3           air nz staff in aust strike for pay rise      3\n",
       "4      air nz strike to affect australian travellers      4"
      ],
      "text/html": [
       "<div>\n",
       "<style scoped>\n",
       "    .dataframe tbody tr th:only-of-type {\n",
       "        vertical-align: middle;\n",
       "    }\n",
       "\n",
       "    .dataframe tbody tr th {\n",
       "        vertical-align: top;\n",
       "    }\n",
       "\n",
       "    .dataframe thead th {\n",
       "        text-align: right;\n",
       "    }\n",
       "</style>\n",
       "<table border=\"1\" class=\"dataframe\">\n",
       "  <thead>\n",
       "    <tr style=\"text-align: right;\">\n",
       "      <th></th>\n",
       "      <th>headline_text</th>\n",
       "      <th>index</th>\n",
       "    </tr>\n",
       "  </thead>\n",
       "  <tbody>\n",
       "    <tr>\n",
       "      <th>0</th>\n",
       "      <td>aba decides against community broadcasting lic...</td>\n",
       "      <td>0</td>\n",
       "    </tr>\n",
       "    <tr>\n",
       "      <th>1</th>\n",
       "      <td>act fire witnesses must be aware of defamation</td>\n",
       "      <td>1</td>\n",
       "    </tr>\n",
       "    <tr>\n",
       "      <th>2</th>\n",
       "      <td>a g calls for infrastructure protection summit</td>\n",
       "      <td>2</td>\n",
       "    </tr>\n",
       "    <tr>\n",
       "      <th>3</th>\n",
       "      <td>air nz staff in aust strike for pay rise</td>\n",
       "      <td>3</td>\n",
       "    </tr>\n",
       "    <tr>\n",
       "      <th>4</th>\n",
       "      <td>air nz strike to affect australian travellers</td>\n",
       "      <td>4</td>\n",
       "    </tr>\n",
       "  </tbody>\n",
       "</table>\n",
       "</div>"
      ]
     },
     "metadata": {},
     "execution_count": 3
    }
   ],
   "metadata": {}
  },
  {
   "cell_type": "code",
   "execution_count": 4,
   "source": [
    "\n",
    "import gensim\n",
    "from gensim.utils import simple_preprocess\n",
    "from gensim.parsing.preprocessing import STOPWORDS\n",
    "from nltk.stem import WordNetLemmatizer, SnowballStemmer\n",
    "from nltk.stem.porter import *\n",
    "import numpy as np\n",
    "np.random.seed(2018)"
   ],
   "outputs": [
    {
     "output_type": "stream",
     "name": "stderr",
     "text": [
      "/home/deniz/anaconda3/envs/NLP/lib/python3.9/site-packages/gensim/similarities/__init__.py:15: UserWarning: The gensim.similarities.levenshtein submodule is disabled, because the optional Levenshtein package <https://pypi.org/project/python-Levenshtein/> is unavailable. Install Levenhstein (e.g. `pip install python-Levenshtein`) to suppress this warning.\n",
      "  warnings.warn(msg)\n"
     ]
    }
   ],
   "metadata": {}
  },
  {
   "cell_type": "code",
   "execution_count": 5,
   "source": [
    "import nltk\n",
    "nltk.download('wordnet')"
   ],
   "outputs": [
    {
     "output_type": "stream",
     "name": "stderr",
     "text": [
      "[nltk_data] Downloading package wordnet to /home/deniz/nltk_data...\n",
      "[nltk_data]   Unzipping corpora/wordnet.zip.\n"
     ]
    },
    {
     "output_type": "execute_result",
     "data": {
      "text/plain": [
       "True"
      ]
     },
     "metadata": {},
     "execution_count": 5
    }
   ],
   "metadata": {}
  },
  {
   "cell_type": "code",
   "execution_count": 6,
   "source": [
    "print(WordNetLemmatizer().lemmatize('went', pos='v'))"
   ],
   "outputs": [
    {
     "output_type": "stream",
     "name": "stdout",
     "text": [
      "go\n"
     ]
    }
   ],
   "metadata": {}
  },
  {
   "cell_type": "code",
   "execution_count": 7,
   "source": [
    "stemmer = SnowballStemmer('english')\n",
    "original_words = ['caresses', 'flies', 'dies', 'mules', 'denied','died', 'agreed', 'owned', \n",
    "           'humbled', 'sized','meeting', 'stating', 'siezing', 'itemization','sensational', \n",
    "           'traditional', 'reference', 'colonizer','plotted']\n",
    "singles = [stemmer.stem(plural) for plural in original_words]\n",
    "pd.DataFrame(data = {'original word': original_words, 'stemmed': singles})"
   ],
   "outputs": [
    {
     "output_type": "execute_result",
     "data": {
      "text/plain": [
       "   original word stemmed\n",
       "0       caresses  caress\n",
       "1          flies     fli\n",
       "2           dies     die\n",
       "3          mules    mule\n",
       "4         denied    deni\n",
       "5           died     die\n",
       "6         agreed    agre\n",
       "7          owned     own\n",
       "8        humbled   humbl\n",
       "9          sized    size\n",
       "10       meeting    meet\n",
       "11       stating   state\n",
       "12       siezing    siez\n",
       "13   itemization    item\n",
       "14   sensational  sensat\n",
       "15   traditional  tradit\n",
       "16     reference   refer\n",
       "17     colonizer   colon\n",
       "18       plotted    plot"
      ],
      "text/html": [
       "<div>\n",
       "<style scoped>\n",
       "    .dataframe tbody tr th:only-of-type {\n",
       "        vertical-align: middle;\n",
       "    }\n",
       "\n",
       "    .dataframe tbody tr th {\n",
       "        vertical-align: top;\n",
       "    }\n",
       "\n",
       "    .dataframe thead th {\n",
       "        text-align: right;\n",
       "    }\n",
       "</style>\n",
       "<table border=\"1\" class=\"dataframe\">\n",
       "  <thead>\n",
       "    <tr style=\"text-align: right;\">\n",
       "      <th></th>\n",
       "      <th>original word</th>\n",
       "      <th>stemmed</th>\n",
       "    </tr>\n",
       "  </thead>\n",
       "  <tbody>\n",
       "    <tr>\n",
       "      <th>0</th>\n",
       "      <td>caresses</td>\n",
       "      <td>caress</td>\n",
       "    </tr>\n",
       "    <tr>\n",
       "      <th>1</th>\n",
       "      <td>flies</td>\n",
       "      <td>fli</td>\n",
       "    </tr>\n",
       "    <tr>\n",
       "      <th>2</th>\n",
       "      <td>dies</td>\n",
       "      <td>die</td>\n",
       "    </tr>\n",
       "    <tr>\n",
       "      <th>3</th>\n",
       "      <td>mules</td>\n",
       "      <td>mule</td>\n",
       "    </tr>\n",
       "    <tr>\n",
       "      <th>4</th>\n",
       "      <td>denied</td>\n",
       "      <td>deni</td>\n",
       "    </tr>\n",
       "    <tr>\n",
       "      <th>5</th>\n",
       "      <td>died</td>\n",
       "      <td>die</td>\n",
       "    </tr>\n",
       "    <tr>\n",
       "      <th>6</th>\n",
       "      <td>agreed</td>\n",
       "      <td>agre</td>\n",
       "    </tr>\n",
       "    <tr>\n",
       "      <th>7</th>\n",
       "      <td>owned</td>\n",
       "      <td>own</td>\n",
       "    </tr>\n",
       "    <tr>\n",
       "      <th>8</th>\n",
       "      <td>humbled</td>\n",
       "      <td>humbl</td>\n",
       "    </tr>\n",
       "    <tr>\n",
       "      <th>9</th>\n",
       "      <td>sized</td>\n",
       "      <td>size</td>\n",
       "    </tr>\n",
       "    <tr>\n",
       "      <th>10</th>\n",
       "      <td>meeting</td>\n",
       "      <td>meet</td>\n",
       "    </tr>\n",
       "    <tr>\n",
       "      <th>11</th>\n",
       "      <td>stating</td>\n",
       "      <td>state</td>\n",
       "    </tr>\n",
       "    <tr>\n",
       "      <th>12</th>\n",
       "      <td>siezing</td>\n",
       "      <td>siez</td>\n",
       "    </tr>\n",
       "    <tr>\n",
       "      <th>13</th>\n",
       "      <td>itemization</td>\n",
       "      <td>item</td>\n",
       "    </tr>\n",
       "    <tr>\n",
       "      <th>14</th>\n",
       "      <td>sensational</td>\n",
       "      <td>sensat</td>\n",
       "    </tr>\n",
       "    <tr>\n",
       "      <th>15</th>\n",
       "      <td>traditional</td>\n",
       "      <td>tradit</td>\n",
       "    </tr>\n",
       "    <tr>\n",
       "      <th>16</th>\n",
       "      <td>reference</td>\n",
       "      <td>refer</td>\n",
       "    </tr>\n",
       "    <tr>\n",
       "      <th>17</th>\n",
       "      <td>colonizer</td>\n",
       "      <td>colon</td>\n",
       "    </tr>\n",
       "    <tr>\n",
       "      <th>18</th>\n",
       "      <td>plotted</td>\n",
       "      <td>plot</td>\n",
       "    </tr>\n",
       "  </tbody>\n",
       "</table>\n",
       "</div>"
      ]
     },
     "metadata": {},
     "execution_count": 7
    }
   ],
   "metadata": {}
  },
  {
   "cell_type": "code",
   "execution_count": 8,
   "source": [
    "\n",
    "def lemmatize_stemming(text):\n",
    "    return stemmer.stem(WordNetLemmatizer().lemmatize(text, pos='v'))\n",
    "\n",
    "def preprocess(text):\n",
    "    result = []\n",
    "    for token in gensim.utils.simple_preprocess(text):\n",
    "        if token not in gensim.parsing.preprocessing.STOPWORDS and len(token) > 3:\n",
    "            result.append(lemmatize_stemming(token))\n",
    "    return result"
   ],
   "outputs": [],
   "metadata": {}
  },
  {
   "cell_type": "code",
   "execution_count": 10,
   "source": [
    "doc_sample = documents[documents['index'] == 4310].values[0][0]\n",
    "\n",
    "print('original document: ')\n",
    "words = []\n",
    "for word in doc_sample.split(' '):\n",
    "    words.append(word)\n",
    "print(words)\n",
    "print('\\n\\n tokenized and lemmatized document: ')\n",
    "print(preprocess(doc_sample))"
   ],
   "outputs": [
    {
     "output_type": "stream",
     "name": "stdout",
     "text": [
      "original document: \n",
      "['ratepayers', 'group', 'wants', 'compulsory', 'local', 'govt', 'voting']\n",
      "\n",
      "\n",
      " tokenized and lemmatized document: \n",
      "['ratepay', 'group', 'want', 'compulsori', 'local', 'govt', 'vote']\n"
     ]
    }
   ],
   "metadata": {}
  },
  {
   "cell_type": "code",
   "execution_count": 11,
   "source": [
    "processed_docs = documents['headline_text'].map(preprocess)"
   ],
   "outputs": [],
   "metadata": {}
  },
  {
   "cell_type": "code",
   "execution_count": 12,
   "source": [
    "dictionary = gensim.corpora.Dictionary(processed_docs)"
   ],
   "outputs": [],
   "metadata": {}
  },
  {
   "cell_type": "code",
   "execution_count": 13,
   "source": [
    "count = 0\n",
    "for k, v in dictionary.iteritems():\n",
    "    print(k, v)\n",
    "    count += 1\n",
    "    if count > 10:\n",
    "        break"
   ],
   "outputs": [
    {
     "output_type": "stream",
     "name": "stdout",
     "text": [
      "0 broadcast\n",
      "1 communiti\n",
      "2 decid\n",
      "3 licenc\n",
      "4 awar\n",
      "5 defam\n",
      "6 wit\n",
      "7 call\n",
      "8 infrastructur\n",
      "9 protect\n",
      "10 summit\n"
     ]
    }
   ],
   "metadata": {}
  },
  {
   "cell_type": "code",
   "execution_count": 14,
   "source": [
    "dictionary.filter_extremes(no_below=15, no_above=0.5, keep_n=100000)"
   ],
   "outputs": [],
   "metadata": {}
  },
  {
   "cell_type": "code",
   "execution_count": 15,
   "source": [
    "bow_corpus = [dictionary.doc2bow(doc) for doc in processed_docs]\n",
    "bow_corpus[4310]"
   ],
   "outputs": [
    {
     "output_type": "execute_result",
     "data": {
      "text/plain": [
       "[(162, 1), (240, 1), (292, 1), (589, 1), (838, 1), (3570, 1), (3571, 1)]"
      ]
     },
     "metadata": {},
     "execution_count": 15
    }
   ],
   "metadata": {}
  },
  {
   "cell_type": "code",
   "execution_count": 16,
   "source": [
    "bow_doc_4310 = bow_corpus[4310]\n",
    "\n",
    "for i in range(len(bow_doc_4310)):\n",
    "    print(\"Word {} (\\\"{}\\\") appears {} time.\".format(bow_doc_4310[i][0], \n",
    "                                                     dictionary[bow_doc_4310[i][0]], \n",
    "                                                     bow_doc_4310[i][1]))"
   ],
   "outputs": [
    {
     "output_type": "stream",
     "name": "stdout",
     "text": [
      "Word 162 (\"govt\") appears 1 time.\n",
      "Word 240 (\"group\") appears 1 time.\n",
      "Word 292 (\"vote\") appears 1 time.\n",
      "Word 589 (\"local\") appears 1 time.\n",
      "Word 838 (\"want\") appears 1 time.\n",
      "Word 3570 (\"compulsori\") appears 1 time.\n",
      "Word 3571 (\"ratepay\") appears 1 time.\n"
     ]
    }
   ],
   "metadata": {}
  },
  {
   "cell_type": "markdown",
   "source": [
    "# TF-ID"
   ],
   "metadata": {}
  },
  {
   "cell_type": "code",
   "execution_count": 17,
   "source": [
    "from gensim import corpora, models\n",
    "\n",
    "tfidf = models.TfidfModel(bow_corpus)"
   ],
   "outputs": [],
   "metadata": {}
  },
  {
   "cell_type": "code",
   "execution_count": 18,
   "source": [
    "corpus_tfidf = tfidf[bow_corpus]"
   ],
   "outputs": [],
   "metadata": {}
  },
  {
   "cell_type": "code",
   "execution_count": 19,
   "source": [
    "from pprint import pprint\n",
    "\n",
    "for doc in corpus_tfidf:\n",
    "    pprint(doc)\n",
    "    break"
   ],
   "outputs": [
    {
     "output_type": "stream",
     "name": "stdout",
     "text": [
      "[(0, 0.5842699484464488),\n",
      " (1, 0.38798859072167835),\n",
      " (2, 0.5008422243250992),\n",
      " (3, 0.5071987254965034)]\n"
     ]
    }
   ],
   "metadata": {}
  },
  {
   "cell_type": "markdown",
   "source": [
    "# Running LDA using Bag of Words"
   ],
   "metadata": {}
  },
  {
   "cell_type": "code",
   "execution_count": 20,
   "source": [
    "lda_model = gensim.models.LdaMulticore(bow_corpus, num_topics=10, id2word=dictionary, passes=2, workers=2)"
   ],
   "outputs": [],
   "metadata": {}
  },
  {
   "cell_type": "code",
   "execution_count": 21,
   "source": [
    "for idx, topic in lda_model.print_topics(-1):\n",
    "    print('Topic: {} \\nWords: {}'.format(idx, topic))"
   ],
   "outputs": [
    {
     "output_type": "stream",
     "name": "stdout",
     "text": [
      "Topic: 0 \n",
      "Words: 0.026*\"death\" + 0.025*\"charg\" + 0.025*\"case\" + 0.024*\"court\" + 0.020*\"polic\" + 0.020*\"murder\" + 0.015*\"alleg\" + 0.013*\"trial\" + 0.012*\"arrest\" + 0.012*\"face\"\n",
      "Topic: 1 \n",
      "Words: 0.022*\"news\" + 0.020*\"market\" + 0.018*\"world\" + 0.017*\"women\" + 0.015*\"australian\" + 0.015*\"final\" + 0.014*\"island\" + 0.012*\"return\" + 0.011*\"street\" + 0.010*\"fall\"\n",
      "Topic: 2 \n",
      "Words: 0.054*\"coronavirus\" + 0.035*\"covid\" + 0.024*\"live\" + 0.021*\"nation\" + 0.020*\"coast\" + 0.016*\"restrict\" + 0.014*\"water\" + 0.013*\"gold\" + 0.011*\"plan\" + 0.010*\"park\"\n",
      "Topic: 3 \n",
      "Words: 0.038*\"sydney\" + 0.025*\"polic\" + 0.021*\"crash\" + 0.020*\"adelaid\" + 0.019*\"die\" + 0.015*\"miss\" + 0.012*\"break\" + 0.011*\"drug\" + 0.011*\"driver\" + 0.010*\"road\"\n",
      "Topic: 4 \n",
      "Words: 0.037*\"year\" + 0.031*\"melbourn\" + 0.022*\"open\" + 0.021*\"canberra\" + 0.017*\"jail\" + 0.015*\"work\" + 0.014*\"high\" + 0.014*\"life\" + 0.013*\"interview\" + 0.013*\"offic\"\n",
      "Topic: 5 \n",
      "Words: 0.029*\"govern\" + 0.019*\"health\" + 0.019*\"school\" + 0.017*\"help\" + 0.017*\"chang\" + 0.015*\"feder\" + 0.014*\"coronavirus\" + 0.013*\"indigen\" + 0.012*\"state\" + 0.012*\"fund\"\n",
      "Topic: 6 \n",
      "Words: 0.071*\"australia\" + 0.045*\"trump\" + 0.025*\"donald\" + 0.016*\"border\" + 0.015*\"elect\" + 0.015*\"busi\" + 0.015*\"peopl\" + 0.014*\"accus\" + 0.013*\"say\" + 0.012*\"scott\"\n",
      "Topic: 7 \n",
      "Words: 0.041*\"queensland\" + 0.033*\"victoria\" + 0.022*\"bushfir\" + 0.021*\"hous\" + 0.014*\"time\" + 0.013*\"royal\" + 0.012*\"west\" + 0.011*\"guilti\" + 0.011*\"commiss\" + 0.011*\"farmer\"\n",
      "Topic: 8 \n",
      "Words: 0.030*\"china\" + 0.025*\"test\" + 0.020*\"south\" + 0.015*\"coronavirus\" + 0.013*\"north\" + 0.012*\"rural\" + 0.012*\"australian\" + 0.011*\"presid\" + 0.011*\"travel\" + 0.011*\"train\"\n",
      "Topic: 9 \n",
      "Words: 0.025*\"call\" + 0.025*\"tasmania\" + 0.020*\"rise\" + 0.019*\"victorian\" + 0.017*\"morrison\" + 0.016*\"tasmanian\" + 0.015*\"million\" + 0.015*\"farm\" + 0.011*\"program\" + 0.011*\"town\"\n"
     ]
    }
   ],
   "metadata": {}
  },
  {
   "cell_type": "markdown",
   "source": [
    "# Running LDA using TF-IDF"
   ],
   "metadata": {}
  },
  {
   "cell_type": "code",
   "execution_count": 22,
   "source": [
    "lda_model_tfidf = gensim.models.LdaMulticore(corpus_tfidf, num_topics=10, id2word=dictionary, passes=2, workers=4)\n"
   ],
   "outputs": [],
   "metadata": {}
  },
  {
   "cell_type": "code",
   "execution_count": 23,
   "source": [
    "for idx, topic in lda_model_tfidf.print_topics(-1):\n",
    "    print('Topic: {} Word: {}'.format(idx, topic))"
   ],
   "outputs": [
    {
     "output_type": "stream",
     "name": "stdout",
     "text": [
      "Topic: 0 Word: 0.027*\"trump\" + 0.009*\"final\" + 0.008*\"scott\" + 0.007*\"thursday\" + 0.007*\"australia\" + 0.007*\"leagu\" + 0.006*\"premier\" + 0.006*\"test\" + 0.006*\"alan\" + 0.005*\"grandstand\"\n",
      "Topic: 1 Word: 0.019*\"news\" + 0.018*\"market\" + 0.015*\"donald\" + 0.013*\"rural\" + 0.012*\"coronavirus\" + 0.012*\"drum\" + 0.009*\"price\" + 0.008*\"tuesday\" + 0.008*\"share\" + 0.007*\"wednesday\"\n",
      "Topic: 2 Word: 0.008*\"australia\" + 0.008*\"cricket\" + 0.007*\"juli\" + 0.007*\"world\" + 0.006*\"rugbi\" + 0.006*\"australian\" + 0.006*\"august\" + 0.006*\"award\" + 0.005*\"win\" + 0.005*\"biden\"\n",
      "Topic: 3 Word: 0.020*\"countri\" + 0.015*\"hour\" + 0.011*\"weather\" + 0.009*\"michael\" + 0.009*\"turnbul\" + 0.009*\"extend\" + 0.007*\"brief\" + 0.007*\"disabl\" + 0.007*\"octob\" + 0.005*\"america\"\n",
      "Topic: 4 Word: 0.020*\"live\" + 0.011*\"search\" + 0.011*\"covid\" + 0.010*\"andrew\" + 0.009*\"updat\" + 0.009*\"financ\" + 0.009*\"coronavirus\" + 0.009*\"peter\" + 0.007*\"outback\" + 0.007*\"miss\"\n",
      "Topic: 5 Word: 0.017*\"charg\" + 0.016*\"polic\" + 0.016*\"murder\" + 0.013*\"court\" + 0.011*\"alleg\" + 0.010*\"jail\" + 0.009*\"death\" + 0.009*\"sentenc\" + 0.008*\"arrest\" + 0.008*\"assault\"\n",
      "Topic: 6 Word: 0.014*\"coronavirus\" + 0.009*\"health\" + 0.007*\"restrict\" + 0.007*\"fund\" + 0.006*\"care\" + 0.006*\"stori\" + 0.006*\"covid\" + 0.006*\"budget\" + 0.005*\"queensland\" + 0.005*\"plan\"\n",
      "Topic: 7 Word: 0.020*\"crash\" + 0.014*\"kill\" + 0.011*\"die\" + 0.010*\"friday\" + 0.009*\"dead\" + 0.008*\"driver\" + 0.007*\"injur\" + 0.007*\"truck\" + 0.007*\"hotel\" + 0.007*\"fatal\"\n",
      "Topic: 8 Word: 0.011*\"morrison\" + 0.011*\"interview\" + 0.011*\"climat\" + 0.010*\"monday\" + 0.007*\"insid\" + 0.006*\"novemb\" + 0.006*\"bushfir\" + 0.006*\"dairi\" + 0.006*\"chang\" + 0.006*\"hong\"\n",
      "Topic: 9 Word: 0.014*\"govern\" + 0.011*\"elect\" + 0.009*\"coronavirus\" + 0.007*\"china\" + 0.007*\"say\" + 0.006*\"south\" + 0.006*\"australia\" + 0.006*\"korea\" + 0.006*\"liber\" + 0.006*\"labor\"\n"
     ]
    }
   ],
   "metadata": {}
  },
  {
   "cell_type": "markdown",
   "source": [
    "# Classification of the topics\n",
    "\n",
    "# Performance evaluation by classifiying sampl edocument using LDA Bag of Words model"
   ],
   "metadata": {}
  },
  {
   "cell_type": "code",
   "execution_count": 24,
   "source": [
    "processed_docs[4310]"
   ],
   "outputs": [
    {
     "output_type": "execute_result",
     "data": {
      "text/plain": [
       "['ratepay', 'group', 'want', 'compulsori', 'local', 'govt', 'vote']"
      ]
     },
     "metadata": {},
     "execution_count": 24
    }
   ],
   "metadata": {}
  },
  {
   "cell_type": "code",
   "execution_count": 25,
   "source": [
    "for index, score in sorted(lda_model[bow_corpus[4310]], key=lambda tup: -1*tup[1]):\n",
    "    print(\"\\nScore: {}\\t \\nTopic: {}\".format(score, lda_model.print_topic(index, 10)))"
   ],
   "outputs": [
    {
     "output_type": "stream",
     "name": "stdout",
     "text": [
      "\n",
      "Score: 0.41517260670661926\t \n",
      "Topic: 0.029*\"govern\" + 0.019*\"health\" + 0.019*\"school\" + 0.017*\"help\" + 0.017*\"chang\" + 0.015*\"feder\" + 0.014*\"coronavirus\" + 0.013*\"indigen\" + 0.012*\"state\" + 0.012*\"fund\"\n",
      "\n",
      "Score: 0.34662461280822754\t \n",
      "Topic: 0.025*\"call\" + 0.025*\"tasmania\" + 0.020*\"rise\" + 0.019*\"victorian\" + 0.017*\"morrison\" + 0.016*\"tasmanian\" + 0.015*\"million\" + 0.015*\"farm\" + 0.011*\"program\" + 0.011*\"town\"\n",
      "\n",
      "Score: 0.15067148208618164\t \n",
      "Topic: 0.071*\"australia\" + 0.045*\"trump\" + 0.025*\"donald\" + 0.016*\"border\" + 0.015*\"elect\" + 0.015*\"busi\" + 0.015*\"peopl\" + 0.014*\"accus\" + 0.013*\"say\" + 0.012*\"scott\"\n",
      "\n",
      "Score: 0.012506254948675632\t \n",
      "Topic: 0.054*\"coronavirus\" + 0.035*\"covid\" + 0.024*\"live\" + 0.021*\"nation\" + 0.020*\"coast\" + 0.016*\"restrict\" + 0.014*\"water\" + 0.013*\"gold\" + 0.011*\"plan\" + 0.010*\"park\"\n",
      "\n",
      "Score: 0.012504437938332558\t \n",
      "Topic: 0.037*\"year\" + 0.031*\"melbourn\" + 0.022*\"open\" + 0.021*\"canberra\" + 0.017*\"jail\" + 0.015*\"work\" + 0.014*\"high\" + 0.014*\"life\" + 0.013*\"interview\" + 0.013*\"offic\"\n",
      "\n",
      "Score: 0.012504390440881252\t \n",
      "Topic: 0.030*\"china\" + 0.025*\"test\" + 0.020*\"south\" + 0.015*\"coronavirus\" + 0.013*\"north\" + 0.012*\"rural\" + 0.012*\"australian\" + 0.011*\"presid\" + 0.011*\"travel\" + 0.011*\"train\"\n",
      "\n",
      "Score: 0.012504247948527336\t \n",
      "Topic: 0.041*\"queensland\" + 0.033*\"victoria\" + 0.022*\"bushfir\" + 0.021*\"hous\" + 0.014*\"time\" + 0.013*\"royal\" + 0.012*\"west\" + 0.011*\"guilti\" + 0.011*\"commiss\" + 0.011*\"farmer\"\n",
      "\n",
      "Score: 0.012503989040851593\t \n",
      "Topic: 0.026*\"death\" + 0.025*\"charg\" + 0.025*\"case\" + 0.024*\"court\" + 0.020*\"polic\" + 0.020*\"murder\" + 0.015*\"alleg\" + 0.013*\"trial\" + 0.012*\"arrest\" + 0.012*\"face\"\n",
      "\n",
      "Score: 0.012503989040851593\t \n",
      "Topic: 0.022*\"news\" + 0.020*\"market\" + 0.018*\"world\" + 0.017*\"women\" + 0.015*\"australian\" + 0.015*\"final\" + 0.014*\"island\" + 0.012*\"return\" + 0.011*\"street\" + 0.010*\"fall\"\n",
      "\n",
      "Score: 0.012503989040851593\t \n",
      "Topic: 0.038*\"sydney\" + 0.025*\"polic\" + 0.021*\"crash\" + 0.020*\"adelaid\" + 0.019*\"die\" + 0.015*\"miss\" + 0.012*\"break\" + 0.011*\"drug\" + 0.011*\"driver\" + 0.010*\"road\"\n"
     ]
    }
   ],
   "metadata": {}
  },
  {
   "cell_type": "markdown",
   "source": [
    "# Performance evaluation by classifying sample document using LDA TF-IDF model"
   ],
   "metadata": {}
  },
  {
   "cell_type": "code",
   "execution_count": 26,
   "source": [
    "for index, score in sorted(lda_model_tfidf[bow_corpus[4310]], key=lambda tup: -1*tup[1]):\n",
    "    print(\"\\nScore: {}\\t \\nTopic: {}\".format(score, lda_model_tfidf.print_topic(index, 10)))"
   ],
   "outputs": [
    {
     "output_type": "stream",
     "name": "stdout",
     "text": [
      "\n",
      "Score: 0.7302262187004089\t \n",
      "Topic: 0.014*\"coronavirus\" + 0.009*\"health\" + 0.007*\"restrict\" + 0.007*\"fund\" + 0.006*\"care\" + 0.006*\"stori\" + 0.006*\"covid\" + 0.006*\"budget\" + 0.005*\"queensland\" + 0.005*\"plan\"\n",
      "\n",
      "Score: 0.16972662508487701\t \n",
      "Topic: 0.019*\"news\" + 0.018*\"market\" + 0.015*\"donald\" + 0.013*\"rural\" + 0.012*\"coronavirus\" + 0.012*\"drum\" + 0.009*\"price\" + 0.008*\"tuesday\" + 0.008*\"share\" + 0.007*\"wednesday\"\n",
      "\n",
      "Score: 0.012508132494986057\t \n",
      "Topic: 0.014*\"govern\" + 0.011*\"elect\" + 0.009*\"coronavirus\" + 0.007*\"china\" + 0.007*\"say\" + 0.006*\"south\" + 0.006*\"australia\" + 0.006*\"korea\" + 0.006*\"liber\" + 0.006*\"labor\"\n",
      "\n",
      "Score: 0.012505987659096718\t \n",
      "Topic: 0.020*\"countri\" + 0.015*\"hour\" + 0.011*\"weather\" + 0.009*\"michael\" + 0.009*\"turnbul\" + 0.009*\"extend\" + 0.007*\"brief\" + 0.007*\"disabl\" + 0.007*\"octob\" + 0.005*\"america\"\n",
      "\n",
      "Score: 0.012505955062806606\t \n",
      "Topic: 0.020*\"live\" + 0.011*\"search\" + 0.011*\"covid\" + 0.010*\"andrew\" + 0.009*\"updat\" + 0.009*\"financ\" + 0.009*\"coronavirus\" + 0.009*\"peter\" + 0.007*\"outback\" + 0.007*\"miss\"\n",
      "\n",
      "Score: 0.012505674734711647\t \n",
      "Topic: 0.008*\"australia\" + 0.008*\"cricket\" + 0.007*\"juli\" + 0.007*\"world\" + 0.006*\"rugbi\" + 0.006*\"australian\" + 0.006*\"august\" + 0.006*\"award\" + 0.005*\"win\" + 0.005*\"biden\"\n",
      "\n",
      "Score: 0.01250559650361538\t \n",
      "Topic: 0.011*\"morrison\" + 0.011*\"interview\" + 0.011*\"climat\" + 0.010*\"monday\" + 0.007*\"insid\" + 0.006*\"novemb\" + 0.006*\"bushfir\" + 0.006*\"dairi\" + 0.006*\"chang\" + 0.006*\"hong\"\n",
      "\n",
      "Score: 0.012505436316132545\t \n",
      "Topic: 0.017*\"charg\" + 0.016*\"polic\" + 0.016*\"murder\" + 0.013*\"court\" + 0.011*\"alleg\" + 0.010*\"jail\" + 0.009*\"death\" + 0.009*\"sentenc\" + 0.008*\"arrest\" + 0.008*\"assault\"\n",
      "\n",
      "Score: 0.012505332939326763\t \n",
      "Topic: 0.027*\"trump\" + 0.009*\"final\" + 0.008*\"scott\" + 0.007*\"thursday\" + 0.007*\"australia\" + 0.007*\"leagu\" + 0.006*\"premier\" + 0.006*\"test\" + 0.006*\"alan\" + 0.005*\"grandstand\"\n",
      "\n",
      "Score: 0.012505006045103073\t \n",
      "Topic: 0.020*\"crash\" + 0.014*\"kill\" + 0.011*\"die\" + 0.010*\"friday\" + 0.009*\"dead\" + 0.008*\"driver\" + 0.007*\"injur\" + 0.007*\"truck\" + 0.007*\"hotel\" + 0.007*\"fatal\"\n"
     ]
    }
   ],
   "metadata": {}
  },
  {
   "cell_type": "markdown",
   "source": [
    "# Testing model on unseen document"
   ],
   "metadata": {}
  },
  {
   "cell_type": "code",
   "execution_count": 27,
   "source": [
    "unseen_document = 'How a Pentagon deal became an identity crisis for Google'\n",
    "bow_vector = dictionary.doc2bow(preprocess(unseen_document))\n",
    "\n",
    "for index, score in sorted(lda_model[bow_vector], key=lambda tup: -1*tup[1]):\n",
    "    print(\"Score: {}\\t Topic: {}\".format(score, lda_model.print_topic(index, 5)))"
   ],
   "outputs": [
    {
     "output_type": "stream",
     "name": "stdout",
     "text": [
      "Score: 0.34983351826667786\t Topic: 0.026*\"death\" + 0.025*\"charg\" + 0.025*\"case\" + 0.024*\"court\" + 0.020*\"polic\"\n",
      "Score: 0.3451051414012909\t Topic: 0.022*\"news\" + 0.020*\"market\" + 0.018*\"world\" + 0.017*\"women\" + 0.015*\"australian\"\n",
      "Score: 0.18833015859127045\t Topic: 0.041*\"queensland\" + 0.033*\"victoria\" + 0.022*\"bushfir\" + 0.021*\"hous\" + 0.014*\"time\"\n",
      "Score: 0.016682103276252747\t Topic: 0.030*\"china\" + 0.025*\"test\" + 0.020*\"south\" + 0.015*\"coronavirus\" + 0.013*\"north\"\n",
      "Score: 0.016676826402544975\t Topic: 0.025*\"call\" + 0.025*\"tasmania\" + 0.020*\"rise\" + 0.019*\"victorian\" + 0.017*\"morrison\"\n",
      "Score: 0.016676053404808044\t Topic: 0.029*\"govern\" + 0.019*\"health\" + 0.019*\"school\" + 0.017*\"help\" + 0.017*\"chang\"\n",
      "Score: 0.01667594164609909\t Topic: 0.054*\"coronavirus\" + 0.035*\"covid\" + 0.024*\"live\" + 0.021*\"nation\" + 0.020*\"coast\"\n",
      "Score: 0.016673417761921883\t Topic: 0.038*\"sydney\" + 0.025*\"polic\" + 0.021*\"crash\" + 0.020*\"adelaid\" + 0.019*\"die\"\n",
      "Score: 0.016673417761921883\t Topic: 0.037*\"year\" + 0.031*\"melbourn\" + 0.022*\"open\" + 0.021*\"canberra\" + 0.017*\"jail\"\n",
      "Score: 0.016673417761921883\t Topic: 0.071*\"australia\" + 0.045*\"trump\" + 0.025*\"donald\" + 0.016*\"border\" + 0.015*\"elect\"\n"
     ]
    }
   ],
   "metadata": {}
  },
  {
   "cell_type": "code",
   "execution_count": 28,
   "source": [
    "unseen_document_1 = \"A hacker who stole just over $600m (£433m) worth of cryptocurrency has now returned most of the stolen assets.On Thursday, Poly Network confirmed on Twitter that $268m worth of Ether tokens had now been recovered.Over the last 24 hours, the hacker has returned $342m worth of tokens relating to three crypto-currencies to the firm.The individual also posted several pages of notes to the blockchain, disclosing why they hacked the firm and the offers Poly Network made to them.In a twist that's worrying some cyber-security experts, the hacker claims the firm offered to pay $500,000 if they returned the stolen assets, as well as a promise of immunity from prosecution.\"\n",
    "bow_vector = dictionary.doc2bow(preprocess(unseen_document_1))\n",
    "\n",
    "for index, score in sorted(lda_model[bow_vector], key=lambda tup: -1*tup[1]):\n",
    "    print(\"Score: {}\\t Topic: {}\".format(score, lda_model.print_topic(index, 5)))\n",
    "\n",
    "\n"
   ],
   "outputs": [
    {
     "output_type": "stream",
     "name": "stdout",
     "text": [
      "Score: 0.2350327968597412\t Topic: 0.029*\"govern\" + 0.019*\"health\" + 0.019*\"school\" + 0.017*\"help\" + 0.017*\"chang\"\n",
      "Score: 0.19003261625766754\t Topic: 0.054*\"coronavirus\" + 0.035*\"covid\" + 0.024*\"live\" + 0.021*\"nation\" + 0.020*\"coast\"\n",
      "Score: 0.15700757503509521\t Topic: 0.026*\"death\" + 0.025*\"charg\" + 0.025*\"case\" + 0.024*\"court\" + 0.020*\"polic\"\n",
      "Score: 0.09534835815429688\t Topic: 0.022*\"news\" + 0.020*\"market\" + 0.018*\"world\" + 0.017*\"women\" + 0.015*\"australian\"\n",
      "Score: 0.09534744918346405\t Topic: 0.037*\"year\" + 0.031*\"melbourn\" + 0.022*\"open\" + 0.021*\"canberra\" + 0.017*\"jail\"\n",
      "Score: 0.09145008772611618\t Topic: 0.025*\"call\" + 0.025*\"tasmania\" + 0.020*\"rise\" + 0.019*\"victorian\" + 0.017*\"morrison\"\n",
      "Score: 0.05042131245136261\t Topic: 0.030*\"china\" + 0.025*\"test\" + 0.020*\"south\" + 0.015*\"coronavirus\" + 0.013*\"north\"\n",
      "Score: 0.030918247997760773\t Topic: 0.071*\"australia\" + 0.045*\"trump\" + 0.025*\"donald\" + 0.016*\"border\" + 0.015*\"elect\"\n",
      "Score: 0.02890424244105816\t Topic: 0.041*\"queensland\" + 0.033*\"victoria\" + 0.022*\"bushfir\" + 0.021*\"hous\" + 0.014*\"time\"\n",
      "Score: 0.025537295266985893\t Topic: 0.038*\"sydney\" + 0.025*\"polic\" + 0.021*\"crash\" + 0.020*\"adelaid\" + 0.019*\"die\"\n"
     ]
    }
   ],
   "metadata": {}
  }
 ],
 "metadata": {
  "orig_nbformat": 4,
  "language_info": {
   "name": "python",
   "version": "3.9.6",
   "mimetype": "text/x-python",
   "codemirror_mode": {
    "name": "ipython",
    "version": 3
   },
   "pygments_lexer": "ipython3",
   "nbconvert_exporter": "python",
   "file_extension": ".py"
  },
  "kernelspec": {
   "name": "python3",
   "display_name": "Python 3.9.6 64-bit ('NLP': conda)"
  },
  "interpreter": {
   "hash": "86c899ea07089cc9d284ea9f9b0758fa4e79f644b216f9a03b961d7e004425f1"
  }
 },
 "nbformat": 4,
 "nbformat_minor": 2
}