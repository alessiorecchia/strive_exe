{
 "cells": [
  {
   "cell_type": "code",
   "execution_count": 10,
   "id": "comic-license",
   "metadata": {},
   "outputs": [],
   "source": [
    "# import the needed libraries and datasets\n",
    "import numpy as np\n",
    "import pandas as pd"
   ]
  },
  {
   "cell_type": "markdown",
   "id": "after-lithuania",
   "metadata": {},
   "source": [
    "**26.** You have a DataFrame that consists of 10 columns of floating--point numbers. Suppose that exactly 5 entries in each row are NaN values. For each row of the DataFrame, find the *column* which contains the *third* NaN value.\n",
    "\n",
    "(You should return a Series of column labels. Try not to use `.iterrows()`)"
   ]
  },
  {
   "cell_type": "code",
   "execution_count": 11,
   "id": "supported-bicycle",
   "metadata": {},
   "outputs": [],
   "source": [
    "data = {\n",
    "1:[np.nan,2,np.nan,4,5],\n",
    "2:[np.nan,2,3,np.nan,5],\n",
    "3:[np.nan,2,np.nan,4,5],\n",
    "4:[1,np.nan,3,np.nan,np.nan],\n",
    "5:[1,2,np.nan,4,5],\n",
    "6:[1,np.nan,3,np.nan,np.nan],\n",
    "7:[1,2,3,4,5],\n",
    "8:[1,np.nan,3,np.nan,np.nan],\n",
    "9:[1,2,3,4,np.nan],\n",
    "10:[1,np.nan,3,4,5]}"
   ]
  },
  {
   "cell_type": "code",
   "execution_count": 12,
   "id": "asian-thought",
   "metadata": {},
   "outputs": [
    {
     "name": "stdout",
     "output_type": "stream",
     "text": [
      "    1    2    3    4    5    6   7    8    9    10\n",
      "0  NaN  NaN  NaN  1.0  1.0  1.0   1  1.0  1.0  1.0\n",
      "1  2.0  2.0  2.0  NaN  2.0  NaN   2  NaN  2.0  NaN\n",
      "2  NaN  3.0  NaN  3.0  NaN  3.0   3  3.0  3.0  3.0\n",
      "3  4.0  NaN  4.0  NaN  4.0  NaN   4  NaN  4.0  4.0\n",
      "4  5.0  5.0  5.0  NaN  5.0  NaN   5  NaN  NaN  5.0\n",
      "[1, 3, 5]\n"
     ]
    }
   ],
   "source": [
    "df = pd.DataFrame(data)\n",
    "print(df)\n",
    "\n",
    "print(df.columns[df.iloc[[2]].isna().any()].tolist())\n"
   ]
  },
  {
   "cell_type": "markdown",
   "id": "severe-count",
   "metadata": {},
   "source": [
    "**27.** A DataFrame has a column of groups 'grps' and and column of numbers 'vals'. For example: \n",
    "\n",
    "```python\n",
    "df = pd.DataFrame({'grps': list('aaabbcaabcccbbc'), \n",
    "                   'vals': [12,345,3,1,45,14,4,52,54,23,235,21,57,3,87]})\n",
    "```\n",
    "For each *group*, find the sum of the three greatest values."
   ]
  },
  {
   "cell_type": "code",
   "execution_count": 15,
   "id": "czech-superior",
   "metadata": {},
   "outputs": [
    {
     "name": "stdout",
     "output_type": "stream",
     "text": [
      "   grps  vals\n",
      "0     a    12\n",
      "1     a   345\n",
      "2     a     3\n",
      "3     b     1\n",
      "4     b    45\n",
      "5     c    14\n",
      "6     a     4\n",
      "7     a    52\n",
      "8     b    54\n",
      "9     c    23\n",
      "10    c   235\n",
      "11    c    21\n",
      "12    b    57\n",
      "13    b     3\n",
      "14    c    87\n",
      "\n",
      "\n",
      "grps\n",
      "a    409\n",
      "b    156\n",
      "c    345\n",
      "dtype: int64\n"
     ]
    }
   ],
   "source": [
    "df = pd.DataFrame({'grps': list('aaabbcaabcccbbc'),\n",
    "                   'vals': [12,345,3,1,45,14,4,52,54,23,235,21,57,3,87]})\n",
    "print(df)\n",
    "print(\"\\n\")\n",
    "print(df.groupby('grps').apply(lambda x: x.vals.nlargest(3).sum()))\n"
   ]
  },
  {
   "cell_type": "code",
   "execution_count": null,
   "outputs": [],
   "source": [],
   "metadata": {
    "collapsed": false,
    "pycharm": {
     "name": "#%%\n"
    }
   }
  }
 ],
 "metadata": {
  "kernelspec": {
   "display_name": "Python 3",
   "language": "python",
   "name": "python3"
  },
  "language_info": {
   "codemirror_mode": {
    "name": "ipython",
    "version": 3
   },
   "file_extension": ".py",
   "mimetype": "text/x-python",
   "name": "python",
   "nbconvert_exporter": "python",
   "pygments_lexer": "ipython3",
   "version": "3.9.1"
  }
 },
 "nbformat": 4,
 "nbformat_minor": 5
}