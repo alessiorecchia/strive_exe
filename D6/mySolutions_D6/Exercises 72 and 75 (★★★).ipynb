{
 "cells": [
  {
   "cell_type": "code",
   "execution_count": 2,
   "id": "complimentary-handbook",
   "metadata": {
    "slideshow": {
     "slide_type": "slide"
    }
   },
   "outputs": [],
   "source": [
    "# Import the needed libraries\n",
    "import numpy as np"
   ]
  },
  {
   "cell_type": "markdown",
   "id": "pacific-kentucky",
   "metadata": {},
   "source": [
    "**72. How to swap two rows of an array?** "
   ]
  },
  {
   "cell_type": "code",
   "execution_count": 3,
   "id": "proper-reservoir",
   "metadata": {},
   "outputs": [
    {
     "name": "stdout",
     "output_type": "stream",
     "text": [
      "[[ 0  1  2  3  4]\n",
      " [ 5  6  7  8  9]\n",
      " [10 11 12 13 14]\n",
      " [15 16 17 18 19]\n",
      " [20 21 22 23 24]]\n",
      "\n",
      "\n",
      "[[ 0  1  2  3  4]\n",
      " [15 16 17 18 19]\n",
      " [10 11 12 13 14]\n",
      " [ 5  6  7  8  9]\n",
      " [20 21 22 23 24]]\n"
     ]
    }
   ],
   "source": [
    "swap_array = np.arange(25).reshape(5,5)\n",
    "print(swap_array)\n",
    "\n",
    "print('\\n')\n",
    "\n",
    "swap_array[[1,3]] = swap_array[[3,1]]\n",
    "print(swap_array)\n",
    "\n",
    "\n",
    "\n"
   ]
  },
  {
   "cell_type": "markdown",
   "id": "outer-encoding",
   "metadata": {},
   "source": [
    "**75. How to compute averages using a sliding window over an array?**"
   ]
  },
  {
   "cell_type": "code",
   "execution_count": 39,
   "id": "active-reply",
   "metadata": {
    "pycharm": {
     "name": "#%%\n"
    }
   },
   "outputs": [
    {
     "name": "stdout",
     "output_type": "stream",
     "text": [
      "[[ 0  1  2  3]\n",
      " [ 4  5  6  7]\n",
      " [ 8  9 10 11]\n",
      " [12 13 14 15]\n",
      " [16 17 18 19]]\n",
      "[]\n"
     ]
    }
   ],
   "source": [
    "# I was't able to find a built-in function... had to work-around\n",
    "data_array = np.arange(20).reshape(5,4)\n",
    "\n",
    "print(data_array)\n",
    "\n",
    "m,n = np.shape(data_array)\n",
    "w_shape = (2,2)\n",
    "def sliding_window_avg(arr, w_size : tuple, step = 1):\n",
    "    AVG = []\n",
    "\n",
    "    m, n = np.shape(arr)\n",
    "\n",
    "    r, c = w_size\n",
    "\n",
    "    for i in range(0,m - r + 1,step):\n",
    "        for j in range(0,n - c + 1,step):\n",
    "            w = data_array[i:i + r,j:j + c]\n",
    "            avg = np.sum(w)/np.size(w)\n",
    "\n",
    "    return np.array(AVG)\n",
    "\n",
    "print(sliding_window_avg(data_array,w_shape,2))\n",
    "\n"
   ]
  },
  {
   "cell_type": "code",
   "execution_count": null,
   "outputs": [],
   "source": [],
   "metadata": {
    "collapsed": false,
    "pycharm": {
     "name": "#%%\n"
    }
   }
  }
 ],
 "metadata": {
  "kernelspec": {
   "display_name": "Python 3",
   "language": "python",
   "name": "python3"
  },
  "language_info": {
   "codemirror_mode": {
    "name": "ipython",
    "version": 3
   },
   "file_extension": ".py",
   "mimetype": "text/x-python",
   "name": "python",
   "nbconvert_exporter": "python",
   "pygments_lexer": "ipython3",
   "version": "3.9.1"
  }
 },
 "nbformat": 4,
 "nbformat_minor": 5
}