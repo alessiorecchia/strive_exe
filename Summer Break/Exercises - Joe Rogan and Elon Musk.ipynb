{
 "cells": [
  {
   "cell_type": "code",
   "execution_count": 1,
   "source": [
    "import pandas as pd"
   ],
   "outputs": [],
   "metadata": {
    "ExecuteTime": {
     "end_time": "2021-03-29T22:31:33.722276Z",
     "start_time": "2021-03-29T22:31:33.372070Z"
    }
   }
  },
  {
   "cell_type": "code",
   "execution_count": 2,
   "source": [
    "df = pd.read_csv(\"data/jre_elon_musk.csv\")\n",
    "df.head()"
   ],
   "outputs": [
    {
     "output_type": "execute_result",
     "data": {
      "text/plain": [
       "    Timestamp    Speaker                                               Text\n",
       "0  [00:00:00]  Joe Rogan  Ah, ha, ha, ha. Four, three, two, one, boom. T...\n",
       "1  [00:00:09]  Elon Musk                                    You're welcome.\n",
       "2  [00:00:10]  Joe Rogan                        It's very good to meet you.\n",
       "3  [00:00:11]  Elon Musk                              Nice to meet you too.\n",
       "4  [00:00:12]  Joe Rogan    And thanks for not lighting this place on fire."
      ],
      "text/html": [
       "<div>\n",
       "<style scoped>\n",
       "    .dataframe tbody tr th:only-of-type {\n",
       "        vertical-align: middle;\n",
       "    }\n",
       "\n",
       "    .dataframe tbody tr th {\n",
       "        vertical-align: top;\n",
       "    }\n",
       "\n",
       "    .dataframe thead th {\n",
       "        text-align: right;\n",
       "    }\n",
       "</style>\n",
       "<table border=\"1\" class=\"dataframe\">\n",
       "  <thead>\n",
       "    <tr style=\"text-align: right;\">\n",
       "      <th></th>\n",
       "      <th>Timestamp</th>\n",
       "      <th>Speaker</th>\n",
       "      <th>Text</th>\n",
       "    </tr>\n",
       "  </thead>\n",
       "  <tbody>\n",
       "    <tr>\n",
       "      <th>0</th>\n",
       "      <td>[00:00:00]</td>\n",
       "      <td>Joe Rogan</td>\n",
       "      <td>Ah, ha, ha, ha. Four, three, two, one, boom. T...</td>\n",
       "    </tr>\n",
       "    <tr>\n",
       "      <th>1</th>\n",
       "      <td>[00:00:09]</td>\n",
       "      <td>Elon Musk</td>\n",
       "      <td>You're welcome.</td>\n",
       "    </tr>\n",
       "    <tr>\n",
       "      <th>2</th>\n",
       "      <td>[00:00:10]</td>\n",
       "      <td>Joe Rogan</td>\n",
       "      <td>It's very good to meet you.</td>\n",
       "    </tr>\n",
       "    <tr>\n",
       "      <th>3</th>\n",
       "      <td>[00:00:11]</td>\n",
       "      <td>Elon Musk</td>\n",
       "      <td>Nice to meet you too.</td>\n",
       "    </tr>\n",
       "    <tr>\n",
       "      <th>4</th>\n",
       "      <td>[00:00:12]</td>\n",
       "      <td>Joe Rogan</td>\n",
       "      <td>And thanks for not lighting this place on fire.</td>\n",
       "    </tr>\n",
       "  </tbody>\n",
       "</table>\n",
       "</div>"
      ]
     },
     "metadata": {},
     "execution_count": 2
    }
   ],
   "metadata": {
    "ExecuteTime": {
     "end_time": "2021-03-29T22:31:33.737038Z",
     "start_time": "2021-03-29T22:31:33.723718Z"
    }
   }
  },
  {
   "cell_type": "code",
   "execution_count": 3,
   "source": [
    "# Print the first ten lines of text\n",
    "print(df['Text'].values[:10])"
   ],
   "outputs": [
    {
     "output_type": "stream",
     "name": "stdout",
     "text": [
      "['Ah, ha, ha, ha. Four, three, two, one, boom. Thank you. Thanks for doing this, man. Really appreciate it.'\n",
      " \"You're welcome.\" \"It's very good to meet you.\" 'Nice to meet you too.'\n",
      " 'And thanks for not lighting this place on fire.'\n",
      " \"You're welcome. That's coming later.\"\n",
      " \"How does one, just in the middle of doing all the things you do, create cars, rockets, all the stuff you're doing,constantly innovating, decide to just make a flamethrower? Where do you have the time for that?\"\n",
      " \"Well, the flame, we didn't put a lot of time into the flamethrower. This was an off-the-cuff thing. It's sort of a hobbycompany called the Boring Company, which started out as a joke, and we decided to make a real, and dig a tunnelunder LA. And then, other people asked us to dig tunnels. And so, we said yes in a few cases.\"\n",
      " 'Now, who-'\n",
      " 'And then, we have a merchandise section that only has one piece of merchandise at a time. And we started off witha cap. And there was only one thing on, which is BoringCompany.com/hat. That\\'s it. And then, we sold the hats,limited edition. It just said, \"The Boring Company.\"']\n"
     ]
    }
   ],
   "metadata": {
    "ExecuteTime": {
     "end_time": "2021-03-29T22:31:33.740828Z",
     "start_time": "2021-03-29T22:31:33.738483Z"
    }
   }
  },
  {
   "cell_type": "code",
   "execution_count": 4,
   "source": [
    "# Create a function to convert timestamp into seconds\n",
    "import re\n",
    "def convert_timestamp_into_seconds(timestamp):\n",
    "    timestamp = timestamp.split(':')\n",
    "    seconds = 0\n",
    "    for i, el in enumerate(timestamp):\n",
    "        el = el.replace('[', '').replace(']', '')\n",
    "        seconds += int(el)*60**(len(timestamp)-1-i)\n",
    "    return seconds"
   ],
   "outputs": [],
   "metadata": {
    "ExecuteTime": {
     "end_time": "2021-03-29T22:31:33.744723Z",
     "start_time": "2021-03-29T22:31:33.742128Z"
    }
   }
  },
  {
   "cell_type": "code",
   "execution_count": 5,
   "source": [
    "# Convert the Timestamp column using the function defined above\n",
    "\n",
    "df[\"Timestamp\"] = df[\"Timestamp\"].apply(convert_timestamp_into_seconds)"
   ],
   "outputs": [],
   "metadata": {
    "ExecuteTime": {
     "end_time": "2021-03-29T22:31:33.752441Z",
     "start_time": "2021-03-29T22:31:33.745762Z"
    }
   }
  },
  {
   "cell_type": "code",
   "execution_count": 6,
   "source": [
    "df"
   ],
   "outputs": [
    {
     "output_type": "execute_result",
     "data": {
      "text/plain": [
       "      Timestamp    Speaker                                               Text\n",
       "0             0  Joe Rogan  Ah, ha, ha, ha. Four, three, two, one, boom. T...\n",
       "1             9  Elon Musk                                    You're welcome.\n",
       "2            10  Joe Rogan                        It's very good to meet you.\n",
       "3            11  Elon Musk                              Nice to meet you too.\n",
       "4            12  Joe Rogan    And thanks for not lighting this place on fire.\n",
       "...         ...        ...                                                ...\n",
       "1826       9401  Joe Rogan            I believe it's true too. So, thank you.\n",
       "1827       9403  Elon Musk                                    You're welcome.\n",
       "1828       9404  Joe Rogan  All you assholes out there, be nice. Be nice, ...\n",
       "1829       9410  Elon Musk                              All right, thank you.\n",
       "1830       9410  Joe Rogan  Good night, everybody. END OF TRANSCRIPTAutoma...\n",
       "\n",
       "[1831 rows x 3 columns]"
      ],
      "text/html": [
       "<div>\n",
       "<style scoped>\n",
       "    .dataframe tbody tr th:only-of-type {\n",
       "        vertical-align: middle;\n",
       "    }\n",
       "\n",
       "    .dataframe tbody tr th {\n",
       "        vertical-align: top;\n",
       "    }\n",
       "\n",
       "    .dataframe thead th {\n",
       "        text-align: right;\n",
       "    }\n",
       "</style>\n",
       "<table border=\"1\" class=\"dataframe\">\n",
       "  <thead>\n",
       "    <tr style=\"text-align: right;\">\n",
       "      <th></th>\n",
       "      <th>Timestamp</th>\n",
       "      <th>Speaker</th>\n",
       "      <th>Text</th>\n",
       "    </tr>\n",
       "  </thead>\n",
       "  <tbody>\n",
       "    <tr>\n",
       "      <th>0</th>\n",
       "      <td>0</td>\n",
       "      <td>Joe Rogan</td>\n",
       "      <td>Ah, ha, ha, ha. Four, three, two, one, boom. T...</td>\n",
       "    </tr>\n",
       "    <tr>\n",
       "      <th>1</th>\n",
       "      <td>9</td>\n",
       "      <td>Elon Musk</td>\n",
       "      <td>You're welcome.</td>\n",
       "    </tr>\n",
       "    <tr>\n",
       "      <th>2</th>\n",
       "      <td>10</td>\n",
       "      <td>Joe Rogan</td>\n",
       "      <td>It's very good to meet you.</td>\n",
       "    </tr>\n",
       "    <tr>\n",
       "      <th>3</th>\n",
       "      <td>11</td>\n",
       "      <td>Elon Musk</td>\n",
       "      <td>Nice to meet you too.</td>\n",
       "    </tr>\n",
       "    <tr>\n",
       "      <th>4</th>\n",
       "      <td>12</td>\n",
       "      <td>Joe Rogan</td>\n",
       "      <td>And thanks for not lighting this place on fire.</td>\n",
       "    </tr>\n",
       "    <tr>\n",
       "      <th>...</th>\n",
       "      <td>...</td>\n",
       "      <td>...</td>\n",
       "      <td>...</td>\n",
       "    </tr>\n",
       "    <tr>\n",
       "      <th>1826</th>\n",
       "      <td>9401</td>\n",
       "      <td>Joe Rogan</td>\n",
       "      <td>I believe it's true too. So, thank you.</td>\n",
       "    </tr>\n",
       "    <tr>\n",
       "      <th>1827</th>\n",
       "      <td>9403</td>\n",
       "      <td>Elon Musk</td>\n",
       "      <td>You're welcome.</td>\n",
       "    </tr>\n",
       "    <tr>\n",
       "      <th>1828</th>\n",
       "      <td>9404</td>\n",
       "      <td>Joe Rogan</td>\n",
       "      <td>All you assholes out there, be nice. Be nice, ...</td>\n",
       "    </tr>\n",
       "    <tr>\n",
       "      <th>1829</th>\n",
       "      <td>9410</td>\n",
       "      <td>Elon Musk</td>\n",
       "      <td>All right, thank you.</td>\n",
       "    </tr>\n",
       "    <tr>\n",
       "      <th>1830</th>\n",
       "      <td>9410</td>\n",
       "      <td>Joe Rogan</td>\n",
       "      <td>Good night, everybody. END OF TRANSCRIPTAutoma...</td>\n",
       "    </tr>\n",
       "  </tbody>\n",
       "</table>\n",
       "<p>1831 rows × 3 columns</p>\n",
       "</div>"
      ]
     },
     "metadata": {},
     "execution_count": 6
    }
   ],
   "metadata": {
    "ExecuteTime": {
     "end_time": "2021-03-29T22:31:33.761163Z",
     "start_time": "2021-03-29T22:31:33.754043Z"
    }
   }
  },
  {
   "cell_type": "code",
   "execution_count": 26,
   "source": [
    "# Add a column with the seconds lasted by the text in the row\n",
    "# for example: the first row lasts 9 seconds, since Elon Musk\n",
    "# answer at the second 9 (Hint: use shift with period - 1).\n",
    "# In case of negative numbers, just make them 1 (minimum interval lenght is 1 second)\n",
    "import numpy as np\n",
    "def max1(x):\n",
    "    return np.maximum(1,x)\n",
    "\n",
    "\n",
    "df[\"Interval\"] = max1(df['Timestamp'].shift(-1)-df['Timestamp'])"
   ],
   "outputs": [],
   "metadata": {
    "ExecuteTime": {
     "end_time": "2021-03-29T22:31:33.771471Z",
     "start_time": "2021-03-29T22:31:33.764137Z"
    }
   }
  },
  {
   "cell_type": "code",
   "execution_count": 21,
   "source": [
    "df.head(20)"
   ],
   "outputs": [
    {
     "output_type": "execute_result",
     "data": {
      "text/plain": [
       "    Timestamp    Speaker                                               Text  \\\n",
       "0           0  Joe Rogan  Ah, ha, ha, ha. Four, three, two, one, boom. T...   \n",
       "1           9  Elon Musk                                    You're welcome.   \n",
       "2          10  Joe Rogan                        It's very good to meet you.   \n",
       "3          11  Elon Musk                              Nice to meet you too.   \n",
       "4          12  Joe Rogan    And thanks for not lighting this place on fire.   \n",
       "5          13  Elon Musk               You're welcome. That's coming later.   \n",
       "6          16  Joe Rogan  How does one, just in the middle of doing all ...   \n",
       "7          30  Elon Musk  Well, the flame, we didn't put a lot of time i...   \n",
       "8          62  Joe Rogan                                          Now, who-   \n",
       "9          62  Elon Musk  And then, we have a merchandise section that o...   \n",
       "10         83  Elon Musk  And then, I'm a big fan of Spaceballs, the mov...   \n",
       "11        111  Joe Rogan  Does anybody tell you no? Does anybody go, \"El...   \n",
       "12        131  Elon Musk  Yeah, it's a terrible idea. It's terrible. Don...   \n",
       "13        142  Joe Rogan                                              Yeah.   \n",
       "14        143  Elon Musk  There's nothing I can do to stop them. I did n...   \n",
       "15        144  Joe Rogan                      You build it, they will come.   \n",
       "16        145  Elon Musk           I said, \"Don't buy it. It's a bad idea.\"   \n",
       "17        149  Joe Rogan                             How many did you make?   \n",
       "18        150  Elon Musk  It's dangerous. It's wrong. Don't buy it. And,...   \n",
       "19        158  Joe Rogan                             How many did you make?   \n",
       "\n",
       "    Interval  \n",
       "0        9.0  \n",
       "1        1.0  \n",
       "2        1.0  \n",
       "3        1.0  \n",
       "4        1.0  \n",
       "5        3.0  \n",
       "6       14.0  \n",
       "7       32.0  \n",
       "8        1.0  \n",
       "9       21.0  \n",
       "10      28.0  \n",
       "11      20.0  \n",
       "12      11.0  \n",
       "13       1.0  \n",
       "14       1.0  \n",
       "15       1.0  \n",
       "16       4.0  \n",
       "17       1.0  \n",
       "18       8.0  \n",
       "19       2.0  "
      ],
      "text/html": [
       "<div>\n",
       "<style scoped>\n",
       "    .dataframe tbody tr th:only-of-type {\n",
       "        vertical-align: middle;\n",
       "    }\n",
       "\n",
       "    .dataframe tbody tr th {\n",
       "        vertical-align: top;\n",
       "    }\n",
       "\n",
       "    .dataframe thead th {\n",
       "        text-align: right;\n",
       "    }\n",
       "</style>\n",
       "<table border=\"1\" class=\"dataframe\">\n",
       "  <thead>\n",
       "    <tr style=\"text-align: right;\">\n",
       "      <th></th>\n",
       "      <th>Timestamp</th>\n",
       "      <th>Speaker</th>\n",
       "      <th>Text</th>\n",
       "      <th>Interval</th>\n",
       "    </tr>\n",
       "  </thead>\n",
       "  <tbody>\n",
       "    <tr>\n",
       "      <th>0</th>\n",
       "      <td>0</td>\n",
       "      <td>Joe Rogan</td>\n",
       "      <td>Ah, ha, ha, ha. Four, three, two, one, boom. T...</td>\n",
       "      <td>9.0</td>\n",
       "    </tr>\n",
       "    <tr>\n",
       "      <th>1</th>\n",
       "      <td>9</td>\n",
       "      <td>Elon Musk</td>\n",
       "      <td>You're welcome.</td>\n",
       "      <td>1.0</td>\n",
       "    </tr>\n",
       "    <tr>\n",
       "      <th>2</th>\n",
       "      <td>10</td>\n",
       "      <td>Joe Rogan</td>\n",
       "      <td>It's very good to meet you.</td>\n",
       "      <td>1.0</td>\n",
       "    </tr>\n",
       "    <tr>\n",
       "      <th>3</th>\n",
       "      <td>11</td>\n",
       "      <td>Elon Musk</td>\n",
       "      <td>Nice to meet you too.</td>\n",
       "      <td>1.0</td>\n",
       "    </tr>\n",
       "    <tr>\n",
       "      <th>4</th>\n",
       "      <td>12</td>\n",
       "      <td>Joe Rogan</td>\n",
       "      <td>And thanks for not lighting this place on fire.</td>\n",
       "      <td>1.0</td>\n",
       "    </tr>\n",
       "    <tr>\n",
       "      <th>5</th>\n",
       "      <td>13</td>\n",
       "      <td>Elon Musk</td>\n",
       "      <td>You're welcome. That's coming later.</td>\n",
       "      <td>3.0</td>\n",
       "    </tr>\n",
       "    <tr>\n",
       "      <th>6</th>\n",
       "      <td>16</td>\n",
       "      <td>Joe Rogan</td>\n",
       "      <td>How does one, just in the middle of doing all ...</td>\n",
       "      <td>14.0</td>\n",
       "    </tr>\n",
       "    <tr>\n",
       "      <th>7</th>\n",
       "      <td>30</td>\n",
       "      <td>Elon Musk</td>\n",
       "      <td>Well, the flame, we didn't put a lot of time i...</td>\n",
       "      <td>32.0</td>\n",
       "    </tr>\n",
       "    <tr>\n",
       "      <th>8</th>\n",
       "      <td>62</td>\n",
       "      <td>Joe Rogan</td>\n",
       "      <td>Now, who-</td>\n",
       "      <td>1.0</td>\n",
       "    </tr>\n",
       "    <tr>\n",
       "      <th>9</th>\n",
       "      <td>62</td>\n",
       "      <td>Elon Musk</td>\n",
       "      <td>And then, we have a merchandise section that o...</td>\n",
       "      <td>21.0</td>\n",
       "    </tr>\n",
       "    <tr>\n",
       "      <th>10</th>\n",
       "      <td>83</td>\n",
       "      <td>Elon Musk</td>\n",
       "      <td>And then, I'm a big fan of Spaceballs, the mov...</td>\n",
       "      <td>28.0</td>\n",
       "    </tr>\n",
       "    <tr>\n",
       "      <th>11</th>\n",
       "      <td>111</td>\n",
       "      <td>Joe Rogan</td>\n",
       "      <td>Does anybody tell you no? Does anybody go, \"El...</td>\n",
       "      <td>20.0</td>\n",
       "    </tr>\n",
       "    <tr>\n",
       "      <th>12</th>\n",
       "      <td>131</td>\n",
       "      <td>Elon Musk</td>\n",
       "      <td>Yeah, it's a terrible idea. It's terrible. Don...</td>\n",
       "      <td>11.0</td>\n",
       "    </tr>\n",
       "    <tr>\n",
       "      <th>13</th>\n",
       "      <td>142</td>\n",
       "      <td>Joe Rogan</td>\n",
       "      <td>Yeah.</td>\n",
       "      <td>1.0</td>\n",
       "    </tr>\n",
       "    <tr>\n",
       "      <th>14</th>\n",
       "      <td>143</td>\n",
       "      <td>Elon Musk</td>\n",
       "      <td>There's nothing I can do to stop them. I did n...</td>\n",
       "      <td>1.0</td>\n",
       "    </tr>\n",
       "    <tr>\n",
       "      <th>15</th>\n",
       "      <td>144</td>\n",
       "      <td>Joe Rogan</td>\n",
       "      <td>You build it, they will come.</td>\n",
       "      <td>1.0</td>\n",
       "    </tr>\n",
       "    <tr>\n",
       "      <th>16</th>\n",
       "      <td>145</td>\n",
       "      <td>Elon Musk</td>\n",
       "      <td>I said, \"Don't buy it. It's a bad idea.\"</td>\n",
       "      <td>4.0</td>\n",
       "    </tr>\n",
       "    <tr>\n",
       "      <th>17</th>\n",
       "      <td>149</td>\n",
       "      <td>Joe Rogan</td>\n",
       "      <td>How many did you make?</td>\n",
       "      <td>1.0</td>\n",
       "    </tr>\n",
       "    <tr>\n",
       "      <th>18</th>\n",
       "      <td>150</td>\n",
       "      <td>Elon Musk</td>\n",
       "      <td>It's dangerous. It's wrong. Don't buy it. And,...</td>\n",
       "      <td>8.0</td>\n",
       "    </tr>\n",
       "    <tr>\n",
       "      <th>19</th>\n",
       "      <td>158</td>\n",
       "      <td>Joe Rogan</td>\n",
       "      <td>How many did you make?</td>\n",
       "      <td>2.0</td>\n",
       "    </tr>\n",
       "  </tbody>\n",
       "</table>\n",
       "</div>"
      ]
     },
     "metadata": {},
     "execution_count": 21
    }
   ],
   "metadata": {}
  },
  {
   "cell_type": "code",
   "execution_count": 22,
   "source": [
    "df.Speaker.unique()"
   ],
   "outputs": [
    {
     "output_type": "execute_result",
     "data": {
      "text/plain": [
       "array(['Joe Rogan', 'Elon Musk', 'Jaime'], dtype=object)"
      ]
     },
     "metadata": {},
     "execution_count": 22
    }
   ],
   "metadata": {
    "ExecuteTime": {
     "end_time": "2021-03-29T22:31:33.779836Z",
     "start_time": "2021-03-29T22:31:33.776781Z"
    }
   }
  },
  {
   "cell_type": "code",
   "execution_count": 33,
   "source": [
    "# Total seconds spoken by Joe Rogan\n",
    "rogan = df.loc[df['Speaker'] == 'Joe Rogan', 'Interval'].sum()   #df.loc[df['B'] == 3, 'A'].iloc[0]\n",
    "print(rogan)\n",
    "\n"
   ],
   "outputs": [
    {
     "output_type": "stream",
     "name": "stdout",
     "text": [
      "4636.0\n"
     ]
    }
   ],
   "metadata": {
    "ExecuteTime": {
     "end_time": "2021-03-29T22:31:33.786629Z",
     "start_time": "2021-03-29T22:31:33.781182Z"
    }
   }
  },
  {
   "cell_type": "code",
   "execution_count": 34,
   "source": [
    "# Total seconds spoken by Elon Musk\n",
    "musk = df.loc[df['Speaker'] == 'Elon Musk', 'Interval'].sum()   #df.loc[df['B'] == 3, 'A'].iloc[0]\n",
    "print(musk)\n"
   ],
   "outputs": [
    {
     "output_type": "stream",
     "name": "stdout",
     "text": [
      "5075.0\n"
     ]
    }
   ],
   "metadata": {
    "ExecuteTime": {
     "end_time": "2021-03-29T22:31:33.792682Z",
     "start_time": "2021-03-29T22:31:33.787665Z"
    }
   }
  },
  {
   "cell_type": "code",
   "execution_count": 35,
   "source": [
    "# Total seconds spoken by Jaime\n",
    "jaime = df.loc[df['Speaker'] == 'Jaime', 'Interval'].sum()   #df.loc[df['B'] == 3, 'A'].iloc[0]\n",
    "print(jaime)\n"
   ],
   "outputs": [
    {
     "output_type": "stream",
     "name": "stdout",
     "text": [
      "45.0\n"
     ]
    }
   ],
   "metadata": {
    "ExecuteTime": {
     "end_time": "2021-03-29T22:31:33.797733Z",
     "start_time": "2021-03-29T22:31:33.793794Z"
    }
   }
  },
  {
   "cell_type": "code",
   "execution_count": 42,
   "source": [
    "# Average speaking interval for each person\n",
    "avg_rogan = rogan/sum(df['Speaker'] == 'Joe Rogan')\n",
    "avg_musk = musk/sum(df['Speaker'] == 'Elon Musk')\n",
    "avg_jaime = jaime/sum(df['Speaker'] == 'Jaime')\n",
    "\n",
    "print('Average speaking interval for Rogan = ', avg_rogan, ' seconds')\n",
    "print('Average speaking interval for Musk = ', avg_musk, ' seconds')\n",
    "print('Average speaking interval for Jaime = ', avg_jaime, ' seconds')\n",
    "\n"
   ],
   "outputs": [
    {
     "output_type": "stream",
     "name": "stdout",
     "text": [
      "Average speaking interval for Rogan =  5.122651933701658  seconds\n",
      "Average speaking interval for Musk =  5.583058305830583  seconds\n",
      "Average speaking interval for Jaime =  2.6470588235294117  seconds\n"
     ]
    }
   ],
   "metadata": {
    "ExecuteTime": {
     "end_time": "2021-03-29T22:31:33.804917Z",
     "start_time": "2021-03-29T22:31:33.798845Z"
    }
   }
  },
  {
   "cell_type": "markdown",
   "source": [
    "Who speaks faster?\n",
    "\n",
    "Tokenize the text, preprocess the tokens so that you have only words (excluding punctuation) and compute the velocity of each speaker as: number of words per interval / length of interval . Store the result in a column named Velocity and compute the average for each speaker."
   ],
   "metadata": {}
  },
  {
   "cell_type": "code",
   "execution_count": null,
   "source": [
    "# Preprocess the data\n",
    "import spacy\n",
    "\n",
    "nlp = spacy.load(\"en_core_web_sm\")\n",
    "\n",
    "# Create a function to remove punctuation from text\n",
    "\n",
    "def remove_punctuation(text):\n",
    "    # your code here\n",
    "\n",
    "# Create a function to count the non punctuation token of a text\n",
    "\n",
    "def count_tokens(text):\n",
    "    # your code here\n",
    "    \n",
    "# Create a function to remove stop words from text\n",
    "    \n",
    "def remove_stopwords(text):\n",
    "    # your code here\n",
    "\n",
    "df[\"TextNoPunct\"] = # your code here"
   ],
   "outputs": [],
   "metadata": {
    "ExecuteTime": {
     "end_time": "2021-03-29T22:31:44.193591Z",
     "start_time": "2021-03-29T22:31:33.806035Z"
    }
   }
  },
  {
   "cell_type": "code",
   "execution_count": null,
   "source": [
    "# Put the number of tokens of each row in a new column\n",
    "df[\"n_tokens\"] = # your code here"
   ],
   "outputs": [],
   "metadata": {
    "ExecuteTime": {
     "end_time": "2021-03-29T22:31:53.437500Z",
     "start_time": "2021-03-29T22:31:44.194518Z"
    }
   }
  },
  {
   "cell_type": "code",
   "execution_count": null,
   "source": [
    "df"
   ],
   "outputs": [],
   "metadata": {
    "ExecuteTime": {
     "end_time": "2021-03-29T22:31:53.447357Z",
     "start_time": "2021-03-29T22:31:53.438403Z"
    }
   }
  },
  {
   "cell_type": "code",
   "execution_count": null,
   "source": [
    "# Compute the velocity and store it in a new column\n",
    "\n",
    "df[\"Velocity\"] = # your code here"
   ],
   "outputs": [],
   "metadata": {
    "ExecuteTime": {
     "end_time": "2021-03-29T22:31:53.450694Z",
     "start_time": "2021-03-29T22:31:53.448360Z"
    }
   }
  },
  {
   "cell_type": "code",
   "execution_count": null,
   "source": [
    "df"
   ],
   "outputs": [],
   "metadata": {
    "ExecuteTime": {
     "end_time": "2021-03-29T22:31:53.461867Z",
     "start_time": "2021-03-29T22:31:53.451650Z"
    }
   }
  },
  {
   "cell_type": "code",
   "execution_count": null,
   "source": [
    "# Inspect the avg velocity of each speaker"
   ],
   "outputs": [],
   "metadata": {
    "ExecuteTime": {
     "end_time": "2021-03-29T22:31:53.466751Z",
     "start_time": "2021-03-29T22:31:53.462928Z"
    }
   }
  },
  {
   "cell_type": "markdown",
   "source": [
    "After all, Elon was high...\n",
    "\n",
    "![image](https://bsmedia.business-standard.com/_media/bs/img/article/2018-09/09/full/1536463138-6668.jpg)"
   ],
   "metadata": {}
  },
  {
   "cell_type": "code",
   "execution_count": null,
   "source": [
    "# "
   ],
   "outputs": [],
   "metadata": {}
  }
 ],
 "metadata": {
  "kernelspec": {
   "name": "python3",
   "display_name": "Python 3.9.5 64-bit ('deep_learning': conda)"
  },
  "language_info": {
   "codemirror_mode": {
    "name": "ipython",
    "version": 3
   },
   "file_extension": ".py",
   "mimetype": "text/x-python",
   "name": "python",
   "nbconvert_exporter": "python",
   "pygments_lexer": "ipython3",
   "version": "3.9.5"
  },
  "varInspector": {
   "cols": {
    "lenName": 16,
    "lenType": 16,
    "lenVar": 40
   },
   "kernels_config": {
    "python": {
     "delete_cmd_postfix": "",
     "delete_cmd_prefix": "del ",
     "library": "var_list.py",
     "varRefreshCmd": "print(var_dic_list())"
    },
    "r": {
     "delete_cmd_postfix": ") ",
     "delete_cmd_prefix": "rm(",
     "library": "var_list.r",
     "varRefreshCmd": "cat(var_dic_list()) "
    }
   },
   "types_to_exclude": [
    "module",
    "function",
    "builtin_function_or_method",
    "instance",
    "_Feature"
   ],
   "window_display": false
  },
  "interpreter": {
   "hash": "5d8eb55396b26e444e25830983e23d02f9d742a022e83389ffb69c4e4a8d7f54"
  }
 },
 "nbformat": 4,
 "nbformat_minor": 5
}