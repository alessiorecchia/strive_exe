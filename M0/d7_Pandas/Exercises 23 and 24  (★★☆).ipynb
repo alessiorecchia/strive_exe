{
 "cells": [
  {
   "cell_type": "code",
   "execution_count": 1,
   "id": "comic-license",
   "metadata": {},
   "outputs": [],
   "source": [
    "# import the needed libraries and datasets\n",
    "import pandas as pd\n",
    "import numpy as np"
   ]
  },
  {
   "cell_type": "markdown",
   "id": "after-lithuania",
   "metadata": {},
   "source": [
    "**23.** Given a DataFrame of numeric values, say\n",
    "```python\n",
    "df = pd.DataFrame(np.random.random(size=(5, 3))) # a 5x3 frame of float values\n",
    "```\n",
    "\n",
    "how do you subtract the row mean from each element in the row?"
   ]
  },
  {
   "cell_type": "code",
   "execution_count": 2,
   "id": "supported-bicycle",
   "metadata": {},
   "outputs": [
    {
     "name": "stdout",
     "output_type": "stream",
     "text": [
      "          0         1         2\n",
      "0  0.857057  0.813462  0.002263\n",
      "1  0.077786  0.112966  0.827417\n",
      "2  0.612067  0.195073  0.514480\n",
      "3  0.421107  0.851845  0.873054\n",
      "4  0.815322  0.087116  0.738726\n",
      "          0         1         2\n",
      "0  0.299463  0.255868 -0.555331\n",
      "1 -0.261603 -0.226423  0.488027\n",
      "2  0.171527 -0.245467  0.073940\n",
      "3 -0.294228  0.136510  0.157718\n",
      "4  0.268267 -0.459938  0.191671\n"
     ]
    }
   ],
   "source": [
    "df = pd.DataFrame(np.random.random(size=(5, 3)))\n",
    "print(df)\n",
    "df = df.sub(df.mean(axis='columns'), axis = 'rows')\n",
    "print(df)\n"
   ]
  },
  {
   "cell_type": "markdown",
   "id": "severe-count",
   "metadata": {},
   "source": [
    "**24.** Suppose you have DataFrame with 10 columns of real numbers, for example:\n",
    "\n",
    "```python\n",
    "df = pd.DataFrame(np.random.random(size=(5, 10)), columns=list('abcdefghij'))\n",
    "```\n",
    "Which column of numbers has the smallest sum? (Find that column's label.)"
   ]
  },
  {
   "cell_type": "code",
   "execution_count": 4,
   "id": "czech-superior",
   "metadata": {},
   "outputs": [
    {
     "name": "stdout",
     "output_type": "stream",
     "text": [
      "          a         b         c         d         e         f         g  \\\n",
      "0  0.716802  0.178104  0.763498  0.803415  0.306881  0.407465  0.267630   \n",
      "1  0.155311  0.084120  0.543176  0.702493  0.167906  0.229368  0.874492   \n",
      "2  0.266846  0.497103  0.196744  0.658431  0.271367  0.356737  0.638626   \n",
      "3  0.755757  0.038048  0.216291  0.446873  0.526467  0.209462  0.651035   \n",
      "4  0.502613  0.072610  0.698264  0.112356  0.124187  0.292876  0.329583   \n",
      "\n",
      "          h         i         j  \n",
      "0  0.895891  0.545344  0.529731  \n",
      "1  0.198482  0.768698  0.244240  \n",
      "2  0.411095  0.337917  0.621251  \n",
      "3  0.105611  0.415567  0.308084  \n",
      "4  0.867805  0.661713  0.352351  \n",
      "\n",
      "\n",
      "Column with smallest sum: b\n"
     ]
    }
   ],
   "source": [
    "df = pd.DataFrame(np.random.random(size=(5, 10)), columns=list('abcdefghij'))\n",
    "print(df)\n",
    "print('\\n')\n",
    "print(f\"Column with smallest sum: {df.sum().idxmin()}\")"
   ]
  }
 ],
 "metadata": {
  "kernelspec": {
   "display_name": "Python 3",
   "language": "python",
   "name": "python3"
  },
  "language_info": {
   "codemirror_mode": {
    "name": "ipython",
    "version": 3
   },
   "file_extension": ".py",
   "mimetype": "text/x-python",
   "name": "python",
   "nbconvert_exporter": "python",
   "pygments_lexer": "ipython3",
   "version": "3.9.1"
  }
 },
 "nbformat": 4,
 "nbformat_minor": 5
}