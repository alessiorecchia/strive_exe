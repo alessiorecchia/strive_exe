{
 "cells": [
  {
   "cell_type": "markdown",
   "metadata": {},
   "source": [
    "**Exercise 2.2 (optional):** Write code that classifies a given amount of money (which you store in a variable `amount`), specified in cents, as greater monetary units. Your code lists the monetary equivalent in dollars (100 ct), quarters (25 ct), dimes (10 ct), nickels (5 ct), and pennies (1 ct). Your program should report the maximum number of dollars that fit in the amount, then the maximum number of quarters that fit in the remainder after you subtract the dollars, then the maximum number of dimes that fit in the remainder after you subtract the dollars and quarters, and so on for nickels and pennies. The result is that you express the amount as the minimum number of coins needed.  \n",
    "\n",
    "**Can you do it again? Would you change anything from the last time you had to do this?**"
   ]
  },
  {
   "cell_type": "code",
   "execution_count": null,
   "metadata": {},
   "outputs": [],
   "source": [
    "# Your Code Here"
   ]
  },
  {
   "cell_type": "markdown",
   "metadata": {},
   "source": [
    "**Exercise (optional)**: The factorial of a positive integer is that integer, multiplied by all positive integers that are lower (excluding zero). You write the factorial as the number with an exclamation mark after it. E.g., the factorial of 5 is `5! = 5 * 4 * 3 * 2 * 1 = 120`. Write a function that calculates the factorial of its (integer) parameter. Test your function for different parameter values, but do not use very large numbers as factorials grow exponentially. Hint: to do this with a `while` loop, you need at least one more variable."
   ]
  },
  {
   "cell_type": "code",
   "execution_count": 23,
   "metadata": {},
   "outputs": [
    {
     "name": "stdout",
     "output_type": "stream",
     "text": [
      "120\n"
     ]
    }
   ],
   "source": [
    "# Factorial\n",
    "def factorial(number):                                \n",
    "    if number == 0:\n",
    "        fact = 1\n",
    "    else:\n",
    "        fact = number * factorial(number - 1)\n",
    "    return fact\n",
    "\n",
    "print(factorial(5))"
   ]
  },
  {
   "cell_type": "markdown",
   "metadata": {},
   "source": [
    "**Exercise 5.1 (optional):** Write a function that prints a multiplication table for digits 1 to 10. A multiplication table for the numbers 1 to `num = 3` looks as follows:\n",
    "\n",
    "`. |  1  2  3`<br>\n",
    "`------------`<br>\n",
    "`1 |  1  2  3`<br>\n",
    "`2 |  2  4  6`<br>\n",
    "`3 |  3  6  9`\n",
    "\n",
    "So the labels on the rows are multiplied by the labels on the columns, and the result is shown in the cell that is on that row/column combination. "
   ]
  },
  {
   "cell_type": "code",
   "execution_count": 24,
   "metadata": {},
   "outputs": [
    {
     "name": "stdout",
     "output_type": "stream",
     "text": [
      ".  |  1  2  3  4  5  6  7  8  9 10\n",
      "-----------------------------------\n",
      "1  |  1  2  3  4  5  6  7  8  9 10\n",
      "2  |  2  4  6  8 10 12 14 16 18 20\n",
      "3  |  3  6  9 12 15 18 21 24 27 30\n",
      "4  |  4  8 12 16 20 24 28 32 36 40\n",
      "5  |  5 10 15 20 25 30 35 40 45 50\n",
      "6  |  6 12 18 24 30 36 42 48 54 60\n",
      "7  |  7 14 21 28 35 42 49 56 63 70\n",
      "8  |  8 16 24 32 40 48 56 64 72 80\n",
      "9  |  9 18 27 36 45 54 63 72 81 90\n",
      "10 | 10 20 30 40 50 60 70 80 90 100\n"
     ]
    }
   ],
   "source": [
    "# Print multiplication table\n",
    "def print_multiplication_table(n):\n",
    "    #Your Code Here\n",
    "    # adding 2 to n because of the header (n == 0) and the hyphens line (n == 1)\n",
    "    for i in range(n + 2):\n",
    "        if i == 0:\n",
    "            header(n)\n",
    "        elif i == 1:\n",
    "            hyphen_printer(n)\n",
    "        else:\n",
    "            line_p(i - 1,n)\n",
    "    return\n",
    "\n",
    "\n",
    "def line_p(m, n):\n",
    "    \"\"\"\n",
    "    Prints a sinle multiplication line of a number m to n\n",
    "    e.g.\n",
    "    m = 3; n = 4\n",
    "    3  | 3  6  9  12\n",
    "    \"\"\"\n",
    "\n",
    "    #prints a variable number of spaces depending on how many digits the number to be printed has\n",
    "    for i in range(n + 1):\n",
    "        if i == 0:\n",
    "            if m < 10:\n",
    "                print(f\"{m}  |\", end = \"\")\n",
    "            else:\n",
    "                print(f\"{m} |\", end = \"\")\n",
    "        elif 0 < i < n:\n",
    "            if m * i < 10:\n",
    "                print(f\"  {m * i}\", end = \"\")\n",
    "            else:\n",
    "                print(f\" {m * i}\", end = \"\")\n",
    "        else:\n",
    "            if m * i < 10:\n",
    "                print(f\"  {m * i}\")\n",
    "            else:\n",
    "                print(f\" {m * i}\")\n",
    "    return\n",
    "\n",
    "\n",
    "# prints the hyphens line\n",
    "def hyphen_printer(n):\n",
    "    \n",
    "    for i in range(n + 1):\n",
    "        if i == 0:\n",
    "            print(\"----\", end = \"\")\n",
    "        elif 0 < i < n:\n",
    "            print(\"---\", end = \"\")\n",
    "        else:\n",
    "            print(\"----\")\n",
    "    return\n",
    "\n",
    "#prints the header\n",
    "def header(n):\n",
    "\n",
    "    #prints a variable number of spaces depending on how many digits the number to be printed has\n",
    "    for i in range(n + 1):\n",
    "        if i == 0:\n",
    "            print(\".  |\", end = \"\")\n",
    "        elif 0 < i < n:\n",
    "            if i < 10:\n",
    "                print(f\"  {i}\", end = \"\")\n",
    "            else:\n",
    "                print(f\" {i}\", end = \"\")\n",
    "            # print(i, end = \"  \")\n",
    "        else:\n",
    "            if i < 10:\n",
    "                print(f\"  {i}\")\n",
    "            else:\n",
    "                print(f\" {i}\")\n",
    "    \n",
    "    return\n",
    "def main():\n",
    "    print_multiplication_table(10)\n",
    "    return\n",
    "\n",
    "main()"
   ]
  },
  {
   "cell_type": "markdown",
   "metadata": {},
   "source": [
    "**Exercise 5.2 (optional):** If you did the previous exercise with a `while` loop, then do it again with a `for` loop. If you did it with a `for` loop, then do it again with a `while` loop. If you did not use a loop at all, you should be ashamed of yourself."
   ]
  },
  {
   "cell_type": "code",
   "execution_count": 25,
   "metadata": {},
   "outputs": [
    {
     "ename": "IndentationError",
     "evalue": "expected an indented block (<ipython-input-25-1a22aad58b2a>, line 6)",
     "output_type": "error",
     "traceback": [
      "\u001B[0;36m  File \u001B[0;32m\"<ipython-input-25-1a22aad58b2a>\"\u001B[0;36m, line \u001B[0;32m6\u001B[0m\n\u001B[0;31m    print_multiplication_table(5)\u001B[0m\n\u001B[0m    ^\u001B[0m\n\u001B[0;31mIndentationError\u001B[0m\u001B[0;31m:\u001B[0m expected an indented block\n"
     ]
    }
   ],
   "source": [
    "# Print multiplication table\n",
    "def print_multiplication_table(n):\n",
    "    \n",
    "    #Your Code Here\n",
    "\n",
    "print_multiplication_table(5)"
   ]
  },
  {
   "cell_type": "markdown",
   "metadata": {},
   "source": [
    "**Exercise 6.5 (optional):** Typical autocorrect functions are the following: \n",
    "1. if a word starts with two capitals, followed by a lower-case letter, the second capital is made lower case; \n",
    "2. if a sentence contains a word that is immediately followed by the same word, the second occurrence is removed; \n",
    "3. if a sentence starts with a lower-case letter, that letter is turned into a capital; \n",
    "4. if a word consists entirely of capitals, except for the first letter which is lower case, then the case of the letters in the word is reversed; and \n",
    "5. if the sentence contains the name of a day (in English) which does not start with a capital, the first letter is turned into a capital. \n",
    "\n",
    "Write a program that takes a sentence and makes these auto-corrections."
   ]
  },
  {
   "cell_type": "code",
   "execution_count": 26,
   "metadata": {},
   "outputs": [
    {
     "name": "stdout",
     "output_type": "stream",
     "text": [
      "As it turned out our chance meeting with Reverend Arthur Belling was  to change our whole way of life, and every Sunday we'd hurry along to St Loony up the Cream Bun and Jam.\n"
     ]
    }
   ],
   "source": [
    "# Autocorrect.\n",
    "sentence = \"as it turned out our chance meeting with REverend aRTHUR BElling was \\\n",
    "was to change our whole way of life, and every sunday we'd hurry along to St lOONY up the Cream BUn and Jam.\"\n",
    "\n",
    "text = sentence.split()\n",
    "\n",
    "def two_capitals_start(text):\n",
    "\n",
    "    for i in range(len(text)):\n",
    "        if len(text[i]) > 2:\n",
    "            if text[i][0].isupper() and text[i][1].isupper() and text[i][2].islower():\n",
    "                text[i] = text[i].title()\n",
    "    return text\n",
    "\n",
    "\n",
    "def same_word(text):\n",
    "\n",
    "    for i in range(1,len(text)):\n",
    "        # print(text[i - 1])\n",
    "        if text[i] == text[i - 1]:\n",
    "            # print(text[i])\n",
    "            text[i] = \"\"\n",
    "\n",
    "    return text\n",
    "\n",
    "\n",
    "def capital_start(text):\n",
    "\n",
    "    text[0] = text[0].title()\n",
    "\n",
    "    return text\n",
    "\n",
    "\n",
    "def reverse(text):\n",
    "    for w in text:\n",
    "        i = text.index(w)\n",
    "        j = len(w)\n",
    "        if j > 3:\n",
    "            if text[i][0].islower() and text[i][1:j].isupper():\n",
    "                text[i] = text[i].swapcase()\n",
    "\n",
    "    return text\n",
    "\n",
    "def capital_day(text):\n",
    "\n",
    "    days = [\"sunday\", \"monday\", \"tuesday\", \"wednesday\", \"thursday\", \"friday\", \"saturday\"]\n",
    "\n",
    "    for w in text:\n",
    "        for day in days:\n",
    "            if w == day:\n",
    "                text[text.index(w)] = text[text.index(w)].title()\n",
    "\n",
    "    return text\n",
    "\n",
    "def main():\n",
    "\n",
    "    two_capitals_start(text)\n",
    "    same_word(text)\n",
    "    capital_start(text)\n",
    "    reverse(text)\n",
    "    capital_day(text)\n",
    "\n",
    "    fixed = \" \".join(text)\n",
    "\n",
    "    print(fixed)\n",
    "\n",
    "    return\n",
    "\n",
    "main()"
   ]
  },
  {
   "cell_type": "markdown",
   "metadata": {},
   "source": [
    "### Exercise 11.3 (Optional)\n",
    "In this directory you find a file `blakepoems.txt`. Write a program that processes the contents of this file, line by line. It creates an output file in the current working directory called `blkpms.txt`, which has the same contents as `blakepoems.txt`, except that all the vowels are removed (case-insensitively). At the end, display how many characters you read, and how many characters you wrote. If you want to check the contents of `blkpms.txt`, you can either open it in a text editor, or display the first 10 lines or so at the end of your program."
   ]
  },
  {
   "cell_type": "code",
   "execution_count": 27,
   "metadata": {
    "pycharm": {
     "name": "#%%\n"
    }
   },
   "outputs": [
    {
     "name": "stdout",
     "output_type": "stream",
     "text": [
      "Characters read: 37870\n",
      "Characters written: 27722\n",
      "[pms by wllm blk 1789]\n",
      "\n",
      "y cn d ths\n",
      "\n",
      "\n",
      "sngs f nncnc nd f xprnc\n",
      "nd th bk f thl\n",
      "\n",
      "\n",
      " sngs f nncnc\n"
     ]
    }
   ],
   "source": [
    "## Your Code Here\n",
    "# with open( <filename> ) as <handle>:\n",
    "#     <statements>\n",
    "from os.path import isfile\n",
    "\n",
    "read_file_path = \"./text-files/blakepoems.txt\"\n",
    "write_file_path = \"./text-files/blkpms.txt\"\n",
    "\n",
    "def remove_vowels(line):\n",
    "\n",
    "    l = line.lower().replace('a', '').replace('e', '').replace('i', '').replace('o', '').replace('u', '')\n",
    "    counter = len(line)\n",
    "    return l, counter\n",
    "\n",
    "def write_line(path_,line):\n",
    "\n",
    "    if isfile(path_):\n",
    "        file = open(path_, 'a')\n",
    "    else:\n",
    "        file = open(path_, 'w+')\n",
    "\n",
    "    counter = len(line)\n",
    "    file.write(line)\n",
    "    file.close()\n",
    "\n",
    "    return counter\n",
    "\n",
    "file = open(read_file_path)\n",
    "buffer = file.readlines()\n",
    "file.close()\n",
    "\n",
    "ch_read = 0\n",
    "ch_write = 0\n",
    "\n",
    "for line in buffer:\n",
    "    line, count_r = remove_vowels(line)\n",
    "    count_w = write_line(write_file_path, line)\n",
    "\n",
    "    ch_read += count_r\n",
    "    ch_write += count_w\n",
    "\n",
    "print(f\"Characters read: {ch_read}\")\n",
    "print(f\"Characters written: {ch_write}\")\n",
    "\n",
    "no_vowels = open(write_file_path)\n",
    "\n",
    "#opening first 10 lines\n",
    "i = 0\n",
    "while i < 10:\n",
    "    buffer = no_vowels.readline()\n",
    "    print(buffer, end = (\"\"))\n",
    "    i += 1\n",
    "\n",
    "no_vowels.close()\n"
   ]
  }
 ],
 "metadata": {
  "kernelspec": {
   "display_name": "Python 3",
   "language": "python",
   "name": "python3"
  },
  "language_info": {
   "codemirror_mode": {
    "name": "ipython",
    "version": 3
   },
   "file_extension": ".py",
   "mimetype": "text/x-python",
   "name": "python",
   "nbconvert_exporter": "python",
   "pygments_lexer": "ipython3",
   "version": "3.8.8"
  }
 },
 "nbformat": 4,
 "nbformat_minor": 2
}