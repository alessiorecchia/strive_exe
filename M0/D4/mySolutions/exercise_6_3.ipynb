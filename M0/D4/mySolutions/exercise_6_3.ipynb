{
 "cells": [
  {
   "cell_type": "markdown",
   "metadata": {},
   "source": [
    "# Intro to Python - Exercises - Part 6"
   ]
  },
  {
   "cell_type": "markdown",
   "metadata": {},
   "source": [
    "**Exercise 6.3:** In the text below, count how often the word \"wood\" occurs (using program code, of course). Capitals and lower case letters may both be used, and you have to consider that the word \"wood\" should be a separate word, and not part of another word. Hint: If you did the exercises from this chapter, you already developed a function that \"cleans\" a text. Combining that function with the `split()` function more or less solves the problem for you."
   ]
  },
  {
   "cell_type": "code",
   "execution_count": 6,
   "metadata": {},
   "outputs": [
    {
     "data": {
      "text/plain": [
       "['if', 'a', 'woodchuck']"
      ]
     },
     "execution_count": 6,
     "metadata": {},
     "output_type": "execute_result"
    }
   ],
   "source": [
    "text = \"\"\"How much wood would a woodchuck chuck\n",
    "If a woodchuck could chuck wood?\n",
    "He would chuck, he would,   as much as he could,\n",
    "And chuck as much as a woodchuck would\n",
    "If a Mr. Smith could chuck wood\\n\\r\\t.\"\"\"\n",
    "\n",
    "# read whole text\n",
    "# create a counter\n",
    "# get rid \\n\n",
    "# get rid of ?. special grammar\n",
    "# lowercase my sentence\n",
    "\"if a woodchuck could chuck wood\"\n",
    "# split the string by some character\n",
    "[\"if\", \"a\", \"woodchuck\"]\n",
    "#check if wood is in the list\n",
    "    # if yes\n",
    "       # counter = counter +1 <--> counter += 1 \n",
    "    # else\n",
    "        #pass\n",
    "#return\n",
    "        "
   ]
  },
  {
   "cell_type": "code",
   "execution_count": 5,
   "metadata": {},
   "outputs": [
    {
     "data": {
      "text/plain": [
       "4"
      ]
     },
     "execution_count": 5,
     "metadata": {},
     "output_type": "execute_result"
    }
   ],
   "source": [
    "# Counting wood.\n",
    "def wood_counter(text):\n",
    "    \n",
    "    #cleaning up the string\n",
    "    text = text.replace(\"?\", \" \").replace(\".\",\" \").replace(\"\\n\",\" \").replace(\"\\r\",\" \").replace(\"\\t\",\" \")\n",
    "    \n",
    "    #lowering and dividing each word\n",
    "    l = text.lower().strip().split()\n",
    "    \n",
    "    #looking for the \"wood\" word\n",
    "    counter = 0\n",
    "    for word in l:\n",
    "        if word == \"wood\":\n",
    "            counter +=1\n",
    "    return counter\n",
    "\n",
    "wood_counter(text)"
   ]
  },
  {
   "cell_type": "code",
   "execution_count": null,
   "metadata": {},
   "outputs": [],
   "source": []
  }
 ],
 "metadata": {
  "kernelspec": {
   "display_name": "Python 3",
   "language": "python",
   "name": "python3"
  },
  "language_info": {
   "codemirror_mode": {
    "name": "ipython",
    "version": 3
   },
   "file_extension": ".py",
   "mimetype": "text/x-python",
   "name": "python",
   "nbconvert_exporter": "python",
   "pygments_lexer": "ipython3",
   "version": "3.8.5"
  }
 },
 "nbformat": 4,
 "nbformat_minor": 2
}
