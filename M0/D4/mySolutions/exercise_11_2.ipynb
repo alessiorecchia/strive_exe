{
 "cells": [
  {
   "cell_type": "markdown",
   "metadata": {},
   "source": [
    "# Chapter 11 - Text Files"
   ]
  },
  {
   "cell_type": "markdown",
   "metadata": {},
   "source": [
    "### Exercise 11.2"
   ]
  },
  {
   "cell_type": "markdown",
   "metadata": {},
   "source": [
    "Do the same thing as you did for the previous exercise, but now process the text line by line. This is something that you would have to do if you had to process a very long text (as it is the case)."
   ]
  },
  {
   "cell_type": "code",
   "execution_count": 62,
   "metadata": {},
   "outputs": [
    {
     "name": "stdout",
     "output_type": "stream",
     "text": [
      "[('a', 127), ('about', 1), ('abroad', 1), ('abstract', 1), ('ache', 1), ('admired', 1), ('adona', 1), ('afar', 1), ('affright', 1), ('after', 2), ('again', 3), ('against', 1), ('age', 2), ('aged', 1), ('agree', 1), ('ah', 7), ('air', 6), ('airy', 1), ('alas', 1), ('albion', 1), ('ale', 1), ('alehouse', 1), ('all', 39), ('allay', 1), ('alone', 1), ('altar', 1), ('always', 1), ('am', 16), ('ambush', 1), ('among', 8), ('an', 21), ('ancient', 3), ('and', 348), ('angel', 8), ('angelguarded', 1), ('angels', 2), ('angry', 2), ('annoy', 1), ('another', 8), ('answer', 2), ('answerd', 3), ('answered', 2), ('anvil', 1), ('anxious', 1), ('any', 3), ('appall', 1), ('appals', 1), ('apparel', 1), ('appear', 2), ('appeared', 1), ('appears', 1), ('appendix', 1), ('apple', 1), ('are', 25), ('arise', 9), ('arm', 2), ('armed', 4), ('arms', 1), ('arose', 1), ('around', 5), ('arrow', 1), ('arrows', 1), ('art', 6), ('artful', 1), ('as', 16), ('ask', 2), ('asleep', 2), ('asleeping', 1), ('aspire', 2), ('astonish', 1), ('at', 7), ('author', 1), ('away', 24), ('awoke', 1), ('babe', 2), ('babes', 2), ('back', 3), ('bags', 2), ('baits', 1), ('balmy', 1), ('ban', 1), ('band', 1), ('bands', 1), ('bandy', 1), ('bane', 1), ('bank', 1), ('bar', 1), ('bard', 2), ('bare', 2), ('barrel', 1), ('be', 25), ('beadles', 1), ('beams', 3), ('bear', 5), ('bearing', 1), ('bears', 1), ('beast', 1), ('beasts', 2), ('beat', 1), ('beauty', 5), ('became', 2), ('because', 5), ('become', 1), ('becomes', 2), ('bed', 8), ('been', 2), ('beetle', 2), ('befall', 2), ('before', 7), ('began', 3), ('beguile', 2), ('beguiled', 2), ('beguiles', 1), ('beheld', 1), ('behind', 1), ('behold', 1), ('bells', 2), ('beneath', 2), ('benighted', 1), ('bereaved', 1), ('beside', 4), ('besides', 2), ('best', 1), ('betray', 1), ('bid', 1), ('bind', 2), ('binding', 1), ('binds', 1), ('birch', 1), ('bird', 4), ('birds', 11), ('birth', 1), ('black', 8), ('blackening', 1), ('bladder', 1), ('blade', 1), ('blake', 4), ('blasts', 2), ('bleak', 1), ('bleating', 1), ('bless', 3), ('blessing', 2), ('blights', 1), ('blind', 1), ('blood', 1), ('blossom', 4), ('blossoms', 3), ('blown', 3), ('blue', 1), ('blushed', 1), ('bodies', 1), ('bondage', 1), ('bones', 2), ('book', 6), ('bore', 7), ('born', 3), ('bosom', 4), ('both', 6), ('bound', 3), ('bow', 1), ('bowd', 2), ('bowed', 1), ('bower', 2), ('bowl', 1), ('boy', 11), ('boys', 2), ('brain', 2), ('break', 2), ('breast', 5), ('breath', 2), ('breathed', 1), ('breathing', 1), ('briars', 1), ('bright', 15), ('brings', 1), ('brook', 1), ('brooks', 1), ('brothers', 2), ('brought', 1), ('brows', 1), ('bruis', 1), ('brush', 1), ('brushed', 1), ('brushes', 1), ('bud', 1), ('buds', 2), ('builds', 2), ('built', 1), ('burned', 2), ('burning', 3), ('burnt', 1), ('bush', 1), ('but', 38), ('butterfly', 1), ('by', 24), ('cage', 1), ('call', 5), ('called', 2), ('calling', 1), ('calls', 2), ('came', 9), ('can', 29), ('cannot', 6), ('canst', 2), ('care', 12), ('caterpillar', 1), ('cattle', 1), ('caverns', 1), ('caves', 2), ('ceasd', 1), ('ceasing', 1), ('chain', 3), ('chained', 1), ('changed', 1), ('chapel', 2), ('charge', 2), ('chartered', 2), ('chase', 1), ('chaste', 1), ('cheer', 2), ('cheerful', 1), ('cherish', 3), ('cherries', 1), ('child', 18), ('children', 12), ('chimney', 1), ('chimneys', 1), ('chimneysweeper', 2), ('chorus', 1), ('church', 6), ('clasp', 1), ('clay', 4), ('clean', 1), ('clear', 1), ('clime', 3), ('clod', 3), ('close', 2), ('closed', 1), ('clothed', 2), ('clothes', 1), ('clothing', 2), ('cloud', 15), ('clouds', 3), ('coat', 1), ('cock', 1), ('coffins', 2), ('coined', 1), ('cold', 7), ('come', 11), ('comfort', 1), ('companies', 1), ('company', 1), ('compelled', 1), ('complain', 2), ('complaind', 1), ('complainest', 1), ('consumed', 1), ('contagious', 1), ('control', 1), ('conveyed', 1), ('couches', 1), ('couching', 1), ('could', 6), ('countest', 1), ('court', 1), ('covered', 3), ('cow', 1), ('cradle', 2), ('crave', 1), ('creation', 1), ('creations', 1), ('cried', 1), ('cries', 1), ('crime', 1), ('crimson', 1), ('crops', 1), ('crow', 1), ('crown', 3), ('cruel', 2), ('cruelty', 3), ('crumbs', 1), ('cry', 7), ('crying', 1), ('curb', 1), ('curled', 1), ('curse', 1), ('curtain', 1), ('curtains', 1), ('d', 22), ('dacre', 1), ('dale', 3), ('dame', 1), ('dance', 2), ('dangerous', 1), ('dank', 1), ('dare', 4), ('dark', 7), ('darkening', 1), ('darkness', 2), ('daughter', 1), ('daughters', 1), ('day', 19), ('days', 4), ('dead', 2), ('deadly', 1), ('dear', 3), ('death', 6), ('deceit', 1), ('deceitful', 1), ('deep', 9), ('deeps', 1), ('delight', 14), ('delights', 1), ('dell', 1), ('den', 1), ('descend', 2), ('descended', 1), ('descending', 2), ('desert', 5), ('deserts', 1), ('desire', 2), ('desires', 1), ('despair', 2), ('despite', 1), ('destroy', 3), ('destruction', 1), ('devil', 1), ('dew', 4), ('dews', 2), ('dewy', 3), ('dick', 1), ('did', 12), ('didst', 3), ('die', 1), ('died', 2), ('dimpling', 1), ('disguise', 1), ('dismal', 2), ('dismay', 2), ('disputes', 1), ('distant', 2), ('distress', 2), ('divine', 6), ('do', 9), ('does', 18), ('dolors', 1), ('dome', 1), ('done', 3), ('door', 3), ('dost', 5), ('doth', 7), ('doubt', 1), ('dovelike', 2), ('doves', 1), ('down', 20), ('draw', 1), ('drawn', 1), ('dread', 5), ('dreadful', 1), ('dream', 4), ('dreams', 3), ('dreamt', 1), ('drear', 1), ('dreary', 1), ('dress', 4), ('dried', 1), ('drink', 4), ('drive', 2), ('driven', 2), ('drives', 1), ('droop', 1), ('drooping', 1), ('drop', 1), ('dropped', 1), ('duty', 1), ('dwell', 3), ('dwelling', 1), ('each', 5), ('eagle', 1), ('ear', 2), ('ears', 2), ('earth', 10), ('ease', 2), ('east', 1), ('eat', 1), ('echoed', 1), ('echoing', 3), ('else', 2), ('emerg', 1), ('emily', 1), ('emmet', 1), ('en', 1), ('end', 2), ('endless', 1), ('english', 2), ('engraved', 1), ('enter', 4), ('er', 16), ('eternal', 4), ('evening', 5), ('ever', 4), ('every', 17), ('everything', 1), ('evil', 1), ('ewes', 1), ('exhald', 1), ('experience', 3), ('eye', 5), ('eyed', 1), ('eyelids', 1), ('eyes', 9), ('face', 12), ('faces', 1), ('fade', 5), ('fades', 3), ('faint', 1), ('fair', 1), ('fall', 2), ('fallen', 3), ('falling', 1), ('falls', 1), ('false', 1), ('famished', 1), ('fancied', 1), ('farewell', 1), ('fast', 1), ('fasting', 1), ('father', 22), ('fear', 11), ('fearest', 1), ('fearful', 2), ('fears', 5), ('fed', 2), ('feed', 4), ('feel', 3), ('feet', 5), ('fen', 1), ('fibrous', 1), ('fields', 2), ('fiend', 2), ('fierce', 1), ('fiery', 1), ('fighting', 1), ('filled', 6), ('find', 4), ('fire', 3), ('firebreathing', 1), ('fix', 1), ('flame', 1), ('fled', 6), ('flesh', 1), ('flew', 2), ('flies', 1), ('flocks', 2), ('floor', 1), ('flourish', 1), ('flow', 3), ('flowed', 1), ('flower', 5), ('flowers', 9), ('flute', 1), ('fly', 7), ('foe', 3), ('fold', 2), ('folk', 1), ('follow', 3), ('followed', 1), ('folly', 1), ('fondness', 1), ('food', 4), ('foot', 2), ('for', 32), ('forest', 1), ('forests', 1), ('forge', 1), ('forged', 1), ('forget', 1), ('forgot', 1), ('forlorn', 1), ('form', 8), ('former', 1), ('forth', 2), ('found', 3), ('fountains', 1), ('frame', 2), ('free', 6), ('freeze', 1), ('fresh', 1), ('friend', 1), ('from', 32), ('frowning', 2), ('fruit', 1), ('fruitful', 1), ('fruits', 2), ('full', 1), ('furnace', 2), ('further', 1), ('future', 2), ('futurity', 1), ('gambolled', 1), ('garden', 7), ('garments', 1), ('gates', 2), ('gather', 1), ('gave', 3), ('generation', 1), ('gentle', 5), ('gently', 1), ('gifts', 1), ('gilded', 1), ('girl', 4), ('girls', 2), ('give', 3), ('given', 3), ('gives', 4), ('giving', 1), ('glad', 1), ('glass', 1), ('glee', 1), ('glistening', 1), ('glittering', 1), ('glitters', 1), ('glowworm', 1), ('go', 8), ('god', 11), ('gods', 1), ('goes', 1), ('going', 1), ('gold', 6), ('golden', 8), ('gone', 6), ('good', 1), ('gorge', 1), ('got', 1), ('gowns', 1), ('graces', 1), ('grasp', 1), ('grass', 7), ('grasshopper', 1), ('grave', 3), ('graves', 2), ('graze', 1), ('great', 2), ('greater', 1), ('green', 16), ('grew', 1), ('grey', 2), ('greyheaded', 1), ('grief', 4), ('griefs', 1), ('groan', 1), ('groaned', 1), ('ground', 5), ('grove', 3), ('grow', 2), ('growl', 1), ('grows', 1), ('guard', 1), ('guarded', 1), ('guardians', 1), ('ha', 4), ('had', 7), ('hair', 6), ('hairs', 1), ('hallowed', 1), ('hammer', 1), ('hand', 9), ('hands', 3), ('hapless', 1), ('happy', 19), ('har', 4), ('harlot', 1), ('harm', 2), ('harmonious', 1), ('has', 5), ('hath', 1), ('have', 17), ('he', 56), ('head', 14), ('health', 1), ('healthy', 1), ('hear', 16), ('heard', 12), ('hearing', 1), ('hears', 4), ('heart', 10), ('heartbroke', 1), ('heat', 5), ('heath', 2), ('heathen', 1), ('heaven', 10), ('heavenly', 1), ('heavy', 2), ('heedful', 1), ('hell', 2), ('helpless', 4), ('her', 34), ('here', 2), ('hid', 2), ('hide', 1), ('hie', 1), ('high', 3), ('hill', 2), ('hills', 2), ('him', 11), ('himself', 1), ('his', 57), ('hither', 1), ('hoar', 1), ('hoarse', 1), ('hoary', 1), ('hollow', 3), ('holy', 13), ('home', 4), ('honey', 2), ('horn', 2), ('horses', 1), ('hour', 2), ('house', 1), ('hover', 3), ('hovering', 1), ('how', 14), ('howl', 2), ('howling', 1), ('hum', 2), ('human', 16), ('humble', 4), ('humid', 1), ('humility', 1), ('hunger', 1), ('hungry', 1), ('huntsman', 1), ('hush', 1), ('i', 130), ('if', 17), ('ii', 1), ('iii', 1), ('image', 8), ('immortal', 3), ('impress', 1), ('in', 141), ('included', 1), ('increase', 1), ('indeed', 1), ('indignant', 1), ('infant', 16), ('infants', 3), ('infixes', 1), ('inhaling', 1), ('inherit', 1), ('injury', 1), ('innocence', 3), ('innocent', 4), ('into', 5), ('introduction', 2), ('invisible', 1), ('iron', 2), ('is', 52), ('it', 29), ('its', 14), ('itself', 7), ('iv', 1), ('jack', 1), ('jealous', 1), ('jealousy', 3), ('jesus', 1), ('jew', 1), ('joe', 1), ('john', 1), ('join', 1), ('journey', 1), ('joy', 25), ('joys', 3), ('judge', 1), ('just', 1), ('keep', 3), ('key', 1), ('kind', 1), ('kindled', 1), ('king', 1), ('kingly', 1), ('kiss', 2), ('kissed', 3), ('kisses', 2), ('knee', 1), ('kneels', 1), ('knew', 4), ('knits', 1), ('know', 11), ('laid', 1), ('lamb', 15), ('lambs', 5), ('lamentation', 1), ('lamentations', 1), ('land', 5), ('lap', 1), ('laps', 1), ('lapsed', 1), ('lark', 1), ('laugh', 6), ('laughed', 1), ('laughing', 5), ('laughs', 2), ('lay', 10), ('lead', 1), ('leaf', 2), ('lean', 1), ('leaped', 1), ('leaping', 1), ('leapt', 1), ('learn', 2), ('learning', 1), ('leave', 2), ('leaves', 2), ('led', 6), ('left', 1), ('leopards', 1), ('lest', 1), ('let', 7), ('lick', 2), ('licks', 1), ('lie', 2), ('lies', 1), ('life', 8), ('lifted', 1), ('light', 11), ('like', 35), ('lilly', 1), ('lillys', 2), ('lily', 5), ('limbs', 1), ('link', 1), ('lion', 5), ('lioness', 1), ('listning', 2), ('little', 45), ('liv', 1), ('live', 6), ('livelong', 2), ('lively', 1), ('lives', 2), ('ll', 4), ('lo', 1), ('locked', 1), ('locks', 1), ('london', 2), ('lonely', 3), ('long', 1), ('look', 5), ('lookst', 1), ('loosed', 1), ('loss', 1), ('lost', 8), ('lot', 2), ('lotus', 1), ('loud', 1), ('louder', 1), ('love', 29), ('loved', 1), ('lovely', 4), ('loves', 3), ('loving', 1), ('lowly', 3), ('lurch', 1), ('luvah', 1), ('lyca', 9), ('made', 6), ('maid', 7), ('maiden', 4), ('make', 5), ('maker', 4), ('making', 2), ('man', 6), ('manacles', 1), ('mane', 3), ('manna', 1), ('many', 7), ('mark', 1), ('marks', 2), ('marriagehearse', 1), ('mary', 1), ('mass', 1), ('matron', 1), ('may', 6), ('maze', 1), ('me', 34), ('mead', 1), ('meadows', 1), ('mean', 1), ('meanest', 1), ('meek', 2), ('meekin', 1), ('meekness', 1), ('meet', 3), ('mellowing', 1), ('melts', 1), ('men', 4), ('mercy', 8), ('merrily', 7), ('merry', 9), ('met', 1), ('methought', 1), ('metres', 1), ('midnight', 1), ('midst', 1), ('might', 2), ('mighty', 1), ('mild', 7), ('milk', 1), ('milked', 1), ('milky', 2), ('mind', 4), ('mindforged', 1), ('mine', 2), ('mire', 1), ('misery', 2), ('mistress', 1), ('mne', 1), ('moan', 3), ('moans', 3), ('modest', 4), ('mole', 1), ('moon', 2), ('moony', 1), ('more', 9), ('morn', 8), ('morning', 10), ('mortal', 4), ('most', 3), ('mother', 19), ('mothers', 2), ('motto', 1), ('mould', 1), ('mouth', 1), ('mouths', 1), ('move', 1), ('multitude', 1), ('multitudes', 2), ('music', 1), ('must', 3), ('mute', 1), ('mutual', 1), ('my', 83), ('mystery', 3), ('naked', 5), ('name', 5), ('narrow', 1), ('nature', 1), ('ne', 1), ('near', 6), ('neck', 2), ('ned', 1), ('need', 1), ('nest', 4), ('never', 17), ('new', 1), ('newborn', 3), ('next', 1), ('nibbled', 1), ('nigh', 2), ('night', 28), ('nightingale', 1), ('nights', 1), ('ning', 1), ('nipped', 1), ('no', 18), ('noise', 2), ('none', 3), ('noonday', 1), ('nor', 15), ('northern', 1), ('nostril', 1), ('nostrils', 1), ('not', 37), ('note', 1), ('notes', 2), ('nothing', 2), ('nought', 1), ('nourish', 1), ('now', 7), ('numerous', 1), ('nuptial', 1), ('nurse', 2), ('nuts', 1), ('o', 26), ('oak', 1), ('of', 146), ('off', 1), ('offered', 1), ('oft', 1), ('oh', 11), ('oil', 2), ('old', 6), ('on', 44), ('ona', 1), ('once', 4), ('one', 4), ('ones', 3), ('only', 3), ('opened', 1), ('opening', 1), ('or', 21), ('others', 1), ('our', 22), ('ourselves', 1), ('out', 5), ('outstretched', 1), ('outworn', 1), ('over', 8), ('own', 4), ('page', 1), ('painted', 1), ('pair', 1), ('palace', 1), ('palacewalls', 1), ('pale', 5), ('paleness', 1), ('parents', 4), ('parson', 1), ('parsons', 1), ('part', 2), ('parting', 1), ('partner', 1), ('pass', 2), ('passed', 1), ('past', 1), ('pathless', 1), ('paul', 1), ('peace', 9), ('peaceful', 1), ('pearly', 1), ('pebble', 2), ('pen', 1), ('pensive', 1), ('perches', 1), ('perfume', 1), ('perplex', 1), ('picks', 1), ('pined', 1), ('pipe', 4), ('piped', 2), ('piper', 2), ('piping', 3), ('pit', 2), ('piteous', 1), ('pity', 9), ('pitying', 5), ('place', 2), ('plagues', 1), ('plain', 1), ('plants', 1), ('play', 9), ('pleasant', 5), ('please', 2), ('plot', 1), ('plough', 1), ('plowman', 1), ('pluck', 1), ('poems', 1), ('pointed', 1), ('poison', 2), ('pole', 2), ('ponder', 2), ('poor', 4), ('porter', 1), ('possible', 1), ('pour', 2), ('pouring', 1), ('pours', 1), ('poverty', 2), ('praise', 2), ('pray', 3), ('prays', 2), ('preach', 1), ('present', 1), ('presse', 1), ('pretty', 8), ('prey', 3), ('pride', 1), ('priest', 2), ('priestly', 1), ('priests', 1), ('prime', 1), ('printer', 1), ('prisoned', 1), ('prophetic', 1), ('pull', 1), ('punish', 1), ('purify', 1), ('put', 2), ('puts', 1), ('quarrel', 1), ('queen', 5), ('quiet', 1), ('radiance', 1), ('rain', 1), ('rais', 1), ('raise', 1), ('raised', 1), ('raising', 1), ('raptures', 1), ('raven', 1), ('re', 1), ('read', 2), ('reading', 1), ('ready', 2), ('reason', 2), ('receive', 2), ('reclind', 1), ('red', 1), ('reduced', 1), ('reed', 1), ('reflection', 1), ('regale', 1), ('rejoice', 3), ('rejoicing', 1), ('relief', 1), ('remains', 1), ('removed', 1), ('renew', 2), ('replied', 1), ('reply', 1), ('rest', 3), ('restless', 1), ('return', 4), ('revives', 1), ('rich', 1), ('ring', 1), ('rise', 4), ('risen', 1), ('rises', 1), ('rising', 4), ('river', 3), ('robin', 2), ('rod', 1), ('roof', 1), ('root', 1), ('roots', 2), ('rose', 9), ('rosy', 1), ('round', 9), ('rounds', 1), ('ruby', 1), ('ruddy', 2), ('run', 1), ('runs', 2), ('rural', 1), ('rush', 1), ('rushes', 1), ('s', 48), ('said', 8), ('saild', 1), ('same', 1), ('sang', 2), ('sat', 4), ('saw', 7), ('say', 7), ('saying', 3), ('says', 1), ('scarce', 1), ('scarcely', 1), ('scatter', 1), ('scatters', 1), ('scene', 1), ('school', 1), ('schoolboy', 1), ('sea', 1), ('sealed', 1), ('search', 1), ('seat', 1), ('seated', 1), ('seats', 1), ('secresy', 1), ('secret', 2), ('secrets', 1), ('see', 16), ('seek', 6), ('seeketh', 2), ('seeking', 2), ('seemed', 1), ('seen', 6), ('sees', 2), ('seest', 1), ('seize', 1), ('seized', 1), ('self', 1), ('selfdeceiving', 1), ('selfish', 4), ('senseless', 1), ('sentence', 1), ('seraphim', 1), ('set', 2), ('sets', 1), ('seven', 3), ('sexes', 2), ('shade', 6), ('shadows', 2), ('shady', 1), ('shakes', 1), ('shall', 19), ('shalt', 2), ('shame', 1), ('share', 1), ('shaved', 1), ('she', 15), ('sheep', 4), ('shepherd', 3), ('shewd', 1), ('shields', 1), ('shine', 6), ('shining', 3), ('shirt', 1), ('shook', 1), ('shore', 3), ('should', 6), ('shoulder', 1), ('shoulders', 1), ('shouted', 1), ('shower', 1), ('showring', 1), ('shriek', 2), ('shrine', 1), ('shrouded', 1), ('shut', 1), ('sick', 2), ('sickness', 1), ('sigh', 5), ('sighing', 1), ('sighs', 2), ('sight', 2), ('silence', 1), ('silent', 8), ('silver', 3), ('sinews', 1), ('sing', 11), ('singing', 1), ('sings', 1), ('sisters', 1), ('sit', 12), ('sits', 2), ('sittest', 1), ('sitting', 2), ('skies', 4), ('sky', 3), ('skylark', 2), ('sleep', 21), ('sleeping', 6), ('slender', 1), ('slept', 1), ('slumber', 1), ('slumbrous', 1), ('small', 7), ('smell', 1), ('smelling', 1), ('smells', 1), ('smild', 1), ('smile', 8), ('smiled', 2), ('smiles', 11), ('smiling', 1), ('snare', 1), ('snow', 4), ('so', 21), ('sobbing', 2), ('soft', 5), ('softest', 2), ('sold', 1), ('soldier', 1), ('some', 2), ('somebody', 1), ('son', 1), ('song', 10), ('songs', 7), ('soon', 5), ('soot', 2), ('sore', 1), ('sorrow', 10), ('sorrows', 2), ('sought', 3), ('soul', 2), ('souls', 2), ('sound', 2), ('southern', 2), ('sow', 1), ('sower', 1), ('space', 1), ('sparrow', 1), ('speak', 4), ('spears', 2), ('spend', 2), ('spirit', 2), ('spoil', 1), ('sport', 2), ('sports', 2), ('sprang', 1), ('spray', 1), ('spread', 1), ('spreads', 3), ('spring', 8), ('springing', 1), ('springs', 3), ('st', 3), ('stain', 2), ('stalked', 1), ('stand', 2), ('standing', 1), ('stands', 1), ('star', 1), ('starry', 3), ('stars', 1), ('started', 1), ('starved', 1), ('stays', 1), ('steed', 1), ('steeds', 1), ('steps', 1), ('still', 1), ('stole', 1), ('stony', 1), ('stood', 2), ('stord', 1), ('storm', 1), ('strangers', 1), ('stray', 1), ('strays', 1), ('stream', 2), ('streams', 1), ('street', 1), ('streets', 1), ('strength', 1), ('stripped', 2), ('striving', 1), ('stroke', 1), ('struggling', 1), ('stumble', 1), ('such', 6), ('sulk', 1), ('summer', 6), ('summers', 2), ('sun', 11), ('sunburnt', 1), ('sunflower', 3), ('sunned', 1), ('sunny', 2), ('surprise', 1), ('susan', 1), ('swaddlingbands', 1), ('sweep', 1), ('sweeper', 1), ('sweepers', 1), ('sweet', 28), ('sweeter', 1), ('sweetest', 1), ('swell', 1), ('swift', 1), ('symmetry', 2), ('ta', 1), ('table', 1), ('taints', 1), ('take', 3), ('takes', 1), ('tames', 1), ('tangle', 1), ('tangled', 1), ('taught', 2), ('tear', 6), ('tears', 12), ('teazing', 1), ('tell', 6), ('tend', 1), ('tender', 9), ('tenfold', 1), ('tent', 3), ('tenthousand', 1), ('terrific', 1), ('terror', 3), ('terrors', 1), ('terzah', 1), ('thames', 2), ('than', 1), ('thankfulness', 1), ('that', 39), ('the', 439), ('thee', 42), ('their', 34), ('thel', 16), ('them', 8), ('then', 30), ('there', 12), ('therefore', 2), ('these', 6), ('they', 44), ('thickest', 1), ('thine', 2), ('thing', 5), ('think', 4), ('thirst', 1), ('this', 16), ('thistles', 1), ('thorn', 2), ('thorns', 3), ('those', 1), ('thou', 35), ('though', 2), ('thought', 5), ('thoughtless', 2), ('thousand', 1), ('thousands', 2), ('threat', 2), ('threw', 1), ('thro', 2), ('throne', 2), ('through', 7), ('thrush', 1), ('thunderings', 1), ('thursday', 3), ('thus', 4), ('thy', 31), ('tiger', 5), ('tigers', 3), ('till', 15), ('time', 4), ('times', 1), ('tired', 4), ('tis', 1), ('to', 111), ('told', 5), ('tom', 6), ('tombstones', 1), ('tongue', 4), ('too', 3), ('took', 2), ('town', 1), ('trace', 1), ('traced', 1), ('transient', 1), ('traveller', 1), ('travelworn', 1), ('tree', 10), ('trees', 1), ('trembling', 6), ('trodden', 1), ('troubled', 1), ('truth', 1), ('turk', 1), ('turn', 2), ('turned', 2), ('turning', 1), ('turns', 1), ('twas', 1), ('twist', 1), ('twists', 1), ('two', 4), ('under', 4), ('underneath', 3), ('unhinderd', 1), ('united', 1), ('unknown', 1), ('unrest', 1), ('unseen', 2), ('up', 6), ('upon', 14), ('us', 5), ('use', 2), ('used', 2), ('usurous', 1), ('utter', 1), ('vagabond', 1), ('vain', 6), ('vale', 1), ('vales', 9), ('valley', 4), ('valleys', 4), ('vanish', 4), ('vapour', 1), ('ve', 1), ('veil', 1), ('veiled', 1), ('venerates', 1), ('verdant', 1), ('very', 3), ('view', 1), ('viewed', 2), ('virgin', 9), ('virgins', 1), ('virtues', 1), ('vision', 1), ('visit', 1), ('visited', 1), ('voice', 16), ('voiceless', 1), ('voices', 3), ('wailing', 1), ('waiting', 1), ('wake', 1), ('walk', 3), ('walked', 2), ('walketh', 1), ('walking', 3), ('walks', 1), ('wandered', 3), ('wanderer', 1), ('wanderers', 1), ('wandering', 1), ('wands', 1), ('want', 2), ('warbled', 1), ('warbling', 2), ('warm', 3), ('was', 30), ('wash', 1), ('washed', 1), ('waste', 1), ('wasted', 1), ('watching', 1), ('watchman', 1), ('water', 3), ('watered', 2), ('waters', 2), ('watery', 2), ('watry', 2), ('waves', 1), ('way', 2), ('ways', 4), ('we', 17), ('weak', 4), ('weakness', 2), ('weary', 5), ('weave', 2), ('weed', 1), ('weep', 24), ('weeping', 14), ('weigh', 1), ('welcome', 4), ('well', 3), ('went', 4), ('wept', 9), ('were', 10), ('west', 1), ('wet', 1), ('what', 26), ('whate', 1), ('when', 28), ('where', 27), ('which', 1), ('while', 14), ('whirlpool', 1), ('whisperings', 1), ('white', 12), ('who', 18), ('whose', 1), ('why', 15), ('wide', 1), ('wight', 1), ('wild', 9), ('wildered', 1), ('wiles', 1), ('wilful', 1), ('will', 3), ('william', 2), ('willm', 1), ('wilt', 3), ('wind', 3), ('winds', 1), ('wine', 1), ('wing', 2), ('wings', 3), ('winter', 5), ('wip', 1), ('wiped', 1), ('wiping', 2), ('wisdom', 1), ('wise', 1), ('wish', 2), ('wishes', 1), ('wit', 1), ('with', 66), ('within', 1), ('without', 2), ('witless', 1), ('woe', 8), ('woebegone', 1), ('woes', 1), ('wolly', 1), ('wolves', 1), ('wolvish', 1), ('woman', 1), ('women', 1), ('wondering', 1), ('woods', 1), ('wool', 1), ('word', 1), ('work', 3), ('world', 1), ('worlds', 1), ('worm', 9), ('worms', 3), ('worn', 2), ('would', 5), ('wrapped', 1), ('wrath', 4), ('wren', 1), ('writ', 1), ('write', 1), ('written', 1), ('wrote', 1), ('year', 5), ('yet', 5), ('you', 10), ('young', 1), ('youngest', 1), ('your', 11), ('youth', 7), ('youthful', 4), ('youthtime', 1), ('zeal', 1)]\n"
     ]
    }
   ],
   "source": [
    "# Counting words line by line.\n",
    "fp = open(\"./text-files/blakepoems.txt\")\n",
    "\n",
    "#declaring an empty dictionary\n",
    "word_dictionary = {}\n",
    "\n",
    "#opening the file\n",
    "while True:\n",
    "    \n",
    "    # reading the file line by line\n",
    "    line = fp.readline()\n",
    "    if line == \"\":\n",
    "        break\n",
    "        \n",
    "    #cleaning the line (maybe it is not the smartest method)\n",
    "    text = line.lower().replace(\":\", \"\").replace(\",\", \"\").replace('\"', \"\").replace(\".\", \"\").replace(\";\", \"\").replace(\"!\", \"\").replace(\"'\", \" \").replace(\"-\", \"\").replace(\"\\n\", \"\").replace(\"[\", \"\").replace(\"]\", \"\").replace(\"(\", \"\").replace(\")\", \"\").replace(\"&\", \"\").replace(\"?\", \"\").replace(\"0\", \"\")\n",
    "\n",
    "    # split the line into words and populating the dictionary\n",
    "    words = text.split()\n",
    "    for word in words:\n",
    "        if word.isalpha():\n",
    "            if word in word_dictionary:\n",
    "                word_dictionary[word] += 1\n",
    "            else:\n",
    "                word_dictionary[word] = 1\n",
    "\n",
    "#closing the file            \n",
    "fp.close()\n",
    "\n",
    "#converting to tuple to sort\n",
    "items = word_dictionary.items()\n",
    "\n",
    "sorted_dict = sorted(items)\n",
    "\n",
    "print(sorted_dict)\n",
    "\n",
    "\n",
    "    \n",
    "    "
   ]
  },
  {
   "cell_type": "markdown",
   "metadata": {},
   "source": [
    "---"
   ]
  },
  {
   "cell_type": "code",
   "execution_count": null,
   "metadata": {},
   "outputs": [],
   "source": []
  },
  {
   "cell_type": "markdown",
   "source": [
    "import numpy as np\n"
   ],
   "metadata": {
    "collapsed": false
   }
  },
  {
   "cell_type": "code",
   "execution_count": 0,
   "outputs": [],
   "source": [],
   "metadata": {
    "collapsed": false,
    "pycharm": {
     "name": "#%%\n"
    }
   }
  },
  {
   "cell_type": "code",
   "execution_count": null,
   "outputs": [],
   "source": [],
   "metadata": {
    "collapsed": false,
    "pycharm": {
     "name": "#%%\n"
    }
   }
  },
  {
   "cell_type": "code",
   "execution_count": 2,
   "outputs": [
    {
     "data": {
      "text/plain": "array([[1, 2],\n       [3, 4],\n       [5, 6]])"
     },
     "execution_count": 2,
     "metadata": {},
     "output_type": "execute_result"
    }
   ],
   "source": [
    "import numpy as np\n",
    "\n",
    "arr = np.array([[1, 2],[3, 4],[5, 6]])\n",
    "arr"
   ],
   "metadata": {
    "collapsed": false,
    "pycharm": {
     "name": "#%%\n"
    }
   }
  },
  {
   "cell_type": "code",
   "execution_count": null,
   "outputs": [],
   "source": [],
   "metadata": {
    "collapsed": false,
    "pycharm": {
     "name": "#%%\n"
    }
   }
  }
 ],
 "metadata": {
  "kernelspec": {
   "display_name": "Python 3",
   "language": "python",
   "name": "python3"
  },
  "language_info": {
   "codemirror_mode": {
    "name": "ipython",
    "version": 3
   },
   "file_extension": ".py",
   "mimetype": "text/x-python",
   "name": "python",
   "nbconvert_exporter": "python",
   "pygments_lexer": "ipython3",
   "version": "3.8.5"
  }
 },
 "nbformat": 4,
 "nbformat_minor": 1
}