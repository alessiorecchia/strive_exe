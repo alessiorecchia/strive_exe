{
 "cells": [
  {
   "cell_type": "code",
   "execution_count": 25,
   "metadata": {
    "pycharm": {
     "name": "#%%\n"
    }
   },
   "outputs": [
    {
     "name": "stdout",
     "output_type": "stream",
     "text": [
      "['http://www.noaa.gov', 'http://www.weather.gov', 'http://www.commerce.gov', 'http://www.weather.gov', 'http://www.weather.gov/forecastmaps', 'http://www.weather.gov', 'http://digital.weather.gov', 'http://www.aviationweather.gov/', 'http://www.nws.noaa.gov/om/marine/home.htm', 'http://water.weather.gov/ahps/', 'http://www.nhc.noaa.gov/', 'http://www.spc.noaa.gov/', 'http://www.weather.gov/fire/', 'https://www.esrl.noaa.gov/gmd/grad/solcalc/sunrise.html', 'http://www.cpc.ncep.noaa.gov/', 'http://www.cpc.ncep.noaa.gov', 'https://www.swpc.noaa.gov/', 'https://w2.weather.gov/climate', 'https://w2.weather.gov/climate/', 'https://w2.weather.gov/climate/', 'https://w2.weather.gov/climate/', 'https://w2.weather.gov/climate/', 'http://aa.usno.navy.mil/', 'http://www.weather.gov/safety', 'https://www.weather.gov/safety/tsunami', 'https://www.weather.gov/safety/flood', 'https://www.weather.gov/safety/beachhazards', 'https://www.weather.gov/safety/wildfire', 'https://www.weather.gov/safety/cold', 'https://www.weather.gov/safety/tornado', 'https://www.weather.gov/safety/airquality', 'https://www.weather.gov/safety/fog', 'https://www.weather.gov/safety/heat', 'https://www.weather.gov/safety/hurricane', 'https://www.weather.gov/safety/lightning', 'https://www.weather.gov/safety/safeboating', 'https://www.weather.gov/safety/ripcurrent', 'https://www.weather.gov/safety/thunderstorm', 'https://www.weather.gov/safety/space', 'https://www.weather.gov/safety/heat-uv', 'http://www.weather.gov/safetycampaign', 'https://www.weather.gov/safety/wind', 'https://www.weather.gov/safety/drought', 'https://www.weather.gov/safety/winter', 'http://www.weather.gov/informationcenter', \"http://www.weather.gov/Owlie's\", 'http://www.weather.gov/wrn/wea', 'https://www.weather.gov/owlie/publication_brochures', 'http://www.weather.gov/wrn/', 'https://www.weather.gov/coop/', 'http://www.weather.gov/briefing/', 'http://www.nws.noaa.gov/om/hazstats.shtml', 'http://mag.ncep.noaa.gov/', 'https://www.weather.gov/gis', 'https://www.weather.gov/nwr/', 'http://weather.gov/publications', 'http://www.weather.gov/SKYWARN', 'http://www.weather.gov/StormReady', 'https://www.weather.gov/TsunamiReady/', 'https://www.weather.gov/notification/', 'http://www.weather.gov/education', 'https://www.weather.gov/wrn/force', 'http://www.weather.gov/owlie', 'http://www.weather.gov/news/', 'http://www.weather.gov/news', 'https://www.weather.gov/wrn/calendar', 'http://www.weather.gov/socialmedia', 'https://www.weather.gov/owlie/publication_brochures', 'http://www.noaa.gov/NOAA-Communications', 'http://www.weather.gov/search', 'http://www.weather.gov/about', 'http://www.weather.gov/about', 'http://www.weather.gov/organization', 'https://www.weather.gov/media/wrn/NWS_Weather-Ready-Nation_Strategic_Plan_2019-2022.pdf', 'https://sites.google.com/a/noaa.gov/nws-insider/', 'http://www.weather.gov/international/', 'http://www.weather.gov/organization', 'http://www.weather.gov/careers/', 'http://www.weather.gov/contact', 'https://w1.weather.gov/glossary', \"javascript:void(window.open('http://weather.gov/ForecastSearchHelp.html','locsearchhelp','status=0,toolbar=0,location=0,menubar=0,directories=0,resizable=1,scrollbars=1,height=500,width=530').focus());\", 'http://www.spc.noaa.gov/', '//forecast.weather.gov/MapClick.php?lat=37.777120000000025&lon=-122.41963999999996&lg=sp', '//www.addthis.com/bookmark.php?v=250&pubid=ra-5127a6364d551d04', 'https://www.weather.gov/mtr', 'https://www.weather.gov/wrh/LocalWeather?zone=CAZ006', 'https://www.wrh.noaa.gov/mesowest/getobext.php?wfo=mtr&sid=SFOC1&num=72&raw=0', '//mobile.weather.gov/index.php?lat=37.7771&lon=-122.4196&unit=0&lg=english', 'MapClick.php?lat=37.7771&lon=-122.4196&unit=0&lg=english&FcstType=graphical', 'MapClick.php?zoneid=CAZ006', '//forecast.weather.gov/product.php?site=MTR&issuedby=MTR&product=AFD&format=CI&version=1&glossary=1', 'MapClick.php?lat=37.7771&lon=-122.4196&unit=0&lg=english&FcstType=text&TextType=2', 'MapClick.php?lat=37.7771&lon=-122.4196&unit=0&lg=english&FcstType=text&TextType=1', 'MapClick.php?lat=37.7771&lon=-122.4196&unit=0&lg=english&FcstType=graphical', 'MapClick.php?lat=37.7771&lon=-122.4196&unit=0&lg=english&FcstType=digital', '//weather.gov/aq/probe_aq_data.php?latitude=37.7771&longitude=-122.4196', 'MapClick.php?lat=37.7771&lon=-122.4196&FcstType=text&unit=1&lg=en', '//www.wrh.noaa.gov/forecast/wxtables/index.php?lat=37.7771&lon=-122.4196', 'http://www.wrh.noaa.gov/mtr/versprod.php?pil=RR8&sid=RSA', 'http://www.wrh.noaa.gov/mtr/versprod.php?pil=RR5&sid=RSA', 'http://www.wrh.noaa.gov/mtr/wxlinks.php', 'http://www.wrh.noaa.gov/mtr/wx_calculator.php', 'http://www.nws.noaa.gov/wtf/udaf/area/?site=mtr', 'http://www.weather.gov/disclaimer#esri', '//www.weather.gov/glossary/index.php?word=Last+update', '//www.weather.gov/glossary/index.php?word=forecast+valid+for', 'https://forecast.weather.gov/product.php?site=MTR&issuedby=MTR&product=AFD&format=CI&version=1&glossary=1', 'MapClick.php?lat=37.7771&lon=-122.4196&unit=0&lg=english&FcstType=kml', 'MapClick.php?lat=37.7771&lon=-122.4196&unit=0&lg=english&FcstType=dwml', 'https://radar.weather.gov/?settings=v1_eyJhZ2VuZGEiOnsiaWQiOiJsb2NhbCIsImNlbnRlciI6Wy0xMjEuODgyLDM3LjU4OF0sInpvb20iOjgsImZpbHRlciI6IldTUi04OEQiLCJsYXllciI6ImNyZWYiLCJzdGF0aW9uIjoiS01VWCIsInRyYW5zcGFyZW50Ijp0cnVlLCJhbGVydHNPdmVybGF5Ijp0cnVlLCJzdGF0aW9uSWNvbnNPdmVybGF5Ijp0cnVlfSwiYmFzZSI6InN0YW5kYXJkIiwiY291bnR5Ijp0cnVlLCJjd2EiOmZhbHNlLCJzdGF0ZSI6dHJ1ZSwibWVudSI6dHJ1ZSwic2hvcnRGdXNlZE9ubHkiOnRydWV9#/', 'https://www.star.nesdis.noaa.gov/GOES/sector.php?sat=G17§or=psw', 'MapClick.php?lat=37.7771&lon=-122.4196&unit=0&lg=english&FcstType=graphical', '//graphical.weather.gov/sectors/pacsouthwest.php?element=MaxT', '//graphical.weather.gov/sectors/pacsouthwest.php?element=MaxT', '//graphical.weather.gov/sectors/pacsouthwest.php?element=Wx', '//graphical.weather.gov/sectors/pacsouthwest.php?element=Wx', ' http://www.nws.noaa.gov/climate/', ' http://www.cpc.ncep.noaa.gov/products/MD_index.shtml', 'https://w2.weather.gov/climate/', ' http://www.nws.noaa.gov/climate/', ' http://www.nws.noaa.gov/climate/', 'https://www.esrl.noaa.gov/gmd/grad/solcalc/sunrise.html', 'https://www.climate.gov/maps-data/dataset/past-weather-zip-code-data-table', 'http://alerts.weather.gov', ' http://alerts.weather.gov', ' http://www.wpc.ncep.noaa.gov/ww.shtml', 'http://water.weather.gov/ahps/?current_color=flood&current_type=all&fcst_type=obs&conus_map=d_map', ' http://www.weather.gov', ' http://www.spc.noaa.gov/products/outlook/', ' http://www.nhc.noaa.gov/', ' http://www.spc.noaa.gov/products/fire_wx/', ' http://www.cpc.ncep.noaa.gov/products/stratosphere/uv_index/uv_alert.shtml', ' http://www.drought.gov/', 'http://www.swpc.noaa.gov/products/alerts-watches-and-warnings', ' http://www.nws.noaa.gov/nwr/', ' http://alerts.weather.gov/', 'http://www.weather.gov/current', ' https://radar.weather.gov', 'http://www.cpc.ncep.noaa.gov/products/monitoring_and_data/', ' http://water.weather.gov/ahps/', ' http://water.weather.gov/precip/', 'https://www.wpc.ncep.noaa.gov/sfc/sfcobs/sfcobs.shtml', 'http://www.spc.noaa.gov/obswx/maps/', ' http://www.ndbc.noaa.gov/', 'http://www.nohrsc.noaa.gov/interactive/html/map.html', ' http://www.weather.gov/satellite', ' http://www.swpc.noaa.gov/', 'http://www.weather.gov/pr', 'http://weather.gov/forecastmaps', ' http://www.weather.gov/', 'http://www.weather.gov/pr', ' http://www.spc.noaa.gov/', ' http://www.wpc.ncep.noaa.gov/', 'http://www.cpc.ncep.noaa.gov/products/Drought', 'http://www.weather.gov/fire', ' http://www.wpc.ncep.noaa.gov/', ' http://www.nws.noaa.gov/forecasts/graphical/', 'http://water.weather.gov/ahps/forecasts.php', 'https://www.weather.gov/marine/', 'https://ocean.weather.gov/marine_areas.php', ' http://www.nhc.noaa.gov/', ' http://aviationweather.gov', 'http://www.cpc.ncep.noaa.gov/products/OUTLOOKS_index.shtml', 'http://www.weather.gov/informationcenter', ' http://www.spaceweather.gov', 'http://www.weather.gov/briefing/', ' http://www.nws.noaa.gov/om/marine/home.htm', 'http://www.nws.noaa.gov/climate', 'http://www.weather.gov/fire', ' http://www.aviationweather.gov/', 'http://mag.ncep.noaa.gov/', 'http://water.weather.gov/ahps/', 'https://www.weather.gov/gis/', ' http://www.nws.noaa.gov/om/coop/', 'https://www.weather.gov/skywarn/', 'http://www.tsunami.gov', 'http://water.noaa.gov/', 'http://www.weather.gov/pr', 'http://weather.gov/safety', 'http://www.weather.gov/nwr/', 'http://www.weather.gov/stormready/', 'http://www.nws.noaa.gov/om/heat/index.shtml', 'https://www.weather.gov/safety/lightning', ' http://www.nhc.noaa.gov/prepare/', 'http://www.nws.noaa.gov/om/thunderstorm/', 'https://www.weather.gov/safety/tornado', 'https://www.weather.gov/safety/ripcurrent', 'https://www.weather.gov/safety/flood', 'https://www.weather.gov/safety/tsunami', 'https://www.weather.gov/tsunamiready/', ' http://www.weather.gov/om/winter/index.shtml', 'http://www.nws.noaa.gov/om/heat/uv.shtml', ' http://www.weather.gov/airquality/', ' http://www.weather.gov/om/hazstats.shtml', ' http://www.redcross.org/', ' http://www.fema.gov/', ' http://www.weather.gov/om/brochures.shtml', 'http://www.nws.noaa.gov/os/marine/safeboating/', 'http://weather.gov/news', ' http://weather.gov/news', ' http://weather.gov/socialmedia', 'http://www.nws.noaa.gov/com/weatherreadynation/calendar.html', ' http://www.weather.gov/om/brochures.shtml', 'http://weather.gov/owlie', 'http://weather.gov/education', 'http://www.nws.noaa.gov/com/weatherreadynation/force.html', ' http://www.education.noaa.gov/Weather_and_Atmosphere/', ' http://www.weather.gov/glossary/', 'https://www.weather.gov/jetstream/', ' http://www.weather.gov/training/', 'https://library.noaa.gov/', 'http://weather.gov/owlie', 'http://www.weather.gov/owlie/publication_brochures', 'http://weather.gov/about', 'http://weather.gov/organization', 'https://www.weather.gov/media/wrn/NWS_Weather-Ready-Nation_Strategic_Plan_2019-2022.pdf', 'https://sites.google.com/a/noaa.gov/nws-best-practices/', 'https://www.weather.gov/international/', 'http://www.ncep.noaa.gov/', ' http://www.weather.gov/tg/', 'http://www.weather.gov/careers/', ' http://www.weather.gov/glossary/', 'http://weather.gov/contact', 'http://www.usa.gov', 'http://www.commerce.gov', 'http://www.noaa.gov', 'http://www.weather.gov', 'https://www.weather.gov/mtr', 'mailto:w-mtr.webmaster@noaa.gov', 'https://www.weather.gov/disclaimer', 'http://www.cio.noaa.gov/services_programs/info_quality.html', 'https://www.weather.gov/help', 'http://www.weather.gov/glossary', 'https://www.weather.gov/privacy', 'https://www.noaa.gov/foia-freedom-of-information-act', 'https://www.weather.gov/about', 'https://www.weather.gov/careers']\n"
     ]
    }
   ],
   "source": [
    "# getting a working dataframe, though it's not perfect\n",
    "import numpy as np\n",
    "import pandas as pd\n",
    "import requests as rq\n",
    "import fnmatch as fm\n",
    "from bs4 import BeautifulSoup\n",
    "from datetime import datetime\n",
    "\n",
    "\n",
    "page = rq.get(\"https://forecast.weather.gov/MapClick.php?lat=37.777120000000025&lon=-122.41963999999996#.YFsnu0NKhH4\")\n",
    "page.status_code\n",
    "page.content\n",
    "\n",
    "# print(page.content)\n",
    "page_content = BeautifulSoup(page.content, 'html.parser')\n",
    "# print(page_content)\n",
    "href_tags = page_content.find_all('a', href=True)\n",
    "\n",
    "links = [tag['href'] for tag in href_tags]\n",
    "print(links)\n"
   ]
  },
  {
   "cell_type": "code",
   "execution_count": null,
   "outputs": [],
   "source": [],
   "metadata": {
    "collapsed": false,
    "pycharm": {
     "name": "#%%\n"
    }
   }
  },
  {
   "cell_type": "code",
   "execution_count": null,
   "outputs": [],
   "source": [],
   "metadata": {
    "collapsed": false,
    "pycharm": {
     "name": "#%%\n"
    }
   }
  }
 ],
 "metadata": {
  "kernelspec": {
   "display_name": "Python 3",
   "language": "python",
   "name": "python3"
  },
  "language_info": {
   "codemirror_mode": {
    "name": "ipython",
    "version": 2
   },
   "file_extension": ".py",
   "mimetype": "text/x-python",
   "name": "python",
   "nbconvert_exporter": "python",
   "pygments_lexer": "ipython2",
   "version": "2.7.6"
  }
 },
 "nbformat": 4,
 "nbformat_minor": 1
}