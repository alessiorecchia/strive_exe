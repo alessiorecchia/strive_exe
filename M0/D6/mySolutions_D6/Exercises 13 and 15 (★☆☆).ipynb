{
 "cells": [
  {
   "cell_type": "code",
   "execution_count": null,
   "id": "biological-worcester",
   "metadata": {},
   "outputs": [],
   "source": [
    "# Import the needed libraries"
   ]
  },
  {
   "cell_type": "markdown",
   "id": "champion-greensboro",
   "metadata": {},
   "source": [
    "**13. Create a 10x10 array with random values and find the minimum and maximum values**"
   ]
  },
  {
   "cell_type": "code",
   "execution_count": 17,
   "id": "joint-explorer",
   "metadata": {},
   "outputs": [
    {
     "name": "stdout",
     "output_type": "stream",
     "text": [
      "[[0.80207932 0.19367623 0.58054928 0.46305598 0.81879301 0.22691252\n",
      "  0.44004869 0.94294166 0.78969048 0.37843787]\n",
      " [0.26926579 0.53319838 0.22451627 0.29610294 0.41181762 0.58272456\n",
      "  0.46199826 0.36939118 0.15510338 0.47383474]\n",
      " [0.97015045 0.63299257 0.96520573 0.42401056 0.73136383 0.3515136\n",
      "  0.34923095 0.91882477 0.98603117 0.59291123]\n",
      " [0.55305482 0.60194699 0.72231623 0.24941605 0.97266988 0.59400797\n",
      "  0.46931678 0.10796981 0.57618657 0.96753146]\n",
      " [0.64762012 0.19427989 0.95185651 0.73109907 0.6077859  0.97345952\n",
      "  0.491596   0.29036018 0.22223838 0.07993551]\n",
      " [0.86780421 0.95862839 0.93283487 0.36838868 0.23911468 0.86211869\n",
      "  0.03833051 0.0805289  0.69846358 0.57215226]\n",
      " [0.14699239 0.09140356 0.56549047 0.05788957 0.7869972  0.60878084\n",
      "  0.81860614 0.32641833 0.49839507 0.12537411]\n",
      " [0.93638088 0.94983877 0.08017353 0.00540939 0.3284045  0.60414117\n",
      "  0.84903987 0.8761413  0.51760824 0.59684626]\n",
      " [0.59354184 0.25712788 0.24925599 0.91814002 0.38164958 0.28724895\n",
      "  0.30884927 0.07643551 0.07815609 0.82712038]\n",
      " [0.71177179 0.68417391 0.52239968 0.23054036 0.70393686 0.79250837\n",
      "  0.06902154 0.4803751  0.17782895 0.29236721]]\n",
      "Max: 0.9860311695987117\n",
      "Min: 0.005409391600349922\n"
     ]
    }
   ],
   "source": [
    "import numpy as np\n",
    "\n",
    "random_array = np.random.rand(10,10)\n",
    "\n",
    "high = random_array.max()\n",
    "low = random_array.min()\n",
    "\n",
    "print(random_array)\n",
    "print(f\"Max: {high}\")\n",
    "print(f\"Min: {low}\")\n",
    "\n",
    "\n"
   ]
  },
  {
   "cell_type": "markdown",
   "id": "exempt-organ",
   "metadata": {},
   "source": [
    "**15. Create a 2d array with 1 on the border and 0 inside**"
   ]
  },
  {
   "cell_type": "code",
   "execution_count": 26,
   "id": "sufficient-facility",
   "metadata": {},
   "outputs": [
    {
     "name": "stdout",
     "output_type": "stream",
     "text": [
      "[[1. 1. 1. 1. 1.]\n",
      " [1. 0. 0. 0. 1.]\n",
      " [1. 0. 0. 0. 1.]\n",
      " [1. 0. 0. 0. 1.]\n",
      " [1. 0. 0. 0. 1.]\n",
      " [1. 0. 0. 0. 1.]\n",
      " [1. 0. 0. 0. 1.]\n",
      " [1. 0. 0. 0. 1.]\n",
      " [1. 0. 0. 0. 1.]\n",
      " [1. 1. 1. 1. 1.]]\n"
     ]
    }
   ],
   "source": [
    "zero_inside_array = np.ones((10,5))\n",
    "zero_inside_array[1:-1,1:-1] = 0\n",
    "print(zero_inside_array)\n"
   ]
  },
  {
   "cell_type": "code",
   "execution_count": null,
   "outputs": [],
   "source": [],
   "metadata": {
    "collapsed": false,
    "pycharm": {
     "name": "#%%\n"
    }
   }
  }
 ],
 "metadata": {
  "kernelspec": {
   "display_name": "Python 3",
   "language": "python",
   "name": "python3"
  },
  "language_info": {
   "codemirror_mode": {
    "name": "ipython",
    "version": 3
   },
   "file_extension": ".py",
   "mimetype": "text/x-python",
   "name": "python",
   "nbconvert_exporter": "python",
   "pygments_lexer": "ipython3",
   "version": "3.9.1"
  }
 },
 "nbformat": 4,
 "nbformat_minor": 5
}