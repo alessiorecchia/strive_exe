{
 "cells": [
  {
   "cell_type": "code",
   "execution_count": 2,
   "metadata": {
    "collapsed": true
   },
   "outputs": [],
   "source": [
    "import pandas as pd\n",
    "import numpy as np\n",
    "import requests as rq\n",
    "from bs4 import BeautifulSoup"
   ]
  },
  {
   "cell_type": "code",
   "execution_count": 3,
   "metadata": {},
   "outputs": [],
   "source": [
    "def replacer(list_ : list, to_replace: dict):\n",
    "    for key in to_replace:\n",
    "        list_ = list_.replace(key, to_replace[key])\n",
    "\n",
    "    return list_"
   ]
  },
  {
   "cell_type": "code",
   "execution_count": 6,
   "outputs": [],
   "source": [
    "# defining the lists\n",
    "list_of_directors = []\n",
    "list_of_actors = []\n",
    "list_of_titles = []\n",
    "list_of_years = []\n",
    "list_of_metascore = []\n",
    "list_of_ratings = []\n",
    "list_of_votes = []\n",
    "list_of_gross = []\n",
    "\n",
    "url = 'https://www.imdb.com/search/title/?title_type=feature&num_votes=10000,&genres=sci-fi&languages=en'\n",
    "url2 = 'https://www.imdb.com/search/title/?title_type=feature&num_votes=10000,&genres=sci-fi&languages=en&start=51'\n",
    "\n",
    "# url = 'https://www.imdb.com/search/title/?title_type=feature&num_votes=10000,&genres=western&languages=en&explore=genres'\n",
    "\n",
    "\n",
    "# Movies from 1 to 50\n",
    "page = rq.get(url)\n",
    "\n",
    "page_content = BeautifulSoup(page.content, 'html.parser')\n",
    "\n",
    "maindiv = page_content.find_all('div',class_=\"lister-item-content\")\n",
    "for movie in maindiv:\n",
    "\n",
    "    # getting the Director(s) and Stars name\n",
    "    names = movie.find_all('p')[2].text\n",
    "    names = replacer(names, {'\\n': '', 'Stars:': '', 'Directors:': '', 'Director:': ''})\n",
    "    names = names.split('|')\n",
    "\n",
    "    # Director(s) and Stars are in a list with 2 elements: first is Director(s), second is Stars\n",
    "    list_of_directors.append(names[0])\n",
    "    list_of_actors.append(names[len(names) - 1])\n",
    "\n",
    "    # getting the years\n",
    "    year = movie.find_all('span', class_=\"lister-item-year text-muted unbold\")[0].text\n",
    "    list_of_years.append(year[-5:-1])\n",
    "\n",
    "    # getting the titles\n",
    "    title = movie.find_all('a')[0].text\n",
    "    list_of_titles.append(title)\n",
    "\n",
    "    # getting the rating\n",
    "    rating = movie.find_all('strong')[0].text\n",
    "    list_of_ratings.append(rating)\n",
    "\n",
    "    # getting the number of votes and the Gross\n",
    "    values = movie.find_all('p', class_='sort-num_votes-visible')[0].text\n",
    "    values = replacer(values, {'Votes:': \"\", ' Gross:': \"\", '$': \"\", 'M': \"\", \"\\n\": ''})\n",
    "    values = values.split('|')\n",
    "    list_of_votes.append(values[0])\n",
    "    if len(values) > 1:\n",
    "        list_of_gross.append(values[1])\n",
    "    else:\n",
    "        list_of_gross.append(np.nan)\n",
    "    # list_of_votes.append(span.text)\n",
    "\n",
    "\n",
    "#movies from 51 to 100\n",
    "page = rq.get(url2)\n",
    "\n",
    "page_content = BeautifulSoup(page.content, 'html.parser')\n",
    "\n",
    "maindiv = page_content.find_all('div',class_=\"lister-item-content\")\n",
    "for movie in maindiv:\n",
    "\n",
    "    # getting the Director(s) and Stars name\n",
    "    names = movie.find_all('p')[2].text\n",
    "    names = replacer(names, {'\\n': '', 'Stars:': '', 'Directors:': '', 'Director:': ''})\n",
    "    names = names.split('|')\n",
    "\n",
    "    # Director(s) and Stars are in a list with 2 elements: first is Director(s), second is Stars\n",
    "    list_of_directors.append(names[0])\n",
    "    list_of_actors.append(names[len(names) - 1])\n",
    "\n",
    "    # getting the years\n",
    "    year = movie.find_all('span', class_=\"lister-item-year text-muted unbold\")[0].text\n",
    "    list_of_years.append(year[-5:-1])\n",
    "\n",
    "    # getting the titles\n",
    "    title = movie.find_all('a')[0].text\n",
    "    list_of_titles.append(title)\n",
    "\n",
    "    # getting the rating\n",
    "    rating = movie.find_all('strong')[0].text\n",
    "    list_of_ratings.append(rating)\n",
    "\n",
    "    # getting the number of votes and the Gross\n",
    "    values = movie.find_all('p', class_='sort-num_votes-visible')[0].text\n",
    "    values = replacer(values, {'Votes:': \"\", ' Gross:': \"\", '$': \"\", 'M': \"\", \"\\n\": ''})\n",
    "    values = values.split('|')\n",
    "    list_of_votes.append(values[0])\n",
    "    if len(values) > 1:\n",
    "        list_of_gross.append(values[1])\n",
    "    else:\n",
    "        list_of_gross.append(np.nan)\n",
    "    # list_of_votes.append(span.text)\n",
    "\n",
    "\n",
    "# cleaning the lists\n",
    "list_of_actors = [actors.strip(\"    \") for actors in list_of_actors]\n",
    "list_of_directors = [director.strip(\"    \") for director in list_of_directors]\n",
    "# print(votes)\n",
    "# print(len(votes))\n",
    "# print(type(votes))\n",
    "# print(type(names))\n"
   ],
   "metadata": {
    "collapsed": false,
    "pycharm": {
     "name": "#%%\n"
    }
   }
  },
  {
   "cell_type": "code",
   "execution_count": 7,
   "metadata": {},
   "outputs": [
    {
     "output_type": "stream",
     "name": "stdout",
     "text": [
      "['Alexander Skarsgård, Millie Bobby Brown, Rebecca Hall, Brian Tyree Henry', 'Henry Cavill, Ben Affleck, Gal Gadot, Amy Adams', 'Ben Affleck, Gal Gadot, Jason Momoa, Ezra Miller', 'Tom Holland, Daisy Ridley, Demián Bichir, David Oyelowo', 'Kyle Chandler, Vera Farmiga, Millie Bobby Brown, Ken Watanabe', 'Tom Hiddleston, Samuel L. Jackson, Brie Larson, John C. Reilly', 'Aaron Taylor-Johnson, Elizabeth Olsen, Bryan Cranston, Ken Watanabe', 'Robert Downey Jr., Chris Evans, Mark Ruffalo, Chris Hemsworth', 'John David Washington, Robert Pattinson, Elizabeth Debicki, Juhan Ulfsak', 'Will Smith, Jared Leto, Margot Robbie, Viola Davis', 'Ben Affleck, Henry Cavill, Amy Adams, Jesse Eisenberg', 'Henry Cavill, Amy Adams, Michael Shannon, Diane Lane', 'Robert Downey Jr., Chris Hemsworth, Mark Ruffalo, Chris Evans', 'Jason Momoa, Amber Heard, Willem Dafoe, Patrick Wilson', 'Gal Gadot, Chris Pine, Robin Wright, Lucy Davis', 'Frank Grillo, Mel Gibson, Naomi Watts, Michelle Yeoh', 'Chris Pratt, Vin Diesel, Bradley Cooper, Zoe Saldana', 'Harrison Ford, Ryan Gosling, Ana de Armas, Dave Bautista', 'Jackie Earle Haley, Patrick Wilson, Carla Gugino, Malin Akerman', \"Chadwick Boseman, Michael B. Jordan, Lupita Nyong'o, Danai Gurira\", 'Chris Evans, Robert Downey Jr., Scarlett Johansson, Sebastian Stan', 'Chris Evans, Hugo Weaving, Samuel L. Jackson, Hayley Atwell', 'Chris Hemsworth, Tom Hiddleston, Cate Blanchett, Mark Ruffalo', 'Ryan Reynolds, Josh Brolin, Morena Baccarin, Julian Dennison', 'Matthew McConaughey, Anne Hathaway, Jessica Chastain, Mackenzie Foy', 'Leonardo DiCaprio, Joseph Gordon-Levitt, Elliot Page, Ken Watanabe', 'Chris Evans, Samuel L. Jackson, Scarlett Johansson, Robert Redford', 'Brie Larson, Samuel L. Jackson, Ben Mendelsohn, Jude Law', 'Robert Downey Jr., Chris Evans, Mark Ruffalo, Chris Hemsworth', 'Keanu Reeves, Alex Winter, Kristen Schaal, Samara Weaving', 'Chris Evans, Jamie Bell, Tilda Swinton, Ed Harris', 'Michael J. Fox, Christopher Lloyd, Lea Thompson, Crispin Glover', 'Sam Neill, Laura Dern, Jeff Goldblum, Richard Attenborough', 'Robert Downey Jr., Chris Evans, Scarlett Johansson, Jeremy Renner', 'Tom Hardy, Charlize Theron, Nicholas Hoult, Zoë Kravitz', 'Keanu Reeves, Laurence Fishburne, Carrie-Anne Moss, Hugo Weaving', 'Christian Bale, Hugh Jackman, Scarlett Johansson, Michael Caine', 'Chris Pratt, Zoe Saldana, Dave Bautista, Vin Diesel', 'Robert Downey Jr., Gwyneth Paltrow, Terrence Howard, Jeff Bridges', 'Matthew Broderick, Jean Reno, Maria Pitillo, Hank Azaria', 'Tom Holland, Samuel L. Jackson, Jake Gyllenhaal, Marisa Tomei', 'Tom Holland, Michael Keaton, Robert Downey Jr., Marisa Tomei', 'Sigourney Weaver, Tom Skerritt, John Hurt, Veronica Cartwright', 'Ryan Reynolds, Morena Baccarin, T.J. Miller, Ed Skrein', 'Hiroki Hasegawa, Yutaka Takenouchi, Satomi Ishihara, Ren Osugi', 'Sally Hawkins, Octavia Spencer, Michael Shannon, Doug Jones', 'Kyle MacLachlan, Virginia Madsen, Francesca Annis, Leonardo Cimino', 'Sam Worthington, Zoe Saldana, Sigourney Weaver, Michelle Rodriguez', 'Jennifer Lawrence, Josh Hutcherson, Liam Hemsworth, Stanley Tucci', 'Elisabeth Moss, Oliver Jackson-Cohen, Harriet Dyer, Aldis Hodge', \"Dylan O'Brien, Jessica Henwick, Michael Rooker, Dan Ewing\", 'Rosa Salazar, Christoph Waltz, Jennifer Connelly, Mahershala Ali', 'Nathan Fillion, Elizabeth Banks, Michael Rooker, Don Thompson', 'Alden Ehrenreich, Woody Harrelson, Emilia Clarke, Donald Glover', 'Tye Sheridan, Olivia Cooke, Ben Mendelsohn, Lena Waithe', 'Daisy Ridley, John Boyega, Oscar Isaac, Adam Driver', 'Matt Damon, Jessica Chastain, Kristen Wiig, Kate Mara', 'Robert Downey Jr., Guy Pearce, Gwyneth Paltrow, Don Cheadle', 'Shameik Moore, Jake Johnson, Hailee Steinfeld, Mahershala Ali', 'Jovan Adepo, Wyatt Russell, Mathilde Ollivier, Pilou Asbæk', 'Harrison Ford, Rutger Hauer, Sean Young, Edward James Olmos', 'Amy Adams, Jeremy Renner, Forest Whitaker, Michael Stuhlbarg', 'Jennifer Lawrence, Chris Pratt, Michael Sheen, Laurence Fishburne', 'Karl Urban, Olivia Thirlby, Lena Headey, Rachel Wood', 'Christopher Lambert, Robin Shou, Linden Ashby, Cary-Hiroyuki Tagawa', 'George Clooney, Felicity Jones, David Oyelowo, Caoilinn Springall', 'Will Smith, Bill Pullman, Jeff Goldblum, Mary McDonnell', 'Benedict Cumberbatch, Chiwetel Ejiofor, Rachel McAdams, Benedict Wong', 'Jason Statham, Bingbing Li, Rainn Wilson, Cliff Curtis', 'Domhnall Gleeson, Rachel McAdams, Bill Nighy, Lydia Wilson', 'Malcolm McDowell, Patrick Magee, Michael Bates, Warren Clarke', 'Mark Hamill, Harrison Ford, Carrie Fisher, Alec Guinness', 'Tom Hardy, Michelle Williams, Riz Ahmed, Scott Haze', 'Paul Rudd, Michael Douglas, Corey Stoll, Evangeline Lilly', 'Jake Gyllenhaal, Jena Malone, Mary McDonnell, Holmes Osborne', 'Sigourney Weaver, Michael Biehn, Carrie Henn, Paul Reiser', 'Noomi Rapace, Logan Marshall-Green, Michael Fassbender, Charlize Theron', 'Maisie Williams, Anya Taylor-Joy, Charlie Heaton, Alice Braga', 'Tobey Maguire, Kirsten Dunst, Willem Dafoe, James Franco', 'Robert Downey Jr., Mickey Rourke, Gwyneth Paltrow, Don Cheadle', 'Emily Blunt, John Krasinski, Millicent Simmonds, Noah Jupe', 'Ben Schwartz, James Marsden, Jim Carrey, Tika Sumpter', 'Paul Rudd, Evangeline Lilly, Michael Peña, Walton Goggins', 'Chris Hemsworth, Tessa Thompson, Kumail Nanjiani, Rebecca Ferguson', 'Fay Wray, Robert Armstrong, Bruce Cabot, Frank Reicher', 'Andrea Riseborough, Christopher Abbott, Jennifer Jason Leigh, Rossif Sutherland', 'Ewan McGregor, Liam Neeson, Natalie Portman, Jake Lloyd', 'Linda Hamilton, Arnold Schwarzenegger, Mackenzie Davis, Natalia Reyes', 'Arnold Schwarzenegger, Linda Hamilton, Edward Furlong, Robert Patrick', 'Michael Fassbender, Katherine Waterston, Billy Crudup, Danny McBride', 'Felicity Jones, Diego Luna, Alan Tudyk, Donnie Yen', 'James McAvoy, Michael Fassbender, Jennifer Lawrence, Nicholas Hoult', 'Edward Norton, Liv Tyler, Tim Roth, William Hurt', 'Kurt Russell, James Spader, Jaye Davidson, Viveca Lindfors', 'Hugh Jackman, Patrick Stewart, Dafne Keen, Boyd Holbrook', 'Idris Elba, Charlie Hunnam, Rinko Kikuchi, Charlie Day', 'Jim Carrey, Kate Winslet, Tom Wilkinson, Gerry Robert Byrne', 'Justin Timberlake, Amanda Seyfried, Cillian Murphy, Olivia Wilde', 'James McAvoy, Bruce Willis, Samuel L. Jackson, Anya Taylor-Joy', 'Keir Dullea, Gary Lockwood, William Sylvester, Daniel Richter']\n\n\n['Adam Wingard', 'Zack Snyder', 'Zack Snyder', 'Doug Liman', 'Michael Dougherty', 'Jordan Vogt-Roberts', 'Gareth Edwards', 'Anthony Russo, Joe Russo', 'Christopher Nolan', 'David Ayer', 'Zack Snyder', 'Zack Snyder', 'Anthony Russo, Joe Russo', 'James Wan', 'Patty Jenkins', 'Joe Carnahan', 'James Gunn', 'Denis Villeneuve', 'Zack Snyder', 'Ryan Coogler', 'Anthony Russo, Joe Russo', 'Joe Johnston', 'Taika Waititi', 'David Leitch', 'Christopher Nolan', 'Christopher Nolan', 'Anthony Russo, Joe Russo', 'Anna Boden, Ryan Fleck', 'Joss Whedon', 'Dean Parisot', 'Bong Joon Ho', 'Robert Zemeckis', 'Steven Spielberg', 'Joss Whedon', 'George Miller', 'Lana Wachowski, Lilly Wachowski', 'Christopher Nolan', 'James Gunn', 'Jon Favreau', 'Roland Emmerich', 'Jon Watts', 'Jon Watts', 'Ridley Scott', 'Tim Miller', 'Hideaki Anno, Shinji Higuchi', 'Guillermo del Toro', 'David Lynch', 'James Cameron', 'Gary Ross', 'Leigh Whannell', 'Michael Matthews', 'Robert Rodriguez', 'James Gunn', 'Ron Howard', 'Steven Spielberg', 'J.J. Abrams', 'Ridley Scott', 'Shane Black', 'Bob Persichetti, Peter Ramsey, Rodney Rothman', 'Julius Avery', 'Ridley Scott', 'Denis Villeneuve', 'Morten Tyldum', 'Pete Travis', 'Paul W.S. Anderson', 'George Clooney', 'Roland Emmerich', 'Scott Derrickson', 'Jon Turteltaub', 'Richard Curtis', 'Stanley Kubrick', 'George Lucas', 'Ruben Fleischer', 'Peyton Reed', 'Richard Kelly', 'James Cameron', 'Ridley Scott', 'Josh Boone', 'Sam Raimi', 'Jon Favreau', 'John Krasinski', 'Jeff Fowler', 'Peyton Reed', 'F. Gary Gray', 'Merian C. Cooper, Ernest B. Schoedsack', 'Brandon Cronenberg', 'George Lucas', 'Tim Miller', 'James Cameron', 'Ridley Scott', 'Gareth Edwards', 'Bryan Singer', 'Louis Leterrier', 'Roland Emmerich', 'James Mangold', 'Guillermo del Toro', 'Michel Gondry', 'Andrew Niccol', 'M. Night Shyamalan', 'Stanley Kubrick']\n\n\n['2021', '2021', '2017', '2021', '2019', '2017', '2014', '2019', '2020', '2016', '2016', '2013', '2018', '2018', '2017', '2021', '2014', '2017', '2009', '2018', '2016', '2011', '2017', '2018', '2014', '2010', '2014', '2019', '2015', '2020', '2013', '1985', '1993', '2012', '2015', '1999', '2006', '2017', '2008', '1998', '2019', '2017', '1979', '2016', '2016', '2017', '1984', '2009', '2012', '2020', '2020', '2019', '2006', '2018', '2018', '2019', '2015', '2013', '2018', '2018', '1982', '2016', '2016', '2012', '1995', '2020', '1996', '2016', '2018', '2013', '1971', '1977', '2018', '2015', '2001', '1986', '2012', '2020', '2002', '2010', '2018', '2020', '2018', '2019', '1933', '2020', '1999', '2019', '1991', '2017', '2016', '2016', '2008', '1994', '2017', '2013', '2004', '2011', '2019', '1968']\n\n\n['Godzilla vs. Kong', \"Zack Snyder's Justice League\", 'Justice League', 'Chaos Walking', 'Godzilla II - King of the Monsters', 'Kong: Skull Island', 'Godzilla', 'Avengers: Endgame', 'Tenet', 'Suicide Squad', 'Batman v Superman: Dawn of Justice', \"L'uomo d'acciaio\", 'Avengers: Infinity War', 'Aquaman', 'Wonder Woman', 'Quello che non ti uccide', 'Guardiani della Galassia', 'Blade Runner 2049', 'Watchmen', 'Black Panther', 'Captain America: Civil War', 'Captain America - Il primo Vendicatore', 'Thor: Ragnarok', 'Deadpool 2', 'Interstellar', 'Inception', 'Captain America: The Winter Soldier', 'Captain Marvel', 'Avengers: Age of Ultron', 'Bill & Ted Face the Music', 'Snowpiercer', 'Ritorno al futuro', 'Jurassic Park', 'The Avengers', 'Mad Max: Fury Road', 'Matrix', 'The Prestige', 'Guardiani della Galassia Vol. 2', 'Iron Man', 'Godzilla', 'Spider-Man: Far from Home', 'Spider-Man: Homecoming', 'Alien', 'Deadpool', 'Shin Godzilla', \"La forma dell'acqua - The Shape of Water\", 'Dune', 'Avatar', 'Hunger Games', \"L'uomo invisibile\", 'Love and Monsters', 'Alita - Angelo della battaglia', 'Slither', 'Solo: A Star Wars Story', 'Ready Player One', \"Star Wars - L'ascesa di Skywalker\", 'Sopravvissuto - The Martian', 'Iron Man 3', 'Spider-Man: Un nuovo universo', 'Overlord', 'Blade Runner', 'Arrival', 'Passengers', \"Dredd - Il giudice dell'apocalisse\", 'Mortal Kombat', 'The Midnight Sky', 'Independence Day', 'Doctor Strange', 'Shark - Il primo squalo', 'Questione di tempo', 'Arancia meccanica', 'Guerre stellari', 'Venom', 'Ant-Man', 'Donnie Darko', 'Aliens - Scontro finale', 'Prometheus', 'The New Mutants', 'Spider-Man', 'Iron Man 2', 'A Quiet Place - Un posto tranquillo', 'Sonic - Il film', 'Ant-Man and the Wasp', 'Men in Black: International', 'King Kong', 'Possessor', 'Star Wars: Episodio I - La minaccia fantasma', 'Terminator - Destino oscuro', 'Terminator 2 - Il giorno del giudizio', 'Alien: Covenant', 'Rogue One: A Star Wars Story', 'X-Men: Apocalisse', \"L'incredibile Hulk\", 'Stargate', 'Logan - The Wolverine', 'Pacific Rim', 'Se mi lasci ti cancello', 'In Time', 'Glass', '2001: Odissea nello spazio']\n\n\n['6.6', '8.2', '6.2', '5.7', '6.0', '6.6', '6.4', '8.4', '7.5', '6.0', '6.4', '7.0', '8.4', '6.9', '7.4', '6.9', '8.0', '8.0', '7.6', '7.3', '7.8', '6.9', '7.9', '7.7', '8.6', '8.8', '7.7', '6.9', '7.3', '6.1', '7.1', '8.5', '8.1', '8.0', '8.1', '8.7', '8.5', '7.6', '7.9', '5.4', '7.5', '7.4', '8.4', '8.0', '6.8', '7.3', '6.5', '7.8', '7.2', '7.1', '7.0', '7.3', '6.5', '6.9', '7.4', '6.6', '8.0', '7.1', '8.4', '6.6', '8.1', '7.9', '7.0', '7.1', '5.8', '5.6', '7.0', '7.5', '5.6', '7.8', '8.3', '8.6', '6.7', '7.3', '8.0', '8.3', '7.0', '5.3', '7.3', '7.0', '7.5', '6.5', '7.0', '5.6', '7.9', '6.5', '6.5', '6.2', '8.5', '6.4', '7.8', '6.9', '6.7', '7.1', '8.1', '6.9', '8.3', '6.7', '6.7', '8.3']\n\n\n['86,252', '252,242', '408,084', '11,228', '149,119', '282,051', '386,571', '852,482', '326,361', '613,614', '644,638', '710,285', '862,612', '388,438', '585,924', '19,443', '1,056,708', '472,694', '510,234', '639,363', '677,275', '753,053', '604,381', '490,728', '1,541,201', '2,096,839', '748,180', '461,371', '760,725', '31,374', '327,918', '1,073,031', '878,297', '1,274,372', '894,537', '1,698,221', '1,206,432', '581,100', '952,109', '184,751', '337,361', '524,676', '797,373', '914,663', '23,987', '378,063', '129,215', '1,128,474', '850,793', '176,017', '36,543', '233,669', '75,294', '298,456', '376,201', '383,817', '769,895', '765,885', '390,932', '87,966', '701,105', '604,813', '355,113', '255,577', '104,998', '70,915', '531,683', '610,838', '153,430', '309,783', '765,670', '1,243,903', '368,592', '580,757', '746,368', '659,120', '572,111', '48,688', '694,668', '732,878', '414,535', '95,090', '319,833', '112,288', '80,064', '21,122', '738,882', '153,878', '1,005,192', '257,182', '563,348', '398,473', '439,941', '176,738', '659,045', '469,407', '921,518', '373,828', '212,374', '610,626']\n\n\n[nan, nan, '229.02', nan, '110.50', '168.05', '200.68', '858.37', '53.80', '325.10', '330.36', '291.05', '678.82', '335.06', '412.56', nan, '333.18', '92.05', '107.51', '700.06', '408.08', '176.65', '315.06', '324.59', '188.02', '292.58', '259.77', '426.83', '459.01', nan, '4.56', '210.61', '402.45', '623.28', '154.06', '171.48', '53.09', '389.81', '318.41', '136.31', '390.53', '334.20', '78.90', '363.07', '1.91', '63.86', '30.93', '760.51', '408.01', '64.91', nan, '85.71', '7.77', '213.77', '137.69', '515.20', '228.43', '409.01', '190.24', '21.70', '32.87', '100.55', '100.01', '13.41', '70.45', nan, '306.17', '232.64', '143.01', '15.32', '6.21', '322.74', '213.52', '180.20', '1.48', '85.16', '126.48', nan, '403.71', '312.43', '188.02', '146.07', '216.65', '80.00', '10.00', nan, '474.54', '62.25', '204.84', '74.26', '532.18', '155.44', '134.52', '71.57', '226.28', '101.80', '34.40', '37.52', '111.05', '56.95']\n"
     ]
    }
   ],
   "source": [
    "print(list_of_actors)\n",
    "print('\\n')\n",
    "print(list_of_directors)\n",
    "print('\\n')\n",
    "print(list_of_years)\n",
    "print('\\n')\n",
    "print(list_of_titles)\n",
    "print('\\n')\n",
    "print(list_of_ratings)\n",
    "print('\\n')\n",
    "print(list_of_votes)\n",
    "print('\\n')\n",
    "print(list_of_gross)"
   ]
  },
  {
   "cell_type": "code",
   "execution_count": 8,
   "metadata": {},
   "outputs": [
    {
     "output_type": "execute_result",
     "data": {
      "text/plain": [
       "                                 title ratings  \\\n",
       "0                    Godzilla vs. Kong     6.6   \n",
       "1         Zack Snyder's Justice League     8.2   \n",
       "2                       Justice League     6.2   \n",
       "3                        Chaos Walking     5.7   \n",
       "4   Godzilla II - King of the Monsters     6.0   \n",
       "..                                 ...     ...   \n",
       "95                         Pacific Rim     6.9   \n",
       "96             Se mi lasci ti cancello     8.3   \n",
       "97                             In Time     6.7   \n",
       "98                               Glass     6.7   \n",
       "99          2001: Odissea nello spazio     8.3   \n",
       "\n",
       "                                               actors           directors  \\\n",
       "0   Alexander Skarsgård, Millie Bobby Brown, Rebec...        Adam Wingard   \n",
       "1     Henry Cavill, Ben Affleck, Gal Gadot, Amy Adams         Zack Snyder   \n",
       "2    Ben Affleck, Gal Gadot, Jason Momoa, Ezra Miller         Zack Snyder   \n",
       "3   Tom Holland, Daisy Ridley, Demián Bichir, Davi...          Doug Liman   \n",
       "4   Kyle Chandler, Vera Farmiga, Millie Bobby Brow...   Michael Dougherty   \n",
       "..                                                ...                 ...   \n",
       "95  Idris Elba, Charlie Hunnam, Rinko Kikuchi, Cha...  Guillermo del Toro   \n",
       "96  Jim Carrey, Kate Winslet, Tom Wilkinson, Gerry...       Michel Gondry   \n",
       "97  Justin Timberlake, Amanda Seyfried, Cillian Mu...       Andrew Niccol   \n",
       "98  James McAvoy, Bruce Willis, Samuel L. Jackson,...  M. Night Shyamalan   \n",
       "99  Keir Dullea, Gary Lockwood, William Sylvester,...     Stanley Kubrick   \n",
       "\n",
       "    year    votes gross ($, in M)  \n",
       "0   2021   86,252             NaN  \n",
       "1   2021  252,242             NaN  \n",
       "2   2017  408,084          229.02  \n",
       "3   2021   11,228             NaN  \n",
       "4   2019  149,119          110.50  \n",
       "..   ...      ...             ...  \n",
       "95  2013  469,407          101.80  \n",
       "96  2004  921,518           34.40  \n",
       "97  2011  373,828           37.52  \n",
       "98  2019  212,374          111.05  \n",
       "99  1968  610,626           56.95  \n",
       "\n",
       "[100 rows x 7 columns]"
      ],
      "text/html": "<div>\n<style scoped>\n    .dataframe tbody tr th:only-of-type {\n        vertical-align: middle;\n    }\n\n    .dataframe tbody tr th {\n        vertical-align: top;\n    }\n\n    .dataframe thead th {\n        text-align: right;\n    }\n</style>\n<table border=\"1\" class=\"dataframe\">\n  <thead>\n    <tr style=\"text-align: right;\">\n      <th></th>\n      <th>title</th>\n      <th>ratings</th>\n      <th>actors</th>\n      <th>directors</th>\n      <th>year</th>\n      <th>votes</th>\n      <th>gross ($, in M)</th>\n    </tr>\n  </thead>\n  <tbody>\n    <tr>\n      <th>0</th>\n      <td>Godzilla vs. Kong</td>\n      <td>6.6</td>\n      <td>Alexander Skarsgård, Millie Bobby Brown, Rebec...</td>\n      <td>Adam Wingard</td>\n      <td>2021</td>\n      <td>86,252</td>\n      <td>NaN</td>\n    </tr>\n    <tr>\n      <th>1</th>\n      <td>Zack Snyder's Justice League</td>\n      <td>8.2</td>\n      <td>Henry Cavill, Ben Affleck, Gal Gadot, Amy Adams</td>\n      <td>Zack Snyder</td>\n      <td>2021</td>\n      <td>252,242</td>\n      <td>NaN</td>\n    </tr>\n    <tr>\n      <th>2</th>\n      <td>Justice League</td>\n      <td>6.2</td>\n      <td>Ben Affleck, Gal Gadot, Jason Momoa, Ezra Miller</td>\n      <td>Zack Snyder</td>\n      <td>2017</td>\n      <td>408,084</td>\n      <td>229.02</td>\n    </tr>\n    <tr>\n      <th>3</th>\n      <td>Chaos Walking</td>\n      <td>5.7</td>\n      <td>Tom Holland, Daisy Ridley, Demián Bichir, Davi...</td>\n      <td>Doug Liman</td>\n      <td>2021</td>\n      <td>11,228</td>\n      <td>NaN</td>\n    </tr>\n    <tr>\n      <th>4</th>\n      <td>Godzilla II - King of the Monsters</td>\n      <td>6.0</td>\n      <td>Kyle Chandler, Vera Farmiga, Millie Bobby Brow...</td>\n      <td>Michael Dougherty</td>\n      <td>2019</td>\n      <td>149,119</td>\n      <td>110.50</td>\n    </tr>\n    <tr>\n      <th>...</th>\n      <td>...</td>\n      <td>...</td>\n      <td>...</td>\n      <td>...</td>\n      <td>...</td>\n      <td>...</td>\n      <td>...</td>\n    </tr>\n    <tr>\n      <th>95</th>\n      <td>Pacific Rim</td>\n      <td>6.9</td>\n      <td>Idris Elba, Charlie Hunnam, Rinko Kikuchi, Cha...</td>\n      <td>Guillermo del Toro</td>\n      <td>2013</td>\n      <td>469,407</td>\n      <td>101.80</td>\n    </tr>\n    <tr>\n      <th>96</th>\n      <td>Se mi lasci ti cancello</td>\n      <td>8.3</td>\n      <td>Jim Carrey, Kate Winslet, Tom Wilkinson, Gerry...</td>\n      <td>Michel Gondry</td>\n      <td>2004</td>\n      <td>921,518</td>\n      <td>34.40</td>\n    </tr>\n    <tr>\n      <th>97</th>\n      <td>In Time</td>\n      <td>6.7</td>\n      <td>Justin Timberlake, Amanda Seyfried, Cillian Mu...</td>\n      <td>Andrew Niccol</td>\n      <td>2011</td>\n      <td>373,828</td>\n      <td>37.52</td>\n    </tr>\n    <tr>\n      <th>98</th>\n      <td>Glass</td>\n      <td>6.7</td>\n      <td>James McAvoy, Bruce Willis, Samuel L. Jackson,...</td>\n      <td>M. Night Shyamalan</td>\n      <td>2019</td>\n      <td>212,374</td>\n      <td>111.05</td>\n    </tr>\n    <tr>\n      <th>99</th>\n      <td>2001: Odissea nello spazio</td>\n      <td>8.3</td>\n      <td>Keir Dullea, Gary Lockwood, William Sylvester,...</td>\n      <td>Stanley Kubrick</td>\n      <td>1968</td>\n      <td>610,626</td>\n      <td>56.95</td>\n    </tr>\n  </tbody>\n</table>\n<p>100 rows × 7 columns</p>\n</div>"
     },
     "metadata": {},
     "execution_count": 8
    }
   ],
   "source": [
    "df = pd.DataFrame({'title': list_of_titles, 'ratings': list_of_ratings, 'actors': list_of_actors, 'directors': list_of_directors, 'year': list_of_years, 'votes': list_of_votes, 'gross ($, in M)': list_of_gross})\n",
    "df"
   ]
  },
  {
   "cell_type": "code",
   "execution_count": 10,
   "metadata": {},
   "outputs": [
    {
     "output_type": "execute_result",
     "data": {
      "text/plain": [
       "                                 title ratings  \\\n",
       "0                    Godzilla vs. Kong     6.6   \n",
       "1         Zack Snyder's Justice League     8.2   \n",
       "2                       Justice League     6.2   \n",
       "3                        Chaos Walking     5.7   \n",
       "4   Godzilla II - King of the Monsters     6.0   \n",
       "..                                 ...     ...   \n",
       "95                         Pacific Rim     6.9   \n",
       "96             Se mi lasci ti cancello     8.3   \n",
       "97                             In Time     6.7   \n",
       "98                               Glass     6.7   \n",
       "99          2001: Odissea nello spazio     8.3   \n",
       "\n",
       "                                               actors           directors  \\\n",
       "0   Alexander Skarsgård, Millie Bobby Brown, Rebec...        Adam Wingard   \n",
       "1     Henry Cavill, Ben Affleck, Gal Gadot, Amy Adams         Zack Snyder   \n",
       "2    Ben Affleck, Gal Gadot, Jason Momoa, Ezra Miller         Zack Snyder   \n",
       "3   Tom Holland, Daisy Ridley, Demián Bichir, Davi...          Doug Liman   \n",
       "4   Kyle Chandler, Vera Farmiga, Millie Bobby Brow...   Michael Dougherty   \n",
       "..                                                ...                 ...   \n",
       "95  Idris Elba, Charlie Hunnam, Rinko Kikuchi, Cha...  Guillermo del Toro   \n",
       "96  Jim Carrey, Kate Winslet, Tom Wilkinson, Gerry...       Michel Gondry   \n",
       "97  Justin Timberlake, Amanda Seyfried, Cillian Mu...       Andrew Niccol   \n",
       "98  James McAvoy, Bruce Willis, Samuel L. Jackson,...  M. Night Shyamalan   \n",
       "99  Keir Dullea, Gary Lockwood, William Sylvester,...     Stanley Kubrick   \n",
       "\n",
       "    year    votes gross ($, in M)  \n",
       "0   2021   86,252               0  \n",
       "1   2021  252,242               0  \n",
       "2   2017  408,084          229.02  \n",
       "3   2021   11,228               0  \n",
       "4   2019  149,119          110.50  \n",
       "..   ...      ...             ...  \n",
       "95  2013  469,407          101.80  \n",
       "96  2004  921,518           34.40  \n",
       "97  2011  373,828           37.52  \n",
       "98  2019  212,374          111.05  \n",
       "99  1968  610,626           56.95  \n",
       "\n",
       "[100 rows x 7 columns]"
      ],
      "text/html": "<div>\n<style scoped>\n    .dataframe tbody tr th:only-of-type {\n        vertical-align: middle;\n    }\n\n    .dataframe tbody tr th {\n        vertical-align: top;\n    }\n\n    .dataframe thead th {\n        text-align: right;\n    }\n</style>\n<table border=\"1\" class=\"dataframe\">\n  <thead>\n    <tr style=\"text-align: right;\">\n      <th></th>\n      <th>title</th>\n      <th>ratings</th>\n      <th>actors</th>\n      <th>directors</th>\n      <th>year</th>\n      <th>votes</th>\n      <th>gross ($, in M)</th>\n    </tr>\n  </thead>\n  <tbody>\n    <tr>\n      <th>0</th>\n      <td>Godzilla vs. Kong</td>\n      <td>6.6</td>\n      <td>Alexander Skarsgård, Millie Bobby Brown, Rebec...</td>\n      <td>Adam Wingard</td>\n      <td>2021</td>\n      <td>86,252</td>\n      <td>0</td>\n    </tr>\n    <tr>\n      <th>1</th>\n      <td>Zack Snyder's Justice League</td>\n      <td>8.2</td>\n      <td>Henry Cavill, Ben Affleck, Gal Gadot, Amy Adams</td>\n      <td>Zack Snyder</td>\n      <td>2021</td>\n      <td>252,242</td>\n      <td>0</td>\n    </tr>\n    <tr>\n      <th>2</th>\n      <td>Justice League</td>\n      <td>6.2</td>\n      <td>Ben Affleck, Gal Gadot, Jason Momoa, Ezra Miller</td>\n      <td>Zack Snyder</td>\n      <td>2017</td>\n      <td>408,084</td>\n      <td>229.02</td>\n    </tr>\n    <tr>\n      <th>3</th>\n      <td>Chaos Walking</td>\n      <td>5.7</td>\n      <td>Tom Holland, Daisy Ridley, Demián Bichir, Davi...</td>\n      <td>Doug Liman</td>\n      <td>2021</td>\n      <td>11,228</td>\n      <td>0</td>\n    </tr>\n    <tr>\n      <th>4</th>\n      <td>Godzilla II - King of the Monsters</td>\n      <td>6.0</td>\n      <td>Kyle Chandler, Vera Farmiga, Millie Bobby Brow...</td>\n      <td>Michael Dougherty</td>\n      <td>2019</td>\n      <td>149,119</td>\n      <td>110.50</td>\n    </tr>\n    <tr>\n      <th>...</th>\n      <td>...</td>\n      <td>...</td>\n      <td>...</td>\n      <td>...</td>\n      <td>...</td>\n      <td>...</td>\n      <td>...</td>\n    </tr>\n    <tr>\n      <th>95</th>\n      <td>Pacific Rim</td>\n      <td>6.9</td>\n      <td>Idris Elba, Charlie Hunnam, Rinko Kikuchi, Cha...</td>\n      <td>Guillermo del Toro</td>\n      <td>2013</td>\n      <td>469,407</td>\n      <td>101.80</td>\n    </tr>\n    <tr>\n      <th>96</th>\n      <td>Se mi lasci ti cancello</td>\n      <td>8.3</td>\n      <td>Jim Carrey, Kate Winslet, Tom Wilkinson, Gerry...</td>\n      <td>Michel Gondry</td>\n      <td>2004</td>\n      <td>921,518</td>\n      <td>34.40</td>\n    </tr>\n    <tr>\n      <th>97</th>\n      <td>In Time</td>\n      <td>6.7</td>\n      <td>Justin Timberlake, Amanda Seyfried, Cillian Mu...</td>\n      <td>Andrew Niccol</td>\n      <td>2011</td>\n      <td>373,828</td>\n      <td>37.52</td>\n    </tr>\n    <tr>\n      <th>98</th>\n      <td>Glass</td>\n      <td>6.7</td>\n      <td>James McAvoy, Bruce Willis, Samuel L. Jackson,...</td>\n      <td>M. Night Shyamalan</td>\n      <td>2019</td>\n      <td>212,374</td>\n      <td>111.05</td>\n    </tr>\n    <tr>\n      <th>99</th>\n      <td>2001: Odissea nello spazio</td>\n      <td>8.3</td>\n      <td>Keir Dullea, Gary Lockwood, William Sylvester,...</td>\n      <td>Stanley Kubrick</td>\n      <td>1968</td>\n      <td>610,626</td>\n      <td>56.95</td>\n    </tr>\n  </tbody>\n</table>\n<p>100 rows × 7 columns</p>\n</div>"
     },
     "metadata": {},
     "execution_count": 10
    }
   ],
   "source": [
    "df['gross ($, in M)'] = df['gross ($, in M)'].replace(np.nan, 0)\n",
    "\n",
    "df"
   ]
  },
  {
   "cell_type": "code",
   "execution_count": 23,
   "metadata": {},
   "outputs": [],
   "source": [
    "df = df.sort_values(by=['year'])"
   ]
  },
  {
   "cell_type": "code",
   "execution_count": 52,
   "metadata": {},
   "outputs": [
    {
     "output_type": "display_data",
     "data": {
      "text/plain": "<pandas.core.groupby.generic.DataFrameGroupBy object at 0x7fda011f7970>"
     },
     "metadata": {}
    }
   ],
   "source": [
    "df.year = df.year.astype(int)\n",
    "decades = np.arange(1900, 2040, 10).tolist()\n",
    "\n",
    "\n",
    "groups = df.groupby(['year', pd.cut(df.year, decades)])\n",
    "\n",
    "display(groups)\n",
    "\n"
   ]
  }
 ],
 "metadata": {
  "kernelspec": {
   "name": "python388jvsc74a57bd036d735e4d74651b5843b8bf8671694cee2df4263d27e1ed8e6896ce3326ae1ff",
   "display_name": "Python 3.8.8 64-bit ('Strive': conda)"
  },
  "language_info": {
   "codemirror_mode": {
    "name": "ipython",
    "version": 2
   },
   "file_extension": ".py",
   "mimetype": "text/x-python",
   "name": "python",
   "nbconvert_exporter": "python",
   "pygments_lexer": "ipython2",
   "version": "3.8.8-final"
  },
  "metadata": {
   "interpreter": {
    "hash": "36d735e4d74651b5843b8bf8671694cee2df4263d27e1ed8e6896ce3326ae1ff"
   }
  }
 },
 "nbformat": 4,
 "nbformat_minor": 0
}