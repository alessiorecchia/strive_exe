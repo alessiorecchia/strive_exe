{
 "cells": [
  {
   "cell_type": "code",
   "execution_count": 7,
   "metadata": {
    "collapsed": true
   },
   "outputs": [],
   "source": [
    "import pandas as pd\n",
    "import numpy as np\n",
    "import requests as rq\n",
    "from bs4 import BeautifulSoup"
   ]
  },
  {
   "cell_type": "code",
   "execution_count": 14,
   "metadata": {},
   "outputs": [],
   "source": [
    "def replacer(list_ : list, to_replace: dict):\n",
    "    for key in to_replace:\n",
    "        list_ = list_.replace(key, to_replace[key])\n",
    "\n",
    "    return list_"
   ]
  },
  {
   "cell_type": "code",
   "execution_count": 31,
   "outputs": [
    {
     "output_type": "stream",
     "name": "stdout",
     "text": [
      "Il cavaliere pallido\n20\n<class 'str'>\n"
     ]
    }
   ],
   "source": [
    "list_of_directors = []\n",
    "list_of_actors = []\n",
    "list_of_titles = []\n",
    "list_of_years = []\n",
    "list_of_metascore = []\n",
    "\n",
    "\n",
    "\n",
    "\n",
    "page = rq.get('https://www.imdb.com/search/title/?title_type=feature&num_votes=10000,&genres=western&languages=en&explore=genres')\n",
    "\n",
    "page_content = BeautifulSoup(page.content, 'html.parser')\n",
    "\n",
    "maindiv = page_content.find_all('div',class_=\"lister-item-content\")\n",
    "for movie in maindiv:\n",
    "    names = movie.find_all('p')[2].text\n",
    "    # names = names.replace('\\n', \"\").replace('Stars:', \"\").split(\"|\")\n",
    "    names = replacer(names, {'\\n': '', 'Stars:': '', 'Directors:': '', 'Director:': ''})\n",
    "    names = names.split('|')\n",
    "    list_of_directors.append(names[0])\n",
    "    list_of_actors.append(names[len(names) - 1])\n",
    "    year = movie.find_all('span', class_=\"lister-item-year text-muted unbold\")[0].text\n",
    "    list_of_years.append(year[1:-2])\n",
    "    title = movie.find_all('a')[0].text\n",
    "    list_of_titles.append(title)\n",
    "\n",
    "list_of_actors = [actors.strip(\"    \") for actors in list_of_actors]\n",
    "list_of_directors = [director.strip(\"    \") for director in list_of_directors]\n",
    "# print(title)\n",
    "# print(len(title))\n",
    "# print(type(title))\n"
   ],
   "metadata": {
    "collapsed": false,
    "pycharm": {
     "name": "#%%\n"
    }
   }
  },
  {
   "cell_type": "code",
   "execution_count": 32,
   "metadata": {},
   "outputs": [
    {
     "output_type": "stream",
     "name": "stdout",
     "text": [
      "['Tom Hanks, Helena Zengel, Tom Astor, Travis Johnson', 'Jamie Foxx, Christoph Waltz, Leonardo DiCaprio, Kerry Washington', 'Kurt Russell, Val Kilmer, Sam Elliott, Bill Paxton', 'Kevin Costner, Mary McDonnell, Graham Greene, Rodney A. Grant', 'Samuel L. Jackson, Kurt Russell, Jennifer Jason Leigh, Walton Goggins', 'Sharon Stone, Gene Hackman, Russell Crowe, Leonardo DiCaprio', 'Leonardo DiCaprio, Tom Hardy, Will Poulter, Domhnall Gleeson', \"Denzel Washington, Chris Pratt, Ethan Hawke, Vincent D'Onofrio\", 'Jeff Bridges, Matt Damon, Hailee Steinfeld, Josh Brolin', 'Clint Eastwood, Gene Hackman, Morgan Freeman, Richard Harris', 'Henry Fonda, Charles Bronson, Claudia Cardinale, Jason Robards', 'Cleavon Little, Gene Wilder, Slim Pickens, Harvey Korman', 'Johnny Depp, Isla Fisher, Timothy Olyphant, Abigail Breslin', 'Tim Blake Nelson, Willie Watson, Clancy Brown, Danny McCarthy', 'John C. Reilly, Joaquin Phoenix, Jake Gyllenhaal, Riz Ahmed', 'Brad Pitt, Anthony Hopkins, Aidan Quinn, Julia Ormond', 'Brady Jandreau, Mooney, Tim Jandreau, Lilly Jandreau', 'Chris Pine, Ben Foster, Jeff Bridges, Gil Birmingham', 'Emilio Estevez, Kiefer Sutherland, Lou Diamond Phillips, Charlie Sheen', 'Kevin Costner, Robert Duvall, Diego Luna, Abraham Benrubi', 'Scott Shepherd, Rosamund Pike, Ava Cooper, Stella Cooper', 'Kevin Kline, Scott Glenn, Kevin Costner, Danny Glover', 'Brad Pitt, Casey Affleck, Sam Shepard, Mary-Louise Parker', 'Clint Eastwood, Lee Van Cleef, Gian Maria Volontè, Mara Krupp', 'Yul Brynner, Steve McQueen, Charles Bronson, Eli Wallach', 'Russell Crowe, Christian Bale, Ben Foster, Logan Lerman', 'Humphrey Bogart, Walter Huston, Tim Holt, Bruce Bennett', 'Tommy Lee Jones, Cate Blanchett, Evan Rachel Wood, Jenna Boyd', 'Michael J. Fox, Christopher Lloyd, Mary Steenburgen, Thomas F. Wilson', 'Billy Crystal, Jack Palance, Daniel Stern, Bruno Kirby', 'Kurt Russell, Patrick Wilson, Matthew Fox, Richard Jenkins', 'Daniel Craig, Harrison Ford, Olivia Wilde, Abigail Spencer', 'Antonio Banderas, Anthony Hopkins, Catherine Zeta-Jones, José María de Tavira', 'Paul Newman, Robert Redford, Katharine Ross, Strother Martin', 'Emilio Estevez, Kiefer Sutherland, Lou Diamond Phillips, Christian Slater', 'Alia Shawkat, John Magaro, Dylan Smith, Ryan Findley', 'Idris Elba, Matthew McConaughey, Tom Taylor, Dennis Haysbert', 'Johnny Depp, Armie Hammer, William Fichtner, Tom Wilkinson', 'John Wayne, Robert Mitchum, James Caan, Charlene Holt', 'John Travolta, Debra Winger, Scott Glenn, Madolyn Smith Osborne', 'Elizabeth Taylor, Rock Hudson, James Dean, Carroll Baker', 'Nicole Kidman, Hugh Jackman, Shea Adams, Eddie Baroo', 'Kevin Costner, Dennis Quaid, Gene Hackman, David Andrews', 'Esther Purves-Smith, Kiefer Sutherland, Donald Sutherland, Lex Cassar', 'John Wayne, Jeffrey Hunter, Vera Miles, Ward Bond', 'Ed Harris, Viggo Mortensen, Renée Zellweger, Jeremy Irons', 'Matt Damon, James Cromwell, Daniel Studi, Chopper Bernet', 'Seth MacFarlane, Charlize Theron, Liam Neeson, Amanda Seyfried', 'Will Smith, Kevin Kline, Kenneth Branagh, Salma Hayek', 'Clint Eastwood, Michael Moriarty, Carrie Snodgress, Sydney Penny']\n\n\n['Paul Greengrass', 'Quentin Tarantino', 'George P. Cosmatos, Kevin Jarre', 'Kevin Costner', 'Quentin Tarantino', 'Sam Raimi', 'Alejandro G. Iñárritu', 'Antoine Fuqua', 'Ethan Coen, Joel Coen', 'Clint Eastwood', 'Sergio Leone', 'Mel Brooks', 'Gore Verbinski', 'Ethan Coen, Joel Coen', 'Jacques Audiard', 'Edward Zwick', 'Chloé Zhao', 'David Mackenzie', 'Christopher Cain', 'Kevin Costner', 'Scott Cooper', 'Lawrence Kasdan', 'Andrew Dominik', 'Sergio Leone', 'John Sturges', 'James Mangold', 'John Huston', 'Ron Howard', 'Robert Zemeckis', 'Ron Underwood', 'S. Craig Zahler', 'Jon Favreau', 'Martin Campbell', 'George Roy Hill', 'Geoff Murphy', 'Kelly Reichardt', 'Nikolaj Arcel', 'Gore Verbinski', 'Howard Hawks', 'James Bridges', 'George Stevens', 'Baz Luhrmann', 'Lawrence Kasdan', 'Jon Cassar', 'John Ford', 'Ed Harris', 'Kelly Asbury, Lorna Cook', 'Seth MacFarlane', 'Barry Sonnenfeld', 'Clint Eastwood']\n\n\n['202', '201', '199', '199', '201', '199', '201', '201', '201', '199', '196', '197', '201', '201', '201', '199', '201', 'II) (201', '198', '200', '201', '198', '200', '196', '196', '200', '194', 'I) (200', '199', '199', '201', '201', '199', '196', '199', '201', '201', '201', '196', '198', '195', '200', '199', 'I) (201', '195', '200', '200', '201', '199', '198']\n\n\n['Notizie dal mondo', 'Django Unchained', 'Tombstone', 'Balla coi lupi', 'The Hateful Eight', 'Pronti a morire', 'Revenant - Redivivo', 'I magnifici 7', 'Il Grinta', 'Gli spietati', \"C'era una volta il West\", 'Mezzogiorno e mezzo di fuoco', 'Rango', 'La ballata di Buster Scruggs', 'I fratelli Sisters', 'Vento di passioni', 'The Rider - Il sogno di un cowboy', 'Hell or High Water', 'Young Guns - Giovani pistole', 'Terra di confine - Open Range', 'Hostiles: Ostili', 'Silverado', \"L'assassinio di Jesse James per mano del codardo Robert Ford\", 'Per qualche dollaro in più', 'I magnifici sette', 'Quel treno per Yuma', 'Il tesoro della Sierra Madre', 'The Missing', 'Ritorno al futuro - Parte III', \"Scappo dalla città - La vita, l'amore e le vacche\", 'Bone Tomahawk', 'Cowboys & Aliens', 'La maschera di Zorro', 'Butch Cassidy', 'Young Guns II - La leggenda di Billy the Kid', 'First Cow', 'La torre nera', 'The Lone Ranger', 'El Dorado', 'Urban Cowboy', 'Il gigante', 'Australia', 'Wyatt Earp', 'Il fuoco della giustizia', 'Sentieri selvaggi', 'Appaloosa', 'Spirit - Cavallo selvaggio', 'Un milione di modi per morire nel West', 'Wild Wild West', 'Il cavaliere pallido']\n"
     ]
    }
   ],
   "source": [
    "print(list_of_actors)\n",
    "print('\\n')\n",
    "print(list_of_directors)\n",
    "print('\\n')\n",
    "print(list_of_years)\n",
    "print('\\n')\n",
    "print(list_of_titles)"
   ]
  },
  {
   "cell_type": "code",
   "execution_count": 33,
   "metadata": {},
   "outputs": [
    {
     "output_type": "execute_result",
     "data": {
      "text/plain": [
       "                                                title  \\\n",
       "0                                   Notizie dal mondo   \n",
       "1                                    Django Unchained   \n",
       "2                                           Tombstone   \n",
       "3                                      Balla coi lupi   \n",
       "4                                   The Hateful Eight   \n",
       "5                                     Pronti a morire   \n",
       "6                                 Revenant - Redivivo   \n",
       "7                                       I magnifici 7   \n",
       "8                                           Il Grinta   \n",
       "9                                        Gli spietati   \n",
       "10                            C'era una volta il West   \n",
       "11                       Mezzogiorno e mezzo di fuoco   \n",
       "12                                              Rango   \n",
       "13                       La ballata di Buster Scruggs   \n",
       "14                                 I fratelli Sisters   \n",
       "15                                  Vento di passioni   \n",
       "16                  The Rider - Il sogno di un cowboy   \n",
       "17                                 Hell or High Water   \n",
       "18                       Young Guns - Giovani pistole   \n",
       "19                      Terra di confine - Open Range   \n",
       "20                                   Hostiles: Ostili   \n",
       "21                                          Silverado   \n",
       "22  L'assassinio di Jesse James per mano del codar...   \n",
       "23                         Per qualche dollaro in più   \n",
       "24                                  I magnifici sette   \n",
       "25                                Quel treno per Yuma   \n",
       "26                       Il tesoro della Sierra Madre   \n",
       "27                                        The Missing   \n",
       "28                      Ritorno al futuro - Parte III   \n",
       "29  Scappo dalla città - La vita, l'amore e le vacche   \n",
       "30                                      Bone Tomahawk   \n",
       "31                                   Cowboys & Aliens   \n",
       "32                               La maschera di Zorro   \n",
       "33                                      Butch Cassidy   \n",
       "34       Young Guns II - La leggenda di Billy the Kid   \n",
       "35                                          First Cow   \n",
       "36                                      La torre nera   \n",
       "37                                    The Lone Ranger   \n",
       "38                                          El Dorado   \n",
       "39                                       Urban Cowboy   \n",
       "40                                         Il gigante   \n",
       "41                                          Australia   \n",
       "42                                         Wyatt Earp   \n",
       "43                           Il fuoco della giustizia   \n",
       "44                                  Sentieri selvaggi   \n",
       "45                                          Appaloosa   \n",
       "46                         Spirit - Cavallo selvaggio   \n",
       "47             Un milione di modi per morire nel West   \n",
       "48                                     Wild Wild West   \n",
       "49                               Il cavaliere pallido   \n",
       "\n",
       "                                               actors  \\\n",
       "0   Tom Hanks, Helena Zengel, Tom Astor, Travis Jo...   \n",
       "1   Jamie Foxx, Christoph Waltz, Leonardo DiCaprio...   \n",
       "2   Kurt Russell, Val Kilmer, Sam Elliott, Bill Pa...   \n",
       "3   Kevin Costner, Mary McDonnell, Graham Greene, ...   \n",
       "4   Samuel L. Jackson, Kurt Russell, Jennifer Jaso...   \n",
       "5   Sharon Stone, Gene Hackman, Russell Crowe, Leo...   \n",
       "6   Leonardo DiCaprio, Tom Hardy, Will Poulter, Do...   \n",
       "7   Denzel Washington, Chris Pratt, Ethan Hawke, V...   \n",
       "8   Jeff Bridges, Matt Damon, Hailee Steinfeld, Jo...   \n",
       "9   Clint Eastwood, Gene Hackman, Morgan Freeman, ...   \n",
       "10  Henry Fonda, Charles Bronson, Claudia Cardinal...   \n",
       "11  Cleavon Little, Gene Wilder, Slim Pickens, Har...   \n",
       "12  Johnny Depp, Isla Fisher, Timothy Olyphant, Ab...   \n",
       "13  Tim Blake Nelson, Willie Watson, Clancy Brown,...   \n",
       "14  John C. Reilly, Joaquin Phoenix, Jake Gyllenha...   \n",
       "15  Brad Pitt, Anthony Hopkins, Aidan Quinn, Julia...   \n",
       "16  Brady Jandreau, Mooney, Tim Jandreau, Lilly Ja...   \n",
       "17  Chris Pine, Ben Foster, Jeff Bridges, Gil Birm...   \n",
       "18  Emilio Estevez, Kiefer Sutherland, Lou Diamond...   \n",
       "19  Kevin Costner, Robert Duvall, Diego Luna, Abra...   \n",
       "20  Scott Shepherd, Rosamund Pike, Ava Cooper, Ste...   \n",
       "21  Kevin Kline, Scott Glenn, Kevin Costner, Danny...   \n",
       "22  Brad Pitt, Casey Affleck, Sam Shepard, Mary-Lo...   \n",
       "23  Clint Eastwood, Lee Van Cleef, Gian Maria Volo...   \n",
       "24  Yul Brynner, Steve McQueen, Charles Bronson, E...   \n",
       "25  Russell Crowe, Christian Bale, Ben Foster, Log...   \n",
       "26  Humphrey Bogart, Walter Huston, Tim Holt, Bruc...   \n",
       "27  Tommy Lee Jones, Cate Blanchett, Evan Rachel W...   \n",
       "28  Michael J. Fox, Christopher Lloyd, Mary Steenb...   \n",
       "29  Billy Crystal, Jack Palance, Daniel Stern, Bru...   \n",
       "30  Kurt Russell, Patrick Wilson, Matthew Fox, Ric...   \n",
       "31  Daniel Craig, Harrison Ford, Olivia Wilde, Abi...   \n",
       "32  Antonio Banderas, Anthony Hopkins, Catherine Z...   \n",
       "33  Paul Newman, Robert Redford, Katharine Ross, S...   \n",
       "34  Emilio Estevez, Kiefer Sutherland, Lou Diamond...   \n",
       "35  Alia Shawkat, John Magaro, Dylan Smith, Ryan F...   \n",
       "36  Idris Elba, Matthew McConaughey, Tom Taylor, D...   \n",
       "37  Johnny Depp, Armie Hammer, William Fichtner, T...   \n",
       "38  John Wayne, Robert Mitchum, James Caan, Charle...   \n",
       "39  John Travolta, Debra Winger, Scott Glenn, Mado...   \n",
       "40  Elizabeth Taylor, Rock Hudson, James Dean, Car...   \n",
       "41  Nicole Kidman, Hugh Jackman, Shea Adams, Eddie...   \n",
       "42  Kevin Costner, Dennis Quaid, Gene Hackman, Dav...   \n",
       "43  Esther Purves-Smith, Kiefer Sutherland, Donald...   \n",
       "44  John Wayne, Jeffrey Hunter, Vera Miles, Ward Bond   \n",
       "45  Ed Harris, Viggo Mortensen, Renée Zellweger, J...   \n",
       "46  Matt Damon, James Cromwell, Daniel Studi, Chop...   \n",
       "47  Seth MacFarlane, Charlize Theron, Liam Neeson,...   \n",
       "48  Will Smith, Kevin Kline, Kenneth Branagh, Salm...   \n",
       "49  Clint Eastwood, Michael Moriarty, Carrie Snodg...   \n",
       "\n",
       "                          directors      year  \n",
       "0                   Paul Greengrass       202  \n",
       "1                 Quentin Tarantino       201  \n",
       "2   George P. Cosmatos, Kevin Jarre       199  \n",
       "3                     Kevin Costner       199  \n",
       "4                 Quentin Tarantino       201  \n",
       "5                         Sam Raimi       199  \n",
       "6             Alejandro G. Iñárritu       201  \n",
       "7                     Antoine Fuqua       201  \n",
       "8             Ethan Coen, Joel Coen       201  \n",
       "9                    Clint Eastwood       199  \n",
       "10                     Sergio Leone       196  \n",
       "11                       Mel Brooks       197  \n",
       "12                   Gore Verbinski       201  \n",
       "13            Ethan Coen, Joel Coen       201  \n",
       "14                  Jacques Audiard       201  \n",
       "15                     Edward Zwick       199  \n",
       "16                       Chloé Zhao       201  \n",
       "17                  David Mackenzie  II) (201  \n",
       "18                 Christopher Cain       198  \n",
       "19                    Kevin Costner       200  \n",
       "20                     Scott Cooper       201  \n",
       "21                  Lawrence Kasdan       198  \n",
       "22                   Andrew Dominik       200  \n",
       "23                     Sergio Leone       196  \n",
       "24                     John Sturges       196  \n",
       "25                    James Mangold       200  \n",
       "26                      John Huston       194  \n",
       "27                       Ron Howard   I) (200  \n",
       "28                  Robert Zemeckis       199  \n",
       "29                    Ron Underwood       199  \n",
       "30                  S. Craig Zahler       201  \n",
       "31                      Jon Favreau       201  \n",
       "32                  Martin Campbell       199  \n",
       "33                  George Roy Hill       196  \n",
       "34                     Geoff Murphy       199  \n",
       "35                  Kelly Reichardt       201  \n",
       "36                    Nikolaj Arcel       201  \n",
       "37                   Gore Verbinski       201  \n",
       "38                     Howard Hawks       196  \n",
       "39                    James Bridges       198  \n",
       "40                   George Stevens       195  \n",
       "41                     Baz Luhrmann       200  \n",
       "42                  Lawrence Kasdan       199  \n",
       "43                       Jon Cassar   I) (201  \n",
       "44                        John Ford       195  \n",
       "45                        Ed Harris       200  \n",
       "46         Kelly Asbury, Lorna Cook       200  \n",
       "47                  Seth MacFarlane       201  \n",
       "48                 Barry Sonnenfeld       199  \n",
       "49                   Clint Eastwood       198  "
      ],
      "text/html": "<div>\n<style scoped>\n    .dataframe tbody tr th:only-of-type {\n        vertical-align: middle;\n    }\n\n    .dataframe tbody tr th {\n        vertical-align: top;\n    }\n\n    .dataframe thead th {\n        text-align: right;\n    }\n</style>\n<table border=\"1\" class=\"dataframe\">\n  <thead>\n    <tr style=\"text-align: right;\">\n      <th></th>\n      <th>title</th>\n      <th>actors</th>\n      <th>directors</th>\n      <th>year</th>\n    </tr>\n  </thead>\n  <tbody>\n    <tr>\n      <th>0</th>\n      <td>Notizie dal mondo</td>\n      <td>Tom Hanks, Helena Zengel, Tom Astor, Travis Jo...</td>\n      <td>Paul Greengrass</td>\n      <td>202</td>\n    </tr>\n    <tr>\n      <th>1</th>\n      <td>Django Unchained</td>\n      <td>Jamie Foxx, Christoph Waltz, Leonardo DiCaprio...</td>\n      <td>Quentin Tarantino</td>\n      <td>201</td>\n    </tr>\n    <tr>\n      <th>2</th>\n      <td>Tombstone</td>\n      <td>Kurt Russell, Val Kilmer, Sam Elliott, Bill Pa...</td>\n      <td>George P. Cosmatos, Kevin Jarre</td>\n      <td>199</td>\n    </tr>\n    <tr>\n      <th>3</th>\n      <td>Balla coi lupi</td>\n      <td>Kevin Costner, Mary McDonnell, Graham Greene, ...</td>\n      <td>Kevin Costner</td>\n      <td>199</td>\n    </tr>\n    <tr>\n      <th>4</th>\n      <td>The Hateful Eight</td>\n      <td>Samuel L. Jackson, Kurt Russell, Jennifer Jaso...</td>\n      <td>Quentin Tarantino</td>\n      <td>201</td>\n    </tr>\n    <tr>\n      <th>5</th>\n      <td>Pronti a morire</td>\n      <td>Sharon Stone, Gene Hackman, Russell Crowe, Leo...</td>\n      <td>Sam Raimi</td>\n      <td>199</td>\n    </tr>\n    <tr>\n      <th>6</th>\n      <td>Revenant - Redivivo</td>\n      <td>Leonardo DiCaprio, Tom Hardy, Will Poulter, Do...</td>\n      <td>Alejandro G. Iñárritu</td>\n      <td>201</td>\n    </tr>\n    <tr>\n      <th>7</th>\n      <td>I magnifici 7</td>\n      <td>Denzel Washington, Chris Pratt, Ethan Hawke, V...</td>\n      <td>Antoine Fuqua</td>\n      <td>201</td>\n    </tr>\n    <tr>\n      <th>8</th>\n      <td>Il Grinta</td>\n      <td>Jeff Bridges, Matt Damon, Hailee Steinfeld, Jo...</td>\n      <td>Ethan Coen, Joel Coen</td>\n      <td>201</td>\n    </tr>\n    <tr>\n      <th>9</th>\n      <td>Gli spietati</td>\n      <td>Clint Eastwood, Gene Hackman, Morgan Freeman, ...</td>\n      <td>Clint Eastwood</td>\n      <td>199</td>\n    </tr>\n    <tr>\n      <th>10</th>\n      <td>C'era una volta il West</td>\n      <td>Henry Fonda, Charles Bronson, Claudia Cardinal...</td>\n      <td>Sergio Leone</td>\n      <td>196</td>\n    </tr>\n    <tr>\n      <th>11</th>\n      <td>Mezzogiorno e mezzo di fuoco</td>\n      <td>Cleavon Little, Gene Wilder, Slim Pickens, Har...</td>\n      <td>Mel Brooks</td>\n      <td>197</td>\n    </tr>\n    <tr>\n      <th>12</th>\n      <td>Rango</td>\n      <td>Johnny Depp, Isla Fisher, Timothy Olyphant, Ab...</td>\n      <td>Gore Verbinski</td>\n      <td>201</td>\n    </tr>\n    <tr>\n      <th>13</th>\n      <td>La ballata di Buster Scruggs</td>\n      <td>Tim Blake Nelson, Willie Watson, Clancy Brown,...</td>\n      <td>Ethan Coen, Joel Coen</td>\n      <td>201</td>\n    </tr>\n    <tr>\n      <th>14</th>\n      <td>I fratelli Sisters</td>\n      <td>John C. Reilly, Joaquin Phoenix, Jake Gyllenha...</td>\n      <td>Jacques Audiard</td>\n      <td>201</td>\n    </tr>\n    <tr>\n      <th>15</th>\n      <td>Vento di passioni</td>\n      <td>Brad Pitt, Anthony Hopkins, Aidan Quinn, Julia...</td>\n      <td>Edward Zwick</td>\n      <td>199</td>\n    </tr>\n    <tr>\n      <th>16</th>\n      <td>The Rider - Il sogno di un cowboy</td>\n      <td>Brady Jandreau, Mooney, Tim Jandreau, Lilly Ja...</td>\n      <td>Chloé Zhao</td>\n      <td>201</td>\n    </tr>\n    <tr>\n      <th>17</th>\n      <td>Hell or High Water</td>\n      <td>Chris Pine, Ben Foster, Jeff Bridges, Gil Birm...</td>\n      <td>David Mackenzie</td>\n      <td>II) (201</td>\n    </tr>\n    <tr>\n      <th>18</th>\n      <td>Young Guns - Giovani pistole</td>\n      <td>Emilio Estevez, Kiefer Sutherland, Lou Diamond...</td>\n      <td>Christopher Cain</td>\n      <td>198</td>\n    </tr>\n    <tr>\n      <th>19</th>\n      <td>Terra di confine - Open Range</td>\n      <td>Kevin Costner, Robert Duvall, Diego Luna, Abra...</td>\n      <td>Kevin Costner</td>\n      <td>200</td>\n    </tr>\n    <tr>\n      <th>20</th>\n      <td>Hostiles: Ostili</td>\n      <td>Scott Shepherd, Rosamund Pike, Ava Cooper, Ste...</td>\n      <td>Scott Cooper</td>\n      <td>201</td>\n    </tr>\n    <tr>\n      <th>21</th>\n      <td>Silverado</td>\n      <td>Kevin Kline, Scott Glenn, Kevin Costner, Danny...</td>\n      <td>Lawrence Kasdan</td>\n      <td>198</td>\n    </tr>\n    <tr>\n      <th>22</th>\n      <td>L'assassinio di Jesse James per mano del codar...</td>\n      <td>Brad Pitt, Casey Affleck, Sam Shepard, Mary-Lo...</td>\n      <td>Andrew Dominik</td>\n      <td>200</td>\n    </tr>\n    <tr>\n      <th>23</th>\n      <td>Per qualche dollaro in più</td>\n      <td>Clint Eastwood, Lee Van Cleef, Gian Maria Volo...</td>\n      <td>Sergio Leone</td>\n      <td>196</td>\n    </tr>\n    <tr>\n      <th>24</th>\n      <td>I magnifici sette</td>\n      <td>Yul Brynner, Steve McQueen, Charles Bronson, E...</td>\n      <td>John Sturges</td>\n      <td>196</td>\n    </tr>\n    <tr>\n      <th>25</th>\n      <td>Quel treno per Yuma</td>\n      <td>Russell Crowe, Christian Bale, Ben Foster, Log...</td>\n      <td>James Mangold</td>\n      <td>200</td>\n    </tr>\n    <tr>\n      <th>26</th>\n      <td>Il tesoro della Sierra Madre</td>\n      <td>Humphrey Bogart, Walter Huston, Tim Holt, Bruc...</td>\n      <td>John Huston</td>\n      <td>194</td>\n    </tr>\n    <tr>\n      <th>27</th>\n      <td>The Missing</td>\n      <td>Tommy Lee Jones, Cate Blanchett, Evan Rachel W...</td>\n      <td>Ron Howard</td>\n      <td>I) (200</td>\n    </tr>\n    <tr>\n      <th>28</th>\n      <td>Ritorno al futuro - Parte III</td>\n      <td>Michael J. Fox, Christopher Lloyd, Mary Steenb...</td>\n      <td>Robert Zemeckis</td>\n      <td>199</td>\n    </tr>\n    <tr>\n      <th>29</th>\n      <td>Scappo dalla città - La vita, l'amore e le vacche</td>\n      <td>Billy Crystal, Jack Palance, Daniel Stern, Bru...</td>\n      <td>Ron Underwood</td>\n      <td>199</td>\n    </tr>\n    <tr>\n      <th>30</th>\n      <td>Bone Tomahawk</td>\n      <td>Kurt Russell, Patrick Wilson, Matthew Fox, Ric...</td>\n      <td>S. Craig Zahler</td>\n      <td>201</td>\n    </tr>\n    <tr>\n      <th>31</th>\n      <td>Cowboys &amp; Aliens</td>\n      <td>Daniel Craig, Harrison Ford, Olivia Wilde, Abi...</td>\n      <td>Jon Favreau</td>\n      <td>201</td>\n    </tr>\n    <tr>\n      <th>32</th>\n      <td>La maschera di Zorro</td>\n      <td>Antonio Banderas, Anthony Hopkins, Catherine Z...</td>\n      <td>Martin Campbell</td>\n      <td>199</td>\n    </tr>\n    <tr>\n      <th>33</th>\n      <td>Butch Cassidy</td>\n      <td>Paul Newman, Robert Redford, Katharine Ross, S...</td>\n      <td>George Roy Hill</td>\n      <td>196</td>\n    </tr>\n    <tr>\n      <th>34</th>\n      <td>Young Guns II - La leggenda di Billy the Kid</td>\n      <td>Emilio Estevez, Kiefer Sutherland, Lou Diamond...</td>\n      <td>Geoff Murphy</td>\n      <td>199</td>\n    </tr>\n    <tr>\n      <th>35</th>\n      <td>First Cow</td>\n      <td>Alia Shawkat, John Magaro, Dylan Smith, Ryan F...</td>\n      <td>Kelly Reichardt</td>\n      <td>201</td>\n    </tr>\n    <tr>\n      <th>36</th>\n      <td>La torre nera</td>\n      <td>Idris Elba, Matthew McConaughey, Tom Taylor, D...</td>\n      <td>Nikolaj Arcel</td>\n      <td>201</td>\n    </tr>\n    <tr>\n      <th>37</th>\n      <td>The Lone Ranger</td>\n      <td>Johnny Depp, Armie Hammer, William Fichtner, T...</td>\n      <td>Gore Verbinski</td>\n      <td>201</td>\n    </tr>\n    <tr>\n      <th>38</th>\n      <td>El Dorado</td>\n      <td>John Wayne, Robert Mitchum, James Caan, Charle...</td>\n      <td>Howard Hawks</td>\n      <td>196</td>\n    </tr>\n    <tr>\n      <th>39</th>\n      <td>Urban Cowboy</td>\n      <td>John Travolta, Debra Winger, Scott Glenn, Mado...</td>\n      <td>James Bridges</td>\n      <td>198</td>\n    </tr>\n    <tr>\n      <th>40</th>\n      <td>Il gigante</td>\n      <td>Elizabeth Taylor, Rock Hudson, James Dean, Car...</td>\n      <td>George Stevens</td>\n      <td>195</td>\n    </tr>\n    <tr>\n      <th>41</th>\n      <td>Australia</td>\n      <td>Nicole Kidman, Hugh Jackman, Shea Adams, Eddie...</td>\n      <td>Baz Luhrmann</td>\n      <td>200</td>\n    </tr>\n    <tr>\n      <th>42</th>\n      <td>Wyatt Earp</td>\n      <td>Kevin Costner, Dennis Quaid, Gene Hackman, Dav...</td>\n      <td>Lawrence Kasdan</td>\n      <td>199</td>\n    </tr>\n    <tr>\n      <th>43</th>\n      <td>Il fuoco della giustizia</td>\n      <td>Esther Purves-Smith, Kiefer Sutherland, Donald...</td>\n      <td>Jon Cassar</td>\n      <td>I) (201</td>\n    </tr>\n    <tr>\n      <th>44</th>\n      <td>Sentieri selvaggi</td>\n      <td>John Wayne, Jeffrey Hunter, Vera Miles, Ward Bond</td>\n      <td>John Ford</td>\n      <td>195</td>\n    </tr>\n    <tr>\n      <th>45</th>\n      <td>Appaloosa</td>\n      <td>Ed Harris, Viggo Mortensen, Renée Zellweger, J...</td>\n      <td>Ed Harris</td>\n      <td>200</td>\n    </tr>\n    <tr>\n      <th>46</th>\n      <td>Spirit - Cavallo selvaggio</td>\n      <td>Matt Damon, James Cromwell, Daniel Studi, Chop...</td>\n      <td>Kelly Asbury, Lorna Cook</td>\n      <td>200</td>\n    </tr>\n    <tr>\n      <th>47</th>\n      <td>Un milione di modi per morire nel West</td>\n      <td>Seth MacFarlane, Charlize Theron, Liam Neeson,...</td>\n      <td>Seth MacFarlane</td>\n      <td>201</td>\n    </tr>\n    <tr>\n      <th>48</th>\n      <td>Wild Wild West</td>\n      <td>Will Smith, Kevin Kline, Kenneth Branagh, Salm...</td>\n      <td>Barry Sonnenfeld</td>\n      <td>199</td>\n    </tr>\n    <tr>\n      <th>49</th>\n      <td>Il cavaliere pallido</td>\n      <td>Clint Eastwood, Michael Moriarty, Carrie Snodg...</td>\n      <td>Clint Eastwood</td>\n      <td>198</td>\n    </tr>\n  </tbody>\n</table>\n</div>"
     },
     "metadata": {},
     "execution_count": 33
    }
   ],
   "source": [
    "df = pd.DataFrame({'title': list_of_titles, 'actors': list_of_actors, 'directors': list_of_directors, 'year': list_of_years})\n",
    "df"
   ]
  },
  {
   "cell_type": "code",
   "execution_count": null,
   "metadata": {},
   "outputs": [],
   "source": []
  }
 ],
 "metadata": {
  "kernelspec": {
   "name": "python388jvsc74a57bd036d735e4d74651b5843b8bf8671694cee2df4263d27e1ed8e6896ce3326ae1ff",
   "display_name": "Python 3.8.8 64-bit ('Strive': conda)"
  },
  "language_info": {
   "codemirror_mode": {
    "name": "ipython",
    "version": 2
   },
   "file_extension": ".py",
   "mimetype": "text/x-python",
   "name": "python",
   "nbconvert_exporter": "python",
   "pygments_lexer": "ipython2",
   "version": "3.8.8-final"
  },
  "metadata": {
   "interpreter": {
    "hash": "36d735e4d74651b5843b8bf8671694cee2df4263d27e1ed8e6896ce3326ae1ff"
   }
  }
 },
 "nbformat": 4,
 "nbformat_minor": 0
}