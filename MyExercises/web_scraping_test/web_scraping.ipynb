{
 "cells": [
  {
   "cell_type": "code",
   "execution_count": 23,
   "metadata": {
    "collapsed": true
   },
   "outputs": [],
   "source": [
    "import pandas as pd\n",
    "import numpy as np\n",
    "import requests as rq\n",
    "from bs4 import BeautifulSoup"
   ]
  },
  {
   "cell_type": "code",
   "execution_count": 24,
   "metadata": {},
   "outputs": [],
   "source": [
    "def replacer(list_ : list, to_replace: dict):\n",
    "    for key in to_replace:\n",
    "        list_ = list_.replace(key, to_replace[key])\n",
    "\n",
    "    return list_"
   ]
  },
  {
   "cell_type": "code",
   "execution_count": 34,
   "outputs": [],
   "source": [
    "# defining the lists\n",
    "list_of_directors = []\n",
    "list_of_actors = []\n",
    "list_of_titles = []\n",
    "list_of_years = []\n",
    "list_of_metascore = []\n",
    "list_of_ratings = []\n",
    "list_of_votes = []\n",
    "list_of_gross = []\n",
    "\n",
    "\n",
    "\n",
    "# Movies from 1 to 50\n",
    "page = rq.get('https://www.imdb.com/search/title/?title_type=feature&num_votes=10000,&genres=western&languages=en&explore=genres')\n",
    "\n",
    "page_content = BeautifulSoup(page.content, 'html.parser')\n",
    "\n",
    "maindiv = page_content.find_all('div',class_=\"lister-item-content\")\n",
    "for movie in maindiv:\n",
    "\n",
    "    # getting the Director(s) and Stars name\n",
    "    names = movie.find_all('p')[2].text\n",
    "    names = replacer(names, {'\\n': '', 'Stars:': '', 'Directors:': '', 'Director:': ''})\n",
    "    names = names.split('|')\n",
    "\n",
    "    # Director(s) and Stars are in a list with 2 elements: first is Director(s), second is Stars\n",
    "    list_of_directors.append(names[0])\n",
    "    list_of_actors.append(names[len(names) - 1])\n",
    "\n",
    "    # getting the years\n",
    "    year = movie.find_all('span', class_=\"lister-item-year text-muted unbold\")[0].text\n",
    "    list_of_years.append(year[-5:-1])\n",
    "\n",
    "    # getting the titles\n",
    "    title = movie.find_all('a')[0].text\n",
    "    list_of_titles.append(title)\n",
    "\n",
    "    # getting the rating\n",
    "    rating = movie.find_all('strong')[0].text\n",
    "    list_of_ratings.append(rating)\n",
    "\n",
    "    # getting the number of votes and the Gross\n",
    "    values = movie.find_all('p', class_='sort-num_votes-visible')[0].text\n",
    "    values = replacer(values, {'Votes:': \"\", ' Gross:': \"\", '$': \"\", 'M': \"\", \"\\n\": ''})\n",
    "    values = values.split('|')\n",
    "    list_of_votes.append(values[0])\n",
    "    if len(values) > 1:\n",
    "        list_of_gross.append(values[1])\n",
    "    else:\n",
    "        list_of_gross.append(np.nan)\n",
    "    # list_of_votes.append(span.text)\n",
    "\n",
    "\n",
    "#movies from 51 to 100\n",
    "page = rq.get('https://www.imdb.com/search/title/?title_type=feature&num_votes=10000,&genres=western&languages=en&start=51&explore=genres')\n",
    "\n",
    "page_content = BeautifulSoup(page.content, 'html.parser')\n",
    "\n",
    "maindiv = page_content.find_all('div',class_=\"lister-item-content\")\n",
    "for movie in maindiv:\n",
    "\n",
    "    # getting the Director(s) and Stars name\n",
    "    names = movie.find_all('p')[2].text\n",
    "    names = replacer(names, {'\\n': '', 'Stars:': '', 'Directors:': '', 'Director:': ''})\n",
    "    names = names.split('|')\n",
    "\n",
    "    # Director(s) and Stars are in a list with 2 elements: first is Director(s), second is Stars\n",
    "    list_of_directors.append(names[0])\n",
    "    list_of_actors.append(names[len(names) - 1])\n",
    "\n",
    "    # getting the years\n",
    "    year = movie.find_all('span', class_=\"lister-item-year text-muted unbold\")[0].text\n",
    "    list_of_years.append(year[-5:-1])\n",
    "\n",
    "    # getting the titles\n",
    "    title = movie.find_all('a')[0].text\n",
    "    list_of_titles.append(title)\n",
    "\n",
    "    # getting the rating\n",
    "    rating = movie.find_all('strong')[0].text\n",
    "    list_of_ratings.append(rating)\n",
    "\n",
    "    # getting the number of votes and the Gross\n",
    "    values = movie.find_all('p', class_='sort-num_votes-visible')[0].text\n",
    "    values = replacer(values, {'Votes:': \"\", ' Gross:': \"\", '$': \"\", 'M': \"\", \"\\n\": ''})\n",
    "    values = values.split('|')\n",
    "    list_of_votes.append(values[0])\n",
    "    if len(values) > 1:\n",
    "        list_of_gross.append(values[1])\n",
    "    else:\n",
    "        list_of_gross.append(np.nan)\n",
    "    # list_of_votes.append(span.text)\n",
    "\n",
    "\n",
    "# cleaning the lists\n",
    "list_of_actors = [actors.strip(\"    \") for actors in list_of_actors]\n",
    "list_of_directors = [director.strip(\"    \") for director in list_of_directors]\n",
    "# print(votes)\n",
    "# print(len(votes))\n",
    "# print(type(votes))\n",
    "# print(type(names))\n"
   ],
   "metadata": {
    "collapsed": false,
    "pycharm": {
     "name": "#%%\n"
    }
   }
  },
  {
   "cell_type": "code",
   "execution_count": 35,
   "metadata": {},
   "outputs": [
    {
     "output_type": "stream",
     "name": "stdout",
     "text": [
      "['Tom Hanks, Helena Zengel, Tom Astor, Travis Johnson', 'Jamie Foxx, Christoph Waltz, Leonardo DiCaprio, Kerry Washington', 'Kurt Russell, Val Kilmer, Sam Elliott, Bill Paxton', 'Kevin Costner, Mary McDonnell, Graham Greene, Rodney A. Grant', 'Samuel L. Jackson, Kurt Russell, Jennifer Jason Leigh, Walton Goggins', 'Sharon Stone, Gene Hackman, Russell Crowe, Leonardo DiCaprio', 'Leonardo DiCaprio, Tom Hardy, Will Poulter, Domhnall Gleeson', \"Denzel Washington, Chris Pratt, Ethan Hawke, Vincent D'Onofrio\", 'Jeff Bridges, Matt Damon, Hailee Steinfeld, Josh Brolin', 'Clint Eastwood, Gene Hackman, Morgan Freeman, Richard Harris', 'Henry Fonda, Charles Bronson, Claudia Cardinale, Jason Robards', 'Cleavon Little, Gene Wilder, Slim Pickens, Harvey Korman', 'Johnny Depp, Isla Fisher, Timothy Olyphant, Abigail Breslin', 'Tim Blake Nelson, Willie Watson, Clancy Brown, Danny McCarthy', 'John C. Reilly, Joaquin Phoenix, Jake Gyllenhaal, Riz Ahmed', 'Brad Pitt, Anthony Hopkins, Aidan Quinn, Julia Ormond', 'Brady Jandreau, Mooney, Tim Jandreau, Lilly Jandreau', 'Chris Pine, Ben Foster, Jeff Bridges, Gil Birmingham', 'Emilio Estevez, Kiefer Sutherland, Lou Diamond Phillips, Charlie Sheen', 'Kevin Costner, Robert Duvall, Diego Luna, Abraham Benrubi', 'Scott Shepherd, Rosamund Pike, Ava Cooper, Stella Cooper', 'Kevin Kline, Scott Glenn, Kevin Costner, Danny Glover', 'Brad Pitt, Casey Affleck, Sam Shepard, Mary-Louise Parker', 'Clint Eastwood, Lee Van Cleef, Gian Maria Volontè, Mara Krupp', 'Yul Brynner, Steve McQueen, Charles Bronson, Eli Wallach', 'Russell Crowe, Christian Bale, Ben Foster, Logan Lerman', 'Humphrey Bogart, Walter Huston, Tim Holt, Bruce Bennett', 'Tommy Lee Jones, Cate Blanchett, Evan Rachel Wood, Jenna Boyd', 'Michael J. Fox, Christopher Lloyd, Mary Steenburgen, Thomas F. Wilson', 'Billy Crystal, Jack Palance, Daniel Stern, Bruno Kirby', 'Kurt Russell, Patrick Wilson, Matthew Fox, Richard Jenkins', 'Daniel Craig, Harrison Ford, Olivia Wilde, Abigail Spencer', 'Antonio Banderas, Anthony Hopkins, Catherine Zeta-Jones, José María de Tavira', 'Paul Newman, Robert Redford, Katharine Ross, Strother Martin', 'Emilio Estevez, Kiefer Sutherland, Lou Diamond Phillips, Christian Slater', 'Alia Shawkat, John Magaro, Dylan Smith, Ryan Findley', 'Idris Elba, Matthew McConaughey, Tom Taylor, Dennis Haysbert', 'Johnny Depp, Armie Hammer, William Fichtner, Tom Wilkinson', 'John Wayne, Robert Mitchum, James Caan, Charlene Holt', 'John Travolta, Debra Winger, Scott Glenn, Madolyn Smith Osborne', 'Elizabeth Taylor, Rock Hudson, James Dean, Carroll Baker', 'Nicole Kidman, Hugh Jackman, Shea Adams, Eddie Baroo', 'Kevin Costner, Dennis Quaid, Gene Hackman, David Andrews', 'Esther Purves-Smith, Kiefer Sutherland, Donald Sutherland, Lex Cassar', 'John Wayne, Jeffrey Hunter, Vera Miles, Ward Bond', 'Ed Harris, Viggo Mortensen, Renée Zellweger, Jeremy Irons', 'Matt Damon, James Cromwell, Daniel Studi, Chopper Bernet', 'Seth MacFarlane, Charlize Theron, Liam Neeson, Amanda Seyfried', 'Will Smith, Kevin Kline, Kenneth Branagh, Salma Hayek', 'Clint Eastwood, Michael Moriarty, Carrie Snodgress, Sydney Penny', 'Sophie Thatcher, Jay Duplass, Pedro Pascal, Luke Pitzrick', 'Gary Cooper, Grace Kelly, Thomas Mitchell, Lloyd Bridges', 'Josh Brolin, Megan Fox, John Malkovich, Michael Fassbender', 'John Wayne, Dean Martin, Ricky Nelson, Angie Dickinson', 'Matthew McConaughey, Gugu Mbatha-Raw, Mahershala Ali, Keri Russell', 'Adam Sandler, Terry Crews, Jorge Garcia, Taylor Lautner', \"William Holden, Ernest Borgnine, Robert Ryan, Edmond O'Brien\", 'Gregory Peck, Jean Simmons, Carroll Baker, Charlton Heston', 'Tommy Lee Jones, Hilary Swank, Grace Gummer, Miranda Otto', 'Jackie Chan, Owen Wilson, Lucy Liu, Brandon Merrill', 'Bárbara Colen, Thomas Aquino, Silvero Pereira, Thardelly Lima', 'Clint Eastwood, Verna Bloom, Marianna Hill, Mitchell Ryan', \"John Wayne, Richard Boone, Maureen O'Hara, Patrick Wayne\", 'Guy Pearce, Dakota Fanning, Emilia Jones, Carice van Houten', 'Steve Martin, Chevy Chase, Martin Short, Alfonso Arau', \"John Wayne, Maureen O'Hara, Patrick Wayne, Stefanie Powers\", 'Yul Brynner, Richard Benjamin, James Brolin, Norman Bartold', 'John Wayne, Kim Darby, Glen Campbell, Jeremy Slate', 'Paul Newman, Melvyn Douglas, Patricia Neal, Brandon De Wilde', 'Jane Powell, Howard Keel, Jeff Richards, Russ Tamblyn', 'James Stewart, John Wayne, Vera Miles, Lee Marvin', 'Tom Cruise, Nicole Kidman, Thomas Gibson, Robert Prosky', 'Mads Mikkelsen, Eva Green, Jeffrey Dean Morgan, Eric Cantona', 'Alan Ladd, Jean Arthur, Van Heflin, Brandon De Wilde', 'Clint Eastwood, Sondra Locke, Chief Dan George, Bill McKinney', 'Tom Selleck, Laura San Giacomo, Alan Rickman, Chris Haywood', 'Kodi Smit-McPhee, Caren Pistorius, Aorere Paki, Jeffrey Thomas', 'Mel Gibson, Jodie Foster, James Garner, Graham Greene', 'Natalie Portman, Joel Edgerton, Ewan McGregor, Rodrigo Santoro', 'John Malkovich, Gary Sinise, Ray Walston, Casey Siemaszko', 'Viggo Mortensen, Omar Sharif, Zuleikha Robinson, Louise Lombard', 'Antonio Banderas, Catherine Zeta-Jones, Rufus Sewell, Alberto Reyes', 'Johnny Depp, Gary Farmer, Crispin Glover, Lance Henriksen', 'Jane Fonda, Lee Marvin, Michael Callan, Dwayne Hickman', 'Jackie Chan, Steve Coogan, Jim Broadbent, Kathy Bates', 'James Stewart, John Wayne, Gregory Peck, Henry Fonda', 'John Wayne, Claire Trevor, Andy Devine, John Carradine', 'Robert Redford, Will Geer, Delle Bolton, Josh Albee', 'Tony Curtis, Natalie Wood, Jack Lemmon, Peter Falk', 'Kris Kristofferson, Christopher Walken, John Hurt, Sam Waterston', 'Joel McCrea, Randolph Scott, Mariette Hartley, Ron Starr', \"John Wayne, Jorge Rivero, Jennifer O'Neill, Jack Elam\", 'Clark Gable, Marilyn Monroe, Montgomery Clift, Thelma Ritter', 'Terence Hill, Bud Spencer, Steffen Zacharias, Dan Sturkie', 'Clint Eastwood, Inger Stevens, Pat Hingle, Ed Begley', 'Marlon Brando, Karl Malden, Pina Pellicer, Katy Jurado', 'Dustin Hoffman, Faye Dunaway, Chief Dan George, Martin Balsam', 'John Wayne, Dean Martin, Martha Hyer, Michael Anderson Jr.', 'Rod Steiger, James Coburn, Romolo Valli, Maria Monti', 'Madeleine Stowe, Mary Stuart Masterson, Andie MacDowell, Drew Barrymore']\n\n\n['Paul Greengrass', 'Quentin Tarantino', 'George P. Cosmatos, Kevin Jarre', 'Kevin Costner', 'Quentin Tarantino', 'Sam Raimi', 'Alejandro G. Iñárritu', 'Antoine Fuqua', 'Ethan Coen, Joel Coen', 'Clint Eastwood', 'Sergio Leone', 'Mel Brooks', 'Gore Verbinski', 'Ethan Coen, Joel Coen', 'Jacques Audiard', 'Edward Zwick', 'Chloé Zhao', 'David Mackenzie', 'Christopher Cain', 'Kevin Costner', 'Scott Cooper', 'Lawrence Kasdan', 'Andrew Dominik', 'Sergio Leone', 'John Sturges', 'James Mangold', 'John Huston', 'Ron Howard', 'Robert Zemeckis', 'Ron Underwood', 'S. Craig Zahler', 'Jon Favreau', 'Martin Campbell', 'George Roy Hill', 'Geoff Murphy', 'Kelly Reichardt', 'Nikolaj Arcel', 'Gore Verbinski', 'Howard Hawks', 'James Bridges', 'George Stevens', 'Baz Luhrmann', 'Lawrence Kasdan', 'Jon Cassar', 'John Ford', 'Ed Harris', 'Kelly Asbury, Lorna Cook', 'Seth MacFarlane', 'Barry Sonnenfeld', 'Clint Eastwood', 'Christopher Caldwell, Zeek Earl', 'Fred Zinnemann', 'Jimmy Hayward', 'Howard Hawks', 'Gary Ross', 'Frank Coraci', 'Sam Peckinpah', 'William Wyler', 'Tommy Lee Jones', 'Tom Dey', 'Juliano Dornelles, Kleber Mendonça Filho', 'Clint Eastwood', 'George Sherman, John Wayne', 'Martin Koolhoven', 'John Landis', 'Andrew V. McLaglen', 'Michael Crichton', 'Henry Hathaway', 'Martin Ritt', 'Stanley Donen', 'John Ford', 'Ron Howard', 'Kristian Levring', 'George Stevens', 'Clint Eastwood', 'Simon Wincer', 'John Maclean', 'Richard Donner', \"Gavin O'Connor\", 'Gary Sinise', 'Joe Johnston', 'Martin Campbell', 'Jim Jarmusch', 'Elliot Silverstein', 'Frank Coraci', 'John Ford, Henry Hathaway, George Marshall, Richard Thorpe', 'John Ford', 'Sydney Pollack', 'Blake Edwards', 'Michael Cimino', 'Sam Peckinpah', 'Howard Hawks', 'John Huston', 'Enzo Barboni', 'Ted Post', 'Marlon Brando', 'Arthur Penn', 'Henry Hathaway', 'Sergio Leone', 'Jonathan Kaplan']\n\n\n['2020', '2012', '1993', '1990', '2015', '1995', '2015', '2016', '2010', '1992', '1968', '1974', '2011', '2018', '2018', '1994', '2017', '2016', '1988', '2003', '2017', '1985', '2007', '1965', '1960', '2007', '1948', '2003', '1990', '1991', '2015', '2011', '1998', '1969', '1990', '2019', '2017', '2013', '1966', '1980', '1956', '2008', '1994', '2015', '1956', '2008', '2002', '2014', '1999', '1985', '2018', '1952', '2010', '1959', '2016', '2015', '1969', '1958', '2014', '2000', '2019', '1973', '1971', '2016', '1986', '1963', '1973', '1969', '1963', '1954', '1962', '1992', '2014', '1953', '1976', '1990', '2015', '1994', '2015', '1992', '2004', '2005', '1995', '1965', '2004', '1962', '1939', '1972', '1965', '1980', '1962', '1970', '1961', '1970', '1968', '1961', '1970', '1965', '1971', '1994']\n\n\n['Notizie dal mondo', 'Django Unchained', 'Tombstone', 'Balla coi lupi', 'The Hateful Eight', 'Pronti a morire', 'Revenant - Redivivo', 'I magnifici 7', 'Il Grinta', 'Gli spietati', \"C'era una volta il West\", 'Mezzogiorno e mezzo di fuoco', 'Rango', 'La ballata di Buster Scruggs', 'I fratelli Sisters', 'Vento di passioni', 'The Rider - Il sogno di un cowboy', 'Hell or High Water', 'Young Guns - Giovani pistole', 'Terra di confine - Open Range', 'Hostiles: Ostili', 'Silverado', \"L'assassinio di Jesse James per mano del codardo Robert Ford\", 'Per qualche dollaro in più', 'I magnifici sette', 'Quel treno per Yuma', 'Il tesoro della Sierra Madre', 'The Missing', 'Ritorno al futuro - Parte III', \"Scappo dalla città - La vita, l'amore e le vacche\", 'Bone Tomahawk', 'Cowboys & Aliens', 'La maschera di Zorro', 'Butch Cassidy', 'Young Guns II - La leggenda di Billy the Kid', 'First Cow', 'La torre nera', 'The Lone Ranger', 'El Dorado', 'Urban Cowboy', 'Il gigante', 'Australia', 'Wyatt Earp', 'Il fuoco della giustizia', 'Sentieri selvaggi', 'Appaloosa', 'Spirit - Cavallo selvaggio', 'Un milione di modi per morire nel West', 'Wild Wild West', 'Il cavaliere pallido', 'Prospect', 'Mezzogiorno di fuoco', 'Jonah Hex', 'Un dollaro di onore', 'Free State of Jones', 'The Ridiculous 6', 'Il mucchio selvaggio', 'Il grande Paese', 'The Homesman', 'Pallottole cinesi', 'Bacurau', 'Lo straniero senza nome', 'Il grande Jake', 'Brimstone', 'I tre amigos!', 'McLintock', 'Il mondo dei robot', 'Il Grinta', 'Hud il selvaggio', '7 spose per 7 fratelli', \"L'uomo che uccise Liberty Valance\", 'Cuori ribelli', 'The Salvation', 'Il cavaliere della valle solitaria', 'Il texano dagli occhi di ghiaccio', 'Carabina Quigley', 'Slow West', 'Maverick', 'Jane Got a Gun', 'Uomini e topi', 'Oceano di fuoco - Hidalgo', 'The Legend of Zorro', 'Dead Man', 'Cat Ballou', 'Il giro del mondo in 80 giorni', 'La conquista del West', 'Ombre rosse', 'Corvo Rosso non avrai il mio scalpo!', 'La grande corsa', 'I cancelli del cielo', \"Sfida nell'alta Sierra\", 'Rio Lobo', 'Gli spostati', 'Lo chiamavano Trinità...', 'Impiccalo più in alto', 'I due volti della vendetta', 'Piccolo grande uomo', 'I quattro figli di Katie Elder', 'Giù la testa', 'Bad Girls']\n\n\n['6.8', '8.4', '7.8', '8.0', '7.8', '6.5', '8.0', '6.9', '7.6', '8.2', '8.5', '7.7', '7.2', '7.3', '7.0', '7.6', '7.4', '7.6', '6.9', '7.4', '7.2', '7.2', '7.5', '8.2', '7.7', '7.7', '8.2', '6.5', '7.4', '6.8', '7.1', '6.0', '6.7', '8.0', '6.6', '7.1', '5.6', '6.4', '7.6', '6.4', '7.6', '6.6', '6.7', '6.3', '7.9', '6.7', '7.2', '6.1', '5.0', '7.3', '6.3', '7.9', '4.7', '8.0', '6.9', '4.8', '7.9', '7.9', '6.6', '6.6', '7.4', '7.5', '7.2', '7.1', '6.5', '7.2', '7.0', '7.4', '7.8', '7.4', '8.1', '6.6', '6.7', '7.6', '7.8', '6.9', '6.9', '7.1', '5.9', '7.5', '6.7', '6.0', '7.6', '6.8', '5.9', '7.1', '7.8', '7.6', '7.3', '6.8', '7.5', '6.8', '7.2', '7.5', '7.0', '7.1', '7.6', '7.2', '7.6', '5.2']\n\n\n['55,453', '1,377,619', '128,896', '243,507', '526,087', '86,703', '715,828', '187,062', '315,242', '380,095', '306,058', '127,226', '239,937', '125,814', '56,315', '151,325', '15,233', '206,871', '55,366', '67,398', '73,791', '39,247', '170,927', '235,455', '88,482', '291,666', '115,508', '33,551', '409,854', '48,991', '88,304', '209,059', '170,549', '203,173', '31,475', '10,600', '129,643', '223,168', '24,654', '13,529', '34,545', '119,868', '46,087', '10,689', '81,226', '58,712', '66,680', '178,722', '153,925', '53,743', '22,449', '98,135', '55,823', '56,906', '53,497', '45,049', '78,034', '16,056', '31,074', '120,196', '22,058', '50,530', '11,566', '37,137', '69,035', '13,294', '53,044', '42,761', '19,857', '21,539', '69,618', '59,560', '36,654', '37,429', '66,300', '20,286', '43,235', '102,549', '20,986', '40,836', '77,756', '93,898', '91,255', '13,631', '85,776', '18,943', '44,338', '28,962', '16,313', '13,895', '12,233', '11,014', '17,494', '20,192', '35,795', '10,286', '33,100', '14,765', '30,533', '11,763']\n\n\n[nan, '162.81', '56.51', '184.21', '54.12', '18.64', '183.64', '93.43', '171.24', '101.16', '5.32', '119.50', '123.48', nan, '3.14', '66.64', '2.42', '26.86', '45.66', '58.33', '29.82', '33.20', '3.90', '15.00', '4.91', '53.61', '5.01', '26.90', '87.73', '124.03', nan, '100.24', '94.10', '102.31', '44.14', nan, '50.70', '89.30', '12.97', '53.30', nan, '49.55', '25.05', nan, nan, '20.21', '73.28', '43.14', '113.81', '41.41', nan, '9.45', '10.54', '12.54', '20.76', nan, '12.06', nan, '2.43', '56.94', nan, '15.70', '16.35', nan, '39.25', nan, '16.06', '31.13', '10.00', '9.40', nan, '58.88', '0.01', '20.00', '31.80', '21.41', '0.23', '101.63', '1.51', '5.10', '67.29', '46.46', '1.04', '20.67', '24.01', '46.50', nan, '47.74', '25.33', '3.48', nan, '9.27', '8.94', nan, nan, nan, '31.56', '13.33', '0.70', '15.24']\n"
     ]
    }
   ],
   "source": [
    "print(list_of_actors)\n",
    "print('\\n')\n",
    "print(list_of_directors)\n",
    "print('\\n')\n",
    "print(list_of_years)\n",
    "print('\\n')\n",
    "print(list_of_titles)\n",
    "print('\\n')\n",
    "print(list_of_ratings)\n",
    "print('\\n')\n",
    "print(list_of_votes)\n",
    "print('\\n')\n",
    "print(list_of_gross)"
   ]
  },
  {
   "cell_type": "code",
   "execution_count": 36,
   "metadata": {},
   "outputs": [
    {
     "output_type": "execute_result",
     "data": {
      "text/plain": [
       "                             title ratings  \\\n",
       "0                Notizie dal mondo     6.8   \n",
       "1                 Django Unchained     8.4   \n",
       "2                        Tombstone     7.8   \n",
       "3                   Balla coi lupi     8.0   \n",
       "4                The Hateful Eight     7.8   \n",
       "..                             ...     ...   \n",
       "95      I due volti della vendetta     7.1   \n",
       "96             Piccolo grande uomo     7.6   \n",
       "97  I quattro figli di Katie Elder     7.2   \n",
       "98                    Giù la testa     7.6   \n",
       "99                       Bad Girls     5.2   \n",
       "\n",
       "                                               actors  \\\n",
       "0   Tom Hanks, Helena Zengel, Tom Astor, Travis Jo...   \n",
       "1   Jamie Foxx, Christoph Waltz, Leonardo DiCaprio...   \n",
       "2   Kurt Russell, Val Kilmer, Sam Elliott, Bill Pa...   \n",
       "3   Kevin Costner, Mary McDonnell, Graham Greene, ...   \n",
       "4   Samuel L. Jackson, Kurt Russell, Jennifer Jaso...   \n",
       "..                                                ...   \n",
       "95  Marlon Brando, Karl Malden, Pina Pellicer, Kat...   \n",
       "96  Dustin Hoffman, Faye Dunaway, Chief Dan George...   \n",
       "97  John Wayne, Dean Martin, Martha Hyer, Michael ...   \n",
       "98  Rod Steiger, James Coburn, Romolo Valli, Maria...   \n",
       "99  Madeleine Stowe, Mary Stuart Masterson, Andie ...   \n",
       "\n",
       "                          directors  year      votes gross ($, in M)  \n",
       "0                   Paul Greengrass  2020     55,453             NaN  \n",
       "1                 Quentin Tarantino  2012  1,377,619          162.81  \n",
       "2   George P. Cosmatos, Kevin Jarre  1993    128,896           56.51  \n",
       "3                     Kevin Costner  1990    243,507          184.21  \n",
       "4                 Quentin Tarantino  2015    526,087           54.12  \n",
       "..                              ...   ...        ...             ...  \n",
       "95                    Marlon Brando  1961     10,286             NaN  \n",
       "96                      Arthur Penn  1970     33,100           31.56  \n",
       "97                   Henry Hathaway  1965     14,765           13.33  \n",
       "98                     Sergio Leone  1971     30,533            0.70  \n",
       "99                  Jonathan Kaplan  1994     11,763           15.24  \n",
       "\n",
       "[100 rows x 7 columns]"
      ],
      "text/html": "<div>\n<style scoped>\n    .dataframe tbody tr th:only-of-type {\n        vertical-align: middle;\n    }\n\n    .dataframe tbody tr th {\n        vertical-align: top;\n    }\n\n    .dataframe thead th {\n        text-align: right;\n    }\n</style>\n<table border=\"1\" class=\"dataframe\">\n  <thead>\n    <tr style=\"text-align: right;\">\n      <th></th>\n      <th>title</th>\n      <th>ratings</th>\n      <th>actors</th>\n      <th>directors</th>\n      <th>year</th>\n      <th>votes</th>\n      <th>gross ($, in M)</th>\n    </tr>\n  </thead>\n  <tbody>\n    <tr>\n      <th>0</th>\n      <td>Notizie dal mondo</td>\n      <td>6.8</td>\n      <td>Tom Hanks, Helena Zengel, Tom Astor, Travis Jo...</td>\n      <td>Paul Greengrass</td>\n      <td>2020</td>\n      <td>55,453</td>\n      <td>NaN</td>\n    </tr>\n    <tr>\n      <th>1</th>\n      <td>Django Unchained</td>\n      <td>8.4</td>\n      <td>Jamie Foxx, Christoph Waltz, Leonardo DiCaprio...</td>\n      <td>Quentin Tarantino</td>\n      <td>2012</td>\n      <td>1,377,619</td>\n      <td>162.81</td>\n    </tr>\n    <tr>\n      <th>2</th>\n      <td>Tombstone</td>\n      <td>7.8</td>\n      <td>Kurt Russell, Val Kilmer, Sam Elliott, Bill Pa...</td>\n      <td>George P. Cosmatos, Kevin Jarre</td>\n      <td>1993</td>\n      <td>128,896</td>\n      <td>56.51</td>\n    </tr>\n    <tr>\n      <th>3</th>\n      <td>Balla coi lupi</td>\n      <td>8.0</td>\n      <td>Kevin Costner, Mary McDonnell, Graham Greene, ...</td>\n      <td>Kevin Costner</td>\n      <td>1990</td>\n      <td>243,507</td>\n      <td>184.21</td>\n    </tr>\n    <tr>\n      <th>4</th>\n      <td>The Hateful Eight</td>\n      <td>7.8</td>\n      <td>Samuel L. Jackson, Kurt Russell, Jennifer Jaso...</td>\n      <td>Quentin Tarantino</td>\n      <td>2015</td>\n      <td>526,087</td>\n      <td>54.12</td>\n    </tr>\n    <tr>\n      <th>...</th>\n      <td>...</td>\n      <td>...</td>\n      <td>...</td>\n      <td>...</td>\n      <td>...</td>\n      <td>...</td>\n      <td>...</td>\n    </tr>\n    <tr>\n      <th>95</th>\n      <td>I due volti della vendetta</td>\n      <td>7.1</td>\n      <td>Marlon Brando, Karl Malden, Pina Pellicer, Kat...</td>\n      <td>Marlon Brando</td>\n      <td>1961</td>\n      <td>10,286</td>\n      <td>NaN</td>\n    </tr>\n    <tr>\n      <th>96</th>\n      <td>Piccolo grande uomo</td>\n      <td>7.6</td>\n      <td>Dustin Hoffman, Faye Dunaway, Chief Dan George...</td>\n      <td>Arthur Penn</td>\n      <td>1970</td>\n      <td>33,100</td>\n      <td>31.56</td>\n    </tr>\n    <tr>\n      <th>97</th>\n      <td>I quattro figli di Katie Elder</td>\n      <td>7.2</td>\n      <td>John Wayne, Dean Martin, Martha Hyer, Michael ...</td>\n      <td>Henry Hathaway</td>\n      <td>1965</td>\n      <td>14,765</td>\n      <td>13.33</td>\n    </tr>\n    <tr>\n      <th>98</th>\n      <td>Giù la testa</td>\n      <td>7.6</td>\n      <td>Rod Steiger, James Coburn, Romolo Valli, Maria...</td>\n      <td>Sergio Leone</td>\n      <td>1971</td>\n      <td>30,533</td>\n      <td>0.70</td>\n    </tr>\n    <tr>\n      <th>99</th>\n      <td>Bad Girls</td>\n      <td>5.2</td>\n      <td>Madeleine Stowe, Mary Stuart Masterson, Andie ...</td>\n      <td>Jonathan Kaplan</td>\n      <td>1994</td>\n      <td>11,763</td>\n      <td>15.24</td>\n    </tr>\n  </tbody>\n</table>\n<p>100 rows × 7 columns</p>\n</div>"
     },
     "metadata": {},
     "execution_count": 36
    }
   ],
   "source": [
    "df = pd.DataFrame({'title': list_of_titles, 'ratings': list_of_ratings, 'actors': list_of_actors, 'directors': list_of_directors, 'year': list_of_years, 'votes': list_of_votes, 'gross ($, in M)': list_of_gross})\n",
    "df"
   ]
  },
  {
   "cell_type": "code",
   "execution_count": null,
   "metadata": {},
   "outputs": [],
   "source": []
  }
 ],
 "metadata": {
  "kernelspec": {
   "name": "python388jvsc74a57bd036d735e4d74651b5843b8bf8671694cee2df4263d27e1ed8e6896ce3326ae1ff",
   "display_name": "Python 3.8.8 64-bit ('Strive': conda)"
  },
  "language_info": {
   "codemirror_mode": {
    "name": "ipython",
    "version": 2
   },
   "file_extension": ".py",
   "mimetype": "text/x-python",
   "name": "python",
   "nbconvert_exporter": "python",
   "pygments_lexer": "ipython2",
   "version": "3.8.8-final"
  },
  "metadata": {
   "interpreter": {
    "hash": "36d735e4d74651b5843b8bf8671694cee2df4263d27e1ed8e6896ce3326ae1ff"
   }
  }
 },
 "nbformat": 4,
 "nbformat_minor": 0
}