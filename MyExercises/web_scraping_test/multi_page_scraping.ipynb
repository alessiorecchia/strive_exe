{
 "metadata": {
  "language_info": {
   "codemirror_mode": {
    "name": "ipython",
    "version": 3
   },
   "file_extension": ".py",
   "mimetype": "text/x-python",
   "name": "python",
   "nbconvert_exporter": "python",
   "pygments_lexer": "ipython3",
   "version": "3.8.8-final"
  },
  "orig_nbformat": 2,
  "kernelspec": {
   "name": "python388jvsc74a57bd036d735e4d74651b5843b8bf8671694cee2df4263d27e1ed8e6896ce3326ae1ff",
   "display_name": "Python 3.8.8 64-bit ('Strive': conda)"
  },
  "metadata": {
   "interpreter": {
    "hash": "36d735e4d74651b5843b8bf8671694cee2df4263d27e1ed8e6896ce3326ae1ff"
   }
  }
 },
 "nbformat": 4,
 "nbformat_minor": 2,
 "cells": [
  {
   "cell_type": "code",
   "execution_count": 33,
   "metadata": {},
   "outputs": [],
   "source": [
    "import pandas as pd\n",
    "import numpy as np\n",
    "import requests as rq\n",
    "import re\n",
    "from bs4 import BeautifulSoup\n"
   ]
  },
  {
   "cell_type": "code",
   "execution_count": null,
   "metadata": {},
   "outputs": [],
   "source": []
  },
  {
   "cell_type": "code",
   "execution_count": 68,
   "metadata": {
    "tags": []
   },
   "outputs": [
    {
     "output_type": "stream",
     "name": "stdout",
     "text": [
      "['https://www.imdb.com/title/tt5034838/', 'https://www.imdb.com/title/tt12361974/', 'https://www.imdb.com/title/tt0974015/', 'https://www.imdb.com/title/tt2076822/', 'https://www.imdb.com/title/tt3741700/', 'https://www.imdb.com/title/tt3731562/', 'https://www.imdb.com/title/tt0831387/', 'https://www.imdb.com/title/tt4154796/', 'https://www.imdb.com/title/tt6723592/', 'https://www.imdb.com/title/tt1386697/', 'https://www.imdb.com/title/tt2975590/', 'https://www.imdb.com/title/tt0770828/', 'https://www.imdb.com/title/tt4154756/', 'https://www.imdb.com/title/tt1477834/', 'https://www.imdb.com/title/tt0451279/', 'https://www.imdb.com/title/tt7638348/', 'https://www.imdb.com/title/tt2015381/', 'https://www.imdb.com/title/tt1856101/', 'https://www.imdb.com/title/tt0409459/', 'https://www.imdb.com/title/tt1825683/', 'https://www.imdb.com/title/tt3498820/', 'https://www.imdb.com/title/tt0458339/', 'https://www.imdb.com/title/tt3501632/', 'https://www.imdb.com/title/tt5463162/', 'https://www.imdb.com/title/tt0816692/', 'https://www.imdb.com/title/tt1375666/', 'https://www.imdb.com/title/tt1843866/', 'https://www.imdb.com/title/tt4154664/', 'https://www.imdb.com/title/tt2395427/', 'https://www.imdb.com/title/tt1086064/', 'https://www.imdb.com/title/tt1706620/', 'https://www.imdb.com/title/tt0088763/', 'https://www.imdb.com/title/tt0107290/', 'https://www.imdb.com/title/tt0848228/', 'https://www.imdb.com/title/tt1392190/', 'https://www.imdb.com/title/tt0133093/', 'https://www.imdb.com/title/tt0482571/', 'https://www.imdb.com/title/tt3896198/', 'https://www.imdb.com/title/tt0371746/', 'https://www.imdb.com/title/tt0120685/', 'https://www.imdb.com/title/tt6320628/', 'https://www.imdb.com/title/tt2250912/', 'https://www.imdb.com/title/tt0078748/', 'https://www.imdb.com/title/tt1431045/', 'https://www.imdb.com/title/tt4262980/', 'https://www.imdb.com/title/tt5580390/', 'https://www.imdb.com/title/tt0087182/', 'https://www.imdb.com/title/tt0499549/', 'https://www.imdb.com/title/tt1392170/', 'https://www.imdb.com/title/tt1051906/']\n"
     ]
    }
   ],
   "source": [
    "# get all link needed from base page\n",
    "\n",
    "movie_url_list = []\n",
    "\n",
    "url='https://www.imdb.com/search/title/?title_type=feature&num_votes=10000,&genres=sci-fi&languages=en'\n",
    "\n",
    "base = rq.get(url)\n",
    "\n",
    "base_content = BeautifulSoup(base.content, 'html.parser')\n",
    "\n",
    "item_h3 = base_content.find_all('h3', class_ = 'lister-item-header')\n",
    "\n",
    "for i in range(len(item_h3)):\n",
    "    link = item_h3[i].find_all('a', href = re.compile('title'))\n",
    "    movie_url_list.append('https://www.imdb.com' + link[0]['href'])\n",
    "\n",
    "print(url_list)\n"
   ]
  },
  {
   "cell_type": "code",
   "execution_count": null,
   "metadata": {},
   "outputs": [],
   "source": []
  }
 ]
}